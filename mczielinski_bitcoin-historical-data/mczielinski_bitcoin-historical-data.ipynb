{
 "cells": [
  {
   "cell_type": "markdown",
   "metadata": {
    "id": "KMim0zmN8cMj"
   },
   "source": [
    "# Bitcoin Historical Data\n",
    "Bitcoin data at 1-min intervals from select exchanges, Jan 2012 to March 2021\n",
    "\n",
    "Link: https://www.kaggle.com/datasets/mczielinski/bitcoin-historical-data"
   ]
  },
  {
   "cell_type": "code",
   "execution_count": 1,
   "metadata": {
    "ExecuteTime": {
     "end_time": "2022-05-16T09:41:19.843288Z",
     "start_time": "2022-05-16T09:41:14.662025Z"
    },
    "colab": {
     "base_uri": "https://localhost:8080/"
    },
    "executionInfo": {
     "elapsed": 1392,
     "status": "ok",
     "timestamp": 1647848827909,
     "user": {
      "displayName": "Aleksey Pestov",
      "photoUrl": "https://lh3.googleusercontent.com/a-/AOh14GhYgIiAr5rSxdvsLDGzQ-vzeD_eNpe7hebXMzVy5g=s64",
      "userId": "15001429278579118680"
     },
     "user_tz": -180
    },
    "id": "pEbiHxgg8Ysk",
    "outputId": "f1e725c0-5fa7-44c8-d71d-178cddc7c276"
   },
   "outputs": [],
   "source": [
    "import numpy as np\n",
    "import pandas as pd\n",
    "from catboost import CatBoostClassifier, Pool, sum_models, to_classifier\n",
    "from sklearn.model_selection import TimeSeriesSplit, train_test_split\n",
    "from sklearn.preprocessing import StandardScaler\n",
    "from tsfresh import extract_features\n",
    "from tsfresh.feature_extraction import ComprehensiveFCParameters"
   ]
  },
  {
   "cell_type": "code",
   "execution_count": 2,
   "metadata": {
    "ExecuteTime": {
     "end_time": "2022-05-16T09:41:20.281757Z",
     "start_time": "2022-05-16T09:41:19.844920Z"
    }
   },
   "outputs": [
    {
     "data": {
      "application/javascript": [
       "\n",
       "            setTimeout(function() {\n",
       "                var nbb_cell_id = 2;\n",
       "                var nbb_unformatted_code = \"%load_ext nb_black\";\n",
       "                var nbb_formatted_code = \"%load_ext nb_black\";\n",
       "                var nbb_cells = Jupyter.notebook.get_cells();\n",
       "                for (var i = 0; i < nbb_cells.length; ++i) {\n",
       "                    if (nbb_cells[i].input_prompt_number == nbb_cell_id) {\n",
       "                        if (nbb_cells[i].get_text() == nbb_unformatted_code) {\n",
       "                             nbb_cells[i].set_text(nbb_formatted_code);\n",
       "                        }\n",
       "                        break;\n",
       "                    }\n",
       "                }\n",
       "            }, 500);\n",
       "            "
      ],
      "text/plain": [
       "<IPython.core.display.Javascript object>"
      ]
     },
     "metadata": {},
     "output_type": "display_data"
    }
   ],
   "source": [
    "%load_ext nb_black"
   ]
  },
  {
   "cell_type": "code",
   "execution_count": 3,
   "metadata": {
    "ExecuteTime": {
     "end_time": "2022-05-16T09:41:45.246011Z",
     "start_time": "2022-05-16T09:41:20.283666Z"
    },
    "colab": {
     "base_uri": "https://localhost:8080/",
     "height": 455
    },
    "executionInfo": {
     "elapsed": 28486,
     "status": "ok",
     "timestamp": 1647848858083,
     "user": {
      "displayName": "Aleksey Pestov",
      "photoUrl": "https://lh3.googleusercontent.com/a-/AOh14GhYgIiAr5rSxdvsLDGzQ-vzeD_eNpe7hebXMzVy5g=s64",
      "userId": "15001429278579118680"
     },
     "user_tz": -180
    },
    "id": "sHy1U1EY8fkE",
    "outputId": "61beb965-a95b-458a-e95b-d212142947a1"
   },
   "outputs": [
    {
     "data": {
      "text/html": [
       "<div>\n",
       "<style scoped>\n",
       "    .dataframe tbody tr th:only-of-type {\n",
       "        vertical-align: middle;\n",
       "    }\n",
       "\n",
       "    .dataframe tbody tr th {\n",
       "        vertical-align: top;\n",
       "    }\n",
       "\n",
       "    .dataframe thead th {\n",
       "        text-align: right;\n",
       "    }\n",
       "</style>\n",
       "<table border=\"1\" class=\"dataframe\">\n",
       "  <thead>\n",
       "    <tr style=\"text-align: right;\">\n",
       "      <th></th>\n",
       "      <th>Open</th>\n",
       "      <th>High</th>\n",
       "      <th>Low</th>\n",
       "      <th>Close</th>\n",
       "      <th>Volume_(BTC)</th>\n",
       "      <th>Volume_(Currency)</th>\n",
       "      <th>Weighted_Price</th>\n",
       "      <th>Period</th>\n",
       "    </tr>\n",
       "    <tr>\n",
       "      <th>Timestamp</th>\n",
       "      <th></th>\n",
       "      <th></th>\n",
       "      <th></th>\n",
       "      <th></th>\n",
       "      <th></th>\n",
       "      <th></th>\n",
       "      <th></th>\n",
       "      <th></th>\n",
       "    </tr>\n",
       "  </thead>\n",
       "  <tbody>\n",
       "    <tr>\n",
       "      <th>2011-12-31 07:52:00</th>\n",
       "      <td>4.39</td>\n",
       "      <td>4.39</td>\n",
       "      <td>4.39</td>\n",
       "      <td>4.39</td>\n",
       "      <td>0.455581</td>\n",
       "      <td>2.000000</td>\n",
       "      <td>4.390000</td>\n",
       "      <td>2011-12-31 08:00:00</td>\n",
       "    </tr>\n",
       "    <tr>\n",
       "      <th>2011-12-31 07:53:00</th>\n",
       "      <td>0.00</td>\n",
       "      <td>0.00</td>\n",
       "      <td>0.00</td>\n",
       "      <td>0.00</td>\n",
       "      <td>0.000000</td>\n",
       "      <td>0.000000</td>\n",
       "      <td>0.000000</td>\n",
       "      <td>2011-12-31 08:00:00</td>\n",
       "    </tr>\n",
       "    <tr>\n",
       "      <th>2011-12-31 07:54:00</th>\n",
       "      <td>0.00</td>\n",
       "      <td>0.00</td>\n",
       "      <td>0.00</td>\n",
       "      <td>0.00</td>\n",
       "      <td>0.000000</td>\n",
       "      <td>0.000000</td>\n",
       "      <td>0.000000</td>\n",
       "      <td>2011-12-31 08:00:00</td>\n",
       "    </tr>\n",
       "    <tr>\n",
       "      <th>2011-12-31 07:55:00</th>\n",
       "      <td>0.00</td>\n",
       "      <td>0.00</td>\n",
       "      <td>0.00</td>\n",
       "      <td>0.00</td>\n",
       "      <td>0.000000</td>\n",
       "      <td>0.000000</td>\n",
       "      <td>0.000000</td>\n",
       "      <td>2011-12-31 08:00:00</td>\n",
       "    </tr>\n",
       "    <tr>\n",
       "      <th>2011-12-31 07:56:00</th>\n",
       "      <td>0.00</td>\n",
       "      <td>0.00</td>\n",
       "      <td>0.00</td>\n",
       "      <td>0.00</td>\n",
       "      <td>0.000000</td>\n",
       "      <td>0.000000</td>\n",
       "      <td>0.000000</td>\n",
       "      <td>2011-12-31 08:00:00</td>\n",
       "    </tr>\n",
       "    <tr>\n",
       "      <th>...</th>\n",
       "      <td>...</td>\n",
       "      <td>...</td>\n",
       "      <td>...</td>\n",
       "      <td>...</td>\n",
       "      <td>...</td>\n",
       "      <td>...</td>\n",
       "      <td>...</td>\n",
       "      <td>...</td>\n",
       "    </tr>\n",
       "    <tr>\n",
       "      <th>2021-03-30 23:56:00</th>\n",
       "      <td>58714.31</td>\n",
       "      <td>58714.31</td>\n",
       "      <td>58686.00</td>\n",
       "      <td>58686.00</td>\n",
       "      <td>1.384487</td>\n",
       "      <td>81259.372187</td>\n",
       "      <td>58692.753339</td>\n",
       "      <td>2021-03-31 00:00:00</td>\n",
       "    </tr>\n",
       "    <tr>\n",
       "      <th>2021-03-30 23:57:00</th>\n",
       "      <td>58683.97</td>\n",
       "      <td>58693.43</td>\n",
       "      <td>58683.97</td>\n",
       "      <td>58685.81</td>\n",
       "      <td>7.294848</td>\n",
       "      <td>428158.146640</td>\n",
       "      <td>58693.226508</td>\n",
       "      <td>2021-03-31 00:00:00</td>\n",
       "    </tr>\n",
       "    <tr>\n",
       "      <th>2021-03-30 23:58:00</th>\n",
       "      <td>58693.43</td>\n",
       "      <td>58723.84</td>\n",
       "      <td>58693.43</td>\n",
       "      <td>58723.84</td>\n",
       "      <td>1.705682</td>\n",
       "      <td>100117.070370</td>\n",
       "      <td>58696.198496</td>\n",
       "      <td>2021-03-31 00:00:00</td>\n",
       "    </tr>\n",
       "    <tr>\n",
       "      <th>2021-03-30 23:59:00</th>\n",
       "      <td>58742.18</td>\n",
       "      <td>58770.38</td>\n",
       "      <td>58742.18</td>\n",
       "      <td>58760.59</td>\n",
       "      <td>0.720415</td>\n",
       "      <td>42332.958633</td>\n",
       "      <td>58761.866202</td>\n",
       "      <td>2021-03-31 00:00:00</td>\n",
       "    </tr>\n",
       "    <tr>\n",
       "      <th>2021-03-31 00:00:00</th>\n",
       "      <td>58767.75</td>\n",
       "      <td>58778.18</td>\n",
       "      <td>58755.97</td>\n",
       "      <td>58778.18</td>\n",
       "      <td>2.712831</td>\n",
       "      <td>159417.751000</td>\n",
       "      <td>58764.349363</td>\n",
       "      <td>2021-03-31 00:00:00</td>\n",
       "    </tr>\n",
       "  </tbody>\n",
       "</table>\n",
       "<p>4857377 rows × 8 columns</p>\n",
       "</div>"
      ],
      "text/plain": [
       "                         Open      High       Low     Close  Volume_(BTC)  \\\n",
       "Timestamp                                                                   \n",
       "2011-12-31 07:52:00      4.39      4.39      4.39      4.39      0.455581   \n",
       "2011-12-31 07:53:00      0.00      0.00      0.00      0.00      0.000000   \n",
       "2011-12-31 07:54:00      0.00      0.00      0.00      0.00      0.000000   \n",
       "2011-12-31 07:55:00      0.00      0.00      0.00      0.00      0.000000   \n",
       "2011-12-31 07:56:00      0.00      0.00      0.00      0.00      0.000000   \n",
       "...                       ...       ...       ...       ...           ...   \n",
       "2021-03-30 23:56:00  58714.31  58714.31  58686.00  58686.00      1.384487   \n",
       "2021-03-30 23:57:00  58683.97  58693.43  58683.97  58685.81      7.294848   \n",
       "2021-03-30 23:58:00  58693.43  58723.84  58693.43  58723.84      1.705682   \n",
       "2021-03-30 23:59:00  58742.18  58770.38  58742.18  58760.59      0.720415   \n",
       "2021-03-31 00:00:00  58767.75  58778.18  58755.97  58778.18      2.712831   \n",
       "\n",
       "                     Volume_(Currency)  Weighted_Price              Period  \n",
       "Timestamp                                                                   \n",
       "2011-12-31 07:52:00           2.000000        4.390000 2011-12-31 08:00:00  \n",
       "2011-12-31 07:53:00           0.000000        0.000000 2011-12-31 08:00:00  \n",
       "2011-12-31 07:54:00           0.000000        0.000000 2011-12-31 08:00:00  \n",
       "2011-12-31 07:55:00           0.000000        0.000000 2011-12-31 08:00:00  \n",
       "2011-12-31 07:56:00           0.000000        0.000000 2011-12-31 08:00:00  \n",
       "...                                ...             ...                 ...  \n",
       "2021-03-30 23:56:00       81259.372187    58692.753339 2021-03-31 00:00:00  \n",
       "2021-03-30 23:57:00      428158.146640    58693.226508 2021-03-31 00:00:00  \n",
       "2021-03-30 23:58:00      100117.070370    58696.198496 2021-03-31 00:00:00  \n",
       "2021-03-30 23:59:00       42332.958633    58761.866202 2021-03-31 00:00:00  \n",
       "2021-03-31 00:00:00      159417.751000    58764.349363 2021-03-31 00:00:00  \n",
       "\n",
       "[4857377 rows x 8 columns]"
      ]
     },
     "execution_count": 3,
     "metadata": {},
     "output_type": "execute_result"
    },
    {
     "data": {
      "application/javascript": [
       "\n",
       "            setTimeout(function() {\n",
       "                var nbb_cell_id = 3;\n",
       "                var nbb_unformatted_code = \"df = pd.read_csv(\\n    \\\"../../data/mczielinski_bitcoin-historical-data/bitstampUSD_1-min_data_2012-01-01_to_2021-03-31.csv\\\"\\n)\\ndf[\\\"Timestamp\\\"] = pd.to_datetime(df[\\\"Timestamp\\\"], unit=\\\"s\\\")\\ndf.fillna(0, inplace=True)\\ndf.set_index(\\\"Timestamp\\\", inplace=True)\\ndf[\\\"Period\\\"] = df.index.round(\\\"30min\\\")\\ndf\";\n",
       "                var nbb_formatted_code = \"df = pd.read_csv(\\n    \\\"../../data/mczielinski_bitcoin-historical-data/bitstampUSD_1-min_data_2012-01-01_to_2021-03-31.csv\\\"\\n)\\ndf[\\\"Timestamp\\\"] = pd.to_datetime(df[\\\"Timestamp\\\"], unit=\\\"s\\\")\\ndf.fillna(0, inplace=True)\\ndf.set_index(\\\"Timestamp\\\", inplace=True)\\ndf[\\\"Period\\\"] = df.index.round(\\\"30min\\\")\\ndf\";\n",
       "                var nbb_cells = Jupyter.notebook.get_cells();\n",
       "                for (var i = 0; i < nbb_cells.length; ++i) {\n",
       "                    if (nbb_cells[i].input_prompt_number == nbb_cell_id) {\n",
       "                        if (nbb_cells[i].get_text() == nbb_unformatted_code) {\n",
       "                             nbb_cells[i].set_text(nbb_formatted_code);\n",
       "                        }\n",
       "                        break;\n",
       "                    }\n",
       "                }\n",
       "            }, 500);\n",
       "            "
      ],
      "text/plain": [
       "<IPython.core.display.Javascript object>"
      ]
     },
     "metadata": {},
     "output_type": "display_data"
    }
   ],
   "source": [
    "df = pd.read_csv(\n",
    "    \"../../data/mczielinski_bitcoin-historical-data/bitstampUSD_1-min_data_2012-01-01_to_2021-03-31.csv\"\n",
    ")\n",
    "df[\"Timestamp\"] = pd.to_datetime(df[\"Timestamp\"], unit=\"s\")\n",
    "df.fillna(0, inplace=True)\n",
    "df.set_index(\"Timestamp\", inplace=True)\n",
    "df[\"Period\"] = df.index.round(\"30min\")\n",
    "df"
   ]
  },
  {
   "cell_type": "code",
   "execution_count": 4,
   "metadata": {
    "ExecuteTime": {
     "end_time": "2022-05-16T09:41:45.727177Z",
     "start_time": "2022-05-16T09:41:45.266091Z"
    }
   },
   "outputs": [
    {
     "data": {
      "text/plain": [
       "2012    527040\n",
       "2016    527040\n",
       "2020    527040\n",
       "2013    525600\n",
       "2014    525600\n",
       "2017    525600\n",
       "2018    525600\n",
       "2019    525600\n",
       "2015    519128\n",
       "2021    128161\n",
       "2011       968\n",
       "Name: Timestamp, dtype: int64"
      ]
     },
     "execution_count": 4,
     "metadata": {},
     "output_type": "execute_result"
    },
    {
     "data": {
      "application/javascript": [
       "\n",
       "            setTimeout(function() {\n",
       "                var nbb_cell_id = 4;\n",
       "                var nbb_unformatted_code = \"df.index.year.value_counts()\";\n",
       "                var nbb_formatted_code = \"df.index.year.value_counts()\";\n",
       "                var nbb_cells = Jupyter.notebook.get_cells();\n",
       "                for (var i = 0; i < nbb_cells.length; ++i) {\n",
       "                    if (nbb_cells[i].input_prompt_number == nbb_cell_id) {\n",
       "                        if (nbb_cells[i].get_text() == nbb_unformatted_code) {\n",
       "                             nbb_cells[i].set_text(nbb_formatted_code);\n",
       "                        }\n",
       "                        break;\n",
       "                    }\n",
       "                }\n",
       "            }, 500);\n",
       "            "
      ],
      "text/plain": [
       "<IPython.core.display.Javascript object>"
      ]
     },
     "metadata": {},
     "output_type": "display_data"
    }
   ],
   "source": [
    "df.index.year.value_counts()"
   ]
  },
  {
   "cell_type": "code",
   "execution_count": 5,
   "metadata": {
    "ExecuteTime": {
     "end_time": "2022-05-16T09:41:46.276725Z",
     "start_time": "2022-05-16T09:41:45.731825Z"
    }
   },
   "outputs": [
    {
     "data": {
      "text/plain": [
       "(525600, 8)"
      ]
     },
     "execution_count": 5,
     "metadata": {},
     "output_type": "execute_result"
    },
    {
     "data": {
      "application/javascript": [
       "\n",
       "            setTimeout(function() {\n",
       "                var nbb_cell_id = 5;\n",
       "                var nbb_unformatted_code = \"df = df[df.index.year == 2019].copy()\\ndf.shape\";\n",
       "                var nbb_formatted_code = \"df = df[df.index.year == 2019].copy()\\ndf.shape\";\n",
       "                var nbb_cells = Jupyter.notebook.get_cells();\n",
       "                for (var i = 0; i < nbb_cells.length; ++i) {\n",
       "                    if (nbb_cells[i].input_prompt_number == nbb_cell_id) {\n",
       "                        if (nbb_cells[i].get_text() == nbb_unformatted_code) {\n",
       "                             nbb_cells[i].set_text(nbb_formatted_code);\n",
       "                        }\n",
       "                        break;\n",
       "                    }\n",
       "                }\n",
       "            }, 500);\n",
       "            "
      ],
      "text/plain": [
       "<IPython.core.display.Javascript object>"
      ]
     },
     "metadata": {},
     "output_type": "display_data"
    }
   ],
   "source": [
    "df = df[df.index.year == 2019].copy()\n",
    "df.shape"
   ]
  },
  {
   "cell_type": "markdown",
   "metadata": {},
   "source": [
    "# Prepare"
   ]
  },
  {
   "cell_type": "code",
   "execution_count": 6,
   "metadata": {
    "ExecuteTime": {
     "end_time": "2022-05-16T09:41:46.288876Z",
     "start_time": "2022-05-16T09:41:46.281197Z"
    }
   },
   "outputs": [
    {
     "data": {
      "application/javascript": [
       "\n",
       "            setTimeout(function() {\n",
       "                var nbb_cell_id = 6;\n",
       "                var nbb_unformatted_code = \"scaler = StandardScaler()\";\n",
       "                var nbb_formatted_code = \"scaler = StandardScaler()\";\n",
       "                var nbb_cells = Jupyter.notebook.get_cells();\n",
       "                for (var i = 0; i < nbb_cells.length; ++i) {\n",
       "                    if (nbb_cells[i].input_prompt_number == nbb_cell_id) {\n",
       "                        if (nbb_cells[i].get_text() == nbb_unformatted_code) {\n",
       "                             nbb_cells[i].set_text(nbb_formatted_code);\n",
       "                        }\n",
       "                        break;\n",
       "                    }\n",
       "                }\n",
       "            }, 500);\n",
       "            "
      ],
      "text/plain": [
       "<IPython.core.display.Javascript object>"
      ]
     },
     "metadata": {},
     "output_type": "display_data"
    }
   ],
   "source": [
    "scaler = StandardScaler()"
   ]
  },
  {
   "cell_type": "code",
   "execution_count": 7,
   "metadata": {
    "ExecuteTime": {
     "end_time": "2022-05-16T09:41:46.432615Z",
     "start_time": "2022-05-16T09:41:46.297735Z"
    },
    "colab": {
     "base_uri": "https://localhost:8080/",
     "height": 455
    },
    "executionInfo": {
     "elapsed": 7,
     "status": "ok",
     "timestamp": 1647848858651,
     "user": {
      "displayName": "Aleksey Pestov",
      "photoUrl": "https://lh3.googleusercontent.com/a-/AOh14GhYgIiAr5rSxdvsLDGzQ-vzeD_eNpe7hebXMzVy5g=s64",
      "userId": "15001429278579118680"
     },
     "user_tz": -180
    },
    "id": "ktFLg01r9NKP",
    "outputId": "8b7690ab-dcee-45e7-ccfe-91c33fcbce23"
   },
   "outputs": [
    {
     "data": {
      "text/html": [
       "<div>\n",
       "<style scoped>\n",
       "    .dataframe tbody tr th:only-of-type {\n",
       "        vertical-align: middle;\n",
       "    }\n",
       "\n",
       "    .dataframe tbody tr th {\n",
       "        vertical-align: top;\n",
       "    }\n",
       "\n",
       "    .dataframe thead th {\n",
       "        text-align: right;\n",
       "    }\n",
       "</style>\n",
       "<table border=\"1\" class=\"dataframe\">\n",
       "  <thead>\n",
       "    <tr style=\"text-align: right;\">\n",
       "      <th></th>\n",
       "      <th>Open</th>\n",
       "      <th>High</th>\n",
       "      <th>Low</th>\n",
       "      <th>Close</th>\n",
       "      <th>Period</th>\n",
       "    </tr>\n",
       "    <tr>\n",
       "      <th>Timestamp</th>\n",
       "      <th></th>\n",
       "      <th></th>\n",
       "      <th></th>\n",
       "      <th></th>\n",
       "      <th></th>\n",
       "    </tr>\n",
       "  </thead>\n",
       "  <tbody>\n",
       "    <tr>\n",
       "      <th>2019-01-01 00:00:00</th>\n",
       "      <td>-1.203847</td>\n",
       "      <td>-1.202548</td>\n",
       "      <td>-1.203487</td>\n",
       "      <td>-1.202431</td>\n",
       "      <td>2019-01-01</td>\n",
       "    </tr>\n",
       "    <tr>\n",
       "      <th>2019-01-01 00:01:00</th>\n",
       "      <td>-1.203546</td>\n",
       "      <td>-1.203951</td>\n",
       "      <td>-1.204592</td>\n",
       "      <td>-1.204967</td>\n",
       "      <td>2019-01-01</td>\n",
       "    </tr>\n",
       "    <tr>\n",
       "      <th>2019-01-01 00:02:00</th>\n",
       "      <td>-1.205268</td>\n",
       "      <td>-1.205671</td>\n",
       "      <td>-1.205983</td>\n",
       "      <td>-1.206358</td>\n",
       "      <td>2019-01-01</td>\n",
       "    </tr>\n",
       "    <tr>\n",
       "      <th>2019-01-01 00:03:00</th>\n",
       "      <td>-1.204192</td>\n",
       "      <td>-1.204596</td>\n",
       "      <td>-1.205396</td>\n",
       "      <td>-1.204380</td>\n",
       "      <td>2019-01-01</td>\n",
       "    </tr>\n",
       "    <tr>\n",
       "      <th>2019-01-01 00:04:00</th>\n",
       "      <td>-1.204364</td>\n",
       "      <td>-1.204768</td>\n",
       "      <td>-1.204699</td>\n",
       "      <td>-1.205074</td>\n",
       "      <td>2019-01-01</td>\n",
       "    </tr>\n",
       "    <tr>\n",
       "      <th>...</th>\n",
       "      <td>...</td>\n",
       "      <td>...</td>\n",
       "      <td>...</td>\n",
       "      <td>...</td>\n",
       "      <td>...</td>\n",
       "    </tr>\n",
       "    <tr>\n",
       "      <th>2019-12-31 23:55:00</th>\n",
       "      <td>-0.002605</td>\n",
       "      <td>-0.003733</td>\n",
       "      <td>-0.001091</td>\n",
       "      <td>-0.002168</td>\n",
       "      <td>2020-01-01</td>\n",
       "    </tr>\n",
       "    <tr>\n",
       "      <th>2019-12-31 23:56:00</th>\n",
       "      <td>-0.000259</td>\n",
       "      <td>-0.001730</td>\n",
       "      <td>-0.002987</td>\n",
       "      <td>-0.004404</td>\n",
       "      <td>2020-01-01</td>\n",
       "    </tr>\n",
       "    <tr>\n",
       "      <th>2019-12-31 23:57:00</th>\n",
       "      <td>-0.006562</td>\n",
       "      <td>-0.005760</td>\n",
       "      <td>-0.005939</td>\n",
       "      <td>-0.005546</td>\n",
       "      <td>2020-01-01</td>\n",
       "    </tr>\n",
       "    <tr>\n",
       "      <th>2019-12-31 23:58:00</th>\n",
       "      <td>-0.005641</td>\n",
       "      <td>-0.006966</td>\n",
       "      <td>-0.005822</td>\n",
       "      <td>-0.005404</td>\n",
       "      <td>2020-01-01</td>\n",
       "    </tr>\n",
       "    <tr>\n",
       "      <th>2019-12-31 23:59:00</th>\n",
       "      <td>-0.005499</td>\n",
       "      <td>-0.005615</td>\n",
       "      <td>-0.003988</td>\n",
       "      <td>-0.005038</td>\n",
       "      <td>2020-01-01</td>\n",
       "    </tr>\n",
       "  </tbody>\n",
       "</table>\n",
       "<p>525600 rows × 5 columns</p>\n",
       "</div>"
      ],
      "text/plain": [
       "                         Open      High       Low     Close     Period\n",
       "Timestamp                                                             \n",
       "2019-01-01 00:00:00 -1.203847 -1.202548 -1.203487 -1.202431 2019-01-01\n",
       "2019-01-01 00:01:00 -1.203546 -1.203951 -1.204592 -1.204967 2019-01-01\n",
       "2019-01-01 00:02:00 -1.205268 -1.205671 -1.205983 -1.206358 2019-01-01\n",
       "2019-01-01 00:03:00 -1.204192 -1.204596 -1.205396 -1.204380 2019-01-01\n",
       "2019-01-01 00:04:00 -1.204364 -1.204768 -1.204699 -1.205074 2019-01-01\n",
       "...                       ...       ...       ...       ...        ...\n",
       "2019-12-31 23:55:00 -0.002605 -0.003733 -0.001091 -0.002168 2020-01-01\n",
       "2019-12-31 23:56:00 -0.000259 -0.001730 -0.002987 -0.004404 2020-01-01\n",
       "2019-12-31 23:57:00 -0.006562 -0.005760 -0.005939 -0.005546 2020-01-01\n",
       "2019-12-31 23:58:00 -0.005641 -0.006966 -0.005822 -0.005404 2020-01-01\n",
       "2019-12-31 23:59:00 -0.005499 -0.005615 -0.003988 -0.005038 2020-01-01\n",
       "\n",
       "[525600 rows x 5 columns]"
      ]
     },
     "execution_count": 7,
     "metadata": {},
     "output_type": "execute_result"
    },
    {
     "data": {
      "application/javascript": [
       "\n",
       "            setTimeout(function() {\n",
       "                var nbb_cell_id = 7;\n",
       "                var nbb_unformatted_code = \"X = df[[\\\"Open\\\", \\\"High\\\", \\\"Low\\\", \\\"Close\\\"]].copy()\\nX[X.columns] = scaler.fit_transform(X)\\nX[\\\"Period\\\"] = X.index.round(\\\"30min\\\")\\nX\";\n",
       "                var nbb_formatted_code = \"X = df[[\\\"Open\\\", \\\"High\\\", \\\"Low\\\", \\\"Close\\\"]].copy()\\nX[X.columns] = scaler.fit_transform(X)\\nX[\\\"Period\\\"] = X.index.round(\\\"30min\\\")\\nX\";\n",
       "                var nbb_cells = Jupyter.notebook.get_cells();\n",
       "                for (var i = 0; i < nbb_cells.length; ++i) {\n",
       "                    if (nbb_cells[i].input_prompt_number == nbb_cell_id) {\n",
       "                        if (nbb_cells[i].get_text() == nbb_unformatted_code) {\n",
       "                             nbb_cells[i].set_text(nbb_formatted_code);\n",
       "                        }\n",
       "                        break;\n",
       "                    }\n",
       "                }\n",
       "            }, 500);\n",
       "            "
      ],
      "text/plain": [
       "<IPython.core.display.Javascript object>"
      ]
     },
     "metadata": {},
     "output_type": "display_data"
    }
   ],
   "source": [
    "X = df[[\"Open\", \"High\", \"Low\", \"Close\"]].copy()\n",
    "X[X.columns] = scaler.fit_transform(X)\n",
    "X[\"Period\"] = X.index.round(\"30min\")\n",
    "X"
   ]
  },
  {
   "cell_type": "code",
   "execution_count": 8,
   "metadata": {
    "ExecuteTime": {
     "end_time": "2022-05-16T10:11:45.575565Z",
     "start_time": "2022-05-16T09:41:46.435694Z"
    },
    "colab": {
     "base_uri": "https://localhost:8080/"
    },
    "id": "0cH7Pv5G-M-p",
    "outputId": "bd618f45-f868-4c9c-8082-859b40a159e5"
   },
   "outputs": [
    {
     "name": "stderr",
     "output_type": "stream",
     "text": [
      "Feature Extraction: 100%|███████████████████████████████████████████████| 30/30 [25:36<00:00, 51.21s/it]\n"
     ]
    },
    {
     "data": {
      "text/plain": [
       "(17521, 3152)"
      ]
     },
     "execution_count": 8,
     "metadata": {},
     "output_type": "execute_result"
    },
    {
     "data": {
      "application/javascript": [
       "\n",
       "            setTimeout(function() {\n",
       "                var nbb_cell_id = 8;\n",
       "                var nbb_unformatted_code = \"# https://tsfresh.readthedocs.io/en/latest/text/feature_extraction_settings.html\\n# https://otus.ru/nest/post/1024/\\nX = extract_features(\\n    X, column_id=\\\"Period\\\", default_fc_parameters=ComprehensiveFCParameters()\\n)\\nX.shape\";\n",
       "                var nbb_formatted_code = \"# https://tsfresh.readthedocs.io/en/latest/text/feature_extraction_settings.html\\n# https://otus.ru/nest/post/1024/\\nX = extract_features(\\n    X, column_id=\\\"Period\\\", default_fc_parameters=ComprehensiveFCParameters()\\n)\\nX.shape\";\n",
       "                var nbb_cells = Jupyter.notebook.get_cells();\n",
       "                for (var i = 0; i < nbb_cells.length; ++i) {\n",
       "                    if (nbb_cells[i].input_prompt_number == nbb_cell_id) {\n",
       "                        if (nbb_cells[i].get_text() == nbb_unformatted_code) {\n",
       "                             nbb_cells[i].set_text(nbb_formatted_code);\n",
       "                        }\n",
       "                        break;\n",
       "                    }\n",
       "                }\n",
       "            }, 500);\n",
       "            "
      ],
      "text/plain": [
       "<IPython.core.display.Javascript object>"
      ]
     },
     "metadata": {},
     "output_type": "display_data"
    }
   ],
   "source": [
    "# https://tsfresh.readthedocs.io/en/latest/text/feature_extraction_settings.html\n",
    "# https://otus.ru/nest/post/1024/\n",
    "X = extract_features(\n",
    "    X, column_id=\"Period\", default_fc_parameters=ComprehensiveFCParameters()\n",
    ")\n",
    "X.shape"
   ]
  },
  {
   "cell_type": "code",
   "execution_count": 9,
   "metadata": {
    "ExecuteTime": {
     "end_time": "2022-05-16T10:11:45.592988Z",
     "start_time": "2022-05-16T10:11:45.576415Z"
    }
   },
   "outputs": [
    {
     "data": {
      "text/html": [
       "<div>\n",
       "<style scoped>\n",
       "    .dataframe tbody tr th:only-of-type {\n",
       "        vertical-align: middle;\n",
       "    }\n",
       "\n",
       "    .dataframe tbody tr th {\n",
       "        vertical-align: top;\n",
       "    }\n",
       "\n",
       "    .dataframe thead th {\n",
       "        text-align: right;\n",
       "    }\n",
       "</style>\n",
       "<table border=\"1\" class=\"dataframe\">\n",
       "  <thead>\n",
       "    <tr style=\"text-align: right;\">\n",
       "      <th></th>\n",
       "      <th>Weighted_Price</th>\n",
       "    </tr>\n",
       "    <tr>\n",
       "      <th>Period</th>\n",
       "      <th></th>\n",
       "    </tr>\n",
       "  </thead>\n",
       "  <tbody>\n",
       "    <tr>\n",
       "      <th>2019-01-01 00:00:00</th>\n",
       "      <td>2767.072716</td>\n",
       "    </tr>\n",
       "    <tr>\n",
       "      <th>2019-01-01 00:30:00</th>\n",
       "      <td>2545.995022</td>\n",
       "    </tr>\n",
       "    <tr>\n",
       "      <th>2019-01-01 01:00:00</th>\n",
       "      <td>2860.814664</td>\n",
       "    </tr>\n",
       "    <tr>\n",
       "      <th>2019-01-01 01:30:00</th>\n",
       "      <td>2163.408399</td>\n",
       "    </tr>\n",
       "    <tr>\n",
       "      <th>2019-01-01 02:00:00</th>\n",
       "      <td>3205.776311</td>\n",
       "    </tr>\n",
       "    <tr>\n",
       "      <th>...</th>\n",
       "      <td>...</td>\n",
       "    </tr>\n",
       "    <tr>\n",
       "      <th>2019-12-31 22:00:00</th>\n",
       "      <td>7158.608490</td>\n",
       "    </tr>\n",
       "    <tr>\n",
       "      <th>2019-12-31 22:30:00</th>\n",
       "      <td>6918.165685</td>\n",
       "    </tr>\n",
       "    <tr>\n",
       "      <th>2019-12-31 23:00:00</th>\n",
       "      <td>7172.228421</td>\n",
       "    </tr>\n",
       "    <tr>\n",
       "      <th>2019-12-31 23:30:00</th>\n",
       "      <td>6918.312048</td>\n",
       "    </tr>\n",
       "    <tr>\n",
       "      <th>2020-01-01 00:00:00</th>\n",
       "      <td>6693.794769</td>\n",
       "    </tr>\n",
       "  </tbody>\n",
       "</table>\n",
       "<p>17521 rows × 1 columns</p>\n",
       "</div>"
      ],
      "text/plain": [
       "                     Weighted_Price\n",
       "Period                             \n",
       "2019-01-01 00:00:00     2767.072716\n",
       "2019-01-01 00:30:00     2545.995022\n",
       "2019-01-01 01:00:00     2860.814664\n",
       "2019-01-01 01:30:00     2163.408399\n",
       "2019-01-01 02:00:00     3205.776311\n",
       "...                             ...\n",
       "2019-12-31 22:00:00     7158.608490\n",
       "2019-12-31 22:30:00     6918.165685\n",
       "2019-12-31 23:00:00     7172.228421\n",
       "2019-12-31 23:30:00     6918.312048\n",
       "2020-01-01 00:00:00     6693.794769\n",
       "\n",
       "[17521 rows x 1 columns]"
      ]
     },
     "execution_count": 9,
     "metadata": {},
     "output_type": "execute_result"
    },
    {
     "data": {
      "application/javascript": [
       "\n",
       "            setTimeout(function() {\n",
       "                var nbb_cell_id = 9;\n",
       "                var nbb_unformatted_code = \"y = df[[\\\"Weighted_Price\\\", \\\"Period\\\"]].groupby(\\\"Period\\\").mean()\\ny\";\n",
       "                var nbb_formatted_code = \"y = df[[\\\"Weighted_Price\\\", \\\"Period\\\"]].groupby(\\\"Period\\\").mean()\\ny\";\n",
       "                var nbb_cells = Jupyter.notebook.get_cells();\n",
       "                for (var i = 0; i < nbb_cells.length; ++i) {\n",
       "                    if (nbb_cells[i].input_prompt_number == nbb_cell_id) {\n",
       "                        if (nbb_cells[i].get_text() == nbb_unformatted_code) {\n",
       "                             nbb_cells[i].set_text(nbb_formatted_code);\n",
       "                        }\n",
       "                        break;\n",
       "                    }\n",
       "                }\n",
       "            }, 500);\n",
       "            "
      ],
      "text/plain": [
       "<IPython.core.display.Javascript object>"
      ]
     },
     "metadata": {},
     "output_type": "display_data"
    }
   ],
   "source": [
    "y = df[[\"Weighted_Price\", \"Period\"]].groupby(\"Period\").mean()\n",
    "y"
   ]
  },
  {
   "cell_type": "code",
   "execution_count": 10,
   "metadata": {
    "ExecuteTime": {
     "end_time": "2022-05-16T10:11:45.608438Z",
     "start_time": "2022-05-16T10:11:45.594289Z"
    }
   },
   "outputs": [
    {
     "data": {
      "text/html": [
       "<div>\n",
       "<style scoped>\n",
       "    .dataframe tbody tr th:only-of-type {\n",
       "        vertical-align: middle;\n",
       "    }\n",
       "\n",
       "    .dataframe tbody tr th {\n",
       "        vertical-align: top;\n",
       "    }\n",
       "\n",
       "    .dataframe thead th {\n",
       "        text-align: right;\n",
       "    }\n",
       "</style>\n",
       "<table border=\"1\" class=\"dataframe\">\n",
       "  <thead>\n",
       "    <tr style=\"text-align: right;\">\n",
       "      <th></th>\n",
       "      <th>Weighted_Price</th>\n",
       "      <th>Weighted_Price_1</th>\n",
       "      <th>Target</th>\n",
       "    </tr>\n",
       "    <tr>\n",
       "      <th>Period</th>\n",
       "      <th></th>\n",
       "      <th></th>\n",
       "      <th></th>\n",
       "    </tr>\n",
       "  </thead>\n",
       "  <tbody>\n",
       "    <tr>\n",
       "      <th>2019-01-01 00:00:00</th>\n",
       "      <td>2767.072716</td>\n",
       "      <td>2545.995022</td>\n",
       "      <td>0</td>\n",
       "    </tr>\n",
       "    <tr>\n",
       "      <th>2019-01-01 00:30:00</th>\n",
       "      <td>2545.995022</td>\n",
       "      <td>2860.814664</td>\n",
       "      <td>1</td>\n",
       "    </tr>\n",
       "    <tr>\n",
       "      <th>2019-01-01 01:00:00</th>\n",
       "      <td>2860.814664</td>\n",
       "      <td>2163.408399</td>\n",
       "      <td>0</td>\n",
       "    </tr>\n",
       "    <tr>\n",
       "      <th>2019-01-01 01:30:00</th>\n",
       "      <td>2163.408399</td>\n",
       "      <td>3205.776311</td>\n",
       "      <td>1</td>\n",
       "    </tr>\n",
       "    <tr>\n",
       "      <th>2019-01-01 02:00:00</th>\n",
       "      <td>3205.776311</td>\n",
       "      <td>3551.331120</td>\n",
       "      <td>1</td>\n",
       "    </tr>\n",
       "    <tr>\n",
       "      <th>...</th>\n",
       "      <td>...</td>\n",
       "      <td>...</td>\n",
       "      <td>...</td>\n",
       "    </tr>\n",
       "    <tr>\n",
       "      <th>2019-12-31 22:00:00</th>\n",
       "      <td>7158.608490</td>\n",
       "      <td>6918.165685</td>\n",
       "      <td>0</td>\n",
       "    </tr>\n",
       "    <tr>\n",
       "      <th>2019-12-31 22:30:00</th>\n",
       "      <td>6918.165685</td>\n",
       "      <td>7172.228421</td>\n",
       "      <td>1</td>\n",
       "    </tr>\n",
       "    <tr>\n",
       "      <th>2019-12-31 23:00:00</th>\n",
       "      <td>7172.228421</td>\n",
       "      <td>6918.312048</td>\n",
       "      <td>0</td>\n",
       "    </tr>\n",
       "    <tr>\n",
       "      <th>2019-12-31 23:30:00</th>\n",
       "      <td>6918.312048</td>\n",
       "      <td>6693.794769</td>\n",
       "      <td>0</td>\n",
       "    </tr>\n",
       "    <tr>\n",
       "      <th>2020-01-01 00:00:00</th>\n",
       "      <td>6693.794769</td>\n",
       "      <td>0.000000</td>\n",
       "      <td>0</td>\n",
       "    </tr>\n",
       "  </tbody>\n",
       "</table>\n",
       "<p>17521 rows × 3 columns</p>\n",
       "</div>"
      ],
      "text/plain": [
       "                     Weighted_Price  Weighted_Price_1  Target\n",
       "Period                                                       \n",
       "2019-01-01 00:00:00     2767.072716       2545.995022       0\n",
       "2019-01-01 00:30:00     2545.995022       2860.814664       1\n",
       "2019-01-01 01:00:00     2860.814664       2163.408399       0\n",
       "2019-01-01 01:30:00     2163.408399       3205.776311       1\n",
       "2019-01-01 02:00:00     3205.776311       3551.331120       1\n",
       "...                             ...               ...     ...\n",
       "2019-12-31 22:00:00     7158.608490       6918.165685       0\n",
       "2019-12-31 22:30:00     6918.165685       7172.228421       1\n",
       "2019-12-31 23:00:00     7172.228421       6918.312048       0\n",
       "2019-12-31 23:30:00     6918.312048       6693.794769       0\n",
       "2020-01-01 00:00:00     6693.794769          0.000000       0\n",
       "\n",
       "[17521 rows x 3 columns]"
      ]
     },
     "execution_count": 10,
     "metadata": {},
     "output_type": "execute_result"
    },
    {
     "data": {
      "application/javascript": [
       "\n",
       "            setTimeout(function() {\n",
       "                var nbb_cell_id = 10;\n",
       "                var nbb_unformatted_code = \"y[\\\"Weighted_Price_1\\\"] = y[\\\"Weighted_Price\\\"].shift(-1).fillna(0)\\ny[\\\"Target\\\"] = (y[\\\"Weighted_Price_1\\\"] > y[\\\"Weighted_Price\\\"]).astype(int)\\ny\";\n",
       "                var nbb_formatted_code = \"y[\\\"Weighted_Price_1\\\"] = y[\\\"Weighted_Price\\\"].shift(-1).fillna(0)\\ny[\\\"Target\\\"] = (y[\\\"Weighted_Price_1\\\"] > y[\\\"Weighted_Price\\\"]).astype(int)\\ny\";\n",
       "                var nbb_cells = Jupyter.notebook.get_cells();\n",
       "                for (var i = 0; i < nbb_cells.length; ++i) {\n",
       "                    if (nbb_cells[i].input_prompt_number == nbb_cell_id) {\n",
       "                        if (nbb_cells[i].get_text() == nbb_unformatted_code) {\n",
       "                             nbb_cells[i].set_text(nbb_formatted_code);\n",
       "                        }\n",
       "                        break;\n",
       "                    }\n",
       "                }\n",
       "            }, 500);\n",
       "            "
      ],
      "text/plain": [
       "<IPython.core.display.Javascript object>"
      ]
     },
     "metadata": {},
     "output_type": "display_data"
    }
   ],
   "source": [
    "y[\"Weighted_Price_1\"] = y[\"Weighted_Price\"].shift(-1).fillna(0)\n",
    "y[\"Target\"] = (y[\"Weighted_Price_1\"] > y[\"Weighted_Price\"]).astype(int)\n",
    "y"
   ]
  },
  {
   "cell_type": "code",
   "execution_count": 11,
   "metadata": {
    "ExecuteTime": {
     "end_time": "2022-05-16T10:11:45.615797Z",
     "start_time": "2022-05-16T10:11:45.609541Z"
    }
   },
   "outputs": [
    {
     "data": {
      "text/plain": [
       "Target\n",
       "1         8830\n",
       "0         8691\n",
       "dtype: int64"
      ]
     },
     "execution_count": 11,
     "metadata": {},
     "output_type": "execute_result"
    },
    {
     "data": {
      "application/javascript": [
       "\n",
       "            setTimeout(function() {\n",
       "                var nbb_cell_id = 11;\n",
       "                var nbb_unformatted_code = \"y = y[[\\\"Target\\\"]]\\ny.value_counts()\";\n",
       "                var nbb_formatted_code = \"y = y[[\\\"Target\\\"]]\\ny.value_counts()\";\n",
       "                var nbb_cells = Jupyter.notebook.get_cells();\n",
       "                for (var i = 0; i < nbb_cells.length; ++i) {\n",
       "                    if (nbb_cells[i].input_prompt_number == nbb_cell_id) {\n",
       "                        if (nbb_cells[i].get_text() == nbb_unformatted_code) {\n",
       "                             nbb_cells[i].set_text(nbb_formatted_code);\n",
       "                        }\n",
       "                        break;\n",
       "                    }\n",
       "                }\n",
       "            }, 500);\n",
       "            "
      ],
      "text/plain": [
       "<IPython.core.display.Javascript object>"
      ]
     },
     "metadata": {},
     "output_type": "display_data"
    }
   ],
   "source": [
    "y = y[[\"Target\"]]\n",
    "y.value_counts()"
   ]
  },
  {
   "cell_type": "code",
   "execution_count": 12,
   "metadata": {},
   "outputs": [
    {
     "data": {
      "application/javascript": [
       "\n",
       "            setTimeout(function() {\n",
       "                var nbb_cell_id = 12;\n",
       "                var nbb_unformatted_code = \"X.join(y).to_csv(\\n    \\\"../../data/mczielinski_bitcoin-historical-data/bitstampUSD_30min_tsfresh_2019.csv.gz\\\",\\n    compression=\\\"gzip\\\",\\n)\";\n",
       "                var nbb_formatted_code = \"X.join(y).to_csv(\\n    \\\"../../data/mczielinski_bitcoin-historical-data/bitstampUSD_30min_tsfresh_2019.csv.gz\\\",\\n    compression=\\\"gzip\\\",\\n)\";\n",
       "                var nbb_cells = Jupyter.notebook.get_cells();\n",
       "                for (var i = 0; i < nbb_cells.length; ++i) {\n",
       "                    if (nbb_cells[i].input_prompt_number == nbb_cell_id) {\n",
       "                        if (nbb_cells[i].get_text() == nbb_unformatted_code) {\n",
       "                             nbb_cells[i].set_text(nbb_formatted_code);\n",
       "                        }\n",
       "                        break;\n",
       "                    }\n",
       "                }\n",
       "            }, 500);\n",
       "            "
      ],
      "text/plain": [
       "<IPython.core.display.Javascript object>"
      ]
     },
     "metadata": {},
     "output_type": "display_data"
    }
   ],
   "source": [
    "X.join(y).to_csv(\n",
    "    \"../../data/mczielinski_bitcoin-historical-data/bitstampUSD_30min_tsfresh_2019.csv.gz\",\n",
    "    compression=\"gzip\",\n",
    ")"
   ]
  },
  {
   "cell_type": "markdown",
   "metadata": {},
   "source": [
    "# Train"
   ]
  },
  {
   "cell_type": "code",
   "execution_count": 13,
   "metadata": {},
   "outputs": [
    {
     "data": {
      "text/plain": [
       "((17521, 3152), (17521, 1))"
      ]
     },
     "execution_count": 13,
     "metadata": {},
     "output_type": "execute_result"
    },
    {
     "data": {
      "application/javascript": [
       "\n",
       "            setTimeout(function() {\n",
       "                var nbb_cell_id = 13;\n",
       "                var nbb_unformatted_code = \"X.shape, y.shape\";\n",
       "                var nbb_formatted_code = \"X.shape, y.shape\";\n",
       "                var nbb_cells = Jupyter.notebook.get_cells();\n",
       "                for (var i = 0; i < nbb_cells.length; ++i) {\n",
       "                    if (nbb_cells[i].input_prompt_number == nbb_cell_id) {\n",
       "                        if (nbb_cells[i].get_text() == nbb_unformatted_code) {\n",
       "                             nbb_cells[i].set_text(nbb_formatted_code);\n",
       "                        }\n",
       "                        break;\n",
       "                    }\n",
       "                }\n",
       "            }, 500);\n",
       "            "
      ],
      "text/plain": [
       "<IPython.core.display.Javascript object>"
      ]
     },
     "metadata": {},
     "output_type": "display_data"
    }
   ],
   "source": [
    "X.shape, y.shape"
   ]
  },
  {
   "cell_type": "markdown",
   "metadata": {},
   "source": [
    "## Hyperparameter tuning"
   ]
  },
  {
   "cell_type": "code",
   "execution_count": 14,
   "metadata": {
    "ExecuteTime": {
     "end_time": "2022-05-16T10:11:45.619673Z",
     "start_time": "2022-05-16T10:11:45.616527Z"
    }
   },
   "outputs": [
    {
     "data": {
      "application/javascript": [
       "\n",
       "            setTimeout(function() {\n",
       "                var nbb_cell_id = 14;\n",
       "                var nbb_unformatted_code = \"tscv = TimeSeriesSplit(n_splits=10)\";\n",
       "                var nbb_formatted_code = \"tscv = TimeSeriesSplit(n_splits=10)\";\n",
       "                var nbb_cells = Jupyter.notebook.get_cells();\n",
       "                for (var i = 0; i < nbb_cells.length; ++i) {\n",
       "                    if (nbb_cells[i].input_prompt_number == nbb_cell_id) {\n",
       "                        if (nbb_cells[i].get_text() == nbb_unformatted_code) {\n",
       "                             nbb_cells[i].set_text(nbb_formatted_code);\n",
       "                        }\n",
       "                        break;\n",
       "                    }\n",
       "                }\n",
       "            }, 500);\n",
       "            "
      ],
      "text/plain": [
       "<IPython.core.display.Javascript object>"
      ]
     },
     "metadata": {},
     "output_type": "display_data"
    }
   ],
   "source": [
    "tscv = TimeSeriesSplit(n_splits=10)"
   ]
  },
  {
   "cell_type": "code",
   "execution_count": 15,
   "metadata": {
    "ExecuteTime": {
     "end_time": "2022-05-16T10:44:36.591618Z",
     "start_time": "2022-05-16T10:11:45.620363Z"
    }
   },
   "outputs": [
    {
     "data": {
      "application/vnd.jupyter.widget-view+json": {
       "model_id": "f6f9453d378c4b9eaf79a4f33c817351",
       "version_major": 2,
       "version_minor": 0
      },
      "text/plain": [
       "MetricVisualizer(layout=Layout(align_self='stretch', height='500px'))"
      ]
     },
     "metadata": {},
     "output_type": "display_data"
    },
    {
     "data": {
      "application/javascript": [
       "\n",
       "            setTimeout(function() {\n",
       "                var nbb_cell_id = 15;\n",
       "                var nbb_unformatted_code = \"model = CatBoostClassifier(logging_level=\\\"Silent\\\")\\n\\n# https://catboost.ai/en/docs/concepts/parameter-tuning\\n# https://docs.aws.amazon.com/sagemaker/latest/dg/catboost-tuning.html\\ntuned_params = {\\n    \\\"learning_rate\\\": np.concatenate(\\n        (\\n            np.arange(1, 10, 1) / 10,\\n            np.arange(1, 10, 1) / 100,\\n            np.arange(1, 10, 1) / 1000,\\n        )\\n    ),\\n    \\\"depth\\\": np.arange(1, 11),\\n    \\\"l2_leaf_reg\\\": np.concatenate((np.arange(1, 10), np.arange(10, 110, 10))),\\n    \\\"random_strength\\\": np.arange(1, 11),\\n    \\\"iterations\\\": np.arange(100, 1100, 100),\\n}\\n\\ngrid_search_result = model.randomized_search(\\n    tuned_params, Pool(X, y), cv=3, verbose=False, plot=True\\n)\";\n",
       "                var nbb_formatted_code = \"model = CatBoostClassifier(logging_level=\\\"Silent\\\")\\n\\n# https://catboost.ai/en/docs/concepts/parameter-tuning\\n# https://docs.aws.amazon.com/sagemaker/latest/dg/catboost-tuning.html\\ntuned_params = {\\n    \\\"learning_rate\\\": np.concatenate(\\n        (\\n            np.arange(1, 10, 1) / 10,\\n            np.arange(1, 10, 1) / 100,\\n            np.arange(1, 10, 1) / 1000,\\n        )\\n    ),\\n    \\\"depth\\\": np.arange(1, 11),\\n    \\\"l2_leaf_reg\\\": np.concatenate((np.arange(1, 10), np.arange(10, 110, 10))),\\n    \\\"random_strength\\\": np.arange(1, 11),\\n    \\\"iterations\\\": np.arange(100, 1100, 100),\\n}\\n\\ngrid_search_result = model.randomized_search(\\n    tuned_params, Pool(X, y), cv=3, verbose=False, plot=True\\n)\";\n",
       "                var nbb_cells = Jupyter.notebook.get_cells();\n",
       "                for (var i = 0; i < nbb_cells.length; ++i) {\n",
       "                    if (nbb_cells[i].input_prompt_number == nbb_cell_id) {\n",
       "                        if (nbb_cells[i].get_text() == nbb_unformatted_code) {\n",
       "                             nbb_cells[i].set_text(nbb_formatted_code);\n",
       "                        }\n",
       "                        break;\n",
       "                    }\n",
       "                }\n",
       "            }, 500);\n",
       "            "
      ],
      "text/plain": [
       "<IPython.core.display.Javascript object>"
      ]
     },
     "metadata": {},
     "output_type": "display_data"
    }
   ],
   "source": [
    "model = CatBoostClassifier(logging_level=\"Silent\")\n",
    "\n",
    "# https://catboost.ai/en/docs/concepts/parameter-tuning\n",
    "# https://docs.aws.amazon.com/sagemaker/latest/dg/catboost-tuning.html\n",
    "tuned_params = {\n",
    "    \"learning_rate\": np.concatenate(\n",
    "        (\n",
    "            np.arange(1, 10, 1) / 10,\n",
    "            np.arange(1, 10, 1) / 100,\n",
    "            np.arange(1, 10, 1) / 1000,\n",
    "        )\n",
    "    ),\n",
    "    \"depth\": np.arange(1, 11),\n",
    "    \"l2_leaf_reg\": np.concatenate((np.arange(1, 10), np.arange(10, 110, 10))),\n",
    "    \"random_strength\": np.arange(1, 11),\n",
    "    \"iterations\": np.arange(100, 1100, 100),\n",
    "}\n",
    "\n",
    "grid_search_result = model.randomized_search(\n",
    "    tuned_params, Pool(X, y), cv=3, verbose=False, plot=True\n",
    ")"
   ]
  },
  {
   "cell_type": "code",
   "execution_count": 16,
   "metadata": {
    "ExecuteTime": {
     "end_time": "2022-05-16T10:44:36.597466Z",
     "start_time": "2022-05-16T10:44:36.592801Z"
    }
   },
   "outputs": [
    {
     "data": {
      "text/plain": [
       "{'random_strength': 3,\n",
       " 'depth': 6,\n",
       " 'l2_leaf_reg': 8,\n",
       " 'iterations': 900,\n",
       " 'learning_rate': 0.05}"
      ]
     },
     "execution_count": 16,
     "metadata": {},
     "output_type": "execute_result"
    },
    {
     "data": {
      "application/javascript": [
       "\n",
       "            setTimeout(function() {\n",
       "                var nbb_cell_id = 16;\n",
       "                var nbb_unformatted_code = \"best_model_params = grid_search_result[\\\"params\\\"]\\nbest_model_params\";\n",
       "                var nbb_formatted_code = \"best_model_params = grid_search_result[\\\"params\\\"]\\nbest_model_params\";\n",
       "                var nbb_cells = Jupyter.notebook.get_cells();\n",
       "                for (var i = 0; i < nbb_cells.length; ++i) {\n",
       "                    if (nbb_cells[i].input_prompt_number == nbb_cell_id) {\n",
       "                        if (nbb_cells[i].get_text() == nbb_unformatted_code) {\n",
       "                             nbb_cells[i].set_text(nbb_formatted_code);\n",
       "                        }\n",
       "                        break;\n",
       "                    }\n",
       "                }\n",
       "            }, 500);\n",
       "            "
      ],
      "text/plain": [
       "<IPython.core.display.Javascript object>"
      ]
     },
     "metadata": {},
     "output_type": "display_data"
    }
   ],
   "source": [
    "best_model_params = grid_search_result[\"params\"]\n",
    "best_model_params"
   ]
  },
  {
   "cell_type": "markdown",
   "metadata": {
    "ExecuteTime": {
     "end_time": "2022-03-21T11:22:51.823907Z",
     "start_time": "2022-03-21T11:22:51.820152Z"
    }
   },
   "source": [
    "# KFold"
   ]
  },
  {
   "cell_type": "code",
   "execution_count": 18,
   "metadata": {
    "ExecuteTime": {
     "end_time": "2022-05-16T10:44:36.689318Z",
     "start_time": "2022-05-16T10:44:36.598434Z"
    },
    "id": "sAfHTjw5-NEI"
   },
   "outputs": [
    {
     "data": {
      "text/plain": [
       "((15768, 3152), (1753, 3152), (15768, 1), (1753, 1))"
      ]
     },
     "execution_count": 18,
     "metadata": {},
     "output_type": "execute_result"
    },
    {
     "data": {
      "application/javascript": [
       "\n",
       "            setTimeout(function() {\n",
       "                var nbb_cell_id = 18;\n",
       "                var nbb_unformatted_code = \"X_train, X_true, y_train, y_true = train_test_split(\\n    X, y, test_size=0.1, shuffle=False, random_state=42\\n)\\n\\nX_train.shape, X_true.shape, y_train.shape, y_true.shape\";\n",
       "                var nbb_formatted_code = \"X_train, X_true, y_train, y_true = train_test_split(\\n    X, y, test_size=0.1, shuffle=False, random_state=42\\n)\\n\\nX_train.shape, X_true.shape, y_train.shape, y_true.shape\";\n",
       "                var nbb_cells = Jupyter.notebook.get_cells();\n",
       "                for (var i = 0; i < nbb_cells.length; ++i) {\n",
       "                    if (nbb_cells[i].input_prompt_number == nbb_cell_id) {\n",
       "                        if (nbb_cells[i].get_text() == nbb_unformatted_code) {\n",
       "                             nbb_cells[i].set_text(nbb_formatted_code);\n",
       "                        }\n",
       "                        break;\n",
       "                    }\n",
       "                }\n",
       "            }, 500);\n",
       "            "
      ],
      "text/plain": [
       "<IPython.core.display.Javascript object>"
      ]
     },
     "metadata": {},
     "output_type": "display_data"
    }
   ],
   "source": [
    "X_train, X_true, y_train, y_true = train_test_split(\n",
    "    X, y, test_size=0.1, shuffle=False, random_state=42\n",
    ")\n",
    "\n",
    "X_train.shape, X_true.shape, y_train.shape, y_true.shape"
   ]
  },
  {
   "cell_type": "code",
   "execution_count": 19,
   "metadata": {
    "ExecuteTime": {
     "end_time": "2022-05-16T10:56:34.544582Z",
     "start_time": "2022-05-16T10:44:36.690434Z"
    }
   },
   "outputs": [
    {
     "name": "stdout",
     "output_type": "stream",
     "text": [
      "{'learn': {'Logloss': 0.035770811132765444}, 'validation': {'Logloss': 0.6235385013763012}}\n",
      "{'learn': {'Logloss': 0.09709476980597082}, 'validation': {'Logloss': 0.6101612403113889}}\n",
      "{'learn': {'Logloss': 0.1544228025528578}, 'validation': {'Logloss': 0.6297671039355128}}\n",
      "{'learn': {'Logloss': 0.19336155906296243}, 'validation': {'Logloss': 0.5564755910506902}}\n",
      "{'learn': {'Logloss': 0.22483174388129343}, 'validation': {'Logloss': 0.5312223392785445}}\n",
      "{'learn': {'Logloss': 0.2443064261727121}, 'validation': {'Logloss': 0.5851915584725029}}\n",
      "{'learn': {'Logloss': 0.26920817126347374}, 'validation': {'Logloss': 0.538208671536707}}\n",
      "{'learn': {'Logloss': 0.28708932548696403}, 'validation': {'Logloss': 0.5968971235273015}}\n",
      "{'learn': {'Logloss': 0.308191851005501}, 'validation': {'Logloss': 0.5677059121177677}}\n",
      "{'learn': {'Logloss': 0.31716078879697596}, 'validation': {'Logloss': 0.5742902548688824}}\n"
     ]
    },
    {
     "data": {
      "application/javascript": [
       "\n",
       "            setTimeout(function() {\n",
       "                var nbb_cell_id = 19;\n",
       "                var nbb_unformatted_code = \"ensemble = []\\n\\nfor train_index, val_index in tscv.split(X_train):\\n    X_sub_train, X_sub_valid = X_train.iloc[train_index], X_train.iloc[val_index]\\n    y_sub_train, y_sub_valid = (\\n        y_train.iloc[train_index],\\n        y_train.iloc[val_index],\\n    )\\n\\n    train_pool = Pool(X_sub_train, y_sub_train)\\n    valid_pool = Pool(X_sub_valid, y_sub_valid)\\n\\n    model = CatBoostClassifier(**best_model_params,logging_level=\\\"Silent\\\")\\n    model.fit(train_pool, eval_set=valid_pool, verbose=False)\\n\\n    ensemble.append(model)\\n    print(model.get_best_score())\";\n",
       "                var nbb_formatted_code = \"ensemble = []\\n\\nfor train_index, val_index in tscv.split(X_train):\\n    X_sub_train, X_sub_valid = X_train.iloc[train_index], X_train.iloc[val_index]\\n    y_sub_train, y_sub_valid = (\\n        y_train.iloc[train_index],\\n        y_train.iloc[val_index],\\n    )\\n\\n    train_pool = Pool(X_sub_train, y_sub_train)\\n    valid_pool = Pool(X_sub_valid, y_sub_valid)\\n\\n    model = CatBoostClassifier(**best_model_params, logging_level=\\\"Silent\\\")\\n    model.fit(train_pool, eval_set=valid_pool, verbose=False)\\n\\n    ensemble.append(model)\\n    print(model.get_best_score())\";\n",
       "                var nbb_cells = Jupyter.notebook.get_cells();\n",
       "                for (var i = 0; i < nbb_cells.length; ++i) {\n",
       "                    if (nbb_cells[i].input_prompt_number == nbb_cell_id) {\n",
       "                        if (nbb_cells[i].get_text() == nbb_unformatted_code) {\n",
       "                             nbb_cells[i].set_text(nbb_formatted_code);\n",
       "                        }\n",
       "                        break;\n",
       "                    }\n",
       "                }\n",
       "            }, 500);\n",
       "            "
      ],
      "text/plain": [
       "<IPython.core.display.Javascript object>"
      ]
     },
     "metadata": {},
     "output_type": "display_data"
    }
   ],
   "source": [
    "ensemble = []\n",
    "\n",
    "for train_index, val_index in tscv.split(X_train):\n",
    "    X_sub_train, X_sub_valid = X_train.iloc[train_index], X_train.iloc[val_index]\n",
    "    y_sub_train, y_sub_valid = (\n",
    "        y_train.iloc[train_index],\n",
    "        y_train.iloc[val_index],\n",
    "    )\n",
    "\n",
    "    train_pool = Pool(X_sub_train, y_sub_train)\n",
    "    valid_pool = Pool(X_sub_valid, y_sub_valid)\n",
    "\n",
    "    model = CatBoostClassifier(**best_model_params, logging_level=\"Silent\")\n",
    "    model.fit(train_pool, eval_set=valid_pool, verbose=False)\n",
    "\n",
    "    ensemble.append(model)\n",
    "    print(model.get_best_score())"
   ]
  },
  {
   "cell_type": "code",
   "execution_count": 20,
   "metadata": {
    "ExecuteTime": {
     "end_time": "2022-05-16T10:56:34.590138Z",
     "start_time": "2022-05-16T10:56:34.545665Z"
    }
   },
   "outputs": [
    {
     "data": {
      "text/plain": [
       "<catboost.core.CatBoostClassifier at 0x7fbc54d8db70>"
      ]
     },
     "execution_count": 20,
     "metadata": {},
     "output_type": "execute_result"
    },
    {
     "data": {
      "application/javascript": [
       "\n",
       "            setTimeout(function() {\n",
       "                var nbb_cell_id = 20;\n",
       "                var nbb_unformatted_code = \"models_avrg = sum_models(ensemble, weights=[1.0 / len(ensemble)] * len(ensemble))\\nmodels_avrg = to_classifier(models_avrg)\\nmodels_avrg\";\n",
       "                var nbb_formatted_code = \"models_avrg = sum_models(ensemble, weights=[1.0 / len(ensemble)] * len(ensemble))\\nmodels_avrg = to_classifier(models_avrg)\\nmodels_avrg\";\n",
       "                var nbb_cells = Jupyter.notebook.get_cells();\n",
       "                for (var i = 0; i < nbb_cells.length; ++i) {\n",
       "                    if (nbb_cells[i].input_prompt_number == nbb_cell_id) {\n",
       "                        if (nbb_cells[i].get_text() == nbb_unformatted_code) {\n",
       "                             nbb_cells[i].set_text(nbb_formatted_code);\n",
       "                        }\n",
       "                        break;\n",
       "                    }\n",
       "                }\n",
       "            }, 500);\n",
       "            "
      ],
      "text/plain": [
       "<IPython.core.display.Javascript object>"
      ]
     },
     "metadata": {},
     "output_type": "display_data"
    }
   ],
   "source": [
    "models_avrg = sum_models(ensemble, weights=[1.0 / len(ensemble)] * len(ensemble))\n",
    "models_avrg = to_classifier(models_avrg)\n",
    "models_avrg"
   ]
  },
  {
   "cell_type": "code",
   "execution_count": 22,
   "metadata": {
    "ExecuteTime": {
     "end_time": "2022-05-16T10:56:34.692002Z",
     "start_time": "2022-05-16T10:56:34.591194Z"
    }
   },
   "outputs": [
    {
     "data": {
      "text/plain": [
       "array([1, 1, 1, ..., 0, 1, 1])"
      ]
     },
     "execution_count": 22,
     "metadata": {},
     "output_type": "execute_result"
    },
    {
     "data": {
      "application/javascript": [
       "\n",
       "            setTimeout(function() {\n",
       "                var nbb_cell_id = 22;\n",
       "                var nbb_unformatted_code = \"y_pred = models_avrg.predict(X_true)\\ny_pred\";\n",
       "                var nbb_formatted_code = \"y_pred = models_avrg.predict(X_true)\\ny_pred\";\n",
       "                var nbb_cells = Jupyter.notebook.get_cells();\n",
       "                for (var i = 0; i < nbb_cells.length; ++i) {\n",
       "                    if (nbb_cells[i].input_prompt_number == nbb_cell_id) {\n",
       "                        if (nbb_cells[i].get_text() == nbb_unformatted_code) {\n",
       "                             nbb_cells[i].set_text(nbb_formatted_code);\n",
       "                        }\n",
       "                        break;\n",
       "                    }\n",
       "                }\n",
       "            }, 500);\n",
       "            "
      ],
      "text/plain": [
       "<IPython.core.display.Javascript object>"
      ]
     },
     "metadata": {},
     "output_type": "display_data"
    }
   ],
   "source": [
    "y_pred = models_avrg.predict(X_true)\n",
    "y_pred"
   ]
  },
  {
   "cell_type": "code",
   "execution_count": 29,
   "metadata": {},
   "outputs": [
    {
     "data": {
      "text/plain": [
       "array([0.65494822, 0.63493497, 0.79766308, ..., 0.38299251, 0.78587039,\n",
       "       0.7582567 ])"
      ]
     },
     "execution_count": 29,
     "metadata": {},
     "output_type": "execute_result"
    },
    {
     "data": {
      "application/javascript": [
       "\n",
       "            setTimeout(function() {\n",
       "                var nbb_cell_id = 29;\n",
       "                var nbb_unformatted_code = \"y_pred_1 = models_avrg.predict_proba(X_true)[:, 1]\\ny_pred_1\";\n",
       "                var nbb_formatted_code = \"y_pred_1 = models_avrg.predict_proba(X_true)[:, 1]\\ny_pred_1\";\n",
       "                var nbb_cells = Jupyter.notebook.get_cells();\n",
       "                for (var i = 0; i < nbb_cells.length; ++i) {\n",
       "                    if (nbb_cells[i].input_prompt_number == nbb_cell_id) {\n",
       "                        if (nbb_cells[i].get_text() == nbb_unformatted_code) {\n",
       "                             nbb_cells[i].set_text(nbb_formatted_code);\n",
       "                        }\n",
       "                        break;\n",
       "                    }\n",
       "                }\n",
       "            }, 500);\n",
       "            "
      ],
      "text/plain": [
       "<IPython.core.display.Javascript object>"
      ]
     },
     "metadata": {},
     "output_type": "display_data"
    }
   ],
   "source": [
    "y_pred_1 = models_avrg.predict_proba(X_true)[:, 1]\n",
    "y_pred_1"
   ]
  },
  {
   "cell_type": "code",
   "execution_count": 23,
   "metadata": {
    "ExecuteTime": {
     "end_time": "2022-05-16T10:56:34.697050Z",
     "start_time": "2022-05-16T10:56:34.692893Z"
    }
   },
   "outputs": [
    {
     "data": {
      "text/plain": [
       "0.7181973759269823"
      ]
     },
     "execution_count": 23,
     "metadata": {},
     "output_type": "execute_result"
    },
    {
     "data": {
      "application/javascript": [
       "\n",
       "            setTimeout(function() {\n",
       "                var nbb_cell_id = 23;\n",
       "                var nbb_unformatted_code = \"(y_true[\\\"Target\\\"] == y_pred).sum() / len(y_true)\";\n",
       "                var nbb_formatted_code = \"(y_true[\\\"Target\\\"] == y_pred).sum() / len(y_true)\";\n",
       "                var nbb_cells = Jupyter.notebook.get_cells();\n",
       "                for (var i = 0; i < nbb_cells.length; ++i) {\n",
       "                    if (nbb_cells[i].input_prompt_number == nbb_cell_id) {\n",
       "                        if (nbb_cells[i].get_text() == nbb_unformatted_code) {\n",
       "                             nbb_cells[i].set_text(nbb_formatted_code);\n",
       "                        }\n",
       "                        break;\n",
       "                    }\n",
       "                }\n",
       "            }, 500);\n",
       "            "
      ],
      "text/plain": [
       "<IPython.core.display.Javascript object>"
      ]
     },
     "metadata": {},
     "output_type": "display_data"
    }
   ],
   "source": [
    "(y_true[\"Target\"] == y_pred).sum() / len(y_true)"
   ]
  },
  {
   "cell_type": "code",
   "execution_count": null,
   "metadata": {},
   "outputs": [],
   "source": []
  },
  {
   "cell_type": "code",
   "execution_count": null,
   "metadata": {},
   "outputs": [],
   "source": []
  },
  {
   "cell_type": "code",
   "execution_count": null,
   "metadata": {
    "id": "37deXwNQ9NPj"
   },
   "outputs": [],
   "source": []
  },
  {
   "cell_type": "code",
   "execution_count": null,
   "metadata": {
    "id": "IdGpvgKT8fm7"
   },
   "outputs": [],
   "source": []
  }
 ],
 "metadata": {
  "colab": {
   "authorship_tag": "ABX9TyOVoLIoJMdNfKI9bQsCxZrt",
   "collapsed_sections": [],
   "mount_file_id": "16qVlP-WsT7QyutKy7LcCJyFAqUIodOQm",
   "name": "mczielinski_bitcoin-historical-data.ipynb",
   "provenance": []
  },
  "kernelspec": {
   "display_name": "Python 3 (ipykernel)",
   "language": "python",
   "name": "python3"
  },
  "language_info": {
   "codemirror_mode": {
    "name": "ipython",
    "version": 3
   },
   "file_extension": ".py",
   "mimetype": "text/x-python",
   "name": "python",
   "nbconvert_exporter": "python",
   "pygments_lexer": "ipython3",
   "version": "3.10.11"
  }
 },
 "nbformat": 4,
 "nbformat_minor": 1
}
