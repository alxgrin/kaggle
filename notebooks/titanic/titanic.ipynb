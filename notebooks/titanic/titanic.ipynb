{
 "cells": [
  {
   "cell_type": "markdown",
   "metadata": {
    "id": "Li8nsz2qTfFi"
   },
   "source": [
    "## Titanic - Machine Learning from Disaster\n",
    "\n",
    "### 👋🛳️ Ahoy, welcome to Kaggle! You’re in the right place.\n",
    "\n",
    "This is the legendary Titanic ML competition – the best, first challenge for you to dive into ML competitions and familiarize yourself with how the Kaggle platform works.\n",
    "\n",
    "The competition is simple: use machine learning to create a model that predicts which passengers survived the Titanic shipwreck.\n",
    "\n",
    "Read on or watch the video below to explore more details. Once you’re ready to start competing, click on the [\"Join Competition button](https://www.kaggle.com/account/login?returnUrl=%2Fc%2Ftitanic) to create an account and gain access to the [competition data](https://www.kaggle.com/c/titanic/data). Then check out [Alexis Cook’s Titanic Tutorial](https://www.kaggle.com/alexisbcook/titanic-tutorial) that walks you through step by step how to make your first submission!\n",
    "\n",
    "[![img](https://storage.googleapis.com/kaggle-media/welcome/video_thumbnail.jpg)](https://www.youtube.com/watch?v=8yZMXCaFshs&feature=youtu.be)\n",
    "\n",
    "### Data Description\n",
    "\n",
    "The data has been split into two groups:\n",
    "\n",
    "- training set (train.csv)\n",
    "- test set (test.csv)\n",
    "\n",
    "**The training set** should be used to build your machine learning models. For the training set, we provide the outcome (also known as the “ground truth”) for each passenger. Your model will be based on “features” like passengers’ gender and class. You can also use [feature engineering ](https://triangleinequality.wordpress.com/2013/09/08/basic-feature-engineering-with-the-titanic-data/)to create new features.\n",
    "\n",
    "**The test set** should be used to see how well your model performs on unseen data. For the test set, we do not provide the ground truth for each passenger. It is your job to predict these outcomes. For each passenger in the test set, use the model you trained to predict whether or not they survived the sinking of the Titanic.\n",
    "\n",
    "We also include **gender_submission.csv**, a set of predictions that assume all and only female passengers survive, as an example of what a submission file should look like.\n",
    "\n",
    "### Data Dictionary\n",
    "\n",
    "| **Variable** | **Definition**                             | **Key**                                        |\n",
    "| :----------- | :----------------------------------------- | :--------------------------------------------- |\n",
    "| survival     | Survival                                   | 0 = No, 1 = Yes                                |\n",
    "| pclass       | Ticket class                               | 1 = 1st, 2 = 2nd, 3 = 3rd                      |\n",
    "| sex          | Sex                                        |                                                |\n",
    "| Age          | Age in years                               |                                                |\n",
    "| sibsp        | # of siblings / spouses aboard the Titanic |                                                |\n",
    "| parch        | # of parents / children aboard the Titanic |                                                |\n",
    "| ticket       | Ticket number                              |                                                |\n",
    "| fare         | Passenger fare                             |                                                |\n",
    "| cabin        | Cabin number                               |                                                |\n",
    "| embarked     | Port of Embarkation                        | C = Cherbourg, Q = Queenstown, S = Southampton |\n",
    "\n",
    "### Variable Notes\n",
    "\n",
    "**pclass**: A proxy for socio-economic status (SES)\n",
    "1st = Upper\n",
    "2nd = Middle\n",
    "3rd = Lower\n",
    "\n",
    "**age**: Age is fractional if less than 1. If the age is estimated, is it in the form of xx.5\n",
    "\n",
    "**sibsp**: The dataset defines family relations in this way...\n",
    "Sibling = brother, sister, stepbrother, stepsister\n",
    "Spouse = husband, wife (mistresses and fiancés were ignored)\n",
    "\n",
    "**parch**: The dataset defines family relations in this way...\n",
    "Parent = mother, father\n",
    "Child = daughter, son, stepdaughter, stepson\n",
    "Some children travelled only with a nanny, therefore parch=0 for them.\n",
    "\n",
    "Link: https://www.kaggle.com/c/titanic/overview  "
   ]
  },
  {
   "cell_type": "code",
   "execution_count": 1,
   "metadata": {
    "ExecuteTime": {
     "end_time": "2022-11-14T09:43:29.245570Z",
     "start_time": "2022-11-14T09:43:28.877332Z"
    },
    "id": "bWZSu3ayTfFn"
   },
   "outputs": [],
   "source": [
    "import numpy as np\n",
    "import pandas as pd\n",
    "from sklearn.model_selection import train_test_split\n",
    "from catboost import (\n",
    "    CatBoostClassifier,\n",
    "    Pool,\n",
    "    sum_models,\n",
    "    to_classifier,\n",
    ")\n",
    "from sklearn.model_selection import StratifiedKFold"
   ]
  },
  {
   "cell_type": "code",
   "execution_count": 2,
   "metadata": {
    "ExecuteTime": {
     "end_time": "2022-11-14T09:43:29.285099Z",
     "start_time": "2022-11-14T09:43:29.246743Z"
    }
   },
   "outputs": [
    {
     "data": {
      "application/javascript": [
       "\n",
       "            setTimeout(function() {\n",
       "                var nbb_cell_id = 2;\n",
       "                var nbb_unformatted_code = \"%load_ext nb_black\";\n",
       "                var nbb_formatted_code = \"%load_ext nb_black\";\n",
       "                var nbb_cells = Jupyter.notebook.get_cells();\n",
       "                for (var i = 0; i < nbb_cells.length; ++i) {\n",
       "                    if (nbb_cells[i].input_prompt_number == nbb_cell_id) {\n",
       "                        if (nbb_cells[i].get_text() == nbb_unformatted_code) {\n",
       "                             nbb_cells[i].set_text(nbb_formatted_code);\n",
       "                        }\n",
       "                        break;\n",
       "                    }\n",
       "                }\n",
       "            }, 500);\n",
       "            "
      ],
      "text/plain": [
       "<IPython.core.display.Javascript object>"
      ]
     },
     "metadata": {},
     "output_type": "display_data"
    }
   ],
   "source": [
    "%load_ext nb_black"
   ]
  },
  {
   "cell_type": "markdown",
   "metadata": {
    "id": "qxlu-X03TfFr"
   },
   "source": [
    "## Первичная загрузка данных"
   ]
  },
  {
   "cell_type": "code",
   "execution_count": 3,
   "metadata": {
    "ExecuteTime": {
     "end_time": "2022-11-14T09:43:29.308770Z",
     "start_time": "2022-11-14T09:43:29.289045Z"
    },
    "colab": {
     "base_uri": "https://localhost:8080/",
     "height": 455
    },
    "id": "XsPVdV1qTfFr",
    "outputId": "8cb3596e-a32e-4f83-c031-a63fa038af42"
   },
   "outputs": [
    {
     "data": {
      "text/html": [
       "<div>\n",
       "<style scoped>\n",
       "    .dataframe tbody tr th:only-of-type {\n",
       "        vertical-align: middle;\n",
       "    }\n",
       "\n",
       "    .dataframe tbody tr th {\n",
       "        vertical-align: top;\n",
       "    }\n",
       "\n",
       "    .dataframe thead th {\n",
       "        text-align: right;\n",
       "    }\n",
       "</style>\n",
       "<table border=\"1\" class=\"dataframe\">\n",
       "  <thead>\n",
       "    <tr style=\"text-align: right;\">\n",
       "      <th></th>\n",
       "      <th>Survived</th>\n",
       "      <th>Pclass</th>\n",
       "      <th>Name</th>\n",
       "      <th>Sex</th>\n",
       "      <th>Age</th>\n",
       "      <th>SibSp</th>\n",
       "      <th>Parch</th>\n",
       "      <th>Ticket</th>\n",
       "      <th>Fare</th>\n",
       "      <th>Cabin</th>\n",
       "      <th>...</th>\n",
       "      <th>Title</th>\n",
       "      <th>FamilySize</th>\n",
       "      <th>TicketSeries</th>\n",
       "      <th>NameSeries</th>\n",
       "      <th>SurnameSeries</th>\n",
       "      <th>TitleSeries</th>\n",
       "      <th>IsTest</th>\n",
       "      <th>isAgePreds</th>\n",
       "      <th>CabinSeries</th>\n",
       "      <th>isCabinSeriesPreds</th>\n",
       "    </tr>\n",
       "    <tr>\n",
       "      <th>PassengerId</th>\n",
       "      <th></th>\n",
       "      <th></th>\n",
       "      <th></th>\n",
       "      <th></th>\n",
       "      <th></th>\n",
       "      <th></th>\n",
       "      <th></th>\n",
       "      <th></th>\n",
       "      <th></th>\n",
       "      <th></th>\n",
       "      <th></th>\n",
       "      <th></th>\n",
       "      <th></th>\n",
       "      <th></th>\n",
       "      <th></th>\n",
       "      <th></th>\n",
       "      <th></th>\n",
       "      <th></th>\n",
       "      <th></th>\n",
       "      <th></th>\n",
       "      <th></th>\n",
       "    </tr>\n",
       "  </thead>\n",
       "  <tbody>\n",
       "    <tr>\n",
       "      <th>1</th>\n",
       "      <td>0.0</td>\n",
       "      <td>3</td>\n",
       "      <td>Owen Harris</td>\n",
       "      <td>1</td>\n",
       "      <td>22.000000</td>\n",
       "      <td>1</td>\n",
       "      <td>0</td>\n",
       "      <td>A/5 21171</td>\n",
       "      <td>-0.503595</td>\n",
       "      <td>NaN</td>\n",
       "      <td>...</td>\n",
       "      <td>Mr</td>\n",
       "      <td>2</td>\n",
       "      <td>2</td>\n",
       "      <td>855</td>\n",
       "      <td>100</td>\n",
       "      <td>12</td>\n",
       "      <td>0</td>\n",
       "      <td>0</td>\n",
       "      <td>5</td>\n",
       "      <td>1</td>\n",
       "    </tr>\n",
       "    <tr>\n",
       "      <th>2</th>\n",
       "      <td>1.0</td>\n",
       "      <td>1</td>\n",
       "      <td>John Bradley (Florence Briggs Thayer)</td>\n",
       "      <td>0</td>\n",
       "      <td>38.000000</td>\n",
       "      <td>1</td>\n",
       "      <td>0</td>\n",
       "      <td>PC 17599</td>\n",
       "      <td>0.734503</td>\n",
       "      <td>C85</td>\n",
       "      <td>...</td>\n",
       "      <td>Mrs</td>\n",
       "      <td>2</td>\n",
       "      <td>17</td>\n",
       "      <td>601</td>\n",
       "      <td>182</td>\n",
       "      <td>13</td>\n",
       "      <td>0</td>\n",
       "      <td>0</td>\n",
       "      <td>2</td>\n",
       "      <td>0</td>\n",
       "    </tr>\n",
       "    <tr>\n",
       "      <th>3</th>\n",
       "      <td>1.0</td>\n",
       "      <td>3</td>\n",
       "      <td>Laina</td>\n",
       "      <td>0</td>\n",
       "      <td>26.000000</td>\n",
       "      <td>0</td>\n",
       "      <td>0</td>\n",
       "      <td>STON/O2. 3101282</td>\n",
       "      <td>-0.490544</td>\n",
       "      <td>NaN</td>\n",
       "      <td>...</td>\n",
       "      <td>Miss</td>\n",
       "      <td>1</td>\n",
       "      <td>34</td>\n",
       "      <td>690</td>\n",
       "      <td>329</td>\n",
       "      <td>9</td>\n",
       "      <td>0</td>\n",
       "      <td>0</td>\n",
       "      <td>4</td>\n",
       "      <td>1</td>\n",
       "    </tr>\n",
       "    <tr>\n",
       "      <th>4</th>\n",
       "      <td>1.0</td>\n",
       "      <td>1</td>\n",
       "      <td>Jacques Heath (Lily May Peel)</td>\n",
       "      <td>0</td>\n",
       "      <td>35.000000</td>\n",
       "      <td>1</td>\n",
       "      <td>0</td>\n",
       "      <td>113803</td>\n",
       "      <td>0.382925</td>\n",
       "      <td>C123</td>\n",
       "      <td>...</td>\n",
       "      <td>Mrs</td>\n",
       "      <td>2</td>\n",
       "      <td>40</td>\n",
       "      <td>541</td>\n",
       "      <td>267</td>\n",
       "      <td>13</td>\n",
       "      <td>0</td>\n",
       "      <td>0</td>\n",
       "      <td>2</td>\n",
       "      <td>0</td>\n",
       "    </tr>\n",
       "    <tr>\n",
       "      <th>5</th>\n",
       "      <td>0.0</td>\n",
       "      <td>3</td>\n",
       "      <td>William Henry</td>\n",
       "      <td>1</td>\n",
       "      <td>35.000000</td>\n",
       "      <td>0</td>\n",
       "      <td>0</td>\n",
       "      <td>373450</td>\n",
       "      <td>-0.488127</td>\n",
       "      <td>NaN</td>\n",
       "      <td>...</td>\n",
       "      <td>Mr</td>\n",
       "      <td>1</td>\n",
       "      <td>40</td>\n",
       "      <td>1102</td>\n",
       "      <td>15</td>\n",
       "      <td>12</td>\n",
       "      <td>0</td>\n",
       "      <td>0</td>\n",
       "      <td>5</td>\n",
       "      <td>1</td>\n",
       "    </tr>\n",
       "    <tr>\n",
       "      <th>...</th>\n",
       "      <td>...</td>\n",
       "      <td>...</td>\n",
       "      <td>...</td>\n",
       "      <td>...</td>\n",
       "      <td>...</td>\n",
       "      <td>...</td>\n",
       "      <td>...</td>\n",
       "      <td>...</td>\n",
       "      <td>...</td>\n",
       "      <td>...</td>\n",
       "      <td>...</td>\n",
       "      <td>...</td>\n",
       "      <td>...</td>\n",
       "      <td>...</td>\n",
       "      <td>...</td>\n",
       "      <td>...</td>\n",
       "      <td>...</td>\n",
       "      <td>...</td>\n",
       "      <td>...</td>\n",
       "      <td>...</td>\n",
       "      <td>...</td>\n",
       "    </tr>\n",
       "    <tr>\n",
       "      <th>1305</th>\n",
       "      <td>NaN</td>\n",
       "      <td>3</td>\n",
       "      <td>Woolf</td>\n",
       "      <td>1</td>\n",
       "      <td>26.994279</td>\n",
       "      <td>0</td>\n",
       "      <td>0</td>\n",
       "      <td>A.5. 3236</td>\n",
       "      <td>-0.488127</td>\n",
       "      <td>NaN</td>\n",
       "      <td>...</td>\n",
       "      <td>Mr</td>\n",
       "      <td>1</td>\n",
       "      <td>5</td>\n",
       "      <td>1119</td>\n",
       "      <td>753</td>\n",
       "      <td>12</td>\n",
       "      <td>1</td>\n",
       "      <td>1</td>\n",
       "      <td>5</td>\n",
       "      <td>1</td>\n",
       "    </tr>\n",
       "    <tr>\n",
       "      <th>1306</th>\n",
       "      <td>NaN</td>\n",
       "      <td>1</td>\n",
       "      <td>Fermina</td>\n",
       "      <td>0</td>\n",
       "      <td>39.000000</td>\n",
       "      <td>0</td>\n",
       "      <td>0</td>\n",
       "      <td>PC 17758</td>\n",
       "      <td>1.461829</td>\n",
       "      <td>C105</td>\n",
       "      <td>...</td>\n",
       "      <td>Dona</td>\n",
       "      <td>1</td>\n",
       "      <td>17</td>\n",
       "      <td>366</td>\n",
       "      <td>593</td>\n",
       "      <td>3</td>\n",
       "      <td>1</td>\n",
       "      <td>0</td>\n",
       "      <td>2</td>\n",
       "      <td>0</td>\n",
       "    </tr>\n",
       "    <tr>\n",
       "      <th>1307</th>\n",
       "      <td>NaN</td>\n",
       "      <td>3</td>\n",
       "      <td>Simon Sivertsen</td>\n",
       "      <td>1</td>\n",
       "      <td>38.500000</td>\n",
       "      <td>0</td>\n",
       "      <td>0</td>\n",
       "      <td>SOTON/O.Q. 3101262</td>\n",
       "      <td>-0.503595</td>\n",
       "      <td>NaN</td>\n",
       "      <td>...</td>\n",
       "      <td>Mr</td>\n",
       "      <td>1</td>\n",
       "      <td>31</td>\n",
       "      <td>973</td>\n",
       "      <td>699</td>\n",
       "      <td>12</td>\n",
       "      <td>1</td>\n",
       "      <td>0</td>\n",
       "      <td>5</td>\n",
       "      <td>1</td>\n",
       "    </tr>\n",
       "    <tr>\n",
       "      <th>1308</th>\n",
       "      <td>NaN</td>\n",
       "      <td>3</td>\n",
       "      <td>Frederick</td>\n",
       "      <td>1</td>\n",
       "      <td>31.073377</td>\n",
       "      <td>0</td>\n",
       "      <td>0</td>\n",
       "      <td>359309</td>\n",
       "      <td>-0.488127</td>\n",
       "      <td>NaN</td>\n",
       "      <td>...</td>\n",
       "      <td>Mr</td>\n",
       "      <td>1</td>\n",
       "      <td>40</td>\n",
       "      <td>390</td>\n",
       "      <td>827</td>\n",
       "      <td>12</td>\n",
       "      <td>1</td>\n",
       "      <td>1</td>\n",
       "      <td>5</td>\n",
       "      <td>1</td>\n",
       "    </tr>\n",
       "    <tr>\n",
       "      <th>1309</th>\n",
       "      <td>NaN</td>\n",
       "      <td>3</td>\n",
       "      <td>Michael J</td>\n",
       "      <td>1</td>\n",
       "      <td>1.381665</td>\n",
       "      <td>1</td>\n",
       "      <td>1</td>\n",
       "      <td>2668</td>\n",
       "      <td>-0.211473</td>\n",
       "      <td>NaN</td>\n",
       "      <td>...</td>\n",
       "      <td>Master</td>\n",
       "      <td>3</td>\n",
       "      <td>40</td>\n",
       "      <td>799</td>\n",
       "      <td>634</td>\n",
       "      <td>8</td>\n",
       "      <td>1</td>\n",
       "      <td>1</td>\n",
       "      <td>5</td>\n",
       "      <td>1</td>\n",
       "    </tr>\n",
       "  </tbody>\n",
       "</table>\n",
       "<p>1309 rows × 23 columns</p>\n",
       "</div>"
      ],
      "text/plain": [
       "             Survived  Pclass                                   Name  Sex  \\\n",
       "PassengerId                                                                 \n",
       "1                 0.0       3                            Owen Harris    1   \n",
       "2                 1.0       1  John Bradley (Florence Briggs Thayer)    0   \n",
       "3                 1.0       3                                  Laina    0   \n",
       "4                 1.0       1          Jacques Heath (Lily May Peel)    0   \n",
       "5                 0.0       3                          William Henry    1   \n",
       "...               ...     ...                                    ...  ...   \n",
       "1305              NaN       3                                  Woolf    1   \n",
       "1306              NaN       1                                Fermina    0   \n",
       "1307              NaN       3                        Simon Sivertsen    1   \n",
       "1308              NaN       3                              Frederick    1   \n",
       "1309              NaN       3                              Michael J    1   \n",
       "\n",
       "                   Age  SibSp  Parch              Ticket      Fare Cabin  ...  \\\n",
       "PassengerId                                                               ...   \n",
       "1            22.000000      1      0           A/5 21171 -0.503595   NaN  ...   \n",
       "2            38.000000      1      0            PC 17599  0.734503   C85  ...   \n",
       "3            26.000000      0      0    STON/O2. 3101282 -0.490544   NaN  ...   \n",
       "4            35.000000      1      0              113803  0.382925  C123  ...   \n",
       "5            35.000000      0      0              373450 -0.488127   NaN  ...   \n",
       "...                ...    ...    ...                 ...       ...   ...  ...   \n",
       "1305         26.994279      0      0           A.5. 3236 -0.488127   NaN  ...   \n",
       "1306         39.000000      0      0            PC 17758  1.461829  C105  ...   \n",
       "1307         38.500000      0      0  SOTON/O.Q. 3101262 -0.503595   NaN  ...   \n",
       "1308         31.073377      0      0              359309 -0.488127   NaN  ...   \n",
       "1309          1.381665      1      1                2668 -0.211473   NaN  ...   \n",
       "\n",
       "              Title FamilySize TicketSeries NameSeries  SurnameSeries  \\\n",
       "PassengerId                                                             \n",
       "1                Mr          2            2        855            100   \n",
       "2               Mrs          2           17        601            182   \n",
       "3              Miss          1           34        690            329   \n",
       "4               Mrs          2           40        541            267   \n",
       "5                Mr          1           40       1102             15   \n",
       "...             ...        ...          ...        ...            ...   \n",
       "1305             Mr          1            5       1119            753   \n",
       "1306           Dona          1           17        366            593   \n",
       "1307             Mr          1           31        973            699   \n",
       "1308             Mr          1           40        390            827   \n",
       "1309         Master          3           40        799            634   \n",
       "\n",
       "             TitleSeries  IsTest  isAgePreds  CabinSeries  isCabinSeriesPreds  \n",
       "PassengerId                                                                    \n",
       "1                     12       0           0            5                   1  \n",
       "2                     13       0           0            2                   0  \n",
       "3                      9       0           0            4                   1  \n",
       "4                     13       0           0            2                   0  \n",
       "5                     12       0           0            5                   1  \n",
       "...                  ...     ...         ...          ...                 ...  \n",
       "1305                  12       1           1            5                   1  \n",
       "1306                   3       1           0            2                   0  \n",
       "1307                  12       1           0            5                   1  \n",
       "1308                  12       1           1            5                   1  \n",
       "1309                   8       1           1            5                   1  \n",
       "\n",
       "[1309 rows x 23 columns]"
      ]
     },
     "execution_count": 3,
     "metadata": {},
     "output_type": "execute_result"
    },
    {
     "data": {
      "application/javascript": [
       "\n",
       "            setTimeout(function() {\n",
       "                var nbb_cell_id = 3;\n",
       "                var nbb_unformatted_code = \"df = pd.read_csv(\\\"../../data/titanic/prepare.csv\\\", index_col=\\\"PassengerId\\\")\\ndf\";\n",
       "                var nbb_formatted_code = \"df = pd.read_csv(\\\"../../data/titanic/prepare.csv\\\", index_col=\\\"PassengerId\\\")\\ndf\";\n",
       "                var nbb_cells = Jupyter.notebook.get_cells();\n",
       "                for (var i = 0; i < nbb_cells.length; ++i) {\n",
       "                    if (nbb_cells[i].input_prompt_number == nbb_cell_id) {\n",
       "                        if (nbb_cells[i].get_text() == nbb_unformatted_code) {\n",
       "                             nbb_cells[i].set_text(nbb_formatted_code);\n",
       "                        }\n",
       "                        break;\n",
       "                    }\n",
       "                }\n",
       "            }, 500);\n",
       "            "
      ],
      "text/plain": [
       "<IPython.core.display.Javascript object>"
      ]
     },
     "metadata": {},
     "output_type": "display_data"
    }
   ],
   "source": [
    "df = pd.read_csv(\"../../data/titanic/prepare.csv\", index_col=\"PassengerId\")\n",
    "df"
   ]
  },
  {
   "cell_type": "code",
   "execution_count": 4,
   "metadata": {
    "ExecuteTime": {
     "end_time": "2022-11-14T09:43:29.319621Z",
     "start_time": "2022-11-14T09:43:29.309695Z"
    },
    "colab": {
     "base_uri": "https://localhost:8080/"
    },
    "id": "s6jeDkORTfFt",
    "outputId": "42e59d84-b0b9-443e-ae2c-858bcfb02b68"
   },
   "outputs": [
    {
     "name": "stdout",
     "output_type": "stream",
     "text": [
      "<class 'pandas.core.frame.DataFrame'>\n",
      "Int64Index: 1309 entries, 1 to 1309\n",
      "Data columns (total 23 columns):\n",
      " #   Column              Non-Null Count  Dtype  \n",
      "---  ------              --------------  -----  \n",
      " 0   Survived            891 non-null    float64\n",
      " 1   Pclass              1309 non-null   int64  \n",
      " 2   Name                1309 non-null   object \n",
      " 3   Sex                 1309 non-null   int64  \n",
      " 4   Age                 1309 non-null   float64\n",
      " 5   SibSp               1309 non-null   int64  \n",
      " 6   Parch               1309 non-null   int64  \n",
      " 7   Ticket              1309 non-null   object \n",
      " 8   Fare                1309 non-null   float64\n",
      " 9   Cabin               295 non-null    object \n",
      " 10  Embarked            1309 non-null   int64  \n",
      " 11  FullName            1309 non-null   object \n",
      " 12  Surname             1309 non-null   object \n",
      " 13  Title               1309 non-null   object \n",
      " 14  FamilySize          1309 non-null   int64  \n",
      " 15  TicketSeries        1309 non-null   int64  \n",
      " 16  NameSeries          1309 non-null   int64  \n",
      " 17  SurnameSeries       1309 non-null   int64  \n",
      " 18  TitleSeries         1309 non-null   int64  \n",
      " 19  IsTest              1309 non-null   int64  \n",
      " 20  isAgePreds          1309 non-null   int64  \n",
      " 21  CabinSeries         1309 non-null   int64  \n",
      " 22  isCabinSeriesPreds  1309 non-null   int64  \n",
      "dtypes: float64(3), int64(14), object(6)\n",
      "memory usage: 245.4+ KB\n"
     ]
    },
    {
     "data": {
      "application/javascript": [
       "\n",
       "            setTimeout(function() {\n",
       "                var nbb_cell_id = 4;\n",
       "                var nbb_unformatted_code = \"df.info()\";\n",
       "                var nbb_formatted_code = \"df.info()\";\n",
       "                var nbb_cells = Jupyter.notebook.get_cells();\n",
       "                for (var i = 0; i < nbb_cells.length; ++i) {\n",
       "                    if (nbb_cells[i].input_prompt_number == nbb_cell_id) {\n",
       "                        if (nbb_cells[i].get_text() == nbb_unformatted_code) {\n",
       "                             nbb_cells[i].set_text(nbb_formatted_code);\n",
       "                        }\n",
       "                        break;\n",
       "                    }\n",
       "                }\n",
       "            }, 500);\n",
       "            "
      ],
      "text/plain": [
       "<IPython.core.display.Javascript object>"
      ]
     },
     "metadata": {},
     "output_type": "display_data"
    }
   ],
   "source": [
    "df.info()"
   ]
  },
  {
   "cell_type": "markdown",
   "metadata": {
    "id": "IR-B7QVfWA8c"
   },
   "source": [
    "# Prepare"
   ]
  },
  {
   "cell_type": "code",
   "execution_count": 5,
   "metadata": {
    "ExecuteTime": {
     "end_time": "2022-11-14T09:43:29.341373Z",
     "start_time": "2022-11-14T09:43:29.320538Z"
    }
   },
   "outputs": [
    {
     "data": {
      "text/html": [
       "<div>\n",
       "<style scoped>\n",
       "    .dataframe tbody tr th:only-of-type {\n",
       "        vertical-align: middle;\n",
       "    }\n",
       "\n",
       "    .dataframe tbody tr th {\n",
       "        vertical-align: top;\n",
       "    }\n",
       "\n",
       "    .dataframe thead th {\n",
       "        text-align: right;\n",
       "    }\n",
       "</style>\n",
       "<table border=\"1\" class=\"dataframe\">\n",
       "  <thead>\n",
       "    <tr style=\"text-align: right;\">\n",
       "      <th></th>\n",
       "      <th>Survived</th>\n",
       "      <th>Pclass</th>\n",
       "      <th>Name</th>\n",
       "      <th>Sex</th>\n",
       "      <th>Age</th>\n",
       "      <th>SibSp</th>\n",
       "      <th>Parch</th>\n",
       "      <th>Ticket</th>\n",
       "      <th>Fare</th>\n",
       "      <th>Cabin</th>\n",
       "      <th>...</th>\n",
       "      <th>Title</th>\n",
       "      <th>FamilySize</th>\n",
       "      <th>TicketSeries</th>\n",
       "      <th>NameSeries</th>\n",
       "      <th>SurnameSeries</th>\n",
       "      <th>TitleSeries</th>\n",
       "      <th>IsTest</th>\n",
       "      <th>isAgePreds</th>\n",
       "      <th>CabinSeries</th>\n",
       "      <th>isCabinSeriesPreds</th>\n",
       "    </tr>\n",
       "    <tr>\n",
       "      <th>PassengerId</th>\n",
       "      <th></th>\n",
       "      <th></th>\n",
       "      <th></th>\n",
       "      <th></th>\n",
       "      <th></th>\n",
       "      <th></th>\n",
       "      <th></th>\n",
       "      <th></th>\n",
       "      <th></th>\n",
       "      <th></th>\n",
       "      <th></th>\n",
       "      <th></th>\n",
       "      <th></th>\n",
       "      <th></th>\n",
       "      <th></th>\n",
       "      <th></th>\n",
       "      <th></th>\n",
       "      <th></th>\n",
       "      <th></th>\n",
       "      <th></th>\n",
       "      <th></th>\n",
       "    </tr>\n",
       "  </thead>\n",
       "  <tbody>\n",
       "    <tr>\n",
       "      <th>1</th>\n",
       "      <td>0.0</td>\n",
       "      <td>3</td>\n",
       "      <td>Owen Harris</td>\n",
       "      <td>1</td>\n",
       "      <td>22.000000</td>\n",
       "      <td>1</td>\n",
       "      <td>0</td>\n",
       "      <td>A/5 21171</td>\n",
       "      <td>-0.503595</td>\n",
       "      <td>NaN</td>\n",
       "      <td>...</td>\n",
       "      <td>Mr</td>\n",
       "      <td>2</td>\n",
       "      <td>2</td>\n",
       "      <td>855</td>\n",
       "      <td>100</td>\n",
       "      <td>12</td>\n",
       "      <td>0</td>\n",
       "      <td>0</td>\n",
       "      <td>5</td>\n",
       "      <td>1</td>\n",
       "    </tr>\n",
       "    <tr>\n",
       "      <th>2</th>\n",
       "      <td>1.0</td>\n",
       "      <td>1</td>\n",
       "      <td>John Bradley (Florence Briggs Thayer)</td>\n",
       "      <td>0</td>\n",
       "      <td>38.000000</td>\n",
       "      <td>1</td>\n",
       "      <td>0</td>\n",
       "      <td>PC 17599</td>\n",
       "      <td>0.734503</td>\n",
       "      <td>C85</td>\n",
       "      <td>...</td>\n",
       "      <td>Mrs</td>\n",
       "      <td>2</td>\n",
       "      <td>17</td>\n",
       "      <td>601</td>\n",
       "      <td>182</td>\n",
       "      <td>13</td>\n",
       "      <td>0</td>\n",
       "      <td>0</td>\n",
       "      <td>2</td>\n",
       "      <td>0</td>\n",
       "    </tr>\n",
       "    <tr>\n",
       "      <th>3</th>\n",
       "      <td>1.0</td>\n",
       "      <td>3</td>\n",
       "      <td>Laina</td>\n",
       "      <td>0</td>\n",
       "      <td>26.000000</td>\n",
       "      <td>0</td>\n",
       "      <td>0</td>\n",
       "      <td>STON/O2. 3101282</td>\n",
       "      <td>-0.490544</td>\n",
       "      <td>NaN</td>\n",
       "      <td>...</td>\n",
       "      <td>Miss</td>\n",
       "      <td>1</td>\n",
       "      <td>34</td>\n",
       "      <td>690</td>\n",
       "      <td>329</td>\n",
       "      <td>9</td>\n",
       "      <td>0</td>\n",
       "      <td>0</td>\n",
       "      <td>4</td>\n",
       "      <td>1</td>\n",
       "    </tr>\n",
       "    <tr>\n",
       "      <th>4</th>\n",
       "      <td>1.0</td>\n",
       "      <td>1</td>\n",
       "      <td>Jacques Heath (Lily May Peel)</td>\n",
       "      <td>0</td>\n",
       "      <td>35.000000</td>\n",
       "      <td>1</td>\n",
       "      <td>0</td>\n",
       "      <td>113803</td>\n",
       "      <td>0.382925</td>\n",
       "      <td>C123</td>\n",
       "      <td>...</td>\n",
       "      <td>Mrs</td>\n",
       "      <td>2</td>\n",
       "      <td>40</td>\n",
       "      <td>541</td>\n",
       "      <td>267</td>\n",
       "      <td>13</td>\n",
       "      <td>0</td>\n",
       "      <td>0</td>\n",
       "      <td>2</td>\n",
       "      <td>0</td>\n",
       "    </tr>\n",
       "    <tr>\n",
       "      <th>5</th>\n",
       "      <td>0.0</td>\n",
       "      <td>3</td>\n",
       "      <td>William Henry</td>\n",
       "      <td>1</td>\n",
       "      <td>35.000000</td>\n",
       "      <td>0</td>\n",
       "      <td>0</td>\n",
       "      <td>373450</td>\n",
       "      <td>-0.488127</td>\n",
       "      <td>NaN</td>\n",
       "      <td>...</td>\n",
       "      <td>Mr</td>\n",
       "      <td>1</td>\n",
       "      <td>40</td>\n",
       "      <td>1102</td>\n",
       "      <td>15</td>\n",
       "      <td>12</td>\n",
       "      <td>0</td>\n",
       "      <td>0</td>\n",
       "      <td>5</td>\n",
       "      <td>1</td>\n",
       "    </tr>\n",
       "    <tr>\n",
       "      <th>...</th>\n",
       "      <td>...</td>\n",
       "      <td>...</td>\n",
       "      <td>...</td>\n",
       "      <td>...</td>\n",
       "      <td>...</td>\n",
       "      <td>...</td>\n",
       "      <td>...</td>\n",
       "      <td>...</td>\n",
       "      <td>...</td>\n",
       "      <td>...</td>\n",
       "      <td>...</td>\n",
       "      <td>...</td>\n",
       "      <td>...</td>\n",
       "      <td>...</td>\n",
       "      <td>...</td>\n",
       "      <td>...</td>\n",
       "      <td>...</td>\n",
       "      <td>...</td>\n",
       "      <td>...</td>\n",
       "      <td>...</td>\n",
       "      <td>...</td>\n",
       "    </tr>\n",
       "    <tr>\n",
       "      <th>1305</th>\n",
       "      <td>NaN</td>\n",
       "      <td>3</td>\n",
       "      <td>Woolf</td>\n",
       "      <td>1</td>\n",
       "      <td>26.994279</td>\n",
       "      <td>0</td>\n",
       "      <td>0</td>\n",
       "      <td>A.5. 3236</td>\n",
       "      <td>-0.488127</td>\n",
       "      <td>NaN</td>\n",
       "      <td>...</td>\n",
       "      <td>Mr</td>\n",
       "      <td>1</td>\n",
       "      <td>5</td>\n",
       "      <td>1119</td>\n",
       "      <td>753</td>\n",
       "      <td>12</td>\n",
       "      <td>1</td>\n",
       "      <td>1</td>\n",
       "      <td>5</td>\n",
       "      <td>1</td>\n",
       "    </tr>\n",
       "    <tr>\n",
       "      <th>1306</th>\n",
       "      <td>NaN</td>\n",
       "      <td>1</td>\n",
       "      <td>Fermina</td>\n",
       "      <td>0</td>\n",
       "      <td>39.000000</td>\n",
       "      <td>0</td>\n",
       "      <td>0</td>\n",
       "      <td>PC 17758</td>\n",
       "      <td>1.461829</td>\n",
       "      <td>C105</td>\n",
       "      <td>...</td>\n",
       "      <td>Dona</td>\n",
       "      <td>1</td>\n",
       "      <td>17</td>\n",
       "      <td>366</td>\n",
       "      <td>593</td>\n",
       "      <td>3</td>\n",
       "      <td>1</td>\n",
       "      <td>0</td>\n",
       "      <td>2</td>\n",
       "      <td>0</td>\n",
       "    </tr>\n",
       "    <tr>\n",
       "      <th>1307</th>\n",
       "      <td>NaN</td>\n",
       "      <td>3</td>\n",
       "      <td>Simon Sivertsen</td>\n",
       "      <td>1</td>\n",
       "      <td>38.500000</td>\n",
       "      <td>0</td>\n",
       "      <td>0</td>\n",
       "      <td>SOTON/O.Q. 3101262</td>\n",
       "      <td>-0.503595</td>\n",
       "      <td>NaN</td>\n",
       "      <td>...</td>\n",
       "      <td>Mr</td>\n",
       "      <td>1</td>\n",
       "      <td>31</td>\n",
       "      <td>973</td>\n",
       "      <td>699</td>\n",
       "      <td>12</td>\n",
       "      <td>1</td>\n",
       "      <td>0</td>\n",
       "      <td>5</td>\n",
       "      <td>1</td>\n",
       "    </tr>\n",
       "    <tr>\n",
       "      <th>1308</th>\n",
       "      <td>NaN</td>\n",
       "      <td>3</td>\n",
       "      <td>Frederick</td>\n",
       "      <td>1</td>\n",
       "      <td>31.073377</td>\n",
       "      <td>0</td>\n",
       "      <td>0</td>\n",
       "      <td>359309</td>\n",
       "      <td>-0.488127</td>\n",
       "      <td>NaN</td>\n",
       "      <td>...</td>\n",
       "      <td>Mr</td>\n",
       "      <td>1</td>\n",
       "      <td>40</td>\n",
       "      <td>390</td>\n",
       "      <td>827</td>\n",
       "      <td>12</td>\n",
       "      <td>1</td>\n",
       "      <td>1</td>\n",
       "      <td>5</td>\n",
       "      <td>1</td>\n",
       "    </tr>\n",
       "    <tr>\n",
       "      <th>1309</th>\n",
       "      <td>NaN</td>\n",
       "      <td>3</td>\n",
       "      <td>Michael J</td>\n",
       "      <td>1</td>\n",
       "      <td>1.381665</td>\n",
       "      <td>1</td>\n",
       "      <td>1</td>\n",
       "      <td>2668</td>\n",
       "      <td>-0.211473</td>\n",
       "      <td>NaN</td>\n",
       "      <td>...</td>\n",
       "      <td>Master</td>\n",
       "      <td>3</td>\n",
       "      <td>40</td>\n",
       "      <td>799</td>\n",
       "      <td>634</td>\n",
       "      <td>8</td>\n",
       "      <td>1</td>\n",
       "      <td>1</td>\n",
       "      <td>5</td>\n",
       "      <td>1</td>\n",
       "    </tr>\n",
       "  </tbody>\n",
       "</table>\n",
       "<p>1309 rows × 23 columns</p>\n",
       "</div>"
      ],
      "text/plain": [
       "             Survived  Pclass                                   Name  Sex  \\\n",
       "PassengerId                                                                 \n",
       "1                 0.0       3                            Owen Harris    1   \n",
       "2                 1.0       1  John Bradley (Florence Briggs Thayer)    0   \n",
       "3                 1.0       3                                  Laina    0   \n",
       "4                 1.0       1          Jacques Heath (Lily May Peel)    0   \n",
       "5                 0.0       3                          William Henry    1   \n",
       "...               ...     ...                                    ...  ...   \n",
       "1305              NaN       3                                  Woolf    1   \n",
       "1306              NaN       1                                Fermina    0   \n",
       "1307              NaN       3                        Simon Sivertsen    1   \n",
       "1308              NaN       3                              Frederick    1   \n",
       "1309              NaN       3                              Michael J    1   \n",
       "\n",
       "                   Age  SibSp  Parch              Ticket      Fare Cabin  ...  \\\n",
       "PassengerId                                                               ...   \n",
       "1            22.000000      1      0           A/5 21171 -0.503595   NaN  ...   \n",
       "2            38.000000      1      0            PC 17599  0.734503   C85  ...   \n",
       "3            26.000000      0      0    STON/O2. 3101282 -0.490544   NaN  ...   \n",
       "4            35.000000      1      0              113803  0.382925  C123  ...   \n",
       "5            35.000000      0      0              373450 -0.488127   NaN  ...   \n",
       "...                ...    ...    ...                 ...       ...   ...  ...   \n",
       "1305         26.994279      0      0           A.5. 3236 -0.488127   NaN  ...   \n",
       "1306         39.000000      0      0            PC 17758  1.461829  C105  ...   \n",
       "1307         38.500000      0      0  SOTON/O.Q. 3101262 -0.503595   NaN  ...   \n",
       "1308         31.073377      0      0              359309 -0.488127   NaN  ...   \n",
       "1309          1.381665      1      1                2668 -0.211473   NaN  ...   \n",
       "\n",
       "              Title FamilySize TicketSeries NameSeries  SurnameSeries  \\\n",
       "PassengerId                                                             \n",
       "1                Mr          2            2        855            100   \n",
       "2               Mrs          2           17        601            182   \n",
       "3              Miss          1           34        690            329   \n",
       "4               Mrs          2           40        541            267   \n",
       "5                Mr          1           40       1102             15   \n",
       "...             ...        ...          ...        ...            ...   \n",
       "1305             Mr          1            5       1119            753   \n",
       "1306           Dona          1           17        366            593   \n",
       "1307             Mr          1           31        973            699   \n",
       "1308             Mr          1           40        390            827   \n",
       "1309         Master          3           40        799            634   \n",
       "\n",
       "             TitleSeries  IsTest  isAgePreds  CabinSeries  isCabinSeriesPreds  \n",
       "PassengerId                                                                    \n",
       "1                     12       0           0            5                   1  \n",
       "2                     13       0           0            2                   0  \n",
       "3                      9       0           0            4                   1  \n",
       "4                     13       0           0            2                   0  \n",
       "5                     12       0           0            5                   1  \n",
       "...                  ...     ...         ...          ...                 ...  \n",
       "1305                  12       1           1            5                   1  \n",
       "1306                   3       1           0            2                   0  \n",
       "1307                  12       1           0            5                   1  \n",
       "1308                  12       1           1            5                   1  \n",
       "1309                   8       1           1            5                   1  \n",
       "\n",
       "[1309 rows x 23 columns]"
      ]
     },
     "execution_count": 5,
     "metadata": {},
     "output_type": "execute_result"
    },
    {
     "data": {
      "application/javascript": [
       "\n",
       "            setTimeout(function() {\n",
       "                var nbb_cell_id = 5;\n",
       "                var nbb_unformatted_code = \"df\";\n",
       "                var nbb_formatted_code = \"df\";\n",
       "                var nbb_cells = Jupyter.notebook.get_cells();\n",
       "                for (var i = 0; i < nbb_cells.length; ++i) {\n",
       "                    if (nbb_cells[i].input_prompt_number == nbb_cell_id) {\n",
       "                        if (nbb_cells[i].get_text() == nbb_unformatted_code) {\n",
       "                             nbb_cells[i].set_text(nbb_formatted_code);\n",
       "                        }\n",
       "                        break;\n",
       "                    }\n",
       "                }\n",
       "            }, 500);\n",
       "            "
      ],
      "text/plain": [
       "<IPython.core.display.Javascript object>"
      ]
     },
     "metadata": {},
     "output_type": "display_data"
    }
   ],
   "source": [
    "df"
   ]
  },
  {
   "cell_type": "code",
   "execution_count": 6,
   "metadata": {
    "ExecuteTime": {
     "end_time": "2022-11-14T09:43:29.354907Z",
     "start_time": "2022-11-14T09:43:29.342209Z"
    }
   },
   "outputs": [
    {
     "data": {
      "text/html": [
       "<div>\n",
       "<style scoped>\n",
       "    .dataframe tbody tr th:only-of-type {\n",
       "        vertical-align: middle;\n",
       "    }\n",
       "\n",
       "    .dataframe tbody tr th {\n",
       "        vertical-align: top;\n",
       "    }\n",
       "\n",
       "    .dataframe thead th {\n",
       "        text-align: right;\n",
       "    }\n",
       "</style>\n",
       "<table border=\"1\" class=\"dataframe\">\n",
       "  <thead>\n",
       "    <tr style=\"text-align: right;\">\n",
       "      <th></th>\n",
       "      <th>Pclass</th>\n",
       "      <th>Sex</th>\n",
       "      <th>Age</th>\n",
       "      <th>SibSp</th>\n",
       "      <th>Parch</th>\n",
       "      <th>Fare</th>\n",
       "      <th>Embarked</th>\n",
       "      <th>FamilySize</th>\n",
       "      <th>TicketSeries</th>\n",
       "      <th>NameSeries</th>\n",
       "      <th>SurnameSeries</th>\n",
       "      <th>TitleSeries</th>\n",
       "      <th>CabinSeries</th>\n",
       "    </tr>\n",
       "    <tr>\n",
       "      <th>PassengerId</th>\n",
       "      <th></th>\n",
       "      <th></th>\n",
       "      <th></th>\n",
       "      <th></th>\n",
       "      <th></th>\n",
       "      <th></th>\n",
       "      <th></th>\n",
       "      <th></th>\n",
       "      <th></th>\n",
       "      <th></th>\n",
       "      <th></th>\n",
       "      <th></th>\n",
       "      <th></th>\n",
       "    </tr>\n",
       "  </thead>\n",
       "  <tbody>\n",
       "    <tr>\n",
       "      <th>1</th>\n",
       "      <td>3</td>\n",
       "      <td>1</td>\n",
       "      <td>22.000000</td>\n",
       "      <td>1</td>\n",
       "      <td>0</td>\n",
       "      <td>-0.503595</td>\n",
       "      <td>2</td>\n",
       "      <td>2</td>\n",
       "      <td>2</td>\n",
       "      <td>855</td>\n",
       "      <td>100</td>\n",
       "      <td>12</td>\n",
       "      <td>5</td>\n",
       "    </tr>\n",
       "    <tr>\n",
       "      <th>2</th>\n",
       "      <td>1</td>\n",
       "      <td>0</td>\n",
       "      <td>38.000000</td>\n",
       "      <td>1</td>\n",
       "      <td>0</td>\n",
       "      <td>0.734503</td>\n",
       "      <td>0</td>\n",
       "      <td>2</td>\n",
       "      <td>17</td>\n",
       "      <td>601</td>\n",
       "      <td>182</td>\n",
       "      <td>13</td>\n",
       "      <td>2</td>\n",
       "    </tr>\n",
       "    <tr>\n",
       "      <th>3</th>\n",
       "      <td>3</td>\n",
       "      <td>0</td>\n",
       "      <td>26.000000</td>\n",
       "      <td>0</td>\n",
       "      <td>0</td>\n",
       "      <td>-0.490544</td>\n",
       "      <td>2</td>\n",
       "      <td>1</td>\n",
       "      <td>34</td>\n",
       "      <td>690</td>\n",
       "      <td>329</td>\n",
       "      <td>9</td>\n",
       "      <td>4</td>\n",
       "    </tr>\n",
       "    <tr>\n",
       "      <th>4</th>\n",
       "      <td>1</td>\n",
       "      <td>0</td>\n",
       "      <td>35.000000</td>\n",
       "      <td>1</td>\n",
       "      <td>0</td>\n",
       "      <td>0.382925</td>\n",
       "      <td>2</td>\n",
       "      <td>2</td>\n",
       "      <td>40</td>\n",
       "      <td>541</td>\n",
       "      <td>267</td>\n",
       "      <td>13</td>\n",
       "      <td>2</td>\n",
       "    </tr>\n",
       "    <tr>\n",
       "      <th>5</th>\n",
       "      <td>3</td>\n",
       "      <td>1</td>\n",
       "      <td>35.000000</td>\n",
       "      <td>0</td>\n",
       "      <td>0</td>\n",
       "      <td>-0.488127</td>\n",
       "      <td>2</td>\n",
       "      <td>1</td>\n",
       "      <td>40</td>\n",
       "      <td>1102</td>\n",
       "      <td>15</td>\n",
       "      <td>12</td>\n",
       "      <td>5</td>\n",
       "    </tr>\n",
       "    <tr>\n",
       "      <th>...</th>\n",
       "      <td>...</td>\n",
       "      <td>...</td>\n",
       "      <td>...</td>\n",
       "      <td>...</td>\n",
       "      <td>...</td>\n",
       "      <td>...</td>\n",
       "      <td>...</td>\n",
       "      <td>...</td>\n",
       "      <td>...</td>\n",
       "      <td>...</td>\n",
       "      <td>...</td>\n",
       "      <td>...</td>\n",
       "      <td>...</td>\n",
       "    </tr>\n",
       "    <tr>\n",
       "      <th>1305</th>\n",
       "      <td>3</td>\n",
       "      <td>1</td>\n",
       "      <td>26.994279</td>\n",
       "      <td>0</td>\n",
       "      <td>0</td>\n",
       "      <td>-0.488127</td>\n",
       "      <td>2</td>\n",
       "      <td>1</td>\n",
       "      <td>5</td>\n",
       "      <td>1119</td>\n",
       "      <td>753</td>\n",
       "      <td>12</td>\n",
       "      <td>5</td>\n",
       "    </tr>\n",
       "    <tr>\n",
       "      <th>1306</th>\n",
       "      <td>1</td>\n",
       "      <td>0</td>\n",
       "      <td>39.000000</td>\n",
       "      <td>0</td>\n",
       "      <td>0</td>\n",
       "      <td>1.461829</td>\n",
       "      <td>0</td>\n",
       "      <td>1</td>\n",
       "      <td>17</td>\n",
       "      <td>366</td>\n",
       "      <td>593</td>\n",
       "      <td>3</td>\n",
       "      <td>2</td>\n",
       "    </tr>\n",
       "    <tr>\n",
       "      <th>1307</th>\n",
       "      <td>3</td>\n",
       "      <td>1</td>\n",
       "      <td>38.500000</td>\n",
       "      <td>0</td>\n",
       "      <td>0</td>\n",
       "      <td>-0.503595</td>\n",
       "      <td>2</td>\n",
       "      <td>1</td>\n",
       "      <td>31</td>\n",
       "      <td>973</td>\n",
       "      <td>699</td>\n",
       "      <td>12</td>\n",
       "      <td>5</td>\n",
       "    </tr>\n",
       "    <tr>\n",
       "      <th>1308</th>\n",
       "      <td>3</td>\n",
       "      <td>1</td>\n",
       "      <td>31.073377</td>\n",
       "      <td>0</td>\n",
       "      <td>0</td>\n",
       "      <td>-0.488127</td>\n",
       "      <td>2</td>\n",
       "      <td>1</td>\n",
       "      <td>40</td>\n",
       "      <td>390</td>\n",
       "      <td>827</td>\n",
       "      <td>12</td>\n",
       "      <td>5</td>\n",
       "    </tr>\n",
       "    <tr>\n",
       "      <th>1309</th>\n",
       "      <td>3</td>\n",
       "      <td>1</td>\n",
       "      <td>1.381665</td>\n",
       "      <td>1</td>\n",
       "      <td>1</td>\n",
       "      <td>-0.211473</td>\n",
       "      <td>0</td>\n",
       "      <td>3</td>\n",
       "      <td>40</td>\n",
       "      <td>799</td>\n",
       "      <td>634</td>\n",
       "      <td>8</td>\n",
       "      <td>5</td>\n",
       "    </tr>\n",
       "  </tbody>\n",
       "</table>\n",
       "<p>1309 rows × 13 columns</p>\n",
       "</div>"
      ],
      "text/plain": [
       "             Pclass  Sex        Age  SibSp  Parch      Fare  Embarked  \\\n",
       "PassengerId                                                             \n",
       "1                 3    1  22.000000      1      0 -0.503595         2   \n",
       "2                 1    0  38.000000      1      0  0.734503         0   \n",
       "3                 3    0  26.000000      0      0 -0.490544         2   \n",
       "4                 1    0  35.000000      1      0  0.382925         2   \n",
       "5                 3    1  35.000000      0      0 -0.488127         2   \n",
       "...             ...  ...        ...    ...    ...       ...       ...   \n",
       "1305              3    1  26.994279      0      0 -0.488127         2   \n",
       "1306              1    0  39.000000      0      0  1.461829         0   \n",
       "1307              3    1  38.500000      0      0 -0.503595         2   \n",
       "1308              3    1  31.073377      0      0 -0.488127         2   \n",
       "1309              3    1   1.381665      1      1 -0.211473         0   \n",
       "\n",
       "             FamilySize  TicketSeries  NameSeries  SurnameSeries  TitleSeries  \\\n",
       "PassengerId                                                                     \n",
       "1                     2             2         855            100           12   \n",
       "2                     2            17         601            182           13   \n",
       "3                     1            34         690            329            9   \n",
       "4                     2            40         541            267           13   \n",
       "5                     1            40        1102             15           12   \n",
       "...                 ...           ...         ...            ...          ...   \n",
       "1305                  1             5        1119            753           12   \n",
       "1306                  1            17         366            593            3   \n",
       "1307                  1            31         973            699           12   \n",
       "1308                  1            40         390            827           12   \n",
       "1309                  3            40         799            634            8   \n",
       "\n",
       "             CabinSeries  \n",
       "PassengerId               \n",
       "1                      5  \n",
       "2                      2  \n",
       "3                      4  \n",
       "4                      2  \n",
       "5                      5  \n",
       "...                  ...  \n",
       "1305                   5  \n",
       "1306                   2  \n",
       "1307                   5  \n",
       "1308                   5  \n",
       "1309                   5  \n",
       "\n",
       "[1309 rows x 13 columns]"
      ]
     },
     "execution_count": 6,
     "metadata": {},
     "output_type": "execute_result"
    },
    {
     "data": {
      "application/javascript": [
       "\n",
       "            setTimeout(function() {\n",
       "                var nbb_cell_id = 6;\n",
       "                var nbb_unformatted_code = \"X = df.drop(\\n    [\\n        \\\"Survived\\\",\\n        \\\"Name\\\",\\n        \\\"Ticket\\\",\\n        \\\"Cabin\\\",\\n        \\\"FullName\\\",\\n        \\\"Surname\\\",\\n        \\\"Title\\\",\\n        \\\"IsTest\\\",\\n        \\\"isAgePreds\\\",\\n        \\\"isCabinSeriesPreds\\\",\\n    ],\\n    axis=1,\\n)\\nX\";\n",
       "                var nbb_formatted_code = \"X = df.drop(\\n    [\\n        \\\"Survived\\\",\\n        \\\"Name\\\",\\n        \\\"Ticket\\\",\\n        \\\"Cabin\\\",\\n        \\\"FullName\\\",\\n        \\\"Surname\\\",\\n        \\\"Title\\\",\\n        \\\"IsTest\\\",\\n        \\\"isAgePreds\\\",\\n        \\\"isCabinSeriesPreds\\\",\\n    ],\\n    axis=1,\\n)\\nX\";\n",
       "                var nbb_cells = Jupyter.notebook.get_cells();\n",
       "                for (var i = 0; i < nbb_cells.length; ++i) {\n",
       "                    if (nbb_cells[i].input_prompt_number == nbb_cell_id) {\n",
       "                        if (nbb_cells[i].get_text() == nbb_unformatted_code) {\n",
       "                             nbb_cells[i].set_text(nbb_formatted_code);\n",
       "                        }\n",
       "                        break;\n",
       "                    }\n",
       "                }\n",
       "            }, 500);\n",
       "            "
      ],
      "text/plain": [
       "<IPython.core.display.Javascript object>"
      ]
     },
     "metadata": {},
     "output_type": "display_data"
    }
   ],
   "source": [
    "X = df.drop(\n",
    "    [\n",
    "        \"Survived\",\n",
    "        \"Name\",\n",
    "        \"Ticket\",\n",
    "        \"Cabin\",\n",
    "        \"FullName\",\n",
    "        \"Surname\",\n",
    "        \"Title\",\n",
    "        \"IsTest\",\n",
    "        \"isAgePreds\",\n",
    "        \"isCabinSeriesPreds\",\n",
    "    ],\n",
    "    axis=1,\n",
    ")\n",
    "X"
   ]
  },
  {
   "cell_type": "code",
   "execution_count": 7,
   "metadata": {
    "ExecuteTime": {
     "end_time": "2022-11-14T09:43:29.362904Z",
     "start_time": "2022-11-14T09:43:29.355891Z"
    }
   },
   "outputs": [
    {
     "data": {
      "text/plain": [
       "Survived\n",
       "0.0         549\n",
       "NaN         418\n",
       "1.0         342\n",
       "dtype: int64"
      ]
     },
     "execution_count": 7,
     "metadata": {},
     "output_type": "execute_result"
    },
    {
     "data": {
      "application/javascript": [
       "\n",
       "            setTimeout(function() {\n",
       "                var nbb_cell_id = 7;\n",
       "                var nbb_unformatted_code = \"y = df[[\\\"Survived\\\"]]\\ny.value_counts(dropna=False)\";\n",
       "                var nbb_formatted_code = \"y = df[[\\\"Survived\\\"]]\\ny.value_counts(dropna=False)\";\n",
       "                var nbb_cells = Jupyter.notebook.get_cells();\n",
       "                for (var i = 0; i < nbb_cells.length; ++i) {\n",
       "                    if (nbb_cells[i].input_prompt_number == nbb_cell_id) {\n",
       "                        if (nbb_cells[i].get_text() == nbb_unformatted_code) {\n",
       "                             nbb_cells[i].set_text(nbb_formatted_code);\n",
       "                        }\n",
       "                        break;\n",
       "                    }\n",
       "                }\n",
       "            }, 500);\n",
       "            "
      ],
      "text/plain": [
       "<IPython.core.display.Javascript object>"
      ]
     },
     "metadata": {},
     "output_type": "display_data"
    }
   ],
   "source": [
    "y = df[[\"Survived\"]]\n",
    "y.value_counts(dropna=False)"
   ]
  },
  {
   "cell_type": "code",
   "execution_count": 8,
   "metadata": {
    "ExecuteTime": {
     "end_time": "2022-11-14T09:43:29.371307Z",
     "start_time": "2022-11-14T09:43:29.364678Z"
    }
   },
   "outputs": [
    {
     "data": {
      "text/plain": [
       "Int64Index([  1,   2,   3,   4,   5,   6,   7,   8,   9,  10,\n",
       "            ...\n",
       "            882, 883, 884, 885, 886, 887, 888, 889, 890, 891],\n",
       "           dtype='int64', name='PassengerId', length=891)"
      ]
     },
     "execution_count": 8,
     "metadata": {},
     "output_type": "execute_result"
    },
    {
     "data": {
      "application/javascript": [
       "\n",
       "            setTimeout(function() {\n",
       "                var nbb_cell_id = 8;\n",
       "                var nbb_unformatted_code = \"train_index = y[~y[\\\"Survived\\\"].isna()].index\\ntrain_index\";\n",
       "                var nbb_formatted_code = \"train_index = y[~y[\\\"Survived\\\"].isna()].index\\ntrain_index\";\n",
       "                var nbb_cells = Jupyter.notebook.get_cells();\n",
       "                for (var i = 0; i < nbb_cells.length; ++i) {\n",
       "                    if (nbb_cells[i].input_prompt_number == nbb_cell_id) {\n",
       "                        if (nbb_cells[i].get_text() == nbb_unformatted_code) {\n",
       "                             nbb_cells[i].set_text(nbb_formatted_code);\n",
       "                        }\n",
       "                        break;\n",
       "                    }\n",
       "                }\n",
       "            }, 500);\n",
       "            "
      ],
      "text/plain": [
       "<IPython.core.display.Javascript object>"
      ]
     },
     "metadata": {},
     "output_type": "display_data"
    }
   ],
   "source": [
    "train_index = y[~y[\"Survived\"].isna()].index\n",
    "train_index"
   ]
  },
  {
   "cell_type": "code",
   "execution_count": 9,
   "metadata": {
    "ExecuteTime": {
     "end_time": "2022-11-14T09:43:29.381699Z",
     "start_time": "2022-11-14T09:43:29.372335Z"
    }
   },
   "outputs": [
    {
     "data": {
      "text/plain": [
       "((891, 13), (418, 13), (891, 1))"
      ]
     },
     "execution_count": 9,
     "metadata": {},
     "output_type": "execute_result"
    },
    {
     "data": {
      "application/javascript": [
       "\n",
       "            setTimeout(function() {\n",
       "                var nbb_cell_id = 9;\n",
       "                var nbb_unformatted_code = \"X_train = X[X.index.isin(train_index)]\\nX_test = X[~X.index.isin(train_index)]\\n\\ny_train = y[y.index.isin(train_index)]\\n\\nX_train.shape, X_test.shape, y_train.shape\";\n",
       "                var nbb_formatted_code = \"X_train = X[X.index.isin(train_index)]\\nX_test = X[~X.index.isin(train_index)]\\n\\ny_train = y[y.index.isin(train_index)]\\n\\nX_train.shape, X_test.shape, y_train.shape\";\n",
       "                var nbb_cells = Jupyter.notebook.get_cells();\n",
       "                for (var i = 0; i < nbb_cells.length; ++i) {\n",
       "                    if (nbb_cells[i].input_prompt_number == nbb_cell_id) {\n",
       "                        if (nbb_cells[i].get_text() == nbb_unformatted_code) {\n",
       "                             nbb_cells[i].set_text(nbb_formatted_code);\n",
       "                        }\n",
       "                        break;\n",
       "                    }\n",
       "                }\n",
       "            }, 500);\n",
       "            "
      ],
      "text/plain": [
       "<IPython.core.display.Javascript object>"
      ]
     },
     "metadata": {},
     "output_type": "display_data"
    }
   ],
   "source": [
    "X_train = X[X.index.isin(train_index)]\n",
    "X_test = X[~X.index.isin(train_index)]\n",
    "\n",
    "y_train = y[y.index.isin(train_index)]\n",
    "\n",
    "X_train.shape, X_test.shape, y_train.shape"
   ]
  },
  {
   "cell_type": "code",
   "execution_count": 10,
   "metadata": {
    "ExecuteTime": {
     "end_time": "2022-11-14T09:43:29.389224Z",
     "start_time": "2022-11-14T09:43:29.382848Z"
    }
   },
   "outputs": [
    {
     "data": {
      "text/plain": [
       "((801, 13), (90, 13), (801, 1), (90, 1))"
      ]
     },
     "execution_count": 10,
     "metadata": {},
     "output_type": "execute_result"
    },
    {
     "data": {
      "application/javascript": [
       "\n",
       "            setTimeout(function() {\n",
       "                var nbb_cell_id = 10;\n",
       "                var nbb_unformatted_code = \"X_train, X_true, y_train, y_true = train_test_split(\\n    X_train, y_train, test_size=0.1, random_state=42\\n)\\nX_train.shape, X_true.shape, y_train.shape, y_true.shape\";\n",
       "                var nbb_formatted_code = \"X_train, X_true, y_train, y_true = train_test_split(\\n    X_train, y_train, test_size=0.1, random_state=42\\n)\\nX_train.shape, X_true.shape, y_train.shape, y_true.shape\";\n",
       "                var nbb_cells = Jupyter.notebook.get_cells();\n",
       "                for (var i = 0; i < nbb_cells.length; ++i) {\n",
       "                    if (nbb_cells[i].input_prompt_number == nbb_cell_id) {\n",
       "                        if (nbb_cells[i].get_text() == nbb_unformatted_code) {\n",
       "                             nbb_cells[i].set_text(nbb_formatted_code);\n",
       "                        }\n",
       "                        break;\n",
       "                    }\n",
       "                }\n",
       "            }, 500);\n",
       "            "
      ],
      "text/plain": [
       "<IPython.core.display.Javascript object>"
      ]
     },
     "metadata": {},
     "output_type": "display_data"
    }
   ],
   "source": [
    "X_train, X_true, y_train, y_true = train_test_split(\n",
    "    X_train, y_train, test_size=0.1, random_state=42\n",
    ")\n",
    "X_train.shape, X_true.shape, y_train.shape, y_true.shape"
   ]
  },
  {
   "cell_type": "markdown",
   "metadata": {
    "id": "e9-inB5mXCjC"
   },
   "source": [
    "# Train"
   ]
  },
  {
   "cell_type": "code",
   "execution_count": 11,
   "metadata": {
    "ExecuteTime": {
     "end_time": "2022-11-14T09:43:29.392907Z",
     "start_time": "2022-11-14T09:43:29.390001Z"
    }
   },
   "outputs": [
    {
     "data": {
      "application/javascript": [
       "\n",
       "            setTimeout(function() {\n",
       "                var nbb_cell_id = 11;\n",
       "                var nbb_unformatted_code = \"skf = StratifiedKFold(n_splits=5)\";\n",
       "                var nbb_formatted_code = \"skf = StratifiedKFold(n_splits=5)\";\n",
       "                var nbb_cells = Jupyter.notebook.get_cells();\n",
       "                for (var i = 0; i < nbb_cells.length; ++i) {\n",
       "                    if (nbb_cells[i].input_prompt_number == nbb_cell_id) {\n",
       "                        if (nbb_cells[i].get_text() == nbb_unformatted_code) {\n",
       "                             nbb_cells[i].set_text(nbb_formatted_code);\n",
       "                        }\n",
       "                        break;\n",
       "                    }\n",
       "                }\n",
       "            }, 500);\n",
       "            "
      ],
      "text/plain": [
       "<IPython.core.display.Javascript object>"
      ]
     },
     "metadata": {},
     "output_type": "display_data"
    }
   ],
   "source": [
    "skf = StratifiedKFold(n_splits=5)"
   ]
  },
  {
   "cell_type": "code",
   "execution_count": 12,
   "metadata": {
    "ExecuteTime": {
     "end_time": "2022-11-14T09:43:32.691799Z",
     "start_time": "2022-11-14T09:43:29.393741Z"
    },
    "colab": {
     "base_uri": "https://localhost:8080/"
    },
    "id": "B9kjackPXBfI",
    "outputId": "bcc6137e-49c2-428f-e9c9-e792a5527ee1"
   },
   "outputs": [
    {
     "name": "stdout",
     "output_type": "stream",
     "text": [
      "{'learn': {'Logloss': 0.04144909381866455}, 'validation': {'Logloss': 0.39303266479286475}}\n",
      "{'learn': {'Logloss': 0.054608813290848934}, 'validation': {'Logloss': 0.44493270396210916}}\n",
      "{'learn': {'Logloss': 0.05476003343038924}, 'validation': {'Logloss': 0.325476066507587}}\n",
      "{'learn': {'Logloss': 0.05555668419485624}, 'validation': {'Logloss': 0.4295912293065287}}\n",
      "{'learn': {'Logloss': 0.05457798958219902}, 'validation': {'Logloss': 0.3543510821864202}}\n"
     ]
    },
    {
     "data": {
      "application/javascript": [
       "\n",
       "            setTimeout(function() {\n",
       "                var nbb_cell_id = 12;\n",
       "                var nbb_unformatted_code = \"ensemble = []\\n\\nfor i, (train_index, val_index) in enumerate(skf.split(X_train, y_train)):\\n    X_sub_train, X_sub_val = X_train.iloc[train_index], X_train.iloc[val_index]\\n    y_sub_train, y_sub_val = y_train.iloc[train_index], y_train.iloc[val_index]\\n\\n    model = CatBoostClassifier()\\n\\n    model.fit(\\n        Pool(X_sub_train, y_sub_train),\\n        eval_set=Pool(X_sub_val, y_sub_val),\\n        verbose=False,\\n    )\\n\\n    ensemble.append(model)\\n    print(model.best_score_)\";\n",
       "                var nbb_formatted_code = \"ensemble = []\\n\\nfor i, (train_index, val_index) in enumerate(skf.split(X_train, y_train)):\\n    X_sub_train, X_sub_val = X_train.iloc[train_index], X_train.iloc[val_index]\\n    y_sub_train, y_sub_val = y_train.iloc[train_index], y_train.iloc[val_index]\\n\\n    model = CatBoostClassifier()\\n\\n    model.fit(\\n        Pool(X_sub_train, y_sub_train),\\n        eval_set=Pool(X_sub_val, y_sub_val),\\n        verbose=False,\\n    )\\n\\n    ensemble.append(model)\\n    print(model.best_score_)\";\n",
       "                var nbb_cells = Jupyter.notebook.get_cells();\n",
       "                for (var i = 0; i < nbb_cells.length; ++i) {\n",
       "                    if (nbb_cells[i].input_prompt_number == nbb_cell_id) {\n",
       "                        if (nbb_cells[i].get_text() == nbb_unformatted_code) {\n",
       "                             nbb_cells[i].set_text(nbb_formatted_code);\n",
       "                        }\n",
       "                        break;\n",
       "                    }\n",
       "                }\n",
       "            }, 500);\n",
       "            "
      ],
      "text/plain": [
       "<IPython.core.display.Javascript object>"
      ]
     },
     "metadata": {},
     "output_type": "display_data"
    }
   ],
   "source": [
    "ensemble = []\n",
    "\n",
    "for i, (train_index, val_index) in enumerate(skf.split(X_train, y_train)):\n",
    "    X_sub_train, X_sub_val = X_train.iloc[train_index], X_train.iloc[val_index]\n",
    "    y_sub_train, y_sub_val = y_train.iloc[train_index], y_train.iloc[val_index]\n",
    "\n",
    "    model = CatBoostClassifier()\n",
    "\n",
    "    model.fit(\n",
    "        Pool(X_sub_train, y_sub_train),\n",
    "        eval_set=Pool(X_sub_val, y_sub_val),\n",
    "        verbose=False,\n",
    "    )\n",
    "\n",
    "    ensemble.append(model)\n",
    "    print(model.best_score_)"
   ]
  },
  {
   "cell_type": "code",
   "execution_count": 13,
   "metadata": {
    "ExecuteTime": {
     "end_time": "2022-11-14T09:43:32.701210Z",
     "start_time": "2022-11-14T09:43:32.692727Z"
    }
   },
   "outputs": [
    {
     "data": {
      "text/plain": [
       "<catboost.core.CatBoost at 0x7f6bba3c7ca0>"
      ]
     },
     "execution_count": 13,
     "metadata": {},
     "output_type": "execute_result"
    },
    {
     "data": {
      "application/javascript": [
       "\n",
       "            setTimeout(function() {\n",
       "                var nbb_cell_id = 13;\n",
       "                var nbb_unformatted_code = \"models_avrg = sum_models(ensemble, weights=[1.0 / len(ensemble)] * len(ensemble))\\nmodels_avrg\";\n",
       "                var nbb_formatted_code = \"models_avrg = sum_models(ensemble, weights=[1.0 / len(ensemble)] * len(ensemble))\\nmodels_avrg\";\n",
       "                var nbb_cells = Jupyter.notebook.get_cells();\n",
       "                for (var i = 0; i < nbb_cells.length; ++i) {\n",
       "                    if (nbb_cells[i].input_prompt_number == nbb_cell_id) {\n",
       "                        if (nbb_cells[i].get_text() == nbb_unformatted_code) {\n",
       "                             nbb_cells[i].set_text(nbb_formatted_code);\n",
       "                        }\n",
       "                        break;\n",
       "                    }\n",
       "                }\n",
       "            }, 500);\n",
       "            "
      ],
      "text/plain": [
       "<IPython.core.display.Javascript object>"
      ]
     },
     "metadata": {},
     "output_type": "display_data"
    }
   ],
   "source": [
    "models_avrg = sum_models(ensemble, weights=[1.0 / len(ensemble)] * len(ensemble))\n",
    "models_avrg"
   ]
  },
  {
   "cell_type": "code",
   "execution_count": 14,
   "metadata": {
    "ExecuteTime": {
     "end_time": "2022-11-14T09:43:32.717755Z",
     "start_time": "2022-11-14T09:43:32.702588Z"
    }
   },
   "outputs": [
    {
     "data": {
      "text/plain": [
       "array([11.33028341, 25.79584303, 10.78633536,  2.39988041,  1.5656157 ,\n",
       "        7.53589078,  4.14638897,  4.04107384,  4.29316402,  8.73023567,\n",
       "        9.82632591,  4.89756951,  4.6513934 ])"
      ]
     },
     "execution_count": 14,
     "metadata": {},
     "output_type": "execute_result"
    },
    {
     "data": {
      "application/javascript": [
       "\n",
       "            setTimeout(function() {\n",
       "                var nbb_cell_id = 14;\n",
       "                var nbb_unformatted_code = \"models_avrg.get_feature_importance()\";\n",
       "                var nbb_formatted_code = \"models_avrg.get_feature_importance()\";\n",
       "                var nbb_cells = Jupyter.notebook.get_cells();\n",
       "                for (var i = 0; i < nbb_cells.length; ++i) {\n",
       "                    if (nbb_cells[i].input_prompt_number == nbb_cell_id) {\n",
       "                        if (nbb_cells[i].get_text() == nbb_unformatted_code) {\n",
       "                             nbb_cells[i].set_text(nbb_formatted_code);\n",
       "                        }\n",
       "                        break;\n",
       "                    }\n",
       "                }\n",
       "            }, 500);\n",
       "            "
      ],
      "text/plain": [
       "<IPython.core.display.Javascript object>"
      ]
     },
     "metadata": {},
     "output_type": "display_data"
    }
   ],
   "source": [
    "models_avrg.get_feature_importance()"
   ]
  },
  {
   "cell_type": "code",
   "execution_count": 15,
   "metadata": {
    "ExecuteTime": {
     "end_time": "2022-11-14T09:43:32.730069Z",
     "start_time": "2022-11-14T09:43:32.718555Z"
    }
   },
   "outputs": [
    {
     "data": {
      "text/html": [
       "<div>\n",
       "<style scoped>\n",
       "    .dataframe tbody tr th:only-of-type {\n",
       "        vertical-align: middle;\n",
       "    }\n",
       "\n",
       "    .dataframe tbody tr th {\n",
       "        vertical-align: top;\n",
       "    }\n",
       "\n",
       "    .dataframe thead th {\n",
       "        text-align: right;\n",
       "    }\n",
       "</style>\n",
       "<table border=\"1\" class=\"dataframe\">\n",
       "  <thead>\n",
       "    <tr style=\"text-align: right;\">\n",
       "      <th></th>\n",
       "      <th>Column</th>\n",
       "      <th>Score</th>\n",
       "    </tr>\n",
       "  </thead>\n",
       "  <tbody>\n",
       "    <tr>\n",
       "      <th>1</th>\n",
       "      <td>Sex</td>\n",
       "      <td>25.795843</td>\n",
       "    </tr>\n",
       "    <tr>\n",
       "      <th>0</th>\n",
       "      <td>Pclass</td>\n",
       "      <td>11.330283</td>\n",
       "    </tr>\n",
       "    <tr>\n",
       "      <th>2</th>\n",
       "      <td>Age</td>\n",
       "      <td>10.786335</td>\n",
       "    </tr>\n",
       "    <tr>\n",
       "      <th>10</th>\n",
       "      <td>SurnameSeries</td>\n",
       "      <td>9.826326</td>\n",
       "    </tr>\n",
       "    <tr>\n",
       "      <th>9</th>\n",
       "      <td>NameSeries</td>\n",
       "      <td>8.730236</td>\n",
       "    </tr>\n",
       "    <tr>\n",
       "      <th>5</th>\n",
       "      <td>Fare</td>\n",
       "      <td>7.535891</td>\n",
       "    </tr>\n",
       "    <tr>\n",
       "      <th>11</th>\n",
       "      <td>TitleSeries</td>\n",
       "      <td>4.897570</td>\n",
       "    </tr>\n",
       "    <tr>\n",
       "      <th>12</th>\n",
       "      <td>CabinSeries</td>\n",
       "      <td>4.651393</td>\n",
       "    </tr>\n",
       "    <tr>\n",
       "      <th>8</th>\n",
       "      <td>TicketSeries</td>\n",
       "      <td>4.293164</td>\n",
       "    </tr>\n",
       "    <tr>\n",
       "      <th>6</th>\n",
       "      <td>Embarked</td>\n",
       "      <td>4.146389</td>\n",
       "    </tr>\n",
       "    <tr>\n",
       "      <th>7</th>\n",
       "      <td>FamilySize</td>\n",
       "      <td>4.041074</td>\n",
       "    </tr>\n",
       "    <tr>\n",
       "      <th>3</th>\n",
       "      <td>SibSp</td>\n",
       "      <td>2.399880</td>\n",
       "    </tr>\n",
       "    <tr>\n",
       "      <th>4</th>\n",
       "      <td>Parch</td>\n",
       "      <td>1.565616</td>\n",
       "    </tr>\n",
       "  </tbody>\n",
       "</table>\n",
       "</div>"
      ],
      "text/plain": [
       "           Column      Score\n",
       "1             Sex  25.795843\n",
       "0          Pclass  11.330283\n",
       "2             Age  10.786335\n",
       "10  SurnameSeries   9.826326\n",
       "9      NameSeries   8.730236\n",
       "5            Fare   7.535891\n",
       "11    TitleSeries   4.897570\n",
       "12    CabinSeries   4.651393\n",
       "8    TicketSeries   4.293164\n",
       "6        Embarked   4.146389\n",
       "7      FamilySize   4.041074\n",
       "3           SibSp   2.399880\n",
       "4           Parch   1.565616"
      ]
     },
     "execution_count": 15,
     "metadata": {},
     "output_type": "execute_result"
    },
    {
     "data": {
      "application/javascript": [
       "\n",
       "            setTimeout(function() {\n",
       "                var nbb_cell_id = 15;\n",
       "                var nbb_unformatted_code = \"pd.DataFrame(\\n    {\\n        \\\"Column\\\": X_test.columns,\\n        \\\"Score\\\": models_avrg.get_feature_importance(),\\n    }\\n).sort_values(by=\\\"Score\\\", ascending=False)\";\n",
       "                var nbb_formatted_code = \"pd.DataFrame(\\n    {\\n        \\\"Column\\\": X_test.columns,\\n        \\\"Score\\\": models_avrg.get_feature_importance(),\\n    }\\n).sort_values(by=\\\"Score\\\", ascending=False)\";\n",
       "                var nbb_cells = Jupyter.notebook.get_cells();\n",
       "                for (var i = 0; i < nbb_cells.length; ++i) {\n",
       "                    if (nbb_cells[i].input_prompt_number == nbb_cell_id) {\n",
       "                        if (nbb_cells[i].get_text() == nbb_unformatted_code) {\n",
       "                             nbb_cells[i].set_text(nbb_formatted_code);\n",
       "                        }\n",
       "                        break;\n",
       "                    }\n",
       "                }\n",
       "            }, 500);\n",
       "            "
      ],
      "text/plain": [
       "<IPython.core.display.Javascript object>"
      ]
     },
     "metadata": {},
     "output_type": "display_data"
    }
   ],
   "source": [
    "pd.DataFrame(\n",
    "    {\n",
    "        \"Column\": X_test.columns,\n",
    "        \"Score\": models_avrg.get_feature_importance(),\n",
    "    }\n",
    ").sort_values(by=\"Score\", ascending=False)"
   ]
  },
  {
   "cell_type": "markdown",
   "metadata": {},
   "source": [
    "# Validate"
   ]
  },
  {
   "cell_type": "code",
   "execution_count": 16,
   "metadata": {
    "ExecuteTime": {
     "end_time": "2022-11-14T09:43:32.735749Z",
     "start_time": "2022-11-14T09:43:32.730904Z"
    }
   },
   "outputs": [
    {
     "data": {
      "text/plain": [
       "array([1., 0., 0., 1., 1., 1., 1., 0., 0., 1., 0., 0., 0., 0., 0., 1., 0.,\n",
       "       1., 0., 0., 0., 0., 1., 0., 0., 0., 1., 0., 0., 1., 0., 1., 0., 1.,\n",
       "       0., 0., 0., 1., 1., 0., 0., 0., 0., 0., 1., 0., 0., 0., 0., 0., 1.,\n",
       "       1., 0., 1., 0., 1., 0., 1., 1., 1., 0., 1., 1., 1., 0., 1., 0., 0.,\n",
       "       0., 1., 1., 1., 1., 1., 0., 0., 1., 1., 1., 0., 0., 1., 1., 0., 0.,\n",
       "       0., 1., 1., 0., 0.])"
      ]
     },
     "execution_count": 16,
     "metadata": {},
     "output_type": "execute_result"
    },
    {
     "data": {
      "application/javascript": [
       "\n",
       "            setTimeout(function() {\n",
       "                var nbb_cell_id = 16;\n",
       "                var nbb_unformatted_code = \"y_preds_1 = to_classifier(models_avrg).predict(X_true)\\ny_preds_1\";\n",
       "                var nbb_formatted_code = \"y_preds_1 = to_classifier(models_avrg).predict(X_true)\\ny_preds_1\";\n",
       "                var nbb_cells = Jupyter.notebook.get_cells();\n",
       "                for (var i = 0; i < nbb_cells.length; ++i) {\n",
       "                    if (nbb_cells[i].input_prompt_number == nbb_cell_id) {\n",
       "                        if (nbb_cells[i].get_text() == nbb_unformatted_code) {\n",
       "                             nbb_cells[i].set_text(nbb_formatted_code);\n",
       "                        }\n",
       "                        break;\n",
       "                    }\n",
       "                }\n",
       "            }, 500);\n",
       "            "
      ],
      "text/plain": [
       "<IPython.core.display.Javascript object>"
      ]
     },
     "metadata": {},
     "output_type": "display_data"
    }
   ],
   "source": [
    "y_preds_1 = to_classifier(models_avrg).predict(X_true)\n",
    "y_preds_1"
   ]
  },
  {
   "cell_type": "code",
   "execution_count": 17,
   "metadata": {
    "ExecuteTime": {
     "end_time": "2022-11-14T09:43:32.742132Z",
     "start_time": "2022-11-14T09:43:32.736505Z"
    }
   },
   "outputs": [
    {
     "data": {
      "text/plain": [
       "0.8333333333333334"
      ]
     },
     "execution_count": 17,
     "metadata": {},
     "output_type": "execute_result"
    },
    {
     "data": {
      "application/javascript": [
       "\n",
       "            setTimeout(function() {\n",
       "                var nbb_cell_id = 17;\n",
       "                var nbb_unformatted_code = \"(y_true[\\\"Survived\\\"] == y_preds_1).sum() / len(y_true)\";\n",
       "                var nbb_formatted_code = \"(y_true[\\\"Survived\\\"] == y_preds_1).sum() / len(y_true)\";\n",
       "                var nbb_cells = Jupyter.notebook.get_cells();\n",
       "                for (var i = 0; i < nbb_cells.length; ++i) {\n",
       "                    if (nbb_cells[i].input_prompt_number == nbb_cell_id) {\n",
       "                        if (nbb_cells[i].get_text() == nbb_unformatted_code) {\n",
       "                             nbb_cells[i].set_text(nbb_formatted_code);\n",
       "                        }\n",
       "                        break;\n",
       "                    }\n",
       "                }\n",
       "            }, 500);\n",
       "            "
      ],
      "text/plain": [
       "<IPython.core.display.Javascript object>"
      ]
     },
     "metadata": {},
     "output_type": "display_data"
    }
   ],
   "source": [
    "(y_true[\"Survived\"] == y_preds_1).sum() / len(y_true)"
   ]
  },
  {
   "cell_type": "markdown",
   "metadata": {
    "id": "DAMIJ5ETcZqe"
   },
   "source": [
    "# Submission"
   ]
  },
  {
   "cell_type": "code",
   "execution_count": 18,
   "metadata": {
    "ExecuteTime": {
     "end_time": "2022-11-14T09:43:32.752422Z",
     "start_time": "2022-11-14T09:43:32.743263Z"
    }
   },
   "outputs": [
    {
     "data": {
      "text/plain": [
       "array([0, 0, 0, 0, 1, 0, 1, 0, 1, 0, 0, 0, 1, 0, 1, 1, 0, 0, 1, 0, 0, 1,\n",
       "       1, 0, 1, 0, 1, 0, 0, 0, 0, 0, 1, 0, 0, 0, 0, 0, 0, 0, 0, 0, 0, 1,\n",
       "       1, 0, 0, 0, 1, 1, 0, 0, 1, 1, 0, 0, 0, 0, 0, 1, 0, 0, 0, 1, 0, 1,\n",
       "       0, 0, 0, 1, 1, 0, 0, 0, 1, 0, 0, 1, 0, 1, 1, 0, 0, 0, 0, 0, 1, 1,\n",
       "       1, 1, 1, 0, 1, 0, 1, 0, 1, 0, 0, 0, 1, 0, 0, 0, 1, 0, 0, 0, 0, 0,\n",
       "       0, 1, 1, 0, 1, 0, 0, 1, 1, 1, 1, 0, 1, 0, 0, 0, 0, 1, 0, 0, 0, 0,\n",
       "       0, 0, 0, 0, 0, 0, 0, 0, 0, 1, 0, 0, 0, 0, 0, 0, 0, 0, 1, 0, 0, 1,\n",
       "       0, 0, 1, 0, 1, 1, 1, 1, 1, 0, 0, 1, 0, 0, 1, 0, 0, 0, 0, 0, 0, 1,\n",
       "       1, 0, 1, 1, 0, 0, 1, 0, 1, 0, 1, 0, 0, 0, 0, 0, 0, 0, 1, 0, 1, 1,\n",
       "       0, 1, 1, 1, 1, 1, 0, 0, 1, 0, 1, 0, 0, 0, 0, 1, 0, 0, 1, 0, 1, 0,\n",
       "       1, 0, 1, 0, 1, 1, 0, 1, 0, 0, 0, 1, 0, 0, 1, 0, 0, 0, 1, 1, 1, 1,\n",
       "       0, 0, 1, 0, 1, 0, 1, 1, 1, 0, 1, 0, 0, 0, 0, 0, 1, 0, 0, 0, 1, 1,\n",
       "       0, 0, 0, 0, 0, 0, 0, 0, 1, 1, 0, 1, 0, 0, 0, 0, 0, 1, 1, 0, 1, 0,\n",
       "       0, 0, 0, 0, 0, 1, 0, 0, 0, 0, 1, 0, 0, 0, 0, 0, 0, 0, 1, 1, 0, 1,\n",
       "       0, 0, 0, 0, 0, 0, 1, 1, 0, 0, 0, 0, 0, 0, 0, 0, 1, 0, 1, 0, 0, 0,\n",
       "       1, 0, 0, 1, 0, 0, 0, 0, 0, 0, 0, 0, 0, 1, 0, 0, 0, 1, 0, 1, 1, 0,\n",
       "       0, 0, 1, 0, 1, 0, 0, 1, 0, 1, 1, 0, 1, 0, 0, 1, 1, 0, 0, 1, 0, 0,\n",
       "       1, 1, 0, 0, 0, 0, 0, 0, 1, 1, 0, 1, 0, 0, 0, 0, 0, 1, 1, 0, 0, 1,\n",
       "       0, 1, 0, 0, 1, 0, 1, 0, 1, 0, 0, 0, 1, 1, 1, 1, 0, 0, 1, 0, 0, 1])"
      ]
     },
     "execution_count": 18,
     "metadata": {},
     "output_type": "execute_result"
    },
    {
     "data": {
      "application/javascript": [
       "\n",
       "            setTimeout(function() {\n",
       "                var nbb_cell_id = 18;\n",
       "                var nbb_unformatted_code = \"y_preds_avrg = to_classifier(models_avrg).predict(X_test).astype(int)\\ny_preds_avrg\";\n",
       "                var nbb_formatted_code = \"y_preds_avrg = to_classifier(models_avrg).predict(X_test).astype(int)\\ny_preds_avrg\";\n",
       "                var nbb_cells = Jupyter.notebook.get_cells();\n",
       "                for (var i = 0; i < nbb_cells.length; ++i) {\n",
       "                    if (nbb_cells[i].input_prompt_number == nbb_cell_id) {\n",
       "                        if (nbb_cells[i].get_text() == nbb_unformatted_code) {\n",
       "                             nbb_cells[i].set_text(nbb_formatted_code);\n",
       "                        }\n",
       "                        break;\n",
       "                    }\n",
       "                }\n",
       "            }, 500);\n",
       "            "
      ],
      "text/plain": [
       "<IPython.core.display.Javascript object>"
      ]
     },
     "metadata": {},
     "output_type": "display_data"
    }
   ],
   "source": [
    "y_preds_avrg = to_classifier(models_avrg).predict(X_test).astype(int)\n",
    "y_preds_avrg"
   ]
  },
  {
   "cell_type": "code",
   "execution_count": 19,
   "metadata": {
    "ExecuteTime": {
     "end_time": "2022-11-14T09:43:32.761494Z",
     "start_time": "2022-11-14T09:43:32.753803Z"
    },
    "colab": {
     "base_uri": "https://localhost:8080/",
     "height": 455
    },
    "id": "SaAiAscscfpe",
    "outputId": "544c5528-5d26-4fd6-c541-8ca2706cedaf"
   },
   "outputs": [
    {
     "data": {
      "text/html": [
       "<div>\n",
       "<style scoped>\n",
       "    .dataframe tbody tr th:only-of-type {\n",
       "        vertical-align: middle;\n",
       "    }\n",
       "\n",
       "    .dataframe tbody tr th {\n",
       "        vertical-align: top;\n",
       "    }\n",
       "\n",
       "    .dataframe thead th {\n",
       "        text-align: right;\n",
       "    }\n",
       "</style>\n",
       "<table border=\"1\" class=\"dataframe\">\n",
       "  <thead>\n",
       "    <tr style=\"text-align: right;\">\n",
       "      <th></th>\n",
       "      <th>Survived</th>\n",
       "    </tr>\n",
       "    <tr>\n",
       "      <th>PassengerId</th>\n",
       "      <th></th>\n",
       "    </tr>\n",
       "  </thead>\n",
       "  <tbody>\n",
       "    <tr>\n",
       "      <th>892</th>\n",
       "      <td>0</td>\n",
       "    </tr>\n",
       "    <tr>\n",
       "      <th>893</th>\n",
       "      <td>0</td>\n",
       "    </tr>\n",
       "    <tr>\n",
       "      <th>894</th>\n",
       "      <td>0</td>\n",
       "    </tr>\n",
       "    <tr>\n",
       "      <th>895</th>\n",
       "      <td>0</td>\n",
       "    </tr>\n",
       "    <tr>\n",
       "      <th>896</th>\n",
       "      <td>1</td>\n",
       "    </tr>\n",
       "    <tr>\n",
       "      <th>...</th>\n",
       "      <td>...</td>\n",
       "    </tr>\n",
       "    <tr>\n",
       "      <th>1305</th>\n",
       "      <td>0</td>\n",
       "    </tr>\n",
       "    <tr>\n",
       "      <th>1306</th>\n",
       "      <td>1</td>\n",
       "    </tr>\n",
       "    <tr>\n",
       "      <th>1307</th>\n",
       "      <td>0</td>\n",
       "    </tr>\n",
       "    <tr>\n",
       "      <th>1308</th>\n",
       "      <td>0</td>\n",
       "    </tr>\n",
       "    <tr>\n",
       "      <th>1309</th>\n",
       "      <td>1</td>\n",
       "    </tr>\n",
       "  </tbody>\n",
       "</table>\n",
       "<p>418 rows × 1 columns</p>\n",
       "</div>"
      ],
      "text/plain": [
       "             Survived\n",
       "PassengerId          \n",
       "892                 0\n",
       "893                 0\n",
       "894                 0\n",
       "895                 0\n",
       "896                 1\n",
       "...               ...\n",
       "1305                0\n",
       "1306                1\n",
       "1307                0\n",
       "1308                0\n",
       "1309                1\n",
       "\n",
       "[418 rows x 1 columns]"
      ]
     },
     "execution_count": 19,
     "metadata": {},
     "output_type": "execute_result"
    },
    {
     "data": {
      "application/javascript": [
       "\n",
       "            setTimeout(function() {\n",
       "                var nbb_cell_id = 19;\n",
       "                var nbb_unformatted_code = \"submission = pd.DataFrame(\\n    {\\\"PassengerId\\\": X_test.index, \\\"Survived\\\": y_preds_avrg}\\n).set_index(\\\"PassengerId\\\")\\nsubmission\";\n",
       "                var nbb_formatted_code = \"submission = pd.DataFrame(\\n    {\\\"PassengerId\\\": X_test.index, \\\"Survived\\\": y_preds_avrg}\\n).set_index(\\\"PassengerId\\\")\\nsubmission\";\n",
       "                var nbb_cells = Jupyter.notebook.get_cells();\n",
       "                for (var i = 0; i < nbb_cells.length; ++i) {\n",
       "                    if (nbb_cells[i].input_prompt_number == nbb_cell_id) {\n",
       "                        if (nbb_cells[i].get_text() == nbb_unformatted_code) {\n",
       "                             nbb_cells[i].set_text(nbb_formatted_code);\n",
       "                        }\n",
       "                        break;\n",
       "                    }\n",
       "                }\n",
       "            }, 500);\n",
       "            "
      ],
      "text/plain": [
       "<IPython.core.display.Javascript object>"
      ]
     },
     "metadata": {},
     "output_type": "display_data"
    }
   ],
   "source": [
    "submission = pd.DataFrame(\n",
    "    {\"PassengerId\": X_test.index, \"Survived\": y_preds_avrg}\n",
    ").set_index(\"PassengerId\")\n",
    "submission"
   ]
  },
  {
   "cell_type": "code",
   "execution_count": 20,
   "metadata": {
    "ExecuteTime": {
     "end_time": "2022-11-14T09:43:32.765941Z",
     "start_time": "2022-11-14T09:43:32.762259Z"
    },
    "id": "XQT4lIKDcftB"
   },
   "outputs": [
    {
     "data": {
      "application/javascript": [
       "\n",
       "            setTimeout(function() {\n",
       "                var nbb_cell_id = 20;\n",
       "                var nbb_unformatted_code = \"submission.to_csv(\\\"../../data/titanic/submission.csv\\\")\";\n",
       "                var nbb_formatted_code = \"submission.to_csv(\\\"../../data/titanic/submission.csv\\\")\";\n",
       "                var nbb_cells = Jupyter.notebook.get_cells();\n",
       "                for (var i = 0; i < nbb_cells.length; ++i) {\n",
       "                    if (nbb_cells[i].input_prompt_number == nbb_cell_id) {\n",
       "                        if (nbb_cells[i].get_text() == nbb_unformatted_code) {\n",
       "                             nbb_cells[i].set_text(nbb_formatted_code);\n",
       "                        }\n",
       "                        break;\n",
       "                    }\n",
       "                }\n",
       "            }, 500);\n",
       "            "
      ],
      "text/plain": [
       "<IPython.core.display.Javascript object>"
      ]
     },
     "metadata": {},
     "output_type": "display_data"
    }
   ],
   "source": [
    "submission.to_csv(\"../../data/titanic/submission.csv\")"
   ]
  },
  {
   "cell_type": "code",
   "execution_count": null,
   "metadata": {
    "id": "g6BCuiNmTfGF"
   },
   "outputs": [],
   "source": []
  },
  {
   "cell_type": "code",
   "execution_count": null,
   "metadata": {},
   "outputs": [],
   "source": []
  }
 ],
 "metadata": {
  "colab": {
   "collapsed_sections": [],
   "include_colab_link": true,
   "name": "c_titanic.ipynb",
   "provenance": []
  },
  "hide_input": false,
  "kernelspec": {
   "display_name": "Python 3 (ipykernel)",
   "language": "python",
   "name": "python3"
  },
  "language_info": {
   "codemirror_mode": {
    "name": "ipython",
    "version": 3
   },
   "file_extension": ".py",
   "mimetype": "text/x-python",
   "name": "python",
   "nbconvert_exporter": "python",
   "pygments_lexer": "ipython3",
   "version": "3.9.13"
  },
  "toc": {
   "base_numbering": 1,
   "nav_menu": {},
   "number_sections": true,
   "sideBar": true,
   "skip_h1_title": false,
   "title_cell": "Table of Contents",
   "title_sidebar": "Contents",
   "toc_cell": false,
   "toc_position": {},
   "toc_section_display": true,
   "toc_window_display": false
  },
  "varInspector": {
   "cols": {
    "lenName": 16,
    "lenType": 16,
    "lenVar": 40
   },
   "kernels_config": {
    "python": {
     "delete_cmd_postfix": "",
     "delete_cmd_prefix": "del ",
     "library": "var_list.py",
     "varRefreshCmd": "print(var_dic_list())"
    },
    "r": {
     "delete_cmd_postfix": ") ",
     "delete_cmd_prefix": "rm(",
     "library": "var_list.r",
     "varRefreshCmd": "cat(var_dic_list()) "
    }
   },
   "types_to_exclude": [
    "module",
    "function",
    "builtin_function_or_method",
    "instance",
    "_Feature"
   ],
   "window_display": false
  }
 },
 "nbformat": 4,
 "nbformat_minor": 1
}
