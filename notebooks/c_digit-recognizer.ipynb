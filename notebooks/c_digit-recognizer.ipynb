{
 "cells": [
  {
   "cell_type": "markdown",
   "metadata": {
    "_cell_guid": "18074494-9783-48af-bb66-a9d59a8f43e5",
    "_uuid": "40d27f5ef16aafcf0181acc3320155e595874777"
   },
   "source": [
    "# Convolutional Neural Network With PyTorch\n",
    "----------------------------------------------\n",
    "\n",
    "Here I only train for a few epochs as training takes couple of hours without GPU.  But this network achieves 0.995 accuracy\n",
    "after 50 epochs of training.\n",
    "\n",
    "Link: https://www.kaggle.com/c/digit-recognizer  \n",
    "Help: https://www.kaggle.com/juiyangchang/cnn-with-pytorch-0-995-accuracy"
   ]
  },
  {
   "cell_type": "code",
   "execution_count": 1,
   "metadata": {
    "ExecuteTime": {
     "end_time": "2021-09-19T17:37:49.529368Z",
     "start_time": "2021-09-19T17:37:48.726534Z"
    },
    "_cell_guid": "56682ac8-509e-44fb-a694-4bf1082d36d2",
    "_uuid": "427ce49fba02f44de9e3081288fca2da38e51140"
   },
   "outputs": [],
   "source": [
    "import math\n",
    "import numbers\n",
    "import random\n",
    "\n",
    "import matplotlib.pyplot as plt\n",
    "import numpy as np\n",
    "import pandas as pd\n",
    "import seaborn as sns\n",
    "import torch\n",
    "import torch.nn as nn\n",
    "import torch.nn.functional as F\n",
    "import torch.optim as optim\n",
    "from PIL import Image, ImageEnhance, ImageOps\n",
    "from torch.autograd import Variable\n",
    "from torch.optim import lr_scheduler\n",
    "from torch.utils.data import DataLoader, Dataset\n",
    "from torchvision import transforms\n",
    "from torchvision.utils import make_grid\n",
    "\n",
    "%matplotlib inline"
   ]
  },
  {
   "cell_type": "code",
   "execution_count": 2,
   "metadata": {
    "ExecuteTime": {
     "end_time": "2021-09-19T17:37:49.627691Z",
     "start_time": "2021-09-19T17:37:49.530196Z"
    }
   },
   "outputs": [
    {
     "data": {
      "application/javascript": [
       "\n",
       "            setTimeout(function() {\n",
       "                var nbb_cell_id = 2;\n",
       "                var nbb_unformatted_code = \"%load_ext nb_black\";\n",
       "                var nbb_formatted_code = \"%load_ext nb_black\";\n",
       "                var nbb_cells = Jupyter.notebook.get_cells();\n",
       "                for (var i = 0; i < nbb_cells.length; ++i) {\n",
       "                    if (nbb_cells[i].input_prompt_number == nbb_cell_id) {\n",
       "                        if (nbb_cells[i].get_text() == nbb_unformatted_code) {\n",
       "                             nbb_cells[i].set_text(nbb_formatted_code);\n",
       "                        }\n",
       "                        break;\n",
       "                    }\n",
       "                }\n",
       "            }, 500);\n",
       "            "
      ],
      "text/plain": [
       "<IPython.core.display.Javascript object>"
      ]
     },
     "metadata": {},
     "output_type": "display_data"
    }
   ],
   "source": [
    "%load_ext nb_black"
   ]
  },
  {
   "cell_type": "code",
   "execution_count": 3,
   "metadata": {
    "ExecuteTime": {
     "end_time": "2021-09-19T17:37:49.633567Z",
     "start_time": "2021-09-19T17:37:49.628706Z"
    }
   },
   "outputs": [
    {
     "data": {
      "application/javascript": [
       "\n",
       "            setTimeout(function() {\n",
       "                var nbb_cell_id = 3;\n",
       "                var nbb_unformatted_code = \"sns.set(rc={\\\"figure.figsize\\\": (11.7, 8.27)})\";\n",
       "                var nbb_formatted_code = \"sns.set(rc={\\\"figure.figsize\\\": (11.7, 8.27)})\";\n",
       "                var nbb_cells = Jupyter.notebook.get_cells();\n",
       "                for (var i = 0; i < nbb_cells.length; ++i) {\n",
       "                    if (nbb_cells[i].input_prompt_number == nbb_cell_id) {\n",
       "                        if (nbb_cells[i].get_text() == nbb_unformatted_code) {\n",
       "                             nbb_cells[i].set_text(nbb_formatted_code);\n",
       "                        }\n",
       "                        break;\n",
       "                    }\n",
       "                }\n",
       "            }, 500);\n",
       "            "
      ],
      "text/plain": [
       "<IPython.core.display.Javascript object>"
      ]
     },
     "metadata": {},
     "output_type": "display_data"
    }
   ],
   "source": [
    "sns.set(rc={\"figure.figsize\": (11.7, 8.27)})"
   ]
  },
  {
   "cell_type": "markdown",
   "metadata": {
    "_cell_guid": "e224069f-8b41-4390-a6d5-09ac6379982f",
    "_uuid": "8a346d02febaa91c6ae6073dad4a227fe38242a9"
   },
   "source": [
    "## Explore the Data"
   ]
  },
  {
   "cell_type": "code",
   "execution_count": 4,
   "metadata": {
    "ExecuteTime": {
     "end_time": "2021-09-19T17:37:50.736251Z",
     "start_time": "2021-09-19T17:37:49.634304Z"
    },
    "_cell_guid": "5b89951b-5acb-4957-b6e4-cfeb54f4a053",
    "_uuid": "86cafb6770a21e6ed806c17c2be9897399bdf520"
   },
   "outputs": [
    {
     "name": "stdout",
     "output_type": "stream",
     "text": [
      "Number of training samples: 42000\n",
      "Number of training pixels: 784\n",
      "Number of classes: 10\n"
     ]
    },
    {
     "data": {
      "application/javascript": [
       "\n",
       "            setTimeout(function() {\n",
       "                var nbb_cell_id = 4;\n",
       "                var nbb_unformatted_code = \"train_df = pd.read_csv(\\\"datasets/train.csv.gz\\\")\\n\\nn_train = len(train_df)\\nn_pixels = len(train_df.columns) - 1\\nn_class = len(set(train_df[\\\"label\\\"]))\\n\\nprint(\\\"Number of training samples: {0}\\\".format(n_train))\\nprint(\\\"Number of training pixels: {0}\\\".format(n_pixels))\\nprint(\\\"Number of classes: {0}\\\".format(n_class))\";\n",
       "                var nbb_formatted_code = \"train_df = pd.read_csv(\\\"datasets/train.csv.gz\\\")\\n\\nn_train = len(train_df)\\nn_pixels = len(train_df.columns) - 1\\nn_class = len(set(train_df[\\\"label\\\"]))\\n\\nprint(\\\"Number of training samples: {0}\\\".format(n_train))\\nprint(\\\"Number of training pixels: {0}\\\".format(n_pixels))\\nprint(\\\"Number of classes: {0}\\\".format(n_class))\";\n",
       "                var nbb_cells = Jupyter.notebook.get_cells();\n",
       "                for (var i = 0; i < nbb_cells.length; ++i) {\n",
       "                    if (nbb_cells[i].input_prompt_number == nbb_cell_id) {\n",
       "                        if (nbb_cells[i].get_text() == nbb_unformatted_code) {\n",
       "                             nbb_cells[i].set_text(nbb_formatted_code);\n",
       "                        }\n",
       "                        break;\n",
       "                    }\n",
       "                }\n",
       "            }, 500);\n",
       "            "
      ],
      "text/plain": [
       "<IPython.core.display.Javascript object>"
      ]
     },
     "metadata": {},
     "output_type": "display_data"
    }
   ],
   "source": [
    "train_df = pd.read_csv(\"datasets/train.csv.gz\")\n",
    "\n",
    "n_train = len(train_df)\n",
    "n_pixels = len(train_df.columns) - 1\n",
    "n_class = len(set(train_df[\"label\"]))\n",
    "\n",
    "print(\"Number of training samples: {0}\".format(n_train))\n",
    "print(\"Number of training pixels: {0}\".format(n_pixels))\n",
    "print(\"Number of classes: {0}\".format(n_class))"
   ]
  },
  {
   "cell_type": "code",
   "execution_count": 5,
   "metadata": {
    "ExecuteTime": {
     "end_time": "2021-09-19T17:37:51.417072Z",
     "start_time": "2021-09-19T17:37:50.737361Z"
    },
    "_cell_guid": "7bf732ab-a5e7-4db0-ab30-8b3f1f89bf60",
    "_uuid": "2c697381fd6210380e2350553bd43ca13194cff1"
   },
   "outputs": [
    {
     "name": "stdout",
     "output_type": "stream",
     "text": [
      "Number of train samples: 28000\n",
      "Number of test pixels: 784\n"
     ]
    },
    {
     "data": {
      "application/javascript": [
       "\n",
       "            setTimeout(function() {\n",
       "                var nbb_cell_id = 5;\n",
       "                var nbb_unformatted_code = \"test_df = pd.read_csv(\\\"datasets/test.csv.gz\\\")\\n\\nn_test = len(test_df)\\nn_pixels = len(test_df.columns)\\n\\nprint(\\\"Number of train samples: {0}\\\".format(n_test))\\nprint(\\\"Number of test pixels: {0}\\\".format(n_pixels))\";\n",
       "                var nbb_formatted_code = \"test_df = pd.read_csv(\\\"datasets/test.csv.gz\\\")\\n\\nn_test = len(test_df)\\nn_pixels = len(test_df.columns)\\n\\nprint(\\\"Number of train samples: {0}\\\".format(n_test))\\nprint(\\\"Number of test pixels: {0}\\\".format(n_pixels))\";\n",
       "                var nbb_cells = Jupyter.notebook.get_cells();\n",
       "                for (var i = 0; i < nbb_cells.length; ++i) {\n",
       "                    if (nbb_cells[i].input_prompt_number == nbb_cell_id) {\n",
       "                        if (nbb_cells[i].get_text() == nbb_unformatted_code) {\n",
       "                             nbb_cells[i].set_text(nbb_formatted_code);\n",
       "                        }\n",
       "                        break;\n",
       "                    }\n",
       "                }\n",
       "            }, 500);\n",
       "            "
      ],
      "text/plain": [
       "<IPython.core.display.Javascript object>"
      ]
     },
     "metadata": {},
     "output_type": "display_data"
    }
   ],
   "source": [
    "test_df = pd.read_csv(\"datasets/test.csv.gz\")\n",
    "\n",
    "n_test = len(test_df)\n",
    "n_pixels = len(test_df.columns)\n",
    "\n",
    "print(\"Number of train samples: {0}\".format(n_test))\n",
    "print(\"Number of test pixels: {0}\".format(n_pixels))"
   ]
  },
  {
   "cell_type": "markdown",
   "metadata": {
    "_cell_guid": "a1480b3a-5298-4193-852c-26909b3aa6ea",
    "_uuid": "dbd7b4c21b4049d77bdd3b5d32984fdfbe7b563f"
   },
   "source": [
    "### Display some images"
   ]
  },
  {
   "cell_type": "code",
   "execution_count": 6,
   "metadata": {
    "ExecuteTime": {
     "end_time": "2021-09-19T17:37:51.498632Z",
     "start_time": "2021-09-19T17:37:51.417851Z"
    },
    "_cell_guid": "969c8fd1-72b0-46a8-af7c-62f630f626e8",
    "_uuid": "4cfd978d90f8fe48bf7494a2e00448c3ec48b05b"
   },
   "outputs": [
    {
     "name": "stdout",
     "output_type": "stream",
     "text": [
      "1, 8, 0, 9, 7, 8, 5, 6\n"
     ]
    },
    {
     "data": {
      "image/png": "[encoded data removed]",
      "text/plain": [
       "<Figure size 1152x144 with 1 Axes>"
      ]
     },
     "metadata": {},
     "output_type": "display_data"
    },
    {
     "data": {
      "application/javascript": [
       "\n",
       "            setTimeout(function() {\n",
       "                var nbb_cell_id = 6;\n",
       "                var nbb_unformatted_code = \"random_sel = np.random.randint(n_train, size=8)\\n\\ngrid = make_grid(\\n    torch.Tensor(\\n        (train_df.iloc[random_sel, 1:].values / 255.0).reshape((-1, 28, 28))\\n    ).unsqueeze(1),\\n    nrow=8,\\n)\\nplt.rcParams[\\\"figure.figsize\\\"] = (16, 2)\\nplt.imshow(grid.numpy().transpose((1, 2, 0)))\\nplt.axis(\\\"off\\\")\\nprint(*list(train_df.iloc[random_sel, 0].values), sep=\\\", \\\")\";\n",
       "                var nbb_formatted_code = \"random_sel = np.random.randint(n_train, size=8)\\n\\ngrid = make_grid(\\n    torch.Tensor(\\n        (train_df.iloc[random_sel, 1:].values / 255.0).reshape((-1, 28, 28))\\n    ).unsqueeze(1),\\n    nrow=8,\\n)\\nplt.rcParams[\\\"figure.figsize\\\"] = (16, 2)\\nplt.imshow(grid.numpy().transpose((1, 2, 0)))\\nplt.axis(\\\"off\\\")\\nprint(*list(train_df.iloc[random_sel, 0].values), sep=\\\", \\\")\";\n",
       "                var nbb_cells = Jupyter.notebook.get_cells();\n",
       "                for (var i = 0; i < nbb_cells.length; ++i) {\n",
       "                    if (nbb_cells[i].input_prompt_number == nbb_cell_id) {\n",
       "                        if (nbb_cells[i].get_text() == nbb_unformatted_code) {\n",
       "                             nbb_cells[i].set_text(nbb_formatted_code);\n",
       "                        }\n",
       "                        break;\n",
       "                    }\n",
       "                }\n",
       "            }, 500);\n",
       "            "
      ],
      "text/plain": [
       "<IPython.core.display.Javascript object>"
      ]
     },
     "metadata": {},
     "output_type": "display_data"
    }
   ],
   "source": [
    "random_sel = np.random.randint(n_train, size=8)\n",
    "\n",
    "grid = make_grid(\n",
    "    torch.Tensor(\n",
    "        (train_df.iloc[random_sel, 1:].values / 255.0).reshape((-1, 28, 28))\n",
    "    ).unsqueeze(1),\n",
    "    nrow=8,\n",
    ")\n",
    "plt.rcParams[\"figure.figsize\"] = (16, 2)\n",
    "plt.imshow(grid.numpy().transpose((1, 2, 0)))\n",
    "plt.axis(\"off\")\n",
    "print(*list(train_df.iloc[random_sel, 0].values), sep=\", \")"
   ]
  },
  {
   "cell_type": "markdown",
   "metadata": {
    "_cell_guid": "22f18c2b-012b-4862-91cc-7ecde9db7bfe",
    "_uuid": "21baf11c7663dd085150a3a21e843d67a29acb99"
   },
   "source": [
    "### Histogram of the classes"
   ]
  },
  {
   "cell_type": "code",
   "execution_count": 7,
   "metadata": {
    "ExecuteTime": {
     "end_time": "2021-09-19T17:37:51.595286Z",
     "start_time": "2021-09-19T17:37:51.499435Z"
    },
    "_cell_guid": "ecd233dc-e143-4964-87db-21b8aa8a192c",
    "_uuid": "2aad956c1baa1e29a259902835b66b020a540c96"
   },
   "outputs": [
    {
     "data": {
      "image/png": "[encoded data removed]",
      "text/plain": [
       "<Figure size 576x360 with 1 Axes>"
      ]
     },
     "metadata": {},
     "output_type": "display_data"
    },
    {
     "data": {
      "application/javascript": [
       "\n",
       "            setTimeout(function() {\n",
       "                var nbb_cell_id = 7;\n",
       "                var nbb_unformatted_code = \"plt.rcParams[\\\"figure.figsize\\\"] = (8, 5)\\nplt.bar(train_df[\\\"label\\\"].value_counts().index, train_df[\\\"label\\\"].value_counts())\\nplt.xticks(np.arange(n_class))\\nplt.xlabel(\\\"Class\\\", fontsize=16)\\nplt.ylabel(\\\"Count\\\", fontsize=16)\\nplt.grid(\\\"on\\\", axis=\\\"y\\\")\";\n",
       "                var nbb_formatted_code = \"plt.rcParams[\\\"figure.figsize\\\"] = (8, 5)\\nplt.bar(train_df[\\\"label\\\"].value_counts().index, train_df[\\\"label\\\"].value_counts())\\nplt.xticks(np.arange(n_class))\\nplt.xlabel(\\\"Class\\\", fontsize=16)\\nplt.ylabel(\\\"Count\\\", fontsize=16)\\nplt.grid(\\\"on\\\", axis=\\\"y\\\")\";\n",
       "                var nbb_cells = Jupyter.notebook.get_cells();\n",
       "                for (var i = 0; i < nbb_cells.length; ++i) {\n",
       "                    if (nbb_cells[i].input_prompt_number == nbb_cell_id) {\n",
       "                        if (nbb_cells[i].get_text() == nbb_unformatted_code) {\n",
       "                             nbb_cells[i].set_text(nbb_formatted_code);\n",
       "                        }\n",
       "                        break;\n",
       "                    }\n",
       "                }\n",
       "            }, 500);\n",
       "            "
      ],
      "text/plain": [
       "<IPython.core.display.Javascript object>"
      ]
     },
     "metadata": {},
     "output_type": "display_data"
    }
   ],
   "source": [
    "plt.rcParams[\"figure.figsize\"] = (8, 5)\n",
    "plt.bar(train_df[\"label\"].value_counts().index, train_df[\"label\"].value_counts())\n",
    "plt.xticks(np.arange(n_class))\n",
    "plt.xlabel(\"Class\", fontsize=16)\n",
    "plt.ylabel(\"Count\", fontsize=16)\n",
    "plt.grid(\"on\", axis=\"y\")"
   ]
  },
  {
   "cell_type": "markdown",
   "metadata": {
    "_cell_guid": "f06156b2-2118-4a3b-a648-e15b70a5982e",
    "_uuid": "1166411bc5c17d2147e0e29feb1df8c94b0f203a"
   },
   "source": [
    "## Data Loader"
   ]
  },
  {
   "cell_type": "code",
   "execution_count": 8,
   "metadata": {
    "ExecuteTime": {
     "end_time": "2021-09-19T17:37:51.612223Z",
     "start_time": "2021-09-19T17:37:51.596029Z"
    },
    "_cell_guid": "711ee835-cb44-4243-9f7e-60c6c4301cca",
    "_uuid": "13401816f84176712146c336d11bdab8ce549bce"
   },
   "outputs": [
    {
     "data": {
      "application/javascript": [
       "\n",
       "            setTimeout(function() {\n",
       "                var nbb_cell_id = 8;\n",
       "                var nbb_unformatted_code = \"class MNIST_data(Dataset):\\n    \\\"\\\"\\\"MNIST dtaa set\\\"\\\"\\\"\\n\\n    def __init__(\\n        self,\\n        file_path,\\n        transform=transforms.Compose(\\n            [\\n                transforms.ToPILImage(),\\n                transforms.ToTensor(),\\n                transforms.Normalize(mean=(0.5,), std=(0.5,)),\\n            ]\\n        ),\\n    ):\\n\\n        df = pd.read_csv(file_path)\\n\\n        if len(df.columns) == n_pixels:\\n            # test data\\n            self.X = df.values.reshape((-1, 28, 28)).astype(np.uint8)[:, :, :, None]\\n            self.y = None\\n        else:\\n            # training data\\n            self.X = (\\n                df.iloc[:, 1:]\\n                .values.reshape((-1, 28, 28))\\n                .astype(np.uint8)[:, :, :, None]\\n            )\\n            self.y = torch.from_numpy(df.iloc[:, 0].values)\\n\\n        self.transform = transform\\n\\n    def __len__(self):\\n        return len(self.X)\\n\\n    def __getitem__(self, idx):\\n        if self.y is not None:\\n            return self.transform(self.X[idx]), self.y[idx]\\n        else:\\n            return self.transform(self.X[idx])\";\n",
       "                var nbb_formatted_code = \"class MNIST_data(Dataset):\\n    \\\"\\\"\\\"MNIST dtaa set\\\"\\\"\\\"\\n\\n    def __init__(\\n        self,\\n        file_path,\\n        transform=transforms.Compose(\\n            [\\n                transforms.ToPILImage(),\\n                transforms.ToTensor(),\\n                transforms.Normalize(mean=(0.5,), std=(0.5,)),\\n            ]\\n        ),\\n    ):\\n\\n        df = pd.read_csv(file_path)\\n\\n        if len(df.columns) == n_pixels:\\n            # test data\\n            self.X = df.values.reshape((-1, 28, 28)).astype(np.uint8)[:, :, :, None]\\n            self.y = None\\n        else:\\n            # training data\\n            self.X = (\\n                df.iloc[:, 1:]\\n                .values.reshape((-1, 28, 28))\\n                .astype(np.uint8)[:, :, :, None]\\n            )\\n            self.y = torch.from_numpy(df.iloc[:, 0].values)\\n\\n        self.transform = transform\\n\\n    def __len__(self):\\n        return len(self.X)\\n\\n    def __getitem__(self, idx):\\n        if self.y is not None:\\n            return self.transform(self.X[idx]), self.y[idx]\\n        else:\\n            return self.transform(self.X[idx])\";\n",
       "                var nbb_cells = Jupyter.notebook.get_cells();\n",
       "                for (var i = 0; i < nbb_cells.length; ++i) {\n",
       "                    if (nbb_cells[i].input_prompt_number == nbb_cell_id) {\n",
       "                        if (nbb_cells[i].get_text() == nbb_unformatted_code) {\n",
       "                             nbb_cells[i].set_text(nbb_formatted_code);\n",
       "                        }\n",
       "                        break;\n",
       "                    }\n",
       "                }\n",
       "            }, 500);\n",
       "            "
      ],
      "text/plain": [
       "<IPython.core.display.Javascript object>"
      ]
     },
     "metadata": {},
     "output_type": "display_data"
    }
   ],
   "source": [
    "class MNIST_data(Dataset):\n",
    "    \"\"\"MNIST dtaa set\"\"\"\n",
    "\n",
    "    def __init__(\n",
    "        self,\n",
    "        file_path,\n",
    "        transform=transforms.Compose(\n",
    "            [\n",
    "                transforms.ToPILImage(),\n",
    "                transforms.ToTensor(),\n",
    "                transforms.Normalize(mean=(0.5,), std=(0.5,)),\n",
    "            ]\n",
    "        ),\n",
    "    ):\n",
    "\n",
    "        df = pd.read_csv(file_path)\n",
    "\n",
    "        if len(df.columns) == n_pixels:\n",
    "            # test data\n",
    "            self.X = df.values.reshape((-1, 28, 28)).astype(np.uint8)[:, :, :, None]\n",
    "            self.y = None\n",
    "        else:\n",
    "            # training data\n",
    "            self.X = (\n",
    "                df.iloc[:, 1:]\n",
    "                .values.reshape((-1, 28, 28))\n",
    "                .astype(np.uint8)[:, :, :, None]\n",
    "            )\n",
    "            self.y = torch.from_numpy(df.iloc[:, 0].values)\n",
    "\n",
    "        self.transform = transform\n",
    "\n",
    "    def __len__(self):\n",
    "        return len(self.X)\n",
    "\n",
    "    def __getitem__(self, idx):\n",
    "        if self.y is not None:\n",
    "            return self.transform(self.X[idx]), self.y[idx]\n",
    "        else:\n",
    "            return self.transform(self.X[idx])"
   ]
  },
  {
   "cell_type": "markdown",
   "metadata": {
    "_cell_guid": "a593e310-63dc-49a5-b939-ad6a4889b068",
    "_uuid": "db3edd720c83473a77bcc43b463e83d87569d7bb"
   },
   "source": [
    "### Random Rotation Transformation\n",
    "Randomly rotate the image. Available in upcoming torchvision but not now."
   ]
  },
  {
   "cell_type": "code",
   "execution_count": 9,
   "metadata": {
    "ExecuteTime": {
     "end_time": "2021-09-19T17:37:51.628031Z",
     "start_time": "2021-09-19T17:37:51.613586Z"
    },
    "_cell_guid": "2b9f5823-708a-446c-9e49-a430d6bc04cb",
    "_uuid": "cc6c3fb42e4a98508bf910b5d289dbe5a0e78bc3"
   },
   "outputs": [
    {
     "data": {
      "application/javascript": [
       "\n",
       "            setTimeout(function() {\n",
       "                var nbb_cell_id = 9;\n",
       "                var nbb_unformatted_code = \"class RandomRotation(object):\\n    \\\"\\\"\\\"\\n    https://github.com/pytorch/vision/tree/master/torchvision/transforms\\n    Rotate the image by angle.\\n    Args:\\n        degrees (sequence or float or int): Range of degrees to select from.\\n            If degrees is a number instead of sequence like (min, max), the range of degrees\\n            will be (-degrees, +degrees).\\n        resample ({PIL.Image.NEAREST, PIL.Image.BILINEAR, PIL.Image.BICUBIC}, optional):\\n            An optional resampling filter.\\n            See http://pillow.readthedocs.io/en/3.4.x/handbook/concepts.html#filters\\n            If omitted, or if the image has mode \\\"1\\\" or \\\"P\\\", it is set to PIL.Image.NEAREST.\\n        expand (bool, optional): Optional expansion flag.\\n            If true, expands the output to make it large enough to hold the entire rotated image.\\n            If false or omitted, make the output image the same size as the input image.\\n            Note that the expand flag assumes rotation around the center and no translation.\\n        center (2-tuple, optional): Optional center of rotation.\\n            Origin is the upper left corner.\\n            Default is the center of the image.\\n    \\\"\\\"\\\"\\n\\n    def __init__(self, degrees, resample=False, expand=False, center=None):\\n        if isinstance(degrees, numbers.Number):\\n            if degrees < 0:\\n                raise ValueError(\\\"If degrees is a single number, it must be positive.\\\")\\n            self.degrees = (-degrees, degrees)\\n        else:\\n            if len(degrees) != 2:\\n                raise ValueError(\\\"If degrees is a sequence, it must be of len 2.\\\")\\n            self.degrees = degrees\\n\\n        self.resample = resample\\n        self.expand = expand\\n        self.center = center\\n\\n    @staticmethod\\n    def get_params(degrees):\\n        \\\"\\\"\\\"Get parameters for ``rotate`` for a random rotation.\\n        Returns:\\n            sequence: params to be passed to ``rotate`` for random rotation.\\n        \\\"\\\"\\\"\\n        angle = np.random.uniform(degrees[0], degrees[1])\\n\\n        return angle\\n\\n    def __call__(self, img):\\n        \\\"\\\"\\\"\\n            img (PIL Image): Image to be rotated.\\n        Returns:\\n            PIL Image: Rotated image.\\n        \\\"\\\"\\\"\\n\\n        def rotate(img, angle, resample=False, expand=False, center=None):\\n            \\\"\\\"\\\"Rotate the image by angle and then (optionally) translate it by (n_columns, n_rows)\\n            Args:\\n            img (PIL Image): PIL Image to be rotated.\\n            angle ({float, int}): In degrees degrees counter clockwise order.\\n            resample ({PIL.Image.NEAREST, PIL.Image.BILINEAR, PIL.Image.BICUBIC}, optional):\\n            An optional resampling filter.\\n            See http://pillow.readthedocs.io/en/3.4.x/handbook/concepts.html#filters\\n            If omitted, or if the image has mode \\\"1\\\" or \\\"P\\\", it is set to PIL.Image.NEAREST.\\n            expand (bool, optional): Optional expansion flag.\\n            If true, expands the output image to make it large enough to hold the entire rotated image.\\n            If false or omitted, make the output image the same size as the input image.\\n            Note that the expand flag assumes rotation around the center and no translation.\\n            center (2-tuple, optional): Optional center of rotation.\\n            Origin is the upper left corner.\\n            Default is the center of the image.\\n            \\\"\\\"\\\"\\n\\n            return img.rotate(angle, resample, expand, center)\\n\\n        angle = self.get_params(self.degrees)\\n\\n        return rotate(img, angle, self.resample, self.expand, self.center)\";\n",
       "                var nbb_formatted_code = \"class RandomRotation(object):\\n    \\\"\\\"\\\"\\n    https://github.com/pytorch/vision/tree/master/torchvision/transforms\\n    Rotate the image by angle.\\n    Args:\\n        degrees (sequence or float or int): Range of degrees to select from.\\n            If degrees is a number instead of sequence like (min, max), the range of degrees\\n            will be (-degrees, +degrees).\\n        resample ({PIL.Image.NEAREST, PIL.Image.BILINEAR, PIL.Image.BICUBIC}, optional):\\n            An optional resampling filter.\\n            See http://pillow.readthedocs.io/en/3.4.x/handbook/concepts.html#filters\\n            If omitted, or if the image has mode \\\"1\\\" or \\\"P\\\", it is set to PIL.Image.NEAREST.\\n        expand (bool, optional): Optional expansion flag.\\n            If true, expands the output to make it large enough to hold the entire rotated image.\\n            If false or omitted, make the output image the same size as the input image.\\n            Note that the expand flag assumes rotation around the center and no translation.\\n        center (2-tuple, optional): Optional center of rotation.\\n            Origin is the upper left corner.\\n            Default is the center of the image.\\n    \\\"\\\"\\\"\\n\\n    def __init__(self, degrees, resample=False, expand=False, center=None):\\n        if isinstance(degrees, numbers.Number):\\n            if degrees < 0:\\n                raise ValueError(\\\"If degrees is a single number, it must be positive.\\\")\\n            self.degrees = (-degrees, degrees)\\n        else:\\n            if len(degrees) != 2:\\n                raise ValueError(\\\"If degrees is a sequence, it must be of len 2.\\\")\\n            self.degrees = degrees\\n\\n        self.resample = resample\\n        self.expand = expand\\n        self.center = center\\n\\n    @staticmethod\\n    def get_params(degrees):\\n        \\\"\\\"\\\"Get parameters for ``rotate`` for a random rotation.\\n        Returns:\\n            sequence: params to be passed to ``rotate`` for random rotation.\\n        \\\"\\\"\\\"\\n        angle = np.random.uniform(degrees[0], degrees[1])\\n\\n        return angle\\n\\n    def __call__(self, img):\\n        \\\"\\\"\\\"\\n            img (PIL Image): Image to be rotated.\\n        Returns:\\n            PIL Image: Rotated image.\\n        \\\"\\\"\\\"\\n\\n        def rotate(img, angle, resample=False, expand=False, center=None):\\n            \\\"\\\"\\\"Rotate the image by angle and then (optionally) translate it by (n_columns, n_rows)\\n            Args:\\n            img (PIL Image): PIL Image to be rotated.\\n            angle ({float, int}): In degrees degrees counter clockwise order.\\n            resample ({PIL.Image.NEAREST, PIL.Image.BILINEAR, PIL.Image.BICUBIC}, optional):\\n            An optional resampling filter.\\n            See http://pillow.readthedocs.io/en/3.4.x/handbook/concepts.html#filters\\n            If omitted, or if the image has mode \\\"1\\\" or \\\"P\\\", it is set to PIL.Image.NEAREST.\\n            expand (bool, optional): Optional expansion flag.\\n            If true, expands the output image to make it large enough to hold the entire rotated image.\\n            If false or omitted, make the output image the same size as the input image.\\n            Note that the expand flag assumes rotation around the center and no translation.\\n            center (2-tuple, optional): Optional center of rotation.\\n            Origin is the upper left corner.\\n            Default is the center of the image.\\n            \\\"\\\"\\\"\\n\\n            return img.rotate(angle, resample, expand, center)\\n\\n        angle = self.get_params(self.degrees)\\n\\n        return rotate(img, angle, self.resample, self.expand, self.center)\";\n",
       "                var nbb_cells = Jupyter.notebook.get_cells();\n",
       "                for (var i = 0; i < nbb_cells.length; ++i) {\n",
       "                    if (nbb_cells[i].input_prompt_number == nbb_cell_id) {\n",
       "                        if (nbb_cells[i].get_text() == nbb_unformatted_code) {\n",
       "                             nbb_cells[i].set_text(nbb_formatted_code);\n",
       "                        }\n",
       "                        break;\n",
       "                    }\n",
       "                }\n",
       "            }, 500);\n",
       "            "
      ],
      "text/plain": [
       "<IPython.core.display.Javascript object>"
      ]
     },
     "metadata": {},
     "output_type": "display_data"
    }
   ],
   "source": [
    "class RandomRotation(object):\n",
    "    \"\"\"\n",
    "    https://github.com/pytorch/vision/tree/master/torchvision/transforms\n",
    "    Rotate the image by angle.\n",
    "    Args:\n",
    "        degrees (sequence or float or int): Range of degrees to select from.\n",
    "            If degrees is a number instead of sequence like (min, max), the range of degrees\n",
    "            will be (-degrees, +degrees).\n",
    "        resample ({PIL.Image.NEAREST, PIL.Image.BILINEAR, PIL.Image.BICUBIC}, optional):\n",
    "            An optional resampling filter.\n",
    "            See http://pillow.readthedocs.io/en/3.4.x/handbook/concepts.html#filters\n",
    "            If omitted, or if the image has mode \"1\" or \"P\", it is set to PIL.Image.NEAREST.\n",
    "        expand (bool, optional): Optional expansion flag.\n",
    "            If true, expands the output to make it large enough to hold the entire rotated image.\n",
    "            If false or omitted, make the output image the same size as the input image.\n",
    "            Note that the expand flag assumes rotation around the center and no translation.\n",
    "        center (2-tuple, optional): Optional center of rotation.\n",
    "            Origin is the upper left corner.\n",
    "            Default is the center of the image.\n",
    "    \"\"\"\n",
    "\n",
    "    def __init__(self, degrees, resample=False, expand=False, center=None):\n",
    "        if isinstance(degrees, numbers.Number):\n",
    "            if degrees < 0:\n",
    "                raise ValueError(\"If degrees is a single number, it must be positive.\")\n",
    "            self.degrees = (-degrees, degrees)\n",
    "        else:\n",
    "            if len(degrees) != 2:\n",
    "                raise ValueError(\"If degrees is a sequence, it must be of len 2.\")\n",
    "            self.degrees = degrees\n",
    "\n",
    "        self.resample = resample\n",
    "        self.expand = expand\n",
    "        self.center = center\n",
    "\n",
    "    @staticmethod\n",
    "    def get_params(degrees):\n",
    "        \"\"\"Get parameters for ``rotate`` for a random rotation.\n",
    "        Returns:\n",
    "            sequence: params to be passed to ``rotate`` for random rotation.\n",
    "        \"\"\"\n",
    "        angle = np.random.uniform(degrees[0], degrees[1])\n",
    "\n",
    "        return angle\n",
    "\n",
    "    def __call__(self, img):\n",
    "        \"\"\"\n",
    "            img (PIL Image): Image to be rotated.\n",
    "        Returns:\n",
    "            PIL Image: Rotated image.\n",
    "        \"\"\"\n",
    "\n",
    "        def rotate(img, angle, resample=False, expand=False, center=None):\n",
    "            \"\"\"Rotate the image by angle and then (optionally) translate it by (n_columns, n_rows)\n",
    "            Args:\n",
    "            img (PIL Image): PIL Image to be rotated.\n",
    "            angle ({float, int}): In degrees degrees counter clockwise order.\n",
    "            resample ({PIL.Image.NEAREST, PIL.Image.BILINEAR, PIL.Image.BICUBIC}, optional):\n",
    "            An optional resampling filter.\n",
    "            See http://pillow.readthedocs.io/en/3.4.x/handbook/concepts.html#filters\n",
    "            If omitted, or if the image has mode \"1\" or \"P\", it is set to PIL.Image.NEAREST.\n",
    "            expand (bool, optional): Optional expansion flag.\n",
    "            If true, expands the output image to make it large enough to hold the entire rotated image.\n",
    "            If false or omitted, make the output image the same size as the input image.\n",
    "            Note that the expand flag assumes rotation around the center and no translation.\n",
    "            center (2-tuple, optional): Optional center of rotation.\n",
    "            Origin is the upper left corner.\n",
    "            Default is the center of the image.\n",
    "            \"\"\"\n",
    "\n",
    "            return img.rotate(angle, resample, expand, center)\n",
    "\n",
    "        angle = self.get_params(self.degrees)\n",
    "\n",
    "        return rotate(img, angle, self.resample, self.expand, self.center)"
   ]
  },
  {
   "cell_type": "markdown",
   "metadata": {
    "_cell_guid": "8bbe7231-1109-4531-9ecc-a25e575be23a",
    "_uuid": "97ef1e719ef91ea602e9c4ad7ccef6ed6e1957d1"
   },
   "source": [
    "### Random Vertical and Horizontal Shift"
   ]
  },
  {
   "cell_type": "code",
   "execution_count": 10,
   "metadata": {
    "ExecuteTime": {
     "end_time": "2021-09-19T17:37:51.637621Z",
     "start_time": "2021-09-19T17:37:51.628723Z"
    },
    "_cell_guid": "f1397122-d153-454e-b2c3-fad53971736b",
    "_uuid": "533c2041e8a0abe78c511e87010b4ab0808203de"
   },
   "outputs": [
    {
     "data": {
      "application/javascript": [
       "\n",
       "            setTimeout(function() {\n",
       "                var nbb_cell_id = 10;\n",
       "                var nbb_unformatted_code = \"class RandomShift(object):\\n    def __init__(self, shift):\\n        self.shift = shift\\n\\n    @staticmethod\\n    def get_params(shift):\\n        \\\"\\\"\\\"Get parameters for ``rotate`` for a random rotation.\\n        Returns:\\n            sequence: params to be passed to ``rotate`` for random rotation.\\n        \\\"\\\"\\\"\\n        hshift, vshift = np.random.uniform(-shift, shift, size=2)\\n\\n        return hshift, vshift\\n\\n    def __call__(self, img):\\n        hshift, vshift = self.get_params(self.shift)\\n\\n        return img.transform(\\n            img.size,\\n            Image.AFFINE,\\n            (1, 0, hshift, 0, 1, vshift),\\n            resample=Image.BICUBIC,\\n            fill=1,\\n        )\";\n",
       "                var nbb_formatted_code = \"class RandomShift(object):\\n    def __init__(self, shift):\\n        self.shift = shift\\n\\n    @staticmethod\\n    def get_params(shift):\\n        \\\"\\\"\\\"Get parameters for ``rotate`` for a random rotation.\\n        Returns:\\n            sequence: params to be passed to ``rotate`` for random rotation.\\n        \\\"\\\"\\\"\\n        hshift, vshift = np.random.uniform(-shift, shift, size=2)\\n\\n        return hshift, vshift\\n\\n    def __call__(self, img):\\n        hshift, vshift = self.get_params(self.shift)\\n\\n        return img.transform(\\n            img.size,\\n            Image.AFFINE,\\n            (1, 0, hshift, 0, 1, vshift),\\n            resample=Image.BICUBIC,\\n            fill=1,\\n        )\";\n",
       "                var nbb_cells = Jupyter.notebook.get_cells();\n",
       "                for (var i = 0; i < nbb_cells.length; ++i) {\n",
       "                    if (nbb_cells[i].input_prompt_number == nbb_cell_id) {\n",
       "                        if (nbb_cells[i].get_text() == nbb_unformatted_code) {\n",
       "                             nbb_cells[i].set_text(nbb_formatted_code);\n",
       "                        }\n",
       "                        break;\n",
       "                    }\n",
       "                }\n",
       "            }, 500);\n",
       "            "
      ],
      "text/plain": [
       "<IPython.core.display.Javascript object>"
      ]
     },
     "metadata": {},
     "output_type": "display_data"
    }
   ],
   "source": [
    "class RandomShift(object):\n",
    "    def __init__(self, shift):\n",
    "        self.shift = shift\n",
    "\n",
    "    @staticmethod\n",
    "    def get_params(shift):\n",
    "        \"\"\"Get parameters for ``rotate`` for a random rotation.\n",
    "        Returns:\n",
    "            sequence: params to be passed to ``rotate`` for random rotation.\n",
    "        \"\"\"\n",
    "        hshift, vshift = np.random.uniform(-shift, shift, size=2)\n",
    "\n",
    "        return hshift, vshift\n",
    "\n",
    "    def __call__(self, img):\n",
    "        hshift, vshift = self.get_params(self.shift)\n",
    "\n",
    "        return img.transform(\n",
    "            img.size,\n",
    "            Image.AFFINE,\n",
    "            (1, 0, hshift, 0, 1, vshift),\n",
    "            resample=Image.BICUBIC,\n",
    "            fill=1,\n",
    "        )"
   ]
  },
  {
   "cell_type": "markdown",
   "metadata": {
    "_cell_guid": "b23f5c0f-045a-4beb-afc1-ae8b696f9c65",
    "_uuid": "3d697f1ef60768dd886819fc9bb77d504086cbac"
   },
   "source": [
    "## Load the Data into Tensors\n",
    "For the training set, apply random rotation within the range of (-45, 45) degrees, shift by (-3, 3) pixels\n",
    "and normalize pixel values to [-1, 1].  For the test set, only apply nomalization."
   ]
  },
  {
   "cell_type": "code",
   "execution_count": 11,
   "metadata": {
    "ExecuteTime": {
     "end_time": "2021-09-19T17:37:53.382191Z",
     "start_time": "2021-09-19T17:37:51.638275Z"
    },
    "_cell_guid": "d0e41412-1be1-4ca6-a5f8-d7839d2e7010",
    "_uuid": "5f6e6b26a71c7ca9fc3126265ad8d27491a849f5"
   },
   "outputs": [
    {
     "data": {
      "application/javascript": [
       "\n",
       "            setTimeout(function() {\n",
       "                var nbb_cell_id = 11;\n",
       "                var nbb_unformatted_code = \"batch_size = 64\\n\\ntrain_dataset = MNIST_data(\\n    \\\"datasets/train.csv.gz\\\",\\n    transform=transforms.Compose(\\n        [\\n            transforms.ToPILImage(),\\n            RandomRotation(degrees=20),\\n            RandomShift(3),\\n            transforms.ToTensor(),\\n            transforms.Normalize(mean=(0.5,), std=(0.5,)),\\n        ]\\n    ),\\n)\\ntest_dataset = MNIST_data(\\\"datasets/test.csv.gz\\\")\\n\\n\\ntrain_loader = torch.utils.data.DataLoader(\\n    dataset=train_dataset, batch_size=batch_size, shuffle=True\\n)\\ntest_loader = torch.utils.data.DataLoader(\\n    dataset=test_dataset, batch_size=batch_size, shuffle=False\\n)\";\n",
       "                var nbb_formatted_code = \"batch_size = 64\\n\\ntrain_dataset = MNIST_data(\\n    \\\"datasets/train.csv.gz\\\",\\n    transform=transforms.Compose(\\n        [\\n            transforms.ToPILImage(),\\n            RandomRotation(degrees=20),\\n            RandomShift(3),\\n            transforms.ToTensor(),\\n            transforms.Normalize(mean=(0.5,), std=(0.5,)),\\n        ]\\n    ),\\n)\\ntest_dataset = MNIST_data(\\\"datasets/test.csv.gz\\\")\\n\\n\\ntrain_loader = torch.utils.data.DataLoader(\\n    dataset=train_dataset, batch_size=batch_size, shuffle=True\\n)\\ntest_loader = torch.utils.data.DataLoader(\\n    dataset=test_dataset, batch_size=batch_size, shuffle=False\\n)\";\n",
       "                var nbb_cells = Jupyter.notebook.get_cells();\n",
       "                for (var i = 0; i < nbb_cells.length; ++i) {\n",
       "                    if (nbb_cells[i].input_prompt_number == nbb_cell_id) {\n",
       "                        if (nbb_cells[i].get_text() == nbb_unformatted_code) {\n",
       "                             nbb_cells[i].set_text(nbb_formatted_code);\n",
       "                        }\n",
       "                        break;\n",
       "                    }\n",
       "                }\n",
       "            }, 500);\n",
       "            "
      ],
      "text/plain": [
       "<IPython.core.display.Javascript object>"
      ]
     },
     "metadata": {},
     "output_type": "display_data"
    }
   ],
   "source": [
    "batch_size = 64\n",
    "\n",
    "train_dataset = MNIST_data(\n",
    "    \"datasets/train.csv.gz\",\n",
    "    transform=transforms.Compose(\n",
    "        [\n",
    "            transforms.ToPILImage(),\n",
    "            RandomRotation(degrees=20),\n",
    "            RandomShift(3),\n",
    "            transforms.ToTensor(),\n",
    "            transforms.Normalize(mean=(0.5,), std=(0.5,)),\n",
    "        ]\n",
    "    ),\n",
    ")\n",
    "test_dataset = MNIST_data(\"datasets/test.csv.gz\")\n",
    "\n",
    "\n",
    "train_loader = torch.utils.data.DataLoader(\n",
    "    dataset=train_dataset, batch_size=batch_size, shuffle=True\n",
    ")\n",
    "test_loader = torch.utils.data.DataLoader(\n",
    "    dataset=test_dataset, batch_size=batch_size, shuffle=False\n",
    ")"
   ]
  },
  {
   "cell_type": "markdown",
   "metadata": {
    "_cell_guid": "0b774eb3-1b54-43b0-a312-0d9ec0bea961",
    "_uuid": "f12c1c91af952a8c24b0ef07477fb1bf22f19d6c"
   },
   "source": [
    "### Visualize the Transformations"
   ]
  },
  {
   "cell_type": "code",
   "execution_count": 12,
   "metadata": {
    "ExecuteTime": {
     "end_time": "2021-09-19T17:37:53.630667Z",
     "start_time": "2021-09-19T17:37:53.383134Z"
    },
    "_cell_guid": "3bbe59c6-09dc-487a-8c45-e1dff23e7820",
    "_uuid": "7dc11b9516313eb35080c04b2f8d2d6deffdae6b"
   },
   "outputs": [
    {
     "data": {
      "image/png": "[encoded data removed]",
      "text/plain": [
       "<Figure size 576x360 with 3 Axes>"
      ]
     },
     "metadata": {},
     "output_type": "display_data"
    },
    {
     "data": {
      "application/javascript": [
       "\n",
       "            setTimeout(function() {\n",
       "                var nbb_cell_id = 12;\n",
       "                var nbb_unformatted_code = \"rotate = RandomRotation(20)\\nshift = RandomShift(3)\\ncomposed = transforms.Compose([RandomRotation(20), RandomShift(3)])\\n\\n# Apply each of the above transforms on sample.\\nfig = plt.figure()\\nsample = transforms.ToPILImage()(\\n    train_df.iloc[65, 1:].values.reshape((28, 28)).astype(np.uint8)[:, :, None]\\n)\\nfor i, tsfrm in enumerate([rotate, shift, composed]):\\n    transformed_sample = tsfrm(sample)\\n\\n    ax = plt.subplot(1, 3, i + 1)\\n    plt.tight_layout()\\n    ax.set_title(type(tsfrm).__name__)\\n    ax.imshow(\\n        np.reshape(np.array(list(transformed_sample.getdata())), (-1, 28)), cmap=\\\"gray\\\"\\n    )\\n\\nplt.show()\";\n",
       "                var nbb_formatted_code = \"rotate = RandomRotation(20)\\nshift = RandomShift(3)\\ncomposed = transforms.Compose([RandomRotation(20), RandomShift(3)])\\n\\n# Apply each of the above transforms on sample.\\nfig = plt.figure()\\nsample = transforms.ToPILImage()(\\n    train_df.iloc[65, 1:].values.reshape((28, 28)).astype(np.uint8)[:, :, None]\\n)\\nfor i, tsfrm in enumerate([rotate, shift, composed]):\\n    transformed_sample = tsfrm(sample)\\n\\n    ax = plt.subplot(1, 3, i + 1)\\n    plt.tight_layout()\\n    ax.set_title(type(tsfrm).__name__)\\n    ax.imshow(\\n        np.reshape(np.array(list(transformed_sample.getdata())), (-1, 28)), cmap=\\\"gray\\\"\\n    )\\n\\nplt.show()\";\n",
       "                var nbb_cells = Jupyter.notebook.get_cells();\n",
       "                for (var i = 0; i < nbb_cells.length; ++i) {\n",
       "                    if (nbb_cells[i].input_prompt_number == nbb_cell_id) {\n",
       "                        if (nbb_cells[i].get_text() == nbb_unformatted_code) {\n",
       "                             nbb_cells[i].set_text(nbb_formatted_code);\n",
       "                        }\n",
       "                        break;\n",
       "                    }\n",
       "                }\n",
       "            }, 500);\n",
       "            "
      ],
      "text/plain": [
       "<IPython.core.display.Javascript object>"
      ]
     },
     "metadata": {},
     "output_type": "display_data"
    }
   ],
   "source": [
    "rotate = RandomRotation(20)\n",
    "shift = RandomShift(3)\n",
    "composed = transforms.Compose([RandomRotation(20), RandomShift(3)])\n",
    "\n",
    "# Apply each of the above transforms on sample.\n",
    "fig = plt.figure()\n",
    "sample = transforms.ToPILImage()(\n",
    "    train_df.iloc[65, 1:].values.reshape((28, 28)).astype(np.uint8)[:, :, None]\n",
    ")\n",
    "for i, tsfrm in enumerate([rotate, shift, composed]):\n",
    "    transformed_sample = tsfrm(sample)\n",
    "\n",
    "    ax = plt.subplot(1, 3, i + 1)\n",
    "    plt.tight_layout()\n",
    "    ax.set_title(type(tsfrm).__name__)\n",
    "    ax.imshow(\n",
    "        np.reshape(np.array(list(transformed_sample.getdata())), (-1, 28)), cmap=\"gray\"\n",
    "    )\n",
    "\n",
    "plt.show()"
   ]
  },
  {
   "cell_type": "markdown",
   "metadata": {
    "_cell_guid": "351ce32d-7f9d-4ea9-983a-bf99aeaf63d8",
    "_uuid": "faaa2bd7a8b30fbf925b34fa6dd1eca9655a756e"
   },
   "source": [
    "## Network Structure"
   ]
  },
  {
   "cell_type": "code",
   "execution_count": 13,
   "metadata": {
    "ExecuteTime": {
     "end_time": "2021-09-19T17:37:53.659427Z",
     "start_time": "2021-09-19T17:37:53.631590Z"
    },
    "_cell_guid": "766abaee-5811-4963-a4ac-69d910d9eead",
    "_uuid": "875f53c04b120b40cd695c57a774165259183413"
   },
   "outputs": [
    {
     "data": {
      "application/javascript": [
       "\n",
       "            setTimeout(function() {\n",
       "                var nbb_cell_id = 13;\n",
       "                var nbb_unformatted_code = \"class Net(nn.Module):\\n    def __init__(self):\\n        super(Net, self).__init__()\\n\\n        self.features = nn.Sequential(\\n            nn.Conv2d(1, 32, kernel_size=3, stride=1, padding=1),\\n            nn.BatchNorm2d(32),\\n            nn.ReLU(inplace=True),\\n            nn.Conv2d(32, 32, kernel_size=3, stride=1, padding=1),\\n            nn.BatchNorm2d(32),\\n            nn.ReLU(inplace=True),\\n            nn.MaxPool2d(kernel_size=2, stride=2),\\n            nn.Conv2d(32, 64, kernel_size=3, padding=1),\\n            nn.BatchNorm2d(64),\\n            nn.ReLU(inplace=True),\\n            nn.Conv2d(64, 64, kernel_size=3, padding=1),\\n            nn.BatchNorm2d(64),\\n            nn.ReLU(inplace=True),\\n            nn.MaxPool2d(kernel_size=2, stride=2),\\n        )\\n\\n        self.classifier = nn.Sequential(\\n            nn.Dropout(p=0.5),\\n            nn.Linear(64 * 7 * 7, 512),\\n            nn.BatchNorm1d(512),\\n            nn.ReLU(inplace=True),\\n            nn.Dropout(p=0.5),\\n            nn.Linear(512, 512),\\n            nn.BatchNorm1d(512),\\n            nn.ReLU(inplace=True),\\n            nn.Dropout(p=0.5),\\n            nn.Linear(512, 10),\\n        )\\n\\n        for m in self.features.children():\\n            if isinstance(m, nn.Conv2d):\\n                n = m.kernel_size[0] * m.kernel_size[1] * m.out_channels\\n                m.weight.data.normal_(0, math.sqrt(2.0 / n))\\n            elif isinstance(m, nn.BatchNorm2d):\\n                m.weight.data.fill_(1)\\n                m.bias.data.zero_()\\n\\n        for m in self.classifier.children():\\n            if isinstance(m, nn.Linear):\\n                nn.init.xavier_uniform(m.weight)\\n            elif isinstance(m, nn.BatchNorm1d):\\n                m.weight.data.fill_(1)\\n                m.bias.data.zero_()\\n\\n    def forward(self, x):\\n        x = self.features(x)\\n        x = x.view(x.size(0), -1)\\n        x = self.classifier(x)\\n\\n        return x\";\n",
       "                var nbb_formatted_code = \"class Net(nn.Module):\\n    def __init__(self):\\n        super(Net, self).__init__()\\n\\n        self.features = nn.Sequential(\\n            nn.Conv2d(1, 32, kernel_size=3, stride=1, padding=1),\\n            nn.BatchNorm2d(32),\\n            nn.ReLU(inplace=True),\\n            nn.Conv2d(32, 32, kernel_size=3, stride=1, padding=1),\\n            nn.BatchNorm2d(32),\\n            nn.ReLU(inplace=True),\\n            nn.MaxPool2d(kernel_size=2, stride=2),\\n            nn.Conv2d(32, 64, kernel_size=3, padding=1),\\n            nn.BatchNorm2d(64),\\n            nn.ReLU(inplace=True),\\n            nn.Conv2d(64, 64, kernel_size=3, padding=1),\\n            nn.BatchNorm2d(64),\\n            nn.ReLU(inplace=True),\\n            nn.MaxPool2d(kernel_size=2, stride=2),\\n        )\\n\\n        self.classifier = nn.Sequential(\\n            nn.Dropout(p=0.5),\\n            nn.Linear(64 * 7 * 7, 512),\\n            nn.BatchNorm1d(512),\\n            nn.ReLU(inplace=True),\\n            nn.Dropout(p=0.5),\\n            nn.Linear(512, 512),\\n            nn.BatchNorm1d(512),\\n            nn.ReLU(inplace=True),\\n            nn.Dropout(p=0.5),\\n            nn.Linear(512, 10),\\n        )\\n\\n        for m in self.features.children():\\n            if isinstance(m, nn.Conv2d):\\n                n = m.kernel_size[0] * m.kernel_size[1] * m.out_channels\\n                m.weight.data.normal_(0, math.sqrt(2.0 / n))\\n            elif isinstance(m, nn.BatchNorm2d):\\n                m.weight.data.fill_(1)\\n                m.bias.data.zero_()\\n\\n        for m in self.classifier.children():\\n            if isinstance(m, nn.Linear):\\n                nn.init.xavier_uniform(m.weight)\\n            elif isinstance(m, nn.BatchNorm1d):\\n                m.weight.data.fill_(1)\\n                m.bias.data.zero_()\\n\\n    def forward(self, x):\\n        x = self.features(x)\\n        x = x.view(x.size(0), -1)\\n        x = self.classifier(x)\\n\\n        return x\";\n",
       "                var nbb_cells = Jupyter.notebook.get_cells();\n",
       "                for (var i = 0; i < nbb_cells.length; ++i) {\n",
       "                    if (nbb_cells[i].input_prompt_number == nbb_cell_id) {\n",
       "                        if (nbb_cells[i].get_text() == nbb_unformatted_code) {\n",
       "                             nbb_cells[i].set_text(nbb_formatted_code);\n",
       "                        }\n",
       "                        break;\n",
       "                    }\n",
       "                }\n",
       "            }, 500);\n",
       "            "
      ],
      "text/plain": [
       "<IPython.core.display.Javascript object>"
      ]
     },
     "metadata": {},
     "output_type": "display_data"
    }
   ],
   "source": [
    "class Net(nn.Module):\n",
    "    def __init__(self):\n",
    "        super(Net, self).__init__()\n",
    "\n",
    "        self.features = nn.Sequential(\n",
    "            nn.Conv2d(1, 32, kernel_size=3, stride=1, padding=1),\n",
    "            nn.BatchNorm2d(32),\n",
    "            nn.ReLU(inplace=True),\n",
    "            nn.Conv2d(32, 32, kernel_size=3, stride=1, padding=1),\n",
    "            nn.BatchNorm2d(32),\n",
    "            nn.ReLU(inplace=True),\n",
    "            nn.MaxPool2d(kernel_size=2, stride=2),\n",
    "            nn.Conv2d(32, 64, kernel_size=3, padding=1),\n",
    "            nn.BatchNorm2d(64),\n",
    "            nn.ReLU(inplace=True),\n",
    "            nn.Conv2d(64, 64, kernel_size=3, padding=1),\n",
    "            nn.BatchNorm2d(64),\n",
    "            nn.ReLU(inplace=True),\n",
    "            nn.MaxPool2d(kernel_size=2, stride=2),\n",
    "        )\n",
    "\n",
    "        self.classifier = nn.Sequential(\n",
    "            nn.Dropout(p=0.5),\n",
    "            nn.Linear(64 * 7 * 7, 512),\n",
    "            nn.BatchNorm1d(512),\n",
    "            nn.ReLU(inplace=True),\n",
    "            nn.Dropout(p=0.5),\n",
    "            nn.Linear(512, 512),\n",
    "            nn.BatchNorm1d(512),\n",
    "            nn.ReLU(inplace=True),\n",
    "            nn.Dropout(p=0.5),\n",
    "            nn.Linear(512, 10),\n",
    "        )\n",
    "\n",
    "        for m in self.features.children():\n",
    "            if isinstance(m, nn.Conv2d):\n",
    "                n = m.kernel_size[0] * m.kernel_size[1] * m.out_channels\n",
    "                m.weight.data.normal_(0, math.sqrt(2.0 / n))\n",
    "            elif isinstance(m, nn.BatchNorm2d):\n",
    "                m.weight.data.fill_(1)\n",
    "                m.bias.data.zero_()\n",
    "\n",
    "        for m in self.classifier.children():\n",
    "            if isinstance(m, nn.Linear):\n",
    "                nn.init.xavier_uniform(m.weight)\n",
    "            elif isinstance(m, nn.BatchNorm1d):\n",
    "                m.weight.data.fill_(1)\n",
    "                m.bias.data.zero_()\n",
    "\n",
    "    def forward(self, x):\n",
    "        x = self.features(x)\n",
    "        x = x.view(x.size(0), -1)\n",
    "        x = self.classifier(x)\n",
    "\n",
    "        return x"
   ]
  },
  {
   "cell_type": "code",
   "execution_count": 14,
   "metadata": {
    "ExecuteTime": {
     "end_time": "2021-09-19T17:37:55.374012Z",
     "start_time": "2021-09-19T17:37:53.660821Z"
    },
    "_cell_guid": "5b36bb2e-f4ce-4831-b829-0b737b88c014",
    "_uuid": "3227d3f557f1770c43721ea7fc9bfc11d313e177"
   },
   "outputs": [
    {
     "name": "stderr",
     "output_type": "stream",
     "text": [
      "/tmp/ipykernel_16151/1672079350.py:45: UserWarning: nn.init.xavier_uniform is now deprecated in favor of nn.init.xavier_uniform_.\n",
      "  nn.init.xavier_uniform(m.weight)\n"
     ]
    },
    {
     "data": {
      "application/javascript": [
       "\n",
       "            setTimeout(function() {\n",
       "                var nbb_cell_id = 14;\n",
       "                var nbb_unformatted_code = \"model = Net()\\n\\noptimizer = optim.Adam(model.parameters(), lr=0.003)\\n\\ncriterion = nn.CrossEntropyLoss()\\n\\nexp_lr_scheduler = lr_scheduler.StepLR(optimizer, step_size=7, gamma=0.1)\\n\\nif torch.cuda.is_available():\\n    model = model.cuda()\\n    criterion = criterion.cuda()\";\n",
       "                var nbb_formatted_code = \"model = Net()\\n\\noptimizer = optim.Adam(model.parameters(), lr=0.003)\\n\\ncriterion = nn.CrossEntropyLoss()\\n\\nexp_lr_scheduler = lr_scheduler.StepLR(optimizer, step_size=7, gamma=0.1)\\n\\nif torch.cuda.is_available():\\n    model = model.cuda()\\n    criterion = criterion.cuda()\";\n",
       "                var nbb_cells = Jupyter.notebook.get_cells();\n",
       "                for (var i = 0; i < nbb_cells.length; ++i) {\n",
       "                    if (nbb_cells[i].input_prompt_number == nbb_cell_id) {\n",
       "                        if (nbb_cells[i].get_text() == nbb_unformatted_code) {\n",
       "                             nbb_cells[i].set_text(nbb_formatted_code);\n",
       "                        }\n",
       "                        break;\n",
       "                    }\n",
       "                }\n",
       "            }, 500);\n",
       "            "
      ],
      "text/plain": [
       "<IPython.core.display.Javascript object>"
      ]
     },
     "metadata": {},
     "output_type": "display_data"
    }
   ],
   "source": [
    "model = Net()\n",
    "\n",
    "optimizer = optim.Adam(model.parameters(), lr=0.003)\n",
    "\n",
    "criterion = nn.CrossEntropyLoss()\n",
    "\n",
    "exp_lr_scheduler = lr_scheduler.StepLR(optimizer, step_size=7, gamma=0.1)\n",
    "\n",
    "if torch.cuda.is_available():\n",
    "    model = model.cuda()\n",
    "    criterion = criterion.cuda()"
   ]
  },
  {
   "cell_type": "markdown",
   "metadata": {
    "_cell_guid": "41fecd4e-d764-4da2-8efd-e94b5b243770",
    "_uuid": "f1ad41846a5182bacb284b362bac52d0c17bd29e"
   },
   "source": [
    "## Training and Evaluation"
   ]
  },
  {
   "cell_type": "code",
   "execution_count": 15,
   "metadata": {
    "ExecuteTime": {
     "end_time": "2021-09-19T17:37:55.386038Z",
     "start_time": "2021-09-19T17:37:55.374691Z"
    },
    "_cell_guid": "be618460-65ae-4dfc-b106-1970019b984f",
    "_uuid": "397c6aa3d575226f3fb0c8a3a8a30889bcd8e255"
   },
   "outputs": [
    {
     "data": {
      "application/javascript": [
       "\n",
       "            setTimeout(function() {\n",
       "                var nbb_cell_id = 15;\n",
       "                var nbb_unformatted_code = \"def train(epoch):\\n    model.train()\\n    exp_lr_scheduler.step()\\n\\n    for batch_idx, (data, target) in enumerate(train_loader):\\n        data, target = Variable(data), Variable(target)\\n\\n        if torch.cuda.is_available():\\n            data = data.cuda()\\n            target = target.cuda()\\n\\n        optimizer.zero_grad()\\n        output = model(data)\\n        loss = criterion(output, target)\\n\\n        loss.backward()\\n        optimizer.step()\\n\\n        if (batch_idx + 1) % 100 == 0:\\n            print(\\n                \\\"Train Epoch: {} [{}/{} ({:.0f}%)]\\\\tLoss: {:.6f}\\\".format(\\n                    epoch,\\n                    (batch_idx + 1) * len(data),\\n                    len(train_loader.dataset),\\n                    100.0 * (batch_idx + 1) / len(train_loader),\\n                    loss.data.item(),\\n                )\\n            )\";\n",
       "                var nbb_formatted_code = \"def train(epoch):\\n    model.train()\\n    exp_lr_scheduler.step()\\n\\n    for batch_idx, (data, target) in enumerate(train_loader):\\n        data, target = Variable(data), Variable(target)\\n\\n        if torch.cuda.is_available():\\n            data = data.cuda()\\n            target = target.cuda()\\n\\n        optimizer.zero_grad()\\n        output = model(data)\\n        loss = criterion(output, target)\\n\\n        loss.backward()\\n        optimizer.step()\\n\\n        if (batch_idx + 1) % 100 == 0:\\n            print(\\n                \\\"Train Epoch: {} [{}/{} ({:.0f}%)]\\\\tLoss: {:.6f}\\\".format(\\n                    epoch,\\n                    (batch_idx + 1) * len(data),\\n                    len(train_loader.dataset),\\n                    100.0 * (batch_idx + 1) / len(train_loader),\\n                    loss.data.item(),\\n                )\\n            )\";\n",
       "                var nbb_cells = Jupyter.notebook.get_cells();\n",
       "                for (var i = 0; i < nbb_cells.length; ++i) {\n",
       "                    if (nbb_cells[i].input_prompt_number == nbb_cell_id) {\n",
       "                        if (nbb_cells[i].get_text() == nbb_unformatted_code) {\n",
       "                             nbb_cells[i].set_text(nbb_formatted_code);\n",
       "                        }\n",
       "                        break;\n",
       "                    }\n",
       "                }\n",
       "            }, 500);\n",
       "            "
      ],
      "text/plain": [
       "<IPython.core.display.Javascript object>"
      ]
     },
     "metadata": {},
     "output_type": "display_data"
    }
   ],
   "source": [
    "def train(epoch):\n",
    "    model.train()\n",
    "    exp_lr_scheduler.step()\n",
    "\n",
    "    for batch_idx, (data, target) in enumerate(train_loader):\n",
    "        data, target = Variable(data), Variable(target)\n",
    "\n",
    "        if torch.cuda.is_available():\n",
    "            data = data.cuda()\n",
    "            target = target.cuda()\n",
    "\n",
    "        optimizer.zero_grad()\n",
    "        output = model(data)\n",
    "        loss = criterion(output, target)\n",
    "\n",
    "        loss.backward()\n",
    "        optimizer.step()\n",
    "\n",
    "        if (batch_idx + 1) % 100 == 0:\n",
    "            print(\n",
    "                \"Train Epoch: {} [{}/{} ({:.0f}%)]\\tLoss: {:.6f}\".format(\n",
    "                    epoch,\n",
    "                    (batch_idx + 1) * len(data),\n",
    "                    len(train_loader.dataset),\n",
    "                    100.0 * (batch_idx + 1) / len(train_loader),\n",
    "                    loss.data.item(),\n",
    "                )\n",
    "            )"
   ]
  },
  {
   "cell_type": "code",
   "execution_count": 16,
   "metadata": {
    "ExecuteTime": {
     "end_time": "2021-09-19T17:37:55.411798Z",
     "start_time": "2021-09-19T17:37:55.386659Z"
    },
    "_cell_guid": "3901fd52-c016-4b7f-bcb4-80a2449b43f4",
    "_uuid": "977bf7d8ca46333bb53b7b44be40942d0e82572a"
   },
   "outputs": [
    {
     "data": {
      "application/javascript": [
       "\n",
       "            setTimeout(function() {\n",
       "                var nbb_cell_id = 16;\n",
       "                var nbb_unformatted_code = \"def evaluate(data_loader):\\n    model.eval()\\n    loss = 0\\n    correct = 0\\n\\n    for data, target in data_loader:\\n        data, target = Variable(data, volatile=True), Variable(target)\\n        if torch.cuda.is_available():\\n            data = data.cuda()\\n            target = target.cuda()\\n\\n        output = model(data)\\n\\n        loss += F.cross_entropy(output, target, size_average=False).data.item()\\n\\n        pred = output.data.max(1, keepdim=True)[1]\\n        correct += pred.eq(target.data.view_as(pred)).cpu().sum()\\n\\n    loss /= len(data_loader.dataset)\\n\\n    print(\\n        \\\"\\\\nAverage loss: {:.4f}, Accuracy: {}/{} ({:.3f}%)\\\\n\\\".format(\\n            loss,\\n            correct,\\n            len(data_loader.dataset),\\n            100.0 * correct / len(data_loader.dataset),\\n        )\\n    )\";\n",
       "                var nbb_formatted_code = \"def evaluate(data_loader):\\n    model.eval()\\n    loss = 0\\n    correct = 0\\n\\n    for data, target in data_loader:\\n        data, target = Variable(data, volatile=True), Variable(target)\\n        if torch.cuda.is_available():\\n            data = data.cuda()\\n            target = target.cuda()\\n\\n        output = model(data)\\n\\n        loss += F.cross_entropy(output, target, size_average=False).data.item()\\n\\n        pred = output.data.max(1, keepdim=True)[1]\\n        correct += pred.eq(target.data.view_as(pred)).cpu().sum()\\n\\n    loss /= len(data_loader.dataset)\\n\\n    print(\\n        \\\"\\\\nAverage loss: {:.4f}, Accuracy: {}/{} ({:.3f}%)\\\\n\\\".format(\\n            loss,\\n            correct,\\n            len(data_loader.dataset),\\n            100.0 * correct / len(data_loader.dataset),\\n        )\\n    )\";\n",
       "                var nbb_cells = Jupyter.notebook.get_cells();\n",
       "                for (var i = 0; i < nbb_cells.length; ++i) {\n",
       "                    if (nbb_cells[i].input_prompt_number == nbb_cell_id) {\n",
       "                        if (nbb_cells[i].get_text() == nbb_unformatted_code) {\n",
       "                             nbb_cells[i].set_text(nbb_formatted_code);\n",
       "                        }\n",
       "                        break;\n",
       "                    }\n",
       "                }\n",
       "            }, 500);\n",
       "            "
      ],
      "text/plain": [
       "<IPython.core.display.Javascript object>"
      ]
     },
     "metadata": {},
     "output_type": "display_data"
    }
   ],
   "source": [
    "def evaluate(data_loader):\n",
    "    model.eval()\n",
    "    loss = 0\n",
    "    correct = 0\n",
    "\n",
    "    for data, target in data_loader:\n",
    "        data, target = Variable(data, volatile=True), Variable(target)\n",
    "        if torch.cuda.is_available():\n",
    "            data = data.cuda()\n",
    "            target = target.cuda()\n",
    "\n",
    "        output = model(data)\n",
    "\n",
    "        loss += F.cross_entropy(output, target, size_average=False).data.item()\n",
    "\n",
    "        pred = output.data.max(1, keepdim=True)[1]\n",
    "        correct += pred.eq(target.data.view_as(pred)).cpu().sum()\n",
    "\n",
    "    loss /= len(data_loader.dataset)\n",
    "\n",
    "    print(\n",
    "        \"\\nAverage loss: {:.4f}, Accuracy: {}/{} ({:.3f}%)\\n\".format(\n",
    "            loss,\n",
    "            correct,\n",
    "            len(data_loader.dataset),\n",
    "            100.0 * correct / len(data_loader.dataset),\n",
    "        )\n",
    "    )"
   ]
  },
  {
   "cell_type": "markdown",
   "metadata": {
    "_cell_guid": "1edb9d12-9411-4fc1-8a3e-045713b6b448",
    "_uuid": "a4c4986684b3915e329a6fc5ab380a58cb07bec7"
   },
   "source": [
    "### Train the network\n",
    "\n",
    "Reaches 0.995 accuracy on test set after 50 epochs"
   ]
  },
  {
   "cell_type": "code",
   "execution_count": 17,
   "metadata": {
    "ExecuteTime": {
     "end_time": "2021-09-19T17:38:10.725026Z",
     "start_time": "2021-09-19T17:37:55.412422Z"
    },
    "_cell_guid": "c7b3146c-0beb-438d-a8de-15f6afa11ba3",
    "_uuid": "6ca8fe3ded9fcd5dc09350aff412d878eac0df6a"
   },
   "outputs": [
    {
     "name": "stderr",
     "output_type": "stream",
     "text": [
      "/home/alxgrin/anaconda3/lib/python3.8/site-packages/torch/optim/lr_scheduler.py:129: UserWarning: Detected call of `lr_scheduler.step()` before `optimizer.step()`. In PyTorch 1.1.0 and later, you should call them in the opposite order: `optimizer.step()` before `lr_scheduler.step()`.  Failure to do this will result in PyTorch skipping the first value of the learning rate schedule. See more details at https://pytorch.org/docs/stable/optim.html#how-to-adjust-learning-rate\n",
      "  warnings.warn(\"Detected call of `lr_scheduler.step()` before `optimizer.step()`. \"\n",
      "/home/alxgrin/anaconda3/lib/python3.8/site-packages/torch/nn/functional.py:718: UserWarning: Named tensors and all their associated APIs are an experimental feature and subject to change. Please do not use them for anything important until they are released as stable. (Triggered internally at  /opt/conda/conda-bld/pytorch_1623448278899/work/c10/core/TensorImpl.h:1156.)\n",
      "  return torch.max_pool2d(input, kernel_size, stride, padding, dilation, ceil_mode)\n"
     ]
    },
    {
     "name": "stdout",
     "output_type": "stream",
     "text": [
      "Train Epoch: 0 [6400/42000 (15%)]\tLoss: 0.435208\n",
      "Train Epoch: 0 [12800/42000 (30%)]\tLoss: 0.455804\n",
      "Train Epoch: 0 [19200/42000 (46%)]\tLoss: 0.327659\n",
      "Train Epoch: 0 [25600/42000 (61%)]\tLoss: 0.297604\n",
      "Train Epoch: 0 [32000/42000 (76%)]\tLoss: 0.166165\n",
      "Train Epoch: 0 [38400/42000 (91%)]\tLoss: 0.150026\n"
     ]
    },
    {
     "name": "stderr",
     "output_type": "stream",
     "text": [
      "/tmp/ipykernel_16151/1219815551.py:7: UserWarning: volatile was removed and now has no effect. Use `with torch.no_grad():` instead.\n",
      "  data, target = Variable(data, volatile=True), Variable(target)\n",
      "/home/alxgrin/anaconda3/lib/python3.8/site-packages/torch/nn/_reduction.py:42: UserWarning: size_average and reduce args will be deprecated, please use reduction='sum' instead.\n",
      "  warnings.warn(warning.format(ret))\n"
     ]
    },
    {
     "name": "stdout",
     "output_type": "stream",
     "text": [
      "\n",
      "Average loss: 0.1014, Accuracy: 40674/42000 (96.843%)\n",
      "\n"
     ]
    },
    {
     "data": {
      "application/javascript": [
       "\n",
       "            setTimeout(function() {\n",
       "                var nbb_cell_id = 17;\n",
       "                var nbb_unformatted_code = \"n_epochs = 1\\n\\nfor epoch in range(n_epochs):\\n    train(epoch)\\n    evaluate(train_loader)\";\n",
       "                var nbb_formatted_code = \"n_epochs = 1\\n\\nfor epoch in range(n_epochs):\\n    train(epoch)\\n    evaluate(train_loader)\";\n",
       "                var nbb_cells = Jupyter.notebook.get_cells();\n",
       "                for (var i = 0; i < nbb_cells.length; ++i) {\n",
       "                    if (nbb_cells[i].input_prompt_number == nbb_cell_id) {\n",
       "                        if (nbb_cells[i].get_text() == nbb_unformatted_code) {\n",
       "                             nbb_cells[i].set_text(nbb_formatted_code);\n",
       "                        }\n",
       "                        break;\n",
       "                    }\n",
       "                }\n",
       "            }, 500);\n",
       "            "
      ],
      "text/plain": [
       "<IPython.core.display.Javascript object>"
      ]
     },
     "metadata": {},
     "output_type": "display_data"
    }
   ],
   "source": [
    "n_epochs = 1\n",
    "\n",
    "for epoch in range(n_epochs):\n",
    "    train(epoch)\n",
    "    evaluate(train_loader)"
   ]
  },
  {
   "cell_type": "markdown",
   "metadata": {
    "_cell_guid": "3357ea6a-db51-4be7-b101-933720ad5fca",
    "_uuid": "f043414ac704967a9ab2b659fe5567a66796d6ba"
   },
   "source": [
    "## Prediction on Test Set"
   ]
  },
  {
   "cell_type": "code",
   "execution_count": 18,
   "metadata": {
    "ExecuteTime": {
     "end_time": "2021-09-19T17:38:10.733697Z",
     "start_time": "2021-09-19T17:38:10.725718Z"
    },
    "_cell_guid": "e00a390b-0aaf-4119-926b-03ffe486e99d",
    "_uuid": "9fdbe41834761b6b91cfe4eebdfc88ce29f0723e"
   },
   "outputs": [
    {
     "data": {
      "application/javascript": [
       "\n",
       "            setTimeout(function() {\n",
       "                var nbb_cell_id = 18;\n",
       "                var nbb_unformatted_code = \"def prediciton(data_loader):\\n    model.eval()\\n    test_pred = torch.LongTensor()\\n\\n    for i, data in enumerate(data_loader):\\n        data = Variable(data, volatile=True)\\n        if torch.cuda.is_available():\\n            data = data.cuda()\\n\\n        output = model(data)\\n\\n        pred = output.cpu().data.max(1, keepdim=True)[1]\\n        test_pred = torch.cat((test_pred, pred), dim=0)\\n\\n    return test_pred\";\n",
       "                var nbb_formatted_code = \"def prediciton(data_loader):\\n    model.eval()\\n    test_pred = torch.LongTensor()\\n\\n    for i, data in enumerate(data_loader):\\n        data = Variable(data, volatile=True)\\n        if torch.cuda.is_available():\\n            data = data.cuda()\\n\\n        output = model(data)\\n\\n        pred = output.cpu().data.max(1, keepdim=True)[1]\\n        test_pred = torch.cat((test_pred, pred), dim=0)\\n\\n    return test_pred\";\n",
       "                var nbb_cells = Jupyter.notebook.get_cells();\n",
       "                for (var i = 0; i < nbb_cells.length; ++i) {\n",
       "                    if (nbb_cells[i].input_prompt_number == nbb_cell_id) {\n",
       "                        if (nbb_cells[i].get_text() == nbb_unformatted_code) {\n",
       "                             nbb_cells[i].set_text(nbb_formatted_code);\n",
       "                        }\n",
       "                        break;\n",
       "                    }\n",
       "                }\n",
       "            }, 500);\n",
       "            "
      ],
      "text/plain": [
       "<IPython.core.display.Javascript object>"
      ]
     },
     "metadata": {},
     "output_type": "display_data"
    }
   ],
   "source": [
    "def prediciton(data_loader):\n",
    "    model.eval()\n",
    "    test_pred = torch.LongTensor()\n",
    "\n",
    "    for i, data in enumerate(data_loader):\n",
    "        data = Variable(data, volatile=True)\n",
    "        if torch.cuda.is_available():\n",
    "            data = data.cuda()\n",
    "\n",
    "        output = model(data)\n",
    "\n",
    "        pred = output.cpu().data.max(1, keepdim=True)[1]\n",
    "        test_pred = torch.cat((test_pred, pred), dim=0)\n",
    "\n",
    "    return test_pred"
   ]
  },
  {
   "cell_type": "code",
   "execution_count": 19,
   "metadata": {
    "ExecuteTime": {
     "end_time": "2021-09-19T17:38:13.126740Z",
     "start_time": "2021-09-19T17:38:10.734494Z"
    },
    "_cell_guid": "c6cc74dc-8de0-403b-abed-3ead97f0348c",
    "_uuid": "fe47f6c8c7bdfe85779ebfcf7a74e361f3b7c8a0"
   },
   "outputs": [
    {
     "name": "stderr",
     "output_type": "stream",
     "text": [
      "/tmp/ipykernel_16151/3294072322.py:6: UserWarning: volatile was removed and now has no effect. Use `with torch.no_grad():` instead.\n",
      "  data = Variable(data, volatile=True)\n"
     ]
    },
    {
     "data": {
      "application/javascript": [
       "\n",
       "            setTimeout(function() {\n",
       "                var nbb_cell_id = 19;\n",
       "                var nbb_unformatted_code = \"test_pred = prediciton(test_loader)\";\n",
       "                var nbb_formatted_code = \"test_pred = prediciton(test_loader)\";\n",
       "                var nbb_cells = Jupyter.notebook.get_cells();\n",
       "                for (var i = 0; i < nbb_cells.length; ++i) {\n",
       "                    if (nbb_cells[i].input_prompt_number == nbb_cell_id) {\n",
       "                        if (nbb_cells[i].get_text() == nbb_unformatted_code) {\n",
       "                             nbb_cells[i].set_text(nbb_formatted_code);\n",
       "                        }\n",
       "                        break;\n",
       "                    }\n",
       "                }\n",
       "            }, 500);\n",
       "            "
      ],
      "text/plain": [
       "<IPython.core.display.Javascript object>"
      ]
     },
     "metadata": {},
     "output_type": "display_data"
    }
   ],
   "source": [
    "test_pred = prediciton(test_loader)"
   ]
  },
  {
   "cell_type": "code",
   "execution_count": 20,
   "metadata": {
    "ExecuteTime": {
     "end_time": "2021-09-19T17:38:13.132738Z",
     "start_time": "2021-09-19T17:38:13.127459Z"
    },
    "_cell_guid": "6de7f1ff-4c33-4b1e-9316-ac022ad0287d",
    "_uuid": "4ef57831bbeeb792e7d3a847198f002ebe02f8a5"
   },
   "outputs": [
    {
     "data": {
      "application/javascript": [
       "\n",
       "            setTimeout(function() {\n",
       "                var nbb_cell_id = 20;\n",
       "                var nbb_unformatted_code = \"out_df = pd.DataFrame(\\n    np.c_[np.arange(1, len(test_dataset) + 1)[:, None], test_pred.numpy()],\\n    columns=[\\\"ImageId\\\", \\\"Label\\\"],\\n)\";\n",
       "                var nbb_formatted_code = \"out_df = pd.DataFrame(\\n    np.c_[np.arange(1, len(test_dataset) + 1)[:, None], test_pred.numpy()],\\n    columns=[\\\"ImageId\\\", \\\"Label\\\"],\\n)\";\n",
       "                var nbb_cells = Jupyter.notebook.get_cells();\n",
       "                for (var i = 0; i < nbb_cells.length; ++i) {\n",
       "                    if (nbb_cells[i].input_prompt_number == nbb_cell_id) {\n",
       "                        if (nbb_cells[i].get_text() == nbb_unformatted_code) {\n",
       "                             nbb_cells[i].set_text(nbb_formatted_code);\n",
       "                        }\n",
       "                        break;\n",
       "                    }\n",
       "                }\n",
       "            }, 500);\n",
       "            "
      ],
      "text/plain": [
       "<IPython.core.display.Javascript object>"
      ]
     },
     "metadata": {},
     "output_type": "display_data"
    }
   ],
   "source": [
    "out_df = pd.DataFrame(\n",
    "    np.c_[np.arange(1, len(test_dataset) + 1)[:, None], test_pred.numpy()],\n",
    "    columns=[\"ImageId\", \"Label\"],\n",
    ")"
   ]
  },
  {
   "cell_type": "code",
   "execution_count": 21,
   "metadata": {
    "ExecuteTime": {
     "end_time": "2021-09-19T17:38:13.155899Z",
     "start_time": "2021-09-19T17:38:13.133400Z"
    },
    "_cell_guid": "b9422a68-66e5-4bc1-af9f-1d7d02576a34",
    "_uuid": "899374536c219a3b6208a4947046b6a46515f24b",
    "scrolled": true
   },
   "outputs": [
    {
     "data": {
      "text/html": [
       "<div>\n",
       "<style scoped>\n",
       "    .dataframe tbody tr th:only-of-type {\n",
       "        vertical-align: middle;\n",
       "    }\n",
       "\n",
       "    .dataframe tbody tr th {\n",
       "        vertical-align: top;\n",
       "    }\n",
       "\n",
       "    .dataframe thead th {\n",
       "        text-align: right;\n",
       "    }\n",
       "</style>\n",
       "<table border=\"1\" class=\"dataframe\">\n",
       "  <thead>\n",
       "    <tr style=\"text-align: right;\">\n",
       "      <th></th>\n",
       "      <th>ImageId</th>\n",
       "      <th>Label</th>\n",
       "    </tr>\n",
       "  </thead>\n",
       "  <tbody>\n",
       "    <tr>\n",
       "      <th>0</th>\n",
       "      <td>1</td>\n",
       "      <td>2</td>\n",
       "    </tr>\n",
       "    <tr>\n",
       "      <th>1</th>\n",
       "      <td>2</td>\n",
       "      <td>0</td>\n",
       "    </tr>\n",
       "    <tr>\n",
       "      <th>2</th>\n",
       "      <td>3</td>\n",
       "      <td>9</td>\n",
       "    </tr>\n",
       "    <tr>\n",
       "      <th>3</th>\n",
       "      <td>4</td>\n",
       "      <td>9</td>\n",
       "    </tr>\n",
       "    <tr>\n",
       "      <th>4</th>\n",
       "      <td>5</td>\n",
       "      <td>3</td>\n",
       "    </tr>\n",
       "  </tbody>\n",
       "</table>\n",
       "</div>"
      ],
      "text/plain": [
       "   ImageId  Label\n",
       "0        1      2\n",
       "1        2      0\n",
       "2        3      9\n",
       "3        4      9\n",
       "4        5      3"
      ]
     },
     "execution_count": 21,
     "metadata": {},
     "output_type": "execute_result"
    },
    {
     "data": {
      "application/javascript": [
       "\n",
       "            setTimeout(function() {\n",
       "                var nbb_cell_id = 21;\n",
       "                var nbb_unformatted_code = \"out_df.head()\";\n",
       "                var nbb_formatted_code = \"out_df.head()\";\n",
       "                var nbb_cells = Jupyter.notebook.get_cells();\n",
       "                for (var i = 0; i < nbb_cells.length; ++i) {\n",
       "                    if (nbb_cells[i].input_prompt_number == nbb_cell_id) {\n",
       "                        if (nbb_cells[i].get_text() == nbb_unformatted_code) {\n",
       "                             nbb_cells[i].set_text(nbb_formatted_code);\n",
       "                        }\n",
       "                        break;\n",
       "                    }\n",
       "                }\n",
       "            }, 500);\n",
       "            "
      ],
      "text/plain": [
       "<IPython.core.display.Javascript object>"
      ]
     },
     "metadata": {},
     "output_type": "display_data"
    }
   ],
   "source": [
    "out_df.head()"
   ]
  },
  {
   "cell_type": "code",
   "execution_count": 22,
   "metadata": {
    "ExecuteTime": {
     "end_time": "2021-09-19T17:38:13.181380Z",
     "start_time": "2021-09-19T17:38:13.156905Z"
    },
    "_cell_guid": "9f53df55-4569-4f11-a038-f54a1e200161",
    "_uuid": "42b9c61e3462f471d9cae883880232882de0f21f"
   },
   "outputs": [
    {
     "data": {
      "application/javascript": [
       "\n",
       "            setTimeout(function() {\n",
       "                var nbb_cell_id = 22;\n",
       "                var nbb_unformatted_code = \"out_df.to_csv(\\\"submission.csv\\\", index=False)\";\n",
       "                var nbb_formatted_code = \"out_df.to_csv(\\\"submission.csv\\\", index=False)\";\n",
       "                var nbb_cells = Jupyter.notebook.get_cells();\n",
       "                for (var i = 0; i < nbb_cells.length; ++i) {\n",
       "                    if (nbb_cells[i].input_prompt_number == nbb_cell_id) {\n",
       "                        if (nbb_cells[i].get_text() == nbb_unformatted_code) {\n",
       "                             nbb_cells[i].set_text(nbb_formatted_code);\n",
       "                        }\n",
       "                        break;\n",
       "                    }\n",
       "                }\n",
       "            }, 500);\n",
       "            "
      ],
      "text/plain": [
       "<IPython.core.display.Javascript object>"
      ]
     },
     "metadata": {},
     "output_type": "display_data"
    }
   ],
   "source": [
    "out_df.to_csv(\"submission.csv\", index=False)"
   ]
  },
  {
   "cell_type": "code",
   "execution_count": null,
   "metadata": {},
   "outputs": [],
   "source": []
  }
 ],
 "metadata": {
  "hide_input": false,
  "kernelspec": {
   "display_name": "Python 3 (ipykernel)",
   "language": "python",
   "name": "python3"
  },
  "language_info": {
   "codemirror_mode": {
    "name": "ipython",
    "version": 3
   },
   "file_extension": ".py",
   "mimetype": "text/x-python",
   "name": "python",
   "nbconvert_exporter": "python",
   "pygments_lexer": "ipython3",
   "version": "3.8.11"
  },
  "toc": {
   "base_numbering": 1,
   "nav_menu": {},
   "number_sections": true,
   "sideBar": true,
   "skip_h1_title": false,
   "title_cell": "Table of Contents",
   "title_sidebar": "Contents",
   "toc_cell": false,
   "toc_position": {},
   "toc_section_display": true,
   "toc_window_display": false
  },
  "varInspector": {
   "cols": {
    "lenName": 16,
    "lenType": 16,
    "lenVar": 40
   },
   "kernels_config": {
    "python": {
     "delete_cmd_postfix": "",
     "delete_cmd_prefix": "del ",
     "library": "var_list.py",
     "varRefreshCmd": "print(var_dic_list())"
    },
    "r": {
     "delete_cmd_postfix": ") ",
     "delete_cmd_prefix": "rm(",
     "library": "var_list.r",
     "varRefreshCmd": "cat(var_dic_list()) "
    }
   },
   "types_to_exclude": [
    "module",
    "function",
    "builtin_function_or_method",
    "instance",
    "_Feature"
   ],
   "window_display": false
  }
 },
 "nbformat": 4,
 "nbformat_minor": 1
}
