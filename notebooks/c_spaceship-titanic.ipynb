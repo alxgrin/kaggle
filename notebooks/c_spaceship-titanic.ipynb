{
 "cells": [
  {
   "cell_type": "markdown",
   "id": "d71391de",
   "metadata": {},
   "source": [
    "# Spaceship Titanic\n",
    "Predict which passengers are transported to an alternate dimension\n",
    "\n",
    "**Recommended Competition**  \n",
    "We highly recommend [Titanic - Machine Learning from Disaster](https://kaggle.com/c/titanic/overview) to get familiar with the basics of machine learning and Kaggle competitions.\n",
    "\n",
    "Welcome to the year 2912, where your data science skills are needed to solve a cosmic mystery. We've received a transmission from four lightyears away and things aren't looking good.\n",
    "\n",
    "The _Spaceship Titanic_ was an interstellar passenger liner launched a month ago. With almost 13,000 passengers on board, the vessel set out on its maiden voyage transporting emigrants from our solar system to three newly habitable exoplanets orbiting nearby stars.\n",
    "\n",
    "While rounding Alpha Centauri en route to its first destination—the torrid 55 Cancri E—the unwary _Spaceship Titanic_ collided with a spacetime anomaly hidden within a dust cloud. Sadly, it met a similar fate as its namesake from 1000 years before. Though the ship stayed intact, almost half of the passengers were transported to an alternate dimension!\n",
    "\n",
    "![](https://storage.googleapis.com/kaggle-media/competitions/Spaceship%20Titanic/joel-filipe-QwoNAhbmLLo-unsplash.jpg)\n",
    "\n",
    "To help rescue crews and retrieve the lost passengers, you are challenged to predict which passengers were transported by the anomaly using records recovered from the spaceship’s damaged computer system.\n",
    "\n",
    "Help save them and change history!\n",
    "\n",
    "### Acknowledgments\n",
    "\n",
    "Photos by [Joel Filipe](https://unsplash.com/@joelfilip?utm_source=unsplash&utm_medium=referral&utm_content=creditCopyText), [Richard Gatley](https://unsplash.com/@uncle_rickie?utm_source=unsplash&utm_medium=referral&utm_content=creditCopyText) and [ActionVance](https://unsplash.com/@actionvance?utm_source=unsplash&utm_medium=referral&utm_content=creditCopyText) on Unsplash.\n",
    "\n",
    "Link: https://www.kaggle.com/competitions/spaceship-titanic/overview"
   ]
  },
  {
   "cell_type": "markdown",
   "id": "e25a6bea",
   "metadata": {},
   "source": [
    "In this competition your task is to predict whether a passenger was transported to an alternate dimension during the _Spaceship Titanic_'s collision with the spacetime anomaly. To help you make these predictions, you're given a set of personal records recovered from the ship's damaged computer system.\n",
    "\n",
    "File and Data Field Descriptions\n",
    "================================\n",
    "\n",
    "*   **train.csv** - Personal records for about two-thirds (~8700) of the passengers, to be used as training data.\n",
    "    *   `PassengerId` - A unique Id for each passenger. Each Id takes the form `gggg_pp` where `gggg` indicates a group the passenger is travelling with and `pp` is their number within the group. People in a group are often family members, but not always.\n",
    "    *   `HomePlanet` - The planet the passenger departed from, typically their planet of permanent residence.\n",
    "    *   `CryoSleep` - Indicates whether the passenger elected to be put into suspended animation for the duration of the voyage. Passengers in cryosleep are confined to their cabins.\n",
    "    *   `Cabin` - The cabin number where the passenger is staying. Takes the form `deck/num/side`, where `side` can be either `P` for _Port_ or `S` for _Starboard_.\n",
    "    *   `Destination` - The planet the passenger will be debarking to.\n",
    "    *   `Age` - The age of the passenger.\n",
    "    *   `VIP` - Whether the passenger has paid for special VIP service during the voyage.\n",
    "    *   `RoomService`, `FoodCourt`, `ShoppingMall`, `Spa`, `VRDeck` - Amount the passenger has billed at each of the _Spaceship Titanic_'s many luxury amenities.\n",
    "    *   `Name` - The first and last names of the passenger.\n",
    "    *   `Transported` - Whether the passenger was transported to another dimension. This is the target, the column you are trying to predict.\n",
    "*   **test.csv** - Personal records for the remaining one-third (~4300) of the passengers, to be used as test data. Your task is to predict the value of `Transported` for the passengers in this set.\n",
    "*   **sample\\_submission.csv** - A submission file in the correct format.\n",
    "    *   `PassengerId` - Id for each passenger in the test set.\n",
    "    *   `Transported` - The target. For each passenger, predict either `True` or `False`."
   ]
  },
  {
   "cell_type": "code",
   "execution_count": 1,
   "id": "642208e7",
   "metadata": {
    "ExecuteTime": {
     "end_time": "2022-06-12T10:55:20.789058Z",
     "start_time": "2022-06-12T10:55:20.384721Z"
    }
   },
   "outputs": [],
   "source": [
    "import pandas as pd\n",
    "import numpy as np\n",
    "from sklearn import preprocessing\n",
    "from sklearn.model_selection import train_test_split\n",
    "from catboost import CatBoostClassifier, Pool, sum_models, to_classifier\n",
    "from sklearn.model_selection import StratifiedKFold\n",
    "from sklearn.metrics import accuracy_score"
   ]
  },
  {
   "cell_type": "code",
   "execution_count": 2,
   "id": "c187bf99",
   "metadata": {
    "ExecuteTime": {
     "end_time": "2022-06-12T10:55:20.851446Z",
     "start_time": "2022-06-12T10:55:20.790085Z"
    }
   },
   "outputs": [
    {
     "data": {
      "application/javascript": [
       "\n",
       "            setTimeout(function() {\n",
       "                var nbb_cell_id = 2;\n",
       "                var nbb_unformatted_code = \"%load_ext nb_black\";\n",
       "                var nbb_formatted_code = \"%load_ext nb_black\";\n",
       "                var nbb_cells = Jupyter.notebook.get_cells();\n",
       "                for (var i = 0; i < nbb_cells.length; ++i) {\n",
       "                    if (nbb_cells[i].input_prompt_number == nbb_cell_id) {\n",
       "                        if (nbb_cells[i].get_text() == nbb_unformatted_code) {\n",
       "                             nbb_cells[i].set_text(nbb_formatted_code);\n",
       "                        }\n",
       "                        break;\n",
       "                    }\n",
       "                }\n",
       "            }, 500);\n",
       "            "
      ],
      "text/plain": [
       "<IPython.core.display.Javascript object>"
      ]
     },
     "metadata": {},
     "output_type": "display_data"
    }
   ],
   "source": [
    "%load_ext nb_black"
   ]
  },
  {
   "cell_type": "code",
   "execution_count": 3,
   "id": "d3b4cd65",
   "metadata": {
    "ExecuteTime": {
     "end_time": "2022-06-12T10:55:20.882190Z",
     "start_time": "2022-06-12T10:55:20.853503Z"
    }
   },
   "outputs": [
    {
     "data": {
      "text/html": [
       "<div>\n",
       "<style scoped>\n",
       "    .dataframe tbody tr th:only-of-type {\n",
       "        vertical-align: middle;\n",
       "    }\n",
       "\n",
       "    .dataframe tbody tr th {\n",
       "        vertical-align: top;\n",
       "    }\n",
       "\n",
       "    .dataframe thead th {\n",
       "        text-align: right;\n",
       "    }\n",
       "</style>\n",
       "<table border=\"1\" class=\"dataframe\">\n",
       "  <thead>\n",
       "    <tr style=\"text-align: right;\">\n",
       "      <th></th>\n",
       "      <th>HomePlanet</th>\n",
       "      <th>CryoSleep</th>\n",
       "      <th>Cabin</th>\n",
       "      <th>Destination</th>\n",
       "      <th>Age</th>\n",
       "      <th>VIP</th>\n",
       "      <th>RoomService</th>\n",
       "      <th>FoodCourt</th>\n",
       "      <th>ShoppingMall</th>\n",
       "      <th>Spa</th>\n",
       "      <th>VRDeck</th>\n",
       "      <th>Name</th>\n",
       "      <th>Transported</th>\n",
       "    </tr>\n",
       "    <tr>\n",
       "      <th>PassengerId</th>\n",
       "      <th></th>\n",
       "      <th></th>\n",
       "      <th></th>\n",
       "      <th></th>\n",
       "      <th></th>\n",
       "      <th></th>\n",
       "      <th></th>\n",
       "      <th></th>\n",
       "      <th></th>\n",
       "      <th></th>\n",
       "      <th></th>\n",
       "      <th></th>\n",
       "      <th></th>\n",
       "    </tr>\n",
       "  </thead>\n",
       "  <tbody>\n",
       "    <tr>\n",
       "      <th>0001_01</th>\n",
       "      <td>Europa</td>\n",
       "      <td>False</td>\n",
       "      <td>B/0/P</td>\n",
       "      <td>TRAPPIST-1e</td>\n",
       "      <td>39.0</td>\n",
       "      <td>False</td>\n",
       "      <td>0.0</td>\n",
       "      <td>0.0</td>\n",
       "      <td>0.0</td>\n",
       "      <td>0.0</td>\n",
       "      <td>0.0</td>\n",
       "      <td>Maham Ofracculy</td>\n",
       "      <td>False</td>\n",
       "    </tr>\n",
       "    <tr>\n",
       "      <th>0002_01</th>\n",
       "      <td>Earth</td>\n",
       "      <td>False</td>\n",
       "      <td>F/0/S</td>\n",
       "      <td>TRAPPIST-1e</td>\n",
       "      <td>24.0</td>\n",
       "      <td>False</td>\n",
       "      <td>109.0</td>\n",
       "      <td>9.0</td>\n",
       "      <td>25.0</td>\n",
       "      <td>549.0</td>\n",
       "      <td>44.0</td>\n",
       "      <td>Juanna Vines</td>\n",
       "      <td>True</td>\n",
       "    </tr>\n",
       "    <tr>\n",
       "      <th>0003_01</th>\n",
       "      <td>Europa</td>\n",
       "      <td>False</td>\n",
       "      <td>A/0/S</td>\n",
       "      <td>TRAPPIST-1e</td>\n",
       "      <td>58.0</td>\n",
       "      <td>True</td>\n",
       "      <td>43.0</td>\n",
       "      <td>3576.0</td>\n",
       "      <td>0.0</td>\n",
       "      <td>6715.0</td>\n",
       "      <td>49.0</td>\n",
       "      <td>Altark Susent</td>\n",
       "      <td>False</td>\n",
       "    </tr>\n",
       "    <tr>\n",
       "      <th>0003_02</th>\n",
       "      <td>Europa</td>\n",
       "      <td>False</td>\n",
       "      <td>A/0/S</td>\n",
       "      <td>TRAPPIST-1e</td>\n",
       "      <td>33.0</td>\n",
       "      <td>False</td>\n",
       "      <td>0.0</td>\n",
       "      <td>1283.0</td>\n",
       "      <td>371.0</td>\n",
       "      <td>3329.0</td>\n",
       "      <td>193.0</td>\n",
       "      <td>Solam Susent</td>\n",
       "      <td>False</td>\n",
       "    </tr>\n",
       "    <tr>\n",
       "      <th>0004_01</th>\n",
       "      <td>Earth</td>\n",
       "      <td>False</td>\n",
       "      <td>F/1/S</td>\n",
       "      <td>TRAPPIST-1e</td>\n",
       "      <td>16.0</td>\n",
       "      <td>False</td>\n",
       "      <td>303.0</td>\n",
       "      <td>70.0</td>\n",
       "      <td>151.0</td>\n",
       "      <td>565.0</td>\n",
       "      <td>2.0</td>\n",
       "      <td>Willy Santantines</td>\n",
       "      <td>True</td>\n",
       "    </tr>\n",
       "    <tr>\n",
       "      <th>...</th>\n",
       "      <td>...</td>\n",
       "      <td>...</td>\n",
       "      <td>...</td>\n",
       "      <td>...</td>\n",
       "      <td>...</td>\n",
       "      <td>...</td>\n",
       "      <td>...</td>\n",
       "      <td>...</td>\n",
       "      <td>...</td>\n",
       "      <td>...</td>\n",
       "      <td>...</td>\n",
       "      <td>...</td>\n",
       "      <td>...</td>\n",
       "    </tr>\n",
       "    <tr>\n",
       "      <th>9276_01</th>\n",
       "      <td>Europa</td>\n",
       "      <td>False</td>\n",
       "      <td>A/98/P</td>\n",
       "      <td>55 Cancri e</td>\n",
       "      <td>41.0</td>\n",
       "      <td>True</td>\n",
       "      <td>0.0</td>\n",
       "      <td>6819.0</td>\n",
       "      <td>0.0</td>\n",
       "      <td>1643.0</td>\n",
       "      <td>74.0</td>\n",
       "      <td>Gravior Noxnuther</td>\n",
       "      <td>False</td>\n",
       "    </tr>\n",
       "    <tr>\n",
       "      <th>9278_01</th>\n",
       "      <td>Earth</td>\n",
       "      <td>True</td>\n",
       "      <td>G/1499/S</td>\n",
       "      <td>PSO J318.5-22</td>\n",
       "      <td>18.0</td>\n",
       "      <td>False</td>\n",
       "      <td>0.0</td>\n",
       "      <td>0.0</td>\n",
       "      <td>0.0</td>\n",
       "      <td>0.0</td>\n",
       "      <td>0.0</td>\n",
       "      <td>Kurta Mondalley</td>\n",
       "      <td>False</td>\n",
       "    </tr>\n",
       "    <tr>\n",
       "      <th>9279_01</th>\n",
       "      <td>Earth</td>\n",
       "      <td>False</td>\n",
       "      <td>G/1500/S</td>\n",
       "      <td>TRAPPIST-1e</td>\n",
       "      <td>26.0</td>\n",
       "      <td>False</td>\n",
       "      <td>0.0</td>\n",
       "      <td>0.0</td>\n",
       "      <td>1872.0</td>\n",
       "      <td>1.0</td>\n",
       "      <td>0.0</td>\n",
       "      <td>Fayey Connon</td>\n",
       "      <td>True</td>\n",
       "    </tr>\n",
       "    <tr>\n",
       "      <th>9280_01</th>\n",
       "      <td>Europa</td>\n",
       "      <td>False</td>\n",
       "      <td>E/608/S</td>\n",
       "      <td>55 Cancri e</td>\n",
       "      <td>32.0</td>\n",
       "      <td>False</td>\n",
       "      <td>0.0</td>\n",
       "      <td>1049.0</td>\n",
       "      <td>0.0</td>\n",
       "      <td>353.0</td>\n",
       "      <td>3235.0</td>\n",
       "      <td>Celeon Hontichre</td>\n",
       "      <td>False</td>\n",
       "    </tr>\n",
       "    <tr>\n",
       "      <th>9280_02</th>\n",
       "      <td>Europa</td>\n",
       "      <td>False</td>\n",
       "      <td>E/608/S</td>\n",
       "      <td>TRAPPIST-1e</td>\n",
       "      <td>44.0</td>\n",
       "      <td>False</td>\n",
       "      <td>126.0</td>\n",
       "      <td>4688.0</td>\n",
       "      <td>0.0</td>\n",
       "      <td>0.0</td>\n",
       "      <td>12.0</td>\n",
       "      <td>Propsh Hontichre</td>\n",
       "      <td>True</td>\n",
       "    </tr>\n",
       "  </tbody>\n",
       "</table>\n",
       "<p>8693 rows × 13 columns</p>\n",
       "</div>"
      ],
      "text/plain": [
       "            HomePlanet CryoSleep     Cabin    Destination   Age    VIP  \\\n",
       "PassengerId                                                              \n",
       "0001_01         Europa     False     B/0/P    TRAPPIST-1e  39.0  False   \n",
       "0002_01          Earth     False     F/0/S    TRAPPIST-1e  24.0  False   \n",
       "0003_01         Europa     False     A/0/S    TRAPPIST-1e  58.0   True   \n",
       "0003_02         Europa     False     A/0/S    TRAPPIST-1e  33.0  False   \n",
       "0004_01          Earth     False     F/1/S    TRAPPIST-1e  16.0  False   \n",
       "...                ...       ...       ...            ...   ...    ...   \n",
       "9276_01         Europa     False    A/98/P    55 Cancri e  41.0   True   \n",
       "9278_01          Earth      True  G/1499/S  PSO J318.5-22  18.0  False   \n",
       "9279_01          Earth     False  G/1500/S    TRAPPIST-1e  26.0  False   \n",
       "9280_01         Europa     False   E/608/S    55 Cancri e  32.0  False   \n",
       "9280_02         Europa     False   E/608/S    TRAPPIST-1e  44.0  False   \n",
       "\n",
       "             RoomService  FoodCourt  ShoppingMall     Spa  VRDeck  \\\n",
       "PassengerId                                                         \n",
       "0001_01              0.0        0.0           0.0     0.0     0.0   \n",
       "0002_01            109.0        9.0          25.0   549.0    44.0   \n",
       "0003_01             43.0     3576.0           0.0  6715.0    49.0   \n",
       "0003_02              0.0     1283.0         371.0  3329.0   193.0   \n",
       "0004_01            303.0       70.0         151.0   565.0     2.0   \n",
       "...                  ...        ...           ...     ...     ...   \n",
       "9276_01              0.0     6819.0           0.0  1643.0    74.0   \n",
       "9278_01              0.0        0.0           0.0     0.0     0.0   \n",
       "9279_01              0.0        0.0        1872.0     1.0     0.0   \n",
       "9280_01              0.0     1049.0           0.0   353.0  3235.0   \n",
       "9280_02            126.0     4688.0           0.0     0.0    12.0   \n",
       "\n",
       "                          Name  Transported  \n",
       "PassengerId                                  \n",
       "0001_01        Maham Ofracculy        False  \n",
       "0002_01           Juanna Vines         True  \n",
       "0003_01          Altark Susent        False  \n",
       "0003_02           Solam Susent        False  \n",
       "0004_01      Willy Santantines         True  \n",
       "...                        ...          ...  \n",
       "9276_01      Gravior Noxnuther        False  \n",
       "9278_01        Kurta Mondalley        False  \n",
       "9279_01           Fayey Connon         True  \n",
       "9280_01       Celeon Hontichre        False  \n",
       "9280_02       Propsh Hontichre         True  \n",
       "\n",
       "[8693 rows x 13 columns]"
      ]
     },
     "execution_count": 3,
     "metadata": {},
     "output_type": "execute_result"
    },
    {
     "data": {
      "application/javascript": [
       "\n",
       "            setTimeout(function() {\n",
       "                var nbb_cell_id = 3;\n",
       "                var nbb_unformatted_code = \"train_df = pd.read_csv(\\\"../data/spaceship-titanic/train.csv\\\").set_index(\\\"PassengerId\\\")\\ntrain_df\";\n",
       "                var nbb_formatted_code = \"train_df = pd.read_csv(\\\"../data/spaceship-titanic/train.csv\\\").set_index(\\\"PassengerId\\\")\\ntrain_df\";\n",
       "                var nbb_cells = Jupyter.notebook.get_cells();\n",
       "                for (var i = 0; i < nbb_cells.length; ++i) {\n",
       "                    if (nbb_cells[i].input_prompt_number == nbb_cell_id) {\n",
       "                        if (nbb_cells[i].get_text() == nbb_unformatted_code) {\n",
       "                             nbb_cells[i].set_text(nbb_formatted_code);\n",
       "                        }\n",
       "                        break;\n",
       "                    }\n",
       "                }\n",
       "            }, 500);\n",
       "            "
      ],
      "text/plain": [
       "<IPython.core.display.Javascript object>"
      ]
     },
     "metadata": {},
     "output_type": "display_data"
    }
   ],
   "source": [
    "train_df = pd.read_csv(\"../data/spaceship-titanic/train.csv\").set_index(\"PassengerId\")\n",
    "train_df"
   ]
  },
  {
   "cell_type": "code",
   "execution_count": 4,
   "id": "186302e0",
   "metadata": {
    "ExecuteTime": {
     "end_time": "2022-06-12T10:55:20.902225Z",
     "start_time": "2022-06-12T10:55:20.883019Z"
    }
   },
   "outputs": [
    {
     "data": {
      "text/html": [
       "<div>\n",
       "<style scoped>\n",
       "    .dataframe tbody tr th:only-of-type {\n",
       "        vertical-align: middle;\n",
       "    }\n",
       "\n",
       "    .dataframe tbody tr th {\n",
       "        vertical-align: top;\n",
       "    }\n",
       "\n",
       "    .dataframe thead th {\n",
       "        text-align: right;\n",
       "    }\n",
       "</style>\n",
       "<table border=\"1\" class=\"dataframe\">\n",
       "  <thead>\n",
       "    <tr style=\"text-align: right;\">\n",
       "      <th></th>\n",
       "      <th>HomePlanet</th>\n",
       "      <th>CryoSleep</th>\n",
       "      <th>Cabin</th>\n",
       "      <th>Destination</th>\n",
       "      <th>Age</th>\n",
       "      <th>VIP</th>\n",
       "      <th>RoomService</th>\n",
       "      <th>FoodCourt</th>\n",
       "      <th>ShoppingMall</th>\n",
       "      <th>Spa</th>\n",
       "      <th>VRDeck</th>\n",
       "      <th>Name</th>\n",
       "    </tr>\n",
       "    <tr>\n",
       "      <th>PassengerId</th>\n",
       "      <th></th>\n",
       "      <th></th>\n",
       "      <th></th>\n",
       "      <th></th>\n",
       "      <th></th>\n",
       "      <th></th>\n",
       "      <th></th>\n",
       "      <th></th>\n",
       "      <th></th>\n",
       "      <th></th>\n",
       "      <th></th>\n",
       "      <th></th>\n",
       "    </tr>\n",
       "  </thead>\n",
       "  <tbody>\n",
       "    <tr>\n",
       "      <th>0013_01</th>\n",
       "      <td>Earth</td>\n",
       "      <td>True</td>\n",
       "      <td>G/3/S</td>\n",
       "      <td>TRAPPIST-1e</td>\n",
       "      <td>27.0</td>\n",
       "      <td>False</td>\n",
       "      <td>0.0</td>\n",
       "      <td>0.0</td>\n",
       "      <td>0.0</td>\n",
       "      <td>0.0</td>\n",
       "      <td>0.0</td>\n",
       "      <td>Nelly Carsoning</td>\n",
       "    </tr>\n",
       "    <tr>\n",
       "      <th>0018_01</th>\n",
       "      <td>Earth</td>\n",
       "      <td>False</td>\n",
       "      <td>F/4/S</td>\n",
       "      <td>TRAPPIST-1e</td>\n",
       "      <td>19.0</td>\n",
       "      <td>False</td>\n",
       "      <td>0.0</td>\n",
       "      <td>9.0</td>\n",
       "      <td>0.0</td>\n",
       "      <td>2823.0</td>\n",
       "      <td>0.0</td>\n",
       "      <td>Lerome Peckers</td>\n",
       "    </tr>\n",
       "    <tr>\n",
       "      <th>0019_01</th>\n",
       "      <td>Europa</td>\n",
       "      <td>True</td>\n",
       "      <td>C/0/S</td>\n",
       "      <td>55 Cancri e</td>\n",
       "      <td>31.0</td>\n",
       "      <td>False</td>\n",
       "      <td>0.0</td>\n",
       "      <td>0.0</td>\n",
       "      <td>0.0</td>\n",
       "      <td>0.0</td>\n",
       "      <td>0.0</td>\n",
       "      <td>Sabih Unhearfus</td>\n",
       "    </tr>\n",
       "    <tr>\n",
       "      <th>0021_01</th>\n",
       "      <td>Europa</td>\n",
       "      <td>False</td>\n",
       "      <td>C/1/S</td>\n",
       "      <td>TRAPPIST-1e</td>\n",
       "      <td>38.0</td>\n",
       "      <td>False</td>\n",
       "      <td>0.0</td>\n",
       "      <td>6652.0</td>\n",
       "      <td>0.0</td>\n",
       "      <td>181.0</td>\n",
       "      <td>585.0</td>\n",
       "      <td>Meratz Caltilter</td>\n",
       "    </tr>\n",
       "    <tr>\n",
       "      <th>0023_01</th>\n",
       "      <td>Earth</td>\n",
       "      <td>False</td>\n",
       "      <td>F/5/S</td>\n",
       "      <td>TRAPPIST-1e</td>\n",
       "      <td>20.0</td>\n",
       "      <td>False</td>\n",
       "      <td>10.0</td>\n",
       "      <td>0.0</td>\n",
       "      <td>635.0</td>\n",
       "      <td>0.0</td>\n",
       "      <td>0.0</td>\n",
       "      <td>Brence Harperez</td>\n",
       "    </tr>\n",
       "    <tr>\n",
       "      <th>...</th>\n",
       "      <td>...</td>\n",
       "      <td>...</td>\n",
       "      <td>...</td>\n",
       "      <td>...</td>\n",
       "      <td>...</td>\n",
       "      <td>...</td>\n",
       "      <td>...</td>\n",
       "      <td>...</td>\n",
       "      <td>...</td>\n",
       "      <td>...</td>\n",
       "      <td>...</td>\n",
       "      <td>...</td>\n",
       "    </tr>\n",
       "    <tr>\n",
       "      <th>9266_02</th>\n",
       "      <td>Earth</td>\n",
       "      <td>True</td>\n",
       "      <td>G/1496/S</td>\n",
       "      <td>TRAPPIST-1e</td>\n",
       "      <td>34.0</td>\n",
       "      <td>False</td>\n",
       "      <td>0.0</td>\n",
       "      <td>0.0</td>\n",
       "      <td>0.0</td>\n",
       "      <td>0.0</td>\n",
       "      <td>0.0</td>\n",
       "      <td>Jeron Peter</td>\n",
       "    </tr>\n",
       "    <tr>\n",
       "      <th>9269_01</th>\n",
       "      <td>Earth</td>\n",
       "      <td>False</td>\n",
       "      <td>NaN</td>\n",
       "      <td>TRAPPIST-1e</td>\n",
       "      <td>42.0</td>\n",
       "      <td>False</td>\n",
       "      <td>0.0</td>\n",
       "      <td>847.0</td>\n",
       "      <td>17.0</td>\n",
       "      <td>10.0</td>\n",
       "      <td>144.0</td>\n",
       "      <td>Matty Scheron</td>\n",
       "    </tr>\n",
       "    <tr>\n",
       "      <th>9271_01</th>\n",
       "      <td>Mars</td>\n",
       "      <td>True</td>\n",
       "      <td>D/296/P</td>\n",
       "      <td>55 Cancri e</td>\n",
       "      <td>NaN</td>\n",
       "      <td>False</td>\n",
       "      <td>0.0</td>\n",
       "      <td>0.0</td>\n",
       "      <td>0.0</td>\n",
       "      <td>0.0</td>\n",
       "      <td>0.0</td>\n",
       "      <td>Jayrin Pore</td>\n",
       "    </tr>\n",
       "    <tr>\n",
       "      <th>9273_01</th>\n",
       "      <td>Europa</td>\n",
       "      <td>False</td>\n",
       "      <td>D/297/P</td>\n",
       "      <td>NaN</td>\n",
       "      <td>NaN</td>\n",
       "      <td>False</td>\n",
       "      <td>0.0</td>\n",
       "      <td>2680.0</td>\n",
       "      <td>0.0</td>\n",
       "      <td>0.0</td>\n",
       "      <td>523.0</td>\n",
       "      <td>Kitakan Conale</td>\n",
       "    </tr>\n",
       "    <tr>\n",
       "      <th>9277_01</th>\n",
       "      <td>Earth</td>\n",
       "      <td>True</td>\n",
       "      <td>G/1498/S</td>\n",
       "      <td>PSO J318.5-22</td>\n",
       "      <td>43.0</td>\n",
       "      <td>False</td>\n",
       "      <td>0.0</td>\n",
       "      <td>0.0</td>\n",
       "      <td>0.0</td>\n",
       "      <td>0.0</td>\n",
       "      <td>0.0</td>\n",
       "      <td>Lilace Leonzaley</td>\n",
       "    </tr>\n",
       "  </tbody>\n",
       "</table>\n",
       "<p>4277 rows × 12 columns</p>\n",
       "</div>"
      ],
      "text/plain": [
       "            HomePlanet CryoSleep     Cabin    Destination   Age    VIP  \\\n",
       "PassengerId                                                              \n",
       "0013_01          Earth      True     G/3/S    TRAPPIST-1e  27.0  False   \n",
       "0018_01          Earth     False     F/4/S    TRAPPIST-1e  19.0  False   \n",
       "0019_01         Europa      True     C/0/S    55 Cancri e  31.0  False   \n",
       "0021_01         Europa     False     C/1/S    TRAPPIST-1e  38.0  False   \n",
       "0023_01          Earth     False     F/5/S    TRAPPIST-1e  20.0  False   \n",
       "...                ...       ...       ...            ...   ...    ...   \n",
       "9266_02          Earth      True  G/1496/S    TRAPPIST-1e  34.0  False   \n",
       "9269_01          Earth     False       NaN    TRAPPIST-1e  42.0  False   \n",
       "9271_01           Mars      True   D/296/P    55 Cancri e   NaN  False   \n",
       "9273_01         Europa     False   D/297/P            NaN   NaN  False   \n",
       "9277_01          Earth      True  G/1498/S  PSO J318.5-22  43.0  False   \n",
       "\n",
       "             RoomService  FoodCourt  ShoppingMall     Spa  VRDeck  \\\n",
       "PassengerId                                                         \n",
       "0013_01              0.0        0.0           0.0     0.0     0.0   \n",
       "0018_01              0.0        9.0           0.0  2823.0     0.0   \n",
       "0019_01              0.0        0.0           0.0     0.0     0.0   \n",
       "0021_01              0.0     6652.0           0.0   181.0   585.0   \n",
       "0023_01             10.0        0.0         635.0     0.0     0.0   \n",
       "...                  ...        ...           ...     ...     ...   \n",
       "9266_02              0.0        0.0           0.0     0.0     0.0   \n",
       "9269_01              0.0      847.0          17.0    10.0   144.0   \n",
       "9271_01              0.0        0.0           0.0     0.0     0.0   \n",
       "9273_01              0.0     2680.0           0.0     0.0   523.0   \n",
       "9277_01              0.0        0.0           0.0     0.0     0.0   \n",
       "\n",
       "                         Name  \n",
       "PassengerId                    \n",
       "0013_01       Nelly Carsoning  \n",
       "0018_01        Lerome Peckers  \n",
       "0019_01       Sabih Unhearfus  \n",
       "0021_01      Meratz Caltilter  \n",
       "0023_01       Brence Harperez  \n",
       "...                       ...  \n",
       "9266_02           Jeron Peter  \n",
       "9269_01         Matty Scheron  \n",
       "9271_01           Jayrin Pore  \n",
       "9273_01        Kitakan Conale  \n",
       "9277_01      Lilace Leonzaley  \n",
       "\n",
       "[4277 rows x 12 columns]"
      ]
     },
     "execution_count": 4,
     "metadata": {},
     "output_type": "execute_result"
    },
    {
     "data": {
      "application/javascript": [
       "\n",
       "            setTimeout(function() {\n",
       "                var nbb_cell_id = 4;\n",
       "                var nbb_unformatted_code = \"test_df = pd.read_csv(\\\"../data/spaceship-titanic/test.csv\\\").set_index(\\\"PassengerId\\\")\\ntest_df\";\n",
       "                var nbb_formatted_code = \"test_df = pd.read_csv(\\\"../data/spaceship-titanic/test.csv\\\").set_index(\\\"PassengerId\\\")\\ntest_df\";\n",
       "                var nbb_cells = Jupyter.notebook.get_cells();\n",
       "                for (var i = 0; i < nbb_cells.length; ++i) {\n",
       "                    if (nbb_cells[i].input_prompt_number == nbb_cell_id) {\n",
       "                        if (nbb_cells[i].get_text() == nbb_unformatted_code) {\n",
       "                             nbb_cells[i].set_text(nbb_formatted_code);\n",
       "                        }\n",
       "                        break;\n",
       "                    }\n",
       "                }\n",
       "            }, 500);\n",
       "            "
      ],
      "text/plain": [
       "<IPython.core.display.Javascript object>"
      ]
     },
     "metadata": {},
     "output_type": "display_data"
    }
   ],
   "source": [
    "test_df = pd.read_csv(\"../data/spaceship-titanic/test.csv\").set_index(\"PassengerId\")\n",
    "test_df"
   ]
  },
  {
   "cell_type": "code",
   "execution_count": 5,
   "id": "7f121c6e",
   "metadata": {
    "ExecuteTime": {
     "end_time": "2022-06-12T10:55:20.916450Z",
     "start_time": "2022-06-12T10:55:20.903991Z"
    }
   },
   "outputs": [
    {
     "data": {
      "text/html": [
       "<div>\n",
       "<style scoped>\n",
       "    .dataframe tbody tr th:only-of-type {\n",
       "        vertical-align: middle;\n",
       "    }\n",
       "\n",
       "    .dataframe tbody tr th {\n",
       "        vertical-align: top;\n",
       "    }\n",
       "\n",
       "    .dataframe thead th {\n",
       "        text-align: right;\n",
       "    }\n",
       "</style>\n",
       "<table border=\"1\" class=\"dataframe\">\n",
       "  <thead>\n",
       "    <tr style=\"text-align: right;\">\n",
       "      <th></th>\n",
       "      <th>Transported</th>\n",
       "    </tr>\n",
       "    <tr>\n",
       "      <th>PassengerId</th>\n",
       "      <th></th>\n",
       "    </tr>\n",
       "  </thead>\n",
       "  <tbody>\n",
       "    <tr>\n",
       "      <th>0013_01</th>\n",
       "      <td>False</td>\n",
       "    </tr>\n",
       "    <tr>\n",
       "      <th>0018_01</th>\n",
       "      <td>False</td>\n",
       "    </tr>\n",
       "    <tr>\n",
       "      <th>0019_01</th>\n",
       "      <td>False</td>\n",
       "    </tr>\n",
       "    <tr>\n",
       "      <th>0021_01</th>\n",
       "      <td>False</td>\n",
       "    </tr>\n",
       "    <tr>\n",
       "      <th>0023_01</th>\n",
       "      <td>False</td>\n",
       "    </tr>\n",
       "    <tr>\n",
       "      <th>...</th>\n",
       "      <td>...</td>\n",
       "    </tr>\n",
       "    <tr>\n",
       "      <th>9266_02</th>\n",
       "      <td>False</td>\n",
       "    </tr>\n",
       "    <tr>\n",
       "      <th>9269_01</th>\n",
       "      <td>False</td>\n",
       "    </tr>\n",
       "    <tr>\n",
       "      <th>9271_01</th>\n",
       "      <td>False</td>\n",
       "    </tr>\n",
       "    <tr>\n",
       "      <th>9273_01</th>\n",
       "      <td>False</td>\n",
       "    </tr>\n",
       "    <tr>\n",
       "      <th>9277_01</th>\n",
       "      <td>False</td>\n",
       "    </tr>\n",
       "  </tbody>\n",
       "</table>\n",
       "<p>4277 rows × 1 columns</p>\n",
       "</div>"
      ],
      "text/plain": [
       "             Transported\n",
       "PassengerId             \n",
       "0013_01            False\n",
       "0018_01            False\n",
       "0019_01            False\n",
       "0021_01            False\n",
       "0023_01            False\n",
       "...                  ...\n",
       "9266_02            False\n",
       "9269_01            False\n",
       "9271_01            False\n",
       "9273_01            False\n",
       "9277_01            False\n",
       "\n",
       "[4277 rows x 1 columns]"
      ]
     },
     "execution_count": 5,
     "metadata": {},
     "output_type": "execute_result"
    },
    {
     "data": {
      "application/javascript": [
       "\n",
       "            setTimeout(function() {\n",
       "                var nbb_cell_id = 5;\n",
       "                var nbb_unformatted_code = \"sample_submission_df = pd.read_csv(\\n    \\\"../data/spaceship-titanic/sample_submission.csv\\\"\\n).set_index(\\\"PassengerId\\\")\\nsample_submission_df\";\n",
       "                var nbb_formatted_code = \"sample_submission_df = pd.read_csv(\\n    \\\"../data/spaceship-titanic/sample_submission.csv\\\"\\n).set_index(\\\"PassengerId\\\")\\nsample_submission_df\";\n",
       "                var nbb_cells = Jupyter.notebook.get_cells();\n",
       "                for (var i = 0; i < nbb_cells.length; ++i) {\n",
       "                    if (nbb_cells[i].input_prompt_number == nbb_cell_id) {\n",
       "                        if (nbb_cells[i].get_text() == nbb_unformatted_code) {\n",
       "                             nbb_cells[i].set_text(nbb_formatted_code);\n",
       "                        }\n",
       "                        break;\n",
       "                    }\n",
       "                }\n",
       "            }, 500);\n",
       "            "
      ],
      "text/plain": [
       "<IPython.core.display.Javascript object>"
      ]
     },
     "metadata": {},
     "output_type": "display_data"
    }
   ],
   "source": [
    "sample_submission_df = pd.read_csv(\n",
    "    \"../data/spaceship-titanic/sample_submission.csv\"\n",
    ").set_index(\"PassengerId\")\n",
    "sample_submission_df"
   ]
  },
  {
   "cell_type": "code",
   "execution_count": 6,
   "id": "dea35049",
   "metadata": {
    "ExecuteTime": {
     "end_time": "2022-06-12T10:55:20.931890Z",
     "start_time": "2022-06-12T10:55:20.917458Z"
    }
   },
   "outputs": [
    {
     "data": {
      "text/html": [
       "<div>\n",
       "<style scoped>\n",
       "    .dataframe tbody tr th:only-of-type {\n",
       "        vertical-align: middle;\n",
       "    }\n",
       "\n",
       "    .dataframe tbody tr th {\n",
       "        vertical-align: top;\n",
       "    }\n",
       "\n",
       "    .dataframe thead th {\n",
       "        text-align: right;\n",
       "    }\n",
       "</style>\n",
       "<table border=\"1\" class=\"dataframe\">\n",
       "  <thead>\n",
       "    <tr style=\"text-align: right;\">\n",
       "      <th></th>\n",
       "      <th>HomePlanet</th>\n",
       "      <th>CryoSleep</th>\n",
       "      <th>Cabin</th>\n",
       "      <th>Destination</th>\n",
       "      <th>Age</th>\n",
       "      <th>VIP</th>\n",
       "      <th>RoomService</th>\n",
       "      <th>FoodCourt</th>\n",
       "      <th>ShoppingMall</th>\n",
       "      <th>Spa</th>\n",
       "      <th>VRDeck</th>\n",
       "      <th>Name</th>\n",
       "      <th>Transported</th>\n",
       "    </tr>\n",
       "    <tr>\n",
       "      <th>PassengerId</th>\n",
       "      <th></th>\n",
       "      <th></th>\n",
       "      <th></th>\n",
       "      <th></th>\n",
       "      <th></th>\n",
       "      <th></th>\n",
       "      <th></th>\n",
       "      <th></th>\n",
       "      <th></th>\n",
       "      <th></th>\n",
       "      <th></th>\n",
       "      <th></th>\n",
       "      <th></th>\n",
       "    </tr>\n",
       "  </thead>\n",
       "  <tbody>\n",
       "    <tr>\n",
       "      <th>0001_01</th>\n",
       "      <td>Europa</td>\n",
       "      <td>False</td>\n",
       "      <td>B/0/P</td>\n",
       "      <td>TRAPPIST-1e</td>\n",
       "      <td>39.0</td>\n",
       "      <td>False</td>\n",
       "      <td>0.0</td>\n",
       "      <td>0.0</td>\n",
       "      <td>0.0</td>\n",
       "      <td>0.0</td>\n",
       "      <td>0.0</td>\n",
       "      <td>Maham Ofracculy</td>\n",
       "      <td>False</td>\n",
       "    </tr>\n",
       "    <tr>\n",
       "      <th>0002_01</th>\n",
       "      <td>Earth</td>\n",
       "      <td>False</td>\n",
       "      <td>F/0/S</td>\n",
       "      <td>TRAPPIST-1e</td>\n",
       "      <td>24.0</td>\n",
       "      <td>False</td>\n",
       "      <td>109.0</td>\n",
       "      <td>9.0</td>\n",
       "      <td>25.0</td>\n",
       "      <td>549.0</td>\n",
       "      <td>44.0</td>\n",
       "      <td>Juanna Vines</td>\n",
       "      <td>True</td>\n",
       "    </tr>\n",
       "    <tr>\n",
       "      <th>0003_01</th>\n",
       "      <td>Europa</td>\n",
       "      <td>False</td>\n",
       "      <td>A/0/S</td>\n",
       "      <td>TRAPPIST-1e</td>\n",
       "      <td>58.0</td>\n",
       "      <td>True</td>\n",
       "      <td>43.0</td>\n",
       "      <td>3576.0</td>\n",
       "      <td>0.0</td>\n",
       "      <td>6715.0</td>\n",
       "      <td>49.0</td>\n",
       "      <td>Altark Susent</td>\n",
       "      <td>False</td>\n",
       "    </tr>\n",
       "    <tr>\n",
       "      <th>0003_02</th>\n",
       "      <td>Europa</td>\n",
       "      <td>False</td>\n",
       "      <td>A/0/S</td>\n",
       "      <td>TRAPPIST-1e</td>\n",
       "      <td>33.0</td>\n",
       "      <td>False</td>\n",
       "      <td>0.0</td>\n",
       "      <td>1283.0</td>\n",
       "      <td>371.0</td>\n",
       "      <td>3329.0</td>\n",
       "      <td>193.0</td>\n",
       "      <td>Solam Susent</td>\n",
       "      <td>False</td>\n",
       "    </tr>\n",
       "    <tr>\n",
       "      <th>0004_01</th>\n",
       "      <td>Earth</td>\n",
       "      <td>False</td>\n",
       "      <td>F/1/S</td>\n",
       "      <td>TRAPPIST-1e</td>\n",
       "      <td>16.0</td>\n",
       "      <td>False</td>\n",
       "      <td>303.0</td>\n",
       "      <td>70.0</td>\n",
       "      <td>151.0</td>\n",
       "      <td>565.0</td>\n",
       "      <td>2.0</td>\n",
       "      <td>Willy Santantines</td>\n",
       "      <td>True</td>\n",
       "    </tr>\n",
       "    <tr>\n",
       "      <th>...</th>\n",
       "      <td>...</td>\n",
       "      <td>...</td>\n",
       "      <td>...</td>\n",
       "      <td>...</td>\n",
       "      <td>...</td>\n",
       "      <td>...</td>\n",
       "      <td>...</td>\n",
       "      <td>...</td>\n",
       "      <td>...</td>\n",
       "      <td>...</td>\n",
       "      <td>...</td>\n",
       "      <td>...</td>\n",
       "      <td>...</td>\n",
       "    </tr>\n",
       "    <tr>\n",
       "      <th>9266_02</th>\n",
       "      <td>Earth</td>\n",
       "      <td>True</td>\n",
       "      <td>G/1496/S</td>\n",
       "      <td>TRAPPIST-1e</td>\n",
       "      <td>34.0</td>\n",
       "      <td>False</td>\n",
       "      <td>0.0</td>\n",
       "      <td>0.0</td>\n",
       "      <td>0.0</td>\n",
       "      <td>0.0</td>\n",
       "      <td>0.0</td>\n",
       "      <td>Jeron Peter</td>\n",
       "      <td>NaN</td>\n",
       "    </tr>\n",
       "    <tr>\n",
       "      <th>9269_01</th>\n",
       "      <td>Earth</td>\n",
       "      <td>False</td>\n",
       "      <td>NaN</td>\n",
       "      <td>TRAPPIST-1e</td>\n",
       "      <td>42.0</td>\n",
       "      <td>False</td>\n",
       "      <td>0.0</td>\n",
       "      <td>847.0</td>\n",
       "      <td>17.0</td>\n",
       "      <td>10.0</td>\n",
       "      <td>144.0</td>\n",
       "      <td>Matty Scheron</td>\n",
       "      <td>NaN</td>\n",
       "    </tr>\n",
       "    <tr>\n",
       "      <th>9271_01</th>\n",
       "      <td>Mars</td>\n",
       "      <td>True</td>\n",
       "      <td>D/296/P</td>\n",
       "      <td>55 Cancri e</td>\n",
       "      <td>NaN</td>\n",
       "      <td>False</td>\n",
       "      <td>0.0</td>\n",
       "      <td>0.0</td>\n",
       "      <td>0.0</td>\n",
       "      <td>0.0</td>\n",
       "      <td>0.0</td>\n",
       "      <td>Jayrin Pore</td>\n",
       "      <td>NaN</td>\n",
       "    </tr>\n",
       "    <tr>\n",
       "      <th>9273_01</th>\n",
       "      <td>Europa</td>\n",
       "      <td>False</td>\n",
       "      <td>D/297/P</td>\n",
       "      <td>NaN</td>\n",
       "      <td>NaN</td>\n",
       "      <td>False</td>\n",
       "      <td>0.0</td>\n",
       "      <td>2680.0</td>\n",
       "      <td>0.0</td>\n",
       "      <td>0.0</td>\n",
       "      <td>523.0</td>\n",
       "      <td>Kitakan Conale</td>\n",
       "      <td>NaN</td>\n",
       "    </tr>\n",
       "    <tr>\n",
       "      <th>9277_01</th>\n",
       "      <td>Earth</td>\n",
       "      <td>True</td>\n",
       "      <td>G/1498/S</td>\n",
       "      <td>PSO J318.5-22</td>\n",
       "      <td>43.0</td>\n",
       "      <td>False</td>\n",
       "      <td>0.0</td>\n",
       "      <td>0.0</td>\n",
       "      <td>0.0</td>\n",
       "      <td>0.0</td>\n",
       "      <td>0.0</td>\n",
       "      <td>Lilace Leonzaley</td>\n",
       "      <td>NaN</td>\n",
       "    </tr>\n",
       "  </tbody>\n",
       "</table>\n",
       "<p>12970 rows × 13 columns</p>\n",
       "</div>"
      ],
      "text/plain": [
       "            HomePlanet CryoSleep     Cabin    Destination   Age    VIP  \\\n",
       "PassengerId                                                              \n",
       "0001_01         Europa     False     B/0/P    TRAPPIST-1e  39.0  False   \n",
       "0002_01          Earth     False     F/0/S    TRAPPIST-1e  24.0  False   \n",
       "0003_01         Europa     False     A/0/S    TRAPPIST-1e  58.0   True   \n",
       "0003_02         Europa     False     A/0/S    TRAPPIST-1e  33.0  False   \n",
       "0004_01          Earth     False     F/1/S    TRAPPIST-1e  16.0  False   \n",
       "...                ...       ...       ...            ...   ...    ...   \n",
       "9266_02          Earth      True  G/1496/S    TRAPPIST-1e  34.0  False   \n",
       "9269_01          Earth     False       NaN    TRAPPIST-1e  42.0  False   \n",
       "9271_01           Mars      True   D/296/P    55 Cancri e   NaN  False   \n",
       "9273_01         Europa     False   D/297/P            NaN   NaN  False   \n",
       "9277_01          Earth      True  G/1498/S  PSO J318.5-22  43.0  False   \n",
       "\n",
       "             RoomService  FoodCourt  ShoppingMall     Spa  VRDeck  \\\n",
       "PassengerId                                                         \n",
       "0001_01              0.0        0.0           0.0     0.0     0.0   \n",
       "0002_01            109.0        9.0          25.0   549.0    44.0   \n",
       "0003_01             43.0     3576.0           0.0  6715.0    49.0   \n",
       "0003_02              0.0     1283.0         371.0  3329.0   193.0   \n",
       "0004_01            303.0       70.0         151.0   565.0     2.0   \n",
       "...                  ...        ...           ...     ...     ...   \n",
       "9266_02              0.0        0.0           0.0     0.0     0.0   \n",
       "9269_01              0.0      847.0          17.0    10.0   144.0   \n",
       "9271_01              0.0        0.0           0.0     0.0     0.0   \n",
       "9273_01              0.0     2680.0           0.0     0.0   523.0   \n",
       "9277_01              0.0        0.0           0.0     0.0     0.0   \n",
       "\n",
       "                          Name Transported  \n",
       "PassengerId                                 \n",
       "0001_01        Maham Ofracculy       False  \n",
       "0002_01           Juanna Vines        True  \n",
       "0003_01          Altark Susent       False  \n",
       "0003_02           Solam Susent       False  \n",
       "0004_01      Willy Santantines        True  \n",
       "...                        ...         ...  \n",
       "9266_02            Jeron Peter         NaN  \n",
       "9269_01          Matty Scheron         NaN  \n",
       "9271_01            Jayrin Pore         NaN  \n",
       "9273_01         Kitakan Conale         NaN  \n",
       "9277_01       Lilace Leonzaley         NaN  \n",
       "\n",
       "[12970 rows x 13 columns]"
      ]
     },
     "execution_count": 6,
     "metadata": {},
     "output_type": "execute_result"
    },
    {
     "data": {
      "application/javascript": [
       "\n",
       "            setTimeout(function() {\n",
       "                var nbb_cell_id = 6;\n",
       "                var nbb_unformatted_code = \"df = pd.concat([train_df, test_df])\\ndf\";\n",
       "                var nbb_formatted_code = \"df = pd.concat([train_df, test_df])\\ndf\";\n",
       "                var nbb_cells = Jupyter.notebook.get_cells();\n",
       "                for (var i = 0; i < nbb_cells.length; ++i) {\n",
       "                    if (nbb_cells[i].input_prompt_number == nbb_cell_id) {\n",
       "                        if (nbb_cells[i].get_text() == nbb_unformatted_code) {\n",
       "                             nbb_cells[i].set_text(nbb_formatted_code);\n",
       "                        }\n",
       "                        break;\n",
       "                    }\n",
       "                }\n",
       "            }, 500);\n",
       "            "
      ],
      "text/plain": [
       "<IPython.core.display.Javascript object>"
      ]
     },
     "metadata": {},
     "output_type": "display_data"
    }
   ],
   "source": [
    "df = pd.concat([train_df, test_df])\n",
    "df"
   ]
  },
  {
   "cell_type": "code",
   "execution_count": 7,
   "id": "fbf90a35",
   "metadata": {
    "ExecuteTime": {
     "end_time": "2022-06-12T10:55:20.954156Z",
     "start_time": "2022-06-12T10:55:20.933315Z"
    }
   },
   "outputs": [
    {
     "name": "stdout",
     "output_type": "stream",
     "text": [
      "<class 'pandas.core.frame.DataFrame'>\n",
      "Index: 12970 entries, 0001_01 to 9277_01\n",
      "Data columns (total 13 columns):\n",
      " #   Column        Non-Null Count  Dtype  \n",
      "---  ------        --------------  -----  \n",
      " 0   HomePlanet    12682 non-null  object \n",
      " 1   CryoSleep     12660 non-null  object \n",
      " 2   Cabin         12671 non-null  object \n",
      " 3   Destination   12696 non-null  object \n",
      " 4   Age           12700 non-null  float64\n",
      " 5   VIP           12674 non-null  object \n",
      " 6   RoomService   12707 non-null  float64\n",
      " 7   FoodCourt     12681 non-null  float64\n",
      " 8   ShoppingMall  12664 non-null  float64\n",
      " 9   Spa           12686 non-null  float64\n",
      " 10  VRDeck        12702 non-null  float64\n",
      " 11  Name          12676 non-null  object \n",
      " 12  Transported   8693 non-null   object \n",
      "dtypes: float64(6), object(7)\n",
      "memory usage: 1.4+ MB\n"
     ]
    },
    {
     "data": {
      "application/javascript": [
       "\n",
       "            setTimeout(function() {\n",
       "                var nbb_cell_id = 7;\n",
       "                var nbb_unformatted_code = \"df.info()\";\n",
       "                var nbb_formatted_code = \"df.info()\";\n",
       "                var nbb_cells = Jupyter.notebook.get_cells();\n",
       "                for (var i = 0; i < nbb_cells.length; ++i) {\n",
       "                    if (nbb_cells[i].input_prompt_number == nbb_cell_id) {\n",
       "                        if (nbb_cells[i].get_text() == nbb_unformatted_code) {\n",
       "                             nbb_cells[i].set_text(nbb_formatted_code);\n",
       "                        }\n",
       "                        break;\n",
       "                    }\n",
       "                }\n",
       "            }, 500);\n",
       "            "
      ],
      "text/plain": [
       "<IPython.core.display.Javascript object>"
      ]
     },
     "metadata": {},
     "output_type": "display_data"
    }
   ],
   "source": [
    "df.info()"
   ]
  },
  {
   "cell_type": "code",
   "execution_count": 8,
   "id": "7acb502e",
   "metadata": {
    "ExecuteTime": {
     "end_time": "2022-06-12T10:55:20.971714Z",
     "start_time": "2022-06-12T10:55:20.954931Z"
    }
   },
   "outputs": [
    {
     "data": {
      "text/plain": [
       "HomePlanet      0.022205\n",
       "CryoSleep       0.023901\n",
       "Cabin           0.023053\n",
       "Destination     0.021126\n",
       "Age             0.020817\n",
       "VIP             0.022822\n",
       "RoomService     0.020278\n",
       "FoodCourt       0.022282\n",
       "ShoppingMall    0.023593\n",
       "Spa             0.021897\n",
       "VRDeck          0.020663\n",
       "Name            0.022668\n",
       "Transported     0.329761\n",
       "dtype: float64"
      ]
     },
     "execution_count": 8,
     "metadata": {},
     "output_type": "execute_result"
    },
    {
     "data": {
      "application/javascript": [
       "\n",
       "            setTimeout(function() {\n",
       "                var nbb_cell_id = 8;\n",
       "                var nbb_unformatted_code = \"df.isna().sum() / len(df)\";\n",
       "                var nbb_formatted_code = \"df.isna().sum() / len(df)\";\n",
       "                var nbb_cells = Jupyter.notebook.get_cells();\n",
       "                for (var i = 0; i < nbb_cells.length; ++i) {\n",
       "                    if (nbb_cells[i].input_prompt_number == nbb_cell_id) {\n",
       "                        if (nbb_cells[i].get_text() == nbb_unformatted_code) {\n",
       "                             nbb_cells[i].set_text(nbb_formatted_code);\n",
       "                        }\n",
       "                        break;\n",
       "                    }\n",
       "                }\n",
       "            }, 500);\n",
       "            "
      ],
      "text/plain": [
       "<IPython.core.display.Javascript object>"
      ]
     },
     "metadata": {},
     "output_type": "display_data"
    }
   ],
   "source": [
    "df.isna().sum() / len(df)"
   ]
  },
  {
   "cell_type": "code",
   "execution_count": 9,
   "id": "2a97ebd2",
   "metadata": {
    "ExecuteTime": {
     "end_time": "2022-06-12T10:55:20.978666Z",
     "start_time": "2022-06-12T10:55:20.974591Z"
    }
   },
   "outputs": [
    {
     "data": {
      "application/javascript": [
       "\n",
       "            setTimeout(function() {\n",
       "                var nbb_cell_id = 9;\n",
       "                var nbb_unformatted_code = \"le = preprocessing.LabelEncoder()\";\n",
       "                var nbb_formatted_code = \"le = preprocessing.LabelEncoder()\";\n",
       "                var nbb_cells = Jupyter.notebook.get_cells();\n",
       "                for (var i = 0; i < nbb_cells.length; ++i) {\n",
       "                    if (nbb_cells[i].input_prompt_number == nbb_cell_id) {\n",
       "                        if (nbb_cells[i].get_text() == nbb_unformatted_code) {\n",
       "                             nbb_cells[i].set_text(nbb_formatted_code);\n",
       "                        }\n",
       "                        break;\n",
       "                    }\n",
       "                }\n",
       "            }, 500);\n",
       "            "
      ],
      "text/plain": [
       "<IPython.core.display.Javascript object>"
      ]
     },
     "metadata": {},
     "output_type": "display_data"
    }
   ],
   "source": [
    "le = preprocessing.LabelEncoder()"
   ]
  },
  {
   "cell_type": "markdown",
   "id": "c4df5bad",
   "metadata": {},
   "source": [
    "# Подготовка данных"
   ]
  },
  {
   "cell_type": "markdown",
   "id": "46d4f64f",
   "metadata": {},
   "source": [
    "## HomePlanet"
   ]
  },
  {
   "cell_type": "code",
   "execution_count": 10,
   "id": "aa9094b3",
   "metadata": {
    "ExecuteTime": {
     "end_time": "2022-06-12T10:55:20.994809Z",
     "start_time": "2022-06-12T10:55:20.979806Z"
    }
   },
   "outputs": [
    {
     "data": {
      "text/plain": [
       "Earth     0.529298\n",
       "Europa    0.241557\n",
       "Mars      0.206939\n",
       "NaN       0.022205\n",
       "Name: HomePlanet, dtype: float64"
      ]
     },
     "execution_count": 10,
     "metadata": {},
     "output_type": "execute_result"
    },
    {
     "data": {
      "application/javascript": [
       "\n",
       "            setTimeout(function() {\n",
       "                var nbb_cell_id = 10;\n",
       "                var nbb_unformatted_code = \"df[\\\"HomePlanet\\\"].value_counts(dropna=False, normalize=True)\";\n",
       "                var nbb_formatted_code = \"df[\\\"HomePlanet\\\"].value_counts(dropna=False, normalize=True)\";\n",
       "                var nbb_cells = Jupyter.notebook.get_cells();\n",
       "                for (var i = 0; i < nbb_cells.length; ++i) {\n",
       "                    if (nbb_cells[i].input_prompt_number == nbb_cell_id) {\n",
       "                        if (nbb_cells[i].get_text() == nbb_unformatted_code) {\n",
       "                             nbb_cells[i].set_text(nbb_formatted_code);\n",
       "                        }\n",
       "                        break;\n",
       "                    }\n",
       "                }\n",
       "            }, 500);\n",
       "            "
      ],
      "text/plain": [
       "<IPython.core.display.Javascript object>"
      ]
     },
     "metadata": {},
     "output_type": "display_data"
    }
   ],
   "source": [
    "df[\"HomePlanet\"].value_counts(dropna=False, normalize=True)"
   ]
  },
  {
   "cell_type": "code",
   "execution_count": 11,
   "id": "cd681bf6",
   "metadata": {
    "ExecuteTime": {
     "end_time": "2022-06-12T10:55:21.011190Z",
     "start_time": "2022-06-12T10:55:20.996194Z"
    }
   },
   "outputs": [
    {
     "data": {
      "text/html": [
       "<div>\n",
       "<style scoped>\n",
       "    .dataframe tbody tr th:only-of-type {\n",
       "        vertical-align: middle;\n",
       "    }\n",
       "\n",
       "    .dataframe tbody tr th {\n",
       "        vertical-align: top;\n",
       "    }\n",
       "\n",
       "    .dataframe thead th {\n",
       "        text-align: right;\n",
       "    }\n",
       "</style>\n",
       "<table border=\"1\" class=\"dataframe\">\n",
       "  <thead>\n",
       "    <tr style=\"text-align: right;\">\n",
       "      <th></th>\n",
       "      <th>HomePlanet</th>\n",
       "      <th>CryoSleep</th>\n",
       "      <th>Cabin</th>\n",
       "      <th>Destination</th>\n",
       "      <th>Age</th>\n",
       "      <th>VIP</th>\n",
       "      <th>RoomService</th>\n",
       "      <th>FoodCourt</th>\n",
       "      <th>ShoppingMall</th>\n",
       "      <th>Spa</th>\n",
       "      <th>VRDeck</th>\n",
       "      <th>Name</th>\n",
       "      <th>Transported</th>\n",
       "    </tr>\n",
       "    <tr>\n",
       "      <th>PassengerId</th>\n",
       "      <th></th>\n",
       "      <th></th>\n",
       "      <th></th>\n",
       "      <th></th>\n",
       "      <th></th>\n",
       "      <th></th>\n",
       "      <th></th>\n",
       "      <th></th>\n",
       "      <th></th>\n",
       "      <th></th>\n",
       "      <th></th>\n",
       "      <th></th>\n",
       "      <th></th>\n",
       "    </tr>\n",
       "  </thead>\n",
       "  <tbody>\n",
       "    <tr>\n",
       "      <th>0064_02</th>\n",
       "      <td>NaN</td>\n",
       "      <td>True</td>\n",
       "      <td>E/3/S</td>\n",
       "      <td>TRAPPIST-1e</td>\n",
       "      <td>33.0</td>\n",
       "      <td>False</td>\n",
       "      <td>0.0</td>\n",
       "      <td>0.0</td>\n",
       "      <td>NaN</td>\n",
       "      <td>0.0</td>\n",
       "      <td>0.0</td>\n",
       "      <td>Colatz Keen</td>\n",
       "      <td>True</td>\n",
       "    </tr>\n",
       "    <tr>\n",
       "      <th>0119_01</th>\n",
       "      <td>NaN</td>\n",
       "      <td>False</td>\n",
       "      <td>A/0/P</td>\n",
       "      <td>TRAPPIST-1e</td>\n",
       "      <td>39.0</td>\n",
       "      <td>False</td>\n",
       "      <td>0.0</td>\n",
       "      <td>2344.0</td>\n",
       "      <td>0.0</td>\n",
       "      <td>65.0</td>\n",
       "      <td>6898.0</td>\n",
       "      <td>Batan Coning</td>\n",
       "      <td>False</td>\n",
       "    </tr>\n",
       "    <tr>\n",
       "      <th>0210_01</th>\n",
       "      <td>NaN</td>\n",
       "      <td>True</td>\n",
       "      <td>D/6/P</td>\n",
       "      <td>55 Cancri e</td>\n",
       "      <td>24.0</td>\n",
       "      <td>False</td>\n",
       "      <td>0.0</td>\n",
       "      <td>0.0</td>\n",
       "      <td>NaN</td>\n",
       "      <td>0.0</td>\n",
       "      <td>0.0</td>\n",
       "      <td>Arraid Inicont</td>\n",
       "      <td>True</td>\n",
       "    </tr>\n",
       "    <tr>\n",
       "      <th>0242_01</th>\n",
       "      <td>NaN</td>\n",
       "      <td>False</td>\n",
       "      <td>F/46/S</td>\n",
       "      <td>TRAPPIST-1e</td>\n",
       "      <td>18.0</td>\n",
       "      <td>False</td>\n",
       "      <td>313.0</td>\n",
       "      <td>1.0</td>\n",
       "      <td>691.0</td>\n",
       "      <td>283.0</td>\n",
       "      <td>0.0</td>\n",
       "      <td>Almone Sté</td>\n",
       "      <td>False</td>\n",
       "    </tr>\n",
       "    <tr>\n",
       "      <th>0251_01</th>\n",
       "      <td>NaN</td>\n",
       "      <td>True</td>\n",
       "      <td>C/11/S</td>\n",
       "      <td>55 Cancri e</td>\n",
       "      <td>54.0</td>\n",
       "      <td>False</td>\n",
       "      <td>0.0</td>\n",
       "      <td>0.0</td>\n",
       "      <td>0.0</td>\n",
       "      <td>0.0</td>\n",
       "      <td>0.0</td>\n",
       "      <td>Diphah Amsive</td>\n",
       "      <td>True</td>\n",
       "    </tr>\n",
       "    <tr>\n",
       "      <th>...</th>\n",
       "      <td>...</td>\n",
       "      <td>...</td>\n",
       "      <td>...</td>\n",
       "      <td>...</td>\n",
       "      <td>...</td>\n",
       "      <td>...</td>\n",
       "      <td>...</td>\n",
       "      <td>...</td>\n",
       "      <td>...</td>\n",
       "      <td>...</td>\n",
       "      <td>...</td>\n",
       "      <td>...</td>\n",
       "      <td>...</td>\n",
       "    </tr>\n",
       "    <tr>\n",
       "      <th>8621_01</th>\n",
       "      <td>NaN</td>\n",
       "      <td>False</td>\n",
       "      <td>E/552/P</td>\n",
       "      <td>TRAPPIST-1e</td>\n",
       "      <td>19.0</td>\n",
       "      <td>False</td>\n",
       "      <td>4.0</td>\n",
       "      <td>0.0</td>\n",
       "      <td>1604.0</td>\n",
       "      <td>0.0</td>\n",
       "      <td>0.0</td>\n",
       "      <td>Vanley Simmonders</td>\n",
       "      <td>NaN</td>\n",
       "    </tr>\n",
       "    <tr>\n",
       "      <th>8678_01</th>\n",
       "      <td>NaN</td>\n",
       "      <td>True</td>\n",
       "      <td>G/1399/S</td>\n",
       "      <td>55 Cancri e</td>\n",
       "      <td>9.0</td>\n",
       "      <td>False</td>\n",
       "      <td>0.0</td>\n",
       "      <td>0.0</td>\n",
       "      <td>0.0</td>\n",
       "      <td>0.0</td>\n",
       "      <td>0.0</td>\n",
       "      <td>Eilan Kellson</td>\n",
       "      <td>NaN</td>\n",
       "    </tr>\n",
       "    <tr>\n",
       "      <th>8775_01</th>\n",
       "      <td>NaN</td>\n",
       "      <td>True</td>\n",
       "      <td>D/275/P</td>\n",
       "      <td>TRAPPIST-1e</td>\n",
       "      <td>40.0</td>\n",
       "      <td>False</td>\n",
       "      <td>0.0</td>\n",
       "      <td>0.0</td>\n",
       "      <td>0.0</td>\n",
       "      <td>0.0</td>\n",
       "      <td>0.0</td>\n",
       "      <td>Raston Maltorted</td>\n",
       "      <td>NaN</td>\n",
       "    </tr>\n",
       "    <tr>\n",
       "      <th>9025_01</th>\n",
       "      <td>NaN</td>\n",
       "      <td>False</td>\n",
       "      <td>G/1454/S</td>\n",
       "      <td>TRAPPIST-1e</td>\n",
       "      <td>42.0</td>\n",
       "      <td>False</td>\n",
       "      <td>0.0</td>\n",
       "      <td>0.0</td>\n",
       "      <td>28.0</td>\n",
       "      <td>726.0</td>\n",
       "      <td>0.0</td>\n",
       "      <td>Ale Whitersone</td>\n",
       "      <td>NaN</td>\n",
       "    </tr>\n",
       "    <tr>\n",
       "      <th>9146_01</th>\n",
       "      <td>NaN</td>\n",
       "      <td>False</td>\n",
       "      <td>F/1874/P</td>\n",
       "      <td>TRAPPIST-1e</td>\n",
       "      <td>52.0</td>\n",
       "      <td>False</td>\n",
       "      <td>994.0</td>\n",
       "      <td>0.0</td>\n",
       "      <td>173.0</td>\n",
       "      <td>0.0</td>\n",
       "      <td>24.0</td>\n",
       "      <td>Rionk Sache</td>\n",
       "      <td>NaN</td>\n",
       "    </tr>\n",
       "  </tbody>\n",
       "</table>\n",
       "<p>288 rows × 13 columns</p>\n",
       "</div>"
      ],
      "text/plain": [
       "            HomePlanet CryoSleep     Cabin  Destination   Age    VIP  \\\n",
       "PassengerId                                                            \n",
       "0064_02            NaN      True     E/3/S  TRAPPIST-1e  33.0  False   \n",
       "0119_01            NaN     False     A/0/P  TRAPPIST-1e  39.0  False   \n",
       "0210_01            NaN      True     D/6/P  55 Cancri e  24.0  False   \n",
       "0242_01            NaN     False    F/46/S  TRAPPIST-1e  18.0  False   \n",
       "0251_01            NaN      True    C/11/S  55 Cancri e  54.0  False   \n",
       "...                ...       ...       ...          ...   ...    ...   \n",
       "8621_01            NaN     False   E/552/P  TRAPPIST-1e  19.0  False   \n",
       "8678_01            NaN      True  G/1399/S  55 Cancri e   9.0  False   \n",
       "8775_01            NaN      True   D/275/P  TRAPPIST-1e  40.0  False   \n",
       "9025_01            NaN     False  G/1454/S  TRAPPIST-1e  42.0  False   \n",
       "9146_01            NaN     False  F/1874/P  TRAPPIST-1e  52.0  False   \n",
       "\n",
       "             RoomService  FoodCourt  ShoppingMall    Spa  VRDeck  \\\n",
       "PassengerId                                                        \n",
       "0064_02              0.0        0.0           NaN    0.0     0.0   \n",
       "0119_01              0.0     2344.0           0.0   65.0  6898.0   \n",
       "0210_01              0.0        0.0           NaN    0.0     0.0   \n",
       "0242_01            313.0        1.0         691.0  283.0     0.0   \n",
       "0251_01              0.0        0.0           0.0    0.0     0.0   \n",
       "...                  ...        ...           ...    ...     ...   \n",
       "8621_01              4.0        0.0        1604.0    0.0     0.0   \n",
       "8678_01              0.0        0.0           0.0    0.0     0.0   \n",
       "8775_01              0.0        0.0           0.0    0.0     0.0   \n",
       "9025_01              0.0        0.0          28.0  726.0     0.0   \n",
       "9146_01            994.0        0.0         173.0    0.0    24.0   \n",
       "\n",
       "                          Name Transported  \n",
       "PassengerId                                 \n",
       "0064_02            Colatz Keen        True  \n",
       "0119_01           Batan Coning       False  \n",
       "0210_01         Arraid Inicont        True  \n",
       "0242_01             Almone Sté       False  \n",
       "0251_01          Diphah Amsive        True  \n",
       "...                        ...         ...  \n",
       "8621_01      Vanley Simmonders         NaN  \n",
       "8678_01          Eilan Kellson         NaN  \n",
       "8775_01       Raston Maltorted         NaN  \n",
       "9025_01         Ale Whitersone         NaN  \n",
       "9146_01            Rionk Sache         NaN  \n",
       "\n",
       "[288 rows x 13 columns]"
      ]
     },
     "execution_count": 11,
     "metadata": {},
     "output_type": "execute_result"
    },
    {
     "data": {
      "application/javascript": [
       "\n",
       "            setTimeout(function() {\n",
       "                var nbb_cell_id = 11;\n",
       "                var nbb_unformatted_code = \"df[df[\\\"HomePlanet\\\"].isna()]\";\n",
       "                var nbb_formatted_code = \"df[df[\\\"HomePlanet\\\"].isna()]\";\n",
       "                var nbb_cells = Jupyter.notebook.get_cells();\n",
       "                for (var i = 0; i < nbb_cells.length; ++i) {\n",
       "                    if (nbb_cells[i].input_prompt_number == nbb_cell_id) {\n",
       "                        if (nbb_cells[i].get_text() == nbb_unformatted_code) {\n",
       "                             nbb_cells[i].set_text(nbb_formatted_code);\n",
       "                        }\n",
       "                        break;\n",
       "                    }\n",
       "                }\n",
       "            }, 500);\n",
       "            "
      ],
      "text/plain": [
       "<IPython.core.display.Javascript object>"
      ]
     },
     "metadata": {},
     "output_type": "display_data"
    }
   ],
   "source": [
    "df[df[\"HomePlanet\"].isna()]"
   ]
  },
  {
   "cell_type": "code",
   "execution_count": 12,
   "id": "79762c30",
   "metadata": {
    "ExecuteTime": {
     "end_time": "2022-06-12T10:55:21.015883Z",
     "start_time": "2022-06-12T10:55:21.011960Z"
    }
   },
   "outputs": [
    {
     "data": {
      "application/javascript": [
       "\n",
       "            setTimeout(function() {\n",
       "                var nbb_cell_id = 12;\n",
       "                var nbb_unformatted_code = \"df[\\\"HomePlanet\\\"].fillna(\\\"Earth\\\", inplace=True)\";\n",
       "                var nbb_formatted_code = \"df[\\\"HomePlanet\\\"].fillna(\\\"Earth\\\", inplace=True)\";\n",
       "                var nbb_cells = Jupyter.notebook.get_cells();\n",
       "                for (var i = 0; i < nbb_cells.length; ++i) {\n",
       "                    if (nbb_cells[i].input_prompt_number == nbb_cell_id) {\n",
       "                        if (nbb_cells[i].get_text() == nbb_unformatted_code) {\n",
       "                             nbb_cells[i].set_text(nbb_formatted_code);\n",
       "                        }\n",
       "                        break;\n",
       "                    }\n",
       "                }\n",
       "            }, 500);\n",
       "            "
      ],
      "text/plain": [
       "<IPython.core.display.Javascript object>"
      ]
     },
     "metadata": {},
     "output_type": "display_data"
    }
   ],
   "source": [
    "df[\"HomePlanet\"].fillna(\"Earth\", inplace=True)"
   ]
  },
  {
   "cell_type": "code",
   "execution_count": 13,
   "id": "f00b22cc",
   "metadata": {
    "ExecuteTime": {
     "end_time": "2022-06-12T10:55:21.024757Z",
     "start_time": "2022-06-12T10:55:21.016881Z"
    }
   },
   "outputs": [
    {
     "data": {
      "application/javascript": [
       "\n",
       "            setTimeout(function() {\n",
       "                var nbb_cell_id = 13;\n",
       "                var nbb_unformatted_code = \"df[\\\"HomePlanet\\\"] = le.fit_transform(df[\\\"HomePlanet\\\"])\";\n",
       "                var nbb_formatted_code = \"df[\\\"HomePlanet\\\"] = le.fit_transform(df[\\\"HomePlanet\\\"])\";\n",
       "                var nbb_cells = Jupyter.notebook.get_cells();\n",
       "                for (var i = 0; i < nbb_cells.length; ++i) {\n",
       "                    if (nbb_cells[i].input_prompt_number == nbb_cell_id) {\n",
       "                        if (nbb_cells[i].get_text() == nbb_unformatted_code) {\n",
       "                             nbb_cells[i].set_text(nbb_formatted_code);\n",
       "                        }\n",
       "                        break;\n",
       "                    }\n",
       "                }\n",
       "            }, 500);\n",
       "            "
      ],
      "text/plain": [
       "<IPython.core.display.Javascript object>"
      ]
     },
     "metadata": {},
     "output_type": "display_data"
    }
   ],
   "source": [
    "df[\"HomePlanet\"] = le.fit_transform(df[\"HomePlanet\"])"
   ]
  },
  {
   "cell_type": "markdown",
   "id": "294ad511",
   "metadata": {
    "ExecuteTime": {
     "end_time": "2022-06-12T07:07:17.475948Z",
     "start_time": "2022-06-12T07:07:17.459218Z"
    }
   },
   "source": [
    "## CryoSleep"
   ]
  },
  {
   "cell_type": "code",
   "execution_count": 14,
   "id": "72e25d52",
   "metadata": {
    "ExecuteTime": {
     "end_time": "2022-06-12T10:55:21.030654Z",
     "start_time": "2022-06-12T10:55:21.025776Z"
    }
   },
   "outputs": [
    {
     "data": {
      "text/plain": [
       "False    0.622899\n",
       "True     0.353200\n",
       "NaN      0.023901\n",
       "Name: CryoSleep, dtype: float64"
      ]
     },
     "execution_count": 14,
     "metadata": {},
     "output_type": "execute_result"
    },
    {
     "data": {
      "application/javascript": [
       "\n",
       "            setTimeout(function() {\n",
       "                var nbb_cell_id = 14;\n",
       "                var nbb_unformatted_code = \"df[\\\"CryoSleep\\\"].value_counts(dropna=False, normalize=True)\";\n",
       "                var nbb_formatted_code = \"df[\\\"CryoSleep\\\"].value_counts(dropna=False, normalize=True)\";\n",
       "                var nbb_cells = Jupyter.notebook.get_cells();\n",
       "                for (var i = 0; i < nbb_cells.length; ++i) {\n",
       "                    if (nbb_cells[i].input_prompt_number == nbb_cell_id) {\n",
       "                        if (nbb_cells[i].get_text() == nbb_unformatted_code) {\n",
       "                             nbb_cells[i].set_text(nbb_formatted_code);\n",
       "                        }\n",
       "                        break;\n",
       "                    }\n",
       "                }\n",
       "            }, 500);\n",
       "            "
      ],
      "text/plain": [
       "<IPython.core.display.Javascript object>"
      ]
     },
     "metadata": {},
     "output_type": "display_data"
    }
   ],
   "source": [
    "df[\"CryoSleep\"].value_counts(dropna=False, normalize=True)"
   ]
  },
  {
   "cell_type": "code",
   "execution_count": 15,
   "id": "2a3ed999",
   "metadata": {
    "ExecuteTime": {
     "end_time": "2022-06-12T10:55:21.037751Z",
     "start_time": "2022-06-12T10:55:21.031382Z"
    }
   },
   "outputs": [
    {
     "data": {
      "application/javascript": [
       "\n",
       "            setTimeout(function() {\n",
       "                var nbb_cell_id = 15;\n",
       "                var nbb_unformatted_code = \"df[\\\"CryoSleep\\\"].fillna(False, inplace=True)\";\n",
       "                var nbb_formatted_code = \"df[\\\"CryoSleep\\\"].fillna(False, inplace=True)\";\n",
       "                var nbb_cells = Jupyter.notebook.get_cells();\n",
       "                for (var i = 0; i < nbb_cells.length; ++i) {\n",
       "                    if (nbb_cells[i].input_prompt_number == nbb_cell_id) {\n",
       "                        if (nbb_cells[i].get_text() == nbb_unformatted_code) {\n",
       "                             nbb_cells[i].set_text(nbb_formatted_code);\n",
       "                        }\n",
       "                        break;\n",
       "                    }\n",
       "                }\n",
       "            }, 500);\n",
       "            "
      ],
      "text/plain": [
       "<IPython.core.display.Javascript object>"
      ]
     },
     "metadata": {},
     "output_type": "display_data"
    }
   ],
   "source": [
    "df[\"CryoSleep\"].fillna(False, inplace=True)"
   ]
  },
  {
   "cell_type": "code",
   "execution_count": 16,
   "id": "5824a337",
   "metadata": {
    "ExecuteTime": {
     "end_time": "2022-06-12T10:55:21.043697Z",
     "start_time": "2022-06-12T10:55:21.038881Z"
    }
   },
   "outputs": [
    {
     "data": {
      "application/javascript": [
       "\n",
       "            setTimeout(function() {\n",
       "                var nbb_cell_id = 16;\n",
       "                var nbb_unformatted_code = \"df[\\\"CryoSleep\\\"] = df[\\\"CryoSleep\\\"].astype(int)\";\n",
       "                var nbb_formatted_code = \"df[\\\"CryoSleep\\\"] = df[\\\"CryoSleep\\\"].astype(int)\";\n",
       "                var nbb_cells = Jupyter.notebook.get_cells();\n",
       "                for (var i = 0; i < nbb_cells.length; ++i) {\n",
       "                    if (nbb_cells[i].input_prompt_number == nbb_cell_id) {\n",
       "                        if (nbb_cells[i].get_text() == nbb_unformatted_code) {\n",
       "                             nbb_cells[i].set_text(nbb_formatted_code);\n",
       "                        }\n",
       "                        break;\n",
       "                    }\n",
       "                }\n",
       "            }, 500);\n",
       "            "
      ],
      "text/plain": [
       "<IPython.core.display.Javascript object>"
      ]
     },
     "metadata": {},
     "output_type": "display_data"
    }
   ],
   "source": [
    "df[\"CryoSleep\"] = df[\"CryoSleep\"].astype(int)"
   ]
  },
  {
   "cell_type": "markdown",
   "id": "43432f9b",
   "metadata": {
    "ExecuteTime": {
     "end_time": "2022-06-12T07:08:18.425186Z",
     "start_time": "2022-06-12T07:08:18.409903Z"
    }
   },
   "source": [
    "## Cabin"
   ]
  },
  {
   "cell_type": "code",
   "execution_count": 17,
   "id": "4982b7d6",
   "metadata": {
    "ExecuteTime": {
     "end_time": "2022-06-12T10:55:21.061218Z",
     "start_time": "2022-06-12T10:55:21.044771Z"
    }
   },
   "outputs": [
    {
     "data": {
      "application/javascript": [
       "\n",
       "            setTimeout(function() {\n",
       "                var nbb_cell_id = 17;\n",
       "                var nbb_unformatted_code = \"df[[\\\"Cabin_Desk\\\", \\\"Cabin_Num\\\", \\\"Cabin_Side\\\"]] = df[\\\"Cabin\\\"].str.split(\\\"/\\\", expand=True)\";\n",
       "                var nbb_formatted_code = \"df[[\\\"Cabin_Desk\\\", \\\"Cabin_Num\\\", \\\"Cabin_Side\\\"]] = df[\\\"Cabin\\\"].str.split(\\\"/\\\", expand=True)\";\n",
       "                var nbb_cells = Jupyter.notebook.get_cells();\n",
       "                for (var i = 0; i < nbb_cells.length; ++i) {\n",
       "                    if (nbb_cells[i].input_prompt_number == nbb_cell_id) {\n",
       "                        if (nbb_cells[i].get_text() == nbb_unformatted_code) {\n",
       "                             nbb_cells[i].set_text(nbb_formatted_code);\n",
       "                        }\n",
       "                        break;\n",
       "                    }\n",
       "                }\n",
       "            }, 500);\n",
       "            "
      ],
      "text/plain": [
       "<IPython.core.display.Javascript object>"
      ]
     },
     "metadata": {},
     "output_type": "display_data"
    }
   ],
   "source": [
    "df[[\"Cabin_Desk\", \"Cabin_Num\", \"Cabin_Side\"]] = df[\"Cabin\"].str.split(\"/\", expand=True)"
   ]
  },
  {
   "cell_type": "code",
   "execution_count": 18,
   "id": "f66bfd66",
   "metadata": {
    "ExecuteTime": {
     "end_time": "2022-06-12T10:55:21.069558Z",
     "start_time": "2022-06-12T10:55:21.061973Z"
    }
   },
   "outputs": [
    {
     "data": {
      "text/plain": [
       "F      0.326831\n",
       "G      0.291519\n",
       "E      0.102005\n",
       "B      0.087972\n",
       "C      0.084965\n",
       "D      0.055513\n",
       "A      0.027294\n",
       "NaN    0.023053\n",
       "T      0.000848\n",
       "Name: Cabin_Desk, dtype: float64"
      ]
     },
     "execution_count": 18,
     "metadata": {},
     "output_type": "execute_result"
    },
    {
     "data": {
      "application/javascript": [
       "\n",
       "            setTimeout(function() {\n",
       "                var nbb_cell_id = 18;\n",
       "                var nbb_unformatted_code = \"df[\\\"Cabin_Desk\\\"].value_counts(dropna=False, normalize=True)\";\n",
       "                var nbb_formatted_code = \"df[\\\"Cabin_Desk\\\"].value_counts(dropna=False, normalize=True)\";\n",
       "                var nbb_cells = Jupyter.notebook.get_cells();\n",
       "                for (var i = 0; i < nbb_cells.length; ++i) {\n",
       "                    if (nbb_cells[i].input_prompt_number == nbb_cell_id) {\n",
       "                        if (nbb_cells[i].get_text() == nbb_unformatted_code) {\n",
       "                             nbb_cells[i].set_text(nbb_formatted_code);\n",
       "                        }\n",
       "                        break;\n",
       "                    }\n",
       "                }\n",
       "            }, 500);\n",
       "            "
      ],
      "text/plain": [
       "<IPython.core.display.Javascript object>"
      ]
     },
     "metadata": {},
     "output_type": "display_data"
    }
   ],
   "source": [
    "df[\"Cabin_Desk\"].value_counts(dropna=False, normalize=True)"
   ]
  },
  {
   "cell_type": "code",
   "execution_count": 19,
   "id": "c09be818",
   "metadata": {
    "ExecuteTime": {
     "end_time": "2022-06-12T10:55:21.076928Z",
     "start_time": "2022-06-12T10:55:21.070580Z"
    }
   },
   "outputs": [
    {
     "data": {
      "application/javascript": [
       "\n",
       "            setTimeout(function() {\n",
       "                var nbb_cell_id = 19;\n",
       "                var nbb_unformatted_code = \"df[\\\"Cabin_Desk\\\"] = le.fit_transform(df[\\\"Cabin_Desk\\\"])\";\n",
       "                var nbb_formatted_code = \"df[\\\"Cabin_Desk\\\"] = le.fit_transform(df[\\\"Cabin_Desk\\\"])\";\n",
       "                var nbb_cells = Jupyter.notebook.get_cells();\n",
       "                for (var i = 0; i < nbb_cells.length; ++i) {\n",
       "                    if (nbb_cells[i].input_prompt_number == nbb_cell_id) {\n",
       "                        if (nbb_cells[i].get_text() == nbb_unformatted_code) {\n",
       "                             nbb_cells[i].set_text(nbb_formatted_code);\n",
       "                        }\n",
       "                        break;\n",
       "                    }\n",
       "                }\n",
       "            }, 500);\n",
       "            "
      ],
      "text/plain": [
       "<IPython.core.display.Javascript object>"
      ]
     },
     "metadata": {},
     "output_type": "display_data"
    }
   ],
   "source": [
    "df[\"Cabin_Desk\"] = le.fit_transform(df[\"Cabin_Desk\"])"
   ]
  },
  {
   "cell_type": "code",
   "execution_count": 20,
   "id": "87e5cbf4",
   "metadata": {
    "ExecuteTime": {
     "end_time": "2022-06-12T10:55:21.083617Z",
     "start_time": "2022-06-12T10:55:21.077949Z"
    }
   },
   "outputs": [
    {
     "data": {
      "application/javascript": [
       "\n",
       "            setTimeout(function() {\n",
       "                var nbb_cell_id = 20;\n",
       "                var nbb_unformatted_code = \"df[\\\"Cabin_Num\\\"] = df[\\\"Cabin_Num\\\"].fillna(0).astype(int)\";\n",
       "                var nbb_formatted_code = \"df[\\\"Cabin_Num\\\"] = df[\\\"Cabin_Num\\\"].fillna(0).astype(int)\";\n",
       "                var nbb_cells = Jupyter.notebook.get_cells();\n",
       "                for (var i = 0; i < nbb_cells.length; ++i) {\n",
       "                    if (nbb_cells[i].input_prompt_number == nbb_cell_id) {\n",
       "                        if (nbb_cells[i].get_text() == nbb_unformatted_code) {\n",
       "                             nbb_cells[i].set_text(nbb_formatted_code);\n",
       "                        }\n",
       "                        break;\n",
       "                    }\n",
       "                }\n",
       "            }, 500);\n",
       "            "
      ],
      "text/plain": [
       "<IPython.core.display.Javascript object>"
      ]
     },
     "metadata": {},
     "output_type": "display_data"
    }
   ],
   "source": [
    "df[\"Cabin_Num\"] = df[\"Cabin_Num\"].fillna(0).astype(int)"
   ]
  },
  {
   "cell_type": "code",
   "execution_count": 21,
   "id": "b35169de",
   "metadata": {
    "ExecuteTime": {
     "end_time": "2022-06-12T10:55:21.091368Z",
     "start_time": "2022-06-12T10:55:21.084333Z"
    }
   },
   "outputs": [
    {
     "data": {
      "text/plain": [
       "S      0.491981\n",
       "P      0.484965\n",
       "NaN    0.023053\n",
       "Name: Cabin_Side, dtype: float64"
      ]
     },
     "execution_count": 21,
     "metadata": {},
     "output_type": "execute_result"
    },
    {
     "data": {
      "application/javascript": [
       "\n",
       "            setTimeout(function() {\n",
       "                var nbb_cell_id = 21;\n",
       "                var nbb_unformatted_code = \"df[\\\"Cabin_Side\\\"].value_counts(dropna=False, normalize=True)\";\n",
       "                var nbb_formatted_code = \"df[\\\"Cabin_Side\\\"].value_counts(dropna=False, normalize=True)\";\n",
       "                var nbb_cells = Jupyter.notebook.get_cells();\n",
       "                for (var i = 0; i < nbb_cells.length; ++i) {\n",
       "                    if (nbb_cells[i].input_prompt_number == nbb_cell_id) {\n",
       "                        if (nbb_cells[i].get_text() == nbb_unformatted_code) {\n",
       "                             nbb_cells[i].set_text(nbb_formatted_code);\n",
       "                        }\n",
       "                        break;\n",
       "                    }\n",
       "                }\n",
       "            }, 500);\n",
       "            "
      ],
      "text/plain": [
       "<IPython.core.display.Javascript object>"
      ]
     },
     "metadata": {},
     "output_type": "display_data"
    }
   ],
   "source": [
    "df[\"Cabin_Side\"].value_counts(dropna=False, normalize=True)"
   ]
  },
  {
   "cell_type": "code",
   "execution_count": 22,
   "id": "64232ed8",
   "metadata": {
    "ExecuteTime": {
     "end_time": "2022-06-12T10:55:21.098159Z",
     "start_time": "2022-06-12T10:55:21.092418Z"
    }
   },
   "outputs": [
    {
     "data": {
      "application/javascript": [
       "\n",
       "            setTimeout(function() {\n",
       "                var nbb_cell_id = 22;\n",
       "                var nbb_unformatted_code = \"df[\\\"Cabin_Side\\\"] = le.fit_transform(df[\\\"Cabin_Side\\\"])\";\n",
       "                var nbb_formatted_code = \"df[\\\"Cabin_Side\\\"] = le.fit_transform(df[\\\"Cabin_Side\\\"])\";\n",
       "                var nbb_cells = Jupyter.notebook.get_cells();\n",
       "                for (var i = 0; i < nbb_cells.length; ++i) {\n",
       "                    if (nbb_cells[i].input_prompt_number == nbb_cell_id) {\n",
       "                        if (nbb_cells[i].get_text() == nbb_unformatted_code) {\n",
       "                             nbb_cells[i].set_text(nbb_formatted_code);\n",
       "                        }\n",
       "                        break;\n",
       "                    }\n",
       "                }\n",
       "            }, 500);\n",
       "            "
      ],
      "text/plain": [
       "<IPython.core.display.Javascript object>"
      ]
     },
     "metadata": {},
     "output_type": "display_data"
    }
   ],
   "source": [
    "df[\"Cabin_Side\"] = le.fit_transform(df[\"Cabin_Side\"])"
   ]
  },
  {
   "cell_type": "code",
   "execution_count": 23,
   "id": "6c9de233",
   "metadata": {
    "ExecuteTime": {
     "end_time": "2022-06-12T10:55:21.104947Z",
     "start_time": "2022-06-12T10:55:21.098865Z"
    }
   },
   "outputs": [
    {
     "data": {
      "application/javascript": [
       "\n",
       "            setTimeout(function() {\n",
       "                var nbb_cell_id = 23;\n",
       "                var nbb_unformatted_code = \"df.drop(\\\"Cabin\\\", axis=1, inplace=True)\";\n",
       "                var nbb_formatted_code = \"df.drop(\\\"Cabin\\\", axis=1, inplace=True)\";\n",
       "                var nbb_cells = Jupyter.notebook.get_cells();\n",
       "                for (var i = 0; i < nbb_cells.length; ++i) {\n",
       "                    if (nbb_cells[i].input_prompt_number == nbb_cell_id) {\n",
       "                        if (nbb_cells[i].get_text() == nbb_unformatted_code) {\n",
       "                             nbb_cells[i].set_text(nbb_formatted_code);\n",
       "                        }\n",
       "                        break;\n",
       "                    }\n",
       "                }\n",
       "            }, 500);\n",
       "            "
      ],
      "text/plain": [
       "<IPython.core.display.Javascript object>"
      ]
     },
     "metadata": {},
     "output_type": "display_data"
    }
   ],
   "source": [
    "df.drop(\"Cabin\", axis=1, inplace=True)"
   ]
  },
  {
   "cell_type": "markdown",
   "id": "e724d717",
   "metadata": {
    "ExecuteTime": {
     "end_time": "2022-06-12T10:26:59.447757Z",
     "start_time": "2022-06-12T10:26:59.427108Z"
    }
   },
   "source": [
    "## Destination"
   ]
  },
  {
   "cell_type": "code",
   "execution_count": 24,
   "id": "887d3680",
   "metadata": {
    "ExecuteTime": {
     "end_time": "2022-06-12T10:55:21.110981Z",
     "start_time": "2022-06-12T10:55:21.105802Z"
    }
   },
   "outputs": [
    {
     "data": {
      "text/plain": [
       "TRAPPIST-1e      0.683963\n",
       "55 Cancri e      0.203624\n",
       "PSO J318.5-22    0.091288\n",
       "NaN              0.021126\n",
       "Name: Destination, dtype: float64"
      ]
     },
     "execution_count": 24,
     "metadata": {},
     "output_type": "execute_result"
    },
    {
     "data": {
      "application/javascript": [
       "\n",
       "            setTimeout(function() {\n",
       "                var nbb_cell_id = 24;\n",
       "                var nbb_unformatted_code = \"df[\\\"Destination\\\"].value_counts(dropna=False, normalize=True)\";\n",
       "                var nbb_formatted_code = \"df[\\\"Destination\\\"].value_counts(dropna=False, normalize=True)\";\n",
       "                var nbb_cells = Jupyter.notebook.get_cells();\n",
       "                for (var i = 0; i < nbb_cells.length; ++i) {\n",
       "                    if (nbb_cells[i].input_prompt_number == nbb_cell_id) {\n",
       "                        if (nbb_cells[i].get_text() == nbb_unformatted_code) {\n",
       "                             nbb_cells[i].set_text(nbb_formatted_code);\n",
       "                        }\n",
       "                        break;\n",
       "                    }\n",
       "                }\n",
       "            }, 500);\n",
       "            "
      ],
      "text/plain": [
       "<IPython.core.display.Javascript object>"
      ]
     },
     "metadata": {},
     "output_type": "display_data"
    }
   ],
   "source": [
    "df[\"Destination\"].value_counts(dropna=False, normalize=True)"
   ]
  },
  {
   "cell_type": "code",
   "execution_count": 25,
   "id": "c39762c7",
   "metadata": {
    "ExecuteTime": {
     "end_time": "2022-06-12T10:55:21.120549Z",
     "start_time": "2022-06-12T10:55:21.112091Z"
    }
   },
   "outputs": [
    {
     "data": {
      "application/javascript": [
       "\n",
       "            setTimeout(function() {\n",
       "                var nbb_cell_id = 25;\n",
       "                var nbb_unformatted_code = \"df[\\\"Destination\\\"] = le.fit_transform(df[\\\"Destination\\\"])\";\n",
       "                var nbb_formatted_code = \"df[\\\"Destination\\\"] = le.fit_transform(df[\\\"Destination\\\"])\";\n",
       "                var nbb_cells = Jupyter.notebook.get_cells();\n",
       "                for (var i = 0; i < nbb_cells.length; ++i) {\n",
       "                    if (nbb_cells[i].input_prompt_number == nbb_cell_id) {\n",
       "                        if (nbb_cells[i].get_text() == nbb_unformatted_code) {\n",
       "                             nbb_cells[i].set_text(nbb_formatted_code);\n",
       "                        }\n",
       "                        break;\n",
       "                    }\n",
       "                }\n",
       "            }, 500);\n",
       "            "
      ],
      "text/plain": [
       "<IPython.core.display.Javascript object>"
      ]
     },
     "metadata": {},
     "output_type": "display_data"
    }
   ],
   "source": [
    "df[\"Destination\"] = le.fit_transform(df[\"Destination\"])"
   ]
  },
  {
   "cell_type": "markdown",
   "id": "d5947ae3",
   "metadata": {},
   "source": [
    "## Age"
   ]
  },
  {
   "cell_type": "code",
   "execution_count": 26,
   "id": "ddc74c3a",
   "metadata": {
    "ExecuteTime": {
     "end_time": "2022-06-12T10:55:21.128847Z",
     "start_time": "2022-06-12T10:55:21.121593Z"
    }
   },
   "outputs": [
    {
     "data": {
      "text/plain": [
       "count    12700.000000\n",
       "mean        28.771969\n",
       "std         14.387261\n",
       "min          0.000000\n",
       "25%         19.000000\n",
       "50%         27.000000\n",
       "75%         38.000000\n",
       "max         79.000000\n",
       "Name: Age, dtype: float64"
      ]
     },
     "execution_count": 26,
     "metadata": {},
     "output_type": "execute_result"
    },
    {
     "data": {
      "application/javascript": [
       "\n",
       "            setTimeout(function() {\n",
       "                var nbb_cell_id = 26;\n",
       "                var nbb_unformatted_code = \"df[\\\"Age\\\"].describe()\";\n",
       "                var nbb_formatted_code = \"df[\\\"Age\\\"].describe()\";\n",
       "                var nbb_cells = Jupyter.notebook.get_cells();\n",
       "                for (var i = 0; i < nbb_cells.length; ++i) {\n",
       "                    if (nbb_cells[i].input_prompt_number == nbb_cell_id) {\n",
       "                        if (nbb_cells[i].get_text() == nbb_unformatted_code) {\n",
       "                             nbb_cells[i].set_text(nbb_formatted_code);\n",
       "                        }\n",
       "                        break;\n",
       "                    }\n",
       "                }\n",
       "            }, 500);\n",
       "            "
      ],
      "text/plain": [
       "<IPython.core.display.Javascript object>"
      ]
     },
     "metadata": {},
     "output_type": "display_data"
    }
   ],
   "source": [
    "df[\"Age\"].describe()"
   ]
  },
  {
   "cell_type": "code",
   "execution_count": 27,
   "id": "a545af35",
   "metadata": {
    "ExecuteTime": {
     "end_time": "2022-06-12T10:55:21.134857Z",
     "start_time": "2022-06-12T10:55:21.131871Z"
    }
   },
   "outputs": [
    {
     "data": {
      "application/javascript": [
       "\n",
       "            setTimeout(function() {\n",
       "                var nbb_cell_id = 27;\n",
       "                var nbb_unformatted_code = \"df[\\\"Age\\\"].fillna(0, inplace=True)\";\n",
       "                var nbb_formatted_code = \"df[\\\"Age\\\"].fillna(0, inplace=True)\";\n",
       "                var nbb_cells = Jupyter.notebook.get_cells();\n",
       "                for (var i = 0; i < nbb_cells.length; ++i) {\n",
       "                    if (nbb_cells[i].input_prompt_number == nbb_cell_id) {\n",
       "                        if (nbb_cells[i].get_text() == nbb_unformatted_code) {\n",
       "                             nbb_cells[i].set_text(nbb_formatted_code);\n",
       "                        }\n",
       "                        break;\n",
       "                    }\n",
       "                }\n",
       "            }, 500);\n",
       "            "
      ],
      "text/plain": [
       "<IPython.core.display.Javascript object>"
      ]
     },
     "metadata": {},
     "output_type": "display_data"
    }
   ],
   "source": [
    "df[\"Age\"].fillna(0, inplace=True)"
   ]
  },
  {
   "cell_type": "markdown",
   "id": "9890b712",
   "metadata": {},
   "source": [
    "## VIP"
   ]
  },
  {
   "cell_type": "code",
   "execution_count": 28,
   "id": "9fbce6c2",
   "metadata": {
    "ExecuteTime": {
     "end_time": "2022-06-12T10:55:21.142598Z",
     "start_time": "2022-06-12T10:55:21.135547Z"
    }
   },
   "outputs": [
    {
     "data": {
      "text/plain": [
       "False    0.956130\n",
       "NaN      0.022822\n",
       "True     0.021049\n",
       "Name: VIP, dtype: float64"
      ]
     },
     "execution_count": 28,
     "metadata": {},
     "output_type": "execute_result"
    },
    {
     "data": {
      "application/javascript": [
       "\n",
       "            setTimeout(function() {\n",
       "                var nbb_cell_id = 28;\n",
       "                var nbb_unformatted_code = \"df[\\\"VIP\\\"].value_counts(dropna=False, normalize=True)\";\n",
       "                var nbb_formatted_code = \"df[\\\"VIP\\\"].value_counts(dropna=False, normalize=True)\";\n",
       "                var nbb_cells = Jupyter.notebook.get_cells();\n",
       "                for (var i = 0; i < nbb_cells.length; ++i) {\n",
       "                    if (nbb_cells[i].input_prompt_number == nbb_cell_id) {\n",
       "                        if (nbb_cells[i].get_text() == nbb_unformatted_code) {\n",
       "                             nbb_cells[i].set_text(nbb_formatted_code);\n",
       "                        }\n",
       "                        break;\n",
       "                    }\n",
       "                }\n",
       "            }, 500);\n",
       "            "
      ],
      "text/plain": [
       "<IPython.core.display.Javascript object>"
      ]
     },
     "metadata": {},
     "output_type": "display_data"
    }
   ],
   "source": [
    "df[\"VIP\"].value_counts(dropna=False, normalize=True)"
   ]
  },
  {
   "cell_type": "code",
   "execution_count": 29,
   "id": "36a2692b",
   "metadata": {
    "ExecuteTime": {
     "end_time": "2022-06-12T10:55:21.150754Z",
     "start_time": "2022-06-12T10:55:21.143608Z"
    }
   },
   "outputs": [
    {
     "data": {
      "application/javascript": [
       "\n",
       "            setTimeout(function() {\n",
       "                var nbb_cell_id = 29;\n",
       "                var nbb_unformatted_code = \"df[\\\"VIP\\\"] = le.fit_transform(df[\\\"VIP\\\"])\";\n",
       "                var nbb_formatted_code = \"df[\\\"VIP\\\"] = le.fit_transform(df[\\\"VIP\\\"])\";\n",
       "                var nbb_cells = Jupyter.notebook.get_cells();\n",
       "                for (var i = 0; i < nbb_cells.length; ++i) {\n",
       "                    if (nbb_cells[i].input_prompt_number == nbb_cell_id) {\n",
       "                        if (nbb_cells[i].get_text() == nbb_unformatted_code) {\n",
       "                             nbb_cells[i].set_text(nbb_formatted_code);\n",
       "                        }\n",
       "                        break;\n",
       "                    }\n",
       "                }\n",
       "            }, 500);\n",
       "            "
      ],
      "text/plain": [
       "<IPython.core.display.Javascript object>"
      ]
     },
     "metadata": {},
     "output_type": "display_data"
    }
   ],
   "source": [
    "df[\"VIP\"] = le.fit_transform(df[\"VIP\"])"
   ]
  },
  {
   "cell_type": "markdown",
   "id": "89e2f5ad",
   "metadata": {},
   "source": [
    "## RoomService"
   ]
  },
  {
   "cell_type": "code",
   "execution_count": 30,
   "id": "0cb2319b",
   "metadata": {
    "ExecuteTime": {
     "end_time": "2022-06-12T10:55:21.158391Z",
     "start_time": "2022-06-12T10:55:21.151855Z"
    }
   },
   "outputs": [
    {
     "data": {
      "text/plain": [
       "count    12707.000000\n",
       "mean       222.897852\n",
       "std        647.596664\n",
       "min          0.000000\n",
       "25%          0.000000\n",
       "50%          0.000000\n",
       "75%         49.000000\n",
       "max      14327.000000\n",
       "Name: RoomService, dtype: float64"
      ]
     },
     "execution_count": 30,
     "metadata": {},
     "output_type": "execute_result"
    },
    {
     "data": {
      "application/javascript": [
       "\n",
       "            setTimeout(function() {\n",
       "                var nbb_cell_id = 30;\n",
       "                var nbb_unformatted_code = \"df[\\\"RoomService\\\"].describe()\";\n",
       "                var nbb_formatted_code = \"df[\\\"RoomService\\\"].describe()\";\n",
       "                var nbb_cells = Jupyter.notebook.get_cells();\n",
       "                for (var i = 0; i < nbb_cells.length; ++i) {\n",
       "                    if (nbb_cells[i].input_prompt_number == nbb_cell_id) {\n",
       "                        if (nbb_cells[i].get_text() == nbb_unformatted_code) {\n",
       "                             nbb_cells[i].set_text(nbb_formatted_code);\n",
       "                        }\n",
       "                        break;\n",
       "                    }\n",
       "                }\n",
       "            }, 500);\n",
       "            "
      ],
      "text/plain": [
       "<IPython.core.display.Javascript object>"
      ]
     },
     "metadata": {},
     "output_type": "display_data"
    }
   ],
   "source": [
    "df[\"RoomService\"].describe()"
   ]
  },
  {
   "cell_type": "code",
   "execution_count": 31,
   "id": "10528c6c",
   "metadata": {
    "ExecuteTime": {
     "end_time": "2022-06-12T10:55:21.163865Z",
     "start_time": "2022-06-12T10:55:21.159210Z"
    }
   },
   "outputs": [
    {
     "data": {
      "application/javascript": [
       "\n",
       "            setTimeout(function() {\n",
       "                var nbb_cell_id = 31;\n",
       "                var nbb_unformatted_code = \"df[\\\"RoomService\\\"].fillna(0, inplace=True)\";\n",
       "                var nbb_formatted_code = \"df[\\\"RoomService\\\"].fillna(0, inplace=True)\";\n",
       "                var nbb_cells = Jupyter.notebook.get_cells();\n",
       "                for (var i = 0; i < nbb_cells.length; ++i) {\n",
       "                    if (nbb_cells[i].input_prompt_number == nbb_cell_id) {\n",
       "                        if (nbb_cells[i].get_text() == nbb_unformatted_code) {\n",
       "                             nbb_cells[i].set_text(nbb_formatted_code);\n",
       "                        }\n",
       "                        break;\n",
       "                    }\n",
       "                }\n",
       "            }, 500);\n",
       "            "
      ],
      "text/plain": [
       "<IPython.core.display.Javascript object>"
      ]
     },
     "metadata": {},
     "output_type": "display_data"
    }
   ],
   "source": [
    "df[\"RoomService\"].fillna(0, inplace=True)"
   ]
  },
  {
   "cell_type": "markdown",
   "id": "eaf0ad99",
   "metadata": {},
   "source": [
    "## FoodCourt"
   ]
  },
  {
   "cell_type": "code",
   "execution_count": 32,
   "id": "6a3a6c59",
   "metadata": {
    "ExecuteTime": {
     "end_time": "2022-06-12T10:55:21.170901Z",
     "start_time": "2022-06-12T10:55:21.165130Z"
    }
   },
   "outputs": [
    {
     "data": {
      "text/plain": [
       "count    12681.000000\n",
       "mean       451.961675\n",
       "std       1584.370747\n",
       "min          0.000000\n",
       "25%          0.000000\n",
       "50%          0.000000\n",
       "75%         77.000000\n",
       "max      29813.000000\n",
       "Name: FoodCourt, dtype: float64"
      ]
     },
     "execution_count": 32,
     "metadata": {},
     "output_type": "execute_result"
    },
    {
     "data": {
      "application/javascript": [
       "\n",
       "            setTimeout(function() {\n",
       "                var nbb_cell_id = 32;\n",
       "                var nbb_unformatted_code = \"df[\\\"FoodCourt\\\"].describe()\";\n",
       "                var nbb_formatted_code = \"df[\\\"FoodCourt\\\"].describe()\";\n",
       "                var nbb_cells = Jupyter.notebook.get_cells();\n",
       "                for (var i = 0; i < nbb_cells.length; ++i) {\n",
       "                    if (nbb_cells[i].input_prompt_number == nbb_cell_id) {\n",
       "                        if (nbb_cells[i].get_text() == nbb_unformatted_code) {\n",
       "                             nbb_cells[i].set_text(nbb_formatted_code);\n",
       "                        }\n",
       "                        break;\n",
       "                    }\n",
       "                }\n",
       "            }, 500);\n",
       "            "
      ],
      "text/plain": [
       "<IPython.core.display.Javascript object>"
      ]
     },
     "metadata": {},
     "output_type": "display_data"
    }
   ],
   "source": [
    "df[\"FoodCourt\"].describe()"
   ]
  },
  {
   "cell_type": "code",
   "execution_count": 33,
   "id": "4da9f6ed",
   "metadata": {
    "ExecuteTime": {
     "end_time": "2022-06-12T10:55:21.175004Z",
     "start_time": "2022-06-12T10:55:21.171632Z"
    }
   },
   "outputs": [
    {
     "data": {
      "application/javascript": [
       "\n",
       "            setTimeout(function() {\n",
       "                var nbb_cell_id = 33;\n",
       "                var nbb_unformatted_code = \"df[\\\"FoodCourt\\\"].fillna(0, inplace=True)\";\n",
       "                var nbb_formatted_code = \"df[\\\"FoodCourt\\\"].fillna(0, inplace=True)\";\n",
       "                var nbb_cells = Jupyter.notebook.get_cells();\n",
       "                for (var i = 0; i < nbb_cells.length; ++i) {\n",
       "                    if (nbb_cells[i].input_prompt_number == nbb_cell_id) {\n",
       "                        if (nbb_cells[i].get_text() == nbb_unformatted_code) {\n",
       "                             nbb_cells[i].set_text(nbb_formatted_code);\n",
       "                        }\n",
       "                        break;\n",
       "                    }\n",
       "                }\n",
       "            }, 500);\n",
       "            "
      ],
      "text/plain": [
       "<IPython.core.display.Javascript object>"
      ]
     },
     "metadata": {},
     "output_type": "display_data"
    }
   ],
   "source": [
    "df[\"FoodCourt\"].fillna(0, inplace=True)"
   ]
  },
  {
   "cell_type": "markdown",
   "id": "255313e8",
   "metadata": {},
   "source": [
    "## ShoppingMall"
   ]
  },
  {
   "cell_type": "code",
   "execution_count": 34,
   "id": "5284dca7",
   "metadata": {
    "ExecuteTime": {
     "end_time": "2022-06-12T10:55:21.183735Z",
     "start_time": "2022-06-12T10:55:21.175739Z"
    }
   },
   "outputs": [
    {
     "data": {
      "text/plain": [
       "count    12664.000000\n",
       "mean       174.906033\n",
       "std        590.558690\n",
       "min          0.000000\n",
       "25%          0.000000\n",
       "50%          0.000000\n",
       "75%         29.000000\n",
       "max      23492.000000\n",
       "Name: ShoppingMall, dtype: float64"
      ]
     },
     "execution_count": 34,
     "metadata": {},
     "output_type": "execute_result"
    },
    {
     "data": {
      "application/javascript": [
       "\n",
       "            setTimeout(function() {\n",
       "                var nbb_cell_id = 34;\n",
       "                var nbb_unformatted_code = \"df[\\\"ShoppingMall\\\"].describe()\";\n",
       "                var nbb_formatted_code = \"df[\\\"ShoppingMall\\\"].describe()\";\n",
       "                var nbb_cells = Jupyter.notebook.get_cells();\n",
       "                for (var i = 0; i < nbb_cells.length; ++i) {\n",
       "                    if (nbb_cells[i].input_prompt_number == nbb_cell_id) {\n",
       "                        if (nbb_cells[i].get_text() == nbb_unformatted_code) {\n",
       "                             nbb_cells[i].set_text(nbb_formatted_code);\n",
       "                        }\n",
       "                        break;\n",
       "                    }\n",
       "                }\n",
       "            }, 500);\n",
       "            "
      ],
      "text/plain": [
       "<IPython.core.display.Javascript object>"
      ]
     },
     "metadata": {},
     "output_type": "display_data"
    }
   ],
   "source": [
    "df[\"ShoppingMall\"].describe()"
   ]
  },
  {
   "cell_type": "code",
   "execution_count": 35,
   "id": "0c465715",
   "metadata": {
    "ExecuteTime": {
     "end_time": "2022-06-12T10:55:21.188931Z",
     "start_time": "2022-06-12T10:55:21.184755Z"
    }
   },
   "outputs": [
    {
     "data": {
      "application/javascript": [
       "\n",
       "            setTimeout(function() {\n",
       "                var nbb_cell_id = 35;\n",
       "                var nbb_unformatted_code = \"df[\\\"ShoppingMall\\\"].fillna(0, inplace=True)\";\n",
       "                var nbb_formatted_code = \"df[\\\"ShoppingMall\\\"].fillna(0, inplace=True)\";\n",
       "                var nbb_cells = Jupyter.notebook.get_cells();\n",
       "                for (var i = 0; i < nbb_cells.length; ++i) {\n",
       "                    if (nbb_cells[i].input_prompt_number == nbb_cell_id) {\n",
       "                        if (nbb_cells[i].get_text() == nbb_unformatted_code) {\n",
       "                             nbb_cells[i].set_text(nbb_formatted_code);\n",
       "                        }\n",
       "                        break;\n",
       "                    }\n",
       "                }\n",
       "            }, 500);\n",
       "            "
      ],
      "text/plain": [
       "<IPython.core.display.Javascript object>"
      ]
     },
     "metadata": {},
     "output_type": "display_data"
    }
   ],
   "source": [
    "df[\"ShoppingMall\"].fillna(0, inplace=True)"
   ]
  },
  {
   "cell_type": "markdown",
   "id": "d69f5a17",
   "metadata": {},
   "source": [
    "## Spa"
   ]
  },
  {
   "cell_type": "code",
   "execution_count": 36,
   "id": "cb6109d8",
   "metadata": {
    "ExecuteTime": {
     "end_time": "2022-06-12T10:55:21.198109Z",
     "start_time": "2022-06-12T10:55:21.190112Z"
    }
   },
   "outputs": [
    {
     "data": {
      "text/plain": [
       "count    12686.000000\n",
       "mean       308.476904\n",
       "std       1130.279641\n",
       "min          0.000000\n",
       "25%          0.000000\n",
       "50%          0.000000\n",
       "75%         57.000000\n",
       "max      22408.000000\n",
       "Name: Spa, dtype: float64"
      ]
     },
     "execution_count": 36,
     "metadata": {},
     "output_type": "execute_result"
    },
    {
     "data": {
      "application/javascript": [
       "\n",
       "            setTimeout(function() {\n",
       "                var nbb_cell_id = 36;\n",
       "                var nbb_unformatted_code = \"df[\\\"Spa\\\"].describe()\";\n",
       "                var nbb_formatted_code = \"df[\\\"Spa\\\"].describe()\";\n",
       "                var nbb_cells = Jupyter.notebook.get_cells();\n",
       "                for (var i = 0; i < nbb_cells.length; ++i) {\n",
       "                    if (nbb_cells[i].input_prompt_number == nbb_cell_id) {\n",
       "                        if (nbb_cells[i].get_text() == nbb_unformatted_code) {\n",
       "                             nbb_cells[i].set_text(nbb_formatted_code);\n",
       "                        }\n",
       "                        break;\n",
       "                    }\n",
       "                }\n",
       "            }, 500);\n",
       "            "
      ],
      "text/plain": [
       "<IPython.core.display.Javascript object>"
      ]
     },
     "metadata": {},
     "output_type": "display_data"
    }
   ],
   "source": [
    "df[\"Spa\"].describe()"
   ]
  },
  {
   "cell_type": "code",
   "execution_count": 37,
   "id": "cfe254ad",
   "metadata": {
    "ExecuteTime": {
     "end_time": "2022-06-12T10:55:21.205085Z",
     "start_time": "2022-06-12T10:55:21.199495Z"
    }
   },
   "outputs": [
    {
     "data": {
      "application/javascript": [
       "\n",
       "            setTimeout(function() {\n",
       "                var nbb_cell_id = 37;\n",
       "                var nbb_unformatted_code = \"df[\\\"Spa\\\"].fillna(0, inplace=True)\";\n",
       "                var nbb_formatted_code = \"df[\\\"Spa\\\"].fillna(0, inplace=True)\";\n",
       "                var nbb_cells = Jupyter.notebook.get_cells();\n",
       "                for (var i = 0; i < nbb_cells.length; ++i) {\n",
       "                    if (nbb_cells[i].input_prompt_number == nbb_cell_id) {\n",
       "                        if (nbb_cells[i].get_text() == nbb_unformatted_code) {\n",
       "                             nbb_cells[i].set_text(nbb_formatted_code);\n",
       "                        }\n",
       "                        break;\n",
       "                    }\n",
       "                }\n",
       "            }, 500);\n",
       "            "
      ],
      "text/plain": [
       "<IPython.core.display.Javascript object>"
      ]
     },
     "metadata": {},
     "output_type": "display_data"
    }
   ],
   "source": [
    "df[\"Spa\"].fillna(0, inplace=True)"
   ]
  },
  {
   "cell_type": "markdown",
   "id": "19c44f42",
   "metadata": {},
   "source": [
    "## VRDeck"
   ]
  },
  {
   "cell_type": "code",
   "execution_count": 38,
   "id": "fd63f0ab",
   "metadata": {
    "ExecuteTime": {
     "end_time": "2022-06-12T10:55:21.214202Z",
     "start_time": "2022-06-12T10:55:21.206577Z"
    }
   },
   "outputs": [
    {
     "data": {
      "text/plain": [
       "count    12702.000000\n",
       "mean       306.789482\n",
       "std       1180.097223\n",
       "min          0.000000\n",
       "25%          0.000000\n",
       "50%          0.000000\n",
       "75%         42.000000\n",
       "max      24133.000000\n",
       "Name: VRDeck, dtype: float64"
      ]
     },
     "execution_count": 38,
     "metadata": {},
     "output_type": "execute_result"
    },
    {
     "data": {
      "application/javascript": [
       "\n",
       "            setTimeout(function() {\n",
       "                var nbb_cell_id = 38;\n",
       "                var nbb_unformatted_code = \"df[\\\"VRDeck\\\"].describe()\";\n",
       "                var nbb_formatted_code = \"df[\\\"VRDeck\\\"].describe()\";\n",
       "                var nbb_cells = Jupyter.notebook.get_cells();\n",
       "                for (var i = 0; i < nbb_cells.length; ++i) {\n",
       "                    if (nbb_cells[i].input_prompt_number == nbb_cell_id) {\n",
       "                        if (nbb_cells[i].get_text() == nbb_unformatted_code) {\n",
       "                             nbb_cells[i].set_text(nbb_formatted_code);\n",
       "                        }\n",
       "                        break;\n",
       "                    }\n",
       "                }\n",
       "            }, 500);\n",
       "            "
      ],
      "text/plain": [
       "<IPython.core.display.Javascript object>"
      ]
     },
     "metadata": {},
     "output_type": "display_data"
    }
   ],
   "source": [
    "df[\"VRDeck\"].describe()"
   ]
  },
  {
   "cell_type": "code",
   "execution_count": 39,
   "id": "7594b2d1",
   "metadata": {
    "ExecuteTime": {
     "end_time": "2022-06-12T10:55:21.217976Z",
     "start_time": "2022-06-12T10:55:21.214884Z"
    }
   },
   "outputs": [
    {
     "data": {
      "application/javascript": [
       "\n",
       "            setTimeout(function() {\n",
       "                var nbb_cell_id = 39;\n",
       "                var nbb_unformatted_code = \"df[\\\"VRDeck\\\"].fillna(0, inplace=True)\";\n",
       "                var nbb_formatted_code = \"df[\\\"VRDeck\\\"].fillna(0, inplace=True)\";\n",
       "                var nbb_cells = Jupyter.notebook.get_cells();\n",
       "                for (var i = 0; i < nbb_cells.length; ++i) {\n",
       "                    if (nbb_cells[i].input_prompt_number == nbb_cell_id) {\n",
       "                        if (nbb_cells[i].get_text() == nbb_unformatted_code) {\n",
       "                             nbb_cells[i].set_text(nbb_formatted_code);\n",
       "                        }\n",
       "                        break;\n",
       "                    }\n",
       "                }\n",
       "            }, 500);\n",
       "            "
      ],
      "text/plain": [
       "<IPython.core.display.Javascript object>"
      ]
     },
     "metadata": {},
     "output_type": "display_data"
    }
   ],
   "source": [
    "df[\"VRDeck\"].fillna(0, inplace=True)"
   ]
  },
  {
   "cell_type": "markdown",
   "id": "7bedcef4",
   "metadata": {},
   "source": [
    "## Name"
   ]
  },
  {
   "cell_type": "code",
   "execution_count": 40,
   "id": "757c8cec",
   "metadata": {
    "ExecuteTime": {
     "end_time": "2022-06-12T10:55:21.279972Z",
     "start_time": "2022-06-12T10:55:21.218667Z"
    }
   },
   "outputs": [
    {
     "data": {
      "application/javascript": [
       "\n",
       "            setTimeout(function() {\n",
       "                var nbb_cell_id = 40;\n",
       "                var nbb_unformatted_code = \"df[[\\\"First_Name\\\", \\\"Last_Name\\\"]] = df[\\\"Name\\\"].str.split(\\\" \\\", expand=True)\";\n",
       "                var nbb_formatted_code = \"df[[\\\"First_Name\\\", \\\"Last_Name\\\"]] = df[\\\"Name\\\"].str.split(\\\" \\\", expand=True)\";\n",
       "                var nbb_cells = Jupyter.notebook.get_cells();\n",
       "                for (var i = 0; i < nbb_cells.length; ++i) {\n",
       "                    if (nbb_cells[i].input_prompt_number == nbb_cell_id) {\n",
       "                        if (nbb_cells[i].get_text() == nbb_unformatted_code) {\n",
       "                             nbb_cells[i].set_text(nbb_formatted_code);\n",
       "                        }\n",
       "                        break;\n",
       "                    }\n",
       "                }\n",
       "            }, 500);\n",
       "            "
      ],
      "text/plain": [
       "<IPython.core.display.Javascript object>"
      ]
     },
     "metadata": {},
     "output_type": "display_data"
    }
   ],
   "source": [
    "df[[\"First_Name\", \"Last_Name\"]] = df[\"Name\"].str.split(\" \", expand=True)"
   ]
  },
  {
   "cell_type": "code",
   "execution_count": 41,
   "id": "3e36cd54",
   "metadata": {
    "ExecuteTime": {
     "end_time": "2022-06-12T10:55:21.287793Z",
     "start_time": "2022-06-12T10:55:21.280994Z"
    }
   },
   "outputs": [
    {
     "data": {
      "text/plain": [
       "Luise     16\n",
       "Idace     16\n",
       "Ale       15\n",
       "Thel      14\n",
       "Kaye      14\n",
       "          ..\n",
       "Smark      1\n",
       "Mureah     1\n",
       "Grey       1\n",
       "Pix        1\n",
       "Perit      1\n",
       "Name: First_Name, Length: 2883, dtype: int64"
      ]
     },
     "execution_count": 41,
     "metadata": {},
     "output_type": "execute_result"
    },
    {
     "data": {
      "application/javascript": [
       "\n",
       "            setTimeout(function() {\n",
       "                var nbb_cell_id = 41;\n",
       "                var nbb_unformatted_code = \"df[\\\"First_Name\\\"].value_counts()\";\n",
       "                var nbb_formatted_code = \"df[\\\"First_Name\\\"].value_counts()\";\n",
       "                var nbb_cells = Jupyter.notebook.get_cells();\n",
       "                for (var i = 0; i < nbb_cells.length; ++i) {\n",
       "                    if (nbb_cells[i].input_prompt_number == nbb_cell_id) {\n",
       "                        if (nbb_cells[i].get_text() == nbb_unformatted_code) {\n",
       "                             nbb_cells[i].set_text(nbb_formatted_code);\n",
       "                        }\n",
       "                        break;\n",
       "                    }\n",
       "                }\n",
       "            }, 500);\n",
       "            "
      ],
      "text/plain": [
       "<IPython.core.display.Javascript object>"
      ]
     },
     "metadata": {},
     "output_type": "display_data"
    }
   ],
   "source": [
    "df[\"First_Name\"].value_counts()"
   ]
  },
  {
   "cell_type": "code",
   "execution_count": 42,
   "id": "20ced7d8",
   "metadata": {
    "ExecuteTime": {
     "end_time": "2022-06-12T10:55:21.300022Z",
     "start_time": "2022-06-12T10:55:21.288598Z"
    }
   },
   "outputs": [
    {
     "data": {
      "application/javascript": [
       "\n",
       "            setTimeout(function() {\n",
       "                var nbb_cell_id = 42;\n",
       "                var nbb_unformatted_code = \"df[\\\"First_Name\\\"] = le.fit_transform(df[\\\"First_Name\\\"])\";\n",
       "                var nbb_formatted_code = \"df[\\\"First_Name\\\"] = le.fit_transform(df[\\\"First_Name\\\"])\";\n",
       "                var nbb_cells = Jupyter.notebook.get_cells();\n",
       "                for (var i = 0; i < nbb_cells.length; ++i) {\n",
       "                    if (nbb_cells[i].input_prompt_number == nbb_cell_id) {\n",
       "                        if (nbb_cells[i].get_text() == nbb_unformatted_code) {\n",
       "                             nbb_cells[i].set_text(nbb_formatted_code);\n",
       "                        }\n",
       "                        break;\n",
       "                    }\n",
       "                }\n",
       "            }, 500);\n",
       "            "
      ],
      "text/plain": [
       "<IPython.core.display.Javascript object>"
      ]
     },
     "metadata": {},
     "output_type": "display_data"
    }
   ],
   "source": [
    "df[\"First_Name\"] = le.fit_transform(df[\"First_Name\"])"
   ]
  },
  {
   "cell_type": "code",
   "execution_count": 43,
   "id": "47aa8c6b",
   "metadata": {
    "ExecuteTime": {
     "end_time": "2022-06-12T10:55:21.309057Z",
     "start_time": "2022-06-12T10:55:21.301312Z"
    }
   },
   "outputs": [
    {
     "data": {
      "text/plain": [
       "Buckentry      19\n",
       "Belley         19\n",
       "Hinglendez     18\n",
       "Fowlesterez    18\n",
       "Casonston      18\n",
       "               ..\n",
       "Cabraseed       1\n",
       "Miste           1\n",
       "Imotive         1\n",
       "Gepie           1\n",
       "Replic          1\n",
       "Name: Last_Name, Length: 2406, dtype: int64"
      ]
     },
     "execution_count": 43,
     "metadata": {},
     "output_type": "execute_result"
    },
    {
     "data": {
      "application/javascript": [
       "\n",
       "            setTimeout(function() {\n",
       "                var nbb_cell_id = 43;\n",
       "                var nbb_unformatted_code = \"df[\\\"Last_Name\\\"].value_counts()\";\n",
       "                var nbb_formatted_code = \"df[\\\"Last_Name\\\"].value_counts()\";\n",
       "                var nbb_cells = Jupyter.notebook.get_cells();\n",
       "                for (var i = 0; i < nbb_cells.length; ++i) {\n",
       "                    if (nbb_cells[i].input_prompt_number == nbb_cell_id) {\n",
       "                        if (nbb_cells[i].get_text() == nbb_unformatted_code) {\n",
       "                             nbb_cells[i].set_text(nbb_formatted_code);\n",
       "                        }\n",
       "                        break;\n",
       "                    }\n",
       "                }\n",
       "            }, 500);\n",
       "            "
      ],
      "text/plain": [
       "<IPython.core.display.Javascript object>"
      ]
     },
     "metadata": {},
     "output_type": "display_data"
    }
   ],
   "source": [
    "df[\"Last_Name\"].value_counts()"
   ]
  },
  {
   "cell_type": "code",
   "execution_count": 44,
   "id": "a48cf79c",
   "metadata": {
    "ExecuteTime": {
     "end_time": "2022-06-12T10:55:21.317530Z",
     "start_time": "2022-06-12T10:55:21.310008Z"
    }
   },
   "outputs": [
    {
     "data": {
      "application/javascript": [
       "\n",
       "            setTimeout(function() {\n",
       "                var nbb_cell_id = 44;\n",
       "                var nbb_unformatted_code = \"df[\\\"Last_Name\\\"] = le.fit_transform(df[\\\"Last_Name\\\"])\";\n",
       "                var nbb_formatted_code = \"df[\\\"Last_Name\\\"] = le.fit_transform(df[\\\"Last_Name\\\"])\";\n",
       "                var nbb_cells = Jupyter.notebook.get_cells();\n",
       "                for (var i = 0; i < nbb_cells.length; ++i) {\n",
       "                    if (nbb_cells[i].input_prompt_number == nbb_cell_id) {\n",
       "                        if (nbb_cells[i].get_text() == nbb_unformatted_code) {\n",
       "                             nbb_cells[i].set_text(nbb_formatted_code);\n",
       "                        }\n",
       "                        break;\n",
       "                    }\n",
       "                }\n",
       "            }, 500);\n",
       "            "
      ],
      "text/plain": [
       "<IPython.core.display.Javascript object>"
      ]
     },
     "metadata": {},
     "output_type": "display_data"
    }
   ],
   "source": [
    "df[\"Last_Name\"] = le.fit_transform(df[\"Last_Name\"])"
   ]
  },
  {
   "cell_type": "code",
   "execution_count": 45,
   "id": "0176a747",
   "metadata": {
    "ExecuteTime": {
     "end_time": "2022-06-12T10:55:21.330470Z",
     "start_time": "2022-06-12T10:55:21.318416Z"
    }
   },
   "outputs": [
    {
     "data": {
      "application/javascript": [
       "\n",
       "            setTimeout(function() {\n",
       "                var nbb_cell_id = 45;\n",
       "                var nbb_unformatted_code = \"df.drop(\\\"Name\\\", axis=1, inplace=True)\";\n",
       "                var nbb_formatted_code = \"df.drop(\\\"Name\\\", axis=1, inplace=True)\";\n",
       "                var nbb_cells = Jupyter.notebook.get_cells();\n",
       "                for (var i = 0; i < nbb_cells.length; ++i) {\n",
       "                    if (nbb_cells[i].input_prompt_number == nbb_cell_id) {\n",
       "                        if (nbb_cells[i].get_text() == nbb_unformatted_code) {\n",
       "                             nbb_cells[i].set_text(nbb_formatted_code);\n",
       "                        }\n",
       "                        break;\n",
       "                    }\n",
       "                }\n",
       "            }, 500);\n",
       "            "
      ],
      "text/plain": [
       "<IPython.core.display.Javascript object>"
      ]
     },
     "metadata": {},
     "output_type": "display_data"
    }
   ],
   "source": [
    "df.drop(\"Name\", axis=1, inplace=True)"
   ]
  },
  {
   "cell_type": "markdown",
   "id": "1010a438",
   "metadata": {
    "ExecuteTime": {
     "end_time": "2022-06-12T10:38:29.396323Z",
     "start_time": "2022-06-12T10:38:29.392384Z"
    }
   },
   "source": [
    "# Подготовка выборок"
   ]
  },
  {
   "cell_type": "code",
   "execution_count": 46,
   "id": "940ad237",
   "metadata": {
    "ExecuteTime": {
     "end_time": "2022-06-12T10:55:21.347557Z",
     "start_time": "2022-06-12T10:55:21.331680Z"
    }
   },
   "outputs": [
    {
     "data": {
      "text/plain": [
       "((12970, 15), (12970, 1))"
      ]
     },
     "execution_count": 46,
     "metadata": {},
     "output_type": "execute_result"
    },
    {
     "data": {
      "application/javascript": [
       "\n",
       "            setTimeout(function() {\n",
       "                var nbb_cell_id = 46;\n",
       "                var nbb_unformatted_code = \"X = df.drop(\\\"Transported\\\", axis=1)\\ny = df[[\\\"Transported\\\"]].fillna(False).astype(int)\\n\\nX.shape, y.shape\";\n",
       "                var nbb_formatted_code = \"X = df.drop(\\\"Transported\\\", axis=1)\\ny = df[[\\\"Transported\\\"]].fillna(False).astype(int)\\n\\nX.shape, y.shape\";\n",
       "                var nbb_cells = Jupyter.notebook.get_cells();\n",
       "                for (var i = 0; i < nbb_cells.length; ++i) {\n",
       "                    if (nbb_cells[i].input_prompt_number == nbb_cell_id) {\n",
       "                        if (nbb_cells[i].get_text() == nbb_unformatted_code) {\n",
       "                             nbb_cells[i].set_text(nbb_formatted_code);\n",
       "                        }\n",
       "                        break;\n",
       "                    }\n",
       "                }\n",
       "            }, 500);\n",
       "            "
      ],
      "text/plain": [
       "<IPython.core.display.Javascript object>"
      ]
     },
     "metadata": {},
     "output_type": "display_data"
    }
   ],
   "source": [
    "X = df.drop(\"Transported\", axis=1)\n",
    "y = df[[\"Transported\"]].fillna(False).astype(int)\n",
    "\n",
    "X.shape, y.shape"
   ]
  },
  {
   "cell_type": "code",
   "execution_count": 47,
   "id": "693a9cf8",
   "metadata": {
    "ExecuteTime": {
     "end_time": "2022-06-12T10:55:21.364553Z",
     "start_time": "2022-06-12T10:55:21.348832Z"
    }
   },
   "outputs": [
    {
     "data": {
      "text/plain": [
       "((8693, 15), (8693, 1), (4277, 15))"
      ]
     },
     "execution_count": 47,
     "metadata": {},
     "output_type": "execute_result"
    },
    {
     "data": {
      "application/javascript": [
       "\n",
       "            setTimeout(function() {\n",
       "                var nbb_cell_id = 47;\n",
       "                var nbb_unformatted_code = \"X_test = X[X.index.isin(test_df.index)]\\n\\nX = X[X.index.isin(train_df.index)]\\ny = y[y.index.isin(train_df.index)]\\n\\nX.shape, y.shape, X_test.shape\";\n",
       "                var nbb_formatted_code = \"X_test = X[X.index.isin(test_df.index)]\\n\\nX = X[X.index.isin(train_df.index)]\\ny = y[y.index.isin(train_df.index)]\\n\\nX.shape, y.shape, X_test.shape\";\n",
       "                var nbb_cells = Jupyter.notebook.get_cells();\n",
       "                for (var i = 0; i < nbb_cells.length; ++i) {\n",
       "                    if (nbb_cells[i].input_prompt_number == nbb_cell_id) {\n",
       "                        if (nbb_cells[i].get_text() == nbb_unformatted_code) {\n",
       "                             nbb_cells[i].set_text(nbb_formatted_code);\n",
       "                        }\n",
       "                        break;\n",
       "                    }\n",
       "                }\n",
       "            }, 500);\n",
       "            "
      ],
      "text/plain": [
       "<IPython.core.display.Javascript object>"
      ]
     },
     "metadata": {},
     "output_type": "display_data"
    }
   ],
   "source": [
    "X_test = X[X.index.isin(test_df.index)]\n",
    "\n",
    "X = X[X.index.isin(train_df.index)]\n",
    "y = y[y.index.isin(train_df.index)]\n",
    "\n",
    "X.shape, y.shape, X_test.shape"
   ]
  },
  {
   "cell_type": "code",
   "execution_count": 48,
   "id": "cde5df27",
   "metadata": {
    "ExecuteTime": {
     "end_time": "2022-06-12T10:55:21.374174Z",
     "start_time": "2022-06-12T10:55:21.365300Z"
    }
   },
   "outputs": [
    {
     "data": {
      "text/plain": [
       "((8084, 15), (609, 15), (8084, 1), (609, 1))"
      ]
     },
     "execution_count": 48,
     "metadata": {},
     "output_type": "execute_result"
    },
    {
     "data": {
      "application/javascript": [
       "\n",
       "            setTimeout(function() {\n",
       "                var nbb_cell_id = 48;\n",
       "                var nbb_unformatted_code = \"X_train, X_true, y_train, y_true = train_test_split(\\n    X, y, test_size=0.07, random_state=42\\n)\\nX_train.shape, X_true.shape, y_train.shape, y_true.shape\";\n",
       "                var nbb_formatted_code = \"X_train, X_true, y_train, y_true = train_test_split(\\n    X, y, test_size=0.07, random_state=42\\n)\\nX_train.shape, X_true.shape, y_train.shape, y_true.shape\";\n",
       "                var nbb_cells = Jupyter.notebook.get_cells();\n",
       "                for (var i = 0; i < nbb_cells.length; ++i) {\n",
       "                    if (nbb_cells[i].input_prompt_number == nbb_cell_id) {\n",
       "                        if (nbb_cells[i].get_text() == nbb_unformatted_code) {\n",
       "                             nbb_cells[i].set_text(nbb_formatted_code);\n",
       "                        }\n",
       "                        break;\n",
       "                    }\n",
       "                }\n",
       "            }, 500);\n",
       "            "
      ],
      "text/plain": [
       "<IPython.core.display.Javascript object>"
      ]
     },
     "metadata": {},
     "output_type": "display_data"
    }
   ],
   "source": [
    "X_train, X_true, y_train, y_true = train_test_split(\n",
    "    X, y, test_size=0.07, random_state=42\n",
    ")\n",
    "X_train.shape, X_true.shape, y_train.shape, y_true.shape"
   ]
  },
  {
   "cell_type": "markdown",
   "id": "2885cba4",
   "metadata": {},
   "source": [
    "## Подбор гиперпараметров"
   ]
  },
  {
   "cell_type": "code",
   "execution_count": 49,
   "id": "76d774a3",
   "metadata": {
    "ExecuteTime": {
     "end_time": "2022-06-12T11:30:13.168795Z",
     "start_time": "2022-06-12T10:55:21.375179Z"
    }
   },
   "outputs": [
    {
     "data": {
      "application/vnd.jupyter.widget-view+json": {
       "model_id": "9c4afab6acd641ccb2b9006a43f57824",
       "version_major": 2,
       "version_minor": 0
      },
      "text/plain": [
       "MetricVisualizer(layout=Layout(align_self='stretch', height='500px'))"
      ]
     },
     "metadata": {},
     "output_type": "display_data"
    },
    {
     "data": {
      "application/javascript": [
       "\n",
       "            setTimeout(function() {\n",
       "                var nbb_cell_id = 49;\n",
       "                var nbb_unformatted_code = \"model = CatBoostClassifier(logging_level=\\\"Silent\\\")\\n\\n# https://effectiveml.com/using-grid-search-to-optimise-catboost-parameters.html\\ngrid_params = {\\n    \\\"depth\\\": [3, 1, 2, 6, 4, 5, 7, 8, 9, 10],\\n    \\\"iterations\\\": [250, 100, 500, 1000],\\n    \\\"learning_rate\\\": [0.03, 0.001, 0.01, 0.1, 0.2, 0.3],\\n    \\\"l2_leaf_reg\\\": [3, 1, 5, 10, 100],\\n}\\n\\ngrid_search_result = model.grid_search(\\n    grid_params, Pool(X, y), cv=3, verbose=False, plot=True\\n)\";\n",
       "                var nbb_formatted_code = \"model = CatBoostClassifier(logging_level=\\\"Silent\\\")\\n\\n# https://effectiveml.com/using-grid-search-to-optimise-catboost-parameters.html\\ngrid_params = {\\n    \\\"depth\\\": [3, 1, 2, 6, 4, 5, 7, 8, 9, 10],\\n    \\\"iterations\\\": [250, 100, 500, 1000],\\n    \\\"learning_rate\\\": [0.03, 0.001, 0.01, 0.1, 0.2, 0.3],\\n    \\\"l2_leaf_reg\\\": [3, 1, 5, 10, 100],\\n}\\n\\ngrid_search_result = model.grid_search(\\n    grid_params, Pool(X, y), cv=3, verbose=False, plot=True\\n)\";\n",
       "                var nbb_cells = Jupyter.notebook.get_cells();\n",
       "                for (var i = 0; i < nbb_cells.length; ++i) {\n",
       "                    if (nbb_cells[i].input_prompt_number == nbb_cell_id) {\n",
       "                        if (nbb_cells[i].get_text() == nbb_unformatted_code) {\n",
       "                             nbb_cells[i].set_text(nbb_formatted_code);\n",
       "                        }\n",
       "                        break;\n",
       "                    }\n",
       "                }\n",
       "            }, 500);\n",
       "            "
      ],
      "text/plain": [
       "<IPython.core.display.Javascript object>"
      ]
     },
     "metadata": {},
     "output_type": "display_data"
    }
   ],
   "source": [
    "model = CatBoostClassifier(logging_level=\"Silent\")\n",
    "\n",
    "# https://effectiveml.com/using-grid-search-to-optimise-catboost-parameters.html\n",
    "grid_params = {\n",
    "    \"depth\": [3, 1, 2, 6, 4, 5, 7, 8, 9, 10],\n",
    "    \"iterations\": [250, 100, 500, 1000],\n",
    "    \"learning_rate\": [0.03, 0.001, 0.01, 0.1, 0.2, 0.3],\n",
    "    \"l2_leaf_reg\": [3, 1, 5, 10, 100],\n",
    "}\n",
    "\n",
    "grid_search_result = model.grid_search(\n",
    "    grid_params, Pool(X, y), cv=3, verbose=False, plot=True\n",
    ")"
   ]
  },
  {
   "cell_type": "code",
   "execution_count": 50,
   "id": "d3639d6b",
   "metadata": {
    "ExecuteTime": {
     "end_time": "2022-06-12T11:30:13.174187Z",
     "start_time": "2022-06-12T11:30:13.169645Z"
    }
   },
   "outputs": [
    {
     "data": {
      "text/plain": [
       "{'depth': 6, 'l2_leaf_reg': 3, 'iterations': 500, 'learning_rate': 0.1}"
      ]
     },
     "execution_count": 50,
     "metadata": {},
     "output_type": "execute_result"
    },
    {
     "data": {
      "application/javascript": [
       "\n",
       "            setTimeout(function() {\n",
       "                var nbb_cell_id = 50;\n",
       "                var nbb_unformatted_code = \"best_model_params = grid_search_result[\\\"params\\\"]\\nbest_model_params\";\n",
       "                var nbb_formatted_code = \"best_model_params = grid_search_result[\\\"params\\\"]\\nbest_model_params\";\n",
       "                var nbb_cells = Jupyter.notebook.get_cells();\n",
       "                for (var i = 0; i < nbb_cells.length; ++i) {\n",
       "                    if (nbb_cells[i].input_prompt_number == nbb_cell_id) {\n",
       "                        if (nbb_cells[i].get_text() == nbb_unformatted_code) {\n",
       "                             nbb_cells[i].set_text(nbb_formatted_code);\n",
       "                        }\n",
       "                        break;\n",
       "                    }\n",
       "                }\n",
       "            }, 500);\n",
       "            "
      ],
      "text/plain": [
       "<IPython.core.display.Javascript object>"
      ]
     },
     "metadata": {},
     "output_type": "display_data"
    }
   ],
   "source": [
    "best_model_params = grid_search_result[\"params\"]\n",
    "best_model_params"
   ]
  },
  {
   "cell_type": "markdown",
   "id": "130fe4d1",
   "metadata": {},
   "source": [
    "## Обучение"
   ]
  },
  {
   "cell_type": "code",
   "execution_count": 51,
   "id": "7c605ed8",
   "metadata": {
    "ExecuteTime": {
     "end_time": "2022-06-12T11:30:13.179862Z",
     "start_time": "2022-06-12T11:30:13.175115Z"
    }
   },
   "outputs": [
    {
     "data": {
      "application/javascript": [
       "\n",
       "            setTimeout(function() {\n",
       "                var nbb_cell_id = 51;\n",
       "                var nbb_unformatted_code = \"skf = StratifiedKFold(n_splits=5)\";\n",
       "                var nbb_formatted_code = \"skf = StratifiedKFold(n_splits=5)\";\n",
       "                var nbb_cells = Jupyter.notebook.get_cells();\n",
       "                for (var i = 0; i < nbb_cells.length; ++i) {\n",
       "                    if (nbb_cells[i].input_prompt_number == nbb_cell_id) {\n",
       "                        if (nbb_cells[i].get_text() == nbb_unformatted_code) {\n",
       "                             nbb_cells[i].set_text(nbb_formatted_code);\n",
       "                        }\n",
       "                        break;\n",
       "                    }\n",
       "                }\n",
       "            }, 500);\n",
       "            "
      ],
      "text/plain": [
       "<IPython.core.display.Javascript object>"
      ]
     },
     "metadata": {},
     "output_type": "display_data"
    }
   ],
   "source": [
    "skf = StratifiedKFold(n_splits=5)"
   ]
  },
  {
   "cell_type": "code",
   "execution_count": 52,
   "id": "1079c443",
   "metadata": {
    "ExecuteTime": {
     "end_time": "2022-06-12T11:30:19.387552Z",
     "start_time": "2022-06-12T11:30:13.180908Z"
    }
   },
   "outputs": [
    {
     "name": "stdout",
     "output_type": "stream",
     "text": [
      "{'learn': {'Logloss': 0.1787927612977998}, 'validation': {'Logloss': 0.4397337077553385}}\n",
      "{'learn': {'Logloss': 0.18679608448173995}, 'validation': {'Logloss': 0.4231097509251857}}\n",
      "{'learn': {'Logloss': 0.1933121723327204}, 'validation': {'Logloss': 0.4095773765990272}}\n",
      "{'learn': {'Logloss': 0.2020050282650763}, 'validation': {'Logloss': 0.366081798668969}}\n",
      "{'learn': {'Logloss': 0.18639086565988378}, 'validation': {'Logloss': 0.40688985358670043}}\n"
     ]
    },
    {
     "data": {
      "application/javascript": [
       "\n",
       "            setTimeout(function() {\n",
       "                var nbb_cell_id = 52;\n",
       "                var nbb_unformatted_code = \"ensemble = []\\n\\nfor train_index, val_index in skf.split(X, y):\\n    X_sub_train, X_sub_valid = X.iloc[train_index], X.iloc[val_index]\\n    y_sub_train, y_sub_valid = y.iloc[train_index], y.iloc[val_index]\\n\\n    train_pool = Pool(X_sub_train, y_sub_train)\\n    valid_pool = Pool(X_sub_valid, y_sub_valid)\\n\\n    model = CatBoostClassifier(**best_model_params)\\n    model.fit(train_pool, eval_set=valid_pool, verbose=False)\\n\\n    ensemble.append(model)\\n    print(model.get_best_score())\";\n",
       "                var nbb_formatted_code = \"ensemble = []\\n\\nfor train_index, val_index in skf.split(X, y):\\n    X_sub_train, X_sub_valid = X.iloc[train_index], X.iloc[val_index]\\n    y_sub_train, y_sub_valid = y.iloc[train_index], y.iloc[val_index]\\n\\n    train_pool = Pool(X_sub_train, y_sub_train)\\n    valid_pool = Pool(X_sub_valid, y_sub_valid)\\n\\n    model = CatBoostClassifier(**best_model_params)\\n    model.fit(train_pool, eval_set=valid_pool, verbose=False)\\n\\n    ensemble.append(model)\\n    print(model.get_best_score())\";\n",
       "                var nbb_cells = Jupyter.notebook.get_cells();\n",
       "                for (var i = 0; i < nbb_cells.length; ++i) {\n",
       "                    if (nbb_cells[i].input_prompt_number == nbb_cell_id) {\n",
       "                        if (nbb_cells[i].get_text() == nbb_unformatted_code) {\n",
       "                             nbb_cells[i].set_text(nbb_formatted_code);\n",
       "                        }\n",
       "                        break;\n",
       "                    }\n",
       "                }\n",
       "            }, 500);\n",
       "            "
      ],
      "text/plain": [
       "<IPython.core.display.Javascript object>"
      ]
     },
     "metadata": {},
     "output_type": "display_data"
    }
   ],
   "source": [
    "ensemble = []\n",
    "\n",
    "for train_index, val_index in skf.split(X, y):\n",
    "    X_sub_train, X_sub_valid = X.iloc[train_index], X.iloc[val_index]\n",
    "    y_sub_train, y_sub_valid = y.iloc[train_index], y.iloc[val_index]\n",
    "\n",
    "    train_pool = Pool(X_sub_train, y_sub_train)\n",
    "    valid_pool = Pool(X_sub_valid, y_sub_valid)\n",
    "\n",
    "    model = CatBoostClassifier(**best_model_params)\n",
    "    model.fit(train_pool, eval_set=valid_pool, verbose=False)\n",
    "\n",
    "    ensemble.append(model)\n",
    "    print(model.get_best_score())"
   ]
  },
  {
   "cell_type": "code",
   "execution_count": 53,
   "id": "c630852c",
   "metadata": {
    "ExecuteTime": {
     "end_time": "2022-06-12T11:30:19.394898Z",
     "start_time": "2022-06-12T11:30:19.388416Z"
    }
   },
   "outputs": [
    {
     "data": {
      "application/javascript": [
       "\n",
       "            setTimeout(function() {\n",
       "                var nbb_cell_id = 53;\n",
       "                var nbb_unformatted_code = \"models_avrg = sum_models(ensemble, weights=[1.0 / len(ensemble)] * len(ensemble))\\nmodels_avrg = to_classifier(models_avrg)\";\n",
       "                var nbb_formatted_code = \"models_avrg = sum_models(ensemble, weights=[1.0 / len(ensemble)] * len(ensemble))\\nmodels_avrg = to_classifier(models_avrg)\";\n",
       "                var nbb_cells = Jupyter.notebook.get_cells();\n",
       "                for (var i = 0; i < nbb_cells.length; ++i) {\n",
       "                    if (nbb_cells[i].input_prompt_number == nbb_cell_id) {\n",
       "                        if (nbb_cells[i].get_text() == nbb_unformatted_code) {\n",
       "                             nbb_cells[i].set_text(nbb_formatted_code);\n",
       "                        }\n",
       "                        break;\n",
       "                    }\n",
       "                }\n",
       "            }, 500);\n",
       "            "
      ],
      "text/plain": [
       "<IPython.core.display.Javascript object>"
      ]
     },
     "metadata": {},
     "output_type": "display_data"
    }
   ],
   "source": [
    "models_avrg = sum_models(ensemble, weights=[1.0 / len(ensemble)] * len(ensemble))\n",
    "models_avrg = to_classifier(models_avrg)"
   ]
  },
  {
   "cell_type": "markdown",
   "id": "f222468c",
   "metadata": {},
   "source": [
    "# Проверка и сохранение результатов"
   ]
  },
  {
   "cell_type": "code",
   "execution_count": 54,
   "id": "843a9be5",
   "metadata": {
    "ExecuteTime": {
     "end_time": "2022-06-12T11:30:19.403562Z",
     "start_time": "2022-06-12T11:30:19.395771Z"
    }
   },
   "outputs": [
    {
     "data": {
      "text/plain": [
       "array([0, 1, 1, 0, 1, 1, 0, 0, 0, 0, 0, 1, 1, 0, 0, 1, 1, 0, 1, 0, 0, 1,\n",
       "       1, 0, 1, 1, 0, 0, 1, 0, 1, 0, 1, 0, 0, 1, 0, 1, 1, 1, 0, 1, 1, 0,\n",
       "       1, 1, 1, 1, 1, 1, 1, 1, 0, 1, 1, 0, 0, 0, 0, 0, 1, 1, 0, 1, 0, 1,\n",
       "       0, 1, 1, 0, 0, 1, 1, 0, 1, 1, 1, 0, 1, 1, 0, 1, 0, 0, 1, 1, 0, 1,\n",
       "       1, 1, 0, 1, 0, 1, 1, 1, 1, 0, 0, 0, 0, 1, 0, 0, 1, 1, 0, 1, 1, 0,\n",
       "       0, 1, 0, 1, 1, 0, 1, 1, 0, 1, 0, 0, 1, 1, 1, 0, 0, 1, 1, 0, 1, 0,\n",
       "       1, 0, 1, 0, 1, 1, 1, 0, 1, 0, 1, 0, 0, 0, 1, 1, 1, 1, 0, 0, 1, 1,\n",
       "       0, 0, 0, 1, 1, 0, 0, 0, 1, 1, 1, 0, 1, 1, 1, 1, 1, 0, 1, 1, 1, 1,\n",
       "       1, 1, 0, 1, 1, 1, 0, 0, 0, 1, 1, 1, 0, 0, 0, 1, 1, 1, 0, 1, 0, 1,\n",
       "       1, 0, 1, 1, 1, 1, 1, 1, 1, 1, 1, 0, 0, 0, 0, 1, 1, 0, 1, 1, 0, 0,\n",
       "       0, 1, 1, 1, 1, 0, 0, 1, 0, 1, 1, 1, 1, 1, 1, 0, 0, 0, 1, 0, 1, 0,\n",
       "       1, 0, 0, 0, 1, 0, 0, 0, 0, 0, 1, 0, 1, 0, 1, 1, 0, 0, 1, 1, 1, 0,\n",
       "       0, 1, 0, 1, 0, 0, 1, 0, 0, 1, 0, 0, 0, 1, 1, 0, 1, 1, 0, 0, 1, 0,\n",
       "       0, 1, 0, 1, 0, 0, 0, 1, 1, 1, 0, 1, 0, 1, 1, 1, 1, 0, 0, 1, 1, 1,\n",
       "       0, 1, 0, 1, 1, 0, 1, 1, 1, 0, 1, 0, 1, 1, 0, 1, 0, 1, 1, 1, 0, 0,\n",
       "       1, 1, 0, 0, 1, 0, 1, 1, 0, 1, 0, 1, 1, 0, 0, 0, 1, 1, 0, 0, 1, 0,\n",
       "       1, 1, 0, 0, 1, 0, 1, 0, 0, 0, 1, 1, 1, 0, 1, 0, 0, 1, 1, 0, 0, 0,\n",
       "       0, 1, 0, 1, 0, 0, 0, 0, 1, 0, 1, 0, 1, 1, 1, 0, 1, 1, 0, 1, 0, 1,\n",
       "       0, 1, 0, 1, 1, 1, 0, 1, 1, 0, 0, 1, 1, 1, 1, 1, 1, 1, 1, 0, 0, 0,\n",
       "       1, 0, 1, 0, 0, 0, 0, 1, 1, 1, 0, 0, 1, 0, 0, 1, 0, 1, 1, 0, 1, 1,\n",
       "       1, 1, 1, 1, 1, 1, 1, 1, 1, 1, 0, 0, 0, 1, 0, 0, 0, 0, 0, 0, 1, 1,\n",
       "       1, 0, 1, 1, 1, 1, 1, 1, 0, 1, 0, 1, 0, 1, 1, 0, 0, 1, 1, 0, 1, 1,\n",
       "       1, 1, 1, 0, 1, 0, 1, 0, 1, 0, 0, 1, 1, 0, 1, 1, 1, 0, 0, 1, 1, 0,\n",
       "       0, 1, 0, 1, 0, 1, 0, 1, 0, 1, 1, 1, 1, 0, 0, 0, 1, 0, 0, 1, 0, 1,\n",
       "       0, 0, 1, 1, 1, 0, 1, 0, 0, 1, 0, 1, 0, 1, 1, 1, 1, 1, 0, 0, 0, 0,\n",
       "       0, 0, 1, 1, 0, 1, 1, 1, 0, 1, 1, 1, 0, 0, 1, 1, 1, 0, 0, 1, 1, 1,\n",
       "       0, 0, 1, 0, 0, 0, 0, 1, 0, 1, 1, 1, 1, 0, 0, 1, 1, 0, 1, 1, 0, 1,\n",
       "       0, 1, 1, 1, 0, 0, 1, 0, 1, 0, 1, 1, 1, 0, 0])"
      ]
     },
     "execution_count": 54,
     "metadata": {},
     "output_type": "execute_result"
    },
    {
     "data": {
      "application/javascript": [
       "\n",
       "            setTimeout(function() {\n",
       "                var nbb_cell_id = 54;\n",
       "                var nbb_unformatted_code = \"y_pred = models_avrg.predict(X_true)\\ny_pred\";\n",
       "                var nbb_formatted_code = \"y_pred = models_avrg.predict(X_true)\\ny_pred\";\n",
       "                var nbb_cells = Jupyter.notebook.get_cells();\n",
       "                for (var i = 0; i < nbb_cells.length; ++i) {\n",
       "                    if (nbb_cells[i].input_prompt_number == nbb_cell_id) {\n",
       "                        if (nbb_cells[i].get_text() == nbb_unformatted_code) {\n",
       "                             nbb_cells[i].set_text(nbb_formatted_code);\n",
       "                        }\n",
       "                        break;\n",
       "                    }\n",
       "                }\n",
       "            }, 500);\n",
       "            "
      ],
      "text/plain": [
       "<IPython.core.display.Javascript object>"
      ]
     },
     "metadata": {},
     "output_type": "display_data"
    }
   ],
   "source": [
    "y_pred = models_avrg.predict(X_true)\n",
    "y_pred"
   ]
  },
  {
   "cell_type": "code",
   "execution_count": 55,
   "id": "60057e0e",
   "metadata": {
    "ExecuteTime": {
     "end_time": "2022-06-12T11:30:19.410507Z",
     "start_time": "2022-06-12T11:30:19.404749Z"
    }
   },
   "outputs": [
    {
     "data": {
      "text/plain": [
       "0.8045977011494253"
      ]
     },
     "execution_count": 55,
     "metadata": {},
     "output_type": "execute_result"
    },
    {
     "data": {
      "application/javascript": [
       "\n",
       "            setTimeout(function() {\n",
       "                var nbb_cell_id = 55;\n",
       "                var nbb_unformatted_code = \"accuracy_score(y_true, y_pred)\";\n",
       "                var nbb_formatted_code = \"accuracy_score(y_true, y_pred)\";\n",
       "                var nbb_cells = Jupyter.notebook.get_cells();\n",
       "                for (var i = 0; i < nbb_cells.length; ++i) {\n",
       "                    if (nbb_cells[i].input_prompt_number == nbb_cell_id) {\n",
       "                        if (nbb_cells[i].get_text() == nbb_unformatted_code) {\n",
       "                             nbb_cells[i].set_text(nbb_formatted_code);\n",
       "                        }\n",
       "                        break;\n",
       "                    }\n",
       "                }\n",
       "            }, 500);\n",
       "            "
      ],
      "text/plain": [
       "<IPython.core.display.Javascript object>"
      ]
     },
     "metadata": {},
     "output_type": "display_data"
    }
   ],
   "source": [
    "accuracy_score(y_true, y_pred)"
   ]
  },
  {
   "cell_type": "code",
   "execution_count": 56,
   "id": "4d047e45",
   "metadata": {
    "ExecuteTime": {
     "end_time": "2022-06-12T11:30:19.425631Z",
     "start_time": "2022-06-12T11:30:19.411261Z"
    }
   },
   "outputs": [
    {
     "data": {
      "text/html": [
       "<div>\n",
       "<style scoped>\n",
       "    .dataframe tbody tr th:only-of-type {\n",
       "        vertical-align: middle;\n",
       "    }\n",
       "\n",
       "    .dataframe tbody tr th {\n",
       "        vertical-align: top;\n",
       "    }\n",
       "\n",
       "    .dataframe thead th {\n",
       "        text-align: right;\n",
       "    }\n",
       "</style>\n",
       "<table border=\"1\" class=\"dataframe\">\n",
       "  <thead>\n",
       "    <tr style=\"text-align: right;\">\n",
       "      <th></th>\n",
       "      <th>Transported</th>\n",
       "    </tr>\n",
       "    <tr>\n",
       "      <th>PassengerId</th>\n",
       "      <th></th>\n",
       "    </tr>\n",
       "  </thead>\n",
       "  <tbody>\n",
       "    <tr>\n",
       "      <th>0013_01</th>\n",
       "      <td>True</td>\n",
       "    </tr>\n",
       "    <tr>\n",
       "      <th>0018_01</th>\n",
       "      <td>False</td>\n",
       "    </tr>\n",
       "    <tr>\n",
       "      <th>0019_01</th>\n",
       "      <td>True</td>\n",
       "    </tr>\n",
       "    <tr>\n",
       "      <th>0021_01</th>\n",
       "      <td>True</td>\n",
       "    </tr>\n",
       "    <tr>\n",
       "      <th>0023_01</th>\n",
       "      <td>True</td>\n",
       "    </tr>\n",
       "    <tr>\n",
       "      <th>...</th>\n",
       "      <td>...</td>\n",
       "    </tr>\n",
       "    <tr>\n",
       "      <th>9266_02</th>\n",
       "      <td>True</td>\n",
       "    </tr>\n",
       "    <tr>\n",
       "      <th>9269_01</th>\n",
       "      <td>False</td>\n",
       "    </tr>\n",
       "    <tr>\n",
       "      <th>9271_01</th>\n",
       "      <td>True</td>\n",
       "    </tr>\n",
       "    <tr>\n",
       "      <th>9273_01</th>\n",
       "      <td>True</td>\n",
       "    </tr>\n",
       "    <tr>\n",
       "      <th>9277_01</th>\n",
       "      <td>True</td>\n",
       "    </tr>\n",
       "  </tbody>\n",
       "</table>\n",
       "<p>4277 rows × 1 columns</p>\n",
       "</div>"
      ],
      "text/plain": [
       "             Transported\n",
       "PassengerId             \n",
       "0013_01             True\n",
       "0018_01            False\n",
       "0019_01             True\n",
       "0021_01             True\n",
       "0023_01             True\n",
       "...                  ...\n",
       "9266_02             True\n",
       "9269_01            False\n",
       "9271_01             True\n",
       "9273_01             True\n",
       "9277_01             True\n",
       "\n",
       "[4277 rows x 1 columns]"
      ]
     },
     "execution_count": 56,
     "metadata": {},
     "output_type": "execute_result"
    },
    {
     "data": {
      "application/javascript": [
       "\n",
       "            setTimeout(function() {\n",
       "                var nbb_cell_id = 56;\n",
       "                var nbb_unformatted_code = \"submission = pd.DataFrame(\\n    {\\n        \\\"PassengerId\\\": X_test.index,\\n        \\\"Transported\\\": models_avrg.predict(X_test).astype(bool),\\n    }\\n).set_index(\\\"PassengerId\\\")\\nsubmission\";\n",
       "                var nbb_formatted_code = \"submission = pd.DataFrame(\\n    {\\n        \\\"PassengerId\\\": X_test.index,\\n        \\\"Transported\\\": models_avrg.predict(X_test).astype(bool),\\n    }\\n).set_index(\\\"PassengerId\\\")\\nsubmission\";\n",
       "                var nbb_cells = Jupyter.notebook.get_cells();\n",
       "                for (var i = 0; i < nbb_cells.length; ++i) {\n",
       "                    if (nbb_cells[i].input_prompt_number == nbb_cell_id) {\n",
       "                        if (nbb_cells[i].get_text() == nbb_unformatted_code) {\n",
       "                             nbb_cells[i].set_text(nbb_formatted_code);\n",
       "                        }\n",
       "                        break;\n",
       "                    }\n",
       "                }\n",
       "            }, 500);\n",
       "            "
      ],
      "text/plain": [
       "<IPython.core.display.Javascript object>"
      ]
     },
     "metadata": {},
     "output_type": "display_data"
    }
   ],
   "source": [
    "submission = pd.DataFrame(\n",
    "    {\n",
    "        \"PassengerId\": X_test.index,\n",
    "        \"Transported\": models_avrg.predict(X_test).astype(bool),\n",
    "    }\n",
    ").set_index(\"PassengerId\")\n",
    "submission"
   ]
  },
  {
   "cell_type": "code",
   "execution_count": 57,
   "id": "31748cdb",
   "metadata": {
    "ExecuteTime": {
     "end_time": "2022-06-12T11:31:04.926135Z",
     "start_time": "2022-06-12T11:31:04.901900Z"
    }
   },
   "outputs": [
    {
     "data": {
      "application/javascript": [
       "\n",
       "            setTimeout(function() {\n",
       "                var nbb_cell_id = 57;\n",
       "                var nbb_unformatted_code = \"submission.to_csv('../data/spaceship-titanic/submission.csv')\";\n",
       "                var nbb_formatted_code = \"submission.to_csv(\\\"../data/spaceship-titanic/submission.csv\\\")\";\n",
       "                var nbb_cells = Jupyter.notebook.get_cells();\n",
       "                for (var i = 0; i < nbb_cells.length; ++i) {\n",
       "                    if (nbb_cells[i].input_prompt_number == nbb_cell_id) {\n",
       "                        if (nbb_cells[i].get_text() == nbb_unformatted_code) {\n",
       "                             nbb_cells[i].set_text(nbb_formatted_code);\n",
       "                        }\n",
       "                        break;\n",
       "                    }\n",
       "                }\n",
       "            }, 500);\n",
       "            "
      ],
      "text/plain": [
       "<IPython.core.display.Javascript object>"
      ]
     },
     "metadata": {},
     "output_type": "display_data"
    }
   ],
   "source": [
    "submission.to_csv(\"../data/spaceship-titanic/submission.csv\")"
   ]
  },
  {
   "cell_type": "code",
   "execution_count": null,
   "id": "48e1ea41",
   "metadata": {},
   "outputs": [],
   "source": []
  },
  {
   "cell_type": "code",
   "execution_count": null,
   "id": "ae9ce08d",
   "metadata": {},
   "outputs": [],
   "source": []
  }
 ],
 "metadata": {
  "kernelspec": {
   "display_name": "Python 3 (ipykernel)",
   "language": "python",
   "name": "python3"
  },
  "language_info": {
   "codemirror_mode": {
    "name": "ipython",
    "version": 3
   },
   "file_extension": ".py",
   "mimetype": "text/x-python",
   "name": "python",
   "nbconvert_exporter": "python",
   "pygments_lexer": "ipython3",
   "version": "3.9.12"
  }
 },
 "nbformat": 4,
 "nbformat_minor": 5
}
