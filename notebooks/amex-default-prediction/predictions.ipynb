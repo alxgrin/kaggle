{
 "cells": [
  {
   "cell_type": "markdown",
   "id": "5eee2c9f",
   "metadata": {},
   "source": [
    "# Predictions"
   ]
  },
  {
   "cell_type": "code",
   "execution_count": 1,
   "id": "cf1b525b",
   "metadata": {
    "ExecuteTime": {
     "end_time": "2022-09-03T09:29:16.892477Z",
     "start_time": "2022-09-03T09:29:16.590650Z"
    }
   },
   "outputs": [],
   "source": [
    "import os\n",
    "\n",
    "import numpy as np\n",
    "import pandas as pd\n",
    "from catboost import CatBoostClassifier\n",
    "from tqdm.notebook import tqdm"
   ]
  },
  {
   "cell_type": "code",
   "execution_count": 2,
   "id": "d0a1235c",
   "metadata": {
    "ExecuteTime": {
     "end_time": "2022-09-03T09:29:17.004291Z",
     "start_time": "2022-09-03T09:29:16.894090Z"
    }
   },
   "outputs": [
    {
     "data": {
      "application/javascript": [
       "\n",
       "            setTimeout(function() {\n",
       "                var nbb_cell_id = 2;\n",
       "                var nbb_unformatted_code = \"%load_ext nb_black\";\n",
       "                var nbb_formatted_code = \"%load_ext nb_black\";\n",
       "                var nbb_cells = Jupyter.notebook.get_cells();\n",
       "                for (var i = 0; i < nbb_cells.length; ++i) {\n",
       "                    if (nbb_cells[i].input_prompt_number == nbb_cell_id) {\n",
       "                        if (nbb_cells[i].get_text() == nbb_unformatted_code) {\n",
       "                             nbb_cells[i].set_text(nbb_formatted_code);\n",
       "                        }\n",
       "                        break;\n",
       "                    }\n",
       "                }\n",
       "            }, 500);\n",
       "            "
      ],
      "text/plain": [
       "<IPython.core.display.Javascript object>"
      ]
     },
     "metadata": {},
     "output_type": "display_data"
    }
   ],
   "source": [
    "%load_ext nb_black"
   ]
  },
  {
   "cell_type": "code",
   "execution_count": 3,
   "id": "a5824c92",
   "metadata": {
    "ExecuteTime": {
     "end_time": "2022-09-03T09:29:17.733371Z",
     "start_time": "2022-09-03T09:29:17.005929Z"
    }
   },
   "outputs": [
    {
     "data": {
      "text/html": [
       "<div>\n",
       "<style scoped>\n",
       "    .dataframe tbody tr th:only-of-type {\n",
       "        vertical-align: middle;\n",
       "    }\n",
       "\n",
       "    .dataframe tbody tr th {\n",
       "        vertical-align: top;\n",
       "    }\n",
       "\n",
       "    .dataframe thead th {\n",
       "        text-align: right;\n",
       "    }\n",
       "</style>\n",
       "<table border=\"1\" class=\"dataframe\">\n",
       "  <thead>\n",
       "    <tr style=\"text-align: right;\">\n",
       "      <th></th>\n",
       "      <th>prediction</th>\n",
       "    </tr>\n",
       "    <tr>\n",
       "      <th>customer_ID</th>\n",
       "      <th></th>\n",
       "    </tr>\n",
       "  </thead>\n",
       "  <tbody>\n",
       "    <tr>\n",
       "      <th>00000469ba478561f23a92a868bd366de6f6527a684c9a2e78fb826dcac3b9b7</th>\n",
       "      <td>0</td>\n",
       "    </tr>\n",
       "    <tr>\n",
       "      <th>00001bf2e77ff879fab36aa4fac689b9ba411dae63ae397d4263dafa1daedef5</th>\n",
       "      <td>0</td>\n",
       "    </tr>\n",
       "    <tr>\n",
       "      <th>0000210045da4f81e5f122c6bde5c2a617d03eef67f82c5e400fc98e7bd43ce8</th>\n",
       "      <td>0</td>\n",
       "    </tr>\n",
       "    <tr>\n",
       "      <th>00003b41e58ede33b8daf61ab56d9952f17c9ad1c3976cf6e56734528702d694</th>\n",
       "      <td>0</td>\n",
       "    </tr>\n",
       "    <tr>\n",
       "      <th>00004b22eaeeeb0ec976890c1d9bfc14fd9427e98c4ee9a4693dd914fca22557</th>\n",
       "      <td>0</td>\n",
       "    </tr>\n",
       "    <tr>\n",
       "      <th>...</th>\n",
       "      <td>...</td>\n",
       "    </tr>\n",
       "    <tr>\n",
       "      <th>ffff952c631f2c911b8a2a8ca56ea6e656309a83d2f64c5d60460dba6dedc41e</th>\n",
       "      <td>0</td>\n",
       "    </tr>\n",
       "    <tr>\n",
       "      <th>ffffcf5df59e5e0bba2a5ac4578a34e2b5aa64a1546cd3a4f0ca3de613b0b2ad</th>\n",
       "      <td>0</td>\n",
       "    </tr>\n",
       "    <tr>\n",
       "      <th>ffffd61f098cc056dbd7d2a21380c4804bbfe60856f475cb095d2443a68030f1</th>\n",
       "      <td>0</td>\n",
       "    </tr>\n",
       "    <tr>\n",
       "      <th>ffffddef1fc3643ea179c93245b68dca0f36941cd83977822e8b356988ca4d07</th>\n",
       "      <td>0</td>\n",
       "    </tr>\n",
       "    <tr>\n",
       "      <th>fffffa7cf7e453e1acc6a1426475d5cb9400859f82ff61cceb803ea8ec37634d</th>\n",
       "      <td>0</td>\n",
       "    </tr>\n",
       "  </tbody>\n",
       "</table>\n",
       "<p>924621 rows × 1 columns</p>\n",
       "</div>"
      ],
      "text/plain": [
       "                                                    prediction\n",
       "customer_ID                                                   \n",
       "00000469ba478561f23a92a868bd366de6f6527a684c9a2...           0\n",
       "00001bf2e77ff879fab36aa4fac689b9ba411dae63ae397...           0\n",
       "0000210045da4f81e5f122c6bde5c2a617d03eef67f82c5...           0\n",
       "00003b41e58ede33b8daf61ab56d9952f17c9ad1c3976cf...           0\n",
       "00004b22eaeeeb0ec976890c1d9bfc14fd9427e98c4ee9a...           0\n",
       "...                                                        ...\n",
       "ffff952c631f2c911b8a2a8ca56ea6e656309a83d2f64c5...           0\n",
       "ffffcf5df59e5e0bba2a5ac4578a34e2b5aa64a1546cd3a...           0\n",
       "ffffd61f098cc056dbd7d2a21380c4804bbfe60856f475c...           0\n",
       "ffffddef1fc3643ea179c93245b68dca0f36941cd839778...           0\n",
       "fffffa7cf7e453e1acc6a1426475d5cb9400859f82ff61c...           0\n",
       "\n",
       "[924621 rows x 1 columns]"
      ]
     },
     "execution_count": 3,
     "metadata": {},
     "output_type": "execute_result"
    },
    {
     "data": {
      "application/javascript": [
       "\n",
       "            setTimeout(function() {\n",
       "                var nbb_cell_id = 3;\n",
       "                var nbb_unformatted_code = \"sample_submission_df = pd.read_csv(\\n    \\\"../../data/amex-default-prediction/sample_submission.csv\\\"\\n).set_index(\\\"customer_ID\\\")\\nsample_submission_df\";\n",
       "                var nbb_formatted_code = \"sample_submission_df = pd.read_csv(\\n    \\\"../../data/amex-default-prediction/sample_submission.csv\\\"\\n).set_index(\\\"customer_ID\\\")\\nsample_submission_df\";\n",
       "                var nbb_cells = Jupyter.notebook.get_cells();\n",
       "                for (var i = 0; i < nbb_cells.length; ++i) {\n",
       "                    if (nbb_cells[i].input_prompt_number == nbb_cell_id) {\n",
       "                        if (nbb_cells[i].get_text() == nbb_unformatted_code) {\n",
       "                             nbb_cells[i].set_text(nbb_formatted_code);\n",
       "                        }\n",
       "                        break;\n",
       "                    }\n",
       "                }\n",
       "            }, 500);\n",
       "            "
      ],
      "text/plain": [
       "<IPython.core.display.Javascript object>"
      ]
     },
     "metadata": {},
     "output_type": "display_data"
    }
   ],
   "source": [
    "sample_submission_df = pd.read_csv(\n",
    "    \"../../data/amex-default-prediction/sample_submission.csv\"\n",
    ").set_index(\"customer_ID\")\n",
    "sample_submission_df"
   ]
  },
  {
   "cell_type": "code",
   "execution_count": 4,
   "id": "3ea7d700",
   "metadata": {
    "ExecuteTime": {
     "end_time": "2022-09-03T09:29:17.739966Z",
     "start_time": "2022-09-03T09:29:17.735604Z"
    }
   },
   "outputs": [
    {
     "data": {
      "application/javascript": [
       "\n",
       "            setTimeout(function() {\n",
       "                var nbb_cell_id = 4;\n",
       "                var nbb_unformatted_code = \"DATA_DIR = \\\"../../data/amex-default-prediction/test\\\"\";\n",
       "                var nbb_formatted_code = \"DATA_DIR = \\\"../../data/amex-default-prediction/test\\\"\";\n",
       "                var nbb_cells = Jupyter.notebook.get_cells();\n",
       "                for (var i = 0; i < nbb_cells.length; ++i) {\n",
       "                    if (nbb_cells[i].input_prompt_number == nbb_cell_id) {\n",
       "                        if (nbb_cells[i].get_text() == nbb_unformatted_code) {\n",
       "                             nbb_cells[i].set_text(nbb_formatted_code);\n",
       "                        }\n",
       "                        break;\n",
       "                    }\n",
       "                }\n",
       "            }, 500);\n",
       "            "
      ],
      "text/plain": [
       "<IPython.core.display.Javascript object>"
      ]
     },
     "metadata": {},
     "output_type": "display_data"
    }
   ],
   "source": [
    "DATA_DIR = \"../../data/amex-default-prediction/test\""
   ]
  },
  {
   "cell_type": "code",
   "execution_count": 5,
   "id": "d68d125c",
   "metadata": {
    "ExecuteTime": {
     "end_time": "2022-09-03T09:29:17.879365Z",
     "start_time": "2022-09-03T09:29:17.741358Z"
    }
   },
   "outputs": [
    {
     "name": "stdout",
     "output_type": "stream",
     "text": [
      "test_group_data_10.csv\ttest_group_data_1.csv\ttest_group_data_29.csv\r\n",
      "test_group_data_11.csv\ttest_group_data_20.csv\ttest_group_data_2.csv\r\n",
      "test_group_data_12.csv\ttest_group_data_21.csv\ttest_group_data_30.csv\r\n",
      "test_group_data_13.csv\ttest_group_data_22.csv\ttest_group_data_3.csv\r\n",
      "test_group_data_14.csv\ttest_group_data_23.csv\ttest_group_data_4.csv\r\n",
      "test_group_data_15.csv\ttest_group_data_24.csv\ttest_group_data_5.csv\r\n",
      "test_group_data_16.csv\ttest_group_data_25.csv\ttest_group_data_6.csv\r\n",
      "test_group_data_17.csv\ttest_group_data_26.csv\ttest_group_data_7.csv\r\n",
      "test_group_data_18.csv\ttest_group_data_27.csv\ttest_group_data_8.csv\r\n",
      "test_group_data_19.csv\ttest_group_data_28.csv\ttest_group_data_9.csv\r\n"
     ]
    },
    {
     "data": {
      "application/javascript": [
       "\n",
       "            setTimeout(function() {\n",
       "                var nbb_cell_id = 5;\n",
       "                var nbb_unformatted_code = \"!ls $DATA_DIR\";\n",
       "                var nbb_formatted_code = \"!ls $DATA_DIR\";\n",
       "                var nbb_cells = Jupyter.notebook.get_cells();\n",
       "                for (var i = 0; i < nbb_cells.length; ++i) {\n",
       "                    if (nbb_cells[i].input_prompt_number == nbb_cell_id) {\n",
       "                        if (nbb_cells[i].get_text() == nbb_unformatted_code) {\n",
       "                             nbb_cells[i].set_text(nbb_formatted_code);\n",
       "                        }\n",
       "                        break;\n",
       "                    }\n",
       "                }\n",
       "            }, 500);\n",
       "            "
      ],
      "text/plain": [
       "<IPython.core.display.Javascript object>"
      ]
     },
     "metadata": {},
     "output_type": "display_data"
    }
   ],
   "source": [
    "!ls $DATA_DIR"
   ]
  },
  {
   "cell_type": "code",
   "execution_count": 6,
   "id": "1d739f00",
   "metadata": {
    "ExecuteTime": {
     "end_time": "2022-09-03T09:29:17.890960Z",
     "start_time": "2022-09-03T09:29:17.881066Z"
    }
   },
   "outputs": [
    {
     "data": {
      "application/javascript": [
       "\n",
       "            setTimeout(function() {\n",
       "                var nbb_cell_id = 6;\n",
       "                var nbb_unformatted_code = \"def do_work(step, file_name, model):\\n    X_test = pd.read_csv(os.path.join(DATA_DIR, file_name)).set_index(\\\"customer_ID\\\")\\n\\n    return pd.DataFrame(\\n        {\\n            \\\"customer_ID\\\": X_test.index,\\n            \\\"prediction\\\": model.predict_proba(X_test)[:, 1],\\n        }\\n    ).set_index(\\\"customer_ID\\\")\";\n",
       "                var nbb_formatted_code = \"def do_work(step, file_name, model):\\n    X_test = pd.read_csv(os.path.join(DATA_DIR, file_name)).set_index(\\\"customer_ID\\\")\\n\\n    return pd.DataFrame(\\n        {\\n            \\\"customer_ID\\\": X_test.index,\\n            \\\"prediction\\\": model.predict_proba(X_test)[:, 1],\\n        }\\n    ).set_index(\\\"customer_ID\\\")\";\n",
       "                var nbb_cells = Jupyter.notebook.get_cells();\n",
       "                for (var i = 0; i < nbb_cells.length; ++i) {\n",
       "                    if (nbb_cells[i].input_prompt_number == nbb_cell_id) {\n",
       "                        if (nbb_cells[i].get_text() == nbb_unformatted_code) {\n",
       "                             nbb_cells[i].set_text(nbb_formatted_code);\n",
       "                        }\n",
       "                        break;\n",
       "                    }\n",
       "                }\n",
       "            }, 500);\n",
       "            "
      ],
      "text/plain": [
       "<IPython.core.display.Javascript object>"
      ]
     },
     "metadata": {},
     "output_type": "display_data"
    }
   ],
   "source": [
    "def do_work(step, file_name, model):\n",
    "    X_test = pd.read_csv(os.path.join(DATA_DIR, file_name)).set_index(\"customer_ID\")\n",
    "\n",
    "    return pd.DataFrame(\n",
    "        {\n",
    "            \"customer_ID\": X_test.index,\n",
    "            \"prediction\": model.predict_proba(X_test)[:, 1],\n",
    "        }\n",
    "    ).set_index(\"customer_ID\")"
   ]
  },
  {
   "cell_type": "code",
   "execution_count": 7,
   "id": "52c5021d",
   "metadata": {
    "ExecuteTime": {
     "end_time": "2022-09-03T09:29:41.665089Z",
     "start_time": "2022-09-03T09:29:17.892507Z"
    }
   },
   "outputs": [
    {
     "data": {
      "application/vnd.jupyter.widget-view+json": {
       "model_id": "2f40a10510f044acbff40f423ddb8bd7",
       "version_major": 2,
       "version_minor": 0
      },
      "text/plain": [
       "  0%|          | 0/30 [00:00<?, ?it/s]"
      ]
     },
     "metadata": {},
     "output_type": "display_data"
    },
    {
     "data": {
      "application/javascript": [
       "\n",
       "            setTimeout(function() {\n",
       "                var nbb_cell_id = 7;\n",
       "                var nbb_unformatted_code = \"model = CatBoostClassifier()\\n\\nmodel_path = os.path.join(os.path.dirname(DATA_DIR), \\\"models\\\", \\\"catboost-model_v1.cbm\\\")\\nmodel.load_model(model_path)\\n\\npreds = []\\n\\nfor step, file_name in enumerate(tqdm(os.listdir(DATA_DIR)), 1):\\n    sub_preds = do_work(step, file_name, model)\\n    preds.append(sub_preds)\";\n",
       "                var nbb_formatted_code = \"model = CatBoostClassifier()\\n\\nmodel_path = os.path.join(os.path.dirname(DATA_DIR), \\\"models\\\", \\\"catboost-model_v1.cbm\\\")\\nmodel.load_model(model_path)\\n\\npreds = []\\n\\nfor step, file_name in enumerate(tqdm(os.listdir(DATA_DIR)), 1):\\n    sub_preds = do_work(step, file_name, model)\\n    preds.append(sub_preds)\";\n",
       "                var nbb_cells = Jupyter.notebook.get_cells();\n",
       "                for (var i = 0; i < nbb_cells.length; ++i) {\n",
       "                    if (nbb_cells[i].input_prompt_number == nbb_cell_id) {\n",
       "                        if (nbb_cells[i].get_text() == nbb_unformatted_code) {\n",
       "                             nbb_cells[i].set_text(nbb_formatted_code);\n",
       "                        }\n",
       "                        break;\n",
       "                    }\n",
       "                }\n",
       "            }, 500);\n",
       "            "
      ],
      "text/plain": [
       "<IPython.core.display.Javascript object>"
      ]
     },
     "metadata": {},
     "output_type": "display_data"
    }
   ],
   "source": [
    "model = CatBoostClassifier()\n",
    "\n",
    "model_path = os.path.join(os.path.dirname(DATA_DIR), \"models\", \"catboost-model_v1.cbm\")\n",
    "model.load_model(model_path)\n",
    "\n",
    "preds = []\n",
    "\n",
    "for step, file_name in enumerate(tqdm(os.listdir(DATA_DIR)), 1):\n",
    "    sub_preds = do_work(step, file_name, model)\n",
    "    preds.append(sub_preds)"
   ]
  },
  {
   "cell_type": "code",
   "execution_count": 8,
   "id": "b8283685",
   "metadata": {
    "ExecuteTime": {
     "end_time": "2022-09-03T09:29:42.166246Z",
     "start_time": "2022-09-03T09:29:41.666542Z"
    }
   },
   "outputs": [
    {
     "data": {
      "text/html": [
       "<div>\n",
       "<style scoped>\n",
       "    .dataframe tbody tr th:only-of-type {\n",
       "        vertical-align: middle;\n",
       "    }\n",
       "\n",
       "    .dataframe tbody tr th {\n",
       "        vertical-align: top;\n",
       "    }\n",
       "\n",
       "    .dataframe thead th {\n",
       "        text-align: right;\n",
       "    }\n",
       "</style>\n",
       "<table border=\"1\" class=\"dataframe\">\n",
       "  <thead>\n",
       "    <tr style=\"text-align: right;\">\n",
       "      <th></th>\n",
       "      <th>prediction</th>\n",
       "    </tr>\n",
       "    <tr>\n",
       "      <th>customer_ID</th>\n",
       "      <th></th>\n",
       "    </tr>\n",
       "  </thead>\n",
       "  <tbody>\n",
       "    <tr>\n",
       "      <th>00000469ba478561f23a92a868bd366de6f6527a684c9a2e78fb826dcac3b9b7</th>\n",
       "      <td>0.033925</td>\n",
       "    </tr>\n",
       "    <tr>\n",
       "      <th>00001bf2e77ff879fab36aa4fac689b9ba411dae63ae397d4263dafa1daedef5</th>\n",
       "      <td>0.004444</td>\n",
       "    </tr>\n",
       "    <tr>\n",
       "      <th>0000210045da4f81e5f122c6bde5c2a617d03eef67f82c5e400fc98e7bd43ce8</th>\n",
       "      <td>0.027220</td>\n",
       "    </tr>\n",
       "    <tr>\n",
       "      <th>00003b41e58ede33b8daf61ab56d9952f17c9ad1c3976cf6e56734528702d694</th>\n",
       "      <td>0.520299</td>\n",
       "    </tr>\n",
       "    <tr>\n",
       "      <th>00004b22eaeeeb0ec976890c1d9bfc14fd9427e98c4ee9a4693dd914fca22557</th>\n",
       "      <td>0.721996</td>\n",
       "    </tr>\n",
       "    <tr>\n",
       "      <th>...</th>\n",
       "      <td>...</td>\n",
       "    </tr>\n",
       "    <tr>\n",
       "      <th>ffff952c631f2c911b8a2a8ca56ea6e656309a83d2f64c5d60460dba6dedc41e</th>\n",
       "      <td>0.007883</td>\n",
       "    </tr>\n",
       "    <tr>\n",
       "      <th>ffffcf5df59e5e0bba2a5ac4578a34e2b5aa64a1546cd3a4f0ca3de613b0b2ad</th>\n",
       "      <td>0.659939</td>\n",
       "    </tr>\n",
       "    <tr>\n",
       "      <th>ffffd61f098cc056dbd7d2a21380c4804bbfe60856f475cb095d2443a68030f1</th>\n",
       "      <td>0.693675</td>\n",
       "    </tr>\n",
       "    <tr>\n",
       "      <th>ffffddef1fc3643ea179c93245b68dca0f36941cd83977822e8b356988ca4d07</th>\n",
       "      <td>0.480308</td>\n",
       "    </tr>\n",
       "    <tr>\n",
       "      <th>fffffa7cf7e453e1acc6a1426475d5cb9400859f82ff61cceb803ea8ec37634d</th>\n",
       "      <td>0.101906</td>\n",
       "    </tr>\n",
       "  </tbody>\n",
       "</table>\n",
       "<p>924621 rows × 1 columns</p>\n",
       "</div>"
      ],
      "text/plain": [
       "                                                    prediction\n",
       "customer_ID                                                   \n",
       "00000469ba478561f23a92a868bd366de6f6527a684c9a2...    0.033925\n",
       "00001bf2e77ff879fab36aa4fac689b9ba411dae63ae397...    0.004444\n",
       "0000210045da4f81e5f122c6bde5c2a617d03eef67f82c5...    0.027220\n",
       "00003b41e58ede33b8daf61ab56d9952f17c9ad1c3976cf...    0.520299\n",
       "00004b22eaeeeb0ec976890c1d9bfc14fd9427e98c4ee9a...    0.721996\n",
       "...                                                        ...\n",
       "ffff952c631f2c911b8a2a8ca56ea6e656309a83d2f64c5...    0.007883\n",
       "ffffcf5df59e5e0bba2a5ac4578a34e2b5aa64a1546cd3a...    0.659939\n",
       "ffffd61f098cc056dbd7d2a21380c4804bbfe60856f475c...    0.693675\n",
       "ffffddef1fc3643ea179c93245b68dca0f36941cd839778...    0.480308\n",
       "fffffa7cf7e453e1acc6a1426475d5cb9400859f82ff61c...    0.101906\n",
       "\n",
       "[924621 rows x 1 columns]"
      ]
     },
     "execution_count": 8,
     "metadata": {},
     "output_type": "execute_result"
    },
    {
     "data": {
      "application/javascript": [
       "\n",
       "            setTimeout(function() {\n",
       "                var nbb_cell_id = 8;\n",
       "                var nbb_unformatted_code = \"submission = pd.concat(preds).sort_values(\\\"customer_ID\\\")\\nsubmission\";\n",
       "                var nbb_formatted_code = \"submission = pd.concat(preds).sort_values(\\\"customer_ID\\\")\\nsubmission\";\n",
       "                var nbb_cells = Jupyter.notebook.get_cells();\n",
       "                for (var i = 0; i < nbb_cells.length; ++i) {\n",
       "                    if (nbb_cells[i].input_prompt_number == nbb_cell_id) {\n",
       "                        if (nbb_cells[i].get_text() == nbb_unformatted_code) {\n",
       "                             nbb_cells[i].set_text(nbb_formatted_code);\n",
       "                        }\n",
       "                        break;\n",
       "                    }\n",
       "                }\n",
       "            }, 500);\n",
       "            "
      ],
      "text/plain": [
       "<IPython.core.display.Javascript object>"
      ]
     },
     "metadata": {},
     "output_type": "display_data"
    }
   ],
   "source": [
    "submission = pd.concat(preds).sort_values(\"customer_ID\")\n",
    "submission"
   ]
  },
  {
   "cell_type": "code",
   "execution_count": 9,
   "id": "b962c9f9",
   "metadata": {
    "ExecuteTime": {
     "end_time": "2022-09-03T09:29:48.615142Z",
     "start_time": "2022-09-03T09:29:42.167577Z"
    }
   },
   "outputs": [
    {
     "data": {
      "application/javascript": [
       "\n",
       "            setTimeout(function() {\n",
       "                var nbb_cell_id = 9;\n",
       "                var nbb_unformatted_code = \"save_path = os.path.join(os.path.dirname(DATA_DIR), \\\"submission_v1.csv.gz\\\")\\nsubmission.to_csv(save_path, compression=\\\"gzip\\\")\";\n",
       "                var nbb_formatted_code = \"save_path = os.path.join(os.path.dirname(DATA_DIR), \\\"submission_v1.csv.gz\\\")\\nsubmission.to_csv(save_path, compression=\\\"gzip\\\")\";\n",
       "                var nbb_cells = Jupyter.notebook.get_cells();\n",
       "                for (var i = 0; i < nbb_cells.length; ++i) {\n",
       "                    if (nbb_cells[i].input_prompt_number == nbb_cell_id) {\n",
       "                        if (nbb_cells[i].get_text() == nbb_unformatted_code) {\n",
       "                             nbb_cells[i].set_text(nbb_formatted_code);\n",
       "                        }\n",
       "                        break;\n",
       "                    }\n",
       "                }\n",
       "            }, 500);\n",
       "            "
      ],
      "text/plain": [
       "<IPython.core.display.Javascript object>"
      ]
     },
     "metadata": {},
     "output_type": "display_data"
    }
   ],
   "source": [
    "save_path = os.path.join(os.path.dirname(DATA_DIR), \"submission_v1.csv.gz\")\n",
    "submission.to_csv(save_path, compression=\"gzip\")"
   ]
  },
  {
   "cell_type": "code",
   "execution_count": null,
   "id": "f70ffa48",
   "metadata": {},
   "outputs": [],
   "source": []
  },
  {
   "cell_type": "code",
   "execution_count": null,
   "id": "c33c1ba1",
   "metadata": {},
   "outputs": [],
   "source": []
  },
  {
   "cell_type": "code",
   "execution_count": null,
   "id": "05f5ba84",
   "metadata": {},
   "outputs": [],
   "source": []
  }
 ],
 "metadata": {
  "kernelspec": {
   "display_name": "Python 3 (ipykernel)",
   "language": "python",
   "name": "python3"
  },
  "language_info": {
   "codemirror_mode": {
    "name": "ipython",
    "version": 3
   },
   "file_extension": ".py",
   "mimetype": "text/x-python",
   "name": "python",
   "nbconvert_exporter": "python",
   "pygments_lexer": "ipython3",
   "version": "3.9.12"
  }
 },
 "nbformat": 4,
 "nbformat_minor": 5
}
