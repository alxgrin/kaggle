{
 "cells": [
  {
   "cell_type": "markdown",
   "id": "1af8abb0",
   "metadata": {},
   "source": [
    "# CatBoost base model"
   ]
  },
  {
   "cell_type": "code",
   "execution_count": 1,
   "id": "8ad0a50a",
   "metadata": {
    "ExecuteTime": {
     "end_time": "2022-09-03T08:26:19.805305Z",
     "start_time": "2022-09-03T08:26:19.429470Z"
    }
   },
   "outputs": [],
   "source": [
    "import os\n",
    "\n",
    "import numpy as np\n",
    "import pandas as pd\n",
    "from catboost import CatBoostClassifier, Pool, sum_models, to_classifier\n",
    "from sklearn.metrics import accuracy_score\n",
    "from sklearn.model_selection import StratifiedKFold, train_test_split\n",
    "from tqdm.notebook import tqdm"
   ]
  },
  {
   "cell_type": "code",
   "execution_count": 2,
   "id": "cc60e05a",
   "metadata": {
    "ExecuteTime": {
     "end_time": "2022-09-03T08:26:19.858004Z",
     "start_time": "2022-09-03T08:26:19.806686Z"
    }
   },
   "outputs": [
    {
     "data": {
      "application/javascript": [
       "\n",
       "            setTimeout(function() {\n",
       "                var nbb_cell_id = 2;\n",
       "                var nbb_unformatted_code = \"%load_ext nb_black\";\n",
       "                var nbb_formatted_code = \"%load_ext nb_black\";\n",
       "                var nbb_cells = Jupyter.notebook.get_cells();\n",
       "                for (var i = 0; i < nbb_cells.length; ++i) {\n",
       "                    if (nbb_cells[i].input_prompt_number == nbb_cell_id) {\n",
       "                        if (nbb_cells[i].get_text() == nbb_unformatted_code) {\n",
       "                             nbb_cells[i].set_text(nbb_formatted_code);\n",
       "                        }\n",
       "                        break;\n",
       "                    }\n",
       "                }\n",
       "            }, 500);\n",
       "            "
      ],
      "text/plain": [
       "<IPython.core.display.Javascript object>"
      ]
     },
     "metadata": {},
     "output_type": "display_data"
    }
   ],
   "source": [
    "%load_ext nb_black"
   ]
  },
  {
   "cell_type": "code",
   "execution_count": 3,
   "id": "36cbe8e3",
   "metadata": {
    "ExecuteTime": {
     "end_time": "2022-09-03T08:26:19.865460Z",
     "start_time": "2022-09-03T08:26:19.861361Z"
    }
   },
   "outputs": [
    {
     "data": {
      "application/javascript": [
       "\n",
       "            setTimeout(function() {\n",
       "                var nbb_cell_id = 3;\n",
       "                var nbb_unformatted_code = \"DATA_DIR = \\\"../../data/amex-default-prediction/train\\\"\";\n",
       "                var nbb_formatted_code = \"DATA_DIR = \\\"../../data/amex-default-prediction/train\\\"\";\n",
       "                var nbb_cells = Jupyter.notebook.get_cells();\n",
       "                for (var i = 0; i < nbb_cells.length; ++i) {\n",
       "                    if (nbb_cells[i].input_prompt_number == nbb_cell_id) {\n",
       "                        if (nbb_cells[i].get_text() == nbb_unformatted_code) {\n",
       "                             nbb_cells[i].set_text(nbb_formatted_code);\n",
       "                        }\n",
       "                        break;\n",
       "                    }\n",
       "                }\n",
       "            }, 500);\n",
       "            "
      ],
      "text/plain": [
       "<IPython.core.display.Javascript object>"
      ]
     },
     "metadata": {},
     "output_type": "display_data"
    }
   ],
   "source": [
    "DATA_DIR = \"../../data/amex-default-prediction/train\""
   ]
  },
  {
   "cell_type": "markdown",
   "id": "e3a0284e",
   "metadata": {},
   "source": [
    "# Train loop"
   ]
  },
  {
   "cell_type": "code",
   "execution_count": 4,
   "id": "dfbea015",
   "metadata": {
    "ExecuteTime": {
     "end_time": "2022-09-03T08:26:19.872367Z",
     "start_time": "2022-09-03T08:26:19.866512Z"
    }
   },
   "outputs": [
    {
     "data": {
      "application/javascript": [
       "\n",
       "            setTimeout(function() {\n",
       "                var nbb_cell_id = 4;\n",
       "                var nbb_unformatted_code = \"skf = StratifiedKFold(n_splits=5)\";\n",
       "                var nbb_formatted_code = \"skf = StratifiedKFold(n_splits=5)\";\n",
       "                var nbb_cells = Jupyter.notebook.get_cells();\n",
       "                for (var i = 0; i < nbb_cells.length; ++i) {\n",
       "                    if (nbb_cells[i].input_prompt_number == nbb_cell_id) {\n",
       "                        if (nbb_cells[i].get_text() == nbb_unformatted_code) {\n",
       "                             nbb_cells[i].set_text(nbb_formatted_code);\n",
       "                        }\n",
       "                        break;\n",
       "                    }\n",
       "                }\n",
       "            }, 500);\n",
       "            "
      ],
      "text/plain": [
       "<IPython.core.display.Javascript object>"
      ]
     },
     "metadata": {},
     "output_type": "display_data"
    }
   ],
   "source": [
    "skf = StratifiedKFold(n_splits=5)"
   ]
  },
  {
   "cell_type": "code",
   "execution_count": 5,
   "id": "6c457ad5",
   "metadata": {
    "ExecuteTime": {
     "end_time": "2022-09-03T08:26:19.993566Z",
     "start_time": "2022-09-03T08:26:19.873626Z"
    }
   },
   "outputs": [
    {
     "name": "stdout",
     "output_type": "stream",
     "text": [
      "train_group_data_10.csv  train_group_data_15.csv  train_group_data_5.csv\r\n",
      "train_group_data_11.csv  train_group_data_1.csv   train_group_data_6.csv\r\n",
      "train_group_data_12.csv  train_group_data_2.csv   train_group_data_7.csv\r\n",
      "train_group_data_13.csv  train_group_data_3.csv   train_group_data_8.csv\r\n",
      "train_group_data_14.csv  train_group_data_4.csv   train_group_data_9.csv\r\n"
     ]
    },
    {
     "data": {
      "application/javascript": [
       "\n",
       "            setTimeout(function() {\n",
       "                var nbb_cell_id = 5;\n",
       "                var nbb_unformatted_code = \"!ls $DATA_DIR\";\n",
       "                var nbb_formatted_code = \"!ls $DATA_DIR\";\n",
       "                var nbb_cells = Jupyter.notebook.get_cells();\n",
       "                for (var i = 0; i < nbb_cells.length; ++i) {\n",
       "                    if (nbb_cells[i].input_prompt_number == nbb_cell_id) {\n",
       "                        if (nbb_cells[i].get_text() == nbb_unformatted_code) {\n",
       "                             nbb_cells[i].set_text(nbb_formatted_code);\n",
       "                        }\n",
       "                        break;\n",
       "                    }\n",
       "                }\n",
       "            }, 500);\n",
       "            "
      ],
      "text/plain": [
       "<IPython.core.display.Javascript object>"
      ]
     },
     "metadata": {},
     "output_type": "display_data"
    }
   ],
   "source": [
    "!ls $DATA_DIR"
   ]
  },
  {
   "cell_type": "code",
   "execution_count": 6,
   "id": "4356134a",
   "metadata": {
    "ExecuteTime": {
     "end_time": "2022-09-03T08:26:20.014879Z",
     "start_time": "2022-09-03T08:26:19.996092Z"
    }
   },
   "outputs": [
    {
     "data": {
      "application/javascript": [
       "\n",
       "            setTimeout(function() {\n",
       "                var nbb_cell_id = 6;\n",
       "                var nbb_unformatted_code = \"def do_work(step, file_name):\\n    df = pd.read_csv(os.path.join(DATA_DIR, file_name)).set_index(\\\"customer_ID\\\")\\n\\n    y = df[[\\\"target\\\"]]\\n    X = df.drop(\\\"target\\\", axis=1)\\n\\n    ensemble = []\\n\\n    for train_index, val_index in tqdm(\\n        skf.split(X, y), total=5, desc=\\\"Step: {}\\\".format(step)\\n    ):\\n        X_sub_train, X_sub_valid = X.iloc[train_index], X.iloc[val_index]\\n        y_sub_train, y_sub_valid = y.iloc[train_index], y.iloc[val_index]\\n\\n        train_pool = Pool(X_sub_train, y_sub_train)\\n        valid_pool = Pool(X_sub_valid, y_sub_valid)\\n\\n        model = CatBoostClassifier()\\n        model.fit(train_pool, eval_set=valid_pool, verbose=False)\\n\\n        ensemble.append(model)\\n\\n    models_avrg = sum_models(ensemble, weights=[1.0 / len(ensemble)] * len(ensemble))\\n    return to_classifier(models_avrg)\";\n",
       "                var nbb_formatted_code = \"def do_work(step, file_name):\\n    df = pd.read_csv(os.path.join(DATA_DIR, file_name)).set_index(\\\"customer_ID\\\")\\n\\n    y = df[[\\\"target\\\"]]\\n    X = df.drop(\\\"target\\\", axis=1)\\n\\n    ensemble = []\\n\\n    for train_index, val_index in tqdm(\\n        skf.split(X, y), total=5, desc=\\\"Step: {}\\\".format(step)\\n    ):\\n        X_sub_train, X_sub_valid = X.iloc[train_index], X.iloc[val_index]\\n        y_sub_train, y_sub_valid = y.iloc[train_index], y.iloc[val_index]\\n\\n        train_pool = Pool(X_sub_train, y_sub_train)\\n        valid_pool = Pool(X_sub_valid, y_sub_valid)\\n\\n        model = CatBoostClassifier()\\n        model.fit(train_pool, eval_set=valid_pool, verbose=False)\\n\\n        ensemble.append(model)\\n\\n    models_avrg = sum_models(ensemble, weights=[1.0 / len(ensemble)] * len(ensemble))\\n    return to_classifier(models_avrg)\";\n",
       "                var nbb_cells = Jupyter.notebook.get_cells();\n",
       "                for (var i = 0; i < nbb_cells.length; ++i) {\n",
       "                    if (nbb_cells[i].input_prompt_number == nbb_cell_id) {\n",
       "                        if (nbb_cells[i].get_text() == nbb_unformatted_code) {\n",
       "                             nbb_cells[i].set_text(nbb_formatted_code);\n",
       "                        }\n",
       "                        break;\n",
       "                    }\n",
       "                }\n",
       "            }, 500);\n",
       "            "
      ],
      "text/plain": [
       "<IPython.core.display.Javascript object>"
      ]
     },
     "metadata": {},
     "output_type": "display_data"
    }
   ],
   "source": [
    "def do_work(step, file_name):\n",
    "    df = pd.read_csv(os.path.join(DATA_DIR, file_name)).set_index(\"customer_ID\")\n",
    "\n",
    "    y = df[[\"target\"]]\n",
    "    X = df.drop(\"target\", axis=1)\n",
    "\n",
    "    ensemble = []\n",
    "\n",
    "    for train_index, val_index in tqdm(\n",
    "        skf.split(X, y), total=5, desc=\"Step: {}\".format(step)\n",
    "    ):\n",
    "        X_sub_train, X_sub_valid = X.iloc[train_index], X.iloc[val_index]\n",
    "        y_sub_train, y_sub_valid = y.iloc[train_index], y.iloc[val_index]\n",
    "\n",
    "        train_pool = Pool(X_sub_train, y_sub_train)\n",
    "        valid_pool = Pool(X_sub_valid, y_sub_valid)\n",
    "\n",
    "        model = CatBoostClassifier()\n",
    "        model.fit(train_pool, eval_set=valid_pool, verbose=False)\n",
    "\n",
    "        ensemble.append(model)\n",
    "\n",
    "    models_avrg = sum_models(ensemble, weights=[1.0 / len(ensemble)] * len(ensemble))\n",
    "    return to_classifier(models_avrg)"
   ]
  },
  {
   "cell_type": "code",
   "execution_count": 7,
   "id": "d88b8393",
   "metadata": {
    "ExecuteTime": {
     "end_time": "2022-09-03T08:40:02.790514Z",
     "start_time": "2022-09-03T08:26:20.017037Z"
    }
   },
   "outputs": [
    {
     "data": {
      "application/vnd.jupyter.widget-view+json": {
       "model_id": "b459b96356994f0d9975964974bac3f8",
       "version_major": 2,
       "version_minor": 0
      },
      "text/plain": [
       "Step: 1:   0%|          | 0/5 [00:00<?, ?it/s]"
      ]
     },
     "metadata": {},
     "output_type": "display_data"
    },
    {
     "data": {
      "application/vnd.jupyter.widget-view+json": {
       "model_id": "910705d0e68249efa3723c782d5ea19c",
       "version_major": 2,
       "version_minor": 0
      },
      "text/plain": [
       "Step: 2:   0%|          | 0/5 [00:00<?, ?it/s]"
      ]
     },
     "metadata": {},
     "output_type": "display_data"
    },
    {
     "data": {
      "application/vnd.jupyter.widget-view+json": {
       "model_id": "145cbbb0c94f41cbabe9b104aa29aded",
       "version_major": 2,
       "version_minor": 0
      },
      "text/plain": [
       "Step: 3:   0%|          | 0/5 [00:00<?, ?it/s]"
      ]
     },
     "metadata": {},
     "output_type": "display_data"
    },
    {
     "data": {
      "application/vnd.jupyter.widget-view+json": {
       "model_id": "ab31b6da903c4eae987db91a6f837d1b",
       "version_major": 2,
       "version_minor": 0
      },
      "text/plain": [
       "Step: 4:   0%|          | 0/5 [00:00<?, ?it/s]"
      ]
     },
     "metadata": {},
     "output_type": "display_data"
    },
    {
     "data": {
      "application/vnd.jupyter.widget-view+json": {
       "model_id": "bf4f36583b5e47aab9747d2c517c4426",
       "version_major": 2,
       "version_minor": 0
      },
      "text/plain": [
       "Step: 5:   0%|          | 0/5 [00:00<?, ?it/s]"
      ]
     },
     "metadata": {},
     "output_type": "display_data"
    },
    {
     "data": {
      "application/vnd.jupyter.widget-view+json": {
       "model_id": "ff09ddba2fbb475bac3783d9c09d0b8c",
       "version_major": 2,
       "version_minor": 0
      },
      "text/plain": [
       "Step: 6:   0%|          | 0/5 [00:00<?, ?it/s]"
      ]
     },
     "metadata": {},
     "output_type": "display_data"
    },
    {
     "data": {
      "application/vnd.jupyter.widget-view+json": {
       "model_id": "2ad23b04b57a4f47a30243ab93e6a931",
       "version_major": 2,
       "version_minor": 0
      },
      "text/plain": [
       "Step: 7:   0%|          | 0/5 [00:00<?, ?it/s]"
      ]
     },
     "metadata": {},
     "output_type": "display_data"
    },
    {
     "data": {
      "application/vnd.jupyter.widget-view+json": {
       "model_id": "db73e95bb8284a4aaa9993a61f5ed84d",
       "version_major": 2,
       "version_minor": 0
      },
      "text/plain": [
       "Step: 8:   0%|          | 0/5 [00:00<?, ?it/s]"
      ]
     },
     "metadata": {},
     "output_type": "display_data"
    },
    {
     "data": {
      "application/vnd.jupyter.widget-view+json": {
       "model_id": "bdac6257ff3a490b95d511aa94d726d7",
       "version_major": 2,
       "version_minor": 0
      },
      "text/plain": [
       "Step: 9:   0%|          | 0/5 [00:00<?, ?it/s]"
      ]
     },
     "metadata": {},
     "output_type": "display_data"
    },
    {
     "data": {
      "application/vnd.jupyter.widget-view+json": {
       "model_id": "8f1fe5ba36ea466baa1e756d1640228a",
       "version_major": 2,
       "version_minor": 0
      },
      "text/plain": [
       "Step: 10:   0%|          | 0/5 [00:00<?, ?it/s]"
      ]
     },
     "metadata": {},
     "output_type": "display_data"
    },
    {
     "data": {
      "application/vnd.jupyter.widget-view+json": {
       "model_id": "8095a6b586a44bfaa25b1ba1de1d15c1",
       "version_major": 2,
       "version_minor": 0
      },
      "text/plain": [
       "Step: 11:   0%|          | 0/5 [00:00<?, ?it/s]"
      ]
     },
     "metadata": {},
     "output_type": "display_data"
    },
    {
     "data": {
      "application/vnd.jupyter.widget-view+json": {
       "model_id": "281b059dae20419a8fb3bece44d783b2",
       "version_major": 2,
       "version_minor": 0
      },
      "text/plain": [
       "Step: 12:   0%|          | 0/5 [00:00<?, ?it/s]"
      ]
     },
     "metadata": {},
     "output_type": "display_data"
    },
    {
     "data": {
      "application/vnd.jupyter.widget-view+json": {
       "model_id": "fc0d7808553242d7969d7d06424f9eb6",
       "version_major": 2,
       "version_minor": 0
      },
      "text/plain": [
       "Step: 13:   0%|          | 0/5 [00:00<?, ?it/s]"
      ]
     },
     "metadata": {},
     "output_type": "display_data"
    },
    {
     "data": {
      "application/vnd.jupyter.widget-view+json": {
       "model_id": "44943dadb87d48fb92d8696938b5fd01",
       "version_major": 2,
       "version_minor": 0
      },
      "text/plain": [
       "Step: 14:   0%|          | 0/5 [00:00<?, ?it/s]"
      ]
     },
     "metadata": {},
     "output_type": "display_data"
    },
    {
     "data": {
      "application/vnd.jupyter.widget-view+json": {
       "model_id": "eac44c2352b04b06b459f71db2779651",
       "version_major": 2,
       "version_minor": 0
      },
      "text/plain": [
       "Step: 15:   0%|          | 0/5 [00:00<?, ?it/s]"
      ]
     },
     "metadata": {},
     "output_type": "display_data"
    },
    {
     "data": {
      "application/javascript": [
       "\n",
       "            setTimeout(function() {\n",
       "                var nbb_cell_id = 7;\n",
       "                var nbb_unformatted_code = \"models = []\\n\\nfor step, file_name in enumerate(os.listdir(DATA_DIR), 1):\\n    sub_model = do_work(step, file_name)\\n    models.append(sub_model)\";\n",
       "                var nbb_formatted_code = \"models = []\\n\\nfor step, file_name in enumerate(os.listdir(DATA_DIR), 1):\\n    sub_model = do_work(step, file_name)\\n    models.append(sub_model)\";\n",
       "                var nbb_cells = Jupyter.notebook.get_cells();\n",
       "                for (var i = 0; i < nbb_cells.length; ++i) {\n",
       "                    if (nbb_cells[i].input_prompt_number == nbb_cell_id) {\n",
       "                        if (nbb_cells[i].get_text() == nbb_unformatted_code) {\n",
       "                             nbb_cells[i].set_text(nbb_formatted_code);\n",
       "                        }\n",
       "                        break;\n",
       "                    }\n",
       "                }\n",
       "            }, 500);\n",
       "            "
      ],
      "text/plain": [
       "<IPython.core.display.Javascript object>"
      ]
     },
     "metadata": {},
     "output_type": "display_data"
    }
   ],
   "source": [
    "models = []\n",
    "\n",
    "for step, file_name in enumerate(os.listdir(DATA_DIR), 1):\n",
    "    sub_model = do_work(step, file_name)\n",
    "    models.append(sub_model)"
   ]
  },
  {
   "cell_type": "code",
   "execution_count": 8,
   "id": "6ba5312a",
   "metadata": {
    "ExecuteTime": {
     "end_time": "2022-09-03T08:40:02.796295Z",
     "start_time": "2022-09-03T08:40:02.791925Z"
    }
   },
   "outputs": [
    {
     "data": {
      "text/plain": [
       "[<catboost.core.CatBoostClassifier at 0x7fe5f6c4a700>,\n",
       " <catboost.core.CatBoostClassifier at 0x7fe5f726d8e0>,\n",
       " <catboost.core.CatBoostClassifier at 0x7fe5f727b040>,\n",
       " <catboost.core.CatBoostClassifier at 0x7fe5f7208fd0>,\n",
       " <catboost.core.CatBoostClassifier at 0x7fe5f6c2bc70>,\n",
       " <catboost.core.CatBoostClassifier at 0x7fe5f726dbe0>,\n",
       " <catboost.core.CatBoostClassifier at 0x7fe5f6c3d040>,\n",
       " <catboost.core.CatBoostClassifier at 0x7fe5f6c3d6d0>,\n",
       " <catboost.core.CatBoostClassifier at 0x7fe5f72c10d0>,\n",
       " <catboost.core.CatBoostClassifier at 0x7fe5f6c4ae80>,\n",
       " <catboost.core.CatBoostClassifier at 0x7fe5f6c4aac0>,\n",
       " <catboost.core.CatBoostClassifier at 0x7fe5f6bea580>,\n",
       " <catboost.core.CatBoostClassifier at 0x7fe5f6beaa30>,\n",
       " <catboost.core.CatBoostClassifier at 0x7fe5f6bea2b0>,\n",
       " <catboost.core.CatBoostClassifier at 0x7fe5f6fe0340>]"
      ]
     },
     "execution_count": 8,
     "metadata": {},
     "output_type": "execute_result"
    },
    {
     "data": {
      "application/javascript": [
       "\n",
       "            setTimeout(function() {\n",
       "                var nbb_cell_id = 8;\n",
       "                var nbb_unformatted_code = \"models\";\n",
       "                var nbb_formatted_code = \"models\";\n",
       "                var nbb_cells = Jupyter.notebook.get_cells();\n",
       "                for (var i = 0; i < nbb_cells.length; ++i) {\n",
       "                    if (nbb_cells[i].input_prompt_number == nbb_cell_id) {\n",
       "                        if (nbb_cells[i].get_text() == nbb_unformatted_code) {\n",
       "                             nbb_cells[i].set_text(nbb_formatted_code);\n",
       "                        }\n",
       "                        break;\n",
       "                    }\n",
       "                }\n",
       "            }, 500);\n",
       "            "
      ],
      "text/plain": [
       "<IPython.core.display.Javascript object>"
      ]
     },
     "metadata": {},
     "output_type": "display_data"
    }
   ],
   "source": [
    "models"
   ]
  },
  {
   "cell_type": "code",
   "execution_count": 9,
   "id": "fab8af0e",
   "metadata": {
    "ExecuteTime": {
     "end_time": "2022-09-03T08:40:03.065323Z",
     "start_time": "2022-09-03T08:40:02.797912Z"
    }
   },
   "outputs": [
    {
     "data": {
      "text/plain": [
       "<catboost.core.CatBoostClassifier at 0x7fe5f6c30760>"
      ]
     },
     "execution_count": 9,
     "metadata": {},
     "output_type": "execute_result"
    },
    {
     "data": {
      "application/javascript": [
       "\n",
       "            setTimeout(function() {\n",
       "                var nbb_cell_id = 9;\n",
       "                var nbb_unformatted_code = \"models_avrg = sum_models(models, weights=[1.0 / len(models)] * len(models))\\nmodels_avrg = to_classifier(models_avrg)\\nmodels_avrg\";\n",
       "                var nbb_formatted_code = \"models_avrg = sum_models(models, weights=[1.0 / len(models)] * len(models))\\nmodels_avrg = to_classifier(models_avrg)\\nmodels_avrg\";\n",
       "                var nbb_cells = Jupyter.notebook.get_cells();\n",
       "                for (var i = 0; i < nbb_cells.length; ++i) {\n",
       "                    if (nbb_cells[i].input_prompt_number == nbb_cell_id) {\n",
       "                        if (nbb_cells[i].get_text() == nbb_unformatted_code) {\n",
       "                             nbb_cells[i].set_text(nbb_formatted_code);\n",
       "                        }\n",
       "                        break;\n",
       "                    }\n",
       "                }\n",
       "            }, 500);\n",
       "            "
      ],
      "text/plain": [
       "<IPython.core.display.Javascript object>"
      ]
     },
     "metadata": {},
     "output_type": "display_data"
    }
   ],
   "source": [
    "models_avrg = sum_models(models, weights=[1.0 / len(models)] * len(models))\n",
    "models_avrg = to_classifier(models_avrg)\n",
    "models_avrg"
   ]
  },
  {
   "cell_type": "code",
   "execution_count": 11,
   "id": "f19c734c",
   "metadata": {
    "ExecuteTime": {
     "end_time": "2022-09-03T09:08:11.089707Z",
     "start_time": "2022-09-03T09:08:11.033589Z"
    }
   },
   "outputs": [
    {
     "data": {
      "application/javascript": [
       "\n",
       "            setTimeout(function() {\n",
       "                var nbb_cell_id = 11;\n",
       "                var nbb_unformatted_code = \"model_save_path = os.path.join(os.path.dirname(DATA_DIR), \\\"models\\\", \\\"catboost-model_v1.cbm\\\")\\nmodels_avrg.save_model(model_save_path)\";\n",
       "                var nbb_formatted_code = \"model_save_path = os.path.join(\\n    os.path.dirname(DATA_DIR), \\\"models\\\", \\\"catboost-model_v1.cbm\\\"\\n)\\nmodels_avrg.save_model(model_save_path)\";\n",
       "                var nbb_cells = Jupyter.notebook.get_cells();\n",
       "                for (var i = 0; i < nbb_cells.length; ++i) {\n",
       "                    if (nbb_cells[i].input_prompt_number == nbb_cell_id) {\n",
       "                        if (nbb_cells[i].get_text() == nbb_unformatted_code) {\n",
       "                             nbb_cells[i].set_text(nbb_formatted_code);\n",
       "                        }\n",
       "                        break;\n",
       "                    }\n",
       "                }\n",
       "            }, 500);\n",
       "            "
      ],
      "text/plain": [
       "<IPython.core.display.Javascript object>"
      ]
     },
     "metadata": {},
     "output_type": "display_data"
    }
   ],
   "source": [
    "model_save_path = os.path.join(\n",
    "    os.path.dirname(DATA_DIR), \"models\", \"catboost-model_v1.cbm\"\n",
    ")\n",
    "models_avrg.save_model(model_save_path)"
   ]
  },
  {
   "cell_type": "code",
   "execution_count": null,
   "id": "44ec2f1e",
   "metadata": {},
   "outputs": [],
   "source": []
  },
  {
   "cell_type": "code",
   "execution_count": null,
   "id": "d25ca0e2",
   "metadata": {},
   "outputs": [],
   "source": []
  },
  {
   "cell_type": "code",
   "execution_count": null,
   "id": "191ae6c9",
   "metadata": {},
   "outputs": [],
   "source": []
  },
  {
   "cell_type": "code",
   "execution_count": null,
   "id": "e58a45cf",
   "metadata": {},
   "outputs": [],
   "source": []
  },
  {
   "cell_type": "code",
   "execution_count": null,
   "id": "47c3909b",
   "metadata": {},
   "outputs": [],
   "source": []
  }
 ],
 "metadata": {
  "kernelspec": {
   "display_name": "Python 3 (ipykernel)",
   "language": "python",
   "name": "python3"
  },
  "language_info": {
   "codemirror_mode": {
    "name": "ipython",
    "version": 3
   },
   "file_extension": ".py",
   "mimetype": "text/x-python",
   "name": "python",
   "nbconvert_exporter": "python",
   "pygments_lexer": "ipython3",
   "version": "3.9.12"
  }
 },
 "nbformat": 4,
 "nbformat_minor": 5
}
