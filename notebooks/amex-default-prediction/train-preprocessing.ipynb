{
 "cells": [
  {
   "cell_type": "markdown",
   "id": "14067006",
   "metadata": {},
   "source": [
    "# Train data preprocessing"
   ]
  },
  {
   "cell_type": "code",
   "execution_count": 1,
   "id": "8ec3594e",
   "metadata": {
    "ExecuteTime": {
     "end_time": "2022-09-02T18:41:18.929846Z",
     "start_time": "2022-09-02T18:41:17.148266Z"
    }
   },
   "outputs": [],
   "source": [
    "import pandas as pd\n",
    "import numpy as np\n",
    "from sklearn import preprocessing\n",
    "from tqdm.notebook import tqdm\n",
    "import tsfresh\n",
    "import sqlite3\n",
    "import gc"
   ]
  },
  {
   "cell_type": "code",
   "execution_count": 2,
   "id": "a7e400b9",
   "metadata": {
    "ExecuteTime": {
     "end_time": "2022-09-02T18:41:18.980500Z",
     "start_time": "2022-09-02T18:41:18.931304Z"
    }
   },
   "outputs": [
    {
     "data": {
      "application/javascript": [
       "\n",
       "            setTimeout(function() {\n",
       "                var nbb_cell_id = 2;\n",
       "                var nbb_unformatted_code = \"%load_ext nb_black\";\n",
       "                var nbb_formatted_code = \"%load_ext nb_black\";\n",
       "                var nbb_cells = Jupyter.notebook.get_cells();\n",
       "                for (var i = 0; i < nbb_cells.length; ++i) {\n",
       "                    if (nbb_cells[i].input_prompt_number == nbb_cell_id) {\n",
       "                        if (nbb_cells[i].get_text() == nbb_unformatted_code) {\n",
       "                             nbb_cells[i].set_text(nbb_formatted_code);\n",
       "                        }\n",
       "                        break;\n",
       "                    }\n",
       "                }\n",
       "            }, 500);\n",
       "            "
      ],
      "text/plain": [
       "<IPython.core.display.Javascript object>"
      ]
     },
     "metadata": {},
     "output_type": "display_data"
    }
   ],
   "source": [
    "%load_ext nb_black"
   ]
  },
  {
   "cell_type": "code",
   "execution_count": 3,
   "id": "c5c5bb1f",
   "metadata": {
    "ExecuteTime": {
     "end_time": "2022-09-02T18:41:18.984867Z",
     "start_time": "2022-09-02T18:41:18.981719Z"
    }
   },
   "outputs": [
    {
     "data": {
      "application/javascript": [
       "\n",
       "            setTimeout(function() {\n",
       "                var nbb_cell_id = 3;\n",
       "                var nbb_unformatted_code = \"le = preprocessing.LabelEncoder()\";\n",
       "                var nbb_formatted_code = \"le = preprocessing.LabelEncoder()\";\n",
       "                var nbb_cells = Jupyter.notebook.get_cells();\n",
       "                for (var i = 0; i < nbb_cells.length; ++i) {\n",
       "                    if (nbb_cells[i].input_prompt_number == nbb_cell_id) {\n",
       "                        if (nbb_cells[i].get_text() == nbb_unformatted_code) {\n",
       "                             nbb_cells[i].set_text(nbb_formatted_code);\n",
       "                        }\n",
       "                        break;\n",
       "                    }\n",
       "                }\n",
       "            }, 500);\n",
       "            "
      ],
      "text/plain": [
       "<IPython.core.display.Javascript object>"
      ]
     },
     "metadata": {},
     "output_type": "display_data"
    }
   ],
   "source": [
    "le = preprocessing.LabelEncoder()"
   ]
  },
  {
   "cell_type": "code",
   "execution_count": 4,
   "id": "d7b26de8",
   "metadata": {
    "ExecuteTime": {
     "end_time": "2022-09-02T18:41:18.993475Z",
     "start_time": "2022-09-02T18:41:18.986239Z"
    }
   },
   "outputs": [
    {
     "data": {
      "text/plain": [
       "<sqlite3.Connection at 0x7f6b90551300>"
      ]
     },
     "execution_count": 4,
     "metadata": {},
     "output_type": "execute_result"
    },
    {
     "data": {
      "application/javascript": [
       "\n",
       "            setTimeout(function() {\n",
       "                var nbb_cell_id = 4;\n",
       "                var nbb_unformatted_code = \"con = sqlite3.connect(\\\"../../data/amex-default-prediction/amex-data.sqlite\\\")\\ncon\";\n",
       "                var nbb_formatted_code = \"con = sqlite3.connect(\\\"../../data/amex-default-prediction/amex-data.sqlite\\\")\\ncon\";\n",
       "                var nbb_cells = Jupyter.notebook.get_cells();\n",
       "                for (var i = 0; i < nbb_cells.length; ++i) {\n",
       "                    if (nbb_cells[i].input_prompt_number == nbb_cell_id) {\n",
       "                        if (nbb_cells[i].get_text() == nbb_unformatted_code) {\n",
       "                             nbb_cells[i].set_text(nbb_formatted_code);\n",
       "                        }\n",
       "                        break;\n",
       "                    }\n",
       "                }\n",
       "            }, 500);\n",
       "            "
      ],
      "text/plain": [
       "<IPython.core.display.Javascript object>"
      ]
     },
     "metadata": {},
     "output_type": "display_data"
    }
   ],
   "source": [
    "con = sqlite3.connect(\"../../data/amex-default-prediction/amex-data.sqlite\")\n",
    "con"
   ]
  },
  {
   "cell_type": "code",
   "execution_count": 5,
   "id": "b7cb9c8d",
   "metadata": {
    "ExecuteTime": {
     "end_time": "2022-09-02T18:41:19.473838Z",
     "start_time": "2022-09-02T18:41:18.995155Z"
    }
   },
   "outputs": [
    {
     "data": {
      "text/html": [
       "<div>\n",
       "<style scoped>\n",
       "    .dataframe tbody tr th:only-of-type {\n",
       "        vertical-align: middle;\n",
       "    }\n",
       "\n",
       "    .dataframe tbody tr th {\n",
       "        vertical-align: top;\n",
       "    }\n",
       "\n",
       "    .dataframe thead th {\n",
       "        text-align: right;\n",
       "    }\n",
       "</style>\n",
       "<table border=\"1\" class=\"dataframe\">\n",
       "  <thead>\n",
       "    <tr style=\"text-align: right;\">\n",
       "      <th></th>\n",
       "      <th>customer_ID</th>\n",
       "    </tr>\n",
       "  </thead>\n",
       "  <tbody>\n",
       "    <tr>\n",
       "      <th>0</th>\n",
       "      <td>0000099d6bd597052cdcda90ffabf56573fe9d7c79be5f...</td>\n",
       "    </tr>\n",
       "    <tr>\n",
       "      <th>1</th>\n",
       "      <td>00000fd6641609c6ece5454664794f0340ad84dddce9a2...</td>\n",
       "    </tr>\n",
       "    <tr>\n",
       "      <th>2</th>\n",
       "      <td>00001b22f846c82c51f6e3958ccd81970162bae8b007e8...</td>\n",
       "    </tr>\n",
       "    <tr>\n",
       "      <th>3</th>\n",
       "      <td>000041bdba6ecadd89a52d11886e8eaaec9325906c9723...</td>\n",
       "    </tr>\n",
       "    <tr>\n",
       "      <th>4</th>\n",
       "      <td>00007889e4fcd2614b6cbe7f8f3d2e5c728eca32d9eb8a...</td>\n",
       "    </tr>\n",
       "    <tr>\n",
       "      <th>...</th>\n",
       "      <td>...</td>\n",
       "    </tr>\n",
       "    <tr>\n",
       "      <th>458908</th>\n",
       "      <td>ffff41c8a52833b56430603969b9ca48d208e7c192c6a4...</td>\n",
       "    </tr>\n",
       "    <tr>\n",
       "      <th>458909</th>\n",
       "      <td>ffff518bb2075e4816ee3fe9f3b152c57fc0e6f01bf7fd...</td>\n",
       "    </tr>\n",
       "    <tr>\n",
       "      <th>458910</th>\n",
       "      <td>ffff9984b999fccb2b6127635ed0736dda94e544e67e02...</td>\n",
       "    </tr>\n",
       "    <tr>\n",
       "      <th>458911</th>\n",
       "      <td>ffffa5c46bc8de74f5a4554e74e239c8dee6b9baf38814...</td>\n",
       "    </tr>\n",
       "    <tr>\n",
       "      <th>458912</th>\n",
       "      <td>fffff1d38b785cef84adeace64f8f83db3a0c31e8d92ea...</td>\n",
       "    </tr>\n",
       "  </tbody>\n",
       "</table>\n",
       "<p>458913 rows × 1 columns</p>\n",
       "</div>"
      ],
      "text/plain": [
       "                                              customer_ID\n",
       "0       0000099d6bd597052cdcda90ffabf56573fe9d7c79be5f...\n",
       "1       00000fd6641609c6ece5454664794f0340ad84dddce9a2...\n",
       "2       00001b22f846c82c51f6e3958ccd81970162bae8b007e8...\n",
       "3       000041bdba6ecadd89a52d11886e8eaaec9325906c9723...\n",
       "4       00007889e4fcd2614b6cbe7f8f3d2e5c728eca32d9eb8a...\n",
       "...                                                   ...\n",
       "458908  ffff41c8a52833b56430603969b9ca48d208e7c192c6a4...\n",
       "458909  ffff518bb2075e4816ee3fe9f3b152c57fc0e6f01bf7fd...\n",
       "458910  ffff9984b999fccb2b6127635ed0736dda94e544e67e02...\n",
       "458911  ffffa5c46bc8de74f5a4554e74e239c8dee6b9baf38814...\n",
       "458912  fffff1d38b785cef84adeace64f8f83db3a0c31e8d92ea...\n",
       "\n",
       "[458913 rows x 1 columns]"
      ]
     },
     "execution_count": 5,
     "metadata": {},
     "output_type": "execute_result"
    },
    {
     "data": {
      "application/javascript": [
       "\n",
       "            setTimeout(function() {\n",
       "                var nbb_cell_id = 5;\n",
       "                var nbb_unformatted_code = \"customer_df = pd.read_sql_query(\\\"SELECT DISTINCT customer_ID FROM train_data\\\", con)\\ncustomer_df\";\n",
       "                var nbb_formatted_code = \"customer_df = pd.read_sql_query(\\\"SELECT DISTINCT customer_ID FROM train_data\\\", con)\\ncustomer_df\";\n",
       "                var nbb_cells = Jupyter.notebook.get_cells();\n",
       "                for (var i = 0; i < nbb_cells.length; ++i) {\n",
       "                    if (nbb_cells[i].input_prompt_number == nbb_cell_id) {\n",
       "                        if (nbb_cells[i].get_text() == nbb_unformatted_code) {\n",
       "                             nbb_cells[i].set_text(nbb_formatted_code);\n",
       "                        }\n",
       "                        break;\n",
       "                    }\n",
       "                }\n",
       "            }, 500);\n",
       "            "
      ],
      "text/plain": [
       "<IPython.core.display.Javascript object>"
      ]
     },
     "metadata": {},
     "output_type": "display_data"
    }
   ],
   "source": [
    "customer_df = pd.read_sql_query(\"SELECT DISTINCT customer_ID FROM train_data\", con)\n",
    "customer_df"
   ]
  },
  {
   "cell_type": "code",
   "execution_count": 6,
   "id": "91499446",
   "metadata": {
    "ExecuteTime": {
     "end_time": "2022-09-02T18:41:19.480594Z",
     "start_time": "2022-09-02T18:41:19.474967Z"
    }
   },
   "outputs": [
    {
     "data": {
      "text/plain": [
       "15"
      ]
     },
     "execution_count": 6,
     "metadata": {},
     "output_type": "execute_result"
    },
    {
     "data": {
      "application/javascript": [
       "\n",
       "            setTimeout(function() {\n",
       "                var nbb_cell_id = 6;\n",
       "                var nbb_unformatted_code = \"chunks = np.array_split(\\n    customer_df[\\\"customer_ID\\\"].values, int(len(customer_df) / 30000)\\n)  # chunk 30k\\nlen(chunks)\";\n",
       "                var nbb_formatted_code = \"chunks = np.array_split(\\n    customer_df[\\\"customer_ID\\\"].values, int(len(customer_df) / 30000)\\n)  # chunk 30k\\nlen(chunks)\";\n",
       "                var nbb_cells = Jupyter.notebook.get_cells();\n",
       "                for (var i = 0; i < nbb_cells.length; ++i) {\n",
       "                    if (nbb_cells[i].input_prompt_number == nbb_cell_id) {\n",
       "                        if (nbb_cells[i].get_text() == nbb_unformatted_code) {\n",
       "                             nbb_cells[i].set_text(nbb_formatted_code);\n",
       "                        }\n",
       "                        break;\n",
       "                    }\n",
       "                }\n",
       "            }, 500);\n",
       "            "
      ],
      "text/plain": [
       "<IPython.core.display.Javascript object>"
      ]
     },
     "metadata": {},
     "output_type": "display_data"
    }
   ],
   "source": [
    "chunks = np.array_split(\n",
    "    customer_df[\"customer_ID\"].values, int(len(customer_df) / 30000)\n",
    ")  # chunk 30k\n",
    "len(chunks)"
   ]
  },
  {
   "cell_type": "code",
   "execution_count": 7,
   "id": "543ffb3b",
   "metadata": {
    "ExecuteTime": {
     "end_time": "2022-09-02T18:41:19.505434Z",
     "start_time": "2022-09-02T18:41:19.481549Z"
    }
   },
   "outputs": [
    {
     "data": {
      "application/javascript": [
       "\n",
       "            setTimeout(function() {\n",
       "                var nbb_cell_id = 7;\n",
       "                var nbb_unformatted_code = \"def do_work(customer_ids):\\n    df = pd.read_sql_query(\\n        \\\"SELECT * FROM train_data WHERE customer_ID IN ({seq})\\\".format(\\n            seq=\\\"'\\\" + \\\"','\\\".join(customer_ids) + \\\"'\\\"\\n        ),\\n        con,\\n    ).set_index(\\\"customer_ID\\\")\\n\\n    df.sort_values([\\\"customer_ID\\\", \\\"S_2\\\"], inplace=True)\\n    df.drop(\\\"S_2\\\", axis=1, inplace=True)\\n\\n    cat_columns = [\\n        \\\"B_30\\\",\\n        \\\"B_38\\\",\\n        \\\"D_114\\\",\\n        \\\"D_116\\\",\\n        \\\"D_117\\\",\\n        \\\"D_120\\\",\\n        \\\"D_126\\\",\\n        \\\"D_63\\\",\\n        \\\"D_64\\\",\\n        \\\"D_66\\\",\\n        \\\"D_68\\\",\\n    ]\\n\\n    df[cat_columns] = df[cat_columns].astype(str)\\n    for cat_column in cat_columns:\\n        df[cat_column] = le.fit_transform(df[cat_column])\\n\\n    categorical_df = df[cat_columns].groupby(\\\"customer_ID\\\").max().copy()\\n\\n    num_columns = list(set(df.columns) - set(cat_columns))\\n\\n    df1 = (\\n        df[num_columns]\\n        .replace(r\\\"^\\\\s*$\\\", np.nan, regex=True)\\n        .astype(float)\\n        .fillna(0)\\n        .copy()\\n    )\\n    df1 = df1.groupby(\\\"customer_ID\\\").mean()\\n\\n    label_df = pd.read_sql_query(\\n        \\\"SELECT * FROM train_labels WHERE customer_ID IN ({seq})\\\".format(\\n            seq=\\\"'\\\" + \\\"','\\\".join(customer_ids) + \\\"'\\\"\\n        ),\\n        con,\\n    ).set_index(\\\"customer_ID\\\")\\n\\n    return df1.join([categorical_df, label_df])\";\n",
       "                var nbb_formatted_code = \"def do_work(customer_ids):\\n    df = pd.read_sql_query(\\n        \\\"SELECT * FROM train_data WHERE customer_ID IN ({seq})\\\".format(\\n            seq=\\\"'\\\" + \\\"','\\\".join(customer_ids) + \\\"'\\\"\\n        ),\\n        con,\\n    ).set_index(\\\"customer_ID\\\")\\n\\n    df.sort_values([\\\"customer_ID\\\", \\\"S_2\\\"], inplace=True)\\n    df.drop(\\\"S_2\\\", axis=1, inplace=True)\\n\\n    cat_columns = [\\n        \\\"B_30\\\",\\n        \\\"B_38\\\",\\n        \\\"D_114\\\",\\n        \\\"D_116\\\",\\n        \\\"D_117\\\",\\n        \\\"D_120\\\",\\n        \\\"D_126\\\",\\n        \\\"D_63\\\",\\n        \\\"D_64\\\",\\n        \\\"D_66\\\",\\n        \\\"D_68\\\",\\n    ]\\n\\n    df[cat_columns] = df[cat_columns].astype(str)\\n    for cat_column in cat_columns:\\n        df[cat_column] = le.fit_transform(df[cat_column])\\n\\n    categorical_df = df[cat_columns].groupby(\\\"customer_ID\\\").max().copy()\\n\\n    num_columns = list(set(df.columns) - set(cat_columns))\\n\\n    df1 = (\\n        df[num_columns]\\n        .replace(r\\\"^\\\\s*$\\\", np.nan, regex=True)\\n        .astype(float)\\n        .fillna(0)\\n        .copy()\\n    )\\n    df1 = df1.groupby(\\\"customer_ID\\\").mean()\\n\\n    label_df = pd.read_sql_query(\\n        \\\"SELECT * FROM train_labels WHERE customer_ID IN ({seq})\\\".format(\\n            seq=\\\"'\\\" + \\\"','\\\".join(customer_ids) + \\\"'\\\"\\n        ),\\n        con,\\n    ).set_index(\\\"customer_ID\\\")\\n\\n    return df1.join([categorical_df, label_df])\";\n",
       "                var nbb_cells = Jupyter.notebook.get_cells();\n",
       "                for (var i = 0; i < nbb_cells.length; ++i) {\n",
       "                    if (nbb_cells[i].input_prompt_number == nbb_cell_id) {\n",
       "                        if (nbb_cells[i].get_text() == nbb_unformatted_code) {\n",
       "                             nbb_cells[i].set_text(nbb_formatted_code);\n",
       "                        }\n",
       "                        break;\n",
       "                    }\n",
       "                }\n",
       "            }, 500);\n",
       "            "
      ],
      "text/plain": [
       "<IPython.core.display.Javascript object>"
      ]
     },
     "metadata": {},
     "output_type": "display_data"
    }
   ],
   "source": [
    "def do_work(customer_ids):\n",
    "    df = pd.read_sql_query(\n",
    "        \"SELECT * FROM train_data WHERE customer_ID IN ({seq})\".format(\n",
    "            seq=\"'\" + \"','\".join(customer_ids) + \"'\"\n",
    "        ),\n",
    "        con,\n",
    "    ).set_index(\"customer_ID\")\n",
    "\n",
    "    df.sort_values([\"customer_ID\", \"S_2\"], inplace=True)\n",
    "    df.drop(\"S_2\", axis=1, inplace=True)\n",
    "\n",
    "    cat_columns = [\n",
    "        \"B_30\",\n",
    "        \"B_38\",\n",
    "        \"D_114\",\n",
    "        \"D_116\",\n",
    "        \"D_117\",\n",
    "        \"D_120\",\n",
    "        \"D_126\",\n",
    "        \"D_63\",\n",
    "        \"D_64\",\n",
    "        \"D_66\",\n",
    "        \"D_68\",\n",
    "    ]\n",
    "\n",
    "    df[cat_columns] = df[cat_columns].astype(str)\n",
    "    for cat_column in cat_columns:\n",
    "        df[cat_column] = le.fit_transform(df[cat_column])\n",
    "\n",
    "    categorical_df = df[cat_columns].groupby(\"customer_ID\").max().copy()\n",
    "\n",
    "    num_columns = list(set(df.columns) - set(cat_columns))\n",
    "\n",
    "    df1 = (\n",
    "        df[num_columns]\n",
    "        .replace(r\"^\\s*$\", np.nan, regex=True)\n",
    "        .astype(float)\n",
    "        .fillna(0)\n",
    "        .copy()\n",
    "    )\n",
    "    df1 = df1.groupby(\"customer_ID\").mean()\n",
    "\n",
    "    label_df = pd.read_sql_query(\n",
    "        \"SELECT * FROM train_labels WHERE customer_ID IN ({seq})\".format(\n",
    "            seq=\"'\" + \"','\".join(customer_ids) + \"'\"\n",
    "        ),\n",
    "        con,\n",
    "    ).set_index(\"customer_ID\")\n",
    "\n",
    "    return df1.join([categorical_df, label_df])"
   ]
  },
  {
   "cell_type": "code",
   "execution_count": 8,
   "id": "589ca2c5",
   "metadata": {
    "ExecuteTime": {
     "end_time": "2022-09-02T19:00:38.931154Z",
     "start_time": "2022-09-02T18:41:19.506801Z"
    }
   },
   "outputs": [
    {
     "data": {
      "application/vnd.jupyter.widget-view+json": {
       "model_id": "de367a90e5e647af9e584bed8252a93b",
       "version_major": 2,
       "version_minor": 0
      },
      "text/plain": [
       "  0%|          | 0/15 [00:00<?, ?it/s]"
      ]
     },
     "metadata": {},
     "output_type": "display_data"
    },
    {
     "data": {
      "application/javascript": [
       "\n",
       "            setTimeout(function() {\n",
       "                var nbb_cell_id = 8;\n",
       "                var nbb_unformatted_code = \"for idx, customer_ids in enumerate(tqdm(chunks), 1):\\n    train_group_df = do_work(customer_ids)\\n\\n    train_group_df.to_csv(\\n        \\\"../../data/amex-default-prediction/chunks/train_group_data_{}.csv\\\".format(idx)\\n    )\\n\\n    gc.collect()\";\n",
       "                var nbb_formatted_code = \"for idx, customer_ids in enumerate(tqdm(chunks), 1):\\n    train_group_df = do_work(customer_ids)\\n\\n    train_group_df.to_csv(\\n        \\\"../../data/amex-default-prediction/chunks/train_group_data_{}.csv\\\".format(idx)\\n    )\\n\\n    gc.collect()\";\n",
       "                var nbb_cells = Jupyter.notebook.get_cells();\n",
       "                for (var i = 0; i < nbb_cells.length; ++i) {\n",
       "                    if (nbb_cells[i].input_prompt_number == nbb_cell_id) {\n",
       "                        if (nbb_cells[i].get_text() == nbb_unformatted_code) {\n",
       "                             nbb_cells[i].set_text(nbb_formatted_code);\n",
       "                        }\n",
       "                        break;\n",
       "                    }\n",
       "                }\n",
       "            }, 500);\n",
       "            "
      ],
      "text/plain": [
       "<IPython.core.display.Javascript object>"
      ]
     },
     "metadata": {},
     "output_type": "display_data"
    }
   ],
   "source": [
    "for idx, customer_ids in enumerate(tqdm(chunks), 1):\n",
    "    train_group_df = do_work(customer_ids)\n",
    "\n",
    "    train_group_df.to_csv(\n",
    "        \"../../data/amex-default-prediction/train/train_group_data_{}.csv\".format(idx)\n",
    "    )\n",
    "\n",
    "    gc.collect()"
   ]
  },
  {
   "cell_type": "code",
   "execution_count": null,
   "id": "69c2593b",
   "metadata": {},
   "outputs": [],
   "source": []
  },
  {
   "cell_type": "code",
   "execution_count": null,
   "id": "2807ffea",
   "metadata": {},
   "outputs": [],
   "source": []
  },
  {
   "cell_type": "code",
   "execution_count": null,
   "id": "c36974ae",
   "metadata": {},
   "outputs": [],
   "source": []
  },
  {
   "cell_type": "code",
   "execution_count": null,
   "id": "8192e5d4",
   "metadata": {},
   "outputs": [],
   "source": []
  },
  {
   "cell_type": "code",
   "execution_count": null,
   "id": "6adfa9cc",
   "metadata": {},
   "outputs": [],
   "source": []
  }
 ],
 "metadata": {
  "kernelspec": {
   "display_name": "Python 3 (ipykernel)",
   "language": "python",
   "name": "python3"
  },
  "language_info": {
   "codemirror_mode": {
    "name": "ipython",
    "version": 3
   },
   "file_extension": ".py",
   "mimetype": "text/x-python",
   "name": "python",
   "nbconvert_exporter": "python",
   "pygments_lexer": "ipython3",
   "version": "3.9.12"
  }
 },
 "nbformat": 4,
 "nbformat_minor": 5
}
