{
 "cells": [
  {
   "cell_type": "markdown",
   "id": "14067006",
   "metadata": {},
   "source": [
    "# Test data preprocessing"
   ]
  },
  {
   "cell_type": "code",
   "execution_count": 1,
   "id": "8ec3594e",
   "metadata": {
    "ExecuteTime": {
     "end_time": "2022-09-03T06:31:59.044436Z",
     "start_time": "2022-09-03T06:31:57.095672Z"
    }
   },
   "outputs": [],
   "source": [
    "import pandas as pd\n",
    "import numpy as np\n",
    "from sklearn import preprocessing\n",
    "from tqdm.notebook import tqdm\n",
    "import tsfresh\n",
    "import sqlite3\n",
    "import gc"
   ]
  },
  {
   "cell_type": "code",
   "execution_count": 2,
   "id": "a7e400b9",
   "metadata": {
    "ExecuteTime": {
     "end_time": "2022-09-03T06:31:59.097419Z",
     "start_time": "2022-09-03T06:31:59.045881Z"
    }
   },
   "outputs": [
    {
     "data": {
      "application/javascript": [
       "\n",
       "            setTimeout(function() {\n",
       "                var nbb_cell_id = 2;\n",
       "                var nbb_unformatted_code = \"%load_ext nb_black\";\n",
       "                var nbb_formatted_code = \"%load_ext nb_black\";\n",
       "                var nbb_cells = Jupyter.notebook.get_cells();\n",
       "                for (var i = 0; i < nbb_cells.length; ++i) {\n",
       "                    if (nbb_cells[i].input_prompt_number == nbb_cell_id) {\n",
       "                        if (nbb_cells[i].get_text() == nbb_unformatted_code) {\n",
       "                             nbb_cells[i].set_text(nbb_formatted_code);\n",
       "                        }\n",
       "                        break;\n",
       "                    }\n",
       "                }\n",
       "            }, 500);\n",
       "            "
      ],
      "text/plain": [
       "<IPython.core.display.Javascript object>"
      ]
     },
     "metadata": {},
     "output_type": "display_data"
    }
   ],
   "source": [
    "%load_ext nb_black"
   ]
  },
  {
   "cell_type": "code",
   "execution_count": 3,
   "id": "c5c5bb1f",
   "metadata": {
    "ExecuteTime": {
     "end_time": "2022-09-03T06:31:59.102029Z",
     "start_time": "2022-09-03T06:31:59.098613Z"
    }
   },
   "outputs": [
    {
     "data": {
      "application/javascript": [
       "\n",
       "            setTimeout(function() {\n",
       "                var nbb_cell_id = 3;\n",
       "                var nbb_unformatted_code = \"le = preprocessing.LabelEncoder()\";\n",
       "                var nbb_formatted_code = \"le = preprocessing.LabelEncoder()\";\n",
       "                var nbb_cells = Jupyter.notebook.get_cells();\n",
       "                for (var i = 0; i < nbb_cells.length; ++i) {\n",
       "                    if (nbb_cells[i].input_prompt_number == nbb_cell_id) {\n",
       "                        if (nbb_cells[i].get_text() == nbb_unformatted_code) {\n",
       "                             nbb_cells[i].set_text(nbb_formatted_code);\n",
       "                        }\n",
       "                        break;\n",
       "                    }\n",
       "                }\n",
       "            }, 500);\n",
       "            "
      ],
      "text/plain": [
       "<IPython.core.display.Javascript object>"
      ]
     },
     "metadata": {},
     "output_type": "display_data"
    }
   ],
   "source": [
    "le = preprocessing.LabelEncoder()"
   ]
  },
  {
   "cell_type": "code",
   "execution_count": 4,
   "id": "d7b26de8",
   "metadata": {
    "ExecuteTime": {
     "end_time": "2022-09-03T06:31:59.110583Z",
     "start_time": "2022-09-03T06:31:59.103730Z"
    }
   },
   "outputs": [
    {
     "data": {
      "text/plain": [
       "<sqlite3.Connection at 0x7fc82113e4e0>"
      ]
     },
     "execution_count": 4,
     "metadata": {},
     "output_type": "execute_result"
    },
    {
     "data": {
      "application/javascript": [
       "\n",
       "            setTimeout(function() {\n",
       "                var nbb_cell_id = 4;\n",
       "                var nbb_unformatted_code = \"con = sqlite3.connect(\\\"../../data/amex-default-prediction/amex-data.sqlite\\\")\\ncon\";\n",
       "                var nbb_formatted_code = \"con = sqlite3.connect(\\\"../../data/amex-default-prediction/amex-data.sqlite\\\")\\ncon\";\n",
       "                var nbb_cells = Jupyter.notebook.get_cells();\n",
       "                for (var i = 0; i < nbb_cells.length; ++i) {\n",
       "                    if (nbb_cells[i].input_prompt_number == nbb_cell_id) {\n",
       "                        if (nbb_cells[i].get_text() == nbb_unformatted_code) {\n",
       "                             nbb_cells[i].set_text(nbb_formatted_code);\n",
       "                        }\n",
       "                        break;\n",
       "                    }\n",
       "                }\n",
       "            }, 500);\n",
       "            "
      ],
      "text/plain": [
       "<IPython.core.display.Javascript object>"
      ]
     },
     "metadata": {},
     "output_type": "display_data"
    }
   ],
   "source": [
    "con = sqlite3.connect(\"../../data/amex-default-prediction/amex-data.sqlite\")\n",
    "con"
   ]
  },
  {
   "cell_type": "code",
   "execution_count": 5,
   "id": "b7cb9c8d",
   "metadata": {
    "ExecuteTime": {
     "end_time": "2022-09-03T06:32:00.038302Z",
     "start_time": "2022-09-03T06:31:59.112612Z"
    }
   },
   "outputs": [
    {
     "data": {
      "text/html": [
       "<div>\n",
       "<style scoped>\n",
       "    .dataframe tbody tr th:only-of-type {\n",
       "        vertical-align: middle;\n",
       "    }\n",
       "\n",
       "    .dataframe tbody tr th {\n",
       "        vertical-align: top;\n",
       "    }\n",
       "\n",
       "    .dataframe thead th {\n",
       "        text-align: right;\n",
       "    }\n",
       "</style>\n",
       "<table border=\"1\" class=\"dataframe\">\n",
       "  <thead>\n",
       "    <tr style=\"text-align: right;\">\n",
       "      <th></th>\n",
       "      <th>customer_ID</th>\n",
       "    </tr>\n",
       "  </thead>\n",
       "  <tbody>\n",
       "    <tr>\n",
       "      <th>0</th>\n",
       "      <td>00000469ba478561f23a92a868bd366de6f6527a684c9a...</td>\n",
       "    </tr>\n",
       "    <tr>\n",
       "      <th>1</th>\n",
       "      <td>00001bf2e77ff879fab36aa4fac689b9ba411dae63ae39...</td>\n",
       "    </tr>\n",
       "    <tr>\n",
       "      <th>2</th>\n",
       "      <td>0000210045da4f81e5f122c6bde5c2a617d03eef67f82c...</td>\n",
       "    </tr>\n",
       "    <tr>\n",
       "      <th>3</th>\n",
       "      <td>00003b41e58ede33b8daf61ab56d9952f17c9ad1c3976c...</td>\n",
       "    </tr>\n",
       "    <tr>\n",
       "      <th>4</th>\n",
       "      <td>00004b22eaeeeb0ec976890c1d9bfc14fd9427e98c4ee9...</td>\n",
       "    </tr>\n",
       "    <tr>\n",
       "      <th>...</th>\n",
       "      <td>...</td>\n",
       "    </tr>\n",
       "    <tr>\n",
       "      <th>924616</th>\n",
       "      <td>ffff952c631f2c911b8a2a8ca56ea6e656309a83d2f64c...</td>\n",
       "    </tr>\n",
       "    <tr>\n",
       "      <th>924617</th>\n",
       "      <td>ffffcf5df59e5e0bba2a5ac4578a34e2b5aa64a1546cd3...</td>\n",
       "    </tr>\n",
       "    <tr>\n",
       "      <th>924618</th>\n",
       "      <td>ffffd61f098cc056dbd7d2a21380c4804bbfe60856f475...</td>\n",
       "    </tr>\n",
       "    <tr>\n",
       "      <th>924619</th>\n",
       "      <td>ffffddef1fc3643ea179c93245b68dca0f36941cd83977...</td>\n",
       "    </tr>\n",
       "    <tr>\n",
       "      <th>924620</th>\n",
       "      <td>fffffa7cf7e453e1acc6a1426475d5cb9400859f82ff61...</td>\n",
       "    </tr>\n",
       "  </tbody>\n",
       "</table>\n",
       "<p>924621 rows × 1 columns</p>\n",
       "</div>"
      ],
      "text/plain": [
       "                                              customer_ID\n",
       "0       00000469ba478561f23a92a868bd366de6f6527a684c9a...\n",
       "1       00001bf2e77ff879fab36aa4fac689b9ba411dae63ae39...\n",
       "2       0000210045da4f81e5f122c6bde5c2a617d03eef67f82c...\n",
       "3       00003b41e58ede33b8daf61ab56d9952f17c9ad1c3976c...\n",
       "4       00004b22eaeeeb0ec976890c1d9bfc14fd9427e98c4ee9...\n",
       "...                                                   ...\n",
       "924616  ffff952c631f2c911b8a2a8ca56ea6e656309a83d2f64c...\n",
       "924617  ffffcf5df59e5e0bba2a5ac4578a34e2b5aa64a1546cd3...\n",
       "924618  ffffd61f098cc056dbd7d2a21380c4804bbfe60856f475...\n",
       "924619  ffffddef1fc3643ea179c93245b68dca0f36941cd83977...\n",
       "924620  fffffa7cf7e453e1acc6a1426475d5cb9400859f82ff61...\n",
       "\n",
       "[924621 rows x 1 columns]"
      ]
     },
     "execution_count": 5,
     "metadata": {},
     "output_type": "execute_result"
    },
    {
     "data": {
      "application/javascript": [
       "\n",
       "            setTimeout(function() {\n",
       "                var nbb_cell_id = 5;\n",
       "                var nbb_unformatted_code = \"customer_df = pd.read_sql_query(\\\"SELECT DISTINCT customer_ID FROM test_data\\\", con)\\ncustomer_df\";\n",
       "                var nbb_formatted_code = \"customer_df = pd.read_sql_query(\\\"SELECT DISTINCT customer_ID FROM test_data\\\", con)\\ncustomer_df\";\n",
       "                var nbb_cells = Jupyter.notebook.get_cells();\n",
       "                for (var i = 0; i < nbb_cells.length; ++i) {\n",
       "                    if (nbb_cells[i].input_prompt_number == nbb_cell_id) {\n",
       "                        if (nbb_cells[i].get_text() == nbb_unformatted_code) {\n",
       "                             nbb_cells[i].set_text(nbb_formatted_code);\n",
       "                        }\n",
       "                        break;\n",
       "                    }\n",
       "                }\n",
       "            }, 500);\n",
       "            "
      ],
      "text/plain": [
       "<IPython.core.display.Javascript object>"
      ]
     },
     "metadata": {},
     "output_type": "display_data"
    }
   ],
   "source": [
    "customer_df = pd.read_sql_query(\"SELECT DISTINCT customer_ID FROM test_data\", con)\n",
    "customer_df"
   ]
  },
  {
   "cell_type": "code",
   "execution_count": 6,
   "id": "91499446",
   "metadata": {
    "ExecuteTime": {
     "end_time": "2022-09-03T06:32:00.044185Z",
     "start_time": "2022-09-03T06:32:00.039178Z"
    }
   },
   "outputs": [
    {
     "data": {
      "text/plain": [
       "30"
      ]
     },
     "execution_count": 6,
     "metadata": {},
     "output_type": "execute_result"
    },
    {
     "data": {
      "application/javascript": [
       "\n",
       "            setTimeout(function() {\n",
       "                var nbb_cell_id = 6;\n",
       "                var nbb_unformatted_code = \"chunks = np.array_split(\\n    customer_df[\\\"customer_ID\\\"].values, int(len(customer_df) / 30000)\\n)  # chunk 30k\\nlen(chunks)\";\n",
       "                var nbb_formatted_code = \"chunks = np.array_split(\\n    customer_df[\\\"customer_ID\\\"].values, int(len(customer_df) / 30000)\\n)  # chunk 30k\\nlen(chunks)\";\n",
       "                var nbb_cells = Jupyter.notebook.get_cells();\n",
       "                for (var i = 0; i < nbb_cells.length; ++i) {\n",
       "                    if (nbb_cells[i].input_prompt_number == nbb_cell_id) {\n",
       "                        if (nbb_cells[i].get_text() == nbb_unformatted_code) {\n",
       "                             nbb_cells[i].set_text(nbb_formatted_code);\n",
       "                        }\n",
       "                        break;\n",
       "                    }\n",
       "                }\n",
       "            }, 500);\n",
       "            "
      ],
      "text/plain": [
       "<IPython.core.display.Javascript object>"
      ]
     },
     "metadata": {},
     "output_type": "display_data"
    }
   ],
   "source": [
    "chunks = np.array_split(\n",
    "    customer_df[\"customer_ID\"].values, int(len(customer_df) / 30000)\n",
    ")  # chunk 30k\n",
    "len(chunks)"
   ]
  },
  {
   "cell_type": "code",
   "execution_count": 7,
   "id": "543ffb3b",
   "metadata": {
    "ExecuteTime": {
     "end_time": "2022-09-03T06:32:00.067139Z",
     "start_time": "2022-09-03T06:32:00.044962Z"
    }
   },
   "outputs": [
    {
     "data": {
      "application/javascript": [
       "\n",
       "            setTimeout(function() {\n",
       "                var nbb_cell_id = 7;\n",
       "                var nbb_unformatted_code = \"def do_work(customer_ids):\\n    df = pd.read_sql_query(\\n        \\\"SELECT * FROM test_data WHERE customer_ID IN ({seq})\\\".format(\\n            seq=\\\"'\\\" + \\\"','\\\".join(customer_ids) + \\\"'\\\"\\n        ),\\n        con,\\n    ).set_index(\\\"customer_ID\\\")\\n\\n    df.sort_values([\\\"customer_ID\\\", \\\"S_2\\\"], inplace=True)\\n    df.drop(\\\"S_2\\\", axis=1, inplace=True)\\n\\n    cat_columns = [\\n        \\\"B_30\\\",\\n        \\\"B_38\\\",\\n        \\\"D_114\\\",\\n        \\\"D_116\\\",\\n        \\\"D_117\\\",\\n        \\\"D_120\\\",\\n        \\\"D_126\\\",\\n        \\\"D_63\\\",\\n        \\\"D_64\\\",\\n        \\\"D_66\\\",\\n        \\\"D_68\\\",\\n    ]\\n\\n    df[cat_columns] = df[cat_columns].astype(str)\\n    for cat_column in cat_columns:\\n        df[cat_column] = le.fit_transform(df[cat_column])\\n\\n    categorical_df = df[cat_columns].groupby(\\\"customer_ID\\\").max().copy()\\n\\n    num_columns = list(set(df.columns) - set(cat_columns))\\n\\n    df1 = (\\n        df[num_columns]\\n        .replace(r\\\"^\\\\s*$\\\", np.nan, regex=True)\\n        .astype(float)\\n        .fillna(0)\\n        .copy()\\n    )\\n    df1 = df1.groupby(\\\"customer_ID\\\").mean()\\n\\n    return df1.join(categorical_df)\";\n",
       "                var nbb_formatted_code = \"def do_work(customer_ids):\\n    df = pd.read_sql_query(\\n        \\\"SELECT * FROM test_data WHERE customer_ID IN ({seq})\\\".format(\\n            seq=\\\"'\\\" + \\\"','\\\".join(customer_ids) + \\\"'\\\"\\n        ),\\n        con,\\n    ).set_index(\\\"customer_ID\\\")\\n\\n    df.sort_values([\\\"customer_ID\\\", \\\"S_2\\\"], inplace=True)\\n    df.drop(\\\"S_2\\\", axis=1, inplace=True)\\n\\n    cat_columns = [\\n        \\\"B_30\\\",\\n        \\\"B_38\\\",\\n        \\\"D_114\\\",\\n        \\\"D_116\\\",\\n        \\\"D_117\\\",\\n        \\\"D_120\\\",\\n        \\\"D_126\\\",\\n        \\\"D_63\\\",\\n        \\\"D_64\\\",\\n        \\\"D_66\\\",\\n        \\\"D_68\\\",\\n    ]\\n\\n    df[cat_columns] = df[cat_columns].astype(str)\\n    for cat_column in cat_columns:\\n        df[cat_column] = le.fit_transform(df[cat_column])\\n\\n    categorical_df = df[cat_columns].groupby(\\\"customer_ID\\\").max().copy()\\n\\n    num_columns = list(set(df.columns) - set(cat_columns))\\n\\n    df1 = (\\n        df[num_columns]\\n        .replace(r\\\"^\\\\s*$\\\", np.nan, regex=True)\\n        .astype(float)\\n        .fillna(0)\\n        .copy()\\n    )\\n    df1 = df1.groupby(\\\"customer_ID\\\").mean()\\n\\n    return df1.join(categorical_df)\";\n",
       "                var nbb_cells = Jupyter.notebook.get_cells();\n",
       "                for (var i = 0; i < nbb_cells.length; ++i) {\n",
       "                    if (nbb_cells[i].input_prompt_number == nbb_cell_id) {\n",
       "                        if (nbb_cells[i].get_text() == nbb_unformatted_code) {\n",
       "                             nbb_cells[i].set_text(nbb_formatted_code);\n",
       "                        }\n",
       "                        break;\n",
       "                    }\n",
       "                }\n",
       "            }, 500);\n",
       "            "
      ],
      "text/plain": [
       "<IPython.core.display.Javascript object>"
      ]
     },
     "metadata": {},
     "output_type": "display_data"
    }
   ],
   "source": [
    "def do_work(customer_ids):\n",
    "    df = pd.read_sql_query(\n",
    "        \"SELECT * FROM test_data WHERE customer_ID IN ({seq})\".format(\n",
    "            seq=\"'\" + \"','\".join(customer_ids) + \"'\"\n",
    "        ),\n",
    "        con,\n",
    "    ).set_index(\"customer_ID\")\n",
    "\n",
    "    df.sort_values([\"customer_ID\", \"S_2\"], inplace=True)\n",
    "    df.drop(\"S_2\", axis=1, inplace=True)\n",
    "\n",
    "    cat_columns = [\n",
    "        \"B_30\",\n",
    "        \"B_38\",\n",
    "        \"D_114\",\n",
    "        \"D_116\",\n",
    "        \"D_117\",\n",
    "        \"D_120\",\n",
    "        \"D_126\",\n",
    "        \"D_63\",\n",
    "        \"D_64\",\n",
    "        \"D_66\",\n",
    "        \"D_68\",\n",
    "    ]\n",
    "\n",
    "    df[cat_columns] = df[cat_columns].astype(str)\n",
    "    for cat_column in cat_columns:\n",
    "        df[cat_column] = le.fit_transform(df[cat_column])\n",
    "\n",
    "    categorical_df = df[cat_columns].groupby(\"customer_ID\").max().copy()\n",
    "\n",
    "    num_columns = list(set(df.columns) - set(cat_columns))\n",
    "\n",
    "    df1 = (\n",
    "        df[num_columns]\n",
    "        .replace(r\"^\\s*$\", np.nan, regex=True)\n",
    "        .astype(float)\n",
    "        .fillna(0)\n",
    "        .copy()\n",
    "    )\n",
    "    df1 = df1.groupby(\"customer_ID\").mean()\n",
    "\n",
    "    return df1.join(categorical_df)"
   ]
  },
  {
   "cell_type": "code",
   "execution_count": 8,
   "id": "589ca2c5",
   "metadata": {
    "ExecuteTime": {
     "end_time": "2022-09-03T07:12:45.456205Z",
     "start_time": "2022-09-03T06:32:00.068394Z"
    }
   },
   "outputs": [
    {
     "data": {
      "application/vnd.jupyter.widget-view+json": {
       "model_id": "1e5965438f9045089a8b7494e00f8f35",
       "version_major": 2,
       "version_minor": 0
      },
      "text/plain": [
       "  0%|          | 0/30 [00:00<?, ?it/s]"
      ]
     },
     "metadata": {},
     "output_type": "display_data"
    },
    {
     "data": {
      "application/javascript": [
       "\n",
       "            setTimeout(function() {\n",
       "                var nbb_cell_id = 8;\n",
       "                var nbb_unformatted_code = \"for idx, customer_ids in enumerate(tqdm(chunks), 1):\\n    test_group_df = do_work(customer_ids)\\n\\n    test_group_df.to_csv(\\n        \\\"../../data/amex-default-prediction/test/test_group_data_{}.csv\\\".format(idx)\\n    )\\n\\n    gc.collect()\";\n",
       "                var nbb_formatted_code = \"for idx, customer_ids in enumerate(tqdm(chunks), 1):\\n    test_group_df = do_work(customer_ids)\\n\\n    test_group_df.to_csv(\\n        \\\"../../data/amex-default-prediction/test/test_group_data_{}.csv\\\".format(idx)\\n    )\\n\\n    gc.collect()\";\n",
       "                var nbb_cells = Jupyter.notebook.get_cells();\n",
       "                for (var i = 0; i < nbb_cells.length; ++i) {\n",
       "                    if (nbb_cells[i].input_prompt_number == nbb_cell_id) {\n",
       "                        if (nbb_cells[i].get_text() == nbb_unformatted_code) {\n",
       "                             nbb_cells[i].set_text(nbb_formatted_code);\n",
       "                        }\n",
       "                        break;\n",
       "                    }\n",
       "                }\n",
       "            }, 500);\n",
       "            "
      ],
      "text/plain": [
       "<IPython.core.display.Javascript object>"
      ]
     },
     "metadata": {},
     "output_type": "display_data"
    }
   ],
   "source": [
    "for idx, customer_ids in enumerate(tqdm(chunks), 1):\n",
    "    test_group_df = do_work(customer_ids)\n",
    "\n",
    "    test_group_df.to_csv(\n",
    "        \"../../data/amex-default-prediction/test/test_group_data_{}.csv\".format(idx)\n",
    "    )\n",
    "\n",
    "    gc.collect()"
   ]
  },
  {
   "cell_type": "code",
   "execution_count": null,
   "id": "69c2593b",
   "metadata": {},
   "outputs": [],
   "source": []
  },
  {
   "cell_type": "code",
   "execution_count": null,
   "id": "2807ffea",
   "metadata": {},
   "outputs": [],
   "source": []
  },
  {
   "cell_type": "code",
   "execution_count": null,
   "id": "c36974ae",
   "metadata": {},
   "outputs": [],
   "source": []
  },
  {
   "cell_type": "code",
   "execution_count": null,
   "id": "8192e5d4",
   "metadata": {},
   "outputs": [],
   "source": []
  },
  {
   "cell_type": "code",
   "execution_count": null,
   "id": "6adfa9cc",
   "metadata": {},
   "outputs": [],
   "source": []
  }
 ],
 "metadata": {
  "kernelspec": {
   "display_name": "Python 3 (ipykernel)",
   "language": "python",
   "name": "python3"
  },
  "language_info": {
   "codemirror_mode": {
    "name": "ipython",
    "version": 3
   },
   "file_extension": ".py",
   "mimetype": "text/x-python",
   "name": "python",
   "nbconvert_exporter": "python",
   "pygments_lexer": "ipython3",
   "version": "3.9.12"
  }
 },
 "nbformat": 4,
 "nbformat_minor": 5
}
