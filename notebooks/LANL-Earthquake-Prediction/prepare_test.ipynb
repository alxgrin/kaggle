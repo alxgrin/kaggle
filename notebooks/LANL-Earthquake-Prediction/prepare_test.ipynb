{
 "cells": [
  {
   "cell_type": "markdown",
   "id": "47e8bc55",
   "metadata": {},
   "source": [
    "# Prepare test frame"
   ]
  },
  {
   "cell_type": "code",
   "execution_count": 1,
   "id": "ca22c807",
   "metadata": {
    "ExecuteTime": {
     "end_time": "2022-12-05T12:46:18.623740Z",
     "start_time": "2022-12-05T12:46:18.235100Z"
    }
   },
   "outputs": [],
   "source": [
    "import numpy as np\n",
    "import pandas as pd\n",
    "from pathlib import Path\n",
    "from tqdm.notebook import tqdm"
   ]
  },
  {
   "cell_type": "code",
   "execution_count": 2,
   "id": "36b8570e",
   "metadata": {
    "ExecuteTime": {
     "end_time": "2022-12-05T12:46:18.670306Z",
     "start_time": "2022-12-05T12:46:18.625985Z"
    }
   },
   "outputs": [
    {
     "data": {
      "application/javascript": [
       "\n",
       "            setTimeout(function() {\n",
       "                var nbb_cell_id = 2;\n",
       "                var nbb_unformatted_code = \"%load_ext nb_black\";\n",
       "                var nbb_formatted_code = \"%load_ext nb_black\";\n",
       "                var nbb_cells = Jupyter.notebook.get_cells();\n",
       "                for (var i = 0; i < nbb_cells.length; ++i) {\n",
       "                    if (nbb_cells[i].input_prompt_number == nbb_cell_id) {\n",
       "                        if (nbb_cells[i].get_text() == nbb_unformatted_code) {\n",
       "                             nbb_cells[i].set_text(nbb_formatted_code);\n",
       "                        }\n",
       "                        break;\n",
       "                    }\n",
       "                }\n",
       "            }, 500);\n",
       "            "
      ],
      "text/plain": [
       "<IPython.core.display.Javascript object>"
      ]
     },
     "metadata": {},
     "output_type": "display_data"
    }
   ],
   "source": [
    "%load_ext nb_black"
   ]
  },
  {
   "cell_type": "code",
   "execution_count": 3,
   "id": "47fd8db4",
   "metadata": {
    "ExecuteTime": {
     "end_time": "2022-12-05T12:46:18.698417Z",
     "start_time": "2022-12-05T12:46:18.676513Z"
    }
   },
   "outputs": [
    {
     "data": {
      "text/plain": [
       "2624"
      ]
     },
     "execution_count": 3,
     "metadata": {},
     "output_type": "execute_result"
    },
    {
     "data": {
      "application/javascript": [
       "\n",
       "            setTimeout(function() {\n",
       "                var nbb_cell_id = 3;\n",
       "                var nbb_unformatted_code = \"seq_file_list = [\\n    p\\n    for p in Path(\\\"../../data/LANL-Earthquake-Prediction/test/\\\").iterdir()\\n    if p.is_file()\\n]\\nlen(seq_file_list)\";\n",
       "                var nbb_formatted_code = \"seq_file_list = [\\n    p\\n    for p in Path(\\\"../../data/LANL-Earthquake-Prediction/test/\\\").iterdir()\\n    if p.is_file()\\n]\\nlen(seq_file_list)\";\n",
       "                var nbb_cells = Jupyter.notebook.get_cells();\n",
       "                for (var i = 0; i < nbb_cells.length; ++i) {\n",
       "                    if (nbb_cells[i].input_prompt_number == nbb_cell_id) {\n",
       "                        if (nbb_cells[i].get_text() == nbb_unformatted_code) {\n",
       "                             nbb_cells[i].set_text(nbb_formatted_code);\n",
       "                        }\n",
       "                        break;\n",
       "                    }\n",
       "                }\n",
       "            }, 500);\n",
       "            "
      ],
      "text/plain": [
       "<IPython.core.display.Javascript object>"
      ]
     },
     "metadata": {},
     "output_type": "display_data"
    }
   ],
   "source": [
    "seq_file_list = [\n",
    "    p\n",
    "    for p in Path(\"../../data/LANL-Earthquake-Prediction/test/\").iterdir()\n",
    "    if p.is_file()\n",
    "]\n",
    "len(seq_file_list)"
   ]
  },
  {
   "cell_type": "code",
   "execution_count": 4,
   "id": "3625181f",
   "metadata": {
    "ExecuteTime": {
     "end_time": "2022-12-05T12:46:40.525677Z",
     "start_time": "2022-12-05T12:46:18.700808Z"
    }
   },
   "outputs": [
    {
     "data": {
      "application/vnd.jupyter.widget-view+json": {
       "model_id": "7f585b97c2394503a8e6b8d6ce69531c",
       "version_major": 2,
       "version_minor": 0
      },
      "text/plain": [
       "  0%|          | 0/2624 [00:00<?, ?it/s]"
      ]
     },
     "metadata": {},
     "output_type": "display_data"
    },
    {
     "data": {
      "text/html": [
       "<div>\n",
       "<style scoped>\n",
       "    .dataframe tbody tr th:only-of-type {\n",
       "        vertical-align: middle;\n",
       "    }\n",
       "\n",
       "    .dataframe tbody tr th {\n",
       "        vertical-align: top;\n",
       "    }\n",
       "\n",
       "    .dataframe thead th {\n",
       "        text-align: right;\n",
       "    }\n",
       "</style>\n",
       "<table border=\"1\" class=\"dataframe\">\n",
       "  <thead>\n",
       "    <tr style=\"text-align: right;\">\n",
       "      <th></th>\n",
       "      <th>acoustic_data</th>\n",
       "      <th>seg_id</th>\n",
       "    </tr>\n",
       "  </thead>\n",
       "  <tbody>\n",
       "    <tr>\n",
       "      <th>0</th>\n",
       "      <td>0</td>\n",
       "      <td>seg_e5c033</td>\n",
       "    </tr>\n",
       "    <tr>\n",
       "      <th>1</th>\n",
       "      <td>6</td>\n",
       "      <td>seg_e5c033</td>\n",
       "    </tr>\n",
       "    <tr>\n",
       "      <th>2</th>\n",
       "      <td>0</td>\n",
       "      <td>seg_e5c033</td>\n",
       "    </tr>\n",
       "    <tr>\n",
       "      <th>3</th>\n",
       "      <td>2</td>\n",
       "      <td>seg_e5c033</td>\n",
       "    </tr>\n",
       "    <tr>\n",
       "      <th>4</th>\n",
       "      <td>2</td>\n",
       "      <td>seg_e5c033</td>\n",
       "    </tr>\n",
       "    <tr>\n",
       "      <th>...</th>\n",
       "      <td>...</td>\n",
       "      <td>...</td>\n",
       "    </tr>\n",
       "    <tr>\n",
       "      <th>149995</th>\n",
       "      <td>2</td>\n",
       "      <td>seg_6074f9</td>\n",
       "    </tr>\n",
       "    <tr>\n",
       "      <th>149996</th>\n",
       "      <td>7</td>\n",
       "      <td>seg_6074f9</td>\n",
       "    </tr>\n",
       "    <tr>\n",
       "      <th>149997</th>\n",
       "      <td>5</td>\n",
       "      <td>seg_6074f9</td>\n",
       "    </tr>\n",
       "    <tr>\n",
       "      <th>149998</th>\n",
       "      <td>5</td>\n",
       "      <td>seg_6074f9</td>\n",
       "    </tr>\n",
       "    <tr>\n",
       "      <th>149999</th>\n",
       "      <td>7</td>\n",
       "      <td>seg_6074f9</td>\n",
       "    </tr>\n",
       "  </tbody>\n",
       "</table>\n",
       "<p>393600000 rows × 2 columns</p>\n",
       "</div>"
      ],
      "text/plain": [
       "        acoustic_data      seg_id\n",
       "0                   0  seg_e5c033\n",
       "1                   6  seg_e5c033\n",
       "2                   0  seg_e5c033\n",
       "3                   2  seg_e5c033\n",
       "4                   2  seg_e5c033\n",
       "...               ...         ...\n",
       "149995              2  seg_6074f9\n",
       "149996              7  seg_6074f9\n",
       "149997              5  seg_6074f9\n",
       "149998              5  seg_6074f9\n",
       "149999              7  seg_6074f9\n",
       "\n",
       "[393600000 rows x 2 columns]"
      ]
     },
     "execution_count": 4,
     "metadata": {},
     "output_type": "execute_result"
    },
    {
     "data": {
      "application/javascript": [
       "\n",
       "            setTimeout(function() {\n",
       "                var nbb_cell_id = 4;\n",
       "                var nbb_unformatted_code = \"seq_list = []\\nfor filename in tqdm(seq_file_list):\\n    seg_id = Path(filename).stem\\n\\n    seq_df = pd.read_csv(filename)\\n    seq_df[\\\"seg_id\\\"] = seg_id\\n    seq_list.append(seq_df)\\n\\ntest_df = pd.concat(seq_list)\\ntest_df\";\n",
       "                var nbb_formatted_code = \"seq_list = []\\nfor filename in tqdm(seq_file_list):\\n    seg_id = Path(filename).stem\\n\\n    seq_df = pd.read_csv(filename)\\n    seq_df[\\\"seg_id\\\"] = seg_id\\n    seq_list.append(seq_df)\\n\\ntest_df = pd.concat(seq_list)\\ntest_df\";\n",
       "                var nbb_cells = Jupyter.notebook.get_cells();\n",
       "                for (var i = 0; i < nbb_cells.length; ++i) {\n",
       "                    if (nbb_cells[i].input_prompt_number == nbb_cell_id) {\n",
       "                        if (nbb_cells[i].get_text() == nbb_unformatted_code) {\n",
       "                             nbb_cells[i].set_text(nbb_formatted_code);\n",
       "                        }\n",
       "                        break;\n",
       "                    }\n",
       "                }\n",
       "            }, 500);\n",
       "            "
      ],
      "text/plain": [
       "<IPython.core.display.Javascript object>"
      ]
     },
     "metadata": {},
     "output_type": "display_data"
    }
   ],
   "source": [
    "seq_list = []\n",
    "for filename in tqdm(seq_file_list):\n",
    "    seg_id = Path(filename).stem\n",
    "\n",
    "    seq_df = pd.read_csv(filename)\n",
    "    seq_df[\"seg_id\"] = seg_id\n",
    "    seq_list.append(seq_df)\n",
    "\n",
    "test_df = pd.concat(seq_list)\n",
    "test_df"
   ]
  },
  {
   "cell_type": "code",
   "execution_count": 5,
   "id": "83ba099d",
   "metadata": {
    "ExecuteTime": {
     "end_time": "2022-12-05T12:46:56.022517Z",
     "start_time": "2022-12-05T12:46:40.526908Z"
    }
   },
   "outputs": [
    {
     "data": {
      "text/plain": [
       "150000.0"
      ]
     },
     "execution_count": 5,
     "metadata": {},
     "output_type": "execute_result"
    },
    {
     "data": {
      "application/javascript": [
       "\n",
       "            setTimeout(function() {\n",
       "                var nbb_cell_id = 5;\n",
       "                var nbb_unformatted_code = \"# mean test stack size\\ntest_df.groupby(\\\"seg_id\\\").size().mean()\";\n",
       "                var nbb_formatted_code = \"# mean test stack size\\ntest_df.groupby(\\\"seg_id\\\").size().mean()\";\n",
       "                var nbb_cells = Jupyter.notebook.get_cells();\n",
       "                for (var i = 0; i < nbb_cells.length; ++i) {\n",
       "                    if (nbb_cells[i].input_prompt_number == nbb_cell_id) {\n",
       "                        if (nbb_cells[i].get_text() == nbb_unformatted_code) {\n",
       "                             nbb_cells[i].set_text(nbb_formatted_code);\n",
       "                        }\n",
       "                        break;\n",
       "                    }\n",
       "                }\n",
       "            }, 500);\n",
       "            "
      ],
      "text/plain": [
       "<IPython.core.display.Javascript object>"
      ]
     },
     "metadata": {},
     "output_type": "display_data"
    }
   ],
   "source": [
    "# mean test stack size\n",
    "test_df.groupby(\"seg_id\").size().mean()"
   ]
  },
  {
   "cell_type": "code",
   "execution_count": 6,
   "id": "2ae72c83",
   "metadata": {
    "ExecuteTime": {
     "end_time": "2022-12-05T12:47:34.011859Z",
     "start_time": "2022-12-05T12:46:56.023709Z"
    }
   },
   "outputs": [
    {
     "data": {
      "application/javascript": [
       "\n",
       "            setTimeout(function() {\n",
       "                var nbb_cell_id = 6;\n",
       "                var nbb_unformatted_code = \"test_df.to_orc(\\\"../../data/LANL-Earthquake-Prediction/test.orc\\\")\";\n",
       "                var nbb_formatted_code = \"test_df.to_orc(\\\"../../data/LANL-Earthquake-Prediction/test.orc\\\")\";\n",
       "                var nbb_cells = Jupyter.notebook.get_cells();\n",
       "                for (var i = 0; i < nbb_cells.length; ++i) {\n",
       "                    if (nbb_cells[i].input_prompt_number == nbb_cell_id) {\n",
       "                        if (nbb_cells[i].get_text() == nbb_unformatted_code) {\n",
       "                             nbb_cells[i].set_text(nbb_formatted_code);\n",
       "                        }\n",
       "                        break;\n",
       "                    }\n",
       "                }\n",
       "            }, 500);\n",
       "            "
      ],
      "text/plain": [
       "<IPython.core.display.Javascript object>"
      ]
     },
     "metadata": {},
     "output_type": "display_data"
    }
   ],
   "source": [
    "test_df.to_orc(\"../../data/LANL-Earthquake-Prediction/test.orc\")"
   ]
  },
  {
   "cell_type": "code",
   "execution_count": null,
   "id": "4d295bda",
   "metadata": {},
   "outputs": [],
   "source": []
  },
  {
   "cell_type": "code",
   "execution_count": null,
   "id": "a7afc97c",
   "metadata": {},
   "outputs": [],
   "source": []
  },
  {
   "cell_type": "code",
   "execution_count": null,
   "id": "3fe04419",
   "metadata": {},
   "outputs": [],
   "source": []
  },
  {
   "cell_type": "code",
   "execution_count": null,
   "id": "fd060803",
   "metadata": {},
   "outputs": [],
   "source": []
  },
  {
   "cell_type": "code",
   "execution_count": null,
   "id": "bdfe0c45",
   "metadata": {},
   "outputs": [],
   "source": []
  }
 ],
 "metadata": {
  "kernelspec": {
   "display_name": "Python 3 (ipykernel)",
   "language": "python",
   "name": "python3"
  },
  "language_info": {
   "codemirror_mode": {
    "name": "ipython",
    "version": 3
   },
   "file_extension": ".py",
   "mimetype": "text/x-python",
   "name": "python",
   "nbconvert_exporter": "python",
   "pygments_lexer": "ipython3",
   "version": "3.9.15"
  }
 },
 "nbformat": 4,
 "nbformat_minor": 5
}
