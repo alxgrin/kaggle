{
 "cells": [
  {
   "cell_type": "markdown",
   "id": "c72d8dae",
   "metadata": {},
   "source": [
    "# Toxic Comment Classification Challenge\n",
    "\n",
    "Identify and classify toxic online comments\n",
    "\n",
    "Discussing things you care about can be difficult. The threat of abuse and harassment online means that many people stop expressing themselves and give up on seeking different opinions. Platforms struggle to effectively facilitate conversations, leading many communities to limit or completely shut down user comments.\n",
    "\n",
    "The Conversation AI team, a research initiative founded by Jigsaw and Google (both a part of Alphabet) are working on tools to help improve online conversation. One area of focus is the study of negative online behaviors, like toxic comments (i.e. comments that are rude, disrespectful or otherwise likely to make someone leave a discussion). So far they’ve built a range of publicly available models served through the Perspective API, including toxicity. But the current models still make errors, and they don’t allow users to select which types of toxicity they’re interested in finding (e.g. some platforms may be fine with profanity, but not with other types of toxic content).\n",
    "\n",
    "In this competition, you’re challenged to build a multi-headed model that’s capable of detecting different types of of toxicity like threats, obscenity, insults, and identity-based hate better than Perspective’s current models. You’ll be using a dataset of comments from Wikipedia’s talk page edits. Improvements to the current model will hopefully help online discussion become more productive and respectful.\n",
    "\n",
    "Disclaimer: the dataset for this competition contains text that may be considered profane, vulgar, or offensive.\n",
    "\n",
    "Link: https://www.kaggle.com/competitions/jigsaw-toxic-comment-classification-challenge\n",
    "\n",
    "Help: https://www.kaggle.com/code/satyamkryadav/bert-model-96-77"
   ]
  },
  {
   "cell_type": "code",
   "execution_count": 1,
   "id": "fc0565af",
   "metadata": {
    "ExecuteTime": {
     "end_time": "2022-05-05T05:00:10.913193Z",
     "start_time": "2022-05-05T05:00:10.098484Z"
    }
   },
   "outputs": [],
   "source": [
    "import numpy as np\n",
    "import pandas as pd\n",
    "import torch\n",
    "import torch.nn as nn\n",
    "from sklearn.model_selection import train_test_split\n",
    "from torch.utils.data import DataLoader, RandomSampler, TensorDataset\n",
    "from tqdm.notebook import tqdm\n",
    "from transformers import (AdamW, BertModel, BertTokenizer,\n",
    "                          get_linear_schedule_with_warmup)"
   ]
  },
  {
   "cell_type": "code",
   "execution_count": 2,
   "id": "e43e5439",
   "metadata": {
    "ExecuteTime": {
     "end_time": "2022-05-05T05:00:10.981006Z",
     "start_time": "2022-05-05T05:00:10.914807Z"
    }
   },
   "outputs": [
    {
     "data": {
      "application/javascript": [
       "\n",
       "            setTimeout(function() {\n",
       "                var nbb_cell_id = 2;\n",
       "                var nbb_unformatted_code = \"%load_ext nb_black\";\n",
       "                var nbb_formatted_code = \"%load_ext nb_black\";\n",
       "                var nbb_cells = Jupyter.notebook.get_cells();\n",
       "                for (var i = 0; i < nbb_cells.length; ++i) {\n",
       "                    if (nbb_cells[i].input_prompt_number == nbb_cell_id) {\n",
       "                        if (nbb_cells[i].get_text() == nbb_unformatted_code) {\n",
       "                             nbb_cells[i].set_text(nbb_formatted_code);\n",
       "                        }\n",
       "                        break;\n",
       "                    }\n",
       "                }\n",
       "            }, 500);\n",
       "            "
      ],
      "text/plain": [
       "<IPython.core.display.Javascript object>"
      ]
     },
     "metadata": {},
     "output_type": "display_data"
    }
   ],
   "source": [
    "%load_ext nb_black"
   ]
  },
  {
   "cell_type": "code",
   "execution_count": 3,
   "id": "24a7ee0d",
   "metadata": {
    "ExecuteTime": {
     "end_time": "2022-05-05T05:00:11.524188Z",
     "start_time": "2022-05-05T05:00:10.981881Z"
    }
   },
   "outputs": [
    {
     "data": {
      "text/html": [
       "<div>\n",
       "<style scoped>\n",
       "    .dataframe tbody tr th:only-of-type {\n",
       "        vertical-align: middle;\n",
       "    }\n",
       "\n",
       "    .dataframe tbody tr th {\n",
       "        vertical-align: top;\n",
       "    }\n",
       "\n",
       "    .dataframe thead th {\n",
       "        text-align: right;\n",
       "    }\n",
       "</style>\n",
       "<table border=\"1\" class=\"dataframe\">\n",
       "  <thead>\n",
       "    <tr style=\"text-align: right;\">\n",
       "      <th></th>\n",
       "      <th>comment_text</th>\n",
       "      <th>toxic</th>\n",
       "      <th>severe_toxic</th>\n",
       "      <th>obscene</th>\n",
       "      <th>threat</th>\n",
       "      <th>insult</th>\n",
       "      <th>identity_hate</th>\n",
       "    </tr>\n",
       "    <tr>\n",
       "      <th>id</th>\n",
       "      <th></th>\n",
       "      <th></th>\n",
       "      <th></th>\n",
       "      <th></th>\n",
       "      <th></th>\n",
       "      <th></th>\n",
       "      <th></th>\n",
       "    </tr>\n",
       "  </thead>\n",
       "  <tbody>\n",
       "    <tr>\n",
       "      <th>0000997932d777bf</th>\n",
       "      <td>Explanation\\nWhy the edits made under my usern...</td>\n",
       "      <td>0</td>\n",
       "      <td>0</td>\n",
       "      <td>0</td>\n",
       "      <td>0</td>\n",
       "      <td>0</td>\n",
       "      <td>0</td>\n",
       "    </tr>\n",
       "    <tr>\n",
       "      <th>000103f0d9cfb60f</th>\n",
       "      <td>D'aww! He matches this background colour I'm s...</td>\n",
       "      <td>0</td>\n",
       "      <td>0</td>\n",
       "      <td>0</td>\n",
       "      <td>0</td>\n",
       "      <td>0</td>\n",
       "      <td>0</td>\n",
       "    </tr>\n",
       "    <tr>\n",
       "      <th>000113f07ec002fd</th>\n",
       "      <td>Hey man, I'm really not trying to edit war. It...</td>\n",
       "      <td>0</td>\n",
       "      <td>0</td>\n",
       "      <td>0</td>\n",
       "      <td>0</td>\n",
       "      <td>0</td>\n",
       "      <td>0</td>\n",
       "    </tr>\n",
       "    <tr>\n",
       "      <th>0001b41b1c6bb37e</th>\n",
       "      <td>\"\\nMore\\nI can't make any real suggestions on ...</td>\n",
       "      <td>0</td>\n",
       "      <td>0</td>\n",
       "      <td>0</td>\n",
       "      <td>0</td>\n",
       "      <td>0</td>\n",
       "      <td>0</td>\n",
       "    </tr>\n",
       "    <tr>\n",
       "      <th>0001d958c54c6e35</th>\n",
       "      <td>You, sir, are my hero. Any chance you remember...</td>\n",
       "      <td>0</td>\n",
       "      <td>0</td>\n",
       "      <td>0</td>\n",
       "      <td>0</td>\n",
       "      <td>0</td>\n",
       "      <td>0</td>\n",
       "    </tr>\n",
       "    <tr>\n",
       "      <th>...</th>\n",
       "      <td>...</td>\n",
       "      <td>...</td>\n",
       "      <td>...</td>\n",
       "      <td>...</td>\n",
       "      <td>...</td>\n",
       "      <td>...</td>\n",
       "      <td>...</td>\n",
       "    </tr>\n",
       "    <tr>\n",
       "      <th>ffe987279560d7ff</th>\n",
       "      <td>\":::::And for the second time of asking, when ...</td>\n",
       "      <td>0</td>\n",
       "      <td>0</td>\n",
       "      <td>0</td>\n",
       "      <td>0</td>\n",
       "      <td>0</td>\n",
       "      <td>0</td>\n",
       "    </tr>\n",
       "    <tr>\n",
       "      <th>ffea4adeee384e90</th>\n",
       "      <td>You should be ashamed of yourself \\n\\nThat is ...</td>\n",
       "      <td>0</td>\n",
       "      <td>0</td>\n",
       "      <td>0</td>\n",
       "      <td>0</td>\n",
       "      <td>0</td>\n",
       "      <td>0</td>\n",
       "    </tr>\n",
       "    <tr>\n",
       "      <th>ffee36eab5c267c9</th>\n",
       "      <td>Spitzer \\n\\nUmm, theres no actual article for ...</td>\n",
       "      <td>0</td>\n",
       "      <td>0</td>\n",
       "      <td>0</td>\n",
       "      <td>0</td>\n",
       "      <td>0</td>\n",
       "      <td>0</td>\n",
       "    </tr>\n",
       "    <tr>\n",
       "      <th>fff125370e4aaaf3</th>\n",
       "      <td>And it looks like it was actually you who put ...</td>\n",
       "      <td>0</td>\n",
       "      <td>0</td>\n",
       "      <td>0</td>\n",
       "      <td>0</td>\n",
       "      <td>0</td>\n",
       "      <td>0</td>\n",
       "    </tr>\n",
       "    <tr>\n",
       "      <th>fff46fc426af1f9a</th>\n",
       "      <td>\"\\nAnd ... I really don't think you understand...</td>\n",
       "      <td>0</td>\n",
       "      <td>0</td>\n",
       "      <td>0</td>\n",
       "      <td>0</td>\n",
       "      <td>0</td>\n",
       "      <td>0</td>\n",
       "    </tr>\n",
       "  </tbody>\n",
       "</table>\n",
       "<p>159571 rows × 7 columns</p>\n",
       "</div>"
      ],
      "text/plain": [
       "                                                       comment_text  toxic  \\\n",
       "id                                                                           \n",
       "0000997932d777bf  Explanation\\nWhy the edits made under my usern...      0   \n",
       "000103f0d9cfb60f  D'aww! He matches this background colour I'm s...      0   \n",
       "000113f07ec002fd  Hey man, I'm really not trying to edit war. It...      0   \n",
       "0001b41b1c6bb37e  \"\\nMore\\nI can't make any real suggestions on ...      0   \n",
       "0001d958c54c6e35  You, sir, are my hero. Any chance you remember...      0   \n",
       "...                                                             ...    ...   \n",
       "ffe987279560d7ff  \":::::And for the second time of asking, when ...      0   \n",
       "ffea4adeee384e90  You should be ashamed of yourself \\n\\nThat is ...      0   \n",
       "ffee36eab5c267c9  Spitzer \\n\\nUmm, theres no actual article for ...      0   \n",
       "fff125370e4aaaf3  And it looks like it was actually you who put ...      0   \n",
       "fff46fc426af1f9a  \"\\nAnd ... I really don't think you understand...      0   \n",
       "\n",
       "                  severe_toxic  obscene  threat  insult  identity_hate  \n",
       "id                                                                      \n",
       "0000997932d777bf             0        0       0       0              0  \n",
       "000103f0d9cfb60f             0        0       0       0              0  \n",
       "000113f07ec002fd             0        0       0       0              0  \n",
       "0001b41b1c6bb37e             0        0       0       0              0  \n",
       "0001d958c54c6e35             0        0       0       0              0  \n",
       "...                        ...      ...     ...     ...            ...  \n",
       "ffe987279560d7ff             0        0       0       0              0  \n",
       "ffea4adeee384e90             0        0       0       0              0  \n",
       "ffee36eab5c267c9             0        0       0       0              0  \n",
       "fff125370e4aaaf3             0        0       0       0              0  \n",
       "fff46fc426af1f9a             0        0       0       0              0  \n",
       "\n",
       "[159571 rows x 7 columns]"
      ]
     },
     "execution_count": 3,
     "metadata": {},
     "output_type": "execute_result"
    },
    {
     "data": {
      "application/javascript": [
       "\n",
       "            setTimeout(function() {\n",
       "                var nbb_cell_id = 3;\n",
       "                var nbb_unformatted_code = \"train_df = pd.read_csv(\\n    \\\"../data/jigsaw-toxic-comment-classification-challenge/train.csv\\\"\\n).set_index(\\\"id\\\")\\ntrain_df\";\n",
       "                var nbb_formatted_code = \"train_df = pd.read_csv(\\n    \\\"../data/jigsaw-toxic-comment-classification-challenge/train.csv\\\"\\n).set_index(\\\"id\\\")\\ntrain_df\";\n",
       "                var nbb_cells = Jupyter.notebook.get_cells();\n",
       "                for (var i = 0; i < nbb_cells.length; ++i) {\n",
       "                    if (nbb_cells[i].input_prompt_number == nbb_cell_id) {\n",
       "                        if (nbb_cells[i].get_text() == nbb_unformatted_code) {\n",
       "                             nbb_cells[i].set_text(nbb_formatted_code);\n",
       "                        }\n",
       "                        break;\n",
       "                    }\n",
       "                }\n",
       "            }, 500);\n",
       "            "
      ],
      "text/plain": [
       "<IPython.core.display.Javascript object>"
      ]
     },
     "metadata": {},
     "output_type": "display_data"
    }
   ],
   "source": [
    "train_df = pd.read_csv(\n",
    "    \"../data/jigsaw-toxic-comment-classification-challenge/train.csv\"\n",
    ").set_index(\"id\")\n",
    "train_df"
   ]
  },
  {
   "cell_type": "code",
   "execution_count": 4,
   "id": "5028d458",
   "metadata": {
    "ExecuteTime": {
     "end_time": "2022-05-05T05:00:12.002673Z",
     "start_time": "2022-05-05T05:00:11.525270Z"
    }
   },
   "outputs": [
    {
     "data": {
      "text/html": [
       "<div>\n",
       "<style scoped>\n",
       "    .dataframe tbody tr th:only-of-type {\n",
       "        vertical-align: middle;\n",
       "    }\n",
       "\n",
       "    .dataframe tbody tr th {\n",
       "        vertical-align: top;\n",
       "    }\n",
       "\n",
       "    .dataframe thead th {\n",
       "        text-align: right;\n",
       "    }\n",
       "</style>\n",
       "<table border=\"1\" class=\"dataframe\">\n",
       "  <thead>\n",
       "    <tr style=\"text-align: right;\">\n",
       "      <th></th>\n",
       "      <th>comment_text</th>\n",
       "    </tr>\n",
       "    <tr>\n",
       "      <th>id</th>\n",
       "      <th></th>\n",
       "    </tr>\n",
       "  </thead>\n",
       "  <tbody>\n",
       "    <tr>\n",
       "      <th>00001cee341fdb12</th>\n",
       "      <td>Yo bitch Ja Rule is more succesful then you'll...</td>\n",
       "    </tr>\n",
       "    <tr>\n",
       "      <th>0000247867823ef7</th>\n",
       "      <td>== From RfC == \\n\\n The title is fine as it is...</td>\n",
       "    </tr>\n",
       "    <tr>\n",
       "      <th>00013b17ad220c46</th>\n",
       "      <td>\" \\n\\n == Sources == \\n\\n * Zawe Ashton on Lap...</td>\n",
       "    </tr>\n",
       "    <tr>\n",
       "      <th>00017563c3f7919a</th>\n",
       "      <td>:If you have a look back at the source, the in...</td>\n",
       "    </tr>\n",
       "    <tr>\n",
       "      <th>00017695ad8997eb</th>\n",
       "      <td>I don't anonymously edit articles at all.</td>\n",
       "    </tr>\n",
       "    <tr>\n",
       "      <th>...</th>\n",
       "      <td>...</td>\n",
       "    </tr>\n",
       "    <tr>\n",
       "      <th>fffcd0960ee309b5</th>\n",
       "      <td>. \\n i totally agree, this stuff is nothing bu...</td>\n",
       "    </tr>\n",
       "    <tr>\n",
       "      <th>fffd7a9a6eb32c16</th>\n",
       "      <td>== Throw from out field to home plate. == \\n\\n...</td>\n",
       "    </tr>\n",
       "    <tr>\n",
       "      <th>fffda9e8d6fafa9e</th>\n",
       "      <td>\" \\n\\n == Okinotorishima categories == \\n\\n I ...</td>\n",
       "    </tr>\n",
       "    <tr>\n",
       "      <th>fffe8f1340a79fc2</th>\n",
       "      <td>\" \\n\\n == \"\"One of the founding nations of the...</td>\n",
       "    </tr>\n",
       "    <tr>\n",
       "      <th>ffffce3fb183ee80</th>\n",
       "      <td>\" \\n :::Stop already. Your bullshit is not wel...</td>\n",
       "    </tr>\n",
       "  </tbody>\n",
       "</table>\n",
       "<p>153164 rows × 1 columns</p>\n",
       "</div>"
      ],
      "text/plain": [
       "                                                       comment_text\n",
       "id                                                                 \n",
       "00001cee341fdb12  Yo bitch Ja Rule is more succesful then you'll...\n",
       "0000247867823ef7  == From RfC == \\n\\n The title is fine as it is...\n",
       "00013b17ad220c46  \" \\n\\n == Sources == \\n\\n * Zawe Ashton on Lap...\n",
       "00017563c3f7919a  :If you have a look back at the source, the in...\n",
       "00017695ad8997eb          I don't anonymously edit articles at all.\n",
       "...                                                             ...\n",
       "fffcd0960ee309b5  . \\n i totally agree, this stuff is nothing bu...\n",
       "fffd7a9a6eb32c16  == Throw from out field to home plate. == \\n\\n...\n",
       "fffda9e8d6fafa9e  \" \\n\\n == Okinotorishima categories == \\n\\n I ...\n",
       "fffe8f1340a79fc2  \" \\n\\n == \"\"One of the founding nations of the...\n",
       "ffffce3fb183ee80  \" \\n :::Stop already. Your bullshit is not wel...\n",
       "\n",
       "[153164 rows x 1 columns]"
      ]
     },
     "execution_count": 4,
     "metadata": {},
     "output_type": "execute_result"
    },
    {
     "data": {
      "application/javascript": [
       "\n",
       "            setTimeout(function() {\n",
       "                var nbb_cell_id = 4;\n",
       "                var nbb_unformatted_code = \"test_df = pd.read_csv(\\n    \\\"../data/jigsaw-toxic-comment-classification-challenge/test.csv\\\"\\n).set_index(\\\"id\\\")\\ntest_df\";\n",
       "                var nbb_formatted_code = \"test_df = pd.read_csv(\\n    \\\"../data/jigsaw-toxic-comment-classification-challenge/test.csv\\\"\\n).set_index(\\\"id\\\")\\ntest_df\";\n",
       "                var nbb_cells = Jupyter.notebook.get_cells();\n",
       "                for (var i = 0; i < nbb_cells.length; ++i) {\n",
       "                    if (nbb_cells[i].input_prompt_number == nbb_cell_id) {\n",
       "                        if (nbb_cells[i].get_text() == nbb_unformatted_code) {\n",
       "                             nbb_cells[i].set_text(nbb_formatted_code);\n",
       "                        }\n",
       "                        break;\n",
       "                    }\n",
       "                }\n",
       "            }, 500);\n",
       "            "
      ],
      "text/plain": [
       "<IPython.core.display.Javascript object>"
      ]
     },
     "metadata": {},
     "output_type": "display_data"
    }
   ],
   "source": [
    "test_df = pd.read_csv(\n",
    "    \"../data/jigsaw-toxic-comment-classification-challenge/test.csv\"\n",
    ").set_index(\"id\")\n",
    "test_df"
   ]
  },
  {
   "cell_type": "code",
   "execution_count": 5,
   "id": "6d7bf444",
   "metadata": {
    "ExecuteTime": {
     "end_time": "2022-05-05T05:00:12.082668Z",
     "start_time": "2022-05-05T05:00:12.003479Z"
    }
   },
   "outputs": [
    {
     "data": {
      "text/html": [
       "<div>\n",
       "<style scoped>\n",
       "    .dataframe tbody tr th:only-of-type {\n",
       "        vertical-align: middle;\n",
       "    }\n",
       "\n",
       "    .dataframe tbody tr th {\n",
       "        vertical-align: top;\n",
       "    }\n",
       "\n",
       "    .dataframe thead th {\n",
       "        text-align: right;\n",
       "    }\n",
       "</style>\n",
       "<table border=\"1\" class=\"dataframe\">\n",
       "  <thead>\n",
       "    <tr style=\"text-align: right;\">\n",
       "      <th></th>\n",
       "      <th>toxic</th>\n",
       "      <th>severe_toxic</th>\n",
       "      <th>obscene</th>\n",
       "      <th>threat</th>\n",
       "      <th>insult</th>\n",
       "      <th>identity_hate</th>\n",
       "    </tr>\n",
       "    <tr>\n",
       "      <th>id</th>\n",
       "      <th></th>\n",
       "      <th></th>\n",
       "      <th></th>\n",
       "      <th></th>\n",
       "      <th></th>\n",
       "      <th></th>\n",
       "    </tr>\n",
       "  </thead>\n",
       "  <tbody>\n",
       "    <tr>\n",
       "      <th>00001cee341fdb12</th>\n",
       "      <td>-1</td>\n",
       "      <td>-1</td>\n",
       "      <td>-1</td>\n",
       "      <td>-1</td>\n",
       "      <td>-1</td>\n",
       "      <td>-1</td>\n",
       "    </tr>\n",
       "    <tr>\n",
       "      <th>0000247867823ef7</th>\n",
       "      <td>-1</td>\n",
       "      <td>-1</td>\n",
       "      <td>-1</td>\n",
       "      <td>-1</td>\n",
       "      <td>-1</td>\n",
       "      <td>-1</td>\n",
       "    </tr>\n",
       "    <tr>\n",
       "      <th>00013b17ad220c46</th>\n",
       "      <td>-1</td>\n",
       "      <td>-1</td>\n",
       "      <td>-1</td>\n",
       "      <td>-1</td>\n",
       "      <td>-1</td>\n",
       "      <td>-1</td>\n",
       "    </tr>\n",
       "    <tr>\n",
       "      <th>00017563c3f7919a</th>\n",
       "      <td>-1</td>\n",
       "      <td>-1</td>\n",
       "      <td>-1</td>\n",
       "      <td>-1</td>\n",
       "      <td>-1</td>\n",
       "      <td>-1</td>\n",
       "    </tr>\n",
       "    <tr>\n",
       "      <th>00017695ad8997eb</th>\n",
       "      <td>-1</td>\n",
       "      <td>-1</td>\n",
       "      <td>-1</td>\n",
       "      <td>-1</td>\n",
       "      <td>-1</td>\n",
       "      <td>-1</td>\n",
       "    </tr>\n",
       "    <tr>\n",
       "      <th>...</th>\n",
       "      <td>...</td>\n",
       "      <td>...</td>\n",
       "      <td>...</td>\n",
       "      <td>...</td>\n",
       "      <td>...</td>\n",
       "      <td>...</td>\n",
       "    </tr>\n",
       "    <tr>\n",
       "      <th>fffcd0960ee309b5</th>\n",
       "      <td>-1</td>\n",
       "      <td>-1</td>\n",
       "      <td>-1</td>\n",
       "      <td>-1</td>\n",
       "      <td>-1</td>\n",
       "      <td>-1</td>\n",
       "    </tr>\n",
       "    <tr>\n",
       "      <th>fffd7a9a6eb32c16</th>\n",
       "      <td>-1</td>\n",
       "      <td>-1</td>\n",
       "      <td>-1</td>\n",
       "      <td>-1</td>\n",
       "      <td>-1</td>\n",
       "      <td>-1</td>\n",
       "    </tr>\n",
       "    <tr>\n",
       "      <th>fffda9e8d6fafa9e</th>\n",
       "      <td>-1</td>\n",
       "      <td>-1</td>\n",
       "      <td>-1</td>\n",
       "      <td>-1</td>\n",
       "      <td>-1</td>\n",
       "      <td>-1</td>\n",
       "    </tr>\n",
       "    <tr>\n",
       "      <th>fffe8f1340a79fc2</th>\n",
       "      <td>-1</td>\n",
       "      <td>-1</td>\n",
       "      <td>-1</td>\n",
       "      <td>-1</td>\n",
       "      <td>-1</td>\n",
       "      <td>-1</td>\n",
       "    </tr>\n",
       "    <tr>\n",
       "      <th>ffffce3fb183ee80</th>\n",
       "      <td>-1</td>\n",
       "      <td>-1</td>\n",
       "      <td>-1</td>\n",
       "      <td>-1</td>\n",
       "      <td>-1</td>\n",
       "      <td>-1</td>\n",
       "    </tr>\n",
       "  </tbody>\n",
       "</table>\n",
       "<p>153164 rows × 6 columns</p>\n",
       "</div>"
      ],
      "text/plain": [
       "                  toxic  severe_toxic  obscene  threat  insult  identity_hate\n",
       "id                                                                           \n",
       "00001cee341fdb12     -1            -1       -1      -1      -1             -1\n",
       "0000247867823ef7     -1            -1       -1      -1      -1             -1\n",
       "00013b17ad220c46     -1            -1       -1      -1      -1             -1\n",
       "00017563c3f7919a     -1            -1       -1      -1      -1             -1\n",
       "00017695ad8997eb     -1            -1       -1      -1      -1             -1\n",
       "...                 ...           ...      ...     ...     ...            ...\n",
       "fffcd0960ee309b5     -1            -1       -1      -1      -1             -1\n",
       "fffd7a9a6eb32c16     -1            -1       -1      -1      -1             -1\n",
       "fffda9e8d6fafa9e     -1            -1       -1      -1      -1             -1\n",
       "fffe8f1340a79fc2     -1            -1       -1      -1      -1             -1\n",
       "ffffce3fb183ee80     -1            -1       -1      -1      -1             -1\n",
       "\n",
       "[153164 rows x 6 columns]"
      ]
     },
     "execution_count": 5,
     "metadata": {},
     "output_type": "execute_result"
    },
    {
     "data": {
      "application/javascript": [
       "\n",
       "            setTimeout(function() {\n",
       "                var nbb_cell_id = 5;\n",
       "                var nbb_unformatted_code = \"test_labels_df = pd.read_csv(\\n    \\\"../data/jigsaw-toxic-comment-classification-challenge/test_labels.csv\\\"\\n).set_index(\\\"id\\\")\\ntest_labels_df\";\n",
       "                var nbb_formatted_code = \"test_labels_df = pd.read_csv(\\n    \\\"../data/jigsaw-toxic-comment-classification-challenge/test_labels.csv\\\"\\n).set_index(\\\"id\\\")\\ntest_labels_df\";\n",
       "                var nbb_cells = Jupyter.notebook.get_cells();\n",
       "                for (var i = 0; i < nbb_cells.length; ++i) {\n",
       "                    if (nbb_cells[i].input_prompt_number == nbb_cell_id) {\n",
       "                        if (nbb_cells[i].get_text() == nbb_unformatted_code) {\n",
       "                             nbb_cells[i].set_text(nbb_formatted_code);\n",
       "                        }\n",
       "                        break;\n",
       "                    }\n",
       "                }\n",
       "            }, 500);\n",
       "            "
      ],
      "text/plain": [
       "<IPython.core.display.Javascript object>"
      ]
     },
     "metadata": {},
     "output_type": "display_data"
    }
   ],
   "source": [
    "test_labels_df = pd.read_csv(\n",
    "    \"../data/jigsaw-toxic-comment-classification-challenge/test_labels.csv\"\n",
    ").set_index(\"id\")\n",
    "test_labels_df"
   ]
  },
  {
   "cell_type": "code",
   "execution_count": 6,
   "id": "3f7224a5",
   "metadata": {
    "ExecuteTime": {
     "end_time": "2022-05-05T05:00:12.161175Z",
     "start_time": "2022-05-05T05:00:12.083665Z"
    }
   },
   "outputs": [
    {
     "data": {
      "text/html": [
       "<div>\n",
       "<style scoped>\n",
       "    .dataframe tbody tr th:only-of-type {\n",
       "        vertical-align: middle;\n",
       "    }\n",
       "\n",
       "    .dataframe tbody tr th {\n",
       "        vertical-align: top;\n",
       "    }\n",
       "\n",
       "    .dataframe thead th {\n",
       "        text-align: right;\n",
       "    }\n",
       "</style>\n",
       "<table border=\"1\" class=\"dataframe\">\n",
       "  <thead>\n",
       "    <tr style=\"text-align: right;\">\n",
       "      <th></th>\n",
       "      <th>id</th>\n",
       "      <th>toxic</th>\n",
       "      <th>severe_toxic</th>\n",
       "      <th>obscene</th>\n",
       "      <th>threat</th>\n",
       "      <th>insult</th>\n",
       "      <th>identity_hate</th>\n",
       "    </tr>\n",
       "  </thead>\n",
       "  <tbody>\n",
       "    <tr>\n",
       "      <th>0</th>\n",
       "      <td>00001cee341fdb12</td>\n",
       "      <td>0.5</td>\n",
       "      <td>0.5</td>\n",
       "      <td>0.5</td>\n",
       "      <td>0.5</td>\n",
       "      <td>0.5</td>\n",
       "      <td>0.5</td>\n",
       "    </tr>\n",
       "    <tr>\n",
       "      <th>1</th>\n",
       "      <td>0000247867823ef7</td>\n",
       "      <td>0.5</td>\n",
       "      <td>0.5</td>\n",
       "      <td>0.5</td>\n",
       "      <td>0.5</td>\n",
       "      <td>0.5</td>\n",
       "      <td>0.5</td>\n",
       "    </tr>\n",
       "    <tr>\n",
       "      <th>2</th>\n",
       "      <td>00013b17ad220c46</td>\n",
       "      <td>0.5</td>\n",
       "      <td>0.5</td>\n",
       "      <td>0.5</td>\n",
       "      <td>0.5</td>\n",
       "      <td>0.5</td>\n",
       "      <td>0.5</td>\n",
       "    </tr>\n",
       "    <tr>\n",
       "      <th>3</th>\n",
       "      <td>00017563c3f7919a</td>\n",
       "      <td>0.5</td>\n",
       "      <td>0.5</td>\n",
       "      <td>0.5</td>\n",
       "      <td>0.5</td>\n",
       "      <td>0.5</td>\n",
       "      <td>0.5</td>\n",
       "    </tr>\n",
       "    <tr>\n",
       "      <th>4</th>\n",
       "      <td>00017695ad8997eb</td>\n",
       "      <td>0.5</td>\n",
       "      <td>0.5</td>\n",
       "      <td>0.5</td>\n",
       "      <td>0.5</td>\n",
       "      <td>0.5</td>\n",
       "      <td>0.5</td>\n",
       "    </tr>\n",
       "    <tr>\n",
       "      <th>...</th>\n",
       "      <td>...</td>\n",
       "      <td>...</td>\n",
       "      <td>...</td>\n",
       "      <td>...</td>\n",
       "      <td>...</td>\n",
       "      <td>...</td>\n",
       "      <td>...</td>\n",
       "    </tr>\n",
       "    <tr>\n",
       "      <th>153159</th>\n",
       "      <td>fffcd0960ee309b5</td>\n",
       "      <td>0.5</td>\n",
       "      <td>0.5</td>\n",
       "      <td>0.5</td>\n",
       "      <td>0.5</td>\n",
       "      <td>0.5</td>\n",
       "      <td>0.5</td>\n",
       "    </tr>\n",
       "    <tr>\n",
       "      <th>153160</th>\n",
       "      <td>fffd7a9a6eb32c16</td>\n",
       "      <td>0.5</td>\n",
       "      <td>0.5</td>\n",
       "      <td>0.5</td>\n",
       "      <td>0.5</td>\n",
       "      <td>0.5</td>\n",
       "      <td>0.5</td>\n",
       "    </tr>\n",
       "    <tr>\n",
       "      <th>153161</th>\n",
       "      <td>fffda9e8d6fafa9e</td>\n",
       "      <td>0.5</td>\n",
       "      <td>0.5</td>\n",
       "      <td>0.5</td>\n",
       "      <td>0.5</td>\n",
       "      <td>0.5</td>\n",
       "      <td>0.5</td>\n",
       "    </tr>\n",
       "    <tr>\n",
       "      <th>153162</th>\n",
       "      <td>fffe8f1340a79fc2</td>\n",
       "      <td>0.5</td>\n",
       "      <td>0.5</td>\n",
       "      <td>0.5</td>\n",
       "      <td>0.5</td>\n",
       "      <td>0.5</td>\n",
       "      <td>0.5</td>\n",
       "    </tr>\n",
       "    <tr>\n",
       "      <th>153163</th>\n",
       "      <td>ffffce3fb183ee80</td>\n",
       "      <td>0.5</td>\n",
       "      <td>0.5</td>\n",
       "      <td>0.5</td>\n",
       "      <td>0.5</td>\n",
       "      <td>0.5</td>\n",
       "      <td>0.5</td>\n",
       "    </tr>\n",
       "  </tbody>\n",
       "</table>\n",
       "<p>153164 rows × 7 columns</p>\n",
       "</div>"
      ],
      "text/plain": [
       "                      id  toxic  severe_toxic  obscene  threat  insult  \\\n",
       "0       00001cee341fdb12    0.5           0.5      0.5     0.5     0.5   \n",
       "1       0000247867823ef7    0.5           0.5      0.5     0.5     0.5   \n",
       "2       00013b17ad220c46    0.5           0.5      0.5     0.5     0.5   \n",
       "3       00017563c3f7919a    0.5           0.5      0.5     0.5     0.5   \n",
       "4       00017695ad8997eb    0.5           0.5      0.5     0.5     0.5   \n",
       "...                  ...    ...           ...      ...     ...     ...   \n",
       "153159  fffcd0960ee309b5    0.5           0.5      0.5     0.5     0.5   \n",
       "153160  fffd7a9a6eb32c16    0.5           0.5      0.5     0.5     0.5   \n",
       "153161  fffda9e8d6fafa9e    0.5           0.5      0.5     0.5     0.5   \n",
       "153162  fffe8f1340a79fc2    0.5           0.5      0.5     0.5     0.5   \n",
       "153163  ffffce3fb183ee80    0.5           0.5      0.5     0.5     0.5   \n",
       "\n",
       "        identity_hate  \n",
       "0                 0.5  \n",
       "1                 0.5  \n",
       "2                 0.5  \n",
       "3                 0.5  \n",
       "4                 0.5  \n",
       "...               ...  \n",
       "153159            0.5  \n",
       "153160            0.5  \n",
       "153161            0.5  \n",
       "153162            0.5  \n",
       "153163            0.5  \n",
       "\n",
       "[153164 rows x 7 columns]"
      ]
     },
     "execution_count": 6,
     "metadata": {},
     "output_type": "execute_result"
    },
    {
     "data": {
      "application/javascript": [
       "\n",
       "            setTimeout(function() {\n",
       "                var nbb_cell_id = 6;\n",
       "                var nbb_unformatted_code = \"sample_submission_df = pd.read_csv(\\n    \\\"../data/jigsaw-toxic-comment-classification-challenge/sample_submission.csv\\\"\\n)\\nsample_submission_df\";\n",
       "                var nbb_formatted_code = \"sample_submission_df = pd.read_csv(\\n    \\\"../data/jigsaw-toxic-comment-classification-challenge/sample_submission.csv\\\"\\n)\\nsample_submission_df\";\n",
       "                var nbb_cells = Jupyter.notebook.get_cells();\n",
       "                for (var i = 0; i < nbb_cells.length; ++i) {\n",
       "                    if (nbb_cells[i].input_prompt_number == nbb_cell_id) {\n",
       "                        if (nbb_cells[i].get_text() == nbb_unformatted_code) {\n",
       "                             nbb_cells[i].set_text(nbb_formatted_code);\n",
       "                        }\n",
       "                        break;\n",
       "                    }\n",
       "                }\n",
       "            }, 500);\n",
       "            "
      ],
      "text/plain": [
       "<IPython.core.display.Javascript object>"
      ]
     },
     "metadata": {},
     "output_type": "display_data"
    }
   ],
   "source": [
    "sample_submission_df = pd.read_csv(\n",
    "    \"../data/jigsaw-toxic-comment-classification-challenge/sample_submission.csv\"\n",
    ")\n",
    "sample_submission_df"
   ]
  },
  {
   "cell_type": "code",
   "execution_count": 7,
   "id": "aa236d68",
   "metadata": {
    "ExecuteTime": {
     "end_time": "2022-05-05T05:00:12.242570Z",
     "start_time": "2022-05-05T05:00:12.162121Z"
    }
   },
   "outputs": [
    {
     "data": {
      "text/html": [
       "<div>\n",
       "<style scoped>\n",
       "    .dataframe tbody tr th:only-of-type {\n",
       "        vertical-align: middle;\n",
       "    }\n",
       "\n",
       "    .dataframe tbody tr th {\n",
       "        vertical-align: top;\n",
       "    }\n",
       "\n",
       "    .dataframe thead th {\n",
       "        text-align: right;\n",
       "    }\n",
       "</style>\n",
       "<table border=\"1\" class=\"dataframe\">\n",
       "  <thead>\n",
       "    <tr style=\"text-align: right;\">\n",
       "      <th></th>\n",
       "      <th>comment_text</th>\n",
       "      <th>toxic</th>\n",
       "      <th>severe_toxic</th>\n",
       "      <th>obscene</th>\n",
       "      <th>threat</th>\n",
       "      <th>insult</th>\n",
       "      <th>identity_hate</th>\n",
       "    </tr>\n",
       "    <tr>\n",
       "      <th>id</th>\n",
       "      <th></th>\n",
       "      <th></th>\n",
       "      <th></th>\n",
       "      <th></th>\n",
       "      <th></th>\n",
       "      <th></th>\n",
       "      <th></th>\n",
       "    </tr>\n",
       "  </thead>\n",
       "  <tbody>\n",
       "    <tr>\n",
       "      <th>0000997932d777bf</th>\n",
       "      <td>Explanation\\nWhy the edits made under my usern...</td>\n",
       "      <td>0.0</td>\n",
       "      <td>0.0</td>\n",
       "      <td>0.0</td>\n",
       "      <td>0.0</td>\n",
       "      <td>0.0</td>\n",
       "      <td>0.0</td>\n",
       "    </tr>\n",
       "    <tr>\n",
       "      <th>000103f0d9cfb60f</th>\n",
       "      <td>D'aww! He matches this background colour I'm s...</td>\n",
       "      <td>0.0</td>\n",
       "      <td>0.0</td>\n",
       "      <td>0.0</td>\n",
       "      <td>0.0</td>\n",
       "      <td>0.0</td>\n",
       "      <td>0.0</td>\n",
       "    </tr>\n",
       "    <tr>\n",
       "      <th>000113f07ec002fd</th>\n",
       "      <td>Hey man, I'm really not trying to edit war. It...</td>\n",
       "      <td>0.0</td>\n",
       "      <td>0.0</td>\n",
       "      <td>0.0</td>\n",
       "      <td>0.0</td>\n",
       "      <td>0.0</td>\n",
       "      <td>0.0</td>\n",
       "    </tr>\n",
       "    <tr>\n",
       "      <th>0001b41b1c6bb37e</th>\n",
       "      <td>\"\\nMore\\nI can't make any real suggestions on ...</td>\n",
       "      <td>0.0</td>\n",
       "      <td>0.0</td>\n",
       "      <td>0.0</td>\n",
       "      <td>0.0</td>\n",
       "      <td>0.0</td>\n",
       "      <td>0.0</td>\n",
       "    </tr>\n",
       "    <tr>\n",
       "      <th>0001d958c54c6e35</th>\n",
       "      <td>You, sir, are my hero. Any chance you remember...</td>\n",
       "      <td>0.0</td>\n",
       "      <td>0.0</td>\n",
       "      <td>0.0</td>\n",
       "      <td>0.0</td>\n",
       "      <td>0.0</td>\n",
       "      <td>0.0</td>\n",
       "    </tr>\n",
       "    <tr>\n",
       "      <th>...</th>\n",
       "      <td>...</td>\n",
       "      <td>...</td>\n",
       "      <td>...</td>\n",
       "      <td>...</td>\n",
       "      <td>...</td>\n",
       "      <td>...</td>\n",
       "      <td>...</td>\n",
       "    </tr>\n",
       "    <tr>\n",
       "      <th>fffcd0960ee309b5</th>\n",
       "      <td>. \\n i totally agree, this stuff is nothing bu...</td>\n",
       "      <td>0.0</td>\n",
       "      <td>0.0</td>\n",
       "      <td>0.0</td>\n",
       "      <td>0.0</td>\n",
       "      <td>0.0</td>\n",
       "      <td>0.0</td>\n",
       "    </tr>\n",
       "    <tr>\n",
       "      <th>fffd7a9a6eb32c16</th>\n",
       "      <td>== Throw from out field to home plate. == \\n\\n...</td>\n",
       "      <td>0.0</td>\n",
       "      <td>0.0</td>\n",
       "      <td>0.0</td>\n",
       "      <td>0.0</td>\n",
       "      <td>0.0</td>\n",
       "      <td>0.0</td>\n",
       "    </tr>\n",
       "    <tr>\n",
       "      <th>fffda9e8d6fafa9e</th>\n",
       "      <td>\" \\n\\n == Okinotorishima categories == \\n\\n I ...</td>\n",
       "      <td>0.0</td>\n",
       "      <td>0.0</td>\n",
       "      <td>0.0</td>\n",
       "      <td>0.0</td>\n",
       "      <td>0.0</td>\n",
       "      <td>0.0</td>\n",
       "    </tr>\n",
       "    <tr>\n",
       "      <th>fffe8f1340a79fc2</th>\n",
       "      <td>\" \\n\\n == \"\"One of the founding nations of the...</td>\n",
       "      <td>0.0</td>\n",
       "      <td>0.0</td>\n",
       "      <td>0.0</td>\n",
       "      <td>0.0</td>\n",
       "      <td>0.0</td>\n",
       "      <td>0.0</td>\n",
       "    </tr>\n",
       "    <tr>\n",
       "      <th>ffffce3fb183ee80</th>\n",
       "      <td>\" \\n :::Stop already. Your bullshit is not wel...</td>\n",
       "      <td>0.0</td>\n",
       "      <td>0.0</td>\n",
       "      <td>0.0</td>\n",
       "      <td>0.0</td>\n",
       "      <td>0.0</td>\n",
       "      <td>0.0</td>\n",
       "    </tr>\n",
       "  </tbody>\n",
       "</table>\n",
       "<p>312735 rows × 7 columns</p>\n",
       "</div>"
      ],
      "text/plain": [
       "                                                       comment_text  toxic  \\\n",
       "id                                                                           \n",
       "0000997932d777bf  Explanation\\nWhy the edits made under my usern...    0.0   \n",
       "000103f0d9cfb60f  D'aww! He matches this background colour I'm s...    0.0   \n",
       "000113f07ec002fd  Hey man, I'm really not trying to edit war. It...    0.0   \n",
       "0001b41b1c6bb37e  \"\\nMore\\nI can't make any real suggestions on ...    0.0   \n",
       "0001d958c54c6e35  You, sir, are my hero. Any chance you remember...    0.0   \n",
       "...                                                             ...    ...   \n",
       "fffcd0960ee309b5  . \\n i totally agree, this stuff is nothing bu...    0.0   \n",
       "fffd7a9a6eb32c16  == Throw from out field to home plate. == \\n\\n...    0.0   \n",
       "fffda9e8d6fafa9e  \" \\n\\n == Okinotorishima categories == \\n\\n I ...    0.0   \n",
       "fffe8f1340a79fc2  \" \\n\\n == \"\"One of the founding nations of the...    0.0   \n",
       "ffffce3fb183ee80  \" \\n :::Stop already. Your bullshit is not wel...    0.0   \n",
       "\n",
       "                  severe_toxic  obscene  threat  insult  identity_hate  \n",
       "id                                                                      \n",
       "0000997932d777bf           0.0      0.0     0.0     0.0            0.0  \n",
       "000103f0d9cfb60f           0.0      0.0     0.0     0.0            0.0  \n",
       "000113f07ec002fd           0.0      0.0     0.0     0.0            0.0  \n",
       "0001b41b1c6bb37e           0.0      0.0     0.0     0.0            0.0  \n",
       "0001d958c54c6e35           0.0      0.0     0.0     0.0            0.0  \n",
       "...                        ...      ...     ...     ...            ...  \n",
       "fffcd0960ee309b5           0.0      0.0     0.0     0.0            0.0  \n",
       "fffd7a9a6eb32c16           0.0      0.0     0.0     0.0            0.0  \n",
       "fffda9e8d6fafa9e           0.0      0.0     0.0     0.0            0.0  \n",
       "fffe8f1340a79fc2           0.0      0.0     0.0     0.0            0.0  \n",
       "ffffce3fb183ee80           0.0      0.0     0.0     0.0            0.0  \n",
       "\n",
       "[312735 rows x 7 columns]"
      ]
     },
     "execution_count": 7,
     "metadata": {},
     "output_type": "execute_result"
    },
    {
     "data": {
      "application/javascript": [
       "\n",
       "            setTimeout(function() {\n",
       "                var nbb_cell_id = 7;\n",
       "                var nbb_unformatted_code = \"df = pd.concat([train_df, test_df]).fillna(0)\\ndf\";\n",
       "                var nbb_formatted_code = \"df = pd.concat([train_df, test_df]).fillna(0)\\ndf\";\n",
       "                var nbb_cells = Jupyter.notebook.get_cells();\n",
       "                for (var i = 0; i < nbb_cells.length; ++i) {\n",
       "                    if (nbb_cells[i].input_prompt_number == nbb_cell_id) {\n",
       "                        if (nbb_cells[i].get_text() == nbb_unformatted_code) {\n",
       "                             nbb_cells[i].set_text(nbb_formatted_code);\n",
       "                        }\n",
       "                        break;\n",
       "                    }\n",
       "                }\n",
       "            }, 500);\n",
       "            "
      ],
      "text/plain": [
       "<IPython.core.display.Javascript object>"
      ]
     },
     "metadata": {},
     "output_type": "display_data"
    }
   ],
   "source": [
    "df = pd.concat([train_df, test_df]).fillna(0)\n",
    "df"
   ]
  },
  {
   "cell_type": "code",
   "execution_count": 8,
   "id": "7d07ebe9",
   "metadata": {
    "ExecuteTime": {
     "end_time": "2022-05-05T05:00:20.380783Z",
     "start_time": "2022-05-05T05:00:12.243346Z"
    }
   },
   "outputs": [
    {
     "data": {
      "text/plain": [
       "id\n",
       "0000997932d777bf    Explanation Why the edits made under my userna...\n",
       "000103f0d9cfb60f    D'aww! He matches this background colour I'm s...\n",
       "000113f07ec002fd    Hey man, I'm really not trying to edit war. It...\n",
       "0001b41b1c6bb37e    \" More I can't make any real suggestions on im...\n",
       "0001d958c54c6e35    You, sir, are my hero. Any chance you remember...\n",
       "                                          ...                        \n",
       "fffcd0960ee309b5    . i totally agree, this stuff is nothing but t...\n",
       "fffd7a9a6eb32c16    == Throw from out field to home plate. == Does...\n",
       "fffda9e8d6fafa9e    \" == Okinotorishima categories == I see your c...\n",
       "fffe8f1340a79fc2    \" == \"\"One of the founding nations of the EU -...\n",
       "ffffce3fb183ee80    \" :::Stop already. Your bullshit is not welcom...\n",
       "Name: comment_text, Length: 312735, dtype: object"
      ]
     },
     "execution_count": 8,
     "metadata": {},
     "output_type": "execute_result"
    },
    {
     "data": {
      "application/javascript": [
       "\n",
       "            setTimeout(function() {\n",
       "                var nbb_cell_id = 8;\n",
       "                var nbb_unformatted_code = \"df[\\\"comment_text\\\"] = (\\n    df[\\\"comment_text\\\"]\\n    .str.replace(r\\\"(@.*?)[\\\\s]\\\", \\\" \\\", regex=True)\\n    .str.replace(r\\\"[0-9]+\\\", \\\"\\\", regex=True)\\n    .str.replace(r\\\"\\\\s([@][\\\\w_-]+)\\\", \\\"\\\", regex=True)\\n    .str.strip()\\n    .str.replace(r\\\"&amp;\\\", \\\"&\\\", regex=True)\\n    .str.replace(r\\\"\\\\s+\\\", \\\" \\\", regex=True)\\n    .str.replace(\\\"#\\\", \\\" \\\", regex=False)\\n)\\ndf[\\\"comment_text\\\"]\";\n",
       "                var nbb_formatted_code = \"df[\\\"comment_text\\\"] = (\\n    df[\\\"comment_text\\\"]\\n    .str.replace(r\\\"(@.*?)[\\\\s]\\\", \\\" \\\", regex=True)\\n    .str.replace(r\\\"[0-9]+\\\", \\\"\\\", regex=True)\\n    .str.replace(r\\\"\\\\s([@][\\\\w_-]+)\\\", \\\"\\\", regex=True)\\n    .str.strip()\\n    .str.replace(r\\\"&amp;\\\", \\\"&\\\", regex=True)\\n    .str.replace(r\\\"\\\\s+\\\", \\\" \\\", regex=True)\\n    .str.replace(\\\"#\\\", \\\" \\\", regex=False)\\n)\\ndf[\\\"comment_text\\\"]\";\n",
       "                var nbb_cells = Jupyter.notebook.get_cells();\n",
       "                for (var i = 0; i < nbb_cells.length; ++i) {\n",
       "                    if (nbb_cells[i].input_prompt_number == nbb_cell_id) {\n",
       "                        if (nbb_cells[i].get_text() == nbb_unformatted_code) {\n",
       "                             nbb_cells[i].set_text(nbb_formatted_code);\n",
       "                        }\n",
       "                        break;\n",
       "                    }\n",
       "                }\n",
       "            }, 500);\n",
       "            "
      ],
      "text/plain": [
       "<IPython.core.display.Javascript object>"
      ]
     },
     "metadata": {},
     "output_type": "display_data"
    }
   ],
   "source": [
    "df[\"comment_text\"] = (\n",
    "    df[\"comment_text\"]\n",
    "    .str.replace(r\"(@.*?)[\\s]\", \" \", regex=True)\n",
    "    .str.replace(r\"[0-9]+\", \"\", regex=True)\n",
    "    .str.replace(r\"\\s([@][\\w_-]+)\", \"\", regex=True)\n",
    "    .str.strip()\n",
    "    .str.replace(r\"&amp;\", \"&\", regex=True)\n",
    "    .str.replace(r\"\\s+\", \" \", regex=True)\n",
    "    .str.replace(\"#\", \" \", regex=False)\n",
    ")\n",
    "df[\"comment_text\"]"
   ]
  },
  {
   "cell_type": "code",
   "execution_count": 9,
   "id": "2ba48880",
   "metadata": {
    "ExecuteTime": {
     "end_time": "2022-05-05T05:00:24.603859Z",
     "start_time": "2022-05-05T05:00:20.382022Z"
    }
   },
   "outputs": [
    {
     "data": {
      "application/javascript": [
       "\n",
       "            setTimeout(function() {\n",
       "                var nbb_cell_id = 9;\n",
       "                var nbb_unformatted_code = \"tokenizer = BertTokenizer.from_pretrained(\\\"bert-base-uncased\\\")\";\n",
       "                var nbb_formatted_code = \"tokenizer = BertTokenizer.from_pretrained(\\\"bert-base-uncased\\\")\";\n",
       "                var nbb_cells = Jupyter.notebook.get_cells();\n",
       "                for (var i = 0; i < nbb_cells.length; ++i) {\n",
       "                    if (nbb_cells[i].input_prompt_number == nbb_cell_id) {\n",
       "                        if (nbb_cells[i].get_text() == nbb_unformatted_code) {\n",
       "                             nbb_cells[i].set_text(nbb_formatted_code);\n",
       "                        }\n",
       "                        break;\n",
       "                    }\n",
       "                }\n",
       "            }, 500);\n",
       "            "
      ],
      "text/plain": [
       "<IPython.core.display.Javascript object>"
      ]
     },
     "metadata": {},
     "output_type": "display_data"
    }
   ],
   "source": [
    "tokenizer = BertTokenizer.from_pretrained(\"bert-base-uncased\")"
   ]
  },
  {
   "cell_type": "code",
   "execution_count": 10,
   "id": "03d379bf",
   "metadata": {
    "ExecuteTime": {
     "end_time": "2022-05-05T05:11:27.851967Z",
     "start_time": "2022-05-05T05:00:24.605203Z"
    }
   },
   "outputs": [
    {
     "data": {
      "application/vnd.jupyter.widget-view+json": {
       "model_id": "49befad5e79f4b36bc35bf93104ccade",
       "version_major": 2,
       "version_minor": 0
      },
      "text/plain": [
       "  0%|          | 0/312735 [00:00<?, ?it/s]"
      ]
     },
     "metadata": {},
     "output_type": "display_data"
    },
    {
     "data": {
      "application/vnd.jupyter.widget-view+json": {
       "model_id": "68dd661cb8ab465588d06a1b0049688d",
       "version_major": 2,
       "version_minor": 0
      },
      "text/plain": [
       "  0%|          | 0/312735 [00:00<?, ?it/s]"
      ]
     },
     "metadata": {},
     "output_type": "display_data"
    },
    {
     "data": {
      "text/html": [
       "<div>\n",
       "<style scoped>\n",
       "    .dataframe tbody tr th:only-of-type {\n",
       "        vertical-align: middle;\n",
       "    }\n",
       "\n",
       "    .dataframe tbody tr th {\n",
       "        vertical-align: top;\n",
       "    }\n",
       "\n",
       "    .dataframe thead th {\n",
       "        text-align: right;\n",
       "    }\n",
       "</style>\n",
       "<table border=\"1\" class=\"dataframe\">\n",
       "  <thead>\n",
       "    <tr style=\"text-align: right;\">\n",
       "      <th></th>\n",
       "      <th>comment_text</th>\n",
       "      <th>toxic</th>\n",
       "      <th>severe_toxic</th>\n",
       "      <th>obscene</th>\n",
       "      <th>threat</th>\n",
       "      <th>insult</th>\n",
       "      <th>identity_hate</th>\n",
       "      <th>input_ids</th>\n",
       "      <th>attention_masks</th>\n",
       "    </tr>\n",
       "    <tr>\n",
       "      <th>id</th>\n",
       "      <th></th>\n",
       "      <th></th>\n",
       "      <th></th>\n",
       "      <th></th>\n",
       "      <th></th>\n",
       "      <th></th>\n",
       "      <th></th>\n",
       "      <th></th>\n",
       "      <th></th>\n",
       "    </tr>\n",
       "  </thead>\n",
       "  <tbody>\n",
       "    <tr>\n",
       "      <th>0000997932d777bf</th>\n",
       "      <td>Explanation Why the edits made under my userna...</td>\n",
       "      <td>0.0</td>\n",
       "      <td>0.0</td>\n",
       "      <td>0.0</td>\n",
       "      <td>0.0</td>\n",
       "      <td>0.0</td>\n",
       "      <td>0.0</td>\n",
       "      <td>[101, 7526, 2339, 1996, 10086, 2015, 2081, 210...</td>\n",
       "      <td>[1, 1, 1, 1, 1, 1, 1, 1, 1, 1, 1, 1, 1, 1, 1, ...</td>\n",
       "    </tr>\n",
       "    <tr>\n",
       "      <th>000103f0d9cfb60f</th>\n",
       "      <td>D'aww! He matches this background colour I'm s...</td>\n",
       "      <td>0.0</td>\n",
       "      <td>0.0</td>\n",
       "      <td>0.0</td>\n",
       "      <td>0.0</td>\n",
       "      <td>0.0</td>\n",
       "      <td>0.0</td>\n",
       "      <td>[101, 1040, 1005, 22091, 2860, 999, 2002, 3503...</td>\n",
       "      <td>[1, 1, 1, 1, 1, 1, 1, 1, 1, 1, 1, 1, 1, 1, 1, ...</td>\n",
       "    </tr>\n",
       "    <tr>\n",
       "      <th>000113f07ec002fd</th>\n",
       "      <td>Hey man, I'm really not trying to edit war. It...</td>\n",
       "      <td>0.0</td>\n",
       "      <td>0.0</td>\n",
       "      <td>0.0</td>\n",
       "      <td>0.0</td>\n",
       "      <td>0.0</td>\n",
       "      <td>0.0</td>\n",
       "      <td>[101, 4931, 2158, 1010, 1045, 1005, 1049, 2428...</td>\n",
       "      <td>[1, 1, 1, 1, 1, 1, 1, 1, 1, 1, 1, 1, 1, 1, 1, ...</td>\n",
       "    </tr>\n",
       "    <tr>\n",
       "      <th>0001b41b1c6bb37e</th>\n",
       "      <td>\" More I can't make any real suggestions on im...</td>\n",
       "      <td>0.0</td>\n",
       "      <td>0.0</td>\n",
       "      <td>0.0</td>\n",
       "      <td>0.0</td>\n",
       "      <td>0.0</td>\n",
       "      <td>0.0</td>\n",
       "      <td>[101, 1000, 2062, 1045, 2064, 1005, 1056, 2191...</td>\n",
       "      <td>[1, 1, 1, 1, 1, 1, 1, 1, 1, 1, 1, 1, 1, 1, 1, ...</td>\n",
       "    </tr>\n",
       "    <tr>\n",
       "      <th>0001d958c54c6e35</th>\n",
       "      <td>You, sir, are my hero. Any chance you remember...</td>\n",
       "      <td>0.0</td>\n",
       "      <td>0.0</td>\n",
       "      <td>0.0</td>\n",
       "      <td>0.0</td>\n",
       "      <td>0.0</td>\n",
       "      <td>0.0</td>\n",
       "      <td>[101, 2017, 1010, 2909, 1010, 2024, 2026, 5394...</td>\n",
       "      <td>[1, 1, 1, 1, 1, 1, 1, 1, 1, 1, 1, 1, 1, 1, 1, ...</td>\n",
       "    </tr>\n",
       "    <tr>\n",
       "      <th>...</th>\n",
       "      <td>...</td>\n",
       "      <td>...</td>\n",
       "      <td>...</td>\n",
       "      <td>...</td>\n",
       "      <td>...</td>\n",
       "      <td>...</td>\n",
       "      <td>...</td>\n",
       "      <td>...</td>\n",
       "      <td>...</td>\n",
       "    </tr>\n",
       "    <tr>\n",
       "      <th>fffcd0960ee309b5</th>\n",
       "      <td>. i totally agree, this stuff is nothing but t...</td>\n",
       "      <td>0.0</td>\n",
       "      <td>0.0</td>\n",
       "      <td>0.0</td>\n",
       "      <td>0.0</td>\n",
       "      <td>0.0</td>\n",
       "      <td>0.0</td>\n",
       "      <td>[101, 1012, 1045, 6135, 5993, 1010, 2023, 4933...</td>\n",
       "      <td>[1, 1, 1, 1, 1, 1, 1, 1, 1, 1, 1, 1, 1, 1, 1, ...</td>\n",
       "    </tr>\n",
       "    <tr>\n",
       "      <th>fffd7a9a6eb32c16</th>\n",
       "      <td>== Throw from out field to home plate. == Does...</td>\n",
       "      <td>0.0</td>\n",
       "      <td>0.0</td>\n",
       "      <td>0.0</td>\n",
       "      <td>0.0</td>\n",
       "      <td>0.0</td>\n",
       "      <td>0.0</td>\n",
       "      <td>[101, 1027, 1027, 5466, 2013, 2041, 2492, 2000...</td>\n",
       "      <td>[1, 1, 1, 1, 1, 1, 1, 1, 1, 1, 1, 1, 1, 1, 1, ...</td>\n",
       "    </tr>\n",
       "    <tr>\n",
       "      <th>fffda9e8d6fafa9e</th>\n",
       "      <td>\" == Okinotorishima categories == I see your c...</td>\n",
       "      <td>0.0</td>\n",
       "      <td>0.0</td>\n",
       "      <td>0.0</td>\n",
       "      <td>0.0</td>\n",
       "      <td>0.0</td>\n",
       "      <td>0.0</td>\n",
       "      <td>[101, 1000, 1027, 1027, 7929, 5740, 29469, 247...</td>\n",
       "      <td>[1, 1, 1, 1, 1, 1, 1, 1, 1, 1, 1, 1, 1, 1, 1, ...</td>\n",
       "    </tr>\n",
       "    <tr>\n",
       "      <th>fffe8f1340a79fc2</th>\n",
       "      <td>\" == \"\"One of the founding nations of the EU -...</td>\n",
       "      <td>0.0</td>\n",
       "      <td>0.0</td>\n",
       "      <td>0.0</td>\n",
       "      <td>0.0</td>\n",
       "      <td>0.0</td>\n",
       "      <td>0.0</td>\n",
       "      <td>[101, 1000, 1027, 1027, 1000, 1000, 2028, 1997...</td>\n",
       "      <td>[1, 1, 1, 1, 1, 1, 1, 1, 1, 1, 1, 1, 1, 1, 1, ...</td>\n",
       "    </tr>\n",
       "    <tr>\n",
       "      <th>ffffce3fb183ee80</th>\n",
       "      <td>\" :::Stop already. Your bullshit is not welcom...</td>\n",
       "      <td>0.0</td>\n",
       "      <td>0.0</td>\n",
       "      <td>0.0</td>\n",
       "      <td>0.0</td>\n",
       "      <td>0.0</td>\n",
       "      <td>0.0</td>\n",
       "      <td>[101, 1000, 1024, 1024, 1024, 2644, 2525, 1012...</td>\n",
       "      <td>[1, 1, 1, 1, 1, 1, 1, 1, 1, 1, 1, 1, 1, 1, 1, ...</td>\n",
       "    </tr>\n",
       "  </tbody>\n",
       "</table>\n",
       "<p>312735 rows × 9 columns</p>\n",
       "</div>"
      ],
      "text/plain": [
       "                                                       comment_text  toxic  \\\n",
       "id                                                                           \n",
       "0000997932d777bf  Explanation Why the edits made under my userna...    0.0   \n",
       "000103f0d9cfb60f  D'aww! He matches this background colour I'm s...    0.0   \n",
       "000113f07ec002fd  Hey man, I'm really not trying to edit war. It...    0.0   \n",
       "0001b41b1c6bb37e  \" More I can't make any real suggestions on im...    0.0   \n",
       "0001d958c54c6e35  You, sir, are my hero. Any chance you remember...    0.0   \n",
       "...                                                             ...    ...   \n",
       "fffcd0960ee309b5  . i totally agree, this stuff is nothing but t...    0.0   \n",
       "fffd7a9a6eb32c16  == Throw from out field to home plate. == Does...    0.0   \n",
       "fffda9e8d6fafa9e  \" == Okinotorishima categories == I see your c...    0.0   \n",
       "fffe8f1340a79fc2  \" == \"\"One of the founding nations of the EU -...    0.0   \n",
       "ffffce3fb183ee80  \" :::Stop already. Your bullshit is not welcom...    0.0   \n",
       "\n",
       "                  severe_toxic  obscene  threat  insult  identity_hate  \\\n",
       "id                                                                       \n",
       "0000997932d777bf           0.0      0.0     0.0     0.0            0.0   \n",
       "000103f0d9cfb60f           0.0      0.0     0.0     0.0            0.0   \n",
       "000113f07ec002fd           0.0      0.0     0.0     0.0            0.0   \n",
       "0001b41b1c6bb37e           0.0      0.0     0.0     0.0            0.0   \n",
       "0001d958c54c6e35           0.0      0.0     0.0     0.0            0.0   \n",
       "...                        ...      ...     ...     ...            ...   \n",
       "fffcd0960ee309b5           0.0      0.0     0.0     0.0            0.0   \n",
       "fffd7a9a6eb32c16           0.0      0.0     0.0     0.0            0.0   \n",
       "fffda9e8d6fafa9e           0.0      0.0     0.0     0.0            0.0   \n",
       "fffe8f1340a79fc2           0.0      0.0     0.0     0.0            0.0   \n",
       "ffffce3fb183ee80           0.0      0.0     0.0     0.0            0.0   \n",
       "\n",
       "                                                          input_ids  \\\n",
       "id                                                                    \n",
       "0000997932d777bf  [101, 7526, 2339, 1996, 10086, 2015, 2081, 210...   \n",
       "000103f0d9cfb60f  [101, 1040, 1005, 22091, 2860, 999, 2002, 3503...   \n",
       "000113f07ec002fd  [101, 4931, 2158, 1010, 1045, 1005, 1049, 2428...   \n",
       "0001b41b1c6bb37e  [101, 1000, 2062, 1045, 2064, 1005, 1056, 2191...   \n",
       "0001d958c54c6e35  [101, 2017, 1010, 2909, 1010, 2024, 2026, 5394...   \n",
       "...                                                             ...   \n",
       "fffcd0960ee309b5  [101, 1012, 1045, 6135, 5993, 1010, 2023, 4933...   \n",
       "fffd7a9a6eb32c16  [101, 1027, 1027, 5466, 2013, 2041, 2492, 2000...   \n",
       "fffda9e8d6fafa9e  [101, 1000, 1027, 1027, 7929, 5740, 29469, 247...   \n",
       "fffe8f1340a79fc2  [101, 1000, 1027, 1027, 1000, 1000, 2028, 1997...   \n",
       "ffffce3fb183ee80  [101, 1000, 1024, 1024, 1024, 2644, 2525, 1012...   \n",
       "\n",
       "                                                    attention_masks  \n",
       "id                                                                   \n",
       "0000997932d777bf  [1, 1, 1, 1, 1, 1, 1, 1, 1, 1, 1, 1, 1, 1, 1, ...  \n",
       "000103f0d9cfb60f  [1, 1, 1, 1, 1, 1, 1, 1, 1, 1, 1, 1, 1, 1, 1, ...  \n",
       "000113f07ec002fd  [1, 1, 1, 1, 1, 1, 1, 1, 1, 1, 1, 1, 1, 1, 1, ...  \n",
       "0001b41b1c6bb37e  [1, 1, 1, 1, 1, 1, 1, 1, 1, 1, 1, 1, 1, 1, 1, ...  \n",
       "0001d958c54c6e35  [1, 1, 1, 1, 1, 1, 1, 1, 1, 1, 1, 1, 1, 1, 1, ...  \n",
       "...                                                             ...  \n",
       "fffcd0960ee309b5  [1, 1, 1, 1, 1, 1, 1, 1, 1, 1, 1, 1, 1, 1, 1, ...  \n",
       "fffd7a9a6eb32c16  [1, 1, 1, 1, 1, 1, 1, 1, 1, 1, 1, 1, 1, 1, 1, ...  \n",
       "fffda9e8d6fafa9e  [1, 1, 1, 1, 1, 1, 1, 1, 1, 1, 1, 1, 1, 1, 1, ...  \n",
       "fffe8f1340a79fc2  [1, 1, 1, 1, 1, 1, 1, 1, 1, 1, 1, 1, 1, 1, 1, ...  \n",
       "ffffce3fb183ee80  [1, 1, 1, 1, 1, 1, 1, 1, 1, 1, 1, 1, 1, 1, 1, ...  \n",
       "\n",
       "[312735 rows x 9 columns]"
      ]
     },
     "execution_count": 10,
     "metadata": {},
     "output_type": "execute_result"
    },
    {
     "data": {
      "application/javascript": [
       "\n",
       "            setTimeout(function() {\n",
       "                var nbb_cell_id = 10;\n",
       "                var nbb_unformatted_code = \"def tokenizer_encode(text, column=\\\"input_ids\\\"):\\n    encoding = tokenizer.encode_plus(\\n        text,\\n        add_special_tokens=True,\\n        truncation=True,\\n        padding=\\\"max_length\\\",\\n        return_attention_mask=True,\\n        # return_tensors=\\\"pt\\\",\\n    )\\n\\n    return encoding.get(column)\\n\\n\\ntqdm.pandas()\\n\\ndf[\\\"input_ids\\\"] = df[\\\"comment_text\\\"].progress_map(lambda x: tokenizer_encode(x))\\ndf[\\\"attention_masks\\\"] = df[\\\"comment_text\\\"].progress_map(\\n    lambda x: tokenizer_encode(x, \\\"attention_mask\\\")\\n)\\n\\ndf\";\n",
       "                var nbb_formatted_code = \"def tokenizer_encode(text, column=\\\"input_ids\\\"):\\n    encoding = tokenizer.encode_plus(\\n        text,\\n        add_special_tokens=True,\\n        truncation=True,\\n        padding=\\\"max_length\\\",\\n        return_attention_mask=True,\\n        # return_tensors=\\\"pt\\\",\\n    )\\n\\n    return encoding.get(column)\\n\\n\\ntqdm.pandas()\\n\\ndf[\\\"input_ids\\\"] = df[\\\"comment_text\\\"].progress_map(lambda x: tokenizer_encode(x))\\ndf[\\\"attention_masks\\\"] = df[\\\"comment_text\\\"].progress_map(\\n    lambda x: tokenizer_encode(x, \\\"attention_mask\\\")\\n)\\n\\ndf\";\n",
       "                var nbb_cells = Jupyter.notebook.get_cells();\n",
       "                for (var i = 0; i < nbb_cells.length; ++i) {\n",
       "                    if (nbb_cells[i].input_prompt_number == nbb_cell_id) {\n",
       "                        if (nbb_cells[i].get_text() == nbb_unformatted_code) {\n",
       "                             nbb_cells[i].set_text(nbb_formatted_code);\n",
       "                        }\n",
       "                        break;\n",
       "                    }\n",
       "                }\n",
       "            }, 500);\n",
       "            "
      ],
      "text/plain": [
       "<IPython.core.display.Javascript object>"
      ]
     },
     "metadata": {},
     "output_type": "display_data"
    }
   ],
   "source": [
    "def tokenizer_encode(text, column=\"input_ids\"):\n",
    "    encoding = tokenizer.encode_plus(\n",
    "        text,\n",
    "        add_special_tokens=True,\n",
    "        truncation=True,\n",
    "        padding=\"max_length\",\n",
    "        return_attention_mask=True,\n",
    "        # return_tensors=\"pt\",\n",
    "    )\n",
    "\n",
    "    return encoding.get(column)\n",
    "\n",
    "\n",
    "tqdm.pandas()\n",
    "\n",
    "df[\"input_ids\"] = df[\"comment_text\"].progress_map(lambda x: tokenizer_encode(x))\n",
    "df[\"attention_masks\"] = df[\"comment_text\"].progress_map(\n",
    "    lambda x: tokenizer_encode(x, \"attention_mask\")\n",
    ")\n",
    "\n",
    "df"
   ]
  },
  {
   "cell_type": "code",
   "execution_count": 11,
   "id": "516b91c5",
   "metadata": {
    "ExecuteTime": {
     "end_time": "2022-05-05T05:11:28.040178Z",
     "start_time": "2022-05-05T05:11:27.852947Z"
    }
   },
   "outputs": [
    {
     "data": {
      "text/plain": [
       "((153164, 2), (159571, 2), (159571, 1))"
      ]
     },
     "execution_count": 11,
     "metadata": {},
     "output_type": "execute_result"
    },
    {
     "data": {
      "application/javascript": [
       "\n",
       "            setTimeout(function() {\n",
       "                var nbb_cell_id = 11;\n",
       "                var nbb_unformatted_code = \"X_test = df[df.index.isin(test_df.index)][[\\\"input_ids\\\", \\\"attention_masks\\\"]]\\n\\nX = df[df.index.isin(train_df.index)][[\\\"input_ids\\\", \\\"attention_masks\\\"]]\\ny = df[df.index.isin(train_df.index)][[\\\"toxic\\\"]].astype(int)\\n\\nX_test.shape, X.shape, y.shape\";\n",
       "                var nbb_formatted_code = \"X_test = df[df.index.isin(test_df.index)][[\\\"input_ids\\\", \\\"attention_masks\\\"]]\\n\\nX = df[df.index.isin(train_df.index)][[\\\"input_ids\\\", \\\"attention_masks\\\"]]\\ny = df[df.index.isin(train_df.index)][[\\\"toxic\\\"]].astype(int)\\n\\nX_test.shape, X.shape, y.shape\";\n",
       "                var nbb_cells = Jupyter.notebook.get_cells();\n",
       "                for (var i = 0; i < nbb_cells.length; ++i) {\n",
       "                    if (nbb_cells[i].input_prompt_number == nbb_cell_id) {\n",
       "                        if (nbb_cells[i].get_text() == nbb_unformatted_code) {\n",
       "                             nbb_cells[i].set_text(nbb_formatted_code);\n",
       "                        }\n",
       "                        break;\n",
       "                    }\n",
       "                }\n",
       "            }, 500);\n",
       "            "
      ],
      "text/plain": [
       "<IPython.core.display.Javascript object>"
      ]
     },
     "metadata": {},
     "output_type": "display_data"
    }
   ],
   "source": [
    "X_test = df[df.index.isin(test_df.index)][[\"input_ids\", \"attention_masks\"]]\n",
    "\n",
    "X = df[df.index.isin(train_df.index)][[\"input_ids\", \"attention_masks\"]]\n",
    "y = df[df.index.isin(train_df.index)][[\"toxic\"]].astype(int)\n",
    "\n",
    "X_test.shape, X.shape, y.shape"
   ]
  },
  {
   "cell_type": "code",
   "execution_count": 12,
   "id": "6a3e83aa",
   "metadata": {
    "ExecuteTime": {
     "end_time": "2022-05-05T05:11:28.047002Z",
     "start_time": "2022-05-05T05:11:28.041140Z"
    }
   },
   "outputs": [
    {
     "data": {
      "text/plain": [
       "toxic\n",
       "0        144277\n",
       "1         15294\n",
       "dtype: int64"
      ]
     },
     "execution_count": 12,
     "metadata": {},
     "output_type": "execute_result"
    },
    {
     "data": {
      "application/javascript": [
       "\n",
       "            setTimeout(function() {\n",
       "                var nbb_cell_id = 12;\n",
       "                var nbb_unformatted_code = \"y.value_counts()\";\n",
       "                var nbb_formatted_code = \"y.value_counts()\";\n",
       "                var nbb_cells = Jupyter.notebook.get_cells();\n",
       "                for (var i = 0; i < nbb_cells.length; ++i) {\n",
       "                    if (nbb_cells[i].input_prompt_number == nbb_cell_id) {\n",
       "                        if (nbb_cells[i].get_text() == nbb_unformatted_code) {\n",
       "                             nbb_cells[i].set_text(nbb_formatted_code);\n",
       "                        }\n",
       "                        break;\n",
       "                    }\n",
       "                }\n",
       "            }, 500);\n",
       "            "
      ],
      "text/plain": [
       "<IPython.core.display.Javascript object>"
      ]
     },
     "metadata": {},
     "output_type": "display_data"
    }
   ],
   "source": [
    "y.value_counts()"
   ]
  },
  {
   "cell_type": "code",
   "execution_count": 13,
   "id": "c3a6e0a1",
   "metadata": {
    "ExecuteTime": {
     "end_time": "2022-05-05T05:11:28.092043Z",
     "start_time": "2022-05-05T05:11:28.047857Z"
    }
   },
   "outputs": [
    {
     "data": {
      "text/plain": [
       "((143613, 2), (15958, 2), (143613, 1), (15958, 1))"
      ]
     },
     "execution_count": 13,
     "metadata": {},
     "output_type": "execute_result"
    },
    {
     "data": {
      "application/javascript": [
       "\n",
       "            setTimeout(function() {\n",
       "                var nbb_cell_id = 13;\n",
       "                var nbb_unformatted_code = \"X_train, X_val, y_train, y_val = train_test_split(\\n    X, y, test_size=0.1, random_state=2022\\n)\\nX_train.shape, X_val.shape, y_train.shape, y_val.shape\";\n",
       "                var nbb_formatted_code = \"X_train, X_val, y_train, y_val = train_test_split(\\n    X, y, test_size=0.1, random_state=2022\\n)\\nX_train.shape, X_val.shape, y_train.shape, y_val.shape\";\n",
       "                var nbb_cells = Jupyter.notebook.get_cells();\n",
       "                for (var i = 0; i < nbb_cells.length; ++i) {\n",
       "                    if (nbb_cells[i].input_prompt_number == nbb_cell_id) {\n",
       "                        if (nbb_cells[i].get_text() == nbb_unformatted_code) {\n",
       "                             nbb_cells[i].set_text(nbb_formatted_code);\n",
       "                        }\n",
       "                        break;\n",
       "                    }\n",
       "                }\n",
       "            }, 500);\n",
       "            "
      ],
      "text/plain": [
       "<IPython.core.display.Javascript object>"
      ]
     },
     "metadata": {},
     "output_type": "display_data"
    }
   ],
   "source": [
    "X_train, X_val, y_train, y_val = train_test_split(\n",
    "    X, y, test_size=0.1, random_state=2022\n",
    ")\n",
    "X_train.shape, X_val.shape, y_train.shape, y_val.shape"
   ]
  },
  {
   "cell_type": "code",
   "execution_count": 14,
   "id": "021888a4",
   "metadata": {
    "ExecuteTime": {
     "end_time": "2022-05-05T05:11:35.264495Z",
     "start_time": "2022-05-05T05:11:28.092957Z"
    }
   },
   "outputs": [
    {
     "data": {
      "application/javascript": [
       "\n",
       "            setTimeout(function() {\n",
       "                var nbb_cell_id = 14;\n",
       "                var nbb_unformatted_code = \"# For fine-tuning BERT, the authors recommend a batch size of 16 or 32.\\nBATCH_SIZE = 8\\n\\ntrain_dataset = TensorDataset(\\n    torch.tensor(X_train[\\\"input_ids\\\"]),\\n    torch.tensor(X_train[\\\"attention_masks\\\"]),\\n    torch.tensor(y_train[\\\"toxic\\\"]),\\n)\\ntrain_sampler = RandomSampler(train_dataset)\\ntrain_loader = DataLoader(train_dataset, sampler=train_sampler, batch_size=BATCH_SIZE)\\n\\n\\nval_dataset = TensorDataset(\\n    torch.tensor(X_val[\\\"input_ids\\\"]),\\n    torch.tensor(X_val[\\\"attention_masks\\\"]),\\n    torch.tensor(y_val[\\\"toxic\\\"]),\\n)\\nval_sampler = RandomSampler(val_dataset)\\nval_loader = DataLoader(val_dataset, sampler=val_sampler, batch_size=BATCH_SIZE)\";\n",
       "                var nbb_formatted_code = \"# For fine-tuning BERT, the authors recommend a batch size of 16 or 32.\\nBATCH_SIZE = 8\\n\\ntrain_dataset = TensorDataset(\\n    torch.tensor(X_train[\\\"input_ids\\\"]),\\n    torch.tensor(X_train[\\\"attention_masks\\\"]),\\n    torch.tensor(y_train[\\\"toxic\\\"]),\\n)\\ntrain_sampler = RandomSampler(train_dataset)\\ntrain_loader = DataLoader(train_dataset, sampler=train_sampler, batch_size=BATCH_SIZE)\\n\\n\\nval_dataset = TensorDataset(\\n    torch.tensor(X_val[\\\"input_ids\\\"]),\\n    torch.tensor(X_val[\\\"attention_masks\\\"]),\\n    torch.tensor(y_val[\\\"toxic\\\"]),\\n)\\nval_sampler = RandomSampler(val_dataset)\\nval_loader = DataLoader(val_dataset, sampler=val_sampler, batch_size=BATCH_SIZE)\";\n",
       "                var nbb_cells = Jupyter.notebook.get_cells();\n",
       "                for (var i = 0; i < nbb_cells.length; ++i) {\n",
       "                    if (nbb_cells[i].input_prompt_number == nbb_cell_id) {\n",
       "                        if (nbb_cells[i].get_text() == nbb_unformatted_code) {\n",
       "                             nbb_cells[i].set_text(nbb_formatted_code);\n",
       "                        }\n",
       "                        break;\n",
       "                    }\n",
       "                }\n",
       "            }, 500);\n",
       "            "
      ],
      "text/plain": [
       "<IPython.core.display.Javascript object>"
      ]
     },
     "metadata": {},
     "output_type": "display_data"
    }
   ],
   "source": [
    "# For fine-tuning BERT, the authors recommend a batch size of 16 or 32.\n",
    "BATCH_SIZE = 8\n",
    "\n",
    "train_dataset = TensorDataset(\n",
    "    torch.tensor(X_train[\"input_ids\"]),\n",
    "    torch.tensor(X_train[\"attention_masks\"]),\n",
    "    torch.tensor(y_train[\"toxic\"]),\n",
    ")\n",
    "train_sampler = RandomSampler(train_dataset)\n",
    "train_loader = DataLoader(train_dataset, sampler=train_sampler, batch_size=BATCH_SIZE)\n",
    "\n",
    "\n",
    "val_dataset = TensorDataset(\n",
    "    torch.tensor(X_val[\"input_ids\"]),\n",
    "    torch.tensor(X_val[\"attention_masks\"]),\n",
    "    torch.tensor(y_val[\"toxic\"]),\n",
    ")\n",
    "val_sampler = RandomSampler(val_dataset)\n",
    "val_loader = DataLoader(val_dataset, sampler=val_sampler, batch_size=BATCH_SIZE)"
   ]
  },
  {
   "cell_type": "code",
   "execution_count": 15,
   "id": "af1af530",
   "metadata": {
    "ExecuteTime": {
     "end_time": "2022-05-05T05:11:35.277059Z",
     "start_time": "2022-05-05T05:11:35.265447Z"
    }
   },
   "outputs": [
    {
     "data": {
      "application/javascript": [
       "\n",
       "            setTimeout(function() {\n",
       "                var nbb_cell_id = 15;\n",
       "                var nbb_unformatted_code = \"# Create the BertClassfier class\\nclass BertClassifier(nn.Module):\\n    def __init__(self, freeze_bert=False):\\n        super(BertClassifier, self).__init__()\\n        # Specify hidden size of BERT, hidden size of our classifier, and number of labels\\n        D_in, H, D_out = 768, 50, 2\\n\\n        # Instantiate BERT model\\n        # https://huggingface.co/transformers/v4.9.2/pretrained_models.html?highlight=bert-base-multilingual-cased\\n        self.bert = BertModel.from_pretrained(\\\"bert-base-multilingual-cased\\\")\\n\\n        # Instantiate an one-layer feed-forward classifier\\n        self.classifier = nn.Sequential(\\n            # nn.LSTM(D_in,D_in)\\n            nn.Linear(D_in, H),\\n            nn.ReLU(),\\n            nn.Linear(H, D_out),\\n        )\\n\\n        # Freeze the BERT model\\n        if freeze_bert:\\n            for param in self.bert.parameters():\\n                param.requires_grad = False\\n\\n    def forward(self, input_ids, attention_mask):\\n        # Feed input to BERT\\n        outputs = self.bert(input_ids=input_ids, attention_mask=attention_mask)\\n        # Extract the last hidden state of the token `[CLS]` for classification task\\n        last_hidden_state_cls = outputs[0][:, 0, :]\\n        # Feed input to classifier to compute logits\\n        return self.classifier(last_hidden_state_cls)\";\n",
       "                var nbb_formatted_code = \"# Create the BertClassfier class\\nclass BertClassifier(nn.Module):\\n    def __init__(self, freeze_bert=False):\\n        super(BertClassifier, self).__init__()\\n        # Specify hidden size of BERT, hidden size of our classifier, and number of labels\\n        D_in, H, D_out = 768, 50, 2\\n\\n        # Instantiate BERT model\\n        # https://huggingface.co/transformers/v4.9.2/pretrained_models.html?highlight=bert-base-multilingual-cased\\n        self.bert = BertModel.from_pretrained(\\\"bert-base-multilingual-cased\\\")\\n\\n        # Instantiate an one-layer feed-forward classifier\\n        self.classifier = nn.Sequential(\\n            # nn.LSTM(D_in,D_in)\\n            nn.Linear(D_in, H),\\n            nn.ReLU(),\\n            nn.Linear(H, D_out),\\n        )\\n\\n        # Freeze the BERT model\\n        if freeze_bert:\\n            for param in self.bert.parameters():\\n                param.requires_grad = False\\n\\n    def forward(self, input_ids, attention_mask):\\n        # Feed input to BERT\\n        outputs = self.bert(input_ids=input_ids, attention_mask=attention_mask)\\n        # Extract the last hidden state of the token `[CLS]` for classification task\\n        last_hidden_state_cls = outputs[0][:, 0, :]\\n        # Feed input to classifier to compute logits\\n        return self.classifier(last_hidden_state_cls)\";\n",
       "                var nbb_cells = Jupyter.notebook.get_cells();\n",
       "                for (var i = 0; i < nbb_cells.length; ++i) {\n",
       "                    if (nbb_cells[i].input_prompt_number == nbb_cell_id) {\n",
       "                        if (nbb_cells[i].get_text() == nbb_unformatted_code) {\n",
       "                             nbb_cells[i].set_text(nbb_formatted_code);\n",
       "                        }\n",
       "                        break;\n",
       "                    }\n",
       "                }\n",
       "            }, 500);\n",
       "            "
      ],
      "text/plain": [
       "<IPython.core.display.Javascript object>"
      ]
     },
     "metadata": {},
     "output_type": "display_data"
    }
   ],
   "source": [
    "# Create the BertClassfier class\n",
    "class BertClassifier(nn.Module):\n",
    "    def __init__(self, freeze_bert=False):\n",
    "        super(BertClassifier, self).__init__()\n",
    "        # Specify hidden size of BERT, hidden size of our classifier, and number of labels\n",
    "        D_in, H, D_out = 768, 50, 2\n",
    "\n",
    "        # Instantiate BERT model\n",
    "        # https://huggingface.co/transformers/v4.9.2/pretrained_models.html?highlight=bert-base-multilingual-cased\n",
    "        self.bert = BertModel.from_pretrained(\"bert-base-multilingual-cased\")\n",
    "\n",
    "        # Instantiate an one-layer feed-forward classifier\n",
    "        self.classifier = nn.Sequential(\n",
    "            nn.Linear(D_in, H),\n",
    "            nn.ReLU(),\n",
    "            nn.Linear(H, D_out),\n",
    "        )\n",
    "\n",
    "        # Freeze the BERT model\n",
    "        if freeze_bert:\n",
    "            for param in self.bert.parameters():\n",
    "                param.requires_grad = False\n",
    "\n",
    "    def forward(self, input_ids, attention_mask):\n",
    "        # Feed input to BERT\n",
    "        outputs = self.bert(input_ids=input_ids, attention_mask=attention_mask)\n",
    "        # Extract the last hidden state of the token `[CLS]` for classification task\n",
    "        last_hidden_state_cls = outputs[0][:, 0, :]\n",
    "        # Feed input to classifier to compute logits\n",
    "        return self.classifier(last_hidden_state_cls)"
   ]
  },
  {
   "cell_type": "code",
   "execution_count": 16,
   "id": "10d5799a",
   "metadata": {
    "ExecuteTime": {
     "end_time": "2022-05-05T05:11:35.296029Z",
     "start_time": "2022-05-05T05:11:35.278040Z"
    }
   },
   "outputs": [
    {
     "data": {
      "text/plain": [
       "device(type='cuda', index=0)"
      ]
     },
     "execution_count": 16,
     "metadata": {},
     "output_type": "execute_result"
    },
    {
     "data": {
      "application/javascript": [
       "\n",
       "            setTimeout(function() {\n",
       "                var nbb_cell_id = 16;\n",
       "                var nbb_unformatted_code = \"device = torch.device(\\\"cuda:0\\\")\\ndevice\";\n",
       "                var nbb_formatted_code = \"device = torch.device(\\\"cuda:0\\\")\\ndevice\";\n",
       "                var nbb_cells = Jupyter.notebook.get_cells();\n",
       "                for (var i = 0; i < nbb_cells.length; ++i) {\n",
       "                    if (nbb_cells[i].input_prompt_number == nbb_cell_id) {\n",
       "                        if (nbb_cells[i].get_text() == nbb_unformatted_code) {\n",
       "                             nbb_cells[i].set_text(nbb_formatted_code);\n",
       "                        }\n",
       "                        break;\n",
       "                    }\n",
       "                }\n",
       "            }, 500);\n",
       "            "
      ],
      "text/plain": [
       "<IPython.core.display.Javascript object>"
      ]
     },
     "metadata": {},
     "output_type": "display_data"
    }
   ],
   "source": [
    "device = torch.device(\"cuda:0\")\n",
    "device"
   ]
  },
  {
   "cell_type": "code",
   "execution_count": 17,
   "id": "1cb6afbe",
   "metadata": {
    "ExecuteTime": {
     "end_time": "2022-05-05T05:13:08.438746Z",
     "start_time": "2022-05-05T05:11:35.297380Z"
    }
   },
   "outputs": [
    {
     "data": {
      "application/vnd.jupyter.widget-view+json": {
       "model_id": "8f140f10975f43ab926f0980f267e918",
       "version_major": 2,
       "version_minor": 0
      },
      "text/plain": [
       "Downloading:   0%|          | 0.00/625 [00:00<?, ?B/s]"
      ]
     },
     "metadata": {},
     "output_type": "display_data"
    },
    {
     "data": {
      "application/vnd.jupyter.widget-view+json": {
       "model_id": "dc68113de7a44957910096a86ab8141d",
       "version_major": 2,
       "version_minor": 0
      },
      "text/plain": [
       "Downloading:   0%|          | 0.00/681M [00:00<?, ?B/s]"
      ]
     },
     "metadata": {},
     "output_type": "display_data"
    },
    {
     "name": "stderr",
     "output_type": "stream",
     "text": [
      "Some weights of the model checkpoint at bert-base-multilingual-cased were not used when initializing BertModel: ['cls.predictions.bias', 'cls.predictions.decoder.weight', 'cls.predictions.transform.dense.bias', 'cls.predictions.transform.dense.weight', 'cls.predictions.transform.LayerNorm.weight', 'cls.predictions.transform.LayerNorm.bias', 'cls.seq_relationship.bias', 'cls.seq_relationship.weight']\n",
      "- This IS expected if you are initializing BertModel from the checkpoint of a model trained on another task or with another architecture (e.g. initializing a BertForSequenceClassification model from a BertForPreTraining model).\n",
      "- This IS NOT expected if you are initializing BertModel from the checkpoint of a model that you expect to be exactly identical (initializing a BertForSequenceClassification model from a BertForSequenceClassification model).\n",
      "/home/alxgrin/anaconda3/lib/python3.9/site-packages/transformers/optimization.py:306: FutureWarning: This implementation of AdamW is deprecated and will be removed in a future version. Use the PyTorch implementation torch.optim.AdamW instead, or set `no_deprecation_warning=True` to disable this warning\n",
      "  warnings.warn(\n"
     ]
    },
    {
     "data": {
      "application/javascript": [
       "\n",
       "            setTimeout(function() {\n",
       "                var nbb_cell_id = 17;\n",
       "                var nbb_unformatted_code = \"num_epochs = 4\\n\\nmodel = BertClassifier(freeze_bert=False)\\nmodel.to(device)\\n\\nloss_fn = nn.CrossEntropyLoss()\\noptimizer = AdamW(model.parameters(), lr=5e-5, eps=1e-8,)\\n\\ntotal_steps = len(train_loader) * num_epochs\\nscheduler = get_linear_schedule_with_warmup(\\n    optimizer, num_warmup_steps=0, num_training_steps=total_steps\\n)\";\n",
       "                var nbb_formatted_code = \"num_epochs = 4\\n\\nmodel = BertClassifier(freeze_bert=False)\\nmodel.to(device)\\n\\nloss_fn = nn.CrossEntropyLoss()\\noptimizer = AdamW(model.parameters(), lr=5e-5, eps=1e-8,)\\n\\ntotal_steps = len(train_loader) * num_epochs\\nscheduler = get_linear_schedule_with_warmup(\\n    optimizer, num_warmup_steps=0, num_training_steps=total_steps\\n)\";\n",
       "                var nbb_cells = Jupyter.notebook.get_cells();\n",
       "                for (var i = 0; i < nbb_cells.length; ++i) {\n",
       "                    if (nbb_cells[i].input_prompt_number == nbb_cell_id) {\n",
       "                        if (nbb_cells[i].get_text() == nbb_unformatted_code) {\n",
       "                             nbb_cells[i].set_text(nbb_formatted_code);\n",
       "                        }\n",
       "                        break;\n",
       "                    }\n",
       "                }\n",
       "            }, 500);\n",
       "            "
      ],
      "text/plain": [
       "<IPython.core.display.Javascript object>"
      ]
     },
     "metadata": {},
     "output_type": "display_data"
    }
   ],
   "source": [
    "num_epochs = 4\n",
    "\n",
    "model = BertClassifier(freeze_bert=False)\n",
    "model.to(device)\n",
    "\n",
    "loss_fn = nn.CrossEntropyLoss()\n",
    "optimizer = AdamW(model.parameters(), lr=5e-5, eps=1e-8)\n",
    "\n",
    "total_steps = len(train_loader) * num_epochs\n",
    "scheduler = get_linear_schedule_with_warmup(\n",
    "    optimizer, num_warmup_steps=0, num_training_steps=total_steps\n",
    ")"
   ]
  },
  {
   "cell_type": "code",
   "execution_count": 18,
   "id": "8cb52394",
   "metadata": {
    "ExecuteTime": {
     "end_time": "2022-05-05T05:13:08.463839Z",
     "start_time": "2022-05-05T05:13:08.440393Z"
    }
   },
   "outputs": [
    {
     "data": {
      "application/javascript": [
       "\n",
       "            setTimeout(function() {\n",
       "                var nbb_cell_id = 18;\n",
       "                var nbb_unformatted_code = \"def accuracy_score(model, loader, desc=\\\"\\\"):\\n    model.eval()\\n\\n    accuracy_score = 0\\n\\n    pbar = tqdm(enumerate(loader), total=len(loader))\\n    if desc:\\n        pbar.set_description(desc)\\n\\n    for _, batch in pbar:\\n        input_ids, attention_masks, labels = tuple(t.to(device) for t in batch)\\n\\n        y_preds = model(input_ids, attention_masks)\\n        accuracy = (y_preds.argmax(dim=1) == labels).float().mean()\\n        accuracy_score += accuracy.cpu().detach().numpy()\\n\\n    return accuracy_score / len(loader)\";\n",
       "                var nbb_formatted_code = \"def accuracy_score(model, loader, desc=\\\"\\\"):\\n    model.eval()\\n\\n    accuracy_score = 0\\n\\n    pbar = tqdm(enumerate(loader), total=len(loader))\\n    if desc:\\n        pbar.set_description(desc)\\n\\n    for _, batch in pbar:\\n        input_ids, attention_masks, labels = tuple(t.to(device) for t in batch)\\n\\n        y_preds = model(input_ids, attention_masks)\\n        accuracy = (y_preds.argmax(dim=1) == labels).float().mean()\\n        accuracy_score += accuracy.cpu().detach().numpy()\\n\\n    return accuracy_score / len(loader)\";\n",
       "                var nbb_cells = Jupyter.notebook.get_cells();\n",
       "                for (var i = 0; i < nbb_cells.length; ++i) {\n",
       "                    if (nbb_cells[i].input_prompt_number == nbb_cell_id) {\n",
       "                        if (nbb_cells[i].get_text() == nbb_unformatted_code) {\n",
       "                             nbb_cells[i].set_text(nbb_formatted_code);\n",
       "                        }\n",
       "                        break;\n",
       "                    }\n",
       "                }\n",
       "            }, 500);\n",
       "            "
      ],
      "text/plain": [
       "<IPython.core.display.Javascript object>"
      ]
     },
     "metadata": {},
     "output_type": "display_data"
    }
   ],
   "source": [
    "def accuracy_score(model, loader, desc=\"\"):\n",
    "    model.eval()\n",
    "\n",
    "    accuracy_score = 0\n",
    "\n",
    "    pbar = tqdm(enumerate(loader), total=len(loader))\n",
    "    if desc:\n",
    "        pbar.set_description(desc)\n",
    "\n",
    "    for _, batch in pbar:\n",
    "        input_ids, attention_masks, labels = tuple(t.to(device) for t in batch)\n",
    "\n",
    "        y_preds = model(input_ids, attention_masks)\n",
    "        accuracy = (y_preds.argmax(dim=1) == labels).float().mean()\n",
    "        accuracy_score += accuracy.cpu().detach().numpy()\n",
    "\n",
    "    return accuracy_score / len(loader)"
   ]
  },
  {
   "cell_type": "code",
   "execution_count": 19,
   "id": "97fc8129",
   "metadata": {
    "ExecuteTime": {
     "end_time": "2022-05-05T13:09:14.568941Z",
     "start_time": "2022-05-05T05:13:08.464690Z"
    }
   },
   "outputs": [
    {
     "data": {
      "application/vnd.jupyter.widget-view+json": {
       "model_id": "21c3cb55ef48454eb531d4e007d6fff3",
       "version_major": 2,
       "version_minor": 0
      },
      "text/plain": [
       "  0%|          | 0/17952 [00:00<?, ?it/s]"
      ]
     },
     "metadata": {},
     "output_type": "display_data"
    },
    {
     "data": {
      "application/vnd.jupyter.widget-view+json": {
       "model_id": "512545cd8b3e45cbadad3597bfe3ca0e",
       "version_major": 2,
       "version_minor": 0
      },
      "text/plain": [
       "  0%|          | 0/1995 [00:00<?, ?it/s]"
      ]
     },
     "metadata": {},
     "output_type": "display_data"
    },
    {
     "name": "stdout",
     "output_type": "stream",
     "text": [
      "Loss: 0.309984236599445, Train accuracy: 0.904000946969697, Val accuracy: 0.9052631578947369\n"
     ]
    },
    {
     "data": {
      "application/vnd.jupyter.widget-view+json": {
       "model_id": "22e2afc8537f474086e4f81efb4199c9",
       "version_major": 2,
       "version_minor": 0
      },
      "text/plain": [
       "  0%|          | 0/17952 [00:00<?, ?it/s]"
      ]
     },
     "metadata": {},
     "output_type": "display_data"
    },
    {
     "data": {
      "application/vnd.jupyter.widget-view+json": {
       "model_id": "c6b04f29ff7e4fc1b71f1e762e4e6210",
       "version_major": 2,
       "version_minor": 0
      },
      "text/plain": [
       "  0%|          | 0/1995 [00:00<?, ?it/s]"
      ]
     },
     "metadata": {},
     "output_type": "display_data"
    },
    {
     "name": "stdout",
     "output_type": "stream",
     "text": [
      "Loss: 0.3167595041765534, Train accuracy: 0.904031584225263, Val accuracy: 0.9052631578947369\n"
     ]
    },
    {
     "data": {
      "application/vnd.jupyter.widget-view+json": {
       "model_id": "a943ffab763640c3a9ad4ebbb52518f7",
       "version_major": 2,
       "version_minor": 0
      },
      "text/plain": [
       "  0%|          | 0/17952 [00:00<?, ?it/s]"
      ]
     },
     "metadata": {},
     "output_type": "display_data"
    },
    {
     "data": {
      "application/vnd.jupyter.widget-view+json": {
       "model_id": "a2f8b6efcab4440492f26a7b135085cd",
       "version_major": 2,
       "version_minor": 0
      },
      "text/plain": [
       "  0%|          | 0/1995 [00:00<?, ?it/s]"
      ]
     },
     "metadata": {},
     "output_type": "display_data"
    },
    {
     "name": "stdout",
     "output_type": "stream",
     "text": [
      "Loss: 0.3157706250172646, Train accuracy: 0.9040357620320856, Val accuracy: 0.9052631578947369\n"
     ]
    },
    {
     "data": {
      "application/vnd.jupyter.widget-view+json": {
       "model_id": "e0444421d6bd46d797e6a1549265360e",
       "version_major": 2,
       "version_minor": 0
      },
      "text/plain": [
       "  0%|          | 0/17952 [00:00<?, ?it/s]"
      ]
     },
     "metadata": {},
     "output_type": "display_data"
    },
    {
     "data": {
      "application/vnd.jupyter.widget-view+json": {
       "model_id": "9584d6c2ec634c16a6101038dd16d8b4",
       "version_major": 2,
       "version_minor": 0
      },
      "text/plain": [
       "  0%|          | 0/1995 [00:00<?, ?it/s]"
      ]
     },
     "metadata": {},
     "output_type": "display_data"
    },
    {
     "name": "stdout",
     "output_type": "stream",
     "text": [
      "Loss: 0.31501127647172905, Train accuracy: 0.9040357620320856, Val accuracy: 0.9052631578947369\n"
     ]
    },
    {
     "data": {
      "application/javascript": [
       "\n",
       "            setTimeout(function() {\n",
       "                var nbb_cell_id = 19;\n",
       "                var nbb_unformatted_code = \"for epoch in range(num_epochs):\\n    model.train()\\n\\n    pbar = tqdm(enumerate(train_loader), total=len(train_loader))\\n    pbar.set_description(\\\"Epoch %d\\\" % epoch)\\n\\n    epoch_loss = 0\\n    epoch_accuracy = 0\\n\\n    for _, batch in pbar:\\n        input_ids, attention_masks, labels = tuple(t.to(device) for t in batch)\\n\\n        y_preds = model(input_ids, attention_masks)\\n        loss = loss_fn(y_preds, labels)\\n\\n        optimizer.zero_grad()\\n        loss.backward()\\n        optimizer.step()\\n\\n        accuracy = (y_preds.argmax(dim=1) == labels).float().mean()\\n\\n        epoch_loss += loss.cpu().detach().numpy()\\n        epoch_accuracy += accuracy.cpu().detach().numpy()\\n\\n    scheduler.step()\\n\\n    print(\\n        \\\"Loss: {}, Train accuracy: {}, Val accuracy: {}\\\".format(\\n            epoch_loss / len(train_loader),\\n            epoch_accuracy / len(train_loader),\\n            accuracy_score(model, val_loader, \\\"Validation\\\"),\\n        )\\n    )\";\n",
       "                var nbb_formatted_code = \"for epoch in range(num_epochs):\\n    model.train()\\n\\n    pbar = tqdm(enumerate(train_loader), total=len(train_loader))\\n    pbar.set_description(\\\"Epoch %d\\\" % epoch)\\n\\n    epoch_loss = 0\\n    epoch_accuracy = 0\\n\\n    for _, batch in pbar:\\n        input_ids, attention_masks, labels = tuple(t.to(device) for t in batch)\\n\\n        y_preds = model(input_ids, attention_masks)\\n        loss = loss_fn(y_preds, labels)\\n\\n        optimizer.zero_grad()\\n        loss.backward()\\n        optimizer.step()\\n\\n        accuracy = (y_preds.argmax(dim=1) == labels).float().mean()\\n\\n        epoch_loss += loss.cpu().detach().numpy()\\n        epoch_accuracy += accuracy.cpu().detach().numpy()\\n\\n    scheduler.step()\\n\\n    print(\\n        \\\"Loss: {}, Train accuracy: {}, Val accuracy: {}\\\".format(\\n            epoch_loss / len(train_loader),\\n            epoch_accuracy / len(train_loader),\\n            accuracy_score(model, val_loader, \\\"Validation\\\"),\\n        )\\n    )\";\n",
       "                var nbb_cells = Jupyter.notebook.get_cells();\n",
       "                for (var i = 0; i < nbb_cells.length; ++i) {\n",
       "                    if (nbb_cells[i].input_prompt_number == nbb_cell_id) {\n",
       "                        if (nbb_cells[i].get_text() == nbb_unformatted_code) {\n",
       "                             nbb_cells[i].set_text(nbb_formatted_code);\n",
       "                        }\n",
       "                        break;\n",
       "                    }\n",
       "                }\n",
       "            }, 500);\n",
       "            "
      ],
      "text/plain": [
       "<IPython.core.display.Javascript object>"
      ]
     },
     "metadata": {},
     "output_type": "display_data"
    }
   ],
   "source": [
    "for epoch in range(num_epochs):\n",
    "    model.train()\n",
    "\n",
    "    pbar = tqdm(enumerate(train_loader), total=len(train_loader))\n",
    "    pbar.set_description(\"Epoch %d\" % epoch)\n",
    "\n",
    "    epoch_loss = 0\n",
    "    epoch_accuracy = 0\n",
    "\n",
    "    for _, batch in pbar:\n",
    "        input_ids, attention_masks, labels = tuple(t.to(device) for t in batch)\n",
    "\n",
    "        y_preds = model(input_ids, attention_masks)\n",
    "        loss = loss_fn(y_preds, labels)\n",
    "\n",
    "        optimizer.zero_grad()\n",
    "        loss.backward()\n",
    "        optimizer.step()\n",
    "\n",
    "        accuracy = (y_preds.argmax(dim=1) == labels).float().mean()\n",
    "\n",
    "        epoch_loss += loss.cpu().detach().numpy()\n",
    "        epoch_accuracy += accuracy.cpu().detach().numpy()\n",
    "\n",
    "    scheduler.step()\n",
    "\n",
    "    print(\n",
    "        \"Loss: {}, Train accuracy: {}, Val accuracy: {}\".format(\n",
    "            epoch_loss / len(train_loader),\n",
    "            epoch_accuracy / len(train_loader),\n",
    "            accuracy_score(model, val_loader, \"Validation\"),\n",
    "        )\n",
    "    )"
   ]
  },
  {
   "cell_type": "code",
   "execution_count": null,
   "id": "f1ef87e3",
   "metadata": {},
   "outputs": [],
   "source": []
  },
  {
   "cell_type": "code",
   "execution_count": null,
   "id": "53b5005c",
   "metadata": {},
   "outputs": [],
   "source": []
  },
  {
   "cell_type": "code",
   "execution_count": null,
   "id": "ed0a53a7",
   "metadata": {},
   "outputs": [],
   "source": []
  }
 ],
 "metadata": {
  "kernelspec": {
   "display_name": "Python 3 (ipykernel)",
   "language": "python",
   "name": "python3"
  },
  "language_info": {
   "codemirror_mode": {
    "name": "ipython",
    "version": 3
   },
   "file_extension": ".py",
   "mimetype": "text/x-python",
   "name": "python",
   "nbconvert_exporter": "python",
   "pygments_lexer": "ipython3",
   "version": "3.9.15"
  }
 },
 "nbformat": 4,
 "nbformat_minor": 5
}
