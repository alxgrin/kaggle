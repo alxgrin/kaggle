{
 "cells": [
  {
   "cell_type": "markdown",
   "id": "769eb637",
   "metadata": {},
   "source": [
    "# Toxic Comment Classification Challenge\n",
    "Identify and classify toxic online comments\n",
    "\n",
    "![Toxic Comments](https://storage.googleapis.com/kaggle-media/competitions/jigsaw/003-avatar.png)\n",
    "\n",
    "Discussing things you care about can be difficult. The threat of abuse and harassment online means that many people stop expressing themselves and give up on seeking different opinions. Platforms struggle to effectively facilitate conversations, leading many communities to limit or completely shut down user comments.\n",
    "\n",
    "The [Conversation AI](https://conversationai.github.io/) team, a research initiative founded by [Jigsaw](https://jigsaw.google.com/) and Google (both a part of Alphabet) are working on tools to help improve online conversation. One area of focus is the study of negative online behaviors, like toxic comments (i.e. comments that are rude, disrespectful or otherwise likely to make someone leave a discussion). So far they’ve built a range of publicly available models served through the [Perspective API](https://perspectiveapi.com/), including toxicity. But the current models still make errors, and they don’t allow users to select which types of toxicity they’re interested in finding (e.g. some platforms may be fine with profanity, but not with other types of toxic content).\n",
    "\n",
    "In this competition, you’re challenged to build a multi-headed model that’s capable of detecting different types of of toxicity like threats, obscenity, insults, and identity-based hate better than Perspective’s [current models](https://github.com/conversationai/unintended-ml-bias-analysis). You’ll be using a dataset of comments from Wikipedia’s talk page edits. Improvements to the current model will hopefully help online discussion become more productive and respectful.\n",
    "\n",
    "_Disclaimer: the dataset for this competition contains text that may be considered profane, vulgar, or offensive._\n",
    "\n",
    "Dataset Description\n",
    "-------------------\n",
    "\n",
    "You are provided with a large number of Wikipedia comments which have been labeled by human raters for toxic behavior. The types of toxicity are:\n",
    "\n",
    "*   `toxic`\n",
    "*   `severe_toxic`\n",
    "*   `obscene`\n",
    "*   `threat`\n",
    "*   `insult`\n",
    "*   `identity_hate`\n",
    "\n",
    "You must create a model which predicts a probability of each type of toxicity for each comment.\n",
    "\n",
    "File descriptions\n",
    "-----------------\n",
    "\n",
    "*   **train.csv** - the training set, contains comments with their binary labels\n",
    "*   **test.csv** - the test set, you must predict the toxicity probabilities for these comments. To deter hand labeling, the test set contains some comments which are not included in scoring.\n",
    "*   **sample\\_submission.csv** - a sample submission file in the correct format\n",
    "*   **test\\_labels.csv** - labels for the test data; value of `-1` indicates it was not used for scoring; (**Note:** file added after competition close!)\n",
    "\n",
    "Usage\n",
    "-----\n",
    "\n",
    "The dataset under [CC0](https://creativecommons.org/share-your-work/public-domain/cc0/), with the underlying comment text being governed by [Wikipedia's CC-SA-3.0](https://creativecommons.org/licenses/by-sa/3.0/)\n",
    "\n",
    "Link: https://www.kaggle.com/competitions/jigsaw-toxic-comment-classification-challenge"
   ]
  },
  {
   "cell_type": "code",
   "execution_count": 1,
   "id": "aa6c7a10",
   "metadata": {
    "ExecuteTime": {
     "end_time": "2022-12-24T06:37:42.410769Z",
     "start_time": "2022-12-24T06:37:41.071755Z"
    }
   },
   "outputs": [],
   "source": [
    "import pandas as pd\n",
    "import numpy as np\n",
    "from fastai.text.all import *\n",
    "from tqdm.notebook import tqdm\n",
    "from sklearn.model_selection import train_test_split"
   ]
  },
  {
   "cell_type": "code",
   "execution_count": 2,
   "id": "afe0a37d",
   "metadata": {
    "ExecuteTime": {
     "end_time": "2022-12-24T06:37:42.459945Z",
     "start_time": "2022-12-24T06:37:42.412313Z"
    }
   },
   "outputs": [
    {
     "data": {
      "application/javascript": [
       "\n",
       "            setTimeout(function() {\n",
       "                var nbb_cell_id = 2;\n",
       "                var nbb_unformatted_code = \"%load_ext nb_black\";\n",
       "                var nbb_formatted_code = \"%load_ext nb_black\";\n",
       "                var nbb_cells = Jupyter.notebook.get_cells();\n",
       "                for (var i = 0; i < nbb_cells.length; ++i) {\n",
       "                    if (nbb_cells[i].input_prompt_number == nbb_cell_id) {\n",
       "                        if (nbb_cells[i].get_text() == nbb_unformatted_code) {\n",
       "                             nbb_cells[i].set_text(nbb_formatted_code);\n",
       "                        }\n",
       "                        break;\n",
       "                    }\n",
       "                }\n",
       "            }, 500);\n",
       "            "
      ],
      "text/plain": [
       "<IPython.core.display.Javascript object>"
      ]
     },
     "metadata": {},
     "output_type": "display_data"
    }
   ],
   "source": [
    "%load_ext nb_black"
   ]
  },
  {
   "cell_type": "code",
   "execution_count": 3,
   "id": "77b436cd",
   "metadata": {
    "ExecuteTime": {
     "end_time": "2022-12-24T06:37:42.551490Z",
     "start_time": "2022-12-24T06:37:42.461213Z"
    }
   },
   "outputs": [
    {
     "data": {
      "text/html": [
       "<div>\n",
       "<style scoped>\n",
       "    .dataframe tbody tr th:only-of-type {\n",
       "        vertical-align: middle;\n",
       "    }\n",
       "\n",
       "    .dataframe tbody tr th {\n",
       "        vertical-align: top;\n",
       "    }\n",
       "\n",
       "    .dataframe thead th {\n",
       "        text-align: right;\n",
       "    }\n",
       "</style>\n",
       "<table border=\"1\" class=\"dataframe\">\n",
       "  <thead>\n",
       "    <tr style=\"text-align: right;\">\n",
       "      <th></th>\n",
       "      <th>toxic</th>\n",
       "      <th>severe_toxic</th>\n",
       "      <th>obscene</th>\n",
       "      <th>threat</th>\n",
       "      <th>insult</th>\n",
       "      <th>identity_hate</th>\n",
       "    </tr>\n",
       "    <tr>\n",
       "      <th>id</th>\n",
       "      <th></th>\n",
       "      <th></th>\n",
       "      <th></th>\n",
       "      <th></th>\n",
       "      <th></th>\n",
       "      <th></th>\n",
       "    </tr>\n",
       "  </thead>\n",
       "  <tbody>\n",
       "    <tr>\n",
       "      <th>00001cee341fdb12</th>\n",
       "      <td>0.5</td>\n",
       "      <td>0.5</td>\n",
       "      <td>0.5</td>\n",
       "      <td>0.5</td>\n",
       "      <td>0.5</td>\n",
       "      <td>0.5</td>\n",
       "    </tr>\n",
       "    <tr>\n",
       "      <th>0000247867823ef7</th>\n",
       "      <td>0.5</td>\n",
       "      <td>0.5</td>\n",
       "      <td>0.5</td>\n",
       "      <td>0.5</td>\n",
       "      <td>0.5</td>\n",
       "      <td>0.5</td>\n",
       "    </tr>\n",
       "    <tr>\n",
       "      <th>00013b17ad220c46</th>\n",
       "      <td>0.5</td>\n",
       "      <td>0.5</td>\n",
       "      <td>0.5</td>\n",
       "      <td>0.5</td>\n",
       "      <td>0.5</td>\n",
       "      <td>0.5</td>\n",
       "    </tr>\n",
       "    <tr>\n",
       "      <th>00017563c3f7919a</th>\n",
       "      <td>0.5</td>\n",
       "      <td>0.5</td>\n",
       "      <td>0.5</td>\n",
       "      <td>0.5</td>\n",
       "      <td>0.5</td>\n",
       "      <td>0.5</td>\n",
       "    </tr>\n",
       "    <tr>\n",
       "      <th>00017695ad8997eb</th>\n",
       "      <td>0.5</td>\n",
       "      <td>0.5</td>\n",
       "      <td>0.5</td>\n",
       "      <td>0.5</td>\n",
       "      <td>0.5</td>\n",
       "      <td>0.5</td>\n",
       "    </tr>\n",
       "    <tr>\n",
       "      <th>...</th>\n",
       "      <td>...</td>\n",
       "      <td>...</td>\n",
       "      <td>...</td>\n",
       "      <td>...</td>\n",
       "      <td>...</td>\n",
       "      <td>...</td>\n",
       "    </tr>\n",
       "    <tr>\n",
       "      <th>fffcd0960ee309b5</th>\n",
       "      <td>0.5</td>\n",
       "      <td>0.5</td>\n",
       "      <td>0.5</td>\n",
       "      <td>0.5</td>\n",
       "      <td>0.5</td>\n",
       "      <td>0.5</td>\n",
       "    </tr>\n",
       "    <tr>\n",
       "      <th>fffd7a9a6eb32c16</th>\n",
       "      <td>0.5</td>\n",
       "      <td>0.5</td>\n",
       "      <td>0.5</td>\n",
       "      <td>0.5</td>\n",
       "      <td>0.5</td>\n",
       "      <td>0.5</td>\n",
       "    </tr>\n",
       "    <tr>\n",
       "      <th>fffda9e8d6fafa9e</th>\n",
       "      <td>0.5</td>\n",
       "      <td>0.5</td>\n",
       "      <td>0.5</td>\n",
       "      <td>0.5</td>\n",
       "      <td>0.5</td>\n",
       "      <td>0.5</td>\n",
       "    </tr>\n",
       "    <tr>\n",
       "      <th>fffe8f1340a79fc2</th>\n",
       "      <td>0.5</td>\n",
       "      <td>0.5</td>\n",
       "      <td>0.5</td>\n",
       "      <td>0.5</td>\n",
       "      <td>0.5</td>\n",
       "      <td>0.5</td>\n",
       "    </tr>\n",
       "    <tr>\n",
       "      <th>ffffce3fb183ee80</th>\n",
       "      <td>0.5</td>\n",
       "      <td>0.5</td>\n",
       "      <td>0.5</td>\n",
       "      <td>0.5</td>\n",
       "      <td>0.5</td>\n",
       "      <td>0.5</td>\n",
       "    </tr>\n",
       "  </tbody>\n",
       "</table>\n",
       "<p>153164 rows × 6 columns</p>\n",
       "</div>"
      ],
      "text/plain": [
       "                  toxic  severe_toxic  obscene  threat  insult  identity_hate\n",
       "id                                                                           \n",
       "00001cee341fdb12    0.5           0.5      0.5     0.5     0.5            0.5\n",
       "0000247867823ef7    0.5           0.5      0.5     0.5     0.5            0.5\n",
       "00013b17ad220c46    0.5           0.5      0.5     0.5     0.5            0.5\n",
       "00017563c3f7919a    0.5           0.5      0.5     0.5     0.5            0.5\n",
       "00017695ad8997eb    0.5           0.5      0.5     0.5     0.5            0.5\n",
       "...                 ...           ...      ...     ...     ...            ...\n",
       "fffcd0960ee309b5    0.5           0.5      0.5     0.5     0.5            0.5\n",
       "fffd7a9a6eb32c16    0.5           0.5      0.5     0.5     0.5            0.5\n",
       "fffda9e8d6fafa9e    0.5           0.5      0.5     0.5     0.5            0.5\n",
       "fffe8f1340a79fc2    0.5           0.5      0.5     0.5     0.5            0.5\n",
       "ffffce3fb183ee80    0.5           0.5      0.5     0.5     0.5            0.5\n",
       "\n",
       "[153164 rows x 6 columns]"
      ]
     },
     "execution_count": 3,
     "metadata": {},
     "output_type": "execute_result"
    },
    {
     "data": {
      "application/javascript": [
       "\n",
       "            setTimeout(function() {\n",
       "                var nbb_cell_id = 3;\n",
       "                var nbb_unformatted_code = \"sample_submission_df = pd.read_csv(\\n    \\\"../../data/jigsaw-toxic-comment-classification-challenge/sample_submission.csv\\\"\\n).set_index(\\\"id\\\")\\nsample_submission_df\";\n",
       "                var nbb_formatted_code = \"sample_submission_df = pd.read_csv(\\n    \\\"../../data/jigsaw-toxic-comment-classification-challenge/sample_submission.csv\\\"\\n).set_index(\\\"id\\\")\\nsample_submission_df\";\n",
       "                var nbb_cells = Jupyter.notebook.get_cells();\n",
       "                for (var i = 0; i < nbb_cells.length; ++i) {\n",
       "                    if (nbb_cells[i].input_prompt_number == nbb_cell_id) {\n",
       "                        if (nbb_cells[i].get_text() == nbb_unformatted_code) {\n",
       "                             nbb_cells[i].set_text(nbb_formatted_code);\n",
       "                        }\n",
       "                        break;\n",
       "                    }\n",
       "                }\n",
       "            }, 500);\n",
       "            "
      ],
      "text/plain": [
       "<IPython.core.display.Javascript object>"
      ]
     },
     "metadata": {},
     "output_type": "display_data"
    }
   ],
   "source": [
    "sample_submission_df = pd.read_csv(\n",
    "    \"../../data/jigsaw-toxic-comment-classification-challenge/sample_submission.csv\"\n",
    ").set_index(\"id\")\n",
    "sample_submission_df"
   ]
  },
  {
   "cell_type": "code",
   "execution_count": 4,
   "id": "8109bfde",
   "metadata": {
    "ExecuteTime": {
     "end_time": "2022-12-24T06:37:43.072218Z",
     "start_time": "2022-12-24T06:37:42.553599Z"
    }
   },
   "outputs": [
    {
     "data": {
      "text/html": [
       "<div>\n",
       "<style scoped>\n",
       "    .dataframe tbody tr th:only-of-type {\n",
       "        vertical-align: middle;\n",
       "    }\n",
       "\n",
       "    .dataframe tbody tr th {\n",
       "        vertical-align: top;\n",
       "    }\n",
       "\n",
       "    .dataframe thead th {\n",
       "        text-align: right;\n",
       "    }\n",
       "</style>\n",
       "<table border=\"1\" class=\"dataframe\">\n",
       "  <thead>\n",
       "    <tr style=\"text-align: right;\">\n",
       "      <th></th>\n",
       "      <th>comment_text</th>\n",
       "    </tr>\n",
       "    <tr>\n",
       "      <th>id</th>\n",
       "      <th></th>\n",
       "    </tr>\n",
       "  </thead>\n",
       "  <tbody>\n",
       "    <tr>\n",
       "      <th>00001cee341fdb12</th>\n",
       "      <td>Yo bitch Ja Rule is more succesful then you'll ever be whats up with you and hating you sad mofuckas...i should bitch slap ur pethedic white faces and get you to kiss my ass you guys sicken me. Ja rule is about pride in da music man. dont diss that shit on him. and nothin is wrong bein like tupac he was a brother too...fuckin white boys get things right next time.,</td>\n",
       "    </tr>\n",
       "    <tr>\n",
       "      <th>0000247867823ef7</th>\n",
       "      <td>== From RfC == \\n\\n The title is fine as it is, IMO.</td>\n",
       "    </tr>\n",
       "    <tr>\n",
       "      <th>00013b17ad220c46</th>\n",
       "      <td>\" \\n\\n == Sources == \\n\\n * Zawe Ashton on Lapland —  /  \"</td>\n",
       "    </tr>\n",
       "    <tr>\n",
       "      <th>00017563c3f7919a</th>\n",
       "      <td>:If you have a look back at the source, the information I updated was the correct form. I can only guess the source hadn't updated. I shall update the information once again but thank you for your message.</td>\n",
       "    </tr>\n",
       "    <tr>\n",
       "      <th>00017695ad8997eb</th>\n",
       "      <td>I don't anonymously edit articles at all.</td>\n",
       "    </tr>\n",
       "    <tr>\n",
       "      <th>...</th>\n",
       "      <td>...</td>\n",
       "    </tr>\n",
       "    <tr>\n",
       "      <th>fffcd0960ee309b5</th>\n",
       "      <td>. \\n i totally agree, this stuff is nothing but too-long-crap</td>\n",
       "    </tr>\n",
       "    <tr>\n",
       "      <th>fffd7a9a6eb32c16</th>\n",
       "      <td>== Throw from out field to home plate. == \\n\\n Does it get there faster by throwing to cut off man or direct from out fielder? \\n Were the out fielders in the Mickey mantle era have better arms? \\n Rich</td>\n",
       "    </tr>\n",
       "    <tr>\n",
       "      <th>fffda9e8d6fafa9e</th>\n",
       "      <td>\" \\n\\n == Okinotorishima categories == \\n\\n I see your changes and agree this is \"\"more correct.\"\"  I had gotten confused, but then found this: \\n :... while acknowledging Japan's territorial rights to Okinotorishima itself ... \\n However, is there a category for  \\n :... did not acknowledge Japan's claim to an exclusive economic zone (EEZ) stemming from Okinotorishima. \\n That is, is there a category for \"\"disputed EEZ\"\"s?   \"</td>\n",
       "    </tr>\n",
       "    <tr>\n",
       "      <th>fffe8f1340a79fc2</th>\n",
       "      <td>\" \\n\\n == \"\"One of the founding nations of the EU - Germany - has a Law of Return quite similar to Israel's\"\" == \\n\\n This isn't actually true, is it? Germany allows people whose ancestors were citizens of Germany to return, but AFAIK it does not allow the descendants of Anglo-Saxons to \"\"return\"\" to Angeln and Saxony. Israel, by contrast, allows all Jews to \"\"return\"\" to Israel, even if they can't trace a particular ancestral line to anyone who lived in the modern state or even mandate Palestine. — \"</td>\n",
       "    </tr>\n",
       "    <tr>\n",
       "      <th>ffffce3fb183ee80</th>\n",
       "      <td>\" \\n :::Stop already. Your bullshit is not welcome here. I'm no fool, and if you think that kind of explination is enough, well pity you.    \"</td>\n",
       "    </tr>\n",
       "  </tbody>\n",
       "</table>\n",
       "<p>153164 rows × 1 columns</p>\n",
       "</div>"
      ],
      "text/plain": [
       "                                                                                                                                                                                                                                                                                                                                                                                                                                                                                                                                comment_text\n",
       "id                                                                                                                                                                                                                                                                                                                                                                                                                                                                                                                                          \n",
       "00001cee341fdb12                                                                                                                                             Yo bitch Ja Rule is more succesful then you'll ever be whats up with you and hating you sad mofuckas...i should bitch slap ur pethedic white faces and get you to kiss my ass you guys sicken me. Ja rule is about pride in da music man. dont diss that shit on him. and nothin is wrong bein like tupac he was a brother too...fuckin white boys get things right next time.,\n",
       "0000247867823ef7                                                                                                                                                                                                                                                                                                                                                                                                                                                                        == From RfC == \\n\\n The title is fine as it is, IMO.\n",
       "00013b17ad220c46                                                                                                                                                                                                                                                                                                                                                                                                                                                                  \" \\n\\n == Sources == \\n\\n * Zawe Ashton on Lapland —  /  \"\n",
       "00017563c3f7919a                                                                                                                                                                                                                                                                                                               :If you have a look back at the source, the information I updated was the correct form. I can only guess the source hadn't updated. I shall update the information once again but thank you for your message.\n",
       "00017695ad8997eb                                                                                                                                                                                                                                                                                                                                                                                                                                                                                   I don't anonymously edit articles at all.\n",
       "...                                                                                                                                                                                                                                                                                                                                                                                                                                                                                                                                      ...\n",
       "fffcd0960ee309b5                                                                                                                                                                                                                                                                                                                                                                                                                                                               . \\n i totally agree, this stuff is nothing but too-long-crap\n",
       "fffd7a9a6eb32c16                                                                                                                                                                                                                                                                                                                  == Throw from out field to home plate. == \\n\\n Does it get there faster by throwing to cut off man or direct from out fielder? \\n Were the out fielders in the Mickey mantle era have better arms? \\n Rich\n",
       "fffda9e8d6fafa9e                                                                             \" \\n\\n == Okinotorishima categories == \\n\\n I see your changes and agree this is \"\"more correct.\"\"  I had gotten confused, but then found this: \\n :... while acknowledging Japan's territorial rights to Okinotorishima itself ... \\n However, is there a category for  \\n :... did not acknowledge Japan's claim to an exclusive economic zone (EEZ) stemming from Okinotorishima. \\n That is, is there a category for \"\"disputed EEZ\"\"s?   \"\n",
       "fffe8f1340a79fc2  \" \\n\\n == \"\"One of the founding nations of the EU - Germany - has a Law of Return quite similar to Israel's\"\" == \\n\\n This isn't actually true, is it? Germany allows people whose ancestors were citizens of Germany to return, but AFAIK it does not allow the descendants of Anglo-Saxons to \"\"return\"\" to Angeln and Saxony. Israel, by contrast, allows all Jews to \"\"return\"\" to Israel, even if they can't trace a particular ancestral line to anyone who lived in the modern state or even mandate Palestine. — \"\n",
       "ffffce3fb183ee80                                                                                                                                                                                                                                                                                                                                                                              \" \\n :::Stop already. Your bullshit is not welcome here. I'm no fool, and if you think that kind of explination is enough, well pity you.    \"\n",
       "\n",
       "[153164 rows x 1 columns]"
      ]
     },
     "execution_count": 4,
     "metadata": {},
     "output_type": "execute_result"
    },
    {
     "data": {
      "application/javascript": [
       "\n",
       "            setTimeout(function() {\n",
       "                var nbb_cell_id = 4;\n",
       "                var nbb_unformatted_code = \"test_df = pd.read_csv(\\n    \\\"../../data/jigsaw-toxic-comment-classification-challenge/test.csv\\\"\\n).set_index(\\\"id\\\")\\ntest_df\";\n",
       "                var nbb_formatted_code = \"test_df = pd.read_csv(\\n    \\\"../../data/jigsaw-toxic-comment-classification-challenge/test.csv\\\"\\n).set_index(\\\"id\\\")\\ntest_df\";\n",
       "                var nbb_cells = Jupyter.notebook.get_cells();\n",
       "                for (var i = 0; i < nbb_cells.length; ++i) {\n",
       "                    if (nbb_cells[i].input_prompt_number == nbb_cell_id) {\n",
       "                        if (nbb_cells[i].get_text() == nbb_unformatted_code) {\n",
       "                             nbb_cells[i].set_text(nbb_formatted_code);\n",
       "                        }\n",
       "                        break;\n",
       "                    }\n",
       "                }\n",
       "            }, 500);\n",
       "            "
      ],
      "text/plain": [
       "<IPython.core.display.Javascript object>"
      ]
     },
     "metadata": {},
     "output_type": "display_data"
    }
   ],
   "source": [
    "test_df = pd.read_csv(\n",
    "    \"../../data/jigsaw-toxic-comment-classification-challenge/test.csv\"\n",
    ").set_index(\"id\")\n",
    "test_df"
   ]
  },
  {
   "cell_type": "code",
   "execution_count": 5,
   "id": "70ddb700",
   "metadata": {
    "ExecuteTime": {
     "end_time": "2022-12-24T06:37:43.159242Z",
     "start_time": "2022-12-24T06:37:43.073274Z"
    }
   },
   "outputs": [
    {
     "data": {
      "text/html": [
       "<div>\n",
       "<style scoped>\n",
       "    .dataframe tbody tr th:only-of-type {\n",
       "        vertical-align: middle;\n",
       "    }\n",
       "\n",
       "    .dataframe tbody tr th {\n",
       "        vertical-align: top;\n",
       "    }\n",
       "\n",
       "    .dataframe thead th {\n",
       "        text-align: right;\n",
       "    }\n",
       "</style>\n",
       "<table border=\"1\" class=\"dataframe\">\n",
       "  <thead>\n",
       "    <tr style=\"text-align: right;\">\n",
       "      <th></th>\n",
       "      <th>toxic</th>\n",
       "      <th>severe_toxic</th>\n",
       "      <th>obscene</th>\n",
       "      <th>threat</th>\n",
       "      <th>insult</th>\n",
       "      <th>identity_hate</th>\n",
       "    </tr>\n",
       "    <tr>\n",
       "      <th>id</th>\n",
       "      <th></th>\n",
       "      <th></th>\n",
       "      <th></th>\n",
       "      <th></th>\n",
       "      <th></th>\n",
       "      <th></th>\n",
       "    </tr>\n",
       "  </thead>\n",
       "  <tbody>\n",
       "    <tr>\n",
       "      <th>00001cee341fdb12</th>\n",
       "      <td>-1</td>\n",
       "      <td>-1</td>\n",
       "      <td>-1</td>\n",
       "      <td>-1</td>\n",
       "      <td>-1</td>\n",
       "      <td>-1</td>\n",
       "    </tr>\n",
       "    <tr>\n",
       "      <th>0000247867823ef7</th>\n",
       "      <td>-1</td>\n",
       "      <td>-1</td>\n",
       "      <td>-1</td>\n",
       "      <td>-1</td>\n",
       "      <td>-1</td>\n",
       "      <td>-1</td>\n",
       "    </tr>\n",
       "    <tr>\n",
       "      <th>00013b17ad220c46</th>\n",
       "      <td>-1</td>\n",
       "      <td>-1</td>\n",
       "      <td>-1</td>\n",
       "      <td>-1</td>\n",
       "      <td>-1</td>\n",
       "      <td>-1</td>\n",
       "    </tr>\n",
       "    <tr>\n",
       "      <th>00017563c3f7919a</th>\n",
       "      <td>-1</td>\n",
       "      <td>-1</td>\n",
       "      <td>-1</td>\n",
       "      <td>-1</td>\n",
       "      <td>-1</td>\n",
       "      <td>-1</td>\n",
       "    </tr>\n",
       "    <tr>\n",
       "      <th>00017695ad8997eb</th>\n",
       "      <td>-1</td>\n",
       "      <td>-1</td>\n",
       "      <td>-1</td>\n",
       "      <td>-1</td>\n",
       "      <td>-1</td>\n",
       "      <td>-1</td>\n",
       "    </tr>\n",
       "    <tr>\n",
       "      <th>...</th>\n",
       "      <td>...</td>\n",
       "      <td>...</td>\n",
       "      <td>...</td>\n",
       "      <td>...</td>\n",
       "      <td>...</td>\n",
       "      <td>...</td>\n",
       "    </tr>\n",
       "    <tr>\n",
       "      <th>fffcd0960ee309b5</th>\n",
       "      <td>-1</td>\n",
       "      <td>-1</td>\n",
       "      <td>-1</td>\n",
       "      <td>-1</td>\n",
       "      <td>-1</td>\n",
       "      <td>-1</td>\n",
       "    </tr>\n",
       "    <tr>\n",
       "      <th>fffd7a9a6eb32c16</th>\n",
       "      <td>-1</td>\n",
       "      <td>-1</td>\n",
       "      <td>-1</td>\n",
       "      <td>-1</td>\n",
       "      <td>-1</td>\n",
       "      <td>-1</td>\n",
       "    </tr>\n",
       "    <tr>\n",
       "      <th>fffda9e8d6fafa9e</th>\n",
       "      <td>-1</td>\n",
       "      <td>-1</td>\n",
       "      <td>-1</td>\n",
       "      <td>-1</td>\n",
       "      <td>-1</td>\n",
       "      <td>-1</td>\n",
       "    </tr>\n",
       "    <tr>\n",
       "      <th>fffe8f1340a79fc2</th>\n",
       "      <td>-1</td>\n",
       "      <td>-1</td>\n",
       "      <td>-1</td>\n",
       "      <td>-1</td>\n",
       "      <td>-1</td>\n",
       "      <td>-1</td>\n",
       "    </tr>\n",
       "    <tr>\n",
       "      <th>ffffce3fb183ee80</th>\n",
       "      <td>-1</td>\n",
       "      <td>-1</td>\n",
       "      <td>-1</td>\n",
       "      <td>-1</td>\n",
       "      <td>-1</td>\n",
       "      <td>-1</td>\n",
       "    </tr>\n",
       "  </tbody>\n",
       "</table>\n",
       "<p>153164 rows × 6 columns</p>\n",
       "</div>"
      ],
      "text/plain": [
       "                  toxic  severe_toxic  obscene  threat  insult  identity_hate\n",
       "id                                                                           \n",
       "00001cee341fdb12     -1            -1       -1      -1      -1             -1\n",
       "0000247867823ef7     -1            -1       -1      -1      -1             -1\n",
       "00013b17ad220c46     -1            -1       -1      -1      -1             -1\n",
       "00017563c3f7919a     -1            -1       -1      -1      -1             -1\n",
       "00017695ad8997eb     -1            -1       -1      -1      -1             -1\n",
       "...                 ...           ...      ...     ...     ...            ...\n",
       "fffcd0960ee309b5     -1            -1       -1      -1      -1             -1\n",
       "fffd7a9a6eb32c16     -1            -1       -1      -1      -1             -1\n",
       "fffda9e8d6fafa9e     -1            -1       -1      -1      -1             -1\n",
       "fffe8f1340a79fc2     -1            -1       -1      -1      -1             -1\n",
       "ffffce3fb183ee80     -1            -1       -1      -1      -1             -1\n",
       "\n",
       "[153164 rows x 6 columns]"
      ]
     },
     "execution_count": 5,
     "metadata": {},
     "output_type": "execute_result"
    },
    {
     "data": {
      "application/javascript": [
       "\n",
       "            setTimeout(function() {\n",
       "                var nbb_cell_id = 5;\n",
       "                var nbb_unformatted_code = \"test_labels_df = pd.read_csv(\\n    \\\"../../data/jigsaw-toxic-comment-classification-challenge/test_labels.csv\\\"\\n).set_index(\\\"id\\\")\\ntest_labels_df\";\n",
       "                var nbb_formatted_code = \"test_labels_df = pd.read_csv(\\n    \\\"../../data/jigsaw-toxic-comment-classification-challenge/test_labels.csv\\\"\\n).set_index(\\\"id\\\")\\ntest_labels_df\";\n",
       "                var nbb_cells = Jupyter.notebook.get_cells();\n",
       "                for (var i = 0; i < nbb_cells.length; ++i) {\n",
       "                    if (nbb_cells[i].input_prompt_number == nbb_cell_id) {\n",
       "                        if (nbb_cells[i].get_text() == nbb_unformatted_code) {\n",
       "                             nbb_cells[i].set_text(nbb_formatted_code);\n",
       "                        }\n",
       "                        break;\n",
       "                    }\n",
       "                }\n",
       "            }, 500);\n",
       "            "
      ],
      "text/plain": [
       "<IPython.core.display.Javascript object>"
      ]
     },
     "metadata": {},
     "output_type": "display_data"
    }
   ],
   "source": [
    "test_labels_df = pd.read_csv(\n",
    "    \"../../data/jigsaw-toxic-comment-classification-challenge/test_labels.csv\"\n",
    ").set_index(\"id\")\n",
    "test_labels_df"
   ]
  },
  {
   "cell_type": "code",
   "execution_count": 6,
   "id": "a339caa1",
   "metadata": {
    "ExecuteTime": {
     "end_time": "2022-12-24T06:37:43.740254Z",
     "start_time": "2022-12-24T06:37:43.160520Z"
    }
   },
   "outputs": [
    {
     "data": {
      "text/html": [
       "<div>\n",
       "<style scoped>\n",
       "    .dataframe tbody tr th:only-of-type {\n",
       "        vertical-align: middle;\n",
       "    }\n",
       "\n",
       "    .dataframe tbody tr th {\n",
       "        vertical-align: top;\n",
       "    }\n",
       "\n",
       "    .dataframe thead th {\n",
       "        text-align: right;\n",
       "    }\n",
       "</style>\n",
       "<table border=\"1\" class=\"dataframe\">\n",
       "  <thead>\n",
       "    <tr style=\"text-align: right;\">\n",
       "      <th></th>\n",
       "      <th>comment_text</th>\n",
       "      <th>toxic</th>\n",
       "      <th>severe_toxic</th>\n",
       "      <th>obscene</th>\n",
       "      <th>threat</th>\n",
       "      <th>insult</th>\n",
       "      <th>identity_hate</th>\n",
       "    </tr>\n",
       "    <tr>\n",
       "      <th>id</th>\n",
       "      <th></th>\n",
       "      <th></th>\n",
       "      <th></th>\n",
       "      <th></th>\n",
       "      <th></th>\n",
       "      <th></th>\n",
       "      <th></th>\n",
       "    </tr>\n",
       "  </thead>\n",
       "  <tbody>\n",
       "    <tr>\n",
       "      <th>0000997932d777bf</th>\n",
       "      <td>Explanation\\nWhy the edits made under my username Hardcore Metallica Fan were reverted? They weren't vandalisms, just closure on some GAs after I voted at New York Dolls FAC. And please don't remove the template from the talk page since I'm retired now.89.205.38.27</td>\n",
       "      <td>0</td>\n",
       "      <td>0</td>\n",
       "      <td>0</td>\n",
       "      <td>0</td>\n",
       "      <td>0</td>\n",
       "      <td>0</td>\n",
       "    </tr>\n",
       "    <tr>\n",
       "      <th>000103f0d9cfb60f</th>\n",
       "      <td>D'aww! He matches this background colour I'm seemingly stuck with. Thanks.  (talk) 21:51, January 11, 2016 (UTC)</td>\n",
       "      <td>0</td>\n",
       "      <td>0</td>\n",
       "      <td>0</td>\n",
       "      <td>0</td>\n",
       "      <td>0</td>\n",
       "      <td>0</td>\n",
       "    </tr>\n",
       "    <tr>\n",
       "      <th>000113f07ec002fd</th>\n",
       "      <td>Hey man, I'm really not trying to edit war. It's just that this guy is constantly removing relevant information and talking to me through edits instead of my talk page. He seems to care more about the formatting than the actual info.</td>\n",
       "      <td>0</td>\n",
       "      <td>0</td>\n",
       "      <td>0</td>\n",
       "      <td>0</td>\n",
       "      <td>0</td>\n",
       "      <td>0</td>\n",
       "    </tr>\n",
       "    <tr>\n",
       "      <th>0001b41b1c6bb37e</th>\n",
       "      <td>\"\\nMore\\nI can't make any real suggestions on improvement - I wondered if the section statistics should be later on, or a subsection of \"\"types of accidents\"\"  -I think the references may need tidying so that they are all in the exact same format ie date format etc. I can do that later on, if no-one else does first - if you have any preferences for formatting style on references or want to do it yourself please let me know.\\n\\nThere appears to be a backlog on articles for review so I guess there may be a delay until a reviewer turns up. It's listed in the relevant form eg Wikipedia:Good_ar...</td>\n",
       "      <td>0</td>\n",
       "      <td>0</td>\n",
       "      <td>0</td>\n",
       "      <td>0</td>\n",
       "      <td>0</td>\n",
       "      <td>0</td>\n",
       "    </tr>\n",
       "    <tr>\n",
       "      <th>0001d958c54c6e35</th>\n",
       "      <td>You, sir, are my hero. Any chance you remember what page that's on?</td>\n",
       "      <td>0</td>\n",
       "      <td>0</td>\n",
       "      <td>0</td>\n",
       "      <td>0</td>\n",
       "      <td>0</td>\n",
       "      <td>0</td>\n",
       "    </tr>\n",
       "    <tr>\n",
       "      <th>...</th>\n",
       "      <td>...</td>\n",
       "      <td>...</td>\n",
       "      <td>...</td>\n",
       "      <td>...</td>\n",
       "      <td>...</td>\n",
       "      <td>...</td>\n",
       "      <td>...</td>\n",
       "    </tr>\n",
       "    <tr>\n",
       "      <th>ffe987279560d7ff</th>\n",
       "      <td>\":::::And for the second time of asking, when your view completely contradicts the coverage in reliable sources, why should anyone care what you feel? You can't even give a consistent argument - is the opening only supposed to mention significant aspects, or the \"\"most significant\"\" ones?   \\n\\n\"</td>\n",
       "      <td>0</td>\n",
       "      <td>0</td>\n",
       "      <td>0</td>\n",
       "      <td>0</td>\n",
       "      <td>0</td>\n",
       "      <td>0</td>\n",
       "    </tr>\n",
       "    <tr>\n",
       "      <th>ffea4adeee384e90</th>\n",
       "      <td>You should be ashamed of yourself \\n\\nThat is a horrible thing you put on my talk page.  128.61.19.93</td>\n",
       "      <td>0</td>\n",
       "      <td>0</td>\n",
       "      <td>0</td>\n",
       "      <td>0</td>\n",
       "      <td>0</td>\n",
       "      <td>0</td>\n",
       "    </tr>\n",
       "    <tr>\n",
       "      <th>ffee36eab5c267c9</th>\n",
       "      <td>Spitzer \\n\\nUmm, theres no actual article for prostitution ring.  - Crunch Captain.</td>\n",
       "      <td>0</td>\n",
       "      <td>0</td>\n",
       "      <td>0</td>\n",
       "      <td>0</td>\n",
       "      <td>0</td>\n",
       "      <td>0</td>\n",
       "    </tr>\n",
       "    <tr>\n",
       "      <th>fff125370e4aaaf3</th>\n",
       "      <td>And it looks like it was actually you who put on the speedy to have the first version deleted now that I look at it.</td>\n",
       "      <td>0</td>\n",
       "      <td>0</td>\n",
       "      <td>0</td>\n",
       "      <td>0</td>\n",
       "      <td>0</td>\n",
       "      <td>0</td>\n",
       "    </tr>\n",
       "    <tr>\n",
       "      <th>fff46fc426af1f9a</th>\n",
       "      <td>\"\\nAnd ... I really don't think you understand.  I came here and my idea was bad right away.  What kind of community goes \"\"you have bad ideas\"\" go away, instead of helping rewrite them.   \"</td>\n",
       "      <td>0</td>\n",
       "      <td>0</td>\n",
       "      <td>0</td>\n",
       "      <td>0</td>\n",
       "      <td>0</td>\n",
       "      <td>0</td>\n",
       "    </tr>\n",
       "  </tbody>\n",
       "</table>\n",
       "<p>159571 rows × 7 columns</p>\n",
       "</div>"
      ],
      "text/plain": [
       "                                                                                                                                                                                                                                                                                                                                                                                                                                                                                                                                                                                                                             comment_text  \\\n",
       "id                                                                                                                                                                                                                                                                                                                                                                                                                                                                                                                                                                                                                                          \n",
       "0000997932d777bf                                                                                                                                                                                                                                                                                                                                                Explanation\\nWhy the edits made under my username Hardcore Metallica Fan were reverted? They weren't vandalisms, just closure on some GAs after I voted at New York Dolls FAC. And please don't remove the template from the talk page since I'm retired now.89.205.38.27   \n",
       "000103f0d9cfb60f                                                                                                                                                                                                                                                                                                                                                                                                                                                                                                         D'aww! He matches this background colour I'm seemingly stuck with. Thanks.  (talk) 21:51, January 11, 2016 (UTC)   \n",
       "000113f07ec002fd                                                                                                                                                                                                                                                                                                                                                                                Hey man, I'm really not trying to edit war. It's just that this guy is constantly removing relevant information and talking to me through edits instead of my talk page. He seems to care more about the formatting than the actual info.   \n",
       "0001b41b1c6bb37e  \"\\nMore\\nI can't make any real suggestions on improvement - I wondered if the section statistics should be later on, or a subsection of \"\"types of accidents\"\"  -I think the references may need tidying so that they are all in the exact same format ie date format etc. I can do that later on, if no-one else does first - if you have any preferences for formatting style on references or want to do it yourself please let me know.\\n\\nThere appears to be a backlog on articles for review so I guess there may be a delay until a reviewer turns up. It's listed in the relevant form eg Wikipedia:Good_ar...   \n",
       "0001d958c54c6e35                                                                                                                                                                                                                                                                                                                                                                                                                                                                                                                                                      You, sir, are my hero. Any chance you remember what page that's on?   \n",
       "...                                                                                                                                                                                                                                                                                                                                                                                                                                                                                                                                                                                                                                   ...   \n",
       "ffe987279560d7ff                                                                                                                                                                                                                                                                                                                \":::::And for the second time of asking, when your view completely contradicts the coverage in reliable sources, why should anyone care what you feel? You can't even give a consistent argument - is the opening only supposed to mention significant aspects, or the \"\"most significant\"\" ones?   \\n\\n\"   \n",
       "ffea4adeee384e90                                                                                                                                                                                                                                                                                                                                                                                                                                                                                                                    You should be ashamed of yourself \\n\\nThat is a horrible thing you put on my talk page.  128.61.19.93   \n",
       "ffee36eab5c267c9                                                                                                                                                                                                                                                                                                                                                                                                                                                                                                                                      Spitzer \\n\\nUmm, theres no actual article for prostitution ring.  - Crunch Captain.   \n",
       "fff125370e4aaaf3                                                                                                                                                                                                                                                                                                                                                                                                                                                                                                     And it looks like it was actually you who put on the speedy to have the first version deleted now that I look at it.   \n",
       "fff46fc426af1f9a                                                                                                                                                                                                                                                                                                                                                                                                                           \"\\nAnd ... I really don't think you understand.  I came here and my idea was bad right away.  What kind of community goes \"\"you have bad ideas\"\" go away, instead of helping rewrite them.   \"   \n",
       "\n",
       "                  toxic  severe_toxic  obscene  threat  insult  identity_hate  \n",
       "id                                                                             \n",
       "0000997932d777bf      0             0        0       0       0              0  \n",
       "000103f0d9cfb60f      0             0        0       0       0              0  \n",
       "000113f07ec002fd      0             0        0       0       0              0  \n",
       "0001b41b1c6bb37e      0             0        0       0       0              0  \n",
       "0001d958c54c6e35      0             0        0       0       0              0  \n",
       "...                 ...           ...      ...     ...     ...            ...  \n",
       "ffe987279560d7ff      0             0        0       0       0              0  \n",
       "ffea4adeee384e90      0             0        0       0       0              0  \n",
       "ffee36eab5c267c9      0             0        0       0       0              0  \n",
       "fff125370e4aaaf3      0             0        0       0       0              0  \n",
       "fff46fc426af1f9a      0             0        0       0       0              0  \n",
       "\n",
       "[159571 rows x 7 columns]"
      ]
     },
     "execution_count": 6,
     "metadata": {},
     "output_type": "execute_result"
    },
    {
     "data": {
      "application/javascript": [
       "\n",
       "            setTimeout(function() {\n",
       "                var nbb_cell_id = 6;\n",
       "                var nbb_unformatted_code = \"train_df = pd.read_csv(\\n    \\\"../../data/jigsaw-toxic-comment-classification-challenge/train.csv\\\"\\n).set_index(\\\"id\\\")\\ntrain_df\";\n",
       "                var nbb_formatted_code = \"train_df = pd.read_csv(\\n    \\\"../../data/jigsaw-toxic-comment-classification-challenge/train.csv\\\"\\n).set_index(\\\"id\\\")\\ntrain_df\";\n",
       "                var nbb_cells = Jupyter.notebook.get_cells();\n",
       "                for (var i = 0; i < nbb_cells.length; ++i) {\n",
       "                    if (nbb_cells[i].input_prompt_number == nbb_cell_id) {\n",
       "                        if (nbb_cells[i].get_text() == nbb_unformatted_code) {\n",
       "                             nbb_cells[i].set_text(nbb_formatted_code);\n",
       "                        }\n",
       "                        break;\n",
       "                    }\n",
       "                }\n",
       "            }, 500);\n",
       "            "
      ],
      "text/plain": [
       "<IPython.core.display.Javascript object>"
      ]
     },
     "metadata": {},
     "output_type": "display_data"
    }
   ],
   "source": [
    "train_df = pd.read_csv(\n",
    "    \"../../data/jigsaw-toxic-comment-classification-challenge/train.csv\"\n",
    ").set_index(\"id\")\n",
    "train_df"
   ]
  },
  {
   "cell_type": "code",
   "execution_count": 7,
   "id": "bb5a6df2",
   "metadata": {
    "ExecuteTime": {
     "end_time": "2022-12-24T06:37:43.749668Z",
     "start_time": "2022-12-24T06:37:43.741319Z"
    }
   },
   "outputs": [
    {
     "data": {
      "text/plain": [
       "toxic            0.095844\n",
       "severe_toxic     0.009996\n",
       "obscene          0.052948\n",
       "threat           0.002996\n",
       "insult           0.049364\n",
       "identity_hate    0.008805\n",
       "dtype: float64"
      ]
     },
     "execution_count": 7,
     "metadata": {},
     "output_type": "execute_result"
    },
    {
     "data": {
      "application/javascript": [
       "\n",
       "            setTimeout(function() {\n",
       "                var nbb_cell_id = 7;\n",
       "                var nbb_unformatted_code = \"train_df[\\n    [\\\"toxic\\\", \\\"severe_toxic\\\", \\\"obscene\\\", \\\"threat\\\", \\\"insult\\\", \\\"identity_hate\\\"]\\n].mean()\";\n",
       "                var nbb_formatted_code = \"train_df[\\n    [\\\"toxic\\\", \\\"severe_toxic\\\", \\\"obscene\\\", \\\"threat\\\", \\\"insult\\\", \\\"identity_hate\\\"]\\n].mean()\";\n",
       "                var nbb_cells = Jupyter.notebook.get_cells();\n",
       "                for (var i = 0; i < nbb_cells.length; ++i) {\n",
       "                    if (nbb_cells[i].input_prompt_number == nbb_cell_id) {\n",
       "                        if (nbb_cells[i].get_text() == nbb_unformatted_code) {\n",
       "                             nbb_cells[i].set_text(nbb_formatted_code);\n",
       "                        }\n",
       "                        break;\n",
       "                    }\n",
       "                }\n",
       "            }, 500);\n",
       "            "
      ],
      "text/plain": [
       "<IPython.core.display.Javascript object>"
      ]
     },
     "metadata": {},
     "output_type": "display_data"
    }
   ],
   "source": [
    "train_df[\n",
    "    [\"toxic\", \"severe_toxic\", \"obscene\", \"threat\", \"insult\", \"identity_hate\"]\n",
    "].mean()"
   ]
  },
  {
   "cell_type": "markdown",
   "id": "5c7f3057",
   "metadata": {},
   "source": [
    "# DataLoader"
   ]
  },
  {
   "cell_type": "code",
   "execution_count": 8,
   "id": "6864a07c",
   "metadata": {
    "ExecuteTime": {
     "end_time": "2022-12-24T06:37:43.766096Z",
     "start_time": "2022-12-24T06:37:43.750875Z"
    }
   },
   "outputs": [
    {
     "data": {
      "application/javascript": [
       "\n",
       "            setTimeout(function() {\n",
       "                var nbb_cell_id = 8;\n",
       "                var nbb_unformatted_code = \"BATCH_SIZE = 32\";\n",
       "                var nbb_formatted_code = \"BATCH_SIZE = 32\";\n",
       "                var nbb_cells = Jupyter.notebook.get_cells();\n",
       "                for (var i = 0; i < nbb_cells.length; ++i) {\n",
       "                    if (nbb_cells[i].input_prompt_number == nbb_cell_id) {\n",
       "                        if (nbb_cells[i].get_text() == nbb_unformatted_code) {\n",
       "                             nbb_cells[i].set_text(nbb_formatted_code);\n",
       "                        }\n",
       "                        break;\n",
       "                    }\n",
       "                }\n",
       "            }, 500);\n",
       "            "
      ],
      "text/plain": [
       "<IPython.core.display.Javascript object>"
      ]
     },
     "metadata": {},
     "output_type": "display_data"
    }
   ],
   "source": [
    "BATCH_SIZE = 32"
   ]
  },
  {
   "cell_type": "code",
   "execution_count": 9,
   "id": "fbe848af",
   "metadata": {
    "ExecuteTime": {
     "end_time": "2022-12-24T06:37:43.800391Z",
     "start_time": "2022-12-24T06:37:43.767236Z"
    }
   },
   "outputs": [
    {
     "data": {
      "text/plain": [
       "((143613, 7), (15958, 7))"
      ]
     },
     "execution_count": 9,
     "metadata": {},
     "output_type": "execute_result"
    },
    {
     "data": {
      "application/javascript": [
       "\n",
       "            setTimeout(function() {\n",
       "                var nbb_cell_id = 9;\n",
       "                var nbb_unformatted_code = \"X_train, X_true = train_test_split(train_df, test_size=0.1, random_state=42)\\nX_train.shape, X_true.shape\";\n",
       "                var nbb_formatted_code = \"X_train, X_true = train_test_split(train_df, test_size=0.1, random_state=42)\\nX_train.shape, X_true.shape\";\n",
       "                var nbb_cells = Jupyter.notebook.get_cells();\n",
       "                for (var i = 0; i < nbb_cells.length; ++i) {\n",
       "                    if (nbb_cells[i].input_prompt_number == nbb_cell_id) {\n",
       "                        if (nbb_cells[i].get_text() == nbb_unformatted_code) {\n",
       "                             nbb_cells[i].set_text(nbb_formatted_code);\n",
       "                        }\n",
       "                        break;\n",
       "                    }\n",
       "                }\n",
       "            }, 500);\n",
       "            "
      ],
      "text/plain": [
       "<IPython.core.display.Javascript object>"
      ]
     },
     "metadata": {},
     "output_type": "display_data"
    }
   ],
   "source": [
    "X_train, X_true = train_test_split(train_df, test_size=0.1, random_state=42)\n",
    "X_train.shape, X_true.shape"
   ]
  },
  {
   "cell_type": "code",
   "execution_count": 10,
   "id": "c53b2cbd",
   "metadata": {
    "ExecuteTime": {
     "end_time": "2022-12-24T06:38:16.802446Z",
     "start_time": "2022-12-24T06:37:43.802271Z"
    }
   },
   "outputs": [
    {
     "data": {
      "text/html": [
       "\n",
       "<style>\n",
       "    /* Turns off some styling */\n",
       "    progress {\n",
       "        /* gets rid of default border in Firefox and Opera. */\n",
       "        border: none;\n",
       "        /* Needs to be in here for Safari polyfill so background images work as expected. */\n",
       "        background-size: auto;\n",
       "    }\n",
       "    progress:not([value]), progress:not([value])::-webkit-progress-bar {\n",
       "        background: repeating-linear-gradient(45deg, #7e7e7e, #7e7e7e 10px, #5c5c5c 10px, #5c5c5c 20px);\n",
       "    }\n",
       "    .progress-bar-interrupted, .progress-bar-interrupted::-webkit-progress-bar {\n",
       "        background: #F44336;\n",
       "    }\n",
       "</style>\n"
      ],
      "text/plain": [
       "<IPython.core.display.HTML object>"
      ]
     },
     "metadata": {},
     "output_type": "display_data"
    },
    {
     "data": {
      "text/html": [],
      "text/plain": [
       "<IPython.core.display.HTML object>"
      ]
     },
     "metadata": {},
     "output_type": "display_data"
    },
    {
     "data": {
      "application/javascript": [
       "\n",
       "            setTimeout(function() {\n",
       "                var nbb_cell_id = 10;\n",
       "                var nbb_unformatted_code = \"dls = TextDataLoaders.from_df(\\n    X_train[[\\\"comment_text\\\", \\\"toxic\\\"]],\\n    valid_pct=0.2,\\n    seed=42,\\n    bs=BATCH_SIZE,\\n)\";\n",
       "                var nbb_formatted_code = \"dls = TextDataLoaders.from_df(\\n    X_train[[\\\"comment_text\\\", \\\"toxic\\\"]],\\n    valid_pct=0.2,\\n    seed=42,\\n    bs=BATCH_SIZE,\\n)\";\n",
       "                var nbb_cells = Jupyter.notebook.get_cells();\n",
       "                for (var i = 0; i < nbb_cells.length; ++i) {\n",
       "                    if (nbb_cells[i].input_prompt_number == nbb_cell_id) {\n",
       "                        if (nbb_cells[i].get_text() == nbb_unformatted_code) {\n",
       "                             nbb_cells[i].set_text(nbb_formatted_code);\n",
       "                        }\n",
       "                        break;\n",
       "                    }\n",
       "                }\n",
       "            }, 500);\n",
       "            "
      ],
      "text/plain": [
       "<IPython.core.display.Javascript object>"
      ]
     },
     "metadata": {},
     "output_type": "display_data"
    }
   ],
   "source": [
    "dls = TextDataLoaders.from_df(\n",
    "    X_train[[\"comment_text\", \"toxic\"]],\n",
    "    valid_pct=0.2,\n",
    "    seed=42,\n",
    "    bs=BATCH_SIZE,\n",
    ")"
   ]
  },
  {
   "cell_type": "code",
   "execution_count": 11,
   "id": "89897056",
   "metadata": {
    "ExecuteTime": {
     "end_time": "2022-12-24T06:38:17.390153Z",
     "start_time": "2022-12-24T06:38:16.803750Z"
    }
   },
   "outputs": [
    {
     "data": {
      "text/html": [
       "<table border=\"1\" class=\"dataframe\">\n",
       "  <thead>\n",
       "    <tr style=\"text-align: right;\">\n",
       "      <th></th>\n",
       "      <th>text</th>\n",
       "      <th>category</th>\n",
       "    </tr>\n",
       "  </thead>\n",
       "  <tbody>\n",
       "    <tr>\n",
       "      <th>0</th>\n",
       "      <td>xxbos xxmaj take that ! \\n\\n xxup in xxup the xxup ass xxup in xxup the xxup ass xxup in xxup the xxup ass xxup in xxup the xxup ass xxup in xxup the xxup ass xxup in xxup the xxup ass xxup in xxup the xxup ass xxup in xxup the xxup ass xxup in xxup the xxup ass xxup in xxup the xxup ass xxup in xxup the xxup ass xxup in xxup the xxup ass xxup in xxup the xxup ass xxup in xxup the xxup ass xxup in xxup the xxup ass xxup in xxup the xxup ass xxup in xxup the xxup ass xxup in xxup the xxup ass xxup in xxup the xxup ass xxup in xxup the xxup ass xxup in xxup the xxup ass xxup in xxup the xxup ass xxup in xxup the xxup ass xxup in xxup the xxup ass</td>\n",
       "      <td>1</td>\n",
       "    </tr>\n",
       "    <tr>\n",
       "      <th>1</th>\n",
       "      <td>xxbos xxup ah xxup haahhahahah y xxrep 3 a xxup bitch y xxrep 4 a ! @ xxrep 6 ! xxup ah xxup haahhahahah y xxrep 3 a xxup bitch y xxrep 4 a ! @ xxrep 6 ! xxup ah xxup haahhahahah y xxrep 3 a xxup bitch y xxrep 4 a ! @ xxrep 6 ! xxup ah xxup haahhahahah y xxrep 3 a xxup bitch y xxrep 4 a ! @ xxrep 6 ! xxup ah xxup haahhahahah y xxrep 3 a xxup bitch y xxrep 4 a ! @ xxrep 6 ! xxup ah xxup haahhahahah y xxrep 3 a xxup bitch y xxrep 4 a ! @ xxrep 6 ! xxup ah xxup haahhahahah y xxrep 3 a xxup bitch y xxrep 4 a ! @ xxrep 6 ! xxup ah xxup haahhahahah y xxrep 3 a xxup bitch y xxrep 4 a ! @</td>\n",
       "      <td>1</td>\n",
       "    </tr>\n",
       "    <tr>\n",
       "      <th>2</th>\n",
       "      <td>xxbos xxup jim xxup wales xxup must xxup die xxrep 12 ! xxup jim xxup wales xxup must xxup die xxrep 12 ! xxup jim xxup wales xxup must xxup die xxrep 12 ! xxup jim xxup wales xxup must xxup die xxrep 12 ! xxup jim xxup wales xxup must xxup die xxrep 12 ! xxup jim xxup wales xxup must xxup die xxrep 12 ! xxup jim xxup wales xxup must xxup die xxrep 12 ! xxup jim xxup wales xxup must xxup die xxrep 12 ! xxup jim xxup wales xxup must xxup die xxrep 12 ! xxup jim xxup wales xxup must xxup die xxrep 12 ! xxup jim xxup wales xxup must xxup die xxrep 12 ! xxup jim xxup wales xxup must xxup die xxrep 12 ! xxup jim xxup wales xxup must xxup die xxrep 12 ! xxup jim xxup wales xxup must</td>\n",
       "      <td>1</td>\n",
       "    </tr>\n",
       "    <tr>\n",
       "      <th>3</th>\n",
       "      <td>xxbos xxup tommy2010 xxup is a xxup nigger xxup tommy2010 xxup is a xxup nigger xxup tommy2010 xxup is a xxup nigger xxup tommy2010 xxup is a xxup nigger xxup tommy2010 xxup is a xxup nigger xxup tommy2010 xxup is a xxup nigger xxup tommy2010 xxup is a xxup nigger xxup tommy2010 xxup is a xxup nigger xxup tommy2010 xxup is a xxup nigger xxup tommy2010 xxup is a xxup nigger xxup tommy2010 xxup is a xxup nigger xxup tommy2010 xxup is a xxup nigger xxup tommy2010 xxup is a xxup nigger xxup tommy2010 xxup is a xxup nigger xxup tommy2010 xxup is a xxup nigger xxup tommy2010 xxup is a xxup nigger xxup tommy2010 xxup is a xxup nigger xxup tommy2010 xxup is a xxup nigger xxup tommy2010 xxup is a xxup nigger xxup tommy2010 xxup is a xxup nigger xxup tommy2010 xxup is a xxup nigger xxup tommy2010</td>\n",
       "      <td>1</td>\n",
       "    </tr>\n",
       "    <tr>\n",
       "      <th>4</th>\n",
       "      <td>xxbos \" \\n\\n▁ xxrep 4 _ \\n\\n xxmaj well all right , at least we are getting some debate on the subject . \\n\\n xxmaj paul xxmaj siebert - xxmaj the main contribution of the xxup xxunk 36 was the sloped armor on all sides , with the slope of the hull continuous with the turret , so that the tank ended up with a pyramidal shape and a very small turret . xxmaj this was exactly the same shape of the xxup t-34 which appeared some 3 - 4 years later than the xxup xxunk 36 and yet the xxup t-34 gets all the credit and accolades as a \" \" revolutionary design \" \" for its sloped armor . xxmaj well , the xxmaj french came up with that idea first ( p. 247 - 248 in xxup t-34 xxmaj mythical xxmaj weapon ) . xxmaj michulec goes</td>\n",
       "      <td>0</td>\n",
       "    </tr>\n",
       "    <tr>\n",
       "      <th>5</th>\n",
       "      <td>xxbos \" \\n\\n death to critics \\n\\n xxmaj so instead of ' every ' earlier , now you are giving isolated cases , such as xxmaj theo van xxmaj gogh , xxmaj vincent van xxmaj gogh , xxmaj rashad xxmaj khalifa , and xxmaj xxunk xxmaj xxunk who received death threats or were killed by anonymous unknown radicals . xxmaj what happened to every claim ? xxmaj anyway , to prove your case that xxmaj islam sanctions death sentence to its critics , you ca n't just post the names of isolated cases where people received death threats from anonymous radicals ! xxmaj you need to post the names of prominent xxmaj islamic scholars and universities such as xxmaj al xxmaj azhar ( not isolated radicals ) who issued the death sentence against these people . xxmaj the fatwa against xxmaj rushdie was rejected by xxmaj al xxmaj azhar and</td>\n",
       "      <td>0</td>\n",
       "    </tr>\n",
       "    <tr>\n",
       "      <th>6</th>\n",
       "      <td>xxbos \" \\n\\n xxmaj first xxmaj i 'm a little obsessive with unfounded criticism . xxmaj sorry about that , xxmaj it makes me long - winded . xxmaj i 'm not at all xxunk with this xxunk which i could give two deuces xxunk once it is properly sourced and defined . \\n\\n user : brangifer has a lot to say about me . xxmaj perhaps one example of unreliable sourcing as described to show good faith ? xxmaj it should n't be difficult . i assumed good faith and ask for one example , never got . xxmaj no shred of anything to indicate good faith on his part except a wp : policy - based assumption . xxmaj is it an assumption of bad faith to ask for proof or evidence that should not be difficult to provide ? xxmaj is is bad faith not to provide</td>\n",
       "      <td>0</td>\n",
       "    </tr>\n",
       "    <tr>\n",
       "      <th>7</th>\n",
       "      <td>xxbos \" \\n\\n▁ xxmaj news suppressed on xxmaj wikipedia http : / / rexcurry.net / wikipedialies.html \\n\\n rexcurry.net is the historian who made the following discoveries covered elsewhere and on xxmaj wikipedia : \\n\\n 1 . xxmaj the usa ’s first xxmaj pledge used a straight - arm salute and it was the origin of the salute of the monstrous xxmaj national xxmaj socialist xxmaj german xxmaj workers ' xxmaj party ( nazis ) . xxmaj it was not an ancient xxmaj roman salute . http : / / rexcurry.net / pledgesalute.html \\n\\n 2 . xxmaj the xxmaj pledge began with a military salute that then stretched outward toward the flag . xxmaj historic photographs are at http : / / rexcurry.net / pledge2.html and at http : / / rexcurry.net / pledge_military.html xxmaj due to the way that both gestures were used , the military salute led to the</td>\n",
       "      <td>0</td>\n",
       "    </tr>\n",
       "    <tr>\n",
       "      <th>8</th>\n",
       "      <td>xxbos \" \\n\\n { { unblock| \\n▁ xxmaj note : xxmaj this is a complex request , which needs a reasonable amount of review , its not a quickie , and i request a review by an admin that has the time . xxmaj thank you . \\n xxmaj this is a highly improper blocking by xxmaj jehochman , which is abusive and overkill which clearly demonstrates xxmaj jehochman 's interested take on my editorship , which by xxmaj wiki guidelines should mean that this is handed off to an uninterested admin , without blocking . xxmaj this block should be reversed if for nothing else to allow me to respond . xxmaj this stems from myself asking an admin why i was blocked , a block which was overturned on its merits . i was asking the blocking admin , what my actions where that caused the blocking .</td>\n",
       "      <td>0</td>\n",
       "    </tr>\n",
       "  </tbody>\n",
       "</table>"
      ],
      "text/plain": [
       "<IPython.core.display.HTML object>"
      ]
     },
     "metadata": {},
     "output_type": "display_data"
    },
    {
     "data": {
      "application/javascript": [
       "\n",
       "            setTimeout(function() {\n",
       "                var nbb_cell_id = 11;\n",
       "                var nbb_unformatted_code = \"dls.train.show_batch()\";\n",
       "                var nbb_formatted_code = \"dls.train.show_batch()\";\n",
       "                var nbb_cells = Jupyter.notebook.get_cells();\n",
       "                for (var i = 0; i < nbb_cells.length; ++i) {\n",
       "                    if (nbb_cells[i].input_prompt_number == nbb_cell_id) {\n",
       "                        if (nbb_cells[i].get_text() == nbb_unformatted_code) {\n",
       "                             nbb_cells[i].set_text(nbb_formatted_code);\n",
       "                        }\n",
       "                        break;\n",
       "                    }\n",
       "                }\n",
       "            }, 500);\n",
       "            "
      ],
      "text/plain": [
       "<IPython.core.display.Javascript object>"
      ]
     },
     "metadata": {},
     "output_type": "display_data"
    }
   ],
   "source": [
    "dls.train.show_batch()"
   ]
  },
  {
   "cell_type": "markdown",
   "id": "0a30d67f",
   "metadata": {},
   "source": [
    "# Train"
   ]
  },
  {
   "cell_type": "code",
   "execution_count": 12,
   "id": "9a8fd2c8",
   "metadata": {
    "ExecuteTime": {
     "end_time": "2022-12-24T06:38:18.319517Z",
     "start_time": "2022-12-24T06:38:17.391439Z"
    }
   },
   "outputs": [
    {
     "data": {
      "text/plain": [
       "<fastai.text.learner.TextLearner at 0x7fbf2de88d60>"
      ]
     },
     "execution_count": 12,
     "metadata": {},
     "output_type": "execute_result"
    },
    {
     "data": {
      "application/javascript": [
       "\n",
       "            setTimeout(function() {\n",
       "                var nbb_cell_id = 12;\n",
       "                var nbb_unformatted_code = \"# https://docs.fast.ai/tutorial.text.html\\nlearn = text_classifier_learner(dls, AWD_LSTM, drop_mult=0.5, metrics=accuracy)\\nlearn\";\n",
       "                var nbb_formatted_code = \"# https://docs.fast.ai/tutorial.text.html\\nlearn = text_classifier_learner(dls, AWD_LSTM, drop_mult=0.5, metrics=accuracy)\\nlearn\";\n",
       "                var nbb_cells = Jupyter.notebook.get_cells();\n",
       "                for (var i = 0; i < nbb_cells.length; ++i) {\n",
       "                    if (nbb_cells[i].input_prompt_number == nbb_cell_id) {\n",
       "                        if (nbb_cells[i].get_text() == nbb_unformatted_code) {\n",
       "                             nbb_cells[i].set_text(nbb_formatted_code);\n",
       "                        }\n",
       "                        break;\n",
       "                    }\n",
       "                }\n",
       "            }, 500);\n",
       "            "
      ],
      "text/plain": [
       "<IPython.core.display.Javascript object>"
      ]
     },
     "metadata": {},
     "output_type": "display_data"
    }
   ],
   "source": [
    "# https://docs.fast.ai/tutorial.text.html\n",
    "learn = text_classifier_learner(dls, AWD_LSTM, drop_mult=0.5, metrics=accuracy)\n",
    "learn"
   ]
  },
  {
   "cell_type": "code",
   "execution_count": 13,
   "id": "04754a9e",
   "metadata": {
    "ExecuteTime": {
     "end_time": "2022-12-24T06:38:25.668956Z",
     "start_time": "2022-12-24T06:38:18.320877Z"
    }
   },
   "outputs": [
    {
     "data": {
      "text/html": [
       "\n",
       "<style>\n",
       "    /* Turns off some styling */\n",
       "    progress {\n",
       "        /* gets rid of default border in Firefox and Opera. */\n",
       "        border: none;\n",
       "        /* Needs to be in here for Safari polyfill so background images work as expected. */\n",
       "        background-size: auto;\n",
       "    }\n",
       "    progress:not([value]), progress:not([value])::-webkit-progress-bar {\n",
       "        background: repeating-linear-gradient(45deg, #7e7e7e, #7e7e7e 10px, #5c5c5c 10px, #5c5c5c 20px);\n",
       "    }\n",
       "    .progress-bar-interrupted, .progress-bar-interrupted::-webkit-progress-bar {\n",
       "        background: #F44336;\n",
       "    }\n",
       "</style>\n"
      ],
      "text/plain": [
       "<IPython.core.display.HTML object>"
      ]
     },
     "metadata": {},
     "output_type": "display_data"
    },
    {
     "data": {
      "text/html": [],
      "text/plain": [
       "<IPython.core.display.HTML object>"
      ]
     },
     "metadata": {},
     "output_type": "display_data"
    },
    {
     "data": {
      "text/plain": [
       "SuggestedLRs(valley=0.007585775572806597)"
      ]
     },
     "execution_count": 13,
     "metadata": {},
     "output_type": "execute_result"
    },
    {
     "data": {
      "image/png": "[encoded data removed]",
      "text/plain": [
       "<Figure size 640x480 with 1 Axes>"
      ]
     },
     "metadata": {},
     "output_type": "display_data"
    },
    {
     "data": {
      "application/javascript": [
       "\n",
       "            setTimeout(function() {\n",
       "                var nbb_cell_id = 13;\n",
       "                var nbb_unformatted_code = \"learn.lr_find()\";\n",
       "                var nbb_formatted_code = \"learn.lr_find()\";\n",
       "                var nbb_cells = Jupyter.notebook.get_cells();\n",
       "                for (var i = 0; i < nbb_cells.length; ++i) {\n",
       "                    if (nbb_cells[i].input_prompt_number == nbb_cell_id) {\n",
       "                        if (nbb_cells[i].get_text() == nbb_unformatted_code) {\n",
       "                             nbb_cells[i].set_text(nbb_formatted_code);\n",
       "                        }\n",
       "                        break;\n",
       "                    }\n",
       "                }\n",
       "            }, 500);\n",
       "            "
      ],
      "text/plain": [
       "<IPython.core.display.Javascript object>"
      ]
     },
     "metadata": {},
     "output_type": "display_data"
    }
   ],
   "source": [
    "learn.lr_find()"
   ]
  },
  {
   "cell_type": "code",
   "execution_count": 14,
   "id": "aaa5b48f",
   "metadata": {
    "ExecuteTime": {
     "end_time": "2022-12-24T07:07:43.598028Z",
     "start_time": "2022-12-24T06:38:25.670359Z"
    }
   },
   "outputs": [
    {
     "data": {
      "text/html": [
       "\n",
       "<style>\n",
       "    /* Turns off some styling */\n",
       "    progress {\n",
       "        /* gets rid of default border in Firefox and Opera. */\n",
       "        border: none;\n",
       "        /* Needs to be in here for Safari polyfill so background images work as expected. */\n",
       "        background-size: auto;\n",
       "    }\n",
       "    progress:not([value]), progress:not([value])::-webkit-progress-bar {\n",
       "        background: repeating-linear-gradient(45deg, #7e7e7e, #7e7e7e 10px, #5c5c5c 10px, #5c5c5c 20px);\n",
       "    }\n",
       "    .progress-bar-interrupted, .progress-bar-interrupted::-webkit-progress-bar {\n",
       "        background: #F44336;\n",
       "    }\n",
       "</style>\n"
      ],
      "text/plain": [
       "<IPython.core.display.HTML object>"
      ]
     },
     "metadata": {},
     "output_type": "display_data"
    },
    {
     "data": {
      "text/html": [
       "<table border=\"1\" class=\"dataframe\">\n",
       "  <thead>\n",
       "    <tr style=\"text-align: left;\">\n",
       "      <th>epoch</th>\n",
       "      <th>train_loss</th>\n",
       "      <th>valid_loss</th>\n",
       "      <th>accuracy</th>\n",
       "      <th>time</th>\n",
       "    </tr>\n",
       "  </thead>\n",
       "  <tbody>\n",
       "    <tr>\n",
       "      <td>0</td>\n",
       "      <td>0.215169</td>\n",
       "      <td>0.180435</td>\n",
       "      <td>0.930854</td>\n",
       "      <td>02:58</td>\n",
       "    </tr>\n",
       "  </tbody>\n",
       "</table>"
      ],
      "text/plain": [
       "<IPython.core.display.HTML object>"
      ]
     },
     "metadata": {},
     "output_type": "display_data"
    },
    {
     "data": {
      "text/html": [
       "\n",
       "<style>\n",
       "    /* Turns off some styling */\n",
       "    progress {\n",
       "        /* gets rid of default border in Firefox and Opera. */\n",
       "        border: none;\n",
       "        /* Needs to be in here for Safari polyfill so background images work as expected. */\n",
       "        background-size: auto;\n",
       "    }\n",
       "    progress:not([value]), progress:not([value])::-webkit-progress-bar {\n",
       "        background: repeating-linear-gradient(45deg, #7e7e7e, #7e7e7e 10px, #5c5c5c 10px, #5c5c5c 20px);\n",
       "    }\n",
       "    .progress-bar-interrupted, .progress-bar-interrupted::-webkit-progress-bar {\n",
       "        background: #F44336;\n",
       "    }\n",
       "</style>\n"
      ],
      "text/plain": [
       "<IPython.core.display.HTML object>"
      ]
     },
     "metadata": {},
     "output_type": "display_data"
    },
    {
     "data": {
      "text/html": [
       "<table border=\"1\" class=\"dataframe\">\n",
       "  <thead>\n",
       "    <tr style=\"text-align: left;\">\n",
       "      <th>epoch</th>\n",
       "      <th>train_loss</th>\n",
       "      <th>valid_loss</th>\n",
       "      <th>accuracy</th>\n",
       "      <th>time</th>\n",
       "    </tr>\n",
       "  </thead>\n",
       "  <tbody>\n",
       "    <tr>\n",
       "      <td>0</td>\n",
       "      <td>0.121261</td>\n",
       "      <td>0.119856</td>\n",
       "      <td>0.954878</td>\n",
       "      <td>06:35</td>\n",
       "    </tr>\n",
       "    <tr>\n",
       "      <td>1</td>\n",
       "      <td>0.101179</td>\n",
       "      <td>0.117085</td>\n",
       "      <td>0.953833</td>\n",
       "      <td>06:34</td>\n",
       "    </tr>\n",
       "    <tr>\n",
       "      <td>2</td>\n",
       "      <td>0.082559</td>\n",
       "      <td>0.092573</td>\n",
       "      <td>0.965114</td>\n",
       "      <td>06:36</td>\n",
       "    </tr>\n",
       "    <tr>\n",
       "      <td>3</td>\n",
       "      <td>0.072075</td>\n",
       "      <td>0.094215</td>\n",
       "      <td>0.964383</td>\n",
       "      <td>06:33</td>\n",
       "    </tr>\n",
       "  </tbody>\n",
       "</table>"
      ],
      "text/plain": [
       "<IPython.core.display.HTML object>"
      ]
     },
     "metadata": {},
     "output_type": "display_data"
    },
    {
     "data": {
      "application/javascript": [
       "\n",
       "            setTimeout(function() {\n",
       "                var nbb_cell_id = 14;\n",
       "                var nbb_unformatted_code = \"learn.fine_tune(4, 1e-2)\";\n",
       "                var nbb_formatted_code = \"learn.fine_tune(4, 1e-2)\";\n",
       "                var nbb_cells = Jupyter.notebook.get_cells();\n",
       "                for (var i = 0; i < nbb_cells.length; ++i) {\n",
       "                    if (nbb_cells[i].input_prompt_number == nbb_cell_id) {\n",
       "                        if (nbb_cells[i].get_text() == nbb_unformatted_code) {\n",
       "                             nbb_cells[i].set_text(nbb_formatted_code);\n",
       "                        }\n",
       "                        break;\n",
       "                    }\n",
       "                }\n",
       "            }, 500);\n",
       "            "
      ],
      "text/plain": [
       "<IPython.core.display.Javascript object>"
      ]
     },
     "metadata": {},
     "output_type": "display_data"
    }
   ],
   "source": [
    "learn.fine_tune(4, 1e-2)"
   ]
  },
  {
   "cell_type": "code",
   "execution_count": 15,
   "id": "a075c29e",
   "metadata": {
    "ExecuteTime": {
     "end_time": "2022-12-24T07:07:44.481731Z",
     "start_time": "2022-12-24T07:07:43.599270Z"
    }
   },
   "outputs": [
    {
     "data": {
      "text/html": [
       "\n",
       "<style>\n",
       "    /* Turns off some styling */\n",
       "    progress {\n",
       "        /* gets rid of default border in Firefox and Opera. */\n",
       "        border: none;\n",
       "        /* Needs to be in here for Safari polyfill so background images work as expected. */\n",
       "        background-size: auto;\n",
       "    }\n",
       "    progress:not([value]), progress:not([value])::-webkit-progress-bar {\n",
       "        background: repeating-linear-gradient(45deg, #7e7e7e, #7e7e7e 10px, #5c5c5c 10px, #5c5c5c 20px);\n",
       "    }\n",
       "    .progress-bar-interrupted, .progress-bar-interrupted::-webkit-progress-bar {\n",
       "        background: #F44336;\n",
       "    }\n",
       "</style>\n"
      ],
      "text/plain": [
       "<IPython.core.display.HTML object>"
      ]
     },
     "metadata": {},
     "output_type": "display_data"
    },
    {
     "data": {
      "text/html": [],
      "text/plain": [
       "<IPython.core.display.HTML object>"
      ]
     },
     "metadata": {},
     "output_type": "display_data"
    },
    {
     "data": {
      "text/html": [
       "<table border=\"1\" class=\"dataframe\">\n",
       "  <thead>\n",
       "    <tr style=\"text-align: right;\">\n",
       "      <th></th>\n",
       "      <th>text</th>\n",
       "      <th>category</th>\n",
       "      <th>category_</th>\n",
       "    </tr>\n",
       "  </thead>\n",
       "  <tbody>\n",
       "    <tr>\n",
       "      <th>0</th>\n",
       "      <td>xxbos xxup die xxup fag xxup die xxup fag xxup die xxup fag xxup die xxup fag xxup die xxup fag xxup die xxup fag xxup die xxup fag xxup die xxup fag xxup die xxup fag xxup die xxup fag xxup die xxup fag xxup die xxup fag xxup die xxup fag xxup die xxup fag xxup die xxup fag xxup die xxup fag xxup die xxup fag xxup die xxup fag xxup die xxup fag xxup die xxup fag xxup die xxup fag xxup die xxup fag xxup die xxup fag xxup die xxup fag xxup die xxup fag xxup die xxup fag xxup die xxup fag xxup die xxup fag xxup die xxup fag xxup die xxup fag xxup die xxup fag xxup die xxup fag xxup die xxup fag xxup die xxup fag xxup die xxup fag xxup die xxup fag xxup die xxup fag xxup</td>\n",
       "      <td>1</td>\n",
       "      <td>1</td>\n",
       "    </tr>\n",
       "    <tr>\n",
       "      <th>1</th>\n",
       "      <td>xxbos { { unblock| xxmaj oxymoron is a moron in an xxmaj oxymoron xxmaj oxymoron is a moron in an xxmaj oxymoron xxmaj oxymoron is a moron in an xxmaj oxymoron xxmaj oxymoron is a moron in an xxmaj oxymoron xxmaj oxymoron is a moron in an xxmaj oxymoron xxmaj oxymoron is a moron in an xxmaj oxymoron xxmaj oxymoron is a moron in an xxmaj oxymoron xxmaj oxymoron is a moron in an xxmaj oxymoron xxmaj oxymoron is a moron in an xxmaj oxymoron xxmaj oxymoron is a moron in an xxmaj oxymoron xxmaj oxymoron is a moron in an xxmaj oxymoron xxmaj oxymoron is a moron in an xxmaj oxymoron xxmaj oxymoron is a moron in an xxmaj oxymoron xxmaj oxymoron is a moron in an xxmaj oxymoron xxmaj oxymoron is a moron in an xxmaj oxymoron xxmaj oxymoron is a moron in an xxmaj oxymoron xxmaj oxymoron</td>\n",
       "      <td>1</td>\n",
       "      <td>0</td>\n",
       "    </tr>\n",
       "    <tr>\n",
       "      <th>2</th>\n",
       "      <td>xxbos \" \\n\\n xxmaj second tranche of comments \\n xxmaj managing career \\n \" \" the xxmaj browns released him \" \" - since it 's the first mention in the section , change \" \" him \" \" to \\n \" \" he managed to recover from his injury \" \" - changed to \\n \" \" a couple of seasons \" \" - how many is a couple ? xxmaj be specific . \\n \" \" for the xxmaj bridgeport , xxmaj connecticut club for the xxmaj eastern xxmaj league \" \" - would be more concise \\n \" \" june 27 , 1918 \" \" - comma after year \\n \" \" players in the xxmaj bronx \" \" - de - link , used barely half a screen earlier \\n \" \" and move back to baseball as a career \" \" - would be more</td>\n",
       "      <td>0</td>\n",
       "      <td>0</td>\n",
       "    </tr>\n",
       "    <tr>\n",
       "      <th>3</th>\n",
       "      <td>xxbos \" own books . xxmaj moreover , those books do n't appear to have any independent notability per xxup wp : n and xxup wp : v. nawlinwiki ( talk ) \" \" . xxmaj please respond in much more detailed and sensible argument and valid reasons to the two detailed replies to you , as to why you , with such hast and vigour , tagged for speedy deletion the article of the seven volumes of xxmaj triumph of xxmaj truth ( who s xxmaj watching xxmaj the xxmaj watchers ? ) . xxmaj please be kind enough to also provide your reply on your own talk page ( this page , http : / / en.wikipedia.org / w / xxunk ) and please also explain why , when i was editing the original article in the sandbox section , the drafts that i worked hard on ,</td>\n",
       "      <td>0</td>\n",
       "      <td>0</td>\n",
       "    </tr>\n",
       "    <tr>\n",
       "      <th>4</th>\n",
       "      <td>xxbos xxup you xxup are a xxup mothjer xxup fucker xxup cocksucker ! xxup you xxup are a xxup mothjer xxup fucker xxup xxunk xxup are a xxup mothjer xxup fucker xxup cocksucker ! xxup you xxup are a xxup mothjer xxup fucker xxup cocksucker ! xxup you xxup are a xxup mothjer xxup fucker xxup cocksucker ! xxup you xxup are a xxup mothjer xxup fucker xxup cocksucker ! xxup you xxup are a xxup mothjer xxup fucker xxup cocksucker ! xxup you xxup are a xxup mothjer xxup fucker xxup cocksucker ! xxup you xxup are a xxup mothjer xxup fucker xxup cocksucker ! xxup you xxup are a xxup mothjer xxup fucker xxup cocksucker ! xxup you xxup are a xxup mothjer xxup fucker xxup cocksucker ! xxup you xxup are a xxup mothjer xxup fucker xxup cocksucker ! xxup you xxup are a xxup mothjer xxup</td>\n",
       "      <td>1</td>\n",
       "      <td>1</td>\n",
       "    </tr>\n",
       "    <tr>\n",
       "      <th>5</th>\n",
       "      <td>xxbos \" \\n\\n▁ xxmaj neautrality and xxmaj balance . \\n\\n xxmaj article is strong anti - nop ( which is against of xxup npov ) . xxmaj it does n't fit any of xxmaj wikipedia 's xxup npov points . xxmaj step by step \\n\\n xxmaj views \\n xxmaj the manifesto of the xxmaj national xxmaj revival of xxmaj poland contains a sentence stating that \" \" jews will be removed from xxmaj poland , and their possessions will be confiscated , \" \" taken directly from xxmaj adolf xxmaj hitler 's xxmaj mein xxmaj xxunk ] \\n\\n http : / / xxrep 3 w xxunk / view / xxunk / - xxmaj article is strong anti - nop , warsaw voice is a left wing online service which xxunk itself as a \" \" neutral \" \" ( article about xxup nop is n't realy neutral ) . xxmaj</td>\n",
       "      <td>0</td>\n",
       "      <td>0</td>\n",
       "    </tr>\n",
       "    <tr>\n",
       "      <th>6</th>\n",
       "      <td>xxbos xxmaj suspected xxmaj sockpuppeteer xxmaj turns xxmaj out to xxmaj be a xxmaj xxunk \\n xxmaj shocking news break . xxmaj it turns out that the person who originally supplied the information in xxup ism is me ! a real \\n\\n person … . not a ' sock puppeteer . ' xxmaj there are no socks and no puppets . xxmaj just a real person who thought that a \\n\\n business was significant enough to warrant a pace on xxmaj wikipedia . xxmaj someone who actually understands the business he is \\n\\n in , unlike the editors , who have no experience in the field whatsoever . \\n\\n xxmaj it turns out- or so we can surmise , that there are lots of people who want to learn about this company . xxmaj oh no ! \\n\\n xxmaj this ca n't be ! xxmaj it 's a business …</td>\n",
       "      <td>0</td>\n",
       "      <td>0</td>\n",
       "    </tr>\n",
       "    <tr>\n",
       "      <th>7</th>\n",
       "      <td>xxbos \" perfectly okay for an encyclopedia . ) - xxmaj however xxmaj british subjects require xxmaj british spelling , etc . \\n i have removed the word \" \" amazing \" \" from the caption . \\n xxmaj i 'm not sure what the point is in complaining about xxmaj american spelling . xxmaj either way , one of us is going to have to adapt . xxmaj in this case , it 's our xxmaj british ( and xxmaj commonwealth ) cousins ; in other cases , it 's the xxmaj americans . xxmaj it 's not worth complaining about . \\n wikipedia : manual of xxmaj style says , \" \" the xxmaj english xxmaj wikipedia has no general preference for a major national variety of the language . xxmaj no variety is more correct than the others . xxmaj users are asked to take into account</td>\n",
       "      <td>0</td>\n",
       "      <td>0</td>\n",
       "    </tr>\n",
       "    <tr>\n",
       "      <th>8</th>\n",
       "      <td>xxbos \" \\n\\n▁ xxmaj unprotected \\n xxmaj i 'm going to edit based on my comments in talk : xxunk - semitism # xxunk - xxunk so could we discuss them now ? \\n\\n xxmaj all the incidents mentioned are regarded as examples of the new anti - semitism i.e. coming from the left , related to radical anti - zionism etc . ( talk ) \\n\\n xxmaj they may well be , but they are not sourced that way . \\n\\n i do n't think we can expect the words \" \" new anti - semitism \" \" to appear in every single report we reference . xxmaj we 've defined it , and we 've linked to many sources who are defining it . xxmaj the definition is : \\n\\n xxmaj it is a form of xxmaj xxunk that xxunk from the left . xxmaj it is characterized</td>\n",
       "      <td>0</td>\n",
       "      <td>0</td>\n",
       "    </tr>\n",
       "  </tbody>\n",
       "</table>"
      ],
      "text/plain": [
       "<IPython.core.display.HTML object>"
      ]
     },
     "metadata": {},
     "output_type": "display_data"
    },
    {
     "data": {
      "application/javascript": [
       "\n",
       "            setTimeout(function() {\n",
       "                var nbb_cell_id = 15;\n",
       "                var nbb_unformatted_code = \"learn.show_results()\";\n",
       "                var nbb_formatted_code = \"learn.show_results()\";\n",
       "                var nbb_cells = Jupyter.notebook.get_cells();\n",
       "                for (var i = 0; i < nbb_cells.length; ++i) {\n",
       "                    if (nbb_cells[i].input_prompt_number == nbb_cell_id) {\n",
       "                        if (nbb_cells[i].get_text() == nbb_unformatted_code) {\n",
       "                             nbb_cells[i].set_text(nbb_formatted_code);\n",
       "                        }\n",
       "                        break;\n",
       "                    }\n",
       "                }\n",
       "            }, 500);\n",
       "            "
      ],
      "text/plain": [
       "<IPython.core.display.Javascript object>"
      ]
     },
     "metadata": {},
     "output_type": "display_data"
    }
   ],
   "source": [
    "learn.show_results()"
   ]
  },
  {
   "cell_type": "code",
   "execution_count": 16,
   "id": "7cfed91e",
   "metadata": {
    "ExecuteTime": {
     "end_time": "2022-12-24T07:07:45.038802Z",
     "start_time": "2022-12-24T07:07:44.482972Z"
    }
   },
   "outputs": [
    {
     "data": {
      "text/plain": [
       "Path('models/toxic-baseline.pth')"
      ]
     },
     "execution_count": 16,
     "metadata": {},
     "output_type": "execute_result"
    },
    {
     "data": {
      "application/javascript": [
       "\n",
       "            setTimeout(function() {\n",
       "                var nbb_cell_id = 16;\n",
       "                var nbb_unformatted_code = \"learn.save(\\\"toxic-baseline\\\")\";\n",
       "                var nbb_formatted_code = \"learn.save(\\\"toxic-baseline\\\")\";\n",
       "                var nbb_cells = Jupyter.notebook.get_cells();\n",
       "                for (var i = 0; i < nbb_cells.length; ++i) {\n",
       "                    if (nbb_cells[i].input_prompt_number == nbb_cell_id) {\n",
       "                        if (nbb_cells[i].get_text() == nbb_unformatted_code) {\n",
       "                             nbb_cells[i].set_text(nbb_formatted_code);\n",
       "                        }\n",
       "                        break;\n",
       "                    }\n",
       "                }\n",
       "            }, 500);\n",
       "            "
      ],
      "text/plain": [
       "<IPython.core.display.Javascript object>"
      ]
     },
     "metadata": {},
     "output_type": "display_data"
    }
   ],
   "source": [
    "learn.save(\"toxic-baseline\")"
   ]
  },
  {
   "cell_type": "markdown",
   "id": "0630488b",
   "metadata": {},
   "source": [
    "# Validate"
   ]
  },
  {
   "cell_type": "code",
   "execution_count": 30,
   "id": "ad9007c2",
   "metadata": {
    "ExecuteTime": {
     "end_time": "2022-12-24T07:42:08.315379Z",
     "start_time": "2022-12-24T07:33:47.504673Z"
    }
   },
   "outputs": [
    {
     "data": {
      "application/vnd.jupyter.widget-view+json": {
       "model_id": "da48679d348142b7a795a7bb615c70ee",
       "version_major": 2,
       "version_minor": 0
      },
      "text/plain": [
       "  0%|          | 0/15958 [00:00<?, ?it/s]"
      ]
     },
     "metadata": {},
     "output_type": "display_data"
    },
    {
     "data": {
      "text/html": [
       "<div>\n",
       "<style scoped>\n",
       "    .dataframe tbody tr th:only-of-type {\n",
       "        vertical-align: middle;\n",
       "    }\n",
       "\n",
       "    .dataframe tbody tr th {\n",
       "        vertical-align: top;\n",
       "    }\n",
       "\n",
       "    .dataframe thead th {\n",
       "        text-align: right;\n",
       "    }\n",
       "</style>\n",
       "<table border=\"1\" class=\"dataframe\">\n",
       "  <thead>\n",
       "    <tr style=\"text-align: right;\">\n",
       "      <th></th>\n",
       "      <th>toxic</th>\n",
       "      <th>pred</th>\n",
       "    </tr>\n",
       "    <tr>\n",
       "      <th>id</th>\n",
       "      <th></th>\n",
       "      <th></th>\n",
       "    </tr>\n",
       "  </thead>\n",
       "  <tbody>\n",
       "    <tr>\n",
       "      <th>7ca72b5b9c688e9e</th>\n",
       "      <td>0</td>\n",
       "      <td>0</td>\n",
       "    </tr>\n",
       "    <tr>\n",
       "      <th>c03f72fd8f8bf54f</th>\n",
       "      <td>0</td>\n",
       "      <td>0</td>\n",
       "    </tr>\n",
       "    <tr>\n",
       "      <th>9e5b8e8fc1ff2e84</th>\n",
       "      <td>0</td>\n",
       "      <td>0</td>\n",
       "    </tr>\n",
       "    <tr>\n",
       "      <th>5332799e706665a6</th>\n",
       "      <td>0</td>\n",
       "      <td>0</td>\n",
       "    </tr>\n",
       "    <tr>\n",
       "      <th>dfa7d8f0b4366680</th>\n",
       "      <td>0</td>\n",
       "      <td>0</td>\n",
       "    </tr>\n",
       "    <tr>\n",
       "      <th>...</th>\n",
       "      <td>...</td>\n",
       "      <td>...</td>\n",
       "    </tr>\n",
       "    <tr>\n",
       "      <th>866d4e0825db6c28</th>\n",
       "      <td>0</td>\n",
       "      <td>0</td>\n",
       "    </tr>\n",
       "    <tr>\n",
       "      <th>9d9a990822eeb1cd</th>\n",
       "      <td>0</td>\n",
       "      <td>0</td>\n",
       "    </tr>\n",
       "    <tr>\n",
       "      <th>fc1fb5d80448447d</th>\n",
       "      <td>0</td>\n",
       "      <td>0</td>\n",
       "    </tr>\n",
       "    <tr>\n",
       "      <th>e04c671da88dcd35</th>\n",
       "      <td>0</td>\n",
       "      <td>0</td>\n",
       "    </tr>\n",
       "    <tr>\n",
       "      <th>2df58981a23b9eb0</th>\n",
       "      <td>1</td>\n",
       "      <td>1</td>\n",
       "    </tr>\n",
       "  </tbody>\n",
       "</table>\n",
       "<p>15958 rows × 2 columns</p>\n",
       "</div>"
      ],
      "text/plain": [
       "                  toxic  pred\n",
       "id                           \n",
       "7ca72b5b9c688e9e      0     0\n",
       "c03f72fd8f8bf54f      0     0\n",
       "9e5b8e8fc1ff2e84      0     0\n",
       "5332799e706665a6      0     0\n",
       "dfa7d8f0b4366680      0     0\n",
       "...                 ...   ...\n",
       "866d4e0825db6c28      0     0\n",
       "9d9a990822eeb1cd      0     0\n",
       "fc1fb5d80448447d      0     0\n",
       "e04c671da88dcd35      0     0\n",
       "2df58981a23b9eb0      1     1\n",
       "\n",
       "[15958 rows x 2 columns]"
      ]
     },
     "execution_count": 30,
     "metadata": {},
     "output_type": "execute_result"
    },
    {
     "data": {
      "application/javascript": [
       "\n",
       "            setTimeout(function() {\n",
       "                var nbb_cell_id = 30;\n",
       "                var nbb_unformatted_code = \"tqdm.pandas()\\n\\npreds = X_true[[\\\"toxic\\\"]].copy()\\n\\n# https://github.com/fastai/fastai/issues/3366#issuecomment-838523767\\nwith learn.no_bar(), learn.no_logging():\\n    preds[\\\"pred\\\"] = X_true[\\\"comment_text\\\"].progress_map(lambda x: int(learn.predict(x)[0]))\\n\\npreds\";\n",
       "                var nbb_formatted_code = \"tqdm.pandas()\\n\\npreds = X_true[[\\\"toxic\\\"]].copy()\\n\\n# https://github.com/fastai/fastai/issues/3366#issuecomment-838523767\\nwith learn.no_bar(), learn.no_logging():\\n    preds[\\\"pred\\\"] = X_true[\\\"comment_text\\\"].progress_map(\\n        lambda x: int(learn.predict(x)[0])\\n    )\\n\\npreds\";\n",
       "                var nbb_cells = Jupyter.notebook.get_cells();\n",
       "                for (var i = 0; i < nbb_cells.length; ++i) {\n",
       "                    if (nbb_cells[i].input_prompt_number == nbb_cell_id) {\n",
       "                        if (nbb_cells[i].get_text() == nbb_unformatted_code) {\n",
       "                             nbb_cells[i].set_text(nbb_formatted_code);\n",
       "                        }\n",
       "                        break;\n",
       "                    }\n",
       "                }\n",
       "            }, 500);\n",
       "            "
      ],
      "text/plain": [
       "<IPython.core.display.Javascript object>"
      ]
     },
     "metadata": {},
     "output_type": "display_data"
    }
   ],
   "source": [
    "tqdm.pandas()\n",
    "\n",
    "preds = X_true[[\"toxic\"]].copy()\n",
    "\n",
    "# https://github.com/fastai/fastai/issues/3366#issuecomment-838523767\n",
    "with learn.no_bar(), learn.no_logging():\n",
    "    preds[\"pred\"] = X_true[\"comment_text\"].progress_map(\n",
    "        lambda x: int(learn.predict(x)[0])\n",
    "    )\n",
    "\n",
    "preds"
   ]
  },
  {
   "cell_type": "code",
   "execution_count": 31,
   "id": "59b41977",
   "metadata": {
    "ExecuteTime": {
     "end_time": "2022-12-24T07:42:08.321966Z",
     "start_time": "2022-12-24T07:42:08.316636Z"
    }
   },
   "outputs": [
    {
     "data": {
      "text/plain": [
       "0.965659857124953"
      ]
     },
     "execution_count": 31,
     "metadata": {},
     "output_type": "execute_result"
    },
    {
     "data": {
      "application/javascript": [
       "\n",
       "            setTimeout(function() {\n",
       "                var nbb_cell_id = 31;\n",
       "                var nbb_unformatted_code = \"(preds[\\\"toxic\\\"] == preds[\\\"pred\\\"]).sum() / len(preds)\";\n",
       "                var nbb_formatted_code = \"(preds[\\\"toxic\\\"] == preds[\\\"pred\\\"]).sum() / len(preds)\";\n",
       "                var nbb_cells = Jupyter.notebook.get_cells();\n",
       "                for (var i = 0; i < nbb_cells.length; ++i) {\n",
       "                    if (nbb_cells[i].input_prompt_number == nbb_cell_id) {\n",
       "                        if (nbb_cells[i].get_text() == nbb_unformatted_code) {\n",
       "                             nbb_cells[i].set_text(nbb_formatted_code);\n",
       "                        }\n",
       "                        break;\n",
       "                    }\n",
       "                }\n",
       "            }, 500);\n",
       "            "
      ],
      "text/plain": [
       "<IPython.core.display.Javascript object>"
      ]
     },
     "metadata": {},
     "output_type": "display_data"
    }
   ],
   "source": [
    "(preds[\"toxic\"] == preds[\"pred\"]).sum() / len(preds)"
   ]
  },
  {
   "cell_type": "code",
   "execution_count": null,
   "id": "49ac6cff",
   "metadata": {},
   "outputs": [],
   "source": []
  },
  {
   "cell_type": "code",
   "execution_count": null,
   "id": "966efb56",
   "metadata": {},
   "outputs": [],
   "source": []
  },
  {
   "cell_type": "code",
   "execution_count": null,
   "id": "516e7672",
   "metadata": {},
   "outputs": [],
   "source": []
  },
  {
   "cell_type": "code",
   "execution_count": null,
   "id": "7b4d7a73",
   "metadata": {},
   "outputs": [],
   "source": []
  },
  {
   "cell_type": "code",
   "execution_count": null,
   "id": "a0279ec1",
   "metadata": {},
   "outputs": [],
   "source": []
  }
 ],
 "metadata": {
  "kernelspec": {
   "display_name": "Python 3 (ipykernel)",
   "language": "python",
   "name": "python3"
  },
  "language_info": {
   "codemirror_mode": {
    "name": "ipython",
    "version": 3
   },
   "file_extension": ".py",
   "mimetype": "text/x-python",
   "name": "python",
   "nbconvert_exporter": "python",
   "pygments_lexer": "ipython3",
   "version": "3.9.15"
  }
 },
 "nbformat": 4,
 "nbformat_minor": 5
}
