{
 "cells": [
  {
   "cell_type": "markdown",
   "id": "769eb637",
   "metadata": {},
   "source": [
    "# Toxic Comment Classification Challenge\n",
    "Identify and classify toxic online comments\n",
    "\n",
    "![Toxic Comments](https://storage.googleapis.com/kaggle-media/competitions/jigsaw/003-avatar.png)\n",
    "\n",
    "Discussing things you care about can be difficult. The threat of abuse and harassment online means that many people stop expressing themselves and give up on seeking different opinions. Platforms struggle to effectively facilitate conversations, leading many communities to limit or completely shut down user comments.\n",
    "\n",
    "The [Conversation AI](https://conversationai.github.io/) team, a research initiative founded by [Jigsaw](https://jigsaw.google.com/) and Google (both a part of Alphabet) are working on tools to help improve online conversation. One area of focus is the study of negative online behaviors, like toxic comments (i.e. comments that are rude, disrespectful or otherwise likely to make someone leave a discussion). So far they’ve built a range of publicly available models served through the [Perspective API](https://perspectiveapi.com/), including toxicity. But the current models still make errors, and they don’t allow users to select which types of toxicity they’re interested in finding (e.g. some platforms may be fine with profanity, but not with other types of toxic content).\n",
    "\n",
    "In this competition, you’re challenged to build a multi-headed model that’s capable of detecting different types of of toxicity like threats, obscenity, insults, and identity-based hate better than Perspective’s [current models](https://github.com/conversationai/unintended-ml-bias-analysis). You’ll be using a dataset of comments from Wikipedia’s talk page edits. Improvements to the current model will hopefully help online discussion become more productive and respectful.\n",
    "\n",
    "_Disclaimer: the dataset for this competition contains text that may be considered profane, vulgar, or offensive._\n",
    "\n",
    "Dataset Description\n",
    "-------------------\n",
    "\n",
    "You are provided with a large number of Wikipedia comments which have been labeled by human raters for toxic behavior. The types of toxicity are:\n",
    "\n",
    "*   `toxic`\n",
    "*   `severe_toxic`\n",
    "*   `obscene`\n",
    "*   `threat`\n",
    "*   `insult`\n",
    "*   `identity_hate`\n",
    "\n",
    "You must create a model which predicts a probability of each type of toxicity for each comment.\n",
    "\n",
    "File descriptions\n",
    "-----------------\n",
    "\n",
    "*   **train.csv** - the training set, contains comments with their binary labels\n",
    "*   **test.csv** - the test set, you must predict the toxicity probabilities for these comments. To deter hand labeling, the test set contains some comments which are not included in scoring.\n",
    "*   **sample\\_submission.csv** - a sample submission file in the correct format\n",
    "*   **test\\_labels.csv** - labels for the test data; value of `-1` indicates it was not used for scoring; (**Note:** file added after competition close!)\n",
    "\n",
    "Usage\n",
    "-----\n",
    "\n",
    "The dataset under [CC0](https://creativecommons.org/share-your-work/public-domain/cc0/), with the underlying comment text being governed by [Wikipedia's CC-SA-3.0](https://creativecommons.org/licenses/by-sa/3.0/)\n",
    "\n",
    "Link: https://www.kaggle.com/competitions/jigsaw-toxic-comment-classification-challenge"
   ]
  },
  {
   "cell_type": "code",
   "execution_count": 1,
   "id": "aa6c7a10",
   "metadata": {
    "ExecuteTime": {
     "end_time": "2022-12-25T16:20:43.539674Z",
     "start_time": "2022-12-25T16:20:42.211400Z"
    }
   },
   "outputs": [],
   "source": [
    "import pandas as pd\n",
    "import numpy as np\n",
    "from fastai.text.all import *\n",
    "from tqdm.notebook import tqdm\n",
    "from sklearn.model_selection import train_test_split"
   ]
  },
  {
   "cell_type": "code",
   "execution_count": 2,
   "id": "afe0a37d",
   "metadata": {
    "ExecuteTime": {
     "end_time": "2022-12-25T16:20:43.587665Z",
     "start_time": "2022-12-25T16:20:43.541057Z"
    }
   },
   "outputs": [
    {
     "data": {
      "application/javascript": [
       "\n",
       "            setTimeout(function() {\n",
       "                var nbb_cell_id = 2;\n",
       "                var nbb_unformatted_code = \"%load_ext nb_black\";\n",
       "                var nbb_formatted_code = \"%load_ext nb_black\";\n",
       "                var nbb_cells = Jupyter.notebook.get_cells();\n",
       "                for (var i = 0; i < nbb_cells.length; ++i) {\n",
       "                    if (nbb_cells[i].input_prompt_number == nbb_cell_id) {\n",
       "                        if (nbb_cells[i].get_text() == nbb_unformatted_code) {\n",
       "                             nbb_cells[i].set_text(nbb_formatted_code);\n",
       "                        }\n",
       "                        break;\n",
       "                    }\n",
       "                }\n",
       "            }, 500);\n",
       "            "
      ],
      "text/plain": [
       "<IPython.core.display.Javascript object>"
      ]
     },
     "metadata": {},
     "output_type": "display_data"
    }
   ],
   "source": [
    "%load_ext nb_black"
   ]
  },
  {
   "cell_type": "code",
   "execution_count": 3,
   "id": "77b436cd",
   "metadata": {
    "ExecuteTime": {
     "end_time": "2022-12-25T16:20:43.677765Z",
     "start_time": "2022-12-25T16:20:43.588908Z"
    }
   },
   "outputs": [
    {
     "data": {
      "text/html": [
       "<div>\n",
       "<style scoped>\n",
       "    .dataframe tbody tr th:only-of-type {\n",
       "        vertical-align: middle;\n",
       "    }\n",
       "\n",
       "    .dataframe tbody tr th {\n",
       "        vertical-align: top;\n",
       "    }\n",
       "\n",
       "    .dataframe thead th {\n",
       "        text-align: right;\n",
       "    }\n",
       "</style>\n",
       "<table border=\"1\" class=\"dataframe\">\n",
       "  <thead>\n",
       "    <tr style=\"text-align: right;\">\n",
       "      <th></th>\n",
       "      <th>toxic</th>\n",
       "      <th>severe_toxic</th>\n",
       "      <th>obscene</th>\n",
       "      <th>threat</th>\n",
       "      <th>insult</th>\n",
       "      <th>identity_hate</th>\n",
       "    </tr>\n",
       "    <tr>\n",
       "      <th>id</th>\n",
       "      <th></th>\n",
       "      <th></th>\n",
       "      <th></th>\n",
       "      <th></th>\n",
       "      <th></th>\n",
       "      <th></th>\n",
       "    </tr>\n",
       "  </thead>\n",
       "  <tbody>\n",
       "    <tr>\n",
       "      <th>00001cee341fdb12</th>\n",
       "      <td>0.5</td>\n",
       "      <td>0.5</td>\n",
       "      <td>0.5</td>\n",
       "      <td>0.5</td>\n",
       "      <td>0.5</td>\n",
       "      <td>0.5</td>\n",
       "    </tr>\n",
       "    <tr>\n",
       "      <th>0000247867823ef7</th>\n",
       "      <td>0.5</td>\n",
       "      <td>0.5</td>\n",
       "      <td>0.5</td>\n",
       "      <td>0.5</td>\n",
       "      <td>0.5</td>\n",
       "      <td>0.5</td>\n",
       "    </tr>\n",
       "    <tr>\n",
       "      <th>00013b17ad220c46</th>\n",
       "      <td>0.5</td>\n",
       "      <td>0.5</td>\n",
       "      <td>0.5</td>\n",
       "      <td>0.5</td>\n",
       "      <td>0.5</td>\n",
       "      <td>0.5</td>\n",
       "    </tr>\n",
       "    <tr>\n",
       "      <th>00017563c3f7919a</th>\n",
       "      <td>0.5</td>\n",
       "      <td>0.5</td>\n",
       "      <td>0.5</td>\n",
       "      <td>0.5</td>\n",
       "      <td>0.5</td>\n",
       "      <td>0.5</td>\n",
       "    </tr>\n",
       "    <tr>\n",
       "      <th>00017695ad8997eb</th>\n",
       "      <td>0.5</td>\n",
       "      <td>0.5</td>\n",
       "      <td>0.5</td>\n",
       "      <td>0.5</td>\n",
       "      <td>0.5</td>\n",
       "      <td>0.5</td>\n",
       "    </tr>\n",
       "    <tr>\n",
       "      <th>...</th>\n",
       "      <td>...</td>\n",
       "      <td>...</td>\n",
       "      <td>...</td>\n",
       "      <td>...</td>\n",
       "      <td>...</td>\n",
       "      <td>...</td>\n",
       "    </tr>\n",
       "    <tr>\n",
       "      <th>fffcd0960ee309b5</th>\n",
       "      <td>0.5</td>\n",
       "      <td>0.5</td>\n",
       "      <td>0.5</td>\n",
       "      <td>0.5</td>\n",
       "      <td>0.5</td>\n",
       "      <td>0.5</td>\n",
       "    </tr>\n",
       "    <tr>\n",
       "      <th>fffd7a9a6eb32c16</th>\n",
       "      <td>0.5</td>\n",
       "      <td>0.5</td>\n",
       "      <td>0.5</td>\n",
       "      <td>0.5</td>\n",
       "      <td>0.5</td>\n",
       "      <td>0.5</td>\n",
       "    </tr>\n",
       "    <tr>\n",
       "      <th>fffda9e8d6fafa9e</th>\n",
       "      <td>0.5</td>\n",
       "      <td>0.5</td>\n",
       "      <td>0.5</td>\n",
       "      <td>0.5</td>\n",
       "      <td>0.5</td>\n",
       "      <td>0.5</td>\n",
       "    </tr>\n",
       "    <tr>\n",
       "      <th>fffe8f1340a79fc2</th>\n",
       "      <td>0.5</td>\n",
       "      <td>0.5</td>\n",
       "      <td>0.5</td>\n",
       "      <td>0.5</td>\n",
       "      <td>0.5</td>\n",
       "      <td>0.5</td>\n",
       "    </tr>\n",
       "    <tr>\n",
       "      <th>ffffce3fb183ee80</th>\n",
       "      <td>0.5</td>\n",
       "      <td>0.5</td>\n",
       "      <td>0.5</td>\n",
       "      <td>0.5</td>\n",
       "      <td>0.5</td>\n",
       "      <td>0.5</td>\n",
       "    </tr>\n",
       "  </tbody>\n",
       "</table>\n",
       "<p>153164 rows × 6 columns</p>\n",
       "</div>"
      ],
      "text/plain": [
       "                  toxic  severe_toxic  obscene  threat  insult  identity_hate\n",
       "id                                                                           \n",
       "00001cee341fdb12    0.5           0.5      0.5     0.5     0.5            0.5\n",
       "0000247867823ef7    0.5           0.5      0.5     0.5     0.5            0.5\n",
       "00013b17ad220c46    0.5           0.5      0.5     0.5     0.5            0.5\n",
       "00017563c3f7919a    0.5           0.5      0.5     0.5     0.5            0.5\n",
       "00017695ad8997eb    0.5           0.5      0.5     0.5     0.5            0.5\n",
       "...                 ...           ...      ...     ...     ...            ...\n",
       "fffcd0960ee309b5    0.5           0.5      0.5     0.5     0.5            0.5\n",
       "fffd7a9a6eb32c16    0.5           0.5      0.5     0.5     0.5            0.5\n",
       "fffda9e8d6fafa9e    0.5           0.5      0.5     0.5     0.5            0.5\n",
       "fffe8f1340a79fc2    0.5           0.5      0.5     0.5     0.5            0.5\n",
       "ffffce3fb183ee80    0.5           0.5      0.5     0.5     0.5            0.5\n",
       "\n",
       "[153164 rows x 6 columns]"
      ]
     },
     "execution_count": 3,
     "metadata": {},
     "output_type": "execute_result"
    },
    {
     "data": {
      "application/javascript": [
       "\n",
       "            setTimeout(function() {\n",
       "                var nbb_cell_id = 3;\n",
       "                var nbb_unformatted_code = \"sample_submission_df = pd.read_csv(\\n    \\\"../../data/jigsaw-toxic-comment-classification-challenge/sample_submission.csv\\\"\\n).set_index(\\\"id\\\")\\nsample_submission_df\";\n",
       "                var nbb_formatted_code = \"sample_submission_df = pd.read_csv(\\n    \\\"../../data/jigsaw-toxic-comment-classification-challenge/sample_submission.csv\\\"\\n).set_index(\\\"id\\\")\\nsample_submission_df\";\n",
       "                var nbb_cells = Jupyter.notebook.get_cells();\n",
       "                for (var i = 0; i < nbb_cells.length; ++i) {\n",
       "                    if (nbb_cells[i].input_prompt_number == nbb_cell_id) {\n",
       "                        if (nbb_cells[i].get_text() == nbb_unformatted_code) {\n",
       "                             nbb_cells[i].set_text(nbb_formatted_code);\n",
       "                        }\n",
       "                        break;\n",
       "                    }\n",
       "                }\n",
       "            }, 500);\n",
       "            "
      ],
      "text/plain": [
       "<IPython.core.display.Javascript object>"
      ]
     },
     "metadata": {},
     "output_type": "display_data"
    }
   ],
   "source": [
    "sample_submission_df = pd.read_csv(\n",
    "    \"../../data/jigsaw-toxic-comment-classification-challenge/sample_submission.csv\"\n",
    ").set_index(\"id\")\n",
    "sample_submission_df"
   ]
  },
  {
   "cell_type": "code",
   "execution_count": 4,
   "id": "8109bfde",
   "metadata": {
    "ExecuteTime": {
     "end_time": "2022-12-25T16:20:44.182826Z",
     "start_time": "2022-12-25T16:20:43.679159Z"
    }
   },
   "outputs": [
    {
     "data": {
      "text/html": [
       "<div>\n",
       "<style scoped>\n",
       "    .dataframe tbody tr th:only-of-type {\n",
       "        vertical-align: middle;\n",
       "    }\n",
       "\n",
       "    .dataframe tbody tr th {\n",
       "        vertical-align: top;\n",
       "    }\n",
       "\n",
       "    .dataframe thead th {\n",
       "        text-align: right;\n",
       "    }\n",
       "</style>\n",
       "<table border=\"1\" class=\"dataframe\">\n",
       "  <thead>\n",
       "    <tr style=\"text-align: right;\">\n",
       "      <th></th>\n",
       "      <th>comment_text</th>\n",
       "    </tr>\n",
       "    <tr>\n",
       "      <th>id</th>\n",
       "      <th></th>\n",
       "    </tr>\n",
       "  </thead>\n",
       "  <tbody>\n",
       "    <tr>\n",
       "      <th>00001cee341fdb12</th>\n",
       "      <td>Yo bitch Ja Rule is more succesful then you'll ever be whats up with you and hating you sad mofuckas...i should bitch slap ur pethedic white faces and get you to kiss my ass you guys sicken me. Ja rule is about pride in da music man. dont diss that shit on him. and nothin is wrong bein like tupac he was a brother too...fuckin white boys get things right next time.,</td>\n",
       "    </tr>\n",
       "    <tr>\n",
       "      <th>0000247867823ef7</th>\n",
       "      <td>== From RfC == \\n\\n The title is fine as it is, IMO.</td>\n",
       "    </tr>\n",
       "    <tr>\n",
       "      <th>00013b17ad220c46</th>\n",
       "      <td>\" \\n\\n == Sources == \\n\\n * Zawe Ashton on Lapland —  /  \"</td>\n",
       "    </tr>\n",
       "    <tr>\n",
       "      <th>00017563c3f7919a</th>\n",
       "      <td>:If you have a look back at the source, the information I updated was the correct form. I can only guess the source hadn't updated. I shall update the information once again but thank you for your message.</td>\n",
       "    </tr>\n",
       "    <tr>\n",
       "      <th>00017695ad8997eb</th>\n",
       "      <td>I don't anonymously edit articles at all.</td>\n",
       "    </tr>\n",
       "    <tr>\n",
       "      <th>...</th>\n",
       "      <td>...</td>\n",
       "    </tr>\n",
       "    <tr>\n",
       "      <th>fffcd0960ee309b5</th>\n",
       "      <td>. \\n i totally agree, this stuff is nothing but too-long-crap</td>\n",
       "    </tr>\n",
       "    <tr>\n",
       "      <th>fffd7a9a6eb32c16</th>\n",
       "      <td>== Throw from out field to home plate. == \\n\\n Does it get there faster by throwing to cut off man or direct from out fielder? \\n Were the out fielders in the Mickey mantle era have better arms? \\n Rich</td>\n",
       "    </tr>\n",
       "    <tr>\n",
       "      <th>fffda9e8d6fafa9e</th>\n",
       "      <td>\" \\n\\n == Okinotorishima categories == \\n\\n I see your changes and agree this is \"\"more correct.\"\"  I had gotten confused, but then found this: \\n :... while acknowledging Japan's territorial rights to Okinotorishima itself ... \\n However, is there a category for  \\n :... did not acknowledge Japan's claim to an exclusive economic zone (EEZ) stemming from Okinotorishima. \\n That is, is there a category for \"\"disputed EEZ\"\"s?   \"</td>\n",
       "    </tr>\n",
       "    <tr>\n",
       "      <th>fffe8f1340a79fc2</th>\n",
       "      <td>\" \\n\\n == \"\"One of the founding nations of the EU - Germany - has a Law of Return quite similar to Israel's\"\" == \\n\\n This isn't actually true, is it? Germany allows people whose ancestors were citizens of Germany to return, but AFAIK it does not allow the descendants of Anglo-Saxons to \"\"return\"\" to Angeln and Saxony. Israel, by contrast, allows all Jews to \"\"return\"\" to Israel, even if they can't trace a particular ancestral line to anyone who lived in the modern state or even mandate Palestine. — \"</td>\n",
       "    </tr>\n",
       "    <tr>\n",
       "      <th>ffffce3fb183ee80</th>\n",
       "      <td>\" \\n :::Stop already. Your bullshit is not welcome here. I'm no fool, and if you think that kind of explination is enough, well pity you.    \"</td>\n",
       "    </tr>\n",
       "  </tbody>\n",
       "</table>\n",
       "<p>153164 rows × 1 columns</p>\n",
       "</div>"
      ],
      "text/plain": [
       "                                                                                                                                                                                                                                                                                                                                                                                                                                                                                                                                comment_text\n",
       "id                                                                                                                                                                                                                                                                                                                                                                                                                                                                                                                                          \n",
       "00001cee341fdb12                                                                                                                                             Yo bitch Ja Rule is more succesful then you'll ever be whats up with you and hating you sad mofuckas...i should bitch slap ur pethedic white faces and get you to kiss my ass you guys sicken me. Ja rule is about pride in da music man. dont diss that shit on him. and nothin is wrong bein like tupac he was a brother too...fuckin white boys get things right next time.,\n",
       "0000247867823ef7                                                                                                                                                                                                                                                                                                                                                                                                                                                                        == From RfC == \\n\\n The title is fine as it is, IMO.\n",
       "00013b17ad220c46                                                                                                                                                                                                                                                                                                                                                                                                                                                                  \" \\n\\n == Sources == \\n\\n * Zawe Ashton on Lapland —  /  \"\n",
       "00017563c3f7919a                                                                                                                                                                                                                                                                                                               :If you have a look back at the source, the information I updated was the correct form. I can only guess the source hadn't updated. I shall update the information once again but thank you for your message.\n",
       "00017695ad8997eb                                                                                                                                                                                                                                                                                                                                                                                                                                                                                   I don't anonymously edit articles at all.\n",
       "...                                                                                                                                                                                                                                                                                                                                                                                                                                                                                                                                      ...\n",
       "fffcd0960ee309b5                                                                                                                                                                                                                                                                                                                                                                                                                                                               . \\n i totally agree, this stuff is nothing but too-long-crap\n",
       "fffd7a9a6eb32c16                                                                                                                                                                                                                                                                                                                  == Throw from out field to home plate. == \\n\\n Does it get there faster by throwing to cut off man or direct from out fielder? \\n Were the out fielders in the Mickey mantle era have better arms? \\n Rich\n",
       "fffda9e8d6fafa9e                                                                             \" \\n\\n == Okinotorishima categories == \\n\\n I see your changes and agree this is \"\"more correct.\"\"  I had gotten confused, but then found this: \\n :... while acknowledging Japan's territorial rights to Okinotorishima itself ... \\n However, is there a category for  \\n :... did not acknowledge Japan's claim to an exclusive economic zone (EEZ) stemming from Okinotorishima. \\n That is, is there a category for \"\"disputed EEZ\"\"s?   \"\n",
       "fffe8f1340a79fc2  \" \\n\\n == \"\"One of the founding nations of the EU - Germany - has a Law of Return quite similar to Israel's\"\" == \\n\\n This isn't actually true, is it? Germany allows people whose ancestors were citizens of Germany to return, but AFAIK it does not allow the descendants of Anglo-Saxons to \"\"return\"\" to Angeln and Saxony. Israel, by contrast, allows all Jews to \"\"return\"\" to Israel, even if they can't trace a particular ancestral line to anyone who lived in the modern state or even mandate Palestine. — \"\n",
       "ffffce3fb183ee80                                                                                                                                                                                                                                                                                                                                                                              \" \\n :::Stop already. Your bullshit is not welcome here. I'm no fool, and if you think that kind of explination is enough, well pity you.    \"\n",
       "\n",
       "[153164 rows x 1 columns]"
      ]
     },
     "execution_count": 4,
     "metadata": {},
     "output_type": "execute_result"
    },
    {
     "data": {
      "application/javascript": [
       "\n",
       "            setTimeout(function() {\n",
       "                var nbb_cell_id = 4;\n",
       "                var nbb_unformatted_code = \"test_df = pd.read_csv(\\n    \\\"../../data/jigsaw-toxic-comment-classification-challenge/test.csv\\\"\\n).set_index(\\\"id\\\")\\ntest_df\";\n",
       "                var nbb_formatted_code = \"test_df = pd.read_csv(\\n    \\\"../../data/jigsaw-toxic-comment-classification-challenge/test.csv\\\"\\n).set_index(\\\"id\\\")\\ntest_df\";\n",
       "                var nbb_cells = Jupyter.notebook.get_cells();\n",
       "                for (var i = 0; i < nbb_cells.length; ++i) {\n",
       "                    if (nbb_cells[i].input_prompt_number == nbb_cell_id) {\n",
       "                        if (nbb_cells[i].get_text() == nbb_unformatted_code) {\n",
       "                             nbb_cells[i].set_text(nbb_formatted_code);\n",
       "                        }\n",
       "                        break;\n",
       "                    }\n",
       "                }\n",
       "            }, 500);\n",
       "            "
      ],
      "text/plain": [
       "<IPython.core.display.Javascript object>"
      ]
     },
     "metadata": {},
     "output_type": "display_data"
    }
   ],
   "source": [
    "test_df = pd.read_csv(\n",
    "    \"../../data/jigsaw-toxic-comment-classification-challenge/test.csv\"\n",
    ").set_index(\"id\")\n",
    "test_df"
   ]
  },
  {
   "cell_type": "code",
   "execution_count": 5,
   "id": "70ddb700",
   "metadata": {
    "ExecuteTime": {
     "end_time": "2022-12-25T16:20:44.266632Z",
     "start_time": "2022-12-25T16:20:44.183988Z"
    }
   },
   "outputs": [
    {
     "data": {
      "text/html": [
       "<div>\n",
       "<style scoped>\n",
       "    .dataframe tbody tr th:only-of-type {\n",
       "        vertical-align: middle;\n",
       "    }\n",
       "\n",
       "    .dataframe tbody tr th {\n",
       "        vertical-align: top;\n",
       "    }\n",
       "\n",
       "    .dataframe thead th {\n",
       "        text-align: right;\n",
       "    }\n",
       "</style>\n",
       "<table border=\"1\" class=\"dataframe\">\n",
       "  <thead>\n",
       "    <tr style=\"text-align: right;\">\n",
       "      <th></th>\n",
       "      <th>toxic</th>\n",
       "      <th>severe_toxic</th>\n",
       "      <th>obscene</th>\n",
       "      <th>threat</th>\n",
       "      <th>insult</th>\n",
       "      <th>identity_hate</th>\n",
       "    </tr>\n",
       "    <tr>\n",
       "      <th>id</th>\n",
       "      <th></th>\n",
       "      <th></th>\n",
       "      <th></th>\n",
       "      <th></th>\n",
       "      <th></th>\n",
       "      <th></th>\n",
       "    </tr>\n",
       "  </thead>\n",
       "  <tbody>\n",
       "    <tr>\n",
       "      <th>00001cee341fdb12</th>\n",
       "      <td>-1</td>\n",
       "      <td>-1</td>\n",
       "      <td>-1</td>\n",
       "      <td>-1</td>\n",
       "      <td>-1</td>\n",
       "      <td>-1</td>\n",
       "    </tr>\n",
       "    <tr>\n",
       "      <th>0000247867823ef7</th>\n",
       "      <td>-1</td>\n",
       "      <td>-1</td>\n",
       "      <td>-1</td>\n",
       "      <td>-1</td>\n",
       "      <td>-1</td>\n",
       "      <td>-1</td>\n",
       "    </tr>\n",
       "    <tr>\n",
       "      <th>00013b17ad220c46</th>\n",
       "      <td>-1</td>\n",
       "      <td>-1</td>\n",
       "      <td>-1</td>\n",
       "      <td>-1</td>\n",
       "      <td>-1</td>\n",
       "      <td>-1</td>\n",
       "    </tr>\n",
       "    <tr>\n",
       "      <th>00017563c3f7919a</th>\n",
       "      <td>-1</td>\n",
       "      <td>-1</td>\n",
       "      <td>-1</td>\n",
       "      <td>-1</td>\n",
       "      <td>-1</td>\n",
       "      <td>-1</td>\n",
       "    </tr>\n",
       "    <tr>\n",
       "      <th>00017695ad8997eb</th>\n",
       "      <td>-1</td>\n",
       "      <td>-1</td>\n",
       "      <td>-1</td>\n",
       "      <td>-1</td>\n",
       "      <td>-1</td>\n",
       "      <td>-1</td>\n",
       "    </tr>\n",
       "    <tr>\n",
       "      <th>...</th>\n",
       "      <td>...</td>\n",
       "      <td>...</td>\n",
       "      <td>...</td>\n",
       "      <td>...</td>\n",
       "      <td>...</td>\n",
       "      <td>...</td>\n",
       "    </tr>\n",
       "    <tr>\n",
       "      <th>fffcd0960ee309b5</th>\n",
       "      <td>-1</td>\n",
       "      <td>-1</td>\n",
       "      <td>-1</td>\n",
       "      <td>-1</td>\n",
       "      <td>-1</td>\n",
       "      <td>-1</td>\n",
       "    </tr>\n",
       "    <tr>\n",
       "      <th>fffd7a9a6eb32c16</th>\n",
       "      <td>-1</td>\n",
       "      <td>-1</td>\n",
       "      <td>-1</td>\n",
       "      <td>-1</td>\n",
       "      <td>-1</td>\n",
       "      <td>-1</td>\n",
       "    </tr>\n",
       "    <tr>\n",
       "      <th>fffda9e8d6fafa9e</th>\n",
       "      <td>-1</td>\n",
       "      <td>-1</td>\n",
       "      <td>-1</td>\n",
       "      <td>-1</td>\n",
       "      <td>-1</td>\n",
       "      <td>-1</td>\n",
       "    </tr>\n",
       "    <tr>\n",
       "      <th>fffe8f1340a79fc2</th>\n",
       "      <td>-1</td>\n",
       "      <td>-1</td>\n",
       "      <td>-1</td>\n",
       "      <td>-1</td>\n",
       "      <td>-1</td>\n",
       "      <td>-1</td>\n",
       "    </tr>\n",
       "    <tr>\n",
       "      <th>ffffce3fb183ee80</th>\n",
       "      <td>-1</td>\n",
       "      <td>-1</td>\n",
       "      <td>-1</td>\n",
       "      <td>-1</td>\n",
       "      <td>-1</td>\n",
       "      <td>-1</td>\n",
       "    </tr>\n",
       "  </tbody>\n",
       "</table>\n",
       "<p>153164 rows × 6 columns</p>\n",
       "</div>"
      ],
      "text/plain": [
       "                  toxic  severe_toxic  obscene  threat  insult  identity_hate\n",
       "id                                                                           \n",
       "00001cee341fdb12     -1            -1       -1      -1      -1             -1\n",
       "0000247867823ef7     -1            -1       -1      -1      -1             -1\n",
       "00013b17ad220c46     -1            -1       -1      -1      -1             -1\n",
       "00017563c3f7919a     -1            -1       -1      -1      -1             -1\n",
       "00017695ad8997eb     -1            -1       -1      -1      -1             -1\n",
       "...                 ...           ...      ...     ...     ...            ...\n",
       "fffcd0960ee309b5     -1            -1       -1      -1      -1             -1\n",
       "fffd7a9a6eb32c16     -1            -1       -1      -1      -1             -1\n",
       "fffda9e8d6fafa9e     -1            -1       -1      -1      -1             -1\n",
       "fffe8f1340a79fc2     -1            -1       -1      -1      -1             -1\n",
       "ffffce3fb183ee80     -1            -1       -1      -1      -1             -1\n",
       "\n",
       "[153164 rows x 6 columns]"
      ]
     },
     "execution_count": 5,
     "metadata": {},
     "output_type": "execute_result"
    },
    {
     "data": {
      "application/javascript": [
       "\n",
       "            setTimeout(function() {\n",
       "                var nbb_cell_id = 5;\n",
       "                var nbb_unformatted_code = \"test_labels_df = pd.read_csv(\\n    \\\"../../data/jigsaw-toxic-comment-classification-challenge/test_labels.csv\\\"\\n).set_index(\\\"id\\\")\\ntest_labels_df\";\n",
       "                var nbb_formatted_code = \"test_labels_df = pd.read_csv(\\n    \\\"../../data/jigsaw-toxic-comment-classification-challenge/test_labels.csv\\\"\\n).set_index(\\\"id\\\")\\ntest_labels_df\";\n",
       "                var nbb_cells = Jupyter.notebook.get_cells();\n",
       "                for (var i = 0; i < nbb_cells.length; ++i) {\n",
       "                    if (nbb_cells[i].input_prompt_number == nbb_cell_id) {\n",
       "                        if (nbb_cells[i].get_text() == nbb_unformatted_code) {\n",
       "                             nbb_cells[i].set_text(nbb_formatted_code);\n",
       "                        }\n",
       "                        break;\n",
       "                    }\n",
       "                }\n",
       "            }, 500);\n",
       "            "
      ],
      "text/plain": [
       "<IPython.core.display.Javascript object>"
      ]
     },
     "metadata": {},
     "output_type": "display_data"
    }
   ],
   "source": [
    "test_labels_df = pd.read_csv(\n",
    "    \"../../data/jigsaw-toxic-comment-classification-challenge/test_labels.csv\"\n",
    ").set_index(\"id\")\n",
    "test_labels_df"
   ]
  },
  {
   "cell_type": "code",
   "execution_count": 6,
   "id": "a339caa1",
   "metadata": {
    "ExecuteTime": {
     "end_time": "2022-12-25T16:20:44.833531Z",
     "start_time": "2022-12-25T16:20:44.267759Z"
    }
   },
   "outputs": [
    {
     "data": {
      "text/html": [
       "<div>\n",
       "<style scoped>\n",
       "    .dataframe tbody tr th:only-of-type {\n",
       "        vertical-align: middle;\n",
       "    }\n",
       "\n",
       "    .dataframe tbody tr th {\n",
       "        vertical-align: top;\n",
       "    }\n",
       "\n",
       "    .dataframe thead th {\n",
       "        text-align: right;\n",
       "    }\n",
       "</style>\n",
       "<table border=\"1\" class=\"dataframe\">\n",
       "  <thead>\n",
       "    <tr style=\"text-align: right;\">\n",
       "      <th></th>\n",
       "      <th>comment_text</th>\n",
       "      <th>toxic</th>\n",
       "      <th>severe_toxic</th>\n",
       "      <th>obscene</th>\n",
       "      <th>threat</th>\n",
       "      <th>insult</th>\n",
       "      <th>identity_hate</th>\n",
       "    </tr>\n",
       "    <tr>\n",
       "      <th>id</th>\n",
       "      <th></th>\n",
       "      <th></th>\n",
       "      <th></th>\n",
       "      <th></th>\n",
       "      <th></th>\n",
       "      <th></th>\n",
       "      <th></th>\n",
       "    </tr>\n",
       "  </thead>\n",
       "  <tbody>\n",
       "    <tr>\n",
       "      <th>0000997932d777bf</th>\n",
       "      <td>Explanation\\nWhy the edits made under my username Hardcore Metallica Fan were reverted? They weren't vandalisms, just closure on some GAs after I voted at New York Dolls FAC. And please don't remove the template from the talk page since I'm retired now.89.205.38.27</td>\n",
       "      <td>0</td>\n",
       "      <td>0</td>\n",
       "      <td>0</td>\n",
       "      <td>0</td>\n",
       "      <td>0</td>\n",
       "      <td>0</td>\n",
       "    </tr>\n",
       "    <tr>\n",
       "      <th>000103f0d9cfb60f</th>\n",
       "      <td>D'aww! He matches this background colour I'm seemingly stuck with. Thanks.  (talk) 21:51, January 11, 2016 (UTC)</td>\n",
       "      <td>0</td>\n",
       "      <td>0</td>\n",
       "      <td>0</td>\n",
       "      <td>0</td>\n",
       "      <td>0</td>\n",
       "      <td>0</td>\n",
       "    </tr>\n",
       "    <tr>\n",
       "      <th>000113f07ec002fd</th>\n",
       "      <td>Hey man, I'm really not trying to edit war. It's just that this guy is constantly removing relevant information and talking to me through edits instead of my talk page. He seems to care more about the formatting than the actual info.</td>\n",
       "      <td>0</td>\n",
       "      <td>0</td>\n",
       "      <td>0</td>\n",
       "      <td>0</td>\n",
       "      <td>0</td>\n",
       "      <td>0</td>\n",
       "    </tr>\n",
       "    <tr>\n",
       "      <th>0001b41b1c6bb37e</th>\n",
       "      <td>\"\\nMore\\nI can't make any real suggestions on improvement - I wondered if the section statistics should be later on, or a subsection of \"\"types of accidents\"\"  -I think the references may need tidying so that they are all in the exact same format ie date format etc. I can do that later on, if no-one else does first - if you have any preferences for formatting style on references or want to do it yourself please let me know.\\n\\nThere appears to be a backlog on articles for review so I guess there may be a delay until a reviewer turns up. It's listed in the relevant form eg Wikipedia:Good_ar...</td>\n",
       "      <td>0</td>\n",
       "      <td>0</td>\n",
       "      <td>0</td>\n",
       "      <td>0</td>\n",
       "      <td>0</td>\n",
       "      <td>0</td>\n",
       "    </tr>\n",
       "    <tr>\n",
       "      <th>0001d958c54c6e35</th>\n",
       "      <td>You, sir, are my hero. Any chance you remember what page that's on?</td>\n",
       "      <td>0</td>\n",
       "      <td>0</td>\n",
       "      <td>0</td>\n",
       "      <td>0</td>\n",
       "      <td>0</td>\n",
       "      <td>0</td>\n",
       "    </tr>\n",
       "    <tr>\n",
       "      <th>...</th>\n",
       "      <td>...</td>\n",
       "      <td>...</td>\n",
       "      <td>...</td>\n",
       "      <td>...</td>\n",
       "      <td>...</td>\n",
       "      <td>...</td>\n",
       "      <td>...</td>\n",
       "    </tr>\n",
       "    <tr>\n",
       "      <th>ffe987279560d7ff</th>\n",
       "      <td>\":::::And for the second time of asking, when your view completely contradicts the coverage in reliable sources, why should anyone care what you feel? You can't even give a consistent argument - is the opening only supposed to mention significant aspects, or the \"\"most significant\"\" ones?   \\n\\n\"</td>\n",
       "      <td>0</td>\n",
       "      <td>0</td>\n",
       "      <td>0</td>\n",
       "      <td>0</td>\n",
       "      <td>0</td>\n",
       "      <td>0</td>\n",
       "    </tr>\n",
       "    <tr>\n",
       "      <th>ffea4adeee384e90</th>\n",
       "      <td>You should be ashamed of yourself \\n\\nThat is a horrible thing you put on my talk page.  128.61.19.93</td>\n",
       "      <td>0</td>\n",
       "      <td>0</td>\n",
       "      <td>0</td>\n",
       "      <td>0</td>\n",
       "      <td>0</td>\n",
       "      <td>0</td>\n",
       "    </tr>\n",
       "    <tr>\n",
       "      <th>ffee36eab5c267c9</th>\n",
       "      <td>Spitzer \\n\\nUmm, theres no actual article for prostitution ring.  - Crunch Captain.</td>\n",
       "      <td>0</td>\n",
       "      <td>0</td>\n",
       "      <td>0</td>\n",
       "      <td>0</td>\n",
       "      <td>0</td>\n",
       "      <td>0</td>\n",
       "    </tr>\n",
       "    <tr>\n",
       "      <th>fff125370e4aaaf3</th>\n",
       "      <td>And it looks like it was actually you who put on the speedy to have the first version deleted now that I look at it.</td>\n",
       "      <td>0</td>\n",
       "      <td>0</td>\n",
       "      <td>0</td>\n",
       "      <td>0</td>\n",
       "      <td>0</td>\n",
       "      <td>0</td>\n",
       "    </tr>\n",
       "    <tr>\n",
       "      <th>fff46fc426af1f9a</th>\n",
       "      <td>\"\\nAnd ... I really don't think you understand.  I came here and my idea was bad right away.  What kind of community goes \"\"you have bad ideas\"\" go away, instead of helping rewrite them.   \"</td>\n",
       "      <td>0</td>\n",
       "      <td>0</td>\n",
       "      <td>0</td>\n",
       "      <td>0</td>\n",
       "      <td>0</td>\n",
       "      <td>0</td>\n",
       "    </tr>\n",
       "  </tbody>\n",
       "</table>\n",
       "<p>159571 rows × 7 columns</p>\n",
       "</div>"
      ],
      "text/plain": [
       "                                                                                                                                                                                                                                                                                                                                                                                                                                                                                                                                                                                                                             comment_text  \\\n",
       "id                                                                                                                                                                                                                                                                                                                                                                                                                                                                                                                                                                                                                                          \n",
       "0000997932d777bf                                                                                                                                                                                                                                                                                                                                                Explanation\\nWhy the edits made under my username Hardcore Metallica Fan were reverted? They weren't vandalisms, just closure on some GAs after I voted at New York Dolls FAC. And please don't remove the template from the talk page since I'm retired now.89.205.38.27   \n",
       "000103f0d9cfb60f                                                                                                                                                                                                                                                                                                                                                                                                                                                                                                         D'aww! He matches this background colour I'm seemingly stuck with. Thanks.  (talk) 21:51, January 11, 2016 (UTC)   \n",
       "000113f07ec002fd                                                                                                                                                                                                                                                                                                                                                                                Hey man, I'm really not trying to edit war. It's just that this guy is constantly removing relevant information and talking to me through edits instead of my talk page. He seems to care more about the formatting than the actual info.   \n",
       "0001b41b1c6bb37e  \"\\nMore\\nI can't make any real suggestions on improvement - I wondered if the section statistics should be later on, or a subsection of \"\"types of accidents\"\"  -I think the references may need tidying so that they are all in the exact same format ie date format etc. I can do that later on, if no-one else does first - if you have any preferences for formatting style on references or want to do it yourself please let me know.\\n\\nThere appears to be a backlog on articles for review so I guess there may be a delay until a reviewer turns up. It's listed in the relevant form eg Wikipedia:Good_ar...   \n",
       "0001d958c54c6e35                                                                                                                                                                                                                                                                                                                                                                                                                                                                                                                                                      You, sir, are my hero. Any chance you remember what page that's on?   \n",
       "...                                                                                                                                                                                                                                                                                                                                                                                                                                                                                                                                                                                                                                   ...   \n",
       "ffe987279560d7ff                                                                                                                                                                                                                                                                                                                \":::::And for the second time of asking, when your view completely contradicts the coverage in reliable sources, why should anyone care what you feel? You can't even give a consistent argument - is the opening only supposed to mention significant aspects, or the \"\"most significant\"\" ones?   \\n\\n\"   \n",
       "ffea4adeee384e90                                                                                                                                                                                                                                                                                                                                                                                                                                                                                                                    You should be ashamed of yourself \\n\\nThat is a horrible thing you put on my talk page.  128.61.19.93   \n",
       "ffee36eab5c267c9                                                                                                                                                                                                                                                                                                                                                                                                                                                                                                                                      Spitzer \\n\\nUmm, theres no actual article for prostitution ring.  - Crunch Captain.   \n",
       "fff125370e4aaaf3                                                                                                                                                                                                                                                                                                                                                                                                                                                                                                     And it looks like it was actually you who put on the speedy to have the first version deleted now that I look at it.   \n",
       "fff46fc426af1f9a                                                                                                                                                                                                                                                                                                                                                                                                                           \"\\nAnd ... I really don't think you understand.  I came here and my idea was bad right away.  What kind of community goes \"\"you have bad ideas\"\" go away, instead of helping rewrite them.   \"   \n",
       "\n",
       "                  toxic  severe_toxic  obscene  threat  insult  identity_hate  \n",
       "id                                                                             \n",
       "0000997932d777bf      0             0        0       0       0              0  \n",
       "000103f0d9cfb60f      0             0        0       0       0              0  \n",
       "000113f07ec002fd      0             0        0       0       0              0  \n",
       "0001b41b1c6bb37e      0             0        0       0       0              0  \n",
       "0001d958c54c6e35      0             0        0       0       0              0  \n",
       "...                 ...           ...      ...     ...     ...            ...  \n",
       "ffe987279560d7ff      0             0        0       0       0              0  \n",
       "ffea4adeee384e90      0             0        0       0       0              0  \n",
       "ffee36eab5c267c9      0             0        0       0       0              0  \n",
       "fff125370e4aaaf3      0             0        0       0       0              0  \n",
       "fff46fc426af1f9a      0             0        0       0       0              0  \n",
       "\n",
       "[159571 rows x 7 columns]"
      ]
     },
     "execution_count": 6,
     "metadata": {},
     "output_type": "execute_result"
    },
    {
     "data": {
      "application/javascript": [
       "\n",
       "            setTimeout(function() {\n",
       "                var nbb_cell_id = 6;\n",
       "                var nbb_unformatted_code = \"train_df = pd.read_csv(\\n    \\\"../../data/jigsaw-toxic-comment-classification-challenge/train.csv\\\"\\n).set_index(\\\"id\\\")\\ntrain_df\";\n",
       "                var nbb_formatted_code = \"train_df = pd.read_csv(\\n    \\\"../../data/jigsaw-toxic-comment-classification-challenge/train.csv\\\"\\n).set_index(\\\"id\\\")\\ntrain_df\";\n",
       "                var nbb_cells = Jupyter.notebook.get_cells();\n",
       "                for (var i = 0; i < nbb_cells.length; ++i) {\n",
       "                    if (nbb_cells[i].input_prompt_number == nbb_cell_id) {\n",
       "                        if (nbb_cells[i].get_text() == nbb_unformatted_code) {\n",
       "                             nbb_cells[i].set_text(nbb_formatted_code);\n",
       "                        }\n",
       "                        break;\n",
       "                    }\n",
       "                }\n",
       "            }, 500);\n",
       "            "
      ],
      "text/plain": [
       "<IPython.core.display.Javascript object>"
      ]
     },
     "metadata": {},
     "output_type": "display_data"
    }
   ],
   "source": [
    "train_df = pd.read_csv(\n",
    "    \"../../data/jigsaw-toxic-comment-classification-challenge/train.csv\"\n",
    ").set_index(\"id\")\n",
    "train_df"
   ]
  },
  {
   "cell_type": "code",
   "execution_count": 7,
   "id": "bb5a6df2",
   "metadata": {
    "ExecuteTime": {
     "end_time": "2022-12-25T16:20:44.842975Z",
     "start_time": "2022-12-25T16:20:44.834874Z"
    }
   },
   "outputs": [
    {
     "data": {
      "text/plain": [
       "toxic            0.095844\n",
       "severe_toxic     0.009996\n",
       "obscene          0.052948\n",
       "threat           0.002996\n",
       "insult           0.049364\n",
       "identity_hate    0.008805\n",
       "dtype: float64"
      ]
     },
     "execution_count": 7,
     "metadata": {},
     "output_type": "execute_result"
    },
    {
     "data": {
      "application/javascript": [
       "\n",
       "            setTimeout(function() {\n",
       "                var nbb_cell_id = 7;\n",
       "                var nbb_unformatted_code = \"train_df[\\n    [\\\"toxic\\\", \\\"severe_toxic\\\", \\\"obscene\\\", \\\"threat\\\", \\\"insult\\\", \\\"identity_hate\\\"]\\n].mean()\";\n",
       "                var nbb_formatted_code = \"train_df[\\n    [\\\"toxic\\\", \\\"severe_toxic\\\", \\\"obscene\\\", \\\"threat\\\", \\\"insult\\\", \\\"identity_hate\\\"]\\n].mean()\";\n",
       "                var nbb_cells = Jupyter.notebook.get_cells();\n",
       "                for (var i = 0; i < nbb_cells.length; ++i) {\n",
       "                    if (nbb_cells[i].input_prompt_number == nbb_cell_id) {\n",
       "                        if (nbb_cells[i].get_text() == nbb_unformatted_code) {\n",
       "                             nbb_cells[i].set_text(nbb_formatted_code);\n",
       "                        }\n",
       "                        break;\n",
       "                    }\n",
       "                }\n",
       "            }, 500);\n",
       "            "
      ],
      "text/plain": [
       "<IPython.core.display.Javascript object>"
      ]
     },
     "metadata": {},
     "output_type": "display_data"
    }
   ],
   "source": [
    "train_df[\n",
    "    [\"toxic\", \"severe_toxic\", \"obscene\", \"threat\", \"insult\", \"identity_hate\"]\n",
    "].mean()"
   ]
  },
  {
   "cell_type": "markdown",
   "id": "5c7f3057",
   "metadata": {},
   "source": [
    "# Train"
   ]
  },
  {
   "cell_type": "code",
   "execution_count": 8,
   "id": "6e56a515",
   "metadata": {
    "ExecuteTime": {
     "end_time": "2022-12-25T16:20:44.860366Z",
     "start_time": "2022-12-25T16:20:44.844025Z"
    }
   },
   "outputs": [
    {
     "data": {
      "application/javascript": [
       "\n",
       "            setTimeout(function() {\n",
       "                var nbb_cell_id = 8;\n",
       "                var nbb_unformatted_code = \"BATCH_SIZE = 64\";\n",
       "                var nbb_formatted_code = \"BATCH_SIZE = 64\";\n",
       "                var nbb_cells = Jupyter.notebook.get_cells();\n",
       "                for (var i = 0; i < nbb_cells.length; ++i) {\n",
       "                    if (nbb_cells[i].input_prompt_number == nbb_cell_id) {\n",
       "                        if (nbb_cells[i].get_text() == nbb_unformatted_code) {\n",
       "                             nbb_cells[i].set_text(nbb_formatted_code);\n",
       "                        }\n",
       "                        break;\n",
       "                    }\n",
       "                }\n",
       "            }, 500);\n",
       "            "
      ],
      "text/plain": [
       "<IPython.core.display.Javascript object>"
      ]
     },
     "metadata": {},
     "output_type": "display_data"
    }
   ],
   "source": [
    "BATCH_SIZE = 64"
   ]
  },
  {
   "cell_type": "markdown",
   "id": "305abd2a",
   "metadata": {},
   "source": [
    "## Toxic"
   ]
  },
  {
   "cell_type": "code",
   "execution_count": 9,
   "id": "6eb1b2b5",
   "metadata": {
    "ExecuteTime": {
     "end_time": "2022-12-25T16:21:21.199654Z",
     "start_time": "2022-12-25T16:20:44.861378Z"
    }
   },
   "outputs": [
    {
     "data": {
      "text/html": [
       "\n",
       "<style>\n",
       "    /* Turns off some styling */\n",
       "    progress {\n",
       "        /* gets rid of default border in Firefox and Opera. */\n",
       "        border: none;\n",
       "        /* Needs to be in here for Safari polyfill so background images work as expected. */\n",
       "        background-size: auto;\n",
       "    }\n",
       "    progress:not([value]), progress:not([value])::-webkit-progress-bar {\n",
       "        background: repeating-linear-gradient(45deg, #7e7e7e, #7e7e7e 10px, #5c5c5c 10px, #5c5c5c 20px);\n",
       "    }\n",
       "    .progress-bar-interrupted, .progress-bar-interrupted::-webkit-progress-bar {\n",
       "        background: #F44336;\n",
       "    }\n",
       "</style>\n"
      ],
      "text/plain": [
       "<IPython.core.display.HTML object>"
      ]
     },
     "metadata": {},
     "output_type": "display_data"
    },
    {
     "data": {
      "text/html": [],
      "text/plain": [
       "<IPython.core.display.HTML object>"
      ]
     },
     "metadata": {},
     "output_type": "display_data"
    },
    {
     "data": {
      "application/javascript": [
       "\n",
       "            setTimeout(function() {\n",
       "                var nbb_cell_id = 9;\n",
       "                var nbb_unformatted_code = \"toxic_dls = TextDataLoaders.from_df(\\n    train_df[[\\\"comment_text\\\", \\\"toxic\\\"]],\\n    valid_pct=0.2,\\n    seed=42,\\n    bs=BATCH_SIZE,\\n)\";\n",
       "                var nbb_formatted_code = \"toxic_dls = TextDataLoaders.from_df(\\n    train_df[[\\\"comment_text\\\", \\\"toxic\\\"]],\\n    valid_pct=0.2,\\n    seed=42,\\n    bs=BATCH_SIZE,\\n)\";\n",
       "                var nbb_cells = Jupyter.notebook.get_cells();\n",
       "                for (var i = 0; i < nbb_cells.length; ++i) {\n",
       "                    if (nbb_cells[i].input_prompt_number == nbb_cell_id) {\n",
       "                        if (nbb_cells[i].get_text() == nbb_unformatted_code) {\n",
       "                             nbb_cells[i].set_text(nbb_formatted_code);\n",
       "                        }\n",
       "                        break;\n",
       "                    }\n",
       "                }\n",
       "            }, 500);\n",
       "            "
      ],
      "text/plain": [
       "<IPython.core.display.Javascript object>"
      ]
     },
     "metadata": {},
     "output_type": "display_data"
    }
   ],
   "source": [
    "toxic_dls = TextDataLoaders.from_df(\n",
    "    train_df[[\"comment_text\", \"toxic\"]],\n",
    "    valid_pct=0.2,\n",
    "    seed=42,\n",
    "    bs=BATCH_SIZE,\n",
    ")"
   ]
  },
  {
   "cell_type": "code",
   "execution_count": 10,
   "id": "4e74f1b4",
   "metadata": {
    "ExecuteTime": {
     "end_time": "2022-12-25T16:21:22.129973Z",
     "start_time": "2022-12-25T16:21:21.201978Z"
    }
   },
   "outputs": [
    {
     "data": {
      "text/plain": [
       "<fastai.text.learner.TextLearner at 0x7f13d53f94c0>"
      ]
     },
     "execution_count": 10,
     "metadata": {},
     "output_type": "execute_result"
    },
    {
     "data": {
      "application/javascript": [
       "\n",
       "            setTimeout(function() {\n",
       "                var nbb_cell_id = 10;\n",
       "                var nbb_unformatted_code = \"# https://docs.fast.ai/tutorial.text.html\\nlearn = text_classifier_learner(toxic_dls, AWD_LSTM, drop_mult=0.5, metrics=accuracy)\\nlearn\";\n",
       "                var nbb_formatted_code = \"# https://docs.fast.ai/tutorial.text.html\\nlearn = text_classifier_learner(toxic_dls, AWD_LSTM, drop_mult=0.5, metrics=accuracy)\\nlearn\";\n",
       "                var nbb_cells = Jupyter.notebook.get_cells();\n",
       "                for (var i = 0; i < nbb_cells.length; ++i) {\n",
       "                    if (nbb_cells[i].input_prompt_number == nbb_cell_id) {\n",
       "                        if (nbb_cells[i].get_text() == nbb_unformatted_code) {\n",
       "                             nbb_cells[i].set_text(nbb_formatted_code);\n",
       "                        }\n",
       "                        break;\n",
       "                    }\n",
       "                }\n",
       "            }, 500);\n",
       "            "
      ],
      "text/plain": [
       "<IPython.core.display.Javascript object>"
      ]
     },
     "metadata": {},
     "output_type": "display_data"
    }
   ],
   "source": [
    "# https://docs.fast.ai/tutorial.text.html\n",
    "learn = text_classifier_learner(toxic_dls, AWD_LSTM, drop_mult=0.5, metrics=accuracy)\n",
    "learn"
   ]
  },
  {
   "cell_type": "code",
   "execution_count": 11,
   "id": "7cfed91e",
   "metadata": {
    "ExecuteTime": {
     "end_time": "2022-12-25T16:21:22.388843Z",
     "start_time": "2022-12-25T16:21:22.131041Z"
    }
   },
   "outputs": [
    {
     "data": {
      "text/plain": [
       "<fastai.text.learner.TextLearner at 0x7f13d53f94c0>"
      ]
     },
     "execution_count": 11,
     "metadata": {},
     "output_type": "execute_result"
    },
    {
     "data": {
      "application/javascript": [
       "\n",
       "            setTimeout(function() {\n",
       "                var nbb_cell_id = 11;\n",
       "                var nbb_unformatted_code = \"learn.load(\\\"toxic\\\")\";\n",
       "                var nbb_formatted_code = \"learn.load(\\\"toxic\\\")\";\n",
       "                var nbb_cells = Jupyter.notebook.get_cells();\n",
       "                for (var i = 0; i < nbb_cells.length; ++i) {\n",
       "                    if (nbb_cells[i].input_prompt_number == nbb_cell_id) {\n",
       "                        if (nbb_cells[i].get_text() == nbb_unformatted_code) {\n",
       "                             nbb_cells[i].set_text(nbb_formatted_code);\n",
       "                        }\n",
       "                        break;\n",
       "                    }\n",
       "                }\n",
       "            }, 500);\n",
       "            "
      ],
      "text/plain": [
       "<IPython.core.display.Javascript object>"
      ]
     },
     "metadata": {},
     "output_type": "display_data"
    }
   ],
   "source": [
    "learn.load(\"toxic\")"
   ]
  },
  {
   "cell_type": "code",
   "execution_count": 12,
   "id": "a075c29e",
   "metadata": {
    "ExecuteTime": {
     "end_time": "2022-12-25T16:21:24.085077Z",
     "start_time": "2022-12-25T16:21:22.389804Z"
    }
   },
   "outputs": [
    {
     "data": {
      "text/html": [
       "\n",
       "<style>\n",
       "    /* Turns off some styling */\n",
       "    progress {\n",
       "        /* gets rid of default border in Firefox and Opera. */\n",
       "        border: none;\n",
       "        /* Needs to be in here for Safari polyfill so background images work as expected. */\n",
       "        background-size: auto;\n",
       "    }\n",
       "    progress:not([value]), progress:not([value])::-webkit-progress-bar {\n",
       "        background: repeating-linear-gradient(45deg, #7e7e7e, #7e7e7e 10px, #5c5c5c 10px, #5c5c5c 20px);\n",
       "    }\n",
       "    .progress-bar-interrupted, .progress-bar-interrupted::-webkit-progress-bar {\n",
       "        background: #F44336;\n",
       "    }\n",
       "</style>\n"
      ],
      "text/plain": [
       "<IPython.core.display.HTML object>"
      ]
     },
     "metadata": {},
     "output_type": "display_data"
    },
    {
     "data": {
      "text/html": [],
      "text/plain": [
       "<IPython.core.display.HTML object>"
      ]
     },
     "metadata": {},
     "output_type": "display_data"
    },
    {
     "data": {
      "text/html": [
       "<table border=\"1\" class=\"dataframe\">\n",
       "  <thead>\n",
       "    <tr style=\"text-align: right;\">\n",
       "      <th></th>\n",
       "      <th>text</th>\n",
       "      <th>category</th>\n",
       "      <th>category_</th>\n",
       "    </tr>\n",
       "  </thead>\n",
       "  <tbody>\n",
       "    <tr>\n",
       "      <th>0</th>\n",
       "      <td>xxbos \" xxrep 5 f xxrep 6 u xxrep 6 c xxrep 6 k xxrep 5 = xxup you ! f xxup uu c xxup kk xxup you xxrep 5 f xxrep 6 u xxrep 6 c xxrep 6 k xxrep 5 = xxup you ! f xxup uu c xxup kk xxup you xxrep 5 f xxrep 6 u xxrep 6 c xxrep 6 k xxrep 5 = xxup you ! f xxup uu c xxup kk xxup you xxrep 5 f xxrep 6 u xxrep 6 c xxrep 6 k xxrep 5 = xxup you ! f xxup uu c xxup kk xxup you xxrep 5 f xxrep 6 u xxrep 6 c xxrep 6 k xxrep 5 = xxup you ! f xxup uu c xxup kk xxup you xxrep 5 f xxrep 6 u xxrep 6 c xxrep 6 k xxrep 5 = xxup you !</td>\n",
       "      <td>1</td>\n",
       "      <td>0</td>\n",
       "    </tr>\n",
       "    <tr>\n",
       "      <th>1</th>\n",
       "      <td>xxbos xxup you xxup fucking xxup kike ! xxup do n't xxup edit xxup things xxup you xxup have xxup no xxup idea xxup about ! xxup give xxup credit xxup where xxup it 's xxup due ! xxup you xxup fucking xxup kike ! xxup do n't xxup edit xxup things xxup you xxup have xxup no xxup idea xxup about ! xxup give xxup credit xxup where xxup it 's xxup due ! xxup you xxup fucking xxup kike ! xxup do n't xxup edit xxup things xxup you xxup have xxup no xxup idea xxup about ! xxup give xxup credit xxup where xxup it 's xxup due ! xxup you xxup fucking xxup kike ! xxup do n't xxup edit xxup things xxup you xxup have xxup no xxup idea xxup about ! xxup give xxup credit xxup where xxup it 's xxup due ! xxup</td>\n",
       "      <td>1</td>\n",
       "      <td>0</td>\n",
       "    </tr>\n",
       "    <tr>\n",
       "      <th>2</th>\n",
       "      <td>xxbos \" \\n\\n xxmaj in computing , input / output , or i / xxup o , refers to the communication between an information processing system ( such as a computer ) , and the outside world . xxmaj inputs are the signals or data sent to the system , and outputs are the signals or data sent by the system to the outside of xxmaj nabil 's xxmaj mum 's xxmaj pussy . xxmaj then the dildo is placed inside it until xxmaj aleem 's dad comes and ejaculates on her face while xxmaj aleem himself plucks xxmaj nabil 's hair on his ass . xxmaj if you would xxmaj like more information about this please call 0 xxrep 3 7 2550782 . xxmaj if he does not pick up that means he is busy with xxmaj aleem xxmaj so please xxmaj leave a message . \\n\\n xxmaj retrieved</td>\n",
       "      <td>0</td>\n",
       "      <td>0</td>\n",
       "    </tr>\n",
       "    <tr>\n",
       "      <th>3</th>\n",
       "      <td>xxbos \" \\n\\n▁ read the truth at http : / / rexcurry.net / wikipedialies.html \\n\\n xxmaj regarding the writer at http : / / en.wikipedia.org / wiki / talk : hitler_salute \\n\\n▁ xxmaj mr xxmaj barlow is a nutter with an obsession . xxmaj the history of the salute is now improved in the xxmaj roman salute article ( which had many previous visits from xxmaj dr . xxmaj curry in the past - see its talk page ) . xxmaj the pact between the xxmaj national xxmaj socialist xxmaj german xxmaj workers ' xxmaj party and the xxmaj union of xxmaj soviet xxmaj socialist xxmaj republics is not well known , and is also not covered widely on xxmaj wikipedia , so it is \" \" covered up \" \" by people and also people often refer to it as the \" \" nazi - soviet \" \" pact</td>\n",
       "      <td>0</td>\n",
       "      <td>0</td>\n",
       "    </tr>\n",
       "    <tr>\n",
       "      <th>4</th>\n",
       "      <td>xxbos \" \\n\\n▁ xxmaj why will xxmaj gwen xxmaj gale not read the sources ? \\n\\n xxmaj on 01:27 , 5 xxmaj august 2010 i posted a section on \" \" talk : xxmaj death of xxmaj adolf xxmaj hitler \" \" titled “ random xxmaj questions ” which started “ i am not a scholar , i read xxmaj wiki but would not think of editing it . xxmaj but i was disappointed in this article , and many points in the discussion , so i am asking some questions . xxmaj perhaps someone else will read and address them . ” xxmaj the section went on with several xxunk questions , and ended with “ as to sources , the last books i have read are xxmaj the xxmaj murder of xxmaj adolph xxmaj hitler by xxmaj hugh xxmaj thomas ( sort of shaky ) and xxmaj the</td>\n",
       "      <td>0</td>\n",
       "      <td>0</td>\n",
       "    </tr>\n",
       "    <tr>\n",
       "      <th>5</th>\n",
       "      <td>xxbos \" \\n\\n xxmaj chameleon rapes xxmaj michele ( because she thinks he 's xxmaj peter when they \" \" it \" \" on the kitchen floor ) a mention of this would be nice . xxmaj and the fact it was later xxunk . — preceding unsigned comment added by xxunk ( talk ) \\n\\n xxmaj the xxmaj chameleon ( dmitri xxmaj smerdyakov ) is a xxmaj marvel xxmaj comics supervillain , an enemy of spider - man . xxmaj the xxmaj chameleon is a spy and master of disguise . xxmaj throughout his history , he has used a variety of traditional , high - tech and biologically enhanced ways to change his appearance , xxunk imitating almost anyone . xxmaj he was also the ally , servant , and half - brother of fellow spider - man adversary xxmaj kraven the xxmaj hunter . xxmaj his name</td>\n",
       "      <td>0</td>\n",
       "      <td>0</td>\n",
       "    </tr>\n",
       "    <tr>\n",
       "      <th>6</th>\n",
       "      <td>xxbos \" \\n\\n xxmaj ernie xxmaj smith writes æµ§œš1 \\n\\n æµ§œš1 , you state or pose as an xxunk ; “ so what you are saying is that xxup ousd was addressing \" \" ebonics \" \" as being defined as i or ii , and specifically and overtly excluding xxrep 3 i . ” xxmaj in reply sentence , i say , i am saying what i have said and i reiterate it here ; \" \" the proponents of the term xxmaj ebonics view and use the word xxmaj ebonics only one way . xxmaj that way being ; from an xxmaj africa centered comparative linguistic perspective ” . i have said and i reiterate it here ; “ … xxmaj as defined by xxmaj robert xxmaj williams the word xxmaj ebonics posits an xxmaj afrocentric view relative the origin and historical development of the language of descendants</td>\n",
       "      <td>0</td>\n",
       "      <td>0</td>\n",
       "    </tr>\n",
       "    <tr>\n",
       "      <th>7</th>\n",
       "      <td>xxbos \" : let me first of all set the record straight about the history of the relationship between myself and user : jza84 . xxmaj on his talk page xxmaj jza84 states ' i hardly know the editor bar an passing in a discussion from time to time ' . xxmaj as xxmaj mangojuice notes on that same page , ' jza clearly knows xxmaj enaidmawr is a long - time established editor here ; xxmaj jza interacted with xxmaj enaidmawr as early as xxmaj november 2007 , over 6 months before xxmaj jza became an admin . ' xxmaj that interaction was courteous and constructive and repeated on a number of occasions . i would n't claim that we were regular collaborators , but collaborate we did , and if somebody had xxunk me , before this incident , ' do you know this editor and do you</td>\n",
       "      <td>0</td>\n",
       "      <td>0</td>\n",
       "    </tr>\n",
       "    <tr>\n",
       "      <th>8</th>\n",
       "      <td>xxbos \" \\n\\n▁ xxmaj samoa mo xxmaj samoa - xxmaj mata xxmaj xxunk xxmaj wikipedia \\n\\n xxmaj samoa ( i / xxunk / ; xxmaj samoan : xxmaj sāmoa , xxup ipa : [ xxunk ] ) , officially the xxmaj independent xxmaj state of xxmaj samoa ( samoan : xxmaj malo xxmaj xxunk xxmaj xxunk o xxmaj sāmoa ) , formerly known as xxmaj western xxmaj samoa , is a country encompassing the western part of the xxmaj samoan xxmaj islands in the xxmaj south xxmaj pacific xxmaj ocean . xxmaj samoa announced their independence to xxmaj aotearoa - xxmaj new xxmaj zealand in 1962 . xxmaj the main island of xxmaj samoa is xxmaj upolu , and is one of the largest islands in the xxmaj polynesian xxmaj triangle , next to xxmaj xxunk . xxmaj the capital city , xxmaj apia , and xxmaj xxunk xxmaj international</td>\n",
       "      <td>0</td>\n",
       "      <td>0</td>\n",
       "    </tr>\n",
       "  </tbody>\n",
       "</table>"
      ],
      "text/plain": [
       "<IPython.core.display.HTML object>"
      ]
     },
     "metadata": {},
     "output_type": "display_data"
    },
    {
     "data": {
      "application/javascript": [
       "\n",
       "            setTimeout(function() {\n",
       "                var nbb_cell_id = 12;\n",
       "                var nbb_unformatted_code = \"learn.show_results()\";\n",
       "                var nbb_formatted_code = \"learn.show_results()\";\n",
       "                var nbb_cells = Jupyter.notebook.get_cells();\n",
       "                for (var i = 0; i < nbb_cells.length; ++i) {\n",
       "                    if (nbb_cells[i].input_prompt_number == nbb_cell_id) {\n",
       "                        if (nbb_cells[i].get_text() == nbb_unformatted_code) {\n",
       "                             nbb_cells[i].set_text(nbb_formatted_code);\n",
       "                        }\n",
       "                        break;\n",
       "                    }\n",
       "                }\n",
       "            }, 500);\n",
       "            "
      ],
      "text/plain": [
       "<IPython.core.display.Javascript object>"
      ]
     },
     "metadata": {},
     "output_type": "display_data"
    }
   ],
   "source": [
    "learn.show_results()"
   ]
  },
  {
   "cell_type": "markdown",
   "id": "51ea6f4f",
   "metadata": {},
   "source": [
    "## Severe toxic"
   ]
  },
  {
   "cell_type": "code",
   "execution_count": 13,
   "id": "be3345d5",
   "metadata": {
    "ExecuteTime": {
     "end_time": "2022-12-25T16:22:00.156746Z",
     "start_time": "2022-12-25T16:21:24.086057Z"
    }
   },
   "outputs": [
    {
     "data": {
      "text/html": [
       "\n",
       "<style>\n",
       "    /* Turns off some styling */\n",
       "    progress {\n",
       "        /* gets rid of default border in Firefox and Opera. */\n",
       "        border: none;\n",
       "        /* Needs to be in here for Safari polyfill so background images work as expected. */\n",
       "        background-size: auto;\n",
       "    }\n",
       "    progress:not([value]), progress:not([value])::-webkit-progress-bar {\n",
       "        background: repeating-linear-gradient(45deg, #7e7e7e, #7e7e7e 10px, #5c5c5c 10px, #5c5c5c 20px);\n",
       "    }\n",
       "    .progress-bar-interrupted, .progress-bar-interrupted::-webkit-progress-bar {\n",
       "        background: #F44336;\n",
       "    }\n",
       "</style>\n"
      ],
      "text/plain": [
       "<IPython.core.display.HTML object>"
      ]
     },
     "metadata": {},
     "output_type": "display_data"
    },
    {
     "data": {
      "text/html": [],
      "text/plain": [
       "<IPython.core.display.HTML object>"
      ]
     },
     "metadata": {},
     "output_type": "display_data"
    },
    {
     "data": {
      "application/javascript": [
       "\n",
       "            setTimeout(function() {\n",
       "                var nbb_cell_id = 13;\n",
       "                var nbb_unformatted_code = \"severe_toxic_dls = TextDataLoaders.from_df(\\n    train_df[[\\\"comment_text\\\", \\\"severe_toxic\\\"]],\\n    valid_pct=0.2,\\n    seed=42,\\n    bs=BATCH_SIZE,\\n)\";\n",
       "                var nbb_formatted_code = \"severe_toxic_dls = TextDataLoaders.from_df(\\n    train_df[[\\\"comment_text\\\", \\\"severe_toxic\\\"]],\\n    valid_pct=0.2,\\n    seed=42,\\n    bs=BATCH_SIZE,\\n)\";\n",
       "                var nbb_cells = Jupyter.notebook.get_cells();\n",
       "                for (var i = 0; i < nbb_cells.length; ++i) {\n",
       "                    if (nbb_cells[i].input_prompt_number == nbb_cell_id) {\n",
       "                        if (nbb_cells[i].get_text() == nbb_unformatted_code) {\n",
       "                             nbb_cells[i].set_text(nbb_formatted_code);\n",
       "                        }\n",
       "                        break;\n",
       "                    }\n",
       "                }\n",
       "            }, 500);\n",
       "            "
      ],
      "text/plain": [
       "<IPython.core.display.Javascript object>"
      ]
     },
     "metadata": {},
     "output_type": "display_data"
    }
   ],
   "source": [
    "severe_toxic_dls = TextDataLoaders.from_df(\n",
    "    train_df[[\"comment_text\", \"severe_toxic\"]],\n",
    "    valid_pct=0.2,\n",
    "    seed=42,\n",
    "    bs=BATCH_SIZE,\n",
    ")"
   ]
  },
  {
   "cell_type": "code",
   "execution_count": 14,
   "id": "275e7f9c",
   "metadata": {
    "ExecuteTime": {
     "end_time": "2022-12-25T16:22:01.050626Z",
     "start_time": "2022-12-25T16:22:00.157935Z"
    }
   },
   "outputs": [
    {
     "data": {
      "text/plain": [
       "<fastai.text.learner.TextLearner at 0x7f13dc0427f0>"
      ]
     },
     "execution_count": 14,
     "metadata": {},
     "output_type": "execute_result"
    },
    {
     "data": {
      "application/javascript": [
       "\n",
       "            setTimeout(function() {\n",
       "                var nbb_cell_id = 14;\n",
       "                var nbb_unformatted_code = \"learn = text_classifier_learner(\\n    severe_toxic_dls, AWD_LSTM, drop_mult=0.5, metrics=accuracy\\n)\\nlearn\";\n",
       "                var nbb_formatted_code = \"learn = text_classifier_learner(\\n    severe_toxic_dls, AWD_LSTM, drop_mult=0.5, metrics=accuracy\\n)\\nlearn\";\n",
       "                var nbb_cells = Jupyter.notebook.get_cells();\n",
       "                for (var i = 0; i < nbb_cells.length; ++i) {\n",
       "                    if (nbb_cells[i].input_prompt_number == nbb_cell_id) {\n",
       "                        if (nbb_cells[i].get_text() == nbb_unformatted_code) {\n",
       "                             nbb_cells[i].set_text(nbb_formatted_code);\n",
       "                        }\n",
       "                        break;\n",
       "                    }\n",
       "                }\n",
       "            }, 500);\n",
       "            "
      ],
      "text/plain": [
       "<IPython.core.display.Javascript object>"
      ]
     },
     "metadata": {},
     "output_type": "display_data"
    }
   ],
   "source": [
    "learn = text_classifier_learner(\n",
    "    severe_toxic_dls, AWD_LSTM, drop_mult=0.5, metrics=accuracy\n",
    ")\n",
    "learn"
   ]
  },
  {
   "cell_type": "code",
   "execution_count": 15,
   "id": "cf490134",
   "metadata": {
    "ExecuteTime": {
     "end_time": "2022-12-25T16:22:01.297343Z",
     "start_time": "2022-12-25T16:22:01.051745Z"
    }
   },
   "outputs": [
    {
     "data": {
      "text/plain": [
       "<fastai.text.learner.TextLearner at 0x7f13dc0427f0>"
      ]
     },
     "execution_count": 15,
     "metadata": {},
     "output_type": "execute_result"
    },
    {
     "data": {
      "application/javascript": [
       "\n",
       "            setTimeout(function() {\n",
       "                var nbb_cell_id = 15;\n",
       "                var nbb_unformatted_code = \"learn.load(\\\"severe_toxic\\\")\";\n",
       "                var nbb_formatted_code = \"learn.load(\\\"severe_toxic\\\")\";\n",
       "                var nbb_cells = Jupyter.notebook.get_cells();\n",
       "                for (var i = 0; i < nbb_cells.length; ++i) {\n",
       "                    if (nbb_cells[i].input_prompt_number == nbb_cell_id) {\n",
       "                        if (nbb_cells[i].get_text() == nbb_unformatted_code) {\n",
       "                             nbb_cells[i].set_text(nbb_formatted_code);\n",
       "                        }\n",
       "                        break;\n",
       "                    }\n",
       "                }\n",
       "            }, 500);\n",
       "            "
      ],
      "text/plain": [
       "<IPython.core.display.Javascript object>"
      ]
     },
     "metadata": {},
     "output_type": "display_data"
    }
   ],
   "source": [
    "learn.load(\"severe_toxic\")"
   ]
  },
  {
   "cell_type": "code",
   "execution_count": 16,
   "id": "22fde6e0",
   "metadata": {
    "ExecuteTime": {
     "end_time": "2022-12-25T16:22:02.252851Z",
     "start_time": "2022-12-25T16:22:01.298622Z"
    }
   },
   "outputs": [
    {
     "data": {
      "text/html": [
       "\n",
       "<style>\n",
       "    /* Turns off some styling */\n",
       "    progress {\n",
       "        /* gets rid of default border in Firefox and Opera. */\n",
       "        border: none;\n",
       "        /* Needs to be in here for Safari polyfill so background images work as expected. */\n",
       "        background-size: auto;\n",
       "    }\n",
       "    progress:not([value]), progress:not([value])::-webkit-progress-bar {\n",
       "        background: repeating-linear-gradient(45deg, #7e7e7e, #7e7e7e 10px, #5c5c5c 10px, #5c5c5c 20px);\n",
       "    }\n",
       "    .progress-bar-interrupted, .progress-bar-interrupted::-webkit-progress-bar {\n",
       "        background: #F44336;\n",
       "    }\n",
       "</style>\n"
      ],
      "text/plain": [
       "<IPython.core.display.HTML object>"
      ]
     },
     "metadata": {},
     "output_type": "display_data"
    },
    {
     "data": {
      "text/html": [],
      "text/plain": [
       "<IPython.core.display.HTML object>"
      ]
     },
     "metadata": {},
     "output_type": "display_data"
    },
    {
     "data": {
      "text/html": [
       "<table border=\"1\" class=\"dataframe\">\n",
       "  <thead>\n",
       "    <tr style=\"text-align: right;\">\n",
       "      <th></th>\n",
       "      <th>text</th>\n",
       "      <th>category</th>\n",
       "      <th>category_</th>\n",
       "    </tr>\n",
       "  </thead>\n",
       "  <tbody>\n",
       "    <tr>\n",
       "      <th>0</th>\n",
       "      <td>xxbos \" xxrep 5 f xxrep 6 u xxrep 6 c xxrep 6 k xxrep 5 = xxup you ! f xxup uu c xxup kk xxup you xxrep 5 f xxrep 6 u xxrep 6 c xxrep 6 k xxrep 5 = xxup you ! f xxup uu c xxup kk xxup you xxrep 5 f xxrep 6 u xxrep 6 c xxrep 6 k xxrep 5 = xxup you ! f xxup uu c xxup kk xxup you xxrep 5 f xxrep 6 u xxrep 6 c xxrep 6 k xxrep 5 = xxup you ! f xxup uu c xxup kk xxup you xxrep 5 f xxrep 6 u xxrep 6 c xxrep 6 k xxrep 5 = xxup you ! f xxup uu c xxup kk xxup you xxrep 5 f xxrep 6 u xxrep 6 c xxrep 6 k xxrep 5 = xxup you !</td>\n",
       "      <td>1</td>\n",
       "      <td>0</td>\n",
       "    </tr>\n",
       "    <tr>\n",
       "      <th>1</th>\n",
       "      <td>xxbos hey i like xxmaj jews hey i like xxmaj jews hey i like xxmaj jews hey i like xxmaj jews hey i like xxmaj jews hey i like xxmaj jews hey i like xxmaj jews hey i like xxmaj jews hey i like xxmaj jews hey i like xxmaj jews hey i like xxmaj jews hey i like xxmaj jews hey i like xxmaj jews hey i like xxmaj jews hey i like xxmaj jews hey i like xxmaj jews hey i like xxmaj jews hey i like xxmaj jews hey i like xxmaj jews hey i like xxmaj jews hey i like xxmaj jews hey i like xxmaj jews hey i like xxmaj jews hey i like xxmaj jews hey i like xxmaj jews hey i like xxmaj jews hey i like xxmaj jews hey i like xxmaj jews hey i like xxmaj jews hey i like xxmaj</td>\n",
       "      <td>0</td>\n",
       "      <td>0</td>\n",
       "    </tr>\n",
       "    <tr>\n",
       "      <th>2</th>\n",
       "      <td>xxbos \" here 's the entire xxmaj antelope xxmaj valley xxmaj press page , please feel free to let me know why they are more notable other than being around longer than the xxup av xxmaj news has : \\n\\n xxmaj antelope xxmaj valley xxmaj press \\n xxmaj from xxmaj wikipedia , the free encyclopedia \\n xxmaj jump to : navigation , search \\n xxmaj antelope xxmaj valley xxmaj press xxmaj type xxunk newspaper \\n xxmaj format xxunk \\n xxmaj owner xxunk xxmaj valley xxmaj newspapers \\n xxmaj publisher xxunk xxup c. xxmaj markham \\n xxmaj founded xxunk 3 , 1915 \\n ( as the xxmaj palmdale xxmaj post ) \\n xxmaj headquarters xxup xxunk xxmaj sierra xxmaj highway \\n xxmaj palmdale , xxmaj california xxunk \\n▁ xxmaj united xxmaj states \\n xxmaj circulation xxup xxunk ( 2010 ) \\n xxmaj official website xxunk \\n\\n xxmaj the xxmaj antelope xxmaj</td>\n",
       "      <td>0</td>\n",
       "      <td>0</td>\n",
       "    </tr>\n",
       "    <tr>\n",
       "      <th>3</th>\n",
       "      <td>xxbos \" \\n\\n▁ xxmaj an except of analysis from the \" \" supposed \" \" unreliable source \\n\\n▁ xxrep 3 w xxunk \\n xxup it xxup is a xxup reliable xxup source . xxmaj here is the analysis which i was simply trying to source from the page itself . xxmaj some of this is already in xxup uon could i source that instead for the xxup exact xxup same xxup change ? xxmaj my site , which is my lifes work as a master was deemed unreliable by non - chess players . xxmaj here is the analysis in regards to the xxunk line . \\n xxmaj these guys wo nt understand it because chess is too complicated for them but lets us hope that some other strong player who cares about how low quality wikipedia chess articles are will come by and confirm that my add was reliable</td>\n",
       "      <td>0</td>\n",
       "      <td>0</td>\n",
       "    </tr>\n",
       "    <tr>\n",
       "      <th>4</th>\n",
       "      <td>xxbos \" \\n\\n xxmaj chameleon rapes xxmaj michele ( because she thinks he 's xxmaj peter when they \" \" it \" \" on the kitchen floor ) a mention of this would be nice . xxmaj and the fact it was later xxunk . — preceding unsigned comment added by xxunk ( talk ) \\n\\n xxmaj the xxmaj chameleon ( dmitri xxmaj smerdyakov ) is a xxmaj marvel xxmaj comics supervillain , an enemy of spider - man . xxmaj the xxmaj chameleon is a spy and master of disguise . xxmaj throughout his history , he has used a variety of traditional , high - tech and biologically enhanced ways to change his appearance , xxunk imitating almost anyone . xxmaj he was also the ally , servant , and half - brother of fellow spider - man adversary xxmaj kraven the xxmaj hunter . xxmaj his name</td>\n",
       "      <td>0</td>\n",
       "      <td>0</td>\n",
       "    </tr>\n",
       "    <tr>\n",
       "      <th>5</th>\n",
       "      <td>xxbos \" = = xxmaj cohanim xxup j2 - xxmaj eleazar - xxmaj phinchas - xxmaj zadok = = \\n\\n▁ xxmaj agree . xxmaj dr . xxmaj karl xxmaj skorecki have the final word about xxmaj cohanim genetic signatures . xxmaj he , more than anyone else , is the most credible person that can publish articles and true informations about xxmaj cohanim genetic signatures , not xxmaj xxunk . xxmaj he was the one who discovered the xxup cmh in 1997 . xxmaj after 10 years , he came out to announce in 2007 , that \" \" he and his research team have discovered not one but two xxmaj cohen xxmaj modal xxmaj haplotypes , which he called xxup j1 and xxup j2 \" \" . xxmaj katz , xxmaj kaplan , xxmaj xxunk , xxmaj shapiro , xxunk , xxunk , are all xxup j2 . xxmaj</td>\n",
       "      <td>0</td>\n",
       "      <td>0</td>\n",
       "    </tr>\n",
       "    <tr>\n",
       "      <th>6</th>\n",
       "      <td>xxbos \" \\n\\n▁ xxup pov talk section moved \\n\\n xxup pov \\n\\n i 've tried to clean things up a bit though someone else will have to remove the vandalistically applied christianity template lest i be reported for \" \" edit warring \" \" by humus . i 've added a link to the christianity and judaism portals in the \" \" see also \" \" section . these links are more fitting than claiming this is \" \" part of the series on christianity \" \" \\n\\n this article was very heavy on anti - jfj stuff . a lengthy \" \" criticism \" \" section as well as criticisms inserted into nearly every other section . the missionaries are \" \" taught to speak in hebrew \" \" ( these people already went to hebrew school ! ) and jfj is known to \" \" target vulnerable jews</td>\n",
       "      <td>0</td>\n",
       "      <td>0</td>\n",
       "    </tr>\n",
       "    <tr>\n",
       "      <th>7</th>\n",
       "      <td>xxbos \" posted xxup from xxup maryland xxup talk xxup page xxup with xxup acknowledgement xxup from xxmaj xxunk \\n\\n xxmaj i 'm getting the sense of a double standard for xxmaj maryland here . xxmaj why is xxmaj maryland the focus of this brigade when other state intros are equivalent ? xxmaj i ’ve avoided posting in these discussions because it seems you guys are reluctant to seeing the truth and now i have to write a book to get my point across . xxmaj even still you will believe what you want to because of personal preference or you do n’t “ feel it belongs ” . xxmaj most of all xxmaj i ’m sure you could care less about the state itself otherwise you would n’t object . xxmaj but you want an answer so here it is … \\n\\n xxmaj if you think the intro to</td>\n",
       "      <td>0</td>\n",
       "      <td>0</td>\n",
       "    </tr>\n",
       "    <tr>\n",
       "      <th>8</th>\n",
       "      <td>xxbos \" \\n\\n xxmaj come on guys . xxmaj the section on xxmaj turkey is highly biased and provides more space to the justification of xxmaj pelosi 's attitude to the proposed bill on the so - called xxmaj armenian xxmaj genocide and does n't give the other side to provide any justification why the xxmaj prime minister of xxmaj xxunk has negative xxunk on this bill . i think that for the xxunk of this article , the section on xxmaj turkey shall be extended and editors shall give opportunity for the other side to justify why xxmaj pelosi is wrong on this issue . \\n\\n xxmaj otherwise , this section seems like an election platform of ms . nancy prior to elections . \\n\\n i have been trying to extend this section , but pro - nancy editors and probably her office staff are deleting all my additions</td>\n",
       "      <td>0</td>\n",
       "      <td>0</td>\n",
       "    </tr>\n",
       "  </tbody>\n",
       "</table>"
      ],
      "text/plain": [
       "<IPython.core.display.HTML object>"
      ]
     },
     "metadata": {},
     "output_type": "display_data"
    },
    {
     "data": {
      "application/javascript": [
       "\n",
       "            setTimeout(function() {\n",
       "                var nbb_cell_id = 16;\n",
       "                var nbb_unformatted_code = \"learn.show_results()\";\n",
       "                var nbb_formatted_code = \"learn.show_results()\";\n",
       "                var nbb_cells = Jupyter.notebook.get_cells();\n",
       "                for (var i = 0; i < nbb_cells.length; ++i) {\n",
       "                    if (nbb_cells[i].input_prompt_number == nbb_cell_id) {\n",
       "                        if (nbb_cells[i].get_text() == nbb_unformatted_code) {\n",
       "                             nbb_cells[i].set_text(nbb_formatted_code);\n",
       "                        }\n",
       "                        break;\n",
       "                    }\n",
       "                }\n",
       "            }, 500);\n",
       "            "
      ],
      "text/plain": [
       "<IPython.core.display.Javascript object>"
      ]
     },
     "metadata": {},
     "output_type": "display_data"
    }
   ],
   "source": [
    "learn.show_results()"
   ]
  },
  {
   "cell_type": "markdown",
   "id": "f46eee6a",
   "metadata": {},
   "source": [
    "## Obscene"
   ]
  },
  {
   "cell_type": "code",
   "execution_count": 17,
   "id": "57cbeed1",
   "metadata": {
    "ExecuteTime": {
     "end_time": "2022-12-25T16:22:41.428908Z",
     "start_time": "2022-12-25T16:22:02.254541Z"
    }
   },
   "outputs": [
    {
     "data": {
      "text/html": [
       "\n",
       "<style>\n",
       "    /* Turns off some styling */\n",
       "    progress {\n",
       "        /* gets rid of default border in Firefox and Opera. */\n",
       "        border: none;\n",
       "        /* Needs to be in here for Safari polyfill so background images work as expected. */\n",
       "        background-size: auto;\n",
       "    }\n",
       "    progress:not([value]), progress:not([value])::-webkit-progress-bar {\n",
       "        background: repeating-linear-gradient(45deg, #7e7e7e, #7e7e7e 10px, #5c5c5c 10px, #5c5c5c 20px);\n",
       "    }\n",
       "    .progress-bar-interrupted, .progress-bar-interrupted::-webkit-progress-bar {\n",
       "        background: #F44336;\n",
       "    }\n",
       "</style>\n"
      ],
      "text/plain": [
       "<IPython.core.display.HTML object>"
      ]
     },
     "metadata": {},
     "output_type": "display_data"
    },
    {
     "data": {
      "text/html": [],
      "text/plain": [
       "<IPython.core.display.HTML object>"
      ]
     },
     "metadata": {},
     "output_type": "display_data"
    },
    {
     "data": {
      "application/javascript": [
       "\n",
       "            setTimeout(function() {\n",
       "                var nbb_cell_id = 17;\n",
       "                var nbb_unformatted_code = \"obscene_dls = TextDataLoaders.from_df(\\n    train_df[[\\\"comment_text\\\", \\\"obscene\\\"]],\\n    valid_pct=0.2,\\n    seed=42,\\n    bs=BATCH_SIZE,\\n)\";\n",
       "                var nbb_formatted_code = \"obscene_dls = TextDataLoaders.from_df(\\n    train_df[[\\\"comment_text\\\", \\\"obscene\\\"]],\\n    valid_pct=0.2,\\n    seed=42,\\n    bs=BATCH_SIZE,\\n)\";\n",
       "                var nbb_cells = Jupyter.notebook.get_cells();\n",
       "                for (var i = 0; i < nbb_cells.length; ++i) {\n",
       "                    if (nbb_cells[i].input_prompt_number == nbb_cell_id) {\n",
       "                        if (nbb_cells[i].get_text() == nbb_unformatted_code) {\n",
       "                             nbb_cells[i].set_text(nbb_formatted_code);\n",
       "                        }\n",
       "                        break;\n",
       "                    }\n",
       "                }\n",
       "            }, 500);\n",
       "            "
      ],
      "text/plain": [
       "<IPython.core.display.Javascript object>"
      ]
     },
     "metadata": {},
     "output_type": "display_data"
    }
   ],
   "source": [
    "obscene_dls = TextDataLoaders.from_df(\n",
    "    train_df[[\"comment_text\", \"obscene\"]],\n",
    "    valid_pct=0.2,\n",
    "    seed=42,\n",
    "    bs=BATCH_SIZE,\n",
    ")"
   ]
  },
  {
   "cell_type": "code",
   "execution_count": 18,
   "id": "1fc08678",
   "metadata": {
    "ExecuteTime": {
     "end_time": "2022-12-25T16:22:42.323006Z",
     "start_time": "2022-12-25T16:22:41.430239Z"
    }
   },
   "outputs": [
    {
     "data": {
      "text/plain": [
       "<fastai.text.learner.TextLearner at 0x7f13d54e3af0>"
      ]
     },
     "execution_count": 18,
     "metadata": {},
     "output_type": "execute_result"
    },
    {
     "data": {
      "application/javascript": [
       "\n",
       "            setTimeout(function() {\n",
       "                var nbb_cell_id = 18;\n",
       "                var nbb_unformatted_code = \"learn = text_classifier_learner(obscene_dls, AWD_LSTM, drop_mult=0.5, metrics=accuracy)\\nlearn\";\n",
       "                var nbb_formatted_code = \"learn = text_classifier_learner(obscene_dls, AWD_LSTM, drop_mult=0.5, metrics=accuracy)\\nlearn\";\n",
       "                var nbb_cells = Jupyter.notebook.get_cells();\n",
       "                for (var i = 0; i < nbb_cells.length; ++i) {\n",
       "                    if (nbb_cells[i].input_prompt_number == nbb_cell_id) {\n",
       "                        if (nbb_cells[i].get_text() == nbb_unformatted_code) {\n",
       "                             nbb_cells[i].set_text(nbb_formatted_code);\n",
       "                        }\n",
       "                        break;\n",
       "                    }\n",
       "                }\n",
       "            }, 500);\n",
       "            "
      ],
      "text/plain": [
       "<IPython.core.display.Javascript object>"
      ]
     },
     "metadata": {},
     "output_type": "display_data"
    }
   ],
   "source": [
    "learn = text_classifier_learner(obscene_dls, AWD_LSTM, drop_mult=0.5, metrics=accuracy)\n",
    "learn"
   ]
  },
  {
   "cell_type": "code",
   "execution_count": 19,
   "id": "dd6803ce",
   "metadata": {
    "ExecuteTime": {
     "end_time": "2022-12-25T16:22:42.582487Z",
     "start_time": "2022-12-25T16:22:42.324149Z"
    }
   },
   "outputs": [
    {
     "data": {
      "text/plain": [
       "<fastai.text.learner.TextLearner at 0x7f13d54e3af0>"
      ]
     },
     "execution_count": 19,
     "metadata": {},
     "output_type": "execute_result"
    },
    {
     "data": {
      "application/javascript": [
       "\n",
       "            setTimeout(function() {\n",
       "                var nbb_cell_id = 19;\n",
       "                var nbb_unformatted_code = \"learn.load(\\\"obscene\\\")\";\n",
       "                var nbb_formatted_code = \"learn.load(\\\"obscene\\\")\";\n",
       "                var nbb_cells = Jupyter.notebook.get_cells();\n",
       "                for (var i = 0; i < nbb_cells.length; ++i) {\n",
       "                    if (nbb_cells[i].input_prompt_number == nbb_cell_id) {\n",
       "                        if (nbb_cells[i].get_text() == nbb_unformatted_code) {\n",
       "                             nbb_cells[i].set_text(nbb_formatted_code);\n",
       "                        }\n",
       "                        break;\n",
       "                    }\n",
       "                }\n",
       "            }, 500);\n",
       "            "
      ],
      "text/plain": [
       "<IPython.core.display.Javascript object>"
      ]
     },
     "metadata": {},
     "output_type": "display_data"
    }
   ],
   "source": [
    "learn.load(\"obscene\")"
   ]
  },
  {
   "cell_type": "code",
   "execution_count": 20,
   "id": "f898979e",
   "metadata": {
    "ExecuteTime": {
     "end_time": "2022-12-25T16:22:43.587898Z",
     "start_time": "2022-12-25T16:22:42.583488Z"
    }
   },
   "outputs": [
    {
     "data": {
      "text/html": [
       "\n",
       "<style>\n",
       "    /* Turns off some styling */\n",
       "    progress {\n",
       "        /* gets rid of default border in Firefox and Opera. */\n",
       "        border: none;\n",
       "        /* Needs to be in here for Safari polyfill so background images work as expected. */\n",
       "        background-size: auto;\n",
       "    }\n",
       "    progress:not([value]), progress:not([value])::-webkit-progress-bar {\n",
       "        background: repeating-linear-gradient(45deg, #7e7e7e, #7e7e7e 10px, #5c5c5c 10px, #5c5c5c 20px);\n",
       "    }\n",
       "    .progress-bar-interrupted, .progress-bar-interrupted::-webkit-progress-bar {\n",
       "        background: #F44336;\n",
       "    }\n",
       "</style>\n"
      ],
      "text/plain": [
       "<IPython.core.display.HTML object>"
      ]
     },
     "metadata": {},
     "output_type": "display_data"
    },
    {
     "data": {
      "text/html": [],
      "text/plain": [
       "<IPython.core.display.HTML object>"
      ]
     },
     "metadata": {},
     "output_type": "display_data"
    },
    {
     "data": {
      "text/html": [
       "<table border=\"1\" class=\"dataframe\">\n",
       "  <thead>\n",
       "    <tr style=\"text-align: right;\">\n",
       "      <th></th>\n",
       "      <th>text</th>\n",
       "      <th>category</th>\n",
       "      <th>category_</th>\n",
       "    </tr>\n",
       "  </thead>\n",
       "  <tbody>\n",
       "    <tr>\n",
       "      <th>0</th>\n",
       "      <td>xxbos \" xxrep 5 f xxrep 6 u xxrep 6 c xxrep 6 k xxrep 5 = xxup you ! f xxup uu c xxup kk xxup you xxrep 5 f xxrep 6 u xxrep 6 c xxrep 6 k xxrep 5 = xxup you ! f xxup uu c xxup kk xxup you xxrep 5 f xxrep 6 u xxrep 6 c xxrep 6 k xxrep 5 = xxup you ! f xxup uu c xxup kk xxup you xxrep 5 f xxrep 6 u xxrep 6 c xxrep 6 k xxrep 5 = xxup you ! f xxup uu c xxup kk xxup you xxrep 5 f xxrep 6 u xxrep 6 c xxrep 6 k xxrep 5 = xxup you ! f xxup uu c xxup kk xxup you xxrep 5 f xxrep 6 u xxrep 6 c xxrep 6 k xxrep 5 = xxup you !</td>\n",
       "      <td>1</td>\n",
       "      <td>1</td>\n",
       "    </tr>\n",
       "    <tr>\n",
       "      <th>1</th>\n",
       "      <td>xxbos xxmaj hope xxmaj this xxmaj helps xxmaj you \\n\\n xxup xxunk \\n\\n xxup debut xxup date xxup peak xxup pos xxup wk xxup chr xxup title xxup number \\n▁\\n 3 - 6 - 54 xxmaj you ’re xxmaj in xxmaj my xxmaj heart / xxmaj no xxmaj money xxmaj in xxmaj the xxmaj deal 130 \\n 5 - 29 - 54 xxmaj wrong xxmaj about xxmaj you / xxmaj play xxmaj it xxmaj cool xxmaj man 146 \\n 7 - 16 - 54 xxmaj let xxmaj him xxmaj know / xxmaj let xxmaj me xxmaj catch xxmaj my xxmaj breath 160 \\n 9 - 25 - 54 xxmaj let xxmaj him xxmaj know / xxmaj you xxmaj all xxmaj goodnight 162 \\n 11 - 6 - 54 xxmaj xxunk xxmaj me / xxmaj tell xxmaj her ( s. xxmaj burns \\n▁ 165 \\n 5 - 14 - 55 xxmaj</td>\n",
       "      <td>0</td>\n",
       "      <td>0</td>\n",
       "    </tr>\n",
       "    <tr>\n",
       "      <th>2</th>\n",
       "      <td>xxbos xxmaj go fuck yourself ! xxmaj go fuck yourself ! xxmaj go fuck yourself ! xxmaj go fuck yourself ! xxmaj go fuck yourself ! xxmaj go fuck yourself ! xxmaj go fuck yourself ! xxmaj go fuck yourself ! xxmaj go fuck yourself ! xxmaj go fuck yourself ! xxmaj go fuck yourself ! xxmaj go fuck yourself ! xxmaj go fuck yourself ! xxmaj go fuck yourself ! xxmaj go fuck yourself ! xxmaj go fuck yourself ! xxmaj go fuck yourself ! xxmaj go fuck yourself ! xxmaj go fuck yourself ! xxmaj go fuck yourself ! xxmaj go fuck yourself ! xxmaj go fuck yourself ! xxmaj go fuck yourself ! xxmaj go fuck yourself ! xxmaj go fuck yourself ! xxmaj go fuck yourself ! xxmaj go fuck yourself ! xxmaj go fuck yourself ! xxmaj go fuck yourself ! xxmaj go fuck yourself</td>\n",
       "      <td>1</td>\n",
       "      <td>1</td>\n",
       "    </tr>\n",
       "    <tr>\n",
       "      <th>3</th>\n",
       "      <td>xxbos \" \\n\\n▁ xxmaj references \\n\\n i do n't like deleting other people 's work , so i put the list of references here , it is way too long . \\n\\n▁ xxmaj xxunk , xxup a. ( xxunk ): xxmaj xxunk zur xxmaj xxunk der xxunk - xxunk der xxmaj xxunk xxmaj xxunk ( xxunk xxunk . xxunk . xxmaj xxunk . xxmaj wien 21 : 117 - 224 . \\n▁ xxmaj xxunk , xxup p. ( xxunk ): xxmaj xxunk der von xxmaj prof . xxmaj ed . van xxmaj xxunk auf xxunk i m xxmaj xxunk der xxmaj xxunk xxmaj xxunk xxunk xxunk xxmaj xxunk nach xxmaj xxunk und xxmaj la xxmaj plata i m xxmaj xxunk 1872 - 73 xxunk xxunk . xxmaj xxunk . xxmaj acad . xxmaj xxunk . 43 : 1 - 120 . \\n▁ xxmaj bond , xxmaj jason xxup e. (</td>\n",
       "      <td>0</td>\n",
       "      <td>0</td>\n",
       "    </tr>\n",
       "    <tr>\n",
       "      <th>4</th>\n",
       "      <td>xxbos xxmaj do i know you ? \\n\\n because xxmaj you are a xxup fggt ! \\n▁ xxmaj do i know you ? \\n\\n because xxmaj you are a xxup fggt ! \\n▁ xxmaj do i know you ? \\n\\n because xxmaj you are a xxup fggt ! \\n▁ xxmaj do i know you ? \\n\\n because xxmaj you are a xxup fggt ! \\n▁ xxmaj do i know you ? \\n\\n because xxmaj you are a xxup fggt ! \\n▁ xxmaj do i know you ? \\n\\n because xxmaj you are a xxup fggt ! \\n▁ xxmaj do i know you ? \\n\\n because xxmaj you are a xxup fggt ! \\n▁ xxmaj do i know you ? \\n\\n because xxmaj you are a xxup fggt ! \\n▁ xxmaj do i know you ? \\n\\n because xxmaj you are a xxup fggt ! \\n▁ xxmaj do i know you</td>\n",
       "      <td>1</td>\n",
       "      <td>0</td>\n",
       "    </tr>\n",
       "    <tr>\n",
       "      <th>5</th>\n",
       "      <td>xxbos \" here 's the entire xxmaj antelope xxmaj valley xxmaj press page , please feel free to let me know why they are more notable other than being around longer than the xxup av xxmaj news has : \\n\\n xxmaj antelope xxmaj valley xxmaj press \\n xxmaj from xxmaj wikipedia , the free encyclopedia \\n xxmaj jump to : navigation , search \\n xxmaj antelope xxmaj valley xxmaj press xxmaj type xxunk newspaper \\n xxmaj format xxunk \\n xxmaj owner xxunk xxmaj valley xxmaj newspapers \\n xxmaj publisher xxunk xxup c. xxmaj markham \\n xxmaj founded xxunk 3 , 1915 \\n ( as the xxmaj palmdale xxmaj post ) \\n xxmaj headquarters xxup xxunk xxmaj sierra xxmaj highway \\n xxmaj palmdale , xxmaj california xxunk \\n▁ xxmaj united xxmaj states \\n xxmaj circulation xxup xxunk ( 2010 ) \\n xxmaj official website xxunk \\n\\n xxmaj the xxmaj antelope xxmaj</td>\n",
       "      <td>0</td>\n",
       "      <td>0</td>\n",
       "    </tr>\n",
       "    <tr>\n",
       "      <th>6</th>\n",
       "      <td>xxbos \" \\n\\n▁ xxmaj one xxup mo ' time for the kids in the back … \\n\\n xxup just ca n’t let go of a few items , huh ? \\n\\n xxmaj okay from the top : \\n 1 ) xxmaj my info on the xxup glaad awards and the xxup eisner xxmaj nominations came from xxmaj winick ’s website . xxup but is that ’s not good enough … \\n\\n 2 ) i did a quick xxup google ( xxup winick and xxup glaad xxup awards ) and found various articles to that effect . xxmaj here ’s one that mention awards from 2001 &amp; 2002 \\n\\n http : / / xxrep 3 w xxunk / forums / archive / index.php / xxunk \\n\\n here ’s the link to the xxup glaad awards in 2003 ( they do n’t archive back further then that ) \\n\\n http : /</td>\n",
       "      <td>0</td>\n",
       "      <td>0</td>\n",
       "    </tr>\n",
       "    <tr>\n",
       "      <th>7</th>\n",
       "      <td>xxbos \" \\n\\n \" \" xxrep 3 : xxmaj firstly , please , xxmaj i 'll appreciate if you will use colons to format your responce properly ( in the same way xxmaj i 've done for you ) . xxmaj that makes the thread more readable . \" \" \\n\\n xxmaj gon na quote your xxunk . xxmaj just do n't edit my posts . i do n't like this . \\n\\n \" \" xxrep 3 : xxmaj re xxup xxunk offensive , yes , i think the xxup ussr had no chances against the whole xxmaj axis in the case if xxmaj britain and the xxup us never existed . xxmaj however , in this case the xxmaj axis would never formed : xxmaj hitler was very suspicious of xxmaj japan , and there would be no xxunk - japanese alliance . \" \" \\n\\n i think it</td>\n",
       "      <td>0</td>\n",
       "      <td>0</td>\n",
       "    </tr>\n",
       "    <tr>\n",
       "      <th>8</th>\n",
       "      <td>xxbos \" \\n▁ xxmaj old discussions from 2003 \\n\\n xxmaj some xxmaj mormons argue that even assuming mainstream xxmaj christianity 's definition of xxmaj god 's omnipotence and xxunk , not only can xxmaj god exalt mortal man , but xxmaj god must do so . \\n\\n i do n't understand this sentence . i do n't know what the issue is supposed to be , to which xxmaj mormons are contributing their \" \" argument \" \" ; i do n't know what it means that xxmaj god \" \" must \" \" exalt mortal man . 20:54 , 4 xxmaj nov 2003 ( utc ) \\n\\n xxmaj agreed . xxmaj it is not clear what the writer meant . i have no idea who wrote it , but xxmaj i 'll change it . \\n\\n xxmaj sorry for that very brief and very confusing statement . xxmaj where</td>\n",
       "      <td>0</td>\n",
       "      <td>0</td>\n",
       "    </tr>\n",
       "  </tbody>\n",
       "</table>"
      ],
      "text/plain": [
       "<IPython.core.display.HTML object>"
      ]
     },
     "metadata": {},
     "output_type": "display_data"
    },
    {
     "data": {
      "application/javascript": [
       "\n",
       "            setTimeout(function() {\n",
       "                var nbb_cell_id = 20;\n",
       "                var nbb_unformatted_code = \"learn.show_results()\";\n",
       "                var nbb_formatted_code = \"learn.show_results()\";\n",
       "                var nbb_cells = Jupyter.notebook.get_cells();\n",
       "                for (var i = 0; i < nbb_cells.length; ++i) {\n",
       "                    if (nbb_cells[i].input_prompt_number == nbb_cell_id) {\n",
       "                        if (nbb_cells[i].get_text() == nbb_unformatted_code) {\n",
       "                             nbb_cells[i].set_text(nbb_formatted_code);\n",
       "                        }\n",
       "                        break;\n",
       "                    }\n",
       "                }\n",
       "            }, 500);\n",
       "            "
      ],
      "text/plain": [
       "<IPython.core.display.Javascript object>"
      ]
     },
     "metadata": {},
     "output_type": "display_data"
    }
   ],
   "source": [
    "learn.show_results()"
   ]
  },
  {
   "cell_type": "markdown",
   "id": "ea800e0f",
   "metadata": {},
   "source": [
    "# Threat"
   ]
  },
  {
   "cell_type": "code",
   "execution_count": 21,
   "id": "a52c5779",
   "metadata": {
    "ExecuteTime": {
     "end_time": "2022-12-25T16:23:21.489363Z",
     "start_time": "2022-12-25T16:22:43.589136Z"
    }
   },
   "outputs": [
    {
     "data": {
      "text/html": [
       "\n",
       "<style>\n",
       "    /* Turns off some styling */\n",
       "    progress {\n",
       "        /* gets rid of default border in Firefox and Opera. */\n",
       "        border: none;\n",
       "        /* Needs to be in here for Safari polyfill so background images work as expected. */\n",
       "        background-size: auto;\n",
       "    }\n",
       "    progress:not([value]), progress:not([value])::-webkit-progress-bar {\n",
       "        background: repeating-linear-gradient(45deg, #7e7e7e, #7e7e7e 10px, #5c5c5c 10px, #5c5c5c 20px);\n",
       "    }\n",
       "    .progress-bar-interrupted, .progress-bar-interrupted::-webkit-progress-bar {\n",
       "        background: #F44336;\n",
       "    }\n",
       "</style>\n"
      ],
      "text/plain": [
       "<IPython.core.display.HTML object>"
      ]
     },
     "metadata": {},
     "output_type": "display_data"
    },
    {
     "data": {
      "text/html": [],
      "text/plain": [
       "<IPython.core.display.HTML object>"
      ]
     },
     "metadata": {},
     "output_type": "display_data"
    },
    {
     "data": {
      "application/javascript": [
       "\n",
       "            setTimeout(function() {\n",
       "                var nbb_cell_id = 21;\n",
       "                var nbb_unformatted_code = \"threat_dls = TextDataLoaders.from_df(\\n    train_df[[\\\"comment_text\\\", \\\"threat\\\"]],\\n    valid_pct=0.2,\\n    seed=42,\\n    bs=BATCH_SIZE,\\n)\";\n",
       "                var nbb_formatted_code = \"threat_dls = TextDataLoaders.from_df(\\n    train_df[[\\\"comment_text\\\", \\\"threat\\\"]],\\n    valid_pct=0.2,\\n    seed=42,\\n    bs=BATCH_SIZE,\\n)\";\n",
       "                var nbb_cells = Jupyter.notebook.get_cells();\n",
       "                for (var i = 0; i < nbb_cells.length; ++i) {\n",
       "                    if (nbb_cells[i].input_prompt_number == nbb_cell_id) {\n",
       "                        if (nbb_cells[i].get_text() == nbb_unformatted_code) {\n",
       "                             nbb_cells[i].set_text(nbb_formatted_code);\n",
       "                        }\n",
       "                        break;\n",
       "                    }\n",
       "                }\n",
       "            }, 500);\n",
       "            "
      ],
      "text/plain": [
       "<IPython.core.display.Javascript object>"
      ]
     },
     "metadata": {},
     "output_type": "display_data"
    }
   ],
   "source": [
    "threat_dls = TextDataLoaders.from_df(\n",
    "    train_df[[\"comment_text\", \"threat\"]],\n",
    "    valid_pct=0.2,\n",
    "    seed=42,\n",
    "    bs=BATCH_SIZE,\n",
    ")"
   ]
  },
  {
   "cell_type": "code",
   "execution_count": 22,
   "id": "bc5028a3",
   "metadata": {
    "ExecuteTime": {
     "end_time": "2022-12-25T16:23:22.382390Z",
     "start_time": "2022-12-25T16:23:21.490725Z"
    }
   },
   "outputs": [
    {
     "data": {
      "text/plain": [
       "<fastai.text.learner.TextLearner at 0x7f11ae831910>"
      ]
     },
     "execution_count": 22,
     "metadata": {},
     "output_type": "execute_result"
    },
    {
     "data": {
      "application/javascript": [
       "\n",
       "            setTimeout(function() {\n",
       "                var nbb_cell_id = 22;\n",
       "                var nbb_unformatted_code = \"learn = text_classifier_learner(threat_dls, AWD_LSTM, drop_mult=0.5, metrics=accuracy)\\nlearn\";\n",
       "                var nbb_formatted_code = \"learn = text_classifier_learner(threat_dls, AWD_LSTM, drop_mult=0.5, metrics=accuracy)\\nlearn\";\n",
       "                var nbb_cells = Jupyter.notebook.get_cells();\n",
       "                for (var i = 0; i < nbb_cells.length; ++i) {\n",
       "                    if (nbb_cells[i].input_prompt_number == nbb_cell_id) {\n",
       "                        if (nbb_cells[i].get_text() == nbb_unformatted_code) {\n",
       "                             nbb_cells[i].set_text(nbb_formatted_code);\n",
       "                        }\n",
       "                        break;\n",
       "                    }\n",
       "                }\n",
       "            }, 500);\n",
       "            "
      ],
      "text/plain": [
       "<IPython.core.display.Javascript object>"
      ]
     },
     "metadata": {},
     "output_type": "display_data"
    }
   ],
   "source": [
    "learn = text_classifier_learner(threat_dls, AWD_LSTM, drop_mult=0.5, metrics=accuracy)\n",
    "learn"
   ]
  },
  {
   "cell_type": "code",
   "execution_count": 23,
   "id": "6d03ad31",
   "metadata": {
    "ExecuteTime": {
     "end_time": "2022-12-25T16:23:22.675727Z",
     "start_time": "2022-12-25T16:23:22.383426Z"
    }
   },
   "outputs": [
    {
     "data": {
      "text/plain": [
       "<fastai.text.learner.TextLearner at 0x7f11ae831910>"
      ]
     },
     "execution_count": 23,
     "metadata": {},
     "output_type": "execute_result"
    },
    {
     "data": {
      "application/javascript": [
       "\n",
       "            setTimeout(function() {\n",
       "                var nbb_cell_id = 23;\n",
       "                var nbb_unformatted_code = \"learn.load(\\\"threat\\\")\";\n",
       "                var nbb_formatted_code = \"learn.load(\\\"threat\\\")\";\n",
       "                var nbb_cells = Jupyter.notebook.get_cells();\n",
       "                for (var i = 0; i < nbb_cells.length; ++i) {\n",
       "                    if (nbb_cells[i].input_prompt_number == nbb_cell_id) {\n",
       "                        if (nbb_cells[i].get_text() == nbb_unformatted_code) {\n",
       "                             nbb_cells[i].set_text(nbb_formatted_code);\n",
       "                        }\n",
       "                        break;\n",
       "                    }\n",
       "                }\n",
       "            }, 500);\n",
       "            "
      ],
      "text/plain": [
       "<IPython.core.display.Javascript object>"
      ]
     },
     "metadata": {},
     "output_type": "display_data"
    }
   ],
   "source": [
    "learn.load(\"threat\")"
   ]
  },
  {
   "cell_type": "code",
   "execution_count": 24,
   "id": "dd63453a",
   "metadata": {
    "ExecuteTime": {
     "end_time": "2022-12-25T16:23:23.687615Z",
     "start_time": "2022-12-25T16:23:22.676722Z"
    }
   },
   "outputs": [
    {
     "data": {
      "text/html": [
       "\n",
       "<style>\n",
       "    /* Turns off some styling */\n",
       "    progress {\n",
       "        /* gets rid of default border in Firefox and Opera. */\n",
       "        border: none;\n",
       "        /* Needs to be in here for Safari polyfill so background images work as expected. */\n",
       "        background-size: auto;\n",
       "    }\n",
       "    progress:not([value]), progress:not([value])::-webkit-progress-bar {\n",
       "        background: repeating-linear-gradient(45deg, #7e7e7e, #7e7e7e 10px, #5c5c5c 10px, #5c5c5c 20px);\n",
       "    }\n",
       "    .progress-bar-interrupted, .progress-bar-interrupted::-webkit-progress-bar {\n",
       "        background: #F44336;\n",
       "    }\n",
       "</style>\n"
      ],
      "text/plain": [
       "<IPython.core.display.HTML object>"
      ]
     },
     "metadata": {},
     "output_type": "display_data"
    },
    {
     "data": {
      "text/html": [],
      "text/plain": [
       "<IPython.core.display.HTML object>"
      ]
     },
     "metadata": {},
     "output_type": "display_data"
    },
    {
     "data": {
      "text/html": [
       "<table border=\"1\" class=\"dataframe\">\n",
       "  <thead>\n",
       "    <tr style=\"text-align: right;\">\n",
       "      <th></th>\n",
       "      <th>text</th>\n",
       "      <th>category</th>\n",
       "      <th>category_</th>\n",
       "    </tr>\n",
       "  </thead>\n",
       "  <tbody>\n",
       "    <tr>\n",
       "      <th>0</th>\n",
       "      <td>xxbos \" xxrep 5 f xxrep 6 u xxrep 6 c xxrep 6 k xxrep 5 = xxup you ! f xxup uu c xxup kk xxup you xxrep 5 f xxrep 6 u xxrep 6 c xxrep 6 k xxrep 5 = xxup you ! f xxup uu c xxup kk xxup you xxrep 5 f xxrep 6 u xxrep 6 c xxrep 6 k xxrep 5 = xxup you ! f xxup uu c xxup kk xxup you xxrep 5 f xxrep 6 u xxrep 6 c xxrep 6 k xxrep 5 = xxup you ! f xxup uu c xxup kk xxup you xxrep 5 f xxrep 6 u xxrep 6 c xxrep 6 k xxrep 5 = xxup you ! f xxup uu c xxup kk xxup you xxrep 5 f xxrep 6 u xxrep 6 c xxrep 6 k xxrep 5 = xxup you !</td>\n",
       "      <td>0</td>\n",
       "      <td>0</td>\n",
       "    </tr>\n",
       "    <tr>\n",
       "      <th>1</th>\n",
       "      <td>xxbos xxup fucking xxup bitches xxup that xxup are xxup reading xxup this . xxup jasenm xxrep 3 2 xxup sucks xxup fat xxup dick.fucking xxup bitches xxup that xxup are xxup reading xxup this . xxup jasenm xxrep 3 2 xxup sucks xxup fat xxup dick.fucking xxup bitches xxup that xxup are xxup reading xxup this . xxup jasenm xxrep 3 2 xxup sucks xxup fat xxup dick.fucking xxup bitches xxup that xxup are xxup reading xxup this . xxup jasenm xxrep 3 2 xxup sucks xxup fat xxup dick.fucking xxup bitches xxup that xxup are xxup reading xxup this . xxup jasenm xxrep 3 2 xxup sucks xxup fat xxup dick.fucking xxup bitches xxup that xxup are xxup reading xxup this . xxup jasenm xxrep 3 2 xxup sucks xxup fat xxup dick.fucking xxup bitches xxup that xxup are xxup reading xxup this . xxup jasenm xxrep 3</td>\n",
       "      <td>0</td>\n",
       "      <td>0</td>\n",
       "    </tr>\n",
       "    <tr>\n",
       "      <th>2</th>\n",
       "      <td>xxbos hey i like xxmaj jews hey i like xxmaj jews hey i like xxmaj jews hey i like xxmaj jews hey i like xxmaj jews hey i like xxmaj jews hey i like xxmaj jews hey i like xxmaj jews hey i like xxmaj jews hey i like xxmaj jews hey i like xxmaj jews hey i like xxmaj jews hey i like xxmaj jews hey i like xxmaj jews hey i like xxmaj jews hey i like xxmaj jews hey i like xxmaj jews hey i like xxmaj jews hey i like xxmaj jews hey i like xxmaj jews hey i like xxmaj jews hey i like xxmaj jews hey i like xxmaj jews hey i like xxmaj jews hey i like xxmaj jews hey i like xxmaj jews hey i like xxmaj jews hey i like xxmaj jews hey i like xxmaj jews hey i like xxmaj</td>\n",
       "      <td>0</td>\n",
       "      <td>0</td>\n",
       "    </tr>\n",
       "    <tr>\n",
       "      <th>3</th>\n",
       "      <td>xxbos xxup you xxup can xxup suck xxup my xxup lick xxup you xxup can xxup suck xxup my xxup lick xxup you xxup can xxup suck xxup my xxup lick xxup you xxup can xxup suck xxup my xxup lick xxup you xxup can xxup suck xxup my xxup lick xxup you xxup can xxup suck xxup my xxup lick xxup you xxup can xxup suck xxup my xxup lick xxup you xxup can xxup suck xxup my xxup lick xxup you xxup can xxup suck xxup my xxup lick xxup you xxup can xxup suck xxup my xxup lick xxup you xxup can xxup suck xxup my xxup lick xxup you xxup can xxup suck xxup my xxup lick xxup you xxup can xxup suck xxup my xxup lick xxup you xxup can xxup suck xxup my xxup lick xxup you xxup can xxup suck xxup my xxup</td>\n",
       "      <td>0</td>\n",
       "      <td>0</td>\n",
       "    </tr>\n",
       "    <tr>\n",
       "      <th>4</th>\n",
       "      <td>xxbos xxrep 3 \" xxmaj but if it be a sin to covet honour , i am the most offending soul alive . xxunk \\n\\n 1 ) \" \" it is simply a fact that many critics of xxmaj sarfatti are very negative about his theories and speculations . \" \" \\n\\n xxmaj false . xxmaj you have not given even xxup one valid example of that . i doubt you would be able to understand what the physics is about anyway . \\n xxmaj you can not produce even xxup one objective valid refutation of any of my physics ideas by anyone . xxup ch saying \" \" it 's nonsense \" \" is not objective . xxmaj it 's not valid . xxmaj it is not rationally argued . xxmaj no reasons are given . xxmaj also i retracted my xxup ftl xxmaj communication xxmaj idea 15 years</td>\n",
       "      <td>0</td>\n",
       "      <td>0</td>\n",
       "    </tr>\n",
       "    <tr>\n",
       "      <th>5</th>\n",
       "      <td>xxbos \" = = xxmaj cohanim xxup j2 - xxmaj eleazar - xxmaj phinchas - xxmaj zadok = = \\n\\n▁ xxmaj agree . xxmaj dr . xxmaj karl xxmaj skorecki have the final word about xxmaj cohanim genetic signatures . xxmaj he , more than anyone else , is the most credible person that can publish articles and true informations about xxmaj cohanim genetic signatures , not xxmaj xxunk . xxmaj he was the one who discovered the xxup cmh in 1997 . xxmaj after 10 years , he came out to announce in 2007 , that \" \" he and his research team have discovered not one but two xxmaj cohen xxmaj modal xxmaj haplotypes , which he called xxup j1 and xxup j2 \" \" . xxmaj katz , xxmaj kaplan , xxmaj xxunk , xxmaj shapiro , xxunk , xxunk , are all xxup j2 . xxmaj</td>\n",
       "      <td>0</td>\n",
       "      <td>0</td>\n",
       "    </tr>\n",
       "    <tr>\n",
       "      <th>6</th>\n",
       "      <td>xxbos \" \\n\\n▁ xxmaj my position on the two xxmaj irelands , using xxmaj arbcom and admin abuse \\n\\n i give my views on the two xxmaj irelands in the paragraphs below , but i will begin with what i feel is most serious . \\n\\n xxmaj i 've had a look back , and xxup imo , there is one thing in particular i that is pressing for xxmaj wikipedia 's future here : \\n\\n xxmaj the admin user : deacon of xxmaj pndapetzim must have his adminship fully questioned in the correct place . xxmaj no one has a chance on xxmaj wikipedia when an admin acts ( and wheel wars ) like he has done – and i believe he has overstepped the line , and made a difficult but legal situation into a nightmare situation for everyone . i warned him of the mayhem that would</td>\n",
       "      <td>0</td>\n",
       "      <td>0</td>\n",
       "    </tr>\n",
       "    <tr>\n",
       "      <th>7</th>\n",
       "      <td>xxbos \" \\n\\n i did n't utter any threat to anybody and i have looked at this link of yours , stop making a fool of yourself by ignoring the facts . xxmaj you pretend as if it was a threat but it was n't . xxmaj it cover what is actually going on , and i am in my xxunk to inform a person of what his actions have result in . xxmaj you do not have the right to supress this warning unless you contact me and / or give an explaination for your reason to suppress it . xxmaj you failed to do any xxunk it . \\n i xxunk receive any messages from you not even after you had banish me , xxunk your message above is dated of the 26 of august it was n't there at that date and i am sure of it</td>\n",
       "      <td>0</td>\n",
       "      <td>0</td>\n",
       "    </tr>\n",
       "    <tr>\n",
       "      <th>8</th>\n",
       "      <td>xxbos \" \\n\\n▁ xxmaj more on xxmaj protocols / xxmaj procedures / xxmaj courtesy \\n\\n xxmaj hi xxmaj xxunk , \\n xxmaj thanks so much for your kind reply . xxmaj our discussion was getting so long it was unwieldy to scroll though , so i thought xxmaj i 'd continue under a new heading . xxmaj hope you have no objection . \\n xxmaj i 'm still under the gun with that project i mentioned and am amazed that my last note was as long as it is ! ! xxmaj wanted to reply to a few points for the moment … i 'm using numbered points because it makes it easier for you ( and me ) to refer back to . \\n 1 . xxmaj xxunk my making a clear distinction between me / us and \" \" your editorial colleagues \" \" , yes , you</td>\n",
       "      <td>0</td>\n",
       "      <td>0</td>\n",
       "    </tr>\n",
       "  </tbody>\n",
       "</table>"
      ],
      "text/plain": [
       "<IPython.core.display.HTML object>"
      ]
     },
     "metadata": {},
     "output_type": "display_data"
    },
    {
     "data": {
      "application/javascript": [
       "\n",
       "            setTimeout(function() {\n",
       "                var nbb_cell_id = 24;\n",
       "                var nbb_unformatted_code = \"learn.show_results()\";\n",
       "                var nbb_formatted_code = \"learn.show_results()\";\n",
       "                var nbb_cells = Jupyter.notebook.get_cells();\n",
       "                for (var i = 0; i < nbb_cells.length; ++i) {\n",
       "                    if (nbb_cells[i].input_prompt_number == nbb_cell_id) {\n",
       "                        if (nbb_cells[i].get_text() == nbb_unformatted_code) {\n",
       "                             nbb_cells[i].set_text(nbb_formatted_code);\n",
       "                        }\n",
       "                        break;\n",
       "                    }\n",
       "                }\n",
       "            }, 500);\n",
       "            "
      ],
      "text/plain": [
       "<IPython.core.display.Javascript object>"
      ]
     },
     "metadata": {},
     "output_type": "display_data"
    }
   ],
   "source": [
    "learn.show_results()"
   ]
  },
  {
   "cell_type": "markdown",
   "id": "c885bf2b",
   "metadata": {},
   "source": [
    "# Insult"
   ]
  },
  {
   "cell_type": "code",
   "execution_count": 25,
   "id": "3ff07d37",
   "metadata": {
    "ExecuteTime": {
     "end_time": "2022-12-25T16:24:01.466099Z",
     "start_time": "2022-12-25T16:23:23.688618Z"
    }
   },
   "outputs": [
    {
     "data": {
      "text/html": [
       "\n",
       "<style>\n",
       "    /* Turns off some styling */\n",
       "    progress {\n",
       "        /* gets rid of default border in Firefox and Opera. */\n",
       "        border: none;\n",
       "        /* Needs to be in here for Safari polyfill so background images work as expected. */\n",
       "        background-size: auto;\n",
       "    }\n",
       "    progress:not([value]), progress:not([value])::-webkit-progress-bar {\n",
       "        background: repeating-linear-gradient(45deg, #7e7e7e, #7e7e7e 10px, #5c5c5c 10px, #5c5c5c 20px);\n",
       "    }\n",
       "    .progress-bar-interrupted, .progress-bar-interrupted::-webkit-progress-bar {\n",
       "        background: #F44336;\n",
       "    }\n",
       "</style>\n"
      ],
      "text/plain": [
       "<IPython.core.display.HTML object>"
      ]
     },
     "metadata": {},
     "output_type": "display_data"
    },
    {
     "data": {
      "text/html": [],
      "text/plain": [
       "<IPython.core.display.HTML object>"
      ]
     },
     "metadata": {},
     "output_type": "display_data"
    },
    {
     "data": {
      "application/javascript": [
       "\n",
       "            setTimeout(function() {\n",
       "                var nbb_cell_id = 25;\n",
       "                var nbb_unformatted_code = \"insult_dls = TextDataLoaders.from_df(\\n    train_df[[\\\"comment_text\\\", \\\"insult\\\"]],\\n    valid_pct=0.2,\\n    seed=42,\\n    bs=BATCH_SIZE,\\n)\";\n",
       "                var nbb_formatted_code = \"insult_dls = TextDataLoaders.from_df(\\n    train_df[[\\\"comment_text\\\", \\\"insult\\\"]],\\n    valid_pct=0.2,\\n    seed=42,\\n    bs=BATCH_SIZE,\\n)\";\n",
       "                var nbb_cells = Jupyter.notebook.get_cells();\n",
       "                for (var i = 0; i < nbb_cells.length; ++i) {\n",
       "                    if (nbb_cells[i].input_prompt_number == nbb_cell_id) {\n",
       "                        if (nbb_cells[i].get_text() == nbb_unformatted_code) {\n",
       "                             nbb_cells[i].set_text(nbb_formatted_code);\n",
       "                        }\n",
       "                        break;\n",
       "                    }\n",
       "                }\n",
       "            }, 500);\n",
       "            "
      ],
      "text/plain": [
       "<IPython.core.display.Javascript object>"
      ]
     },
     "metadata": {},
     "output_type": "display_data"
    }
   ],
   "source": [
    "insult_dls = TextDataLoaders.from_df(\n",
    "    train_df[[\"comment_text\", \"insult\"]],\n",
    "    valid_pct=0.2,\n",
    "    seed=42,\n",
    "    bs=BATCH_SIZE,\n",
    ")"
   ]
  },
  {
   "cell_type": "code",
   "execution_count": 26,
   "id": "26cf9544",
   "metadata": {
    "ExecuteTime": {
     "end_time": "2022-12-25T16:24:02.413436Z",
     "start_time": "2022-12-25T16:24:01.467510Z"
    }
   },
   "outputs": [
    {
     "data": {
      "text/plain": [
       "<fastai.text.learner.TextLearner at 0x7f137ad56040>"
      ]
     },
     "execution_count": 26,
     "metadata": {},
     "output_type": "execute_result"
    },
    {
     "data": {
      "application/javascript": [
       "\n",
       "            setTimeout(function() {\n",
       "                var nbb_cell_id = 26;\n",
       "                var nbb_unformatted_code = \"learn = text_classifier_learner(insult_dls, AWD_LSTM, drop_mult=0.5, metrics=accuracy)\\nlearn\";\n",
       "                var nbb_formatted_code = \"learn = text_classifier_learner(insult_dls, AWD_LSTM, drop_mult=0.5, metrics=accuracy)\\nlearn\";\n",
       "                var nbb_cells = Jupyter.notebook.get_cells();\n",
       "                for (var i = 0; i < nbb_cells.length; ++i) {\n",
       "                    if (nbb_cells[i].input_prompt_number == nbb_cell_id) {\n",
       "                        if (nbb_cells[i].get_text() == nbb_unformatted_code) {\n",
       "                             nbb_cells[i].set_text(nbb_formatted_code);\n",
       "                        }\n",
       "                        break;\n",
       "                    }\n",
       "                }\n",
       "            }, 500);\n",
       "            "
      ],
      "text/plain": [
       "<IPython.core.display.Javascript object>"
      ]
     },
     "metadata": {},
     "output_type": "display_data"
    }
   ],
   "source": [
    "learn = text_classifier_learner(insult_dls, AWD_LSTM, drop_mult=0.5, metrics=accuracy)\n",
    "learn"
   ]
  },
  {
   "cell_type": "code",
   "execution_count": 27,
   "id": "4d80c2f2",
   "metadata": {
    "ExecuteTime": {
     "end_time": "2022-12-25T16:24:02.701969Z",
     "start_time": "2022-12-25T16:24:02.414629Z"
    }
   },
   "outputs": [
    {
     "data": {
      "text/plain": [
       "<fastai.text.learner.TextLearner at 0x7f137ad56040>"
      ]
     },
     "execution_count": 27,
     "metadata": {},
     "output_type": "execute_result"
    },
    {
     "data": {
      "application/javascript": [
       "\n",
       "            setTimeout(function() {\n",
       "                var nbb_cell_id = 27;\n",
       "                var nbb_unformatted_code = \"learn.load(\\\"insult\\\")\";\n",
       "                var nbb_formatted_code = \"learn.load(\\\"insult\\\")\";\n",
       "                var nbb_cells = Jupyter.notebook.get_cells();\n",
       "                for (var i = 0; i < nbb_cells.length; ++i) {\n",
       "                    if (nbb_cells[i].input_prompt_number == nbb_cell_id) {\n",
       "                        if (nbb_cells[i].get_text() == nbb_unformatted_code) {\n",
       "                             nbb_cells[i].set_text(nbb_formatted_code);\n",
       "                        }\n",
       "                        break;\n",
       "                    }\n",
       "                }\n",
       "            }, 500);\n",
       "            "
      ],
      "text/plain": [
       "<IPython.core.display.Javascript object>"
      ]
     },
     "metadata": {},
     "output_type": "display_data"
    }
   ],
   "source": [
    "learn.load(\"insult\")"
   ]
  },
  {
   "cell_type": "code",
   "execution_count": 28,
   "id": "45539b9b",
   "metadata": {
    "ExecuteTime": {
     "end_time": "2022-12-25T16:24:03.702767Z",
     "start_time": "2022-12-25T16:24:02.705046Z"
    }
   },
   "outputs": [
    {
     "data": {
      "text/html": [
       "\n",
       "<style>\n",
       "    /* Turns off some styling */\n",
       "    progress {\n",
       "        /* gets rid of default border in Firefox and Opera. */\n",
       "        border: none;\n",
       "        /* Needs to be in here for Safari polyfill so background images work as expected. */\n",
       "        background-size: auto;\n",
       "    }\n",
       "    progress:not([value]), progress:not([value])::-webkit-progress-bar {\n",
       "        background: repeating-linear-gradient(45deg, #7e7e7e, #7e7e7e 10px, #5c5c5c 10px, #5c5c5c 20px);\n",
       "    }\n",
       "    .progress-bar-interrupted, .progress-bar-interrupted::-webkit-progress-bar {\n",
       "        background: #F44336;\n",
       "    }\n",
       "</style>\n"
      ],
      "text/plain": [
       "<IPython.core.display.HTML object>"
      ]
     },
     "metadata": {},
     "output_type": "display_data"
    },
    {
     "data": {
      "text/html": [],
      "text/plain": [
       "<IPython.core.display.HTML object>"
      ]
     },
     "metadata": {},
     "output_type": "display_data"
    },
    {
     "data": {
      "text/html": [
       "<table border=\"1\" class=\"dataframe\">\n",
       "  <thead>\n",
       "    <tr style=\"text-align: right;\">\n",
       "      <th></th>\n",
       "      <th>text</th>\n",
       "      <th>category</th>\n",
       "      <th>category_</th>\n",
       "    </tr>\n",
       "  </thead>\n",
       "  <tbody>\n",
       "    <tr>\n",
       "      <th>0</th>\n",
       "      <td>xxbos \" xxrep 5 f xxrep 6 u xxrep 6 c xxrep 6 k xxrep 5 = xxup you ! f xxup uu c xxup kk xxup you xxrep 5 f xxrep 6 u xxrep 6 c xxrep 6 k xxrep 5 = xxup you ! f xxup uu c xxup kk xxup you xxrep 5 f xxrep 6 u xxrep 6 c xxrep 6 k xxrep 5 = xxup you ! f xxup uu c xxup kk xxup you xxrep 5 f xxrep 6 u xxrep 6 c xxrep 6 k xxrep 5 = xxup you ! f xxup uu c xxup kk xxup you xxrep 5 f xxrep 6 u xxrep 6 c xxrep 6 k xxrep 5 = xxup you ! f xxup uu c xxup kk xxup you xxrep 5 f xxrep 6 u xxrep 6 c xxrep 6 k xxrep 5 = xxup you !</td>\n",
       "      <td>1</td>\n",
       "      <td>0</td>\n",
       "    </tr>\n",
       "    <tr>\n",
       "      <th>1</th>\n",
       "      <td>xxbos xxup fucking xxup bitches xxup that xxup are xxup reading xxup this . xxup jasenm xxrep 3 2 xxup sucks xxup fat xxup dick.fucking xxup bitches xxup that xxup are xxup reading xxup this . xxup jasenm xxrep 3 2 xxup sucks xxup fat xxup dick.fucking xxup bitches xxup that xxup are xxup reading xxup this . xxup jasenm xxrep 3 2 xxup sucks xxup fat xxup dick.fucking xxup bitches xxup that xxup are xxup reading xxup this . xxup jasenm xxrep 3 2 xxup sucks xxup fat xxup dick.fucking xxup bitches xxup that xxup are xxup reading xxup this . xxup jasenm xxrep 3 2 xxup sucks xxup fat xxup dick.fucking xxup bitches xxup that xxup are xxup reading xxup this . xxup jasenm xxrep 3 2 xxup sucks xxup fat xxup dick.fucking xxup bitches xxup that xxup are xxup reading xxup this . xxup jasenm xxrep 3</td>\n",
       "      <td>1</td>\n",
       "      <td>0</td>\n",
       "    </tr>\n",
       "    <tr>\n",
       "      <th>2</th>\n",
       "      <td>xxbos xxup fuck xxup wikipedia xxrep 3 ! xxup fuck xxup wikipedia xxrep 3 ! xxup fuck xxup wikipedia xxrep 3 ! xxup fuck xxup wikipedia xxrep 3 ! xxup fuck xxup wikipedia xxrep 3 ! xxup fuck xxup wikipedia xxrep 3 ! xxup fuck xxup wikipedia xxrep 3 ! xxup fuck xxup wikipedia xxrep 3 ! xxup fuck xxup wikipedia xxrep 3 ! xxup fuck xxup wikipedia xxrep 3 ! xxup fuck xxup wikipedia xxrep 3 ! xxup fuck xxup wikipedia xxrep 3 ! xxup fuck xxup wikipedia xxrep 3 ! xxup fuck xxup wikipedia xxrep 3 ! xxup fuck xxup wikipedia xxrep 3 ! xxup fuck xxup wikipedia xxrep 3 ! xxup fuck xxup wikipedia xxrep 3 ! xxup fuck xxup wikipedia xxrep 3 ! xxup fuck xxup wikipedia xxrep 3 ! xxup fuck xxup wikipedia xxrep 3 ! xxup fuck xxup wikipedia xxrep 3 ! xxup fuck</td>\n",
       "      <td>0</td>\n",
       "      <td>0</td>\n",
       "    </tr>\n",
       "    <tr>\n",
       "      <th>3</th>\n",
       "      <td>xxbos xxmaj sannse is a big fat bitch for not leaving the users alone along with xxmaj angela . xxmaj billj is a xxmaj dumbass for deleting my messages . xxmaj sannse is a big fat bitch for not leaving the users alone along with xxmaj angela . xxmaj billj is a xxmaj dumbass for deleting my messages . xxmaj sannse is a big fat bitch for not leaving the users alone along with xxmaj angela . xxmaj billj is a xxmaj dumbass for deleting my messages . xxmaj sannse is a big fat bitch for not leaving the users alone along with xxmaj angela . xxmaj billj is a xxmaj dumbass for deleting my messages . xxmaj sannse is a big fat bitch for not leaving the users alone along with xxmaj angela . xxmaj billj is a xxmaj dumbass for deleting my messages . xxmaj sannse is a</td>\n",
       "      <td>1</td>\n",
       "      <td>1</td>\n",
       "    </tr>\n",
       "    <tr>\n",
       "      <th>4</th>\n",
       "      <td>xxbos xxmaj you swine . xxmaj you vulgar little maggot . xxmaj you worthless bag of filth . xxmaj as they say in xxmaj texas . xxmaj i ’ll bet you could n’t pour ! @ # $ out of a boot with instructions on the heel . xxmaj you are a canker . a sore that wo n’t go away . i would rather kiss a lawyer than be seen with you . \\n xxmaj you ’re a xxunk mass , a walking vomit . xxmaj you are a spineless little worm deserving nothing but the xxunk contempt . xxmaj you are a jerk , a cad , a weasel . xxmaj your life is a monument to stupidity . xxmaj you are a stench , a revulsion , a big suck on a sour lemon . \\n xxmaj you are a bleating xxunk , a xxunk staggering mutant</td>\n",
       "      <td>1</td>\n",
       "      <td>1</td>\n",
       "    </tr>\n",
       "    <tr>\n",
       "      <th>5</th>\n",
       "      <td>xxbos \" \\n\\n xxmaj i 've have , in the travels here on xxmaj wikipedia , stumbled across some accounts that had been banned , and in each case , the banning notice advise the banned of the lenght of time the ban would be in effect ? xxmaj if not improper , might i be told ? \\n\\n i edited a hidden note to clean it up and expand it in hopes it would then be better understood and accepted because , in the state it was in , it was jumbled and confusing ( obviously , such things are xxup imo ) . xxmaj also , part of the message was put in a hidden note before the word in the principle article ( “ are ” ) that was sought ( by other before me ) to be protected and to remain unchanged , and part of</td>\n",
       "      <td>0</td>\n",
       "      <td>0</td>\n",
       "    </tr>\n",
       "    <tr>\n",
       "      <th>6</th>\n",
       "      <td>xxbos \" \\n\\n▁ xxmaj edits proposed to plot description : these are edit proposals made in good faith , not a bloody damned nuisance \\n\\n \" \" “ joliet ” xxmaj jake xxmaj blues is released from the xxmaj joliet xxmaj correctional xxmaj center after serving three years of a prison sentence after being convicted of armed robbery . \" \" \\n\\n xxmaj entry for xxmaj joliet xxmaj correctional xxmaj center . \\n\\n \" \" jake is irritated at being picked up by his brother xxmaj elwood in a battered former xxmaj mt . xxmaj prospect , xxmaj illinois police car , instead of the xxmaj cadillac xxmaj the xxmaj blues xxmaj brothers used to own . \" \" \\n\\n xxmaj it 's unclear here , however the xxmaj caddy xxmaj jake refers to may be xxmaj murph and the xxmaj magictones ' pink vehicle first seen in the \"</td>\n",
       "      <td>0</td>\n",
       "      <td>0</td>\n",
       "    </tr>\n",
       "    <tr>\n",
       "      <th>7</th>\n",
       "      <td>xxbos \" i think the following better captures the nature of the xxmaj investigations . xxmaj the first two xxunk have not been changed but the final three are completely different . xxmaj comments please . \\n\\n xxmaj although the xxmaj tractatus is a major work , xxmaj wittgenstein is mostly studied today for the xxmaj philosophical xxmaj investigations ( xxunk xxmaj untersuchungen ) . xxmaj in 1953 , two years after xxmaj wittgenstein 's death , the long - awaited book was published in two parts . xxmaj most of the xxunk numbered paragraphs in xxmaj part i were ready for printing in 1946 , but xxmaj wittgenstein withdrew the manuscript from the publisher . xxmaj the shorter xxmaj part xxup ii was added by the editors , xxup xxunk . xxmaj xxunk and xxmaj rush xxmaj xxunk . ( had xxmaj wittgenstein lived to complete the book himself</td>\n",
       "      <td>0</td>\n",
       "      <td>0</td>\n",
       "    </tr>\n",
       "    <tr>\n",
       "      <th>8</th>\n",
       "      <td>xxbos \" \\n\\n xxmaj the user xxmaj labongo attempts to distort the truth the following way \\n\\n xxmaj user xxmaj labongo states : \" \" your requests for references have been answered hundreds of times . \" \" \\n\\n xxmaj notice , how again you present a hopelessly goofy claim , user xxmaj labongo . xxmaj can you show us one such occasion where what we have been after has been offered to us , in terms of quotes and the related page informaiton ? \\n\\n xxmaj no one has asked as an attachment for the xxmaj kven text a list of references which disagree with the information offered . xxmaj this is the absurd case now . \\n\\n xxmaj we need to see where exactly those offered sources agree with the written text offered in the xxmaj kven article . xxmaj those sort of pinpointed and exact - easily</td>\n",
       "      <td>0</td>\n",
       "      <td>0</td>\n",
       "    </tr>\n",
       "  </tbody>\n",
       "</table>"
      ],
      "text/plain": [
       "<IPython.core.display.HTML object>"
      ]
     },
     "metadata": {},
     "output_type": "display_data"
    },
    {
     "data": {
      "application/javascript": [
       "\n",
       "            setTimeout(function() {\n",
       "                var nbb_cell_id = 28;\n",
       "                var nbb_unformatted_code = \"learn.show_results()\";\n",
       "                var nbb_formatted_code = \"learn.show_results()\";\n",
       "                var nbb_cells = Jupyter.notebook.get_cells();\n",
       "                for (var i = 0; i < nbb_cells.length; ++i) {\n",
       "                    if (nbb_cells[i].input_prompt_number == nbb_cell_id) {\n",
       "                        if (nbb_cells[i].get_text() == nbb_unformatted_code) {\n",
       "                             nbb_cells[i].set_text(nbb_formatted_code);\n",
       "                        }\n",
       "                        break;\n",
       "                    }\n",
       "                }\n",
       "            }, 500);\n",
       "            "
      ],
      "text/plain": [
       "<IPython.core.display.Javascript object>"
      ]
     },
     "metadata": {},
     "output_type": "display_data"
    }
   ],
   "source": [
    "learn.show_results()"
   ]
  },
  {
   "cell_type": "markdown",
   "id": "1dae23e1",
   "metadata": {},
   "source": [
    "# Identity hate"
   ]
  },
  {
   "cell_type": "code",
   "execution_count": 29,
   "id": "b93d01b0",
   "metadata": {
    "ExecuteTime": {
     "end_time": "2022-12-25T16:24:41.428883Z",
     "start_time": "2022-12-25T16:24:03.703966Z"
    }
   },
   "outputs": [
    {
     "data": {
      "text/html": [
       "\n",
       "<style>\n",
       "    /* Turns off some styling */\n",
       "    progress {\n",
       "        /* gets rid of default border in Firefox and Opera. */\n",
       "        border: none;\n",
       "        /* Needs to be in here for Safari polyfill so background images work as expected. */\n",
       "        background-size: auto;\n",
       "    }\n",
       "    progress:not([value]), progress:not([value])::-webkit-progress-bar {\n",
       "        background: repeating-linear-gradient(45deg, #7e7e7e, #7e7e7e 10px, #5c5c5c 10px, #5c5c5c 20px);\n",
       "    }\n",
       "    .progress-bar-interrupted, .progress-bar-interrupted::-webkit-progress-bar {\n",
       "        background: #F44336;\n",
       "    }\n",
       "</style>\n"
      ],
      "text/plain": [
       "<IPython.core.display.HTML object>"
      ]
     },
     "metadata": {},
     "output_type": "display_data"
    },
    {
     "data": {
      "text/html": [],
      "text/plain": [
       "<IPython.core.display.HTML object>"
      ]
     },
     "metadata": {},
     "output_type": "display_data"
    },
    {
     "data": {
      "application/javascript": [
       "\n",
       "            setTimeout(function() {\n",
       "                var nbb_cell_id = 29;\n",
       "                var nbb_unformatted_code = \"identity_hate_dls = TextDataLoaders.from_df(\\n    train_df[[\\\"comment_text\\\", \\\"identity_hate\\\"]],\\n    valid_pct=0.2,\\n    seed=42,\\n    bs=BATCH_SIZE,\\n)\";\n",
       "                var nbb_formatted_code = \"identity_hate_dls = TextDataLoaders.from_df(\\n    train_df[[\\\"comment_text\\\", \\\"identity_hate\\\"]],\\n    valid_pct=0.2,\\n    seed=42,\\n    bs=BATCH_SIZE,\\n)\";\n",
       "                var nbb_cells = Jupyter.notebook.get_cells();\n",
       "                for (var i = 0; i < nbb_cells.length; ++i) {\n",
       "                    if (nbb_cells[i].input_prompt_number == nbb_cell_id) {\n",
       "                        if (nbb_cells[i].get_text() == nbb_unformatted_code) {\n",
       "                             nbb_cells[i].set_text(nbb_formatted_code);\n",
       "                        }\n",
       "                        break;\n",
       "                    }\n",
       "                }\n",
       "            }, 500);\n",
       "            "
      ],
      "text/plain": [
       "<IPython.core.display.Javascript object>"
      ]
     },
     "metadata": {},
     "output_type": "display_data"
    }
   ],
   "source": [
    "identity_hate_dls = TextDataLoaders.from_df(\n",
    "    train_df[[\"comment_text\", \"identity_hate\"]],\n",
    "    valid_pct=0.2,\n",
    "    seed=42,\n",
    "    bs=BATCH_SIZE,\n",
    ")"
   ]
  },
  {
   "cell_type": "code",
   "execution_count": 30,
   "id": "ca0a619e",
   "metadata": {
    "ExecuteTime": {
     "end_time": "2022-12-25T16:24:42.347002Z",
     "start_time": "2022-12-25T16:24:41.430077Z"
    }
   },
   "outputs": [
    {
     "data": {
      "text/plain": [
       "<fastai.text.learner.TextLearner at 0x7f10cc5b28b0>"
      ]
     },
     "execution_count": 30,
     "metadata": {},
     "output_type": "execute_result"
    },
    {
     "data": {
      "application/javascript": [
       "\n",
       "            setTimeout(function() {\n",
       "                var nbb_cell_id = 30;\n",
       "                var nbb_unformatted_code = \"learn = text_classifier_learner(\\n    identity_hate_dls, AWD_LSTM, drop_mult=0.5, metrics=accuracy\\n)\\nlearn\";\n",
       "                var nbb_formatted_code = \"learn = text_classifier_learner(\\n    identity_hate_dls, AWD_LSTM, drop_mult=0.5, metrics=accuracy\\n)\\nlearn\";\n",
       "                var nbb_cells = Jupyter.notebook.get_cells();\n",
       "                for (var i = 0; i < nbb_cells.length; ++i) {\n",
       "                    if (nbb_cells[i].input_prompt_number == nbb_cell_id) {\n",
       "                        if (nbb_cells[i].get_text() == nbb_unformatted_code) {\n",
       "                             nbb_cells[i].set_text(nbb_formatted_code);\n",
       "                        }\n",
       "                        break;\n",
       "                    }\n",
       "                }\n",
       "            }, 500);\n",
       "            "
      ],
      "text/plain": [
       "<IPython.core.display.Javascript object>"
      ]
     },
     "metadata": {},
     "output_type": "display_data"
    }
   ],
   "source": [
    "learn = text_classifier_learner(\n",
    "    identity_hate_dls, AWD_LSTM, drop_mult=0.5, metrics=accuracy\n",
    ")\n",
    "learn"
   ]
  },
  {
   "cell_type": "code",
   "execution_count": 31,
   "id": "32c88df0",
   "metadata": {
    "ExecuteTime": {
     "end_time": "2022-12-25T16:24:42.642276Z",
     "start_time": "2022-12-25T16:24:42.348066Z"
    }
   },
   "outputs": [
    {
     "data": {
      "text/plain": [
       "<fastai.text.learner.TextLearner at 0x7f10cc5b28b0>"
      ]
     },
     "execution_count": 31,
     "metadata": {},
     "output_type": "execute_result"
    },
    {
     "data": {
      "application/javascript": [
       "\n",
       "            setTimeout(function() {\n",
       "                var nbb_cell_id = 31;\n",
       "                var nbb_unformatted_code = \"learn.load(\\\"identity_hate\\\")\";\n",
       "                var nbb_formatted_code = \"learn.load(\\\"identity_hate\\\")\";\n",
       "                var nbb_cells = Jupyter.notebook.get_cells();\n",
       "                for (var i = 0; i < nbb_cells.length; ++i) {\n",
       "                    if (nbb_cells[i].input_prompt_number == nbb_cell_id) {\n",
       "                        if (nbb_cells[i].get_text() == nbb_unformatted_code) {\n",
       "                             nbb_cells[i].set_text(nbb_formatted_code);\n",
       "                        }\n",
       "                        break;\n",
       "                    }\n",
       "                }\n",
       "            }, 500);\n",
       "            "
      ],
      "text/plain": [
       "<IPython.core.display.Javascript object>"
      ]
     },
     "metadata": {},
     "output_type": "display_data"
    }
   ],
   "source": [
    "learn.load(\"identity_hate\")"
   ]
  },
  {
   "cell_type": "code",
   "execution_count": 32,
   "id": "a10442b7",
   "metadata": {
    "ExecuteTime": {
     "end_time": "2022-12-25T16:24:43.605277Z",
     "start_time": "2022-12-25T16:24:42.643297Z"
    }
   },
   "outputs": [
    {
     "data": {
      "text/html": [
       "\n",
       "<style>\n",
       "    /* Turns off some styling */\n",
       "    progress {\n",
       "        /* gets rid of default border in Firefox and Opera. */\n",
       "        border: none;\n",
       "        /* Needs to be in here for Safari polyfill so background images work as expected. */\n",
       "        background-size: auto;\n",
       "    }\n",
       "    progress:not([value]), progress:not([value])::-webkit-progress-bar {\n",
       "        background: repeating-linear-gradient(45deg, #7e7e7e, #7e7e7e 10px, #5c5c5c 10px, #5c5c5c 20px);\n",
       "    }\n",
       "    .progress-bar-interrupted, .progress-bar-interrupted::-webkit-progress-bar {\n",
       "        background: #F44336;\n",
       "    }\n",
       "</style>\n"
      ],
      "text/plain": [
       "<IPython.core.display.HTML object>"
      ]
     },
     "metadata": {},
     "output_type": "display_data"
    },
    {
     "data": {
      "text/html": [],
      "text/plain": [
       "<IPython.core.display.HTML object>"
      ]
     },
     "metadata": {},
     "output_type": "display_data"
    },
    {
     "data": {
      "text/html": [
       "<table border=\"1\" class=\"dataframe\">\n",
       "  <thead>\n",
       "    <tr style=\"text-align: right;\">\n",
       "      <th></th>\n",
       "      <th>text</th>\n",
       "      <th>category</th>\n",
       "      <th>category_</th>\n",
       "    </tr>\n",
       "  </thead>\n",
       "  <tbody>\n",
       "    <tr>\n",
       "      <th>0</th>\n",
       "      <td>xxbos \" xxrep 5 f xxrep 6 u xxrep 6 c xxrep 6 k xxrep 5 = xxup you ! f xxup uu c xxup kk xxup you xxrep 5 f xxrep 6 u xxrep 6 c xxrep 6 k xxrep 5 = xxup you ! f xxup uu c xxup kk xxup you xxrep 5 f xxrep 6 u xxrep 6 c xxrep 6 k xxrep 5 = xxup you ! f xxup uu c xxup kk xxup you xxrep 5 f xxrep 6 u xxrep 6 c xxrep 6 k xxrep 5 = xxup you ! f xxup uu c xxup kk xxup you xxrep 5 f xxrep 6 u xxrep 6 c xxrep 6 k xxrep 5 = xxup you ! f xxup uu c xxup kk xxup you xxrep 5 f xxrep 6 u xxrep 6 c xxrep 6 k xxrep 5 = xxup you !</td>\n",
       "      <td>0</td>\n",
       "      <td>0</td>\n",
       "    </tr>\n",
       "    <tr>\n",
       "      <th>1</th>\n",
       "      <td>xxbos \" i just think it 's interesting how many revisions this has gone through … here 's the original 1911 \" \" gutenberg \" \" encyclopedia article that i pasted here originally , that has had the so - called \" \" islamic bias \" \" removed . i do know it needed editing , revising , expanding , and to be \" \" brought up to the times . \" \" xxmaj just something interesting to think about . \\n\\n xxup allah , the xxmaj arabic name used by xxmaj moslems of all nationalities for the one true xxmaj god . xxmaj it is compounded of al , the definite article , and xxunk , meaning a god . xxmaj the same word is found in xxmaj hebrew and xxmaj aramaic as well as in ancient xxmaj arabic ( sabaean ) . xxmaj the meaning of the root</td>\n",
       "      <td>0</td>\n",
       "      <td>0</td>\n",
       "    </tr>\n",
       "    <tr>\n",
       "      <th>2</th>\n",
       "      <td>xxbos xxmaj lao vs. xxmaj laotian in xxmaj english \\n xxmaj use of xxmaj lao \\n ' lao ' = xxunk xxunk xxunk \\n xxmaj in the xxmaj lao language ( and as well as in xxmaj isan — which xxmaj isan people also call lao — and the xxmaj thai language ) , ' lao ' ( xxunk ) can mean someone that is from the xxmaj lao xxmaj people 's xxmaj democratic xxmaj republic of xxmaj laos , as well as specifically ethnic xxmaj lao people ( which excludes the xxmaj hmong , xxmaj khmu and others ) or all people of xxmaj laos ( which includes the xxmaj hmong , xxmaj khmu and others ) . xxmaj isan people use ' lao ' to also refer to themselves and their language since most xxmaj isan people descend from xxmaj lao people from xxmaj vientiane , xxmaj xxunk</td>\n",
       "      <td>0</td>\n",
       "      <td>0</td>\n",
       "    </tr>\n",
       "    <tr>\n",
       "      <th>3</th>\n",
       "      <td>xxbos \" = = xxmaj cohanim xxup j2 - xxmaj eleazar - xxmaj phinchas - xxmaj zadok = = \\n\\n▁ xxmaj agree . xxmaj dr . xxmaj karl xxmaj skorecki have the final word about xxmaj cohanim genetic signatures . xxmaj he , more than anyone else , is the most credible person that can publish articles and true informations about xxmaj cohanim genetic signatures , not xxmaj xxunk . xxmaj he was the one who discovered the xxup cmh in 1997 . xxmaj after 10 years , he came out to announce in 2007 , that \" \" he and his research team have discovered not one but two xxmaj cohen xxmaj modal xxmaj haplotypes , which he called xxup j1 and xxup j2 \" \" . xxmaj katz , xxmaj kaplan , xxmaj xxunk , xxmaj shapiro , xxunk , xxunk , are all xxup j2 . xxmaj</td>\n",
       "      <td>0</td>\n",
       "      <td>0</td>\n",
       "    </tr>\n",
       "    <tr>\n",
       "      <th>4</th>\n",
       "      <td>xxbos \" \\n\\n xxmaj chip xxmaj berlet 's intentional holding back of article progress \\n xxmaj far - left xxmaj xxunk propagandist xxmaj chip xxmaj berlet is intentionally holding back the progress of the article , and recently removed information and work which took a very long time to build after going through numerous books which i own on the topic , he removed over 50 independent citations in a huge violation of xxup wp : censor , xxup wp : edit , xxup wp : own and xxup wp : cite to hold back information from the general public . xxmaj especially look at his vandalism of the \" \" italian xxmaj fascism \" \" section . xxmaj if xxmaj chip xxmaj berlet in a conflict of interest removes this information again i xxup will report his intentional destruction as vandalism . \\n\\n i placed th { { underconstruction</td>\n",
       "      <td>0</td>\n",
       "      <td>0</td>\n",
       "    </tr>\n",
       "    <tr>\n",
       "      <th>5</th>\n",
       "      <td>xxbos xxup bullshit xxmaj bullshit \\n xxup bullshit xxmaj bullshit \\n xxup bullshit xxmaj bullshit \\n xxup bullshit xxmaj bullshit \\n xxup bullshit xxmaj bullshit \\n xxup bullshit xxmaj bullshit \\n xxup bullshit xxmaj bullshit \\n xxup bullshit xxmaj bullshit \\n xxup bullshit xxmaj bullshit \\n xxup bullshit xxmaj bullshit \\n xxup bullshit xxmaj bullshit \\n xxup bullshit xxmaj bullshit \\n xxup bullshit xxmaj bullshit \\n xxup bullshit xxmaj bullshit \\n xxup bullshit xxmaj bullshit \\n xxup bullshit xxmaj bullshit \\n xxup bullshit xxmaj bullshit \\n xxup bullshit xxmaj bullshit \\n xxup bullshit xxmaj bullshit \\n xxup bullshit xxmaj bullshit \\n xxup bullshit xxmaj bullshit \\n xxup bullshit xxmaj bullshit \\n xxup bullshit xxmaj bullshit \\n xxup bullshit xxmaj bullshit \\n xxup bullshit xxmaj bullshit \\n xxup bullshit xxmaj bullshit \\n xxup bullshit xxmaj bullshit \\n xxup bullshit xxmaj bullshit \\n xxup bullshit xxmaj bullshit \\n xxup bullshit xxmaj bullshit</td>\n",
       "      <td>0</td>\n",
       "      <td>0</td>\n",
       "    </tr>\n",
       "    <tr>\n",
       "      <th>6</th>\n",
       "      <td>xxbos xxmaj solutions and suggestions … \\n\\n▁ asked for a third - party opinion , so here goes : \\n▁ xxmaj this long - running discussion makes me think of a few things in general : \\n▁ xxmaj michael is a newby , so the wiki policy of do n't bite the newbies seems to be relevant , and it looks like for the most part , is sticking to that , apart from personal comments about xxmaj michael 's xxmaj english . i can relate to the fact that it is sometimes hard to figure out what someone 's point is , and that may be what xxmaj kwami was trying to say about xxmaj michael , but i think it 's out of line to say that someone 's xxmaj english is non - native , or that someone 's knowledge of xxmaj arabic is similarly less than</td>\n",
       "      <td>0</td>\n",
       "      <td>0</td>\n",
       "    </tr>\n",
       "    <tr>\n",
       "      <th>7</th>\n",
       "      <td>xxbos \" \\n\\n▁ xxmaj dear xxunk and xxunk \\n\\n xxmaj starting a new section here because the preceding is hopelessly indented . \\n\\n xxunk and xxunk , you are mistaken in your thinking . xxmaj xxunk and xxmaj avenue are quite correct . i know this might be very difficult for you to accept . xxmaj you claim to have references supporting your interpretation . xxmaj however , i think you are misinterpreting the statements from the textbooks you are reading . i ca n't speak for your \" \" petroleum industry xxunk \" \" friend . xxmaj my guess is that you conveyed your misinterpretation of the situation to him / her . i have a ph.d . in mathematics and after reading this talk page and thinking i was almost losing my mind , i consulted with several other ph.d . mathematician and statistician friends of mine who</td>\n",
       "      <td>0</td>\n",
       "      <td>0</td>\n",
       "    </tr>\n",
       "    <tr>\n",
       "      <th>8</th>\n",
       "      <td>xxbos \" \\n\\n xxmaj in reply to you state in your edit summary for the \" \" existence of xxmaj god \" \" article : \" \" undid revision xxunk by xxunk . xxrep 3 2 .208 ( talk ) xxmaj difference is of opinion is not vandalism . xxmaj omega point is fringe . \" \" xxmaj that claim does n't even make coherent sense , besides the fact that you replaced a literate entry with an illiterate edit . \\n\\n xxmaj even if one incorrectly thinks that the xxmaj omega xxmaj point xxmaj theory is \" \" fringe , \" \" that has no logical connection with the edit that xxmaj jeffro77 made . xxmaj jeffro77 replaced this xxunk is very similar to the version that existed there since xxmaj october 31 , 2008 , with some xxunk this entry , giving the excuse in his edit summary</td>\n",
       "      <td>0</td>\n",
       "      <td>0</td>\n",
       "    </tr>\n",
       "  </tbody>\n",
       "</table>"
      ],
      "text/plain": [
       "<IPython.core.display.HTML object>"
      ]
     },
     "metadata": {},
     "output_type": "display_data"
    },
    {
     "data": {
      "application/javascript": [
       "\n",
       "            setTimeout(function() {\n",
       "                var nbb_cell_id = 32;\n",
       "                var nbb_unformatted_code = \"learn.show_results()\";\n",
       "                var nbb_formatted_code = \"learn.show_results()\";\n",
       "                var nbb_cells = Jupyter.notebook.get_cells();\n",
       "                for (var i = 0; i < nbb_cells.length; ++i) {\n",
       "                    if (nbb_cells[i].input_prompt_number == nbb_cell_id) {\n",
       "                        if (nbb_cells[i].get_text() == nbb_unformatted_code) {\n",
       "                             nbb_cells[i].set_text(nbb_formatted_code);\n",
       "                        }\n",
       "                        break;\n",
       "                    }\n",
       "                }\n",
       "            }, 500);\n",
       "            "
      ],
      "text/plain": [
       "<IPython.core.display.Javascript object>"
      ]
     },
     "metadata": {},
     "output_type": "display_data"
    }
   ],
   "source": [
    "learn.show_results()"
   ]
  },
  {
   "cell_type": "markdown",
   "id": "0630488b",
   "metadata": {},
   "source": [
    "# Submission"
   ]
  },
  {
   "cell_type": "code",
   "execution_count": 33,
   "id": "aa84c65f",
   "metadata": {
    "ExecuteTime": {
     "end_time": "2022-12-25T16:24:43.625359Z",
     "start_time": "2022-12-25T16:24:43.606378Z"
    }
   },
   "outputs": [
    {
     "data": {
      "text/html": [
       "<div>\n",
       "<style scoped>\n",
       "    .dataframe tbody tr th:only-of-type {\n",
       "        vertical-align: middle;\n",
       "    }\n",
       "\n",
       "    .dataframe tbody tr th {\n",
       "        vertical-align: top;\n",
       "    }\n",
       "\n",
       "    .dataframe thead th {\n",
       "        text-align: right;\n",
       "    }\n",
       "</style>\n",
       "<table border=\"1\" class=\"dataframe\">\n",
       "  <thead>\n",
       "    <tr style=\"text-align: right;\">\n",
       "      <th></th>\n",
       "      <th>text</th>\n",
       "    </tr>\n",
       "    <tr>\n",
       "      <th>id</th>\n",
       "      <th></th>\n",
       "    </tr>\n",
       "  </thead>\n",
       "  <tbody>\n",
       "    <tr>\n",
       "      <th>00001cee341fdb12</th>\n",
       "      <td>Yo bitch Ja Rule is more succesful then you'll ever be whats up with you and hating you sad mofuckas...i should bitch slap ur pethedic white faces and get you to kiss my ass you guys sicken me. Ja rule is about pride in da music man. dont diss that shit on him. and nothin is wrong bein like tupac he was a brother too...fuckin white boys get things right next time.,</td>\n",
       "    </tr>\n",
       "    <tr>\n",
       "      <th>0000247867823ef7</th>\n",
       "      <td>== From RfC == \\n\\n The title is fine as it is, IMO.</td>\n",
       "    </tr>\n",
       "    <tr>\n",
       "      <th>00013b17ad220c46</th>\n",
       "      <td>\" \\n\\n == Sources == \\n\\n * Zawe Ashton on Lapland —  /  \"</td>\n",
       "    </tr>\n",
       "    <tr>\n",
       "      <th>00017563c3f7919a</th>\n",
       "      <td>:If you have a look back at the source, the information I updated was the correct form. I can only guess the source hadn't updated. I shall update the information once again but thank you for your message.</td>\n",
       "    </tr>\n",
       "    <tr>\n",
       "      <th>00017695ad8997eb</th>\n",
       "      <td>I don't anonymously edit articles at all.</td>\n",
       "    </tr>\n",
       "    <tr>\n",
       "      <th>...</th>\n",
       "      <td>...</td>\n",
       "    </tr>\n",
       "    <tr>\n",
       "      <th>fffcd0960ee309b5</th>\n",
       "      <td>. \\n i totally agree, this stuff is nothing but too-long-crap</td>\n",
       "    </tr>\n",
       "    <tr>\n",
       "      <th>fffd7a9a6eb32c16</th>\n",
       "      <td>== Throw from out field to home plate. == \\n\\n Does it get there faster by throwing to cut off man or direct from out fielder? \\n Were the out fielders in the Mickey mantle era have better arms? \\n Rich</td>\n",
       "    </tr>\n",
       "    <tr>\n",
       "      <th>fffda9e8d6fafa9e</th>\n",
       "      <td>\" \\n\\n == Okinotorishima categories == \\n\\n I see your changes and agree this is \"\"more correct.\"\"  I had gotten confused, but then found this: \\n :... while acknowledging Japan's territorial rights to Okinotorishima itself ... \\n However, is there a category for  \\n :... did not acknowledge Japan's claim to an exclusive economic zone (EEZ) stemming from Okinotorishima. \\n That is, is there a category for \"\"disputed EEZ\"\"s?   \"</td>\n",
       "    </tr>\n",
       "    <tr>\n",
       "      <th>fffe8f1340a79fc2</th>\n",
       "      <td>\" \\n\\n == \"\"One of the founding nations of the EU - Germany - has a Law of Return quite similar to Israel's\"\" == \\n\\n This isn't actually true, is it? Germany allows people whose ancestors were citizens of Germany to return, but AFAIK it does not allow the descendants of Anglo-Saxons to \"\"return\"\" to Angeln and Saxony. Israel, by contrast, allows all Jews to \"\"return\"\" to Israel, even if they can't trace a particular ancestral line to anyone who lived in the modern state or even mandate Palestine. — \"</td>\n",
       "    </tr>\n",
       "    <tr>\n",
       "      <th>ffffce3fb183ee80</th>\n",
       "      <td>\" \\n :::Stop already. Your bullshit is not welcome here. I'm no fool, and if you think that kind of explination is enough, well pity you.    \"</td>\n",
       "    </tr>\n",
       "  </tbody>\n",
       "</table>\n",
       "<p>153164 rows × 1 columns</p>\n",
       "</div>"
      ],
      "text/plain": [
       "                                                                                                                                                                                                                                                                                                                                                                                                                                                                                                                                        text\n",
       "id                                                                                                                                                                                                                                                                                                                                                                                                                                                                                                                                          \n",
       "00001cee341fdb12                                                                                                                                             Yo bitch Ja Rule is more succesful then you'll ever be whats up with you and hating you sad mofuckas...i should bitch slap ur pethedic white faces and get you to kiss my ass you guys sicken me. Ja rule is about pride in da music man. dont diss that shit on him. and nothin is wrong bein like tupac he was a brother too...fuckin white boys get things right next time.,\n",
       "0000247867823ef7                                                                                                                                                                                                                                                                                                                                                                                                                                                                        == From RfC == \\n\\n The title is fine as it is, IMO.\n",
       "00013b17ad220c46                                                                                                                                                                                                                                                                                                                                                                                                                                                                  \" \\n\\n == Sources == \\n\\n * Zawe Ashton on Lapland —  /  \"\n",
       "00017563c3f7919a                                                                                                                                                                                                                                                                                                               :If you have a look back at the source, the information I updated was the correct form. I can only guess the source hadn't updated. I shall update the information once again but thank you for your message.\n",
       "00017695ad8997eb                                                                                                                                                                                                                                                                                                                                                                                                                                                                                   I don't anonymously edit articles at all.\n",
       "...                                                                                                                                                                                                                                                                                                                                                                                                                                                                                                                                      ...\n",
       "fffcd0960ee309b5                                                                                                                                                                                                                                                                                                                                                                                                                                                               . \\n i totally agree, this stuff is nothing but too-long-crap\n",
       "fffd7a9a6eb32c16                                                                                                                                                                                                                                                                                                                  == Throw from out field to home plate. == \\n\\n Does it get there faster by throwing to cut off man or direct from out fielder? \\n Were the out fielders in the Mickey mantle era have better arms? \\n Rich\n",
       "fffda9e8d6fafa9e                                                                             \" \\n\\n == Okinotorishima categories == \\n\\n I see your changes and agree this is \"\"more correct.\"\"  I had gotten confused, but then found this: \\n :... while acknowledging Japan's territorial rights to Okinotorishima itself ... \\n However, is there a category for  \\n :... did not acknowledge Japan's claim to an exclusive economic zone (EEZ) stemming from Okinotorishima. \\n That is, is there a category for \"\"disputed EEZ\"\"s?   \"\n",
       "fffe8f1340a79fc2  \" \\n\\n == \"\"One of the founding nations of the EU - Germany - has a Law of Return quite similar to Israel's\"\" == \\n\\n This isn't actually true, is it? Germany allows people whose ancestors were citizens of Germany to return, but AFAIK it does not allow the descendants of Anglo-Saxons to \"\"return\"\" to Angeln and Saxony. Israel, by contrast, allows all Jews to \"\"return\"\" to Israel, even if they can't trace a particular ancestral line to anyone who lived in the modern state or even mandate Palestine. — \"\n",
       "ffffce3fb183ee80                                                                                                                                                                                                                                                                                                                                                                              \" \\n :::Stop already. Your bullshit is not welcome here. I'm no fool, and if you think that kind of explination is enough, well pity you.    \"\n",
       "\n",
       "[153164 rows x 1 columns]"
      ]
     },
     "execution_count": 33,
     "metadata": {},
     "output_type": "execute_result"
    },
    {
     "data": {
      "application/javascript": [
       "\n",
       "            setTimeout(function() {\n",
       "                var nbb_cell_id = 33;\n",
       "                var nbb_unformatted_code = \"X_test = test_df.rename({\\\"comment_text\\\": \\\"text\\\"}, axis=1)\\nX_test\";\n",
       "                var nbb_formatted_code = \"X_test = test_df.rename({\\\"comment_text\\\": \\\"text\\\"}, axis=1)\\nX_test\";\n",
       "                var nbb_cells = Jupyter.notebook.get_cells();\n",
       "                for (var i = 0; i < nbb_cells.length; ++i) {\n",
       "                    if (nbb_cells[i].input_prompt_number == nbb_cell_id) {\n",
       "                        if (nbb_cells[i].get_text() == nbb_unformatted_code) {\n",
       "                             nbb_cells[i].set_text(nbb_formatted_code);\n",
       "                        }\n",
       "                        break;\n",
       "                    }\n",
       "                }\n",
       "            }, 500);\n",
       "            "
      ],
      "text/plain": [
       "<IPython.core.display.Javascript object>"
      ]
     },
     "metadata": {},
     "output_type": "display_data"
    }
   ],
   "source": [
    "X_test = test_df.rename({\"comment_text\": \"text\"}, axis=1)\n",
    "X_test"
   ]
  },
  {
   "cell_type": "code",
   "execution_count": 34,
   "id": "af9645fb",
   "metadata": {
    "ExecuteTime": {
     "end_time": "2022-12-25T16:27:16.808467Z",
     "start_time": "2022-12-25T16:24:43.626519Z"
    }
   },
   "outputs": [
    {
     "data": {
      "text/plain": [
       "<fastai.text.data.SortedDL at 0x7f117044c700>"
      ]
     },
     "execution_count": 34,
     "metadata": {},
     "output_type": "execute_result"
    },
    {
     "data": {
      "application/javascript": [
       "\n",
       "            setTimeout(function() {\n",
       "                var nbb_cell_id = 34;\n",
       "                var nbb_unformatted_code = \"# https://forums.fast.ai/t/text-batch-prediction-with-fastai-v2/80081\\ntest_dl = learn.dls.test_dl(X_test)\\ntest_dl\";\n",
       "                var nbb_formatted_code = \"# https://forums.fast.ai/t/text-batch-prediction-with-fastai-v2/80081\\ntest_dl = learn.dls.test_dl(X_test)\\ntest_dl\";\n",
       "                var nbb_cells = Jupyter.notebook.get_cells();\n",
       "                for (var i = 0; i < nbb_cells.length; ++i) {\n",
       "                    if (nbb_cells[i].input_prompt_number == nbb_cell_id) {\n",
       "                        if (nbb_cells[i].get_text() == nbb_unformatted_code) {\n",
       "                             nbb_cells[i].set_text(nbb_formatted_code);\n",
       "                        }\n",
       "                        break;\n",
       "                    }\n",
       "                }\n",
       "            }, 500);\n",
       "            "
      ],
      "text/plain": [
       "<IPython.core.display.Javascript object>"
      ]
     },
     "metadata": {},
     "output_type": "display_data"
    }
   ],
   "source": [
    "# https://forums.fast.ai/t/text-batch-prediction-with-fastai-v2/80081\n",
    "test_dl = learn.dls.test_dl(X_test)\n",
    "test_dl"
   ]
  },
  {
   "cell_type": "code",
   "execution_count": 35,
   "id": "5ad28935",
   "metadata": {
    "ExecuteTime": {
     "end_time": "2022-12-25T16:27:16.816716Z",
     "start_time": "2022-12-25T16:27:16.809503Z"
    }
   },
   "outputs": [
    {
     "data": {
      "text/html": [
       "<div>\n",
       "<style scoped>\n",
       "    .dataframe tbody tr th:only-of-type {\n",
       "        vertical-align: middle;\n",
       "    }\n",
       "\n",
       "    .dataframe tbody tr th {\n",
       "        vertical-align: top;\n",
       "    }\n",
       "\n",
       "    .dataframe thead th {\n",
       "        text-align: right;\n",
       "    }\n",
       "</style>\n",
       "<table border=\"1\" class=\"dataframe\">\n",
       "  <thead>\n",
       "    <tr style=\"text-align: right;\">\n",
       "      <th></th>\n",
       "    </tr>\n",
       "    <tr>\n",
       "      <th>id</th>\n",
       "    </tr>\n",
       "  </thead>\n",
       "  <tbody>\n",
       "    <tr>\n",
       "      <th>00001cee341fdb12</th>\n",
       "    </tr>\n",
       "    <tr>\n",
       "      <th>0000247867823ef7</th>\n",
       "    </tr>\n",
       "    <tr>\n",
       "      <th>00013b17ad220c46</th>\n",
       "    </tr>\n",
       "    <tr>\n",
       "      <th>00017563c3f7919a</th>\n",
       "    </tr>\n",
       "    <tr>\n",
       "      <th>00017695ad8997eb</th>\n",
       "    </tr>\n",
       "    <tr>\n",
       "      <th>...</th>\n",
       "    </tr>\n",
       "    <tr>\n",
       "      <th>fffcd0960ee309b5</th>\n",
       "    </tr>\n",
       "    <tr>\n",
       "      <th>fffd7a9a6eb32c16</th>\n",
       "    </tr>\n",
       "    <tr>\n",
       "      <th>fffda9e8d6fafa9e</th>\n",
       "    </tr>\n",
       "    <tr>\n",
       "      <th>fffe8f1340a79fc2</th>\n",
       "    </tr>\n",
       "    <tr>\n",
       "      <th>ffffce3fb183ee80</th>\n",
       "    </tr>\n",
       "  </tbody>\n",
       "</table>\n",
       "<p>153164 rows × 0 columns</p>\n",
       "</div>"
      ],
      "text/plain": [
       "Empty DataFrame\n",
       "Columns: []\n",
       "Index: [00001cee341fdb12, 0000247867823ef7, 00013b17ad220c46, 00017563c3f7919a, 00017695ad8997eb, 0001ea8717f6de06, 00024115d4cbde0f, 000247e83dcc1211, 00025358d4737918, 00026d1092fe71cc, 0002eadc3b301559, 0002f87b16116a7f, 0003806b11932181, 0003e1cccfd5a40a, 00059ace3e3e9a53, 000634272d0d44eb, 000663aff0fffc80, 000689dd34e20979, 000834769115370c, 000844b52dee5f3f, 00084da5d4ead7aa, 00091c35fa9d0465, 000968ce11f5ee34, 0009734200a85047, 00097b6214686db5, 0009aef4bd9e1697, 000a02d807ae0254, 000a6c6d4e89b9bc, 000bafe2080bba82, 000bf0a9894b2807, 000c50dceb1eed2b, 000c9b92318552d1, 000ce41d86f2b886, 000cf60dbaed8c02, 000d4f120d5a7303, 000d60becb7d1a67, 000fc381d4895598, 000ff37cf57ab537, 001068b809feee6b, 0011c58fcfd6bf91, 0011cefc680993ba, 0011ef6aa33d42e6, 0012706ac77a7b37, 0012bb72f20ae971, 0012bbcbd6958302, 00137446b1aec28c, 0013a435effa29bd, 0013be435187e84f, 0013fed3aeae76b7, 001411adf8f1dd82, 001421530a1aa622, 001426f56de6a49b, 00148cabab3f0abd, 0015d9af6dbc03c0, 00166b5f5bf2d758, 0016909ad784fe8d, 0016b94c8b20ffa6, 0016ec04bb0f869a, 00177176f33f587e, 0017d4d47894af05, 001804717513d860, 0018af86a1bdfef3, 0019400581a6fe32, 00199e012d99a8b9, 001a9a0fce445525, 001acc29b248cb6d, 001ade31463efdfe, 001af79497a01e91, 001bb624469de607, 001c368c738a814f, 001c86f5bceccb32, 001cba5e79b6b91e, 001ceacfd4ffa469, 001ceebc43e65027, 001d2f65ea6f4163, 001d39c71fce6f78, 001d739c97bc2ae4, 001deac5571d5186, 001e131e1a08845a, 001eba8bbe728e54, 001ed6d4be00614b, 001eff4007dbb65b, 001f1f993acff9a3, 0020376025dd8092, 002046a2e5669735, 002093eb829e4e1b, 00209bd924d80a3e, 0020baa22b95d1b0, 0020e1f3fafd4b17, 0020f1b79913e7c0, 0021e57e6b9cb3d9, 0021f7c457937f18, 002261b0415c4f9d, 0023317d123b6fcb, 00234e493cedb3e1, 0023f3f84f353bce, 002586bdf3280356, 0025a91b6955f1a5, 0025c49d87d9a18f, 00260d8dfcc29827, ...]\n",
       "\n",
       "[153164 rows x 0 columns]"
      ]
     },
     "execution_count": 35,
     "metadata": {},
     "output_type": "execute_result"
    },
    {
     "data": {
      "application/javascript": [
       "\n",
       "            setTimeout(function() {\n",
       "                var nbb_cell_id = 35;\n",
       "                var nbb_unformatted_code = \"submission_df = pd.DataFrame(index=X_test.index)\\nsubmission_df\";\n",
       "                var nbb_formatted_code = \"submission_df = pd.DataFrame(index=X_test.index)\\nsubmission_df\";\n",
       "                var nbb_cells = Jupyter.notebook.get_cells();\n",
       "                for (var i = 0; i < nbb_cells.length; ++i) {\n",
       "                    if (nbb_cells[i].input_prompt_number == nbb_cell_id) {\n",
       "                        if (nbb_cells[i].get_text() == nbb_unformatted_code) {\n",
       "                             nbb_cells[i].set_text(nbb_formatted_code);\n",
       "                        }\n",
       "                        break;\n",
       "                    }\n",
       "                }\n",
       "            }, 500);\n",
       "            "
      ],
      "text/plain": [
       "<IPython.core.display.Javascript object>"
      ]
     },
     "metadata": {},
     "output_type": "display_data"
    }
   ],
   "source": [
    "submission_df = pd.DataFrame(index=X_test.index)\n",
    "submission_df"
   ]
  },
  {
   "cell_type": "markdown",
   "id": "9b7c2a20",
   "metadata": {},
   "source": [
    "## Toxic"
   ]
  },
  {
   "cell_type": "code",
   "execution_count": 36,
   "id": "d776cee7",
   "metadata": {
    "ExecuteTime": {
     "end_time": "2022-12-25T16:28:45.902187Z",
     "start_time": "2022-12-25T16:27:16.817852Z"
    }
   },
   "outputs": [
    {
     "data": {
      "text/html": [
       "\n",
       "<style>\n",
       "    /* Turns off some styling */\n",
       "    progress {\n",
       "        /* gets rid of default border in Firefox and Opera. */\n",
       "        border: none;\n",
       "        /* Needs to be in here for Safari polyfill so background images work as expected. */\n",
       "        background-size: auto;\n",
       "    }\n",
       "    progress:not([value]), progress:not([value])::-webkit-progress-bar {\n",
       "        background: repeating-linear-gradient(45deg, #7e7e7e, #7e7e7e 10px, #5c5c5c 10px, #5c5c5c 20px);\n",
       "    }\n",
       "    .progress-bar-interrupted, .progress-bar-interrupted::-webkit-progress-bar {\n",
       "        background: #F44336;\n",
       "    }\n",
       "</style>\n"
      ],
      "text/plain": [
       "<IPython.core.display.HTML object>"
      ]
     },
     "metadata": {},
     "output_type": "display_data"
    },
    {
     "data": {
      "text/html": [],
      "text/plain": [
       "<IPython.core.display.HTML object>"
      ]
     },
     "metadata": {},
     "output_type": "display_data"
    },
    {
     "data": {
      "application/javascript": [
       "\n",
       "            setTimeout(function() {\n",
       "                var nbb_cell_id = 36;\n",
       "                var nbb_unformatted_code = \"learn.load(\\\"toxic\\\")\\nprobs, _ = learn.get_preds(dl=test_dl)\";\n",
       "                var nbb_formatted_code = \"learn.load(\\\"toxic\\\")\\nprobs, _ = learn.get_preds(dl=test_dl)\";\n",
       "                var nbb_cells = Jupyter.notebook.get_cells();\n",
       "                for (var i = 0; i < nbb_cells.length; ++i) {\n",
       "                    if (nbb_cells[i].input_prompt_number == nbb_cell_id) {\n",
       "                        if (nbb_cells[i].get_text() == nbb_unformatted_code) {\n",
       "                             nbb_cells[i].set_text(nbb_formatted_code);\n",
       "                        }\n",
       "                        break;\n",
       "                    }\n",
       "                }\n",
       "            }, 500);\n",
       "            "
      ],
      "text/plain": [
       "<IPython.core.display.Javascript object>"
      ]
     },
     "metadata": {},
     "output_type": "display_data"
    }
   ],
   "source": [
    "learn.load(\"toxic\")\n",
    "probs, _ = learn.get_preds(dl=test_dl)"
   ]
  },
  {
   "cell_type": "code",
   "execution_count": 37,
   "id": "16e8234f",
   "metadata": {
    "ExecuteTime": {
     "end_time": "2022-12-25T16:28:45.908212Z",
     "start_time": "2022-12-25T16:28:45.903969Z"
    }
   },
   "outputs": [
    {
     "data": {
      "application/javascript": [
       "\n",
       "            setTimeout(function() {\n",
       "                var nbb_cell_id = 37;\n",
       "                var nbb_unformatted_code = \"submission_df[\\\"toxic\\\"] = probs.numpy()[:, 1]\";\n",
       "                var nbb_formatted_code = \"submission_df[\\\"toxic\\\"] = probs.numpy()[:, 1]\";\n",
       "                var nbb_cells = Jupyter.notebook.get_cells();\n",
       "                for (var i = 0; i < nbb_cells.length; ++i) {\n",
       "                    if (nbb_cells[i].input_prompt_number == nbb_cell_id) {\n",
       "                        if (nbb_cells[i].get_text() == nbb_unformatted_code) {\n",
       "                             nbb_cells[i].set_text(nbb_formatted_code);\n",
       "                        }\n",
       "                        break;\n",
       "                    }\n",
       "                }\n",
       "            }, 500);\n",
       "            "
      ],
      "text/plain": [
       "<IPython.core.display.Javascript object>"
      ]
     },
     "metadata": {},
     "output_type": "display_data"
    }
   ],
   "source": [
    "submission_df[\"toxic\"] = probs.numpy()[:, 1]"
   ]
  },
  {
   "cell_type": "markdown",
   "id": "78e6e7ce",
   "metadata": {},
   "source": [
    "## Severe toxic"
   ]
  },
  {
   "cell_type": "code",
   "execution_count": 38,
   "id": "5c11c26f",
   "metadata": {
    "ExecuteTime": {
     "end_time": "2022-12-25T16:30:15.315043Z",
     "start_time": "2022-12-25T16:28:45.909136Z"
    }
   },
   "outputs": [
    {
     "data": {
      "text/html": [
       "\n",
       "<style>\n",
       "    /* Turns off some styling */\n",
       "    progress {\n",
       "        /* gets rid of default border in Firefox and Opera. */\n",
       "        border: none;\n",
       "        /* Needs to be in here for Safari polyfill so background images work as expected. */\n",
       "        background-size: auto;\n",
       "    }\n",
       "    progress:not([value]), progress:not([value])::-webkit-progress-bar {\n",
       "        background: repeating-linear-gradient(45deg, #7e7e7e, #7e7e7e 10px, #5c5c5c 10px, #5c5c5c 20px);\n",
       "    }\n",
       "    .progress-bar-interrupted, .progress-bar-interrupted::-webkit-progress-bar {\n",
       "        background: #F44336;\n",
       "    }\n",
       "</style>\n"
      ],
      "text/plain": [
       "<IPython.core.display.HTML object>"
      ]
     },
     "metadata": {},
     "output_type": "display_data"
    },
    {
     "data": {
      "text/html": [],
      "text/plain": [
       "<IPython.core.display.HTML object>"
      ]
     },
     "metadata": {},
     "output_type": "display_data"
    },
    {
     "data": {
      "application/javascript": [
       "\n",
       "            setTimeout(function() {\n",
       "                var nbb_cell_id = 38;\n",
       "                var nbb_unformatted_code = \"learn.load(\\\"severe_toxic\\\")\\nprobs, _ = learn.get_preds(dl=test_dl)\";\n",
       "                var nbb_formatted_code = \"learn.load(\\\"severe_toxic\\\")\\nprobs, _ = learn.get_preds(dl=test_dl)\";\n",
       "                var nbb_cells = Jupyter.notebook.get_cells();\n",
       "                for (var i = 0; i < nbb_cells.length; ++i) {\n",
       "                    if (nbb_cells[i].input_prompt_number == nbb_cell_id) {\n",
       "                        if (nbb_cells[i].get_text() == nbb_unformatted_code) {\n",
       "                             nbb_cells[i].set_text(nbb_formatted_code);\n",
       "                        }\n",
       "                        break;\n",
       "                    }\n",
       "                }\n",
       "            }, 500);\n",
       "            "
      ],
      "text/plain": [
       "<IPython.core.display.Javascript object>"
      ]
     },
     "metadata": {},
     "output_type": "display_data"
    }
   ],
   "source": [
    "learn.load(\"severe_toxic\")\n",
    "probs, _ = learn.get_preds(dl=test_dl)"
   ]
  },
  {
   "cell_type": "code",
   "execution_count": 39,
   "id": "b277b6c7",
   "metadata": {
    "ExecuteTime": {
     "end_time": "2022-12-25T16:30:15.321419Z",
     "start_time": "2022-12-25T16:30:15.316353Z"
    }
   },
   "outputs": [
    {
     "data": {
      "application/javascript": [
       "\n",
       "            setTimeout(function() {\n",
       "                var nbb_cell_id = 39;\n",
       "                var nbb_unformatted_code = \"submission_df[\\\"severe_toxic\\\"] = probs.numpy()[:, 1]\";\n",
       "                var nbb_formatted_code = \"submission_df[\\\"severe_toxic\\\"] = probs.numpy()[:, 1]\";\n",
       "                var nbb_cells = Jupyter.notebook.get_cells();\n",
       "                for (var i = 0; i < nbb_cells.length; ++i) {\n",
       "                    if (nbb_cells[i].input_prompt_number == nbb_cell_id) {\n",
       "                        if (nbb_cells[i].get_text() == nbb_unformatted_code) {\n",
       "                             nbb_cells[i].set_text(nbb_formatted_code);\n",
       "                        }\n",
       "                        break;\n",
       "                    }\n",
       "                }\n",
       "            }, 500);\n",
       "            "
      ],
      "text/plain": [
       "<IPython.core.display.Javascript object>"
      ]
     },
     "metadata": {},
     "output_type": "display_data"
    }
   ],
   "source": [
    "submission_df[\"severe_toxic\"] = probs.numpy()[:, 1]"
   ]
  },
  {
   "cell_type": "markdown",
   "id": "46b835a4",
   "metadata": {},
   "source": [
    "## Obscene"
   ]
  },
  {
   "cell_type": "code",
   "execution_count": 40,
   "id": "98f19a9e",
   "metadata": {
    "ExecuteTime": {
     "end_time": "2022-12-25T16:31:45.161935Z",
     "start_time": "2022-12-25T16:30:15.322534Z"
    }
   },
   "outputs": [
    {
     "data": {
      "text/html": [
       "\n",
       "<style>\n",
       "    /* Turns off some styling */\n",
       "    progress {\n",
       "        /* gets rid of default border in Firefox and Opera. */\n",
       "        border: none;\n",
       "        /* Needs to be in here for Safari polyfill so background images work as expected. */\n",
       "        background-size: auto;\n",
       "    }\n",
       "    progress:not([value]), progress:not([value])::-webkit-progress-bar {\n",
       "        background: repeating-linear-gradient(45deg, #7e7e7e, #7e7e7e 10px, #5c5c5c 10px, #5c5c5c 20px);\n",
       "    }\n",
       "    .progress-bar-interrupted, .progress-bar-interrupted::-webkit-progress-bar {\n",
       "        background: #F44336;\n",
       "    }\n",
       "</style>\n"
      ],
      "text/plain": [
       "<IPython.core.display.HTML object>"
      ]
     },
     "metadata": {},
     "output_type": "display_data"
    },
    {
     "data": {
      "text/html": [],
      "text/plain": [
       "<IPython.core.display.HTML object>"
      ]
     },
     "metadata": {},
     "output_type": "display_data"
    },
    {
     "data": {
      "application/javascript": [
       "\n",
       "            setTimeout(function() {\n",
       "                var nbb_cell_id = 40;\n",
       "                var nbb_unformatted_code = \"learn.load(\\\"obscene\\\")\\nprobs, _ = learn.get_preds(dl=test_dl)\";\n",
       "                var nbb_formatted_code = \"learn.load(\\\"obscene\\\")\\nprobs, _ = learn.get_preds(dl=test_dl)\";\n",
       "                var nbb_cells = Jupyter.notebook.get_cells();\n",
       "                for (var i = 0; i < nbb_cells.length; ++i) {\n",
       "                    if (nbb_cells[i].input_prompt_number == nbb_cell_id) {\n",
       "                        if (nbb_cells[i].get_text() == nbb_unformatted_code) {\n",
       "                             nbb_cells[i].set_text(nbb_formatted_code);\n",
       "                        }\n",
       "                        break;\n",
       "                    }\n",
       "                }\n",
       "            }, 500);\n",
       "            "
      ],
      "text/plain": [
       "<IPython.core.display.Javascript object>"
      ]
     },
     "metadata": {},
     "output_type": "display_data"
    }
   ],
   "source": [
    "learn.load(\"obscene\")\n",
    "probs, _ = learn.get_preds(dl=test_dl)"
   ]
  },
  {
   "cell_type": "code",
   "execution_count": 41,
   "id": "5be888e5",
   "metadata": {
    "ExecuteTime": {
     "end_time": "2022-12-25T16:31:45.168381Z",
     "start_time": "2022-12-25T16:31:45.163242Z"
    }
   },
   "outputs": [
    {
     "data": {
      "application/javascript": [
       "\n",
       "            setTimeout(function() {\n",
       "                var nbb_cell_id = 41;\n",
       "                var nbb_unformatted_code = \"submission_df[\\\"obscene\\\"] = probs.numpy()[:, 1]\";\n",
       "                var nbb_formatted_code = \"submission_df[\\\"obscene\\\"] = probs.numpy()[:, 1]\";\n",
       "                var nbb_cells = Jupyter.notebook.get_cells();\n",
       "                for (var i = 0; i < nbb_cells.length; ++i) {\n",
       "                    if (nbb_cells[i].input_prompt_number == nbb_cell_id) {\n",
       "                        if (nbb_cells[i].get_text() == nbb_unformatted_code) {\n",
       "                             nbb_cells[i].set_text(nbb_formatted_code);\n",
       "                        }\n",
       "                        break;\n",
       "                    }\n",
       "                }\n",
       "            }, 500);\n",
       "            "
      ],
      "text/plain": [
       "<IPython.core.display.Javascript object>"
      ]
     },
     "metadata": {},
     "output_type": "display_data"
    }
   ],
   "source": [
    "submission_df[\"obscene\"] = probs.numpy()[:, 1]"
   ]
  },
  {
   "cell_type": "markdown",
   "id": "51afa22d",
   "metadata": {},
   "source": [
    "## Threat"
   ]
  },
  {
   "cell_type": "code",
   "execution_count": 42,
   "id": "99b5f3e8",
   "metadata": {
    "ExecuteTime": {
     "end_time": "2022-12-25T16:33:14.782549Z",
     "start_time": "2022-12-25T16:31:45.169616Z"
    }
   },
   "outputs": [
    {
     "data": {
      "text/html": [
       "\n",
       "<style>\n",
       "    /* Turns off some styling */\n",
       "    progress {\n",
       "        /* gets rid of default border in Firefox and Opera. */\n",
       "        border: none;\n",
       "        /* Needs to be in here for Safari polyfill so background images work as expected. */\n",
       "        background-size: auto;\n",
       "    }\n",
       "    progress:not([value]), progress:not([value])::-webkit-progress-bar {\n",
       "        background: repeating-linear-gradient(45deg, #7e7e7e, #7e7e7e 10px, #5c5c5c 10px, #5c5c5c 20px);\n",
       "    }\n",
       "    .progress-bar-interrupted, .progress-bar-interrupted::-webkit-progress-bar {\n",
       "        background: #F44336;\n",
       "    }\n",
       "</style>\n"
      ],
      "text/plain": [
       "<IPython.core.display.HTML object>"
      ]
     },
     "metadata": {},
     "output_type": "display_data"
    },
    {
     "data": {
      "text/html": [],
      "text/plain": [
       "<IPython.core.display.HTML object>"
      ]
     },
     "metadata": {},
     "output_type": "display_data"
    },
    {
     "data": {
      "application/javascript": [
       "\n",
       "            setTimeout(function() {\n",
       "                var nbb_cell_id = 42;\n",
       "                var nbb_unformatted_code = \"learn.load(\\\"threat\\\")\\nprobs, _ = learn.get_preds(dl=test_dl)\";\n",
       "                var nbb_formatted_code = \"learn.load(\\\"threat\\\")\\nprobs, _ = learn.get_preds(dl=test_dl)\";\n",
       "                var nbb_cells = Jupyter.notebook.get_cells();\n",
       "                for (var i = 0; i < nbb_cells.length; ++i) {\n",
       "                    if (nbb_cells[i].input_prompt_number == nbb_cell_id) {\n",
       "                        if (nbb_cells[i].get_text() == nbb_unformatted_code) {\n",
       "                             nbb_cells[i].set_text(nbb_formatted_code);\n",
       "                        }\n",
       "                        break;\n",
       "                    }\n",
       "                }\n",
       "            }, 500);\n",
       "            "
      ],
      "text/plain": [
       "<IPython.core.display.Javascript object>"
      ]
     },
     "metadata": {},
     "output_type": "display_data"
    }
   ],
   "source": [
    "learn.load(\"threat\")\n",
    "probs, _ = learn.get_preds(dl=test_dl)"
   ]
  },
  {
   "cell_type": "code",
   "execution_count": 43,
   "id": "fffda8f0",
   "metadata": {
    "ExecuteTime": {
     "end_time": "2022-12-25T16:33:14.789664Z",
     "start_time": "2022-12-25T16:33:14.784491Z"
    }
   },
   "outputs": [
    {
     "data": {
      "application/javascript": [
       "\n",
       "            setTimeout(function() {\n",
       "                var nbb_cell_id = 43;\n",
       "                var nbb_unformatted_code = \"submission_df[\\\"threat\\\"] = probs.numpy()[:, 1]\";\n",
       "                var nbb_formatted_code = \"submission_df[\\\"threat\\\"] = probs.numpy()[:, 1]\";\n",
       "                var nbb_cells = Jupyter.notebook.get_cells();\n",
       "                for (var i = 0; i < nbb_cells.length; ++i) {\n",
       "                    if (nbb_cells[i].input_prompt_number == nbb_cell_id) {\n",
       "                        if (nbb_cells[i].get_text() == nbb_unformatted_code) {\n",
       "                             nbb_cells[i].set_text(nbb_formatted_code);\n",
       "                        }\n",
       "                        break;\n",
       "                    }\n",
       "                }\n",
       "            }, 500);\n",
       "            "
      ],
      "text/plain": [
       "<IPython.core.display.Javascript object>"
      ]
     },
     "metadata": {},
     "output_type": "display_data"
    }
   ],
   "source": [
    "submission_df[\"threat\"] = probs.numpy()[:, 1]"
   ]
  },
  {
   "cell_type": "markdown",
   "id": "15095c85",
   "metadata": {},
   "source": [
    "## Insult"
   ]
  },
  {
   "cell_type": "code",
   "execution_count": 44,
   "id": "caf47612",
   "metadata": {
    "ExecuteTime": {
     "end_time": "2022-12-25T16:34:44.838082Z",
     "start_time": "2022-12-25T16:33:14.791144Z"
    }
   },
   "outputs": [
    {
     "data": {
      "text/html": [
       "\n",
       "<style>\n",
       "    /* Turns off some styling */\n",
       "    progress {\n",
       "        /* gets rid of default border in Firefox and Opera. */\n",
       "        border: none;\n",
       "        /* Needs to be in here for Safari polyfill so background images work as expected. */\n",
       "        background-size: auto;\n",
       "    }\n",
       "    progress:not([value]), progress:not([value])::-webkit-progress-bar {\n",
       "        background: repeating-linear-gradient(45deg, #7e7e7e, #7e7e7e 10px, #5c5c5c 10px, #5c5c5c 20px);\n",
       "    }\n",
       "    .progress-bar-interrupted, .progress-bar-interrupted::-webkit-progress-bar {\n",
       "        background: #F44336;\n",
       "    }\n",
       "</style>\n"
      ],
      "text/plain": [
       "<IPython.core.display.HTML object>"
      ]
     },
     "metadata": {},
     "output_type": "display_data"
    },
    {
     "data": {
      "text/html": [],
      "text/plain": [
       "<IPython.core.display.HTML object>"
      ]
     },
     "metadata": {},
     "output_type": "display_data"
    },
    {
     "data": {
      "application/javascript": [
       "\n",
       "            setTimeout(function() {\n",
       "                var nbb_cell_id = 44;\n",
       "                var nbb_unformatted_code = \"learn.load(\\\"insult\\\")\\nprobs, _ = learn.get_preds(dl=test_dl)\";\n",
       "                var nbb_formatted_code = \"learn.load(\\\"insult\\\")\\nprobs, _ = learn.get_preds(dl=test_dl)\";\n",
       "                var nbb_cells = Jupyter.notebook.get_cells();\n",
       "                for (var i = 0; i < nbb_cells.length; ++i) {\n",
       "                    if (nbb_cells[i].input_prompt_number == nbb_cell_id) {\n",
       "                        if (nbb_cells[i].get_text() == nbb_unformatted_code) {\n",
       "                             nbb_cells[i].set_text(nbb_formatted_code);\n",
       "                        }\n",
       "                        break;\n",
       "                    }\n",
       "                }\n",
       "            }, 500);\n",
       "            "
      ],
      "text/plain": [
       "<IPython.core.display.Javascript object>"
      ]
     },
     "metadata": {},
     "output_type": "display_data"
    }
   ],
   "source": [
    "learn.load(\"insult\")\n",
    "probs, _ = learn.get_preds(dl=test_dl)"
   ]
  },
  {
   "cell_type": "code",
   "execution_count": 45,
   "id": "cc5cc527",
   "metadata": {
    "ExecuteTime": {
     "end_time": "2022-12-25T16:34:44.844706Z",
     "start_time": "2022-12-25T16:34:44.839359Z"
    }
   },
   "outputs": [
    {
     "data": {
      "application/javascript": [
       "\n",
       "            setTimeout(function() {\n",
       "                var nbb_cell_id = 45;\n",
       "                var nbb_unformatted_code = \"submission_df[\\\"insult\\\"] = probs.numpy()[:, 1]\";\n",
       "                var nbb_formatted_code = \"submission_df[\\\"insult\\\"] = probs.numpy()[:, 1]\";\n",
       "                var nbb_cells = Jupyter.notebook.get_cells();\n",
       "                for (var i = 0; i < nbb_cells.length; ++i) {\n",
       "                    if (nbb_cells[i].input_prompt_number == nbb_cell_id) {\n",
       "                        if (nbb_cells[i].get_text() == nbb_unformatted_code) {\n",
       "                             nbb_cells[i].set_text(nbb_formatted_code);\n",
       "                        }\n",
       "                        break;\n",
       "                    }\n",
       "                }\n",
       "            }, 500);\n",
       "            "
      ],
      "text/plain": [
       "<IPython.core.display.Javascript object>"
      ]
     },
     "metadata": {},
     "output_type": "display_data"
    }
   ],
   "source": [
    "submission_df[\"insult\"] = probs.numpy()[:, 1]"
   ]
  },
  {
   "cell_type": "markdown",
   "id": "cb9bf4e7",
   "metadata": {},
   "source": [
    "## Identity hate"
   ]
  },
  {
   "cell_type": "code",
   "execution_count": 46,
   "id": "d19f3415",
   "metadata": {
    "ExecuteTime": {
     "end_time": "2022-12-25T16:36:14.689220Z",
     "start_time": "2022-12-25T16:34:44.845619Z"
    }
   },
   "outputs": [
    {
     "data": {
      "text/html": [
       "\n",
       "<style>\n",
       "    /* Turns off some styling */\n",
       "    progress {\n",
       "        /* gets rid of default border in Firefox and Opera. */\n",
       "        border: none;\n",
       "        /* Needs to be in here for Safari polyfill so background images work as expected. */\n",
       "        background-size: auto;\n",
       "    }\n",
       "    progress:not([value]), progress:not([value])::-webkit-progress-bar {\n",
       "        background: repeating-linear-gradient(45deg, #7e7e7e, #7e7e7e 10px, #5c5c5c 10px, #5c5c5c 20px);\n",
       "    }\n",
       "    .progress-bar-interrupted, .progress-bar-interrupted::-webkit-progress-bar {\n",
       "        background: #F44336;\n",
       "    }\n",
       "</style>\n"
      ],
      "text/plain": [
       "<IPython.core.display.HTML object>"
      ]
     },
     "metadata": {},
     "output_type": "display_data"
    },
    {
     "data": {
      "text/html": [],
      "text/plain": [
       "<IPython.core.display.HTML object>"
      ]
     },
     "metadata": {},
     "output_type": "display_data"
    },
    {
     "data": {
      "application/javascript": [
       "\n",
       "            setTimeout(function() {\n",
       "                var nbb_cell_id = 46;\n",
       "                var nbb_unformatted_code = \"learn.load(\\\"identity_hate\\\")\\nprobs, _ = learn.get_preds(dl=test_dl)\";\n",
       "                var nbb_formatted_code = \"learn.load(\\\"identity_hate\\\")\\nprobs, _ = learn.get_preds(dl=test_dl)\";\n",
       "                var nbb_cells = Jupyter.notebook.get_cells();\n",
       "                for (var i = 0; i < nbb_cells.length; ++i) {\n",
       "                    if (nbb_cells[i].input_prompt_number == nbb_cell_id) {\n",
       "                        if (nbb_cells[i].get_text() == nbb_unformatted_code) {\n",
       "                             nbb_cells[i].set_text(nbb_formatted_code);\n",
       "                        }\n",
       "                        break;\n",
       "                    }\n",
       "                }\n",
       "            }, 500);\n",
       "            "
      ],
      "text/plain": [
       "<IPython.core.display.Javascript object>"
      ]
     },
     "metadata": {},
     "output_type": "display_data"
    }
   ],
   "source": [
    "learn.load(\"identity_hate\")\n",
    "probs, _ = learn.get_preds(dl=test_dl)"
   ]
  },
  {
   "cell_type": "code",
   "execution_count": 47,
   "id": "59806204",
   "metadata": {
    "ExecuteTime": {
     "end_time": "2022-12-25T16:36:14.695647Z",
     "start_time": "2022-12-25T16:36:14.690556Z"
    }
   },
   "outputs": [
    {
     "data": {
      "application/javascript": [
       "\n",
       "            setTimeout(function() {\n",
       "                var nbb_cell_id = 47;\n",
       "                var nbb_unformatted_code = \"submission_df[\\\"identity_hate\\\"] = probs.numpy()[:, 1]\";\n",
       "                var nbb_formatted_code = \"submission_df[\\\"identity_hate\\\"] = probs.numpy()[:, 1]\";\n",
       "                var nbb_cells = Jupyter.notebook.get_cells();\n",
       "                for (var i = 0; i < nbb_cells.length; ++i) {\n",
       "                    if (nbb_cells[i].input_prompt_number == nbb_cell_id) {\n",
       "                        if (nbb_cells[i].get_text() == nbb_unformatted_code) {\n",
       "                             nbb_cells[i].set_text(nbb_formatted_code);\n",
       "                        }\n",
       "                        break;\n",
       "                    }\n",
       "                }\n",
       "            }, 500);\n",
       "            "
      ],
      "text/plain": [
       "<IPython.core.display.Javascript object>"
      ]
     },
     "metadata": {},
     "output_type": "display_data"
    }
   ],
   "source": [
    "submission_df[\"identity_hate\"] = probs.numpy()[:, 1]"
   ]
  },
  {
   "cell_type": "markdown",
   "id": "f8fcc2f8",
   "metadata": {},
   "source": [
    "## Save"
   ]
  },
  {
   "cell_type": "code",
   "execution_count": 48,
   "id": "165a781e",
   "metadata": {
    "ExecuteTime": {
     "end_time": "2022-12-25T16:36:14.722307Z",
     "start_time": "2022-12-25T16:36:14.697143Z"
    }
   },
   "outputs": [
    {
     "data": {
      "text/html": [
       "<div>\n",
       "<style scoped>\n",
       "    .dataframe tbody tr th:only-of-type {\n",
       "        vertical-align: middle;\n",
       "    }\n",
       "\n",
       "    .dataframe tbody tr th {\n",
       "        vertical-align: top;\n",
       "    }\n",
       "\n",
       "    .dataframe thead th {\n",
       "        text-align: right;\n",
       "    }\n",
       "</style>\n",
       "<table border=\"1\" class=\"dataframe\">\n",
       "  <thead>\n",
       "    <tr style=\"text-align: right;\">\n",
       "      <th></th>\n",
       "      <th>toxic</th>\n",
       "      <th>severe_toxic</th>\n",
       "      <th>obscene</th>\n",
       "      <th>threat</th>\n",
       "      <th>insult</th>\n",
       "      <th>identity_hate</th>\n",
       "    </tr>\n",
       "    <tr>\n",
       "      <th>id</th>\n",
       "      <th></th>\n",
       "      <th></th>\n",
       "      <th></th>\n",
       "      <th></th>\n",
       "      <th></th>\n",
       "      <th></th>\n",
       "    </tr>\n",
       "  </thead>\n",
       "  <tbody>\n",
       "    <tr>\n",
       "      <th>00001cee341fdb12</th>\n",
       "      <td>0.993057</td>\n",
       "      <td>0.381216</td>\n",
       "      <td>0.902665</td>\n",
       "      <td>0.022584</td>\n",
       "      <td>0.965348</td>\n",
       "      <td>0.884737</td>\n",
       "    </tr>\n",
       "    <tr>\n",
       "      <th>0000247867823ef7</th>\n",
       "      <td>0.002658</td>\n",
       "      <td>0.001850</td>\n",
       "      <td>0.009016</td>\n",
       "      <td>0.000051</td>\n",
       "      <td>0.005900</td>\n",
       "      <td>0.000161</td>\n",
       "    </tr>\n",
       "    <tr>\n",
       "      <th>00013b17ad220c46</th>\n",
       "      <td>0.003400</td>\n",
       "      <td>0.001680</td>\n",
       "      <td>0.006720</td>\n",
       "      <td>0.000013</td>\n",
       "      <td>0.001016</td>\n",
       "      <td>0.001075</td>\n",
       "    </tr>\n",
       "    <tr>\n",
       "      <th>00017563c3f7919a</th>\n",
       "      <td>0.000339</td>\n",
       "      <td>0.000247</td>\n",
       "      <td>0.000320</td>\n",
       "      <td>0.000037</td>\n",
       "      <td>0.000504</td>\n",
       "      <td>0.000012</td>\n",
       "    </tr>\n",
       "    <tr>\n",
       "      <th>00017695ad8997eb</th>\n",
       "      <td>0.004080</td>\n",
       "      <td>0.000942</td>\n",
       "      <td>0.009167</td>\n",
       "      <td>0.003139</td>\n",
       "      <td>0.002247</td>\n",
       "      <td>0.000518</td>\n",
       "    </tr>\n",
       "    <tr>\n",
       "      <th>...</th>\n",
       "      <td>...</td>\n",
       "      <td>...</td>\n",
       "      <td>...</td>\n",
       "      <td>...</td>\n",
       "      <td>...</td>\n",
       "      <td>...</td>\n",
       "    </tr>\n",
       "    <tr>\n",
       "      <th>fffcd0960ee309b5</th>\n",
       "      <td>0.419973</td>\n",
       "      <td>0.000584</td>\n",
       "      <td>0.015970</td>\n",
       "      <td>0.000153</td>\n",
       "      <td>0.007477</td>\n",
       "      <td>0.000024</td>\n",
       "    </tr>\n",
       "    <tr>\n",
       "      <th>fffd7a9a6eb32c16</th>\n",
       "      <td>0.016204</td>\n",
       "      <td>0.000399</td>\n",
       "      <td>0.005276</td>\n",
       "      <td>0.000007</td>\n",
       "      <td>0.003370</td>\n",
       "      <td>0.000022</td>\n",
       "    </tr>\n",
       "    <tr>\n",
       "      <th>fffda9e8d6fafa9e</th>\n",
       "      <td>0.000136</td>\n",
       "      <td>0.000159</td>\n",
       "      <td>0.001244</td>\n",
       "      <td>0.000004</td>\n",
       "      <td>0.000173</td>\n",
       "      <td>0.000008</td>\n",
       "    </tr>\n",
       "    <tr>\n",
       "      <th>fffe8f1340a79fc2</th>\n",
       "      <td>0.001031</td>\n",
       "      <td>0.000106</td>\n",
       "      <td>0.000383</td>\n",
       "      <td>0.000012</td>\n",
       "      <td>0.000143</td>\n",
       "      <td>0.000072</td>\n",
       "    </tr>\n",
       "    <tr>\n",
       "      <th>ffffce3fb183ee80</th>\n",
       "      <td>0.902251</td>\n",
       "      <td>0.000186</td>\n",
       "      <td>0.351886</td>\n",
       "      <td>0.000132</td>\n",
       "      <td>0.318053</td>\n",
       "      <td>0.000189</td>\n",
       "    </tr>\n",
       "  </tbody>\n",
       "</table>\n",
       "<p>153164 rows × 6 columns</p>\n",
       "</div>"
      ],
      "text/plain": [
       "                     toxic  severe_toxic   obscene    threat    insult  \\\n",
       "id                                                                       \n",
       "00001cee341fdb12  0.993057      0.381216  0.902665  0.022584  0.965348   \n",
       "0000247867823ef7  0.002658      0.001850  0.009016  0.000051  0.005900   \n",
       "00013b17ad220c46  0.003400      0.001680  0.006720  0.000013  0.001016   \n",
       "00017563c3f7919a  0.000339      0.000247  0.000320  0.000037  0.000504   \n",
       "00017695ad8997eb  0.004080      0.000942  0.009167  0.003139  0.002247   \n",
       "...                    ...           ...       ...       ...       ...   \n",
       "fffcd0960ee309b5  0.419973      0.000584  0.015970  0.000153  0.007477   \n",
       "fffd7a9a6eb32c16  0.016204      0.000399  0.005276  0.000007  0.003370   \n",
       "fffda9e8d6fafa9e  0.000136      0.000159  0.001244  0.000004  0.000173   \n",
       "fffe8f1340a79fc2  0.001031      0.000106  0.000383  0.000012  0.000143   \n",
       "ffffce3fb183ee80  0.902251      0.000186  0.351886  0.000132  0.318053   \n",
       "\n",
       "                  identity_hate  \n",
       "id                               \n",
       "00001cee341fdb12       0.884737  \n",
       "0000247867823ef7       0.000161  \n",
       "00013b17ad220c46       0.001075  \n",
       "00017563c3f7919a       0.000012  \n",
       "00017695ad8997eb       0.000518  \n",
       "...                         ...  \n",
       "fffcd0960ee309b5       0.000024  \n",
       "fffd7a9a6eb32c16       0.000022  \n",
       "fffda9e8d6fafa9e       0.000008  \n",
       "fffe8f1340a79fc2       0.000072  \n",
       "ffffce3fb183ee80       0.000189  \n",
       "\n",
       "[153164 rows x 6 columns]"
      ]
     },
     "execution_count": 48,
     "metadata": {},
     "output_type": "execute_result"
    },
    {
     "data": {
      "application/javascript": [
       "\n",
       "            setTimeout(function() {\n",
       "                var nbb_cell_id = 48;\n",
       "                var nbb_unformatted_code = \"submission_df\";\n",
       "                var nbb_formatted_code = \"submission_df\";\n",
       "                var nbb_cells = Jupyter.notebook.get_cells();\n",
       "                for (var i = 0; i < nbb_cells.length; ++i) {\n",
       "                    if (nbb_cells[i].input_prompt_number == nbb_cell_id) {\n",
       "                        if (nbb_cells[i].get_text() == nbb_unformatted_code) {\n",
       "                             nbb_cells[i].set_text(nbb_formatted_code);\n",
       "                        }\n",
       "                        break;\n",
       "                    }\n",
       "                }\n",
       "            }, 500);\n",
       "            "
      ],
      "text/plain": [
       "<IPython.core.display.Javascript object>"
      ]
     },
     "metadata": {},
     "output_type": "display_data"
    }
   ],
   "source": [
    "submission_df"
   ]
  },
  {
   "cell_type": "code",
   "execution_count": 49,
   "id": "9ff2375d",
   "metadata": {
    "ExecuteTime": {
     "end_time": "2022-12-25T16:36:15.368531Z",
     "start_time": "2022-12-25T16:36:14.723582Z"
    }
   },
   "outputs": [
    {
     "data": {
      "application/javascript": [
       "\n",
       "            setTimeout(function() {\n",
       "                var nbb_cell_id = 49;\n",
       "                var nbb_unformatted_code = \"submission_df.to_csv(\\\"../../data/jigsaw-toxic-comment-classification-challenge/submission.csv\\\")\";\n",
       "                var nbb_formatted_code = \"submission_df.to_csv(\\n    \\\"../../data/jigsaw-toxic-comment-classification-challenge/submission.csv\\\"\\n)\";\n",
       "                var nbb_cells = Jupyter.notebook.get_cells();\n",
       "                for (var i = 0; i < nbb_cells.length; ++i) {\n",
       "                    if (nbb_cells[i].input_prompt_number == nbb_cell_id) {\n",
       "                        if (nbb_cells[i].get_text() == nbb_unformatted_code) {\n",
       "                             nbb_cells[i].set_text(nbb_formatted_code);\n",
       "                        }\n",
       "                        break;\n",
       "                    }\n",
       "                }\n",
       "            }, 500);\n",
       "            "
      ],
      "text/plain": [
       "<IPython.core.display.Javascript object>"
      ]
     },
     "metadata": {},
     "output_type": "display_data"
    }
   ],
   "source": [
    "submission_df.to_csv(\n",
    "    \"../../data/jigsaw-toxic-comment-classification-challenge/submission.csv\"\n",
    ")"
   ]
  },
  {
   "cell_type": "code",
   "execution_count": null,
   "id": "1c22380f",
   "metadata": {},
   "outputs": [],
   "source": []
  },
  {
   "cell_type": "code",
   "execution_count": null,
   "id": "5d83f8a6",
   "metadata": {},
   "outputs": [],
   "source": []
  },
  {
   "cell_type": "code",
   "execution_count": null,
   "id": "47ffff7f",
   "metadata": {},
   "outputs": [],
   "source": []
  },
  {
   "cell_type": "code",
   "execution_count": null,
   "id": "49ac6cff",
   "metadata": {},
   "outputs": [],
   "source": []
  },
  {
   "cell_type": "code",
   "execution_count": null,
   "id": "a0279ec1",
   "metadata": {},
   "outputs": [],
   "source": []
  }
 ],
 "metadata": {
  "kernelspec": {
   "display_name": "Python 3 (ipykernel)",
   "language": "python",
   "name": "python3"
  },
  "language_info": {
   "codemirror_mode": {
    "name": "ipython",
    "version": 3
   },
   "file_extension": ".py",
   "mimetype": "text/x-python",
   "name": "python",
   "nbconvert_exporter": "python",
   "pygments_lexer": "ipython3",
   "version": "3.9.15"
  }
 },
 "nbformat": 4,
 "nbformat_minor": 5
}
