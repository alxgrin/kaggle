{
 "cells": [
  {
   "cell_type": "markdown",
   "id": "769eb637",
   "metadata": {},
   "source": [
    "# Toxic Comment Classification Challenge\n",
    "Identify and classify toxic online comments\n",
    "\n",
    "![Toxic Comments](https://storage.googleapis.com/kaggle-media/competitions/jigsaw/003-avatar.png)\n",
    "\n",
    "Discussing things you care about can be difficult. The threat of abuse and harassment online means that many people stop expressing themselves and give up on seeking different opinions. Platforms struggle to effectively facilitate conversations, leading many communities to limit or completely shut down user comments.\n",
    "\n",
    "The [Conversation AI](https://conversationai.github.io/) team, a research initiative founded by [Jigsaw](https://jigsaw.google.com/) and Google (both a part of Alphabet) are working on tools to help improve online conversation. One area of focus is the study of negative online behaviors, like toxic comments (i.e. comments that are rude, disrespectful or otherwise likely to make someone leave a discussion). So far they’ve built a range of publicly available models served through the [Perspective API](https://perspectiveapi.com/), including toxicity. But the current models still make errors, and they don’t allow users to select which types of toxicity they’re interested in finding (e.g. some platforms may be fine with profanity, but not with other types of toxic content).\n",
    "\n",
    "In this competition, you’re challenged to build a multi-headed model that’s capable of detecting different types of of toxicity like threats, obscenity, insults, and identity-based hate better than Perspective’s [current models](https://github.com/conversationai/unintended-ml-bias-analysis). You’ll be using a dataset of comments from Wikipedia’s talk page edits. Improvements to the current model will hopefully help online discussion become more productive and respectful.\n",
    "\n",
    "_Disclaimer: the dataset for this competition contains text that may be considered profane, vulgar, or offensive._\n",
    "\n",
    "Dataset Description\n",
    "-------------------\n",
    "\n",
    "You are provided with a large number of Wikipedia comments which have been labeled by human raters for toxic behavior. The types of toxicity are:\n",
    "\n",
    "*   `toxic`\n",
    "*   `severe_toxic`\n",
    "*   `obscene`\n",
    "*   `threat`\n",
    "*   `insult`\n",
    "*   `identity_hate`\n",
    "\n",
    "You must create a model which predicts a probability of each type of toxicity for each comment.\n",
    "\n",
    "File descriptions\n",
    "-----------------\n",
    "\n",
    "*   **train.csv** - the training set, contains comments with their binary labels\n",
    "*   **test.csv** - the test set, you must predict the toxicity probabilities for these comments. To deter hand labeling, the test set contains some comments which are not included in scoring.\n",
    "*   **sample\\_submission.csv** - a sample submission file in the correct format\n",
    "*   **test\\_labels.csv** - labels for the test data; value of `-1` indicates it was not used for scoring; (**Note:** file added after competition close!)\n",
    "\n",
    "Usage\n",
    "-----\n",
    "\n",
    "The dataset under [CC0](https://creativecommons.org/share-your-work/public-domain/cc0/), with the underlying comment text being governed by [Wikipedia's CC-SA-3.0](https://creativecommons.org/licenses/by-sa/3.0/)\n",
    "\n",
    "Link: https://www.kaggle.com/competitions/jigsaw-toxic-comment-classification-challenge"
   ]
  },
  {
   "cell_type": "code",
   "execution_count": null,
   "id": "aa6c7a10",
   "metadata": {
    "ExecuteTime": {
     "end_time": "2022-12-25T14:18:51.457292Z",
     "start_time": "2022-12-25T14:18:49.665081Z"
    }
   },
   "outputs": [],
   "source": [
    "import pandas as pd\n",
    "import numpy as np\n",
    "from fastai.text.all import *\n",
    "from tqdm.notebook import tqdm\n",
    "from sklearn.model_selection import train_test_split"
   ]
  },
  {
   "cell_type": "code",
   "execution_count": null,
   "id": "afe0a37d",
   "metadata": {
    "ExecuteTime": {
     "end_time": "2022-12-25T14:18:51.517707Z",
     "start_time": "2022-12-25T14:18:51.458845Z"
    }
   },
   "outputs": [],
   "source": [
    "%load_ext nb_black"
   ]
  },
  {
   "cell_type": "code",
   "execution_count": null,
   "id": "77b436cd",
   "metadata": {
    "ExecuteTime": {
     "end_time": "2022-12-25T14:18:51.621976Z",
     "start_time": "2022-12-25T14:18:51.519016Z"
    }
   },
   "outputs": [],
   "source": [
    "sample_submission_df = pd.read_csv(\n",
    "    \"../../data/jigsaw-toxic-comment-classification-challenge/sample_submission.csv\"\n",
    ").set_index(\"id\")\n",
    "sample_submission_df"
   ]
  },
  {
   "cell_type": "code",
   "execution_count": null,
   "id": "8109bfde",
   "metadata": {
    "ExecuteTime": {
     "end_time": "2022-12-25T14:18:52.161383Z",
     "start_time": "2022-12-25T14:18:51.624979Z"
    }
   },
   "outputs": [],
   "source": [
    "test_df = pd.read_csv(\n",
    "    \"../../data/jigsaw-toxic-comment-classification-challenge/test.csv\"\n",
    ").set_index(\"id\")\n",
    "test_df"
   ]
  },
  {
   "cell_type": "code",
   "execution_count": null,
   "id": "70ddb700",
   "metadata": {
    "ExecuteTime": {
     "end_time": "2022-12-25T14:18:52.251595Z",
     "start_time": "2022-12-25T14:18:52.162834Z"
    }
   },
   "outputs": [],
   "source": [
    "test_labels_df = pd.read_csv(\n",
    "    \"../../data/jigsaw-toxic-comment-classification-challenge/test_labels.csv\"\n",
    ").set_index(\"id\")\n",
    "test_labels_df"
   ]
  },
  {
   "cell_type": "code",
   "execution_count": null,
   "id": "a339caa1",
   "metadata": {
    "ExecuteTime": {
     "end_time": "2022-12-25T14:18:52.870167Z",
     "start_time": "2022-12-25T14:18:52.253057Z"
    }
   },
   "outputs": [],
   "source": [
    "train_df = pd.read_csv(\n",
    "    \"../../data/jigsaw-toxic-comment-classification-challenge/train.csv\"\n",
    ").set_index(\"id\")\n",
    "train_df"
   ]
  },
  {
   "cell_type": "code",
   "execution_count": null,
   "id": "bb5a6df2",
   "metadata": {
    "ExecuteTime": {
     "end_time": "2022-12-25T14:18:52.880372Z",
     "start_time": "2022-12-25T14:18:52.871193Z"
    }
   },
   "outputs": [],
   "source": [
    "train_df[\n",
    "    [\"toxic\", \"severe_toxic\", \"obscene\", \"threat\", \"insult\", \"identity_hate\"]\n",
    "].mean()"
   ]
  },
  {
   "cell_type": "markdown",
   "id": "5c7f3057",
   "metadata": {},
   "source": [
    "# Train"
   ]
  },
  {
   "cell_type": "code",
   "execution_count": null,
   "id": "6864a07c",
   "metadata": {
    "ExecuteTime": {
     "end_time": "2022-12-25T14:18:52.884647Z",
     "start_time": "2022-12-25T14:18:52.881497Z"
    }
   },
   "outputs": [],
   "source": [
    "BATCH_SIZE = 64"
   ]
  },
  {
   "cell_type": "markdown",
   "id": "305abd2a",
   "metadata": {},
   "source": [
    "## Toxic"
   ]
  },
  {
   "cell_type": "code",
   "execution_count": null,
   "id": "c53b2cbd",
   "metadata": {
    "ExecuteTime": {
     "end_time": "2022-12-25T14:18:52.894693Z",
     "start_time": "2022-12-25T14:18:52.894685Z"
    }
   },
   "outputs": [],
   "source": [
    "toxic_dls = TextDataLoaders.from_df(\n",
    "    train_df[[\"comment_text\", \"toxic\"]],\n",
    "    valid_pct=0.2,\n",
    "    seed=42,\n",
    "    bs=BATCH_SIZE,\n",
    ")"
   ]
  },
  {
   "cell_type": "code",
   "execution_count": null,
   "id": "89897056",
   "metadata": {
    "ExecuteTime": {
     "end_time": "2022-12-25T14:18:52.895165Z",
     "start_time": "2022-12-25T14:18:52.895157Z"
    }
   },
   "outputs": [],
   "source": [
    "toxic_dls.train.show_batch()"
   ]
  },
  {
   "cell_type": "code",
   "execution_count": null,
   "id": "9a8fd2c8",
   "metadata": {
    "ExecuteTime": {
     "end_time": "2022-12-25T14:18:52.896310Z",
     "start_time": "2022-12-25T14:18:52.896302Z"
    }
   },
   "outputs": [],
   "source": [
    "# https://docs.fast.ai/tutorial.text.html\n",
    "learn = text_classifier_learner(toxic_dls, AWD_LSTM, drop_mult=0.5, metrics=accuracy)\n",
    "learn"
   ]
  },
  {
   "cell_type": "code",
   "execution_count": null,
   "id": "aaa5b48f",
   "metadata": {
    "ExecuteTime": {
     "end_time": "2022-12-25T14:18:52.897078Z",
     "start_time": "2022-12-25T14:18:52.897070Z"
    }
   },
   "outputs": [],
   "source": [
    "learn.fine_tune(4, 1e-2)"
   ]
  },
  {
   "cell_type": "code",
   "execution_count": null,
   "id": "a075c29e",
   "metadata": {
    "ExecuteTime": {
     "end_time": "2022-12-25T14:18:52.897836Z",
     "start_time": "2022-12-25T14:18:52.897827Z"
    }
   },
   "outputs": [],
   "source": [
    "learn.show_results()"
   ]
  },
  {
   "cell_type": "code",
   "execution_count": null,
   "id": "7cfed91e",
   "metadata": {
    "ExecuteTime": {
     "end_time": "2022-12-25T14:18:52.898621Z",
     "start_time": "2022-12-25T14:18:52.898613Z"
    }
   },
   "outputs": [],
   "source": [
    "learn.save(\"toxic\")"
   ]
  },
  {
   "cell_type": "markdown",
   "id": "51ea6f4f",
   "metadata": {},
   "source": [
    "## Severe toxic"
   ]
  },
  {
   "cell_type": "code",
   "execution_count": null,
   "id": "be3345d5",
   "metadata": {
    "ExecuteTime": {
     "end_time": "2022-12-25T14:18:52.899357Z",
     "start_time": "2022-12-25T14:18:52.899349Z"
    }
   },
   "outputs": [],
   "source": [
    "severe_toxic_dls = TextDataLoaders.from_df(\n",
    "    train_df[[\"comment_text\", \"severe_toxic\"]],\n",
    "    valid_pct=0.2,\n",
    "    seed=42,\n",
    "    bs=BATCH_SIZE,\n",
    ")"
   ]
  },
  {
   "cell_type": "code",
   "execution_count": null,
   "id": "275e7f9c",
   "metadata": {
    "ExecuteTime": {
     "end_time": "2022-12-25T14:18:52.899945Z",
     "start_time": "2022-12-25T14:18:52.899937Z"
    }
   },
   "outputs": [],
   "source": [
    "learn = text_classifier_learner(\n",
    "    severe_toxic_dls, AWD_LSTM, drop_mult=0.5, metrics=accuracy\n",
    ")\n",
    "learn"
   ]
  },
  {
   "cell_type": "code",
   "execution_count": null,
   "id": "1ad77d53",
   "metadata": {
    "ExecuteTime": {
     "end_time": "2022-12-25T14:18:52.900867Z",
     "start_time": "2022-12-25T14:18:52.900859Z"
    }
   },
   "outputs": [],
   "source": [
    "learn.fine_tune(4, 1e-2)"
   ]
  },
  {
   "cell_type": "code",
   "execution_count": null,
   "id": "22fde6e0",
   "metadata": {
    "ExecuteTime": {
     "end_time": "2022-12-25T14:18:52.901600Z",
     "start_time": "2022-12-25T14:18:52.901592Z"
    }
   },
   "outputs": [],
   "source": [
    "learn.show_results()"
   ]
  },
  {
   "cell_type": "code",
   "execution_count": null,
   "id": "cf490134",
   "metadata": {
    "ExecuteTime": {
     "end_time": "2022-12-25T14:18:52.902098Z",
     "start_time": "2022-12-25T14:18:52.902087Z"
    }
   },
   "outputs": [],
   "source": [
    "learn.save(\"severe_toxic\")"
   ]
  },
  {
   "cell_type": "markdown",
   "id": "f46eee6a",
   "metadata": {},
   "source": [
    "## Obscene"
   ]
  },
  {
   "cell_type": "code",
   "execution_count": null,
   "id": "57cbeed1",
   "metadata": {
    "ExecuteTime": {
     "end_time": "2022-12-25T14:18:52.902863Z",
     "start_time": "2022-12-25T14:18:52.902855Z"
    }
   },
   "outputs": [],
   "source": [
    "obscene_dls = TextDataLoaders.from_df(\n",
    "    train_df[[\"comment_text\", \"obscene\"]],\n",
    "    valid_pct=0.2,\n",
    "    seed=42,\n",
    "    bs=BATCH_SIZE,\n",
    ")"
   ]
  },
  {
   "cell_type": "code",
   "execution_count": null,
   "id": "1fc08678",
   "metadata": {
    "ExecuteTime": {
     "end_time": "2022-12-25T14:18:52.903521Z",
     "start_time": "2022-12-25T14:18:52.903513Z"
    }
   },
   "outputs": [],
   "source": [
    "learn = text_classifier_learner(obscene_dls, AWD_LSTM, drop_mult=0.5, metrics=accuracy)\n",
    "learn"
   ]
  },
  {
   "cell_type": "code",
   "execution_count": null,
   "id": "6d7e5690",
   "metadata": {
    "ExecuteTime": {
     "end_time": "2022-12-25T14:18:52.904521Z",
     "start_time": "2022-12-25T14:18:52.904513Z"
    }
   },
   "outputs": [],
   "source": [
    "learn.fine_tune(4, 1e-2)"
   ]
  },
  {
   "cell_type": "code",
   "execution_count": null,
   "id": "f898979e",
   "metadata": {
    "ExecuteTime": {
     "end_time": "2022-12-25T14:18:52.904983Z",
     "start_time": "2022-12-25T14:18:52.904976Z"
    }
   },
   "outputs": [],
   "source": [
    "learn.show_results()"
   ]
  },
  {
   "cell_type": "code",
   "execution_count": null,
   "id": "dd6803ce",
   "metadata": {
    "ExecuteTime": {
     "end_time": "2022-12-25T14:18:52.905729Z",
     "start_time": "2022-12-25T14:18:52.905721Z"
    }
   },
   "outputs": [],
   "source": [
    "learn.save(\"obscene\")"
   ]
  },
  {
   "cell_type": "markdown",
   "id": "ea800e0f",
   "metadata": {},
   "source": [
    "# Threat"
   ]
  },
  {
   "cell_type": "code",
   "execution_count": null,
   "id": "c0171bf6",
   "metadata": {
    "ExecuteTime": {
     "end_time": "2022-12-25T14:18:52.906204Z",
     "start_time": "2022-12-25T14:18:52.906193Z"
    }
   },
   "outputs": [],
   "source": [
    "threat_dls = TextDataLoaders.from_df(\n",
    "    train_df[[\"comment_text\", \"threat\"]],\n",
    "    valid_pct=0.2,\n",
    "    seed=42,\n",
    "    bs=BATCH_SIZE,\n",
    ")"
   ]
  },
  {
   "cell_type": "code",
   "execution_count": null,
   "id": "bc5028a3",
   "metadata": {
    "ExecuteTime": {
     "end_time": "2022-12-25T14:18:52.907014Z",
     "start_time": "2022-12-25T14:18:52.907006Z"
    }
   },
   "outputs": [],
   "source": [
    "learn = text_classifier_learner(threat_dls, AWD_LSTM, drop_mult=0.5, metrics=accuracy)\n",
    "learn"
   ]
  },
  {
   "cell_type": "code",
   "execution_count": null,
   "id": "ef534590",
   "metadata": {
    "ExecuteTime": {
     "end_time": "2022-12-25T14:18:52.907676Z",
     "start_time": "2022-12-25T14:18:52.907669Z"
    }
   },
   "outputs": [],
   "source": [
    "learn.fine_tune(4, 1e-2)"
   ]
  },
  {
   "cell_type": "code",
   "execution_count": null,
   "id": "dd63453a",
   "metadata": {
    "ExecuteTime": {
     "end_time": "2022-12-25T14:18:52.908372Z",
     "start_time": "2022-12-25T14:18:52.908365Z"
    }
   },
   "outputs": [],
   "source": [
    "learn.show_results()"
   ]
  },
  {
   "cell_type": "code",
   "execution_count": null,
   "id": "6d03ad31",
   "metadata": {
    "ExecuteTime": {
     "end_time": "2022-12-25T14:18:52.908867Z",
     "start_time": "2022-12-25T14:18:52.908860Z"
    }
   },
   "outputs": [],
   "source": [
    "learn.save(\"threat\")"
   ]
  },
  {
   "cell_type": "markdown",
   "id": "c885bf2b",
   "metadata": {},
   "source": [
    "# Insult"
   ]
  },
  {
   "cell_type": "code",
   "execution_count": null,
   "id": "3ff07d37",
   "metadata": {
    "ExecuteTime": {
     "end_time": "2022-12-25T14:18:52.909836Z",
     "start_time": "2022-12-25T14:18:52.909828Z"
    }
   },
   "outputs": [],
   "source": [
    "insult_dls = TextDataLoaders.from_df(\n",
    "    train_df[[\"comment_text\", \"insult\"]],\n",
    "    valid_pct=0.2,\n",
    "    seed=42,\n",
    "    bs=BATCH_SIZE,\n",
    ")"
   ]
  },
  {
   "cell_type": "code",
   "execution_count": null,
   "id": "26cf9544",
   "metadata": {
    "ExecuteTime": {
     "end_time": "2022-12-25T14:18:52.910443Z",
     "start_time": "2022-12-25T14:18:52.910435Z"
    }
   },
   "outputs": [],
   "source": [
    "learn = text_classifier_learner(insult_dls, AWD_LSTM, drop_mult=0.5, metrics=accuracy)\n",
    "learn"
   ]
  },
  {
   "cell_type": "code",
   "execution_count": null,
   "id": "eeb05930",
   "metadata": {
    "ExecuteTime": {
     "end_time": "2022-12-25T14:18:52.911123Z",
     "start_time": "2022-12-25T14:18:52.911116Z"
    }
   },
   "outputs": [],
   "source": [
    "learn.fine_tune(4, 1e-2)"
   ]
  },
  {
   "cell_type": "code",
   "execution_count": null,
   "id": "45539b9b",
   "metadata": {
    "ExecuteTime": {
     "end_time": "2022-12-25T14:18:52.911943Z",
     "start_time": "2022-12-25T14:18:52.911935Z"
    }
   },
   "outputs": [],
   "source": [
    "learn.show_results()"
   ]
  },
  {
   "cell_type": "code",
   "execution_count": null,
   "id": "4d80c2f2",
   "metadata": {
    "ExecuteTime": {
     "end_time": "2022-12-25T14:18:52.912456Z",
     "start_time": "2022-12-25T14:18:52.912449Z"
    }
   },
   "outputs": [],
   "source": [
    "learn.save(\"insult\")"
   ]
  },
  {
   "cell_type": "markdown",
   "id": "1dae23e1",
   "metadata": {},
   "source": [
    "# Identity hate"
   ]
  },
  {
   "cell_type": "code",
   "execution_count": null,
   "id": "b93d01b0",
   "metadata": {
    "ExecuteTime": {
     "end_time": "2022-12-25T14:19:40.388982Z",
     "start_time": "2022-12-25T14:19:03.489277Z"
    }
   },
   "outputs": [],
   "source": [
    "identity_hate_dls = TextDataLoaders.from_df(\n",
    "    train_df[[\"comment_text\", \"identity_hate\"]],\n",
    "    valid_pct=0.2,\n",
    "    seed=42,\n",
    "    bs=BATCH_SIZE,\n",
    ")"
   ]
  },
  {
   "cell_type": "code",
   "execution_count": null,
   "id": "ca0a619e",
   "metadata": {
    "ExecuteTime": {
     "end_time": "2022-12-25T14:19:41.359109Z",
     "start_time": "2022-12-25T14:19:40.390627Z"
    }
   },
   "outputs": [],
   "source": [
    "learn = text_classifier_learner(\n",
    "    identity_hate_dls, AWD_LSTM, drop_mult=0.5, metrics=accuracy\n",
    ")\n",
    "learn"
   ]
  },
  {
   "cell_type": "code",
   "execution_count": null,
   "id": "9449abca",
   "metadata": {
    "ExecuteTime": {
     "end_time": "2022-12-25T14:41:46.854301Z",
     "start_time": "2022-12-25T14:19:41.360316Z"
    }
   },
   "outputs": [],
   "source": [
    "learn.fine_tune(4, 1e-2)"
   ]
  },
  {
   "cell_type": "code",
   "execution_count": null,
   "id": "a10442b7",
   "metadata": {
    "ExecuteTime": {
     "end_time": "2022-12-25T14:41:47.938255Z",
     "start_time": "2022-12-25T14:41:46.855940Z"
    }
   },
   "outputs": [],
   "source": [
    "learn.show_results()"
   ]
  },
  {
   "cell_type": "code",
   "execution_count": null,
   "id": "32c88df0",
   "metadata": {
    "ExecuteTime": {
     "end_time": "2022-12-25T14:41:48.516985Z",
     "start_time": "2022-12-25T14:41:47.939578Z"
    }
   },
   "outputs": [],
   "source": [
    "learn.save(\"identity_hate\")"
   ]
  },
  {
   "cell_type": "code",
   "execution_count": null,
   "id": "5d83f8a6",
   "metadata": {},
   "outputs": [],
   "source": []
  },
  {
   "cell_type": "code",
   "execution_count": null,
   "id": "47ffff7f",
   "metadata": {},
   "outputs": [],
   "source": []
  },
  {
   "cell_type": "code",
   "execution_count": null,
   "id": "49ac6cff",
   "metadata": {},
   "outputs": [],
   "source": []
  },
  {
   "cell_type": "code",
   "execution_count": null,
   "id": "a0279ec1",
   "metadata": {},
   "outputs": [],
   "source": []
  }
 ],
 "metadata": {
  "kernelspec": {
   "display_name": "Python 3 (ipykernel)",
   "language": "python",
   "name": "python3"
  },
  "language_info": {
   "codemirror_mode": {
    "name": "ipython",
    "version": 3
   },
   "file_extension": ".py",
   "mimetype": "text/x-python",
   "name": "python",
   "nbconvert_exporter": "python",
   "pygments_lexer": "ipython3",
   "version": "3.9.15"
  }
 },
 "nbformat": 4,
 "nbformat_minor": 5
}
