{
 "cells": [
  {
   "cell_type": "markdown",
   "metadata": {
    "id": "KMim0zmN8cMj"
   },
   "source": [
    "# Bitcoin Historical Data\n",
    "Bitcoin data at 1-min intervals from select exchanges, Jan 2012 to March 2021\n",
    "\n",
    "Link: https://www.kaggle.com/datasets/mczielinski/bitcoin-historical-data"
   ]
  },
  {
   "cell_type": "code",
   "execution_count": 1,
   "metadata": {
    "ExecuteTime": {
     "end_time": "2022-05-16T09:41:19.843288Z",
     "start_time": "2022-05-16T09:41:14.662025Z"
    },
    "colab": {
     "base_uri": "https://localhost:8080/"
    },
    "executionInfo": {
     "elapsed": 1392,
     "status": "ok",
     "timestamp": 1647848827909,
     "user": {
      "displayName": "Aleksey Pestov",
      "photoUrl": "https://lh3.googleusercontent.com/a-/AOh14GhYgIiAr5rSxdvsLDGzQ-vzeD_eNpe7hebXMzVy5g=s64",
      "userId": "15001429278579118680"
     },
     "user_tz": -180
    },
    "id": "pEbiHxgg8Ysk",
    "outputId": "f1e725c0-5fa7-44c8-d71d-178cddc7c276"
   },
   "outputs": [],
   "source": [
    "import numpy as np\n",
    "import pandas as pd\n",
    "import seaborn as sns\n",
    "from catboost import CatBoostClassifier, Pool, sum_models, to_classifier\n",
    "from sklearn.metrics import accuracy_score\n",
    "from sklearn.model_selection import TimeSeriesSplit, train_test_split\n",
    "from sklearn.preprocessing import MinMaxScaler\n",
    "from tsfresh import extract_features\n",
    "from tsfresh.feature_extraction import ComprehensiveFCParameters"
   ]
  },
  {
   "cell_type": "code",
   "execution_count": 2,
   "metadata": {
    "ExecuteTime": {
     "end_time": "2022-05-16T09:41:20.281757Z",
     "start_time": "2022-05-16T09:41:19.844920Z"
    }
   },
   "outputs": [
    {
     "data": {
      "application/javascript": [
       "\n",
       "            setTimeout(function() {\n",
       "                var nbb_cell_id = 2;\n",
       "                var nbb_unformatted_code = \"%load_ext nb_black\";\n",
       "                var nbb_formatted_code = \"%load_ext nb_black\";\n",
       "                var nbb_cells = Jupyter.notebook.get_cells();\n",
       "                for (var i = 0; i < nbb_cells.length; ++i) {\n",
       "                    if (nbb_cells[i].input_prompt_number == nbb_cell_id) {\n",
       "                        if (nbb_cells[i].get_text() == nbb_unformatted_code) {\n",
       "                             nbb_cells[i].set_text(nbb_formatted_code);\n",
       "                        }\n",
       "                        break;\n",
       "                    }\n",
       "                }\n",
       "            }, 500);\n",
       "            "
      ],
      "text/plain": [
       "<IPython.core.display.Javascript object>"
      ]
     },
     "metadata": {},
     "output_type": "display_data"
    }
   ],
   "source": [
    "%load_ext nb_black"
   ]
  },
  {
   "cell_type": "code",
   "execution_count": 3,
   "metadata": {
    "ExecuteTime": {
     "end_time": "2022-05-16T09:41:45.246011Z",
     "start_time": "2022-05-16T09:41:20.283666Z"
    },
    "colab": {
     "base_uri": "https://localhost:8080/",
     "height": 455
    },
    "executionInfo": {
     "elapsed": 28486,
     "status": "ok",
     "timestamp": 1647848858083,
     "user": {
      "displayName": "Aleksey Pestov",
      "photoUrl": "https://lh3.googleusercontent.com/a-/AOh14GhYgIiAr5rSxdvsLDGzQ-vzeD_eNpe7hebXMzVy5g=s64",
      "userId": "15001429278579118680"
     },
     "user_tz": -180
    },
    "id": "sHy1U1EY8fkE",
    "outputId": "61beb965-a95b-458a-e95b-d212142947a1"
   },
   "outputs": [
    {
     "data": {
      "text/html": [
       "<div>\n",
       "<style scoped>\n",
       "    .dataframe tbody tr th:only-of-type {\n",
       "        vertical-align: middle;\n",
       "    }\n",
       "\n",
       "    .dataframe tbody tr th {\n",
       "        vertical-align: top;\n",
       "    }\n",
       "\n",
       "    .dataframe thead th {\n",
       "        text-align: right;\n",
       "    }\n",
       "</style>\n",
       "<table border=\"1\" class=\"dataframe\">\n",
       "  <thead>\n",
       "    <tr style=\"text-align: right;\">\n",
       "      <th></th>\n",
       "      <th>Open</th>\n",
       "      <th>High</th>\n",
       "      <th>Low</th>\n",
       "      <th>Close</th>\n",
       "      <th>Volume_(BTC)</th>\n",
       "      <th>Volume_(Currency)</th>\n",
       "      <th>Weighted_Price</th>\n",
       "      <th>Date</th>\n",
       "    </tr>\n",
       "    <tr>\n",
       "      <th>Timestamp</th>\n",
       "      <th></th>\n",
       "      <th></th>\n",
       "      <th></th>\n",
       "      <th></th>\n",
       "      <th></th>\n",
       "      <th></th>\n",
       "      <th></th>\n",
       "      <th></th>\n",
       "    </tr>\n",
       "  </thead>\n",
       "  <tbody>\n",
       "    <tr>\n",
       "      <th>2011-12-31 07:52:00</th>\n",
       "      <td>4.39</td>\n",
       "      <td>4.39</td>\n",
       "      <td>4.39</td>\n",
       "      <td>4.39</td>\n",
       "      <td>0.455581</td>\n",
       "      <td>2.000000</td>\n",
       "      <td>4.390000</td>\n",
       "      <td>2011-12-31 08:00:00</td>\n",
       "    </tr>\n",
       "    <tr>\n",
       "      <th>2011-12-31 07:53:00</th>\n",
       "      <td>0.00</td>\n",
       "      <td>0.00</td>\n",
       "      <td>0.00</td>\n",
       "      <td>0.00</td>\n",
       "      <td>0.000000</td>\n",
       "      <td>0.000000</td>\n",
       "      <td>0.000000</td>\n",
       "      <td>2011-12-31 08:00:00</td>\n",
       "    </tr>\n",
       "    <tr>\n",
       "      <th>2011-12-31 07:54:00</th>\n",
       "      <td>0.00</td>\n",
       "      <td>0.00</td>\n",
       "      <td>0.00</td>\n",
       "      <td>0.00</td>\n",
       "      <td>0.000000</td>\n",
       "      <td>0.000000</td>\n",
       "      <td>0.000000</td>\n",
       "      <td>2011-12-31 08:00:00</td>\n",
       "    </tr>\n",
       "    <tr>\n",
       "      <th>2011-12-31 07:55:00</th>\n",
       "      <td>0.00</td>\n",
       "      <td>0.00</td>\n",
       "      <td>0.00</td>\n",
       "      <td>0.00</td>\n",
       "      <td>0.000000</td>\n",
       "      <td>0.000000</td>\n",
       "      <td>0.000000</td>\n",
       "      <td>2011-12-31 08:00:00</td>\n",
       "    </tr>\n",
       "    <tr>\n",
       "      <th>2011-12-31 07:56:00</th>\n",
       "      <td>0.00</td>\n",
       "      <td>0.00</td>\n",
       "      <td>0.00</td>\n",
       "      <td>0.00</td>\n",
       "      <td>0.000000</td>\n",
       "      <td>0.000000</td>\n",
       "      <td>0.000000</td>\n",
       "      <td>2011-12-31 08:00:00</td>\n",
       "    </tr>\n",
       "    <tr>\n",
       "      <th>...</th>\n",
       "      <td>...</td>\n",
       "      <td>...</td>\n",
       "      <td>...</td>\n",
       "      <td>...</td>\n",
       "      <td>...</td>\n",
       "      <td>...</td>\n",
       "      <td>...</td>\n",
       "      <td>...</td>\n",
       "    </tr>\n",
       "    <tr>\n",
       "      <th>2021-03-30 23:56:00</th>\n",
       "      <td>58714.31</td>\n",
       "      <td>58714.31</td>\n",
       "      <td>58686.00</td>\n",
       "      <td>58686.00</td>\n",
       "      <td>1.384487</td>\n",
       "      <td>81259.372187</td>\n",
       "      <td>58692.753339</td>\n",
       "      <td>2021-03-31 00:00:00</td>\n",
       "    </tr>\n",
       "    <tr>\n",
       "      <th>2021-03-30 23:57:00</th>\n",
       "      <td>58683.97</td>\n",
       "      <td>58693.43</td>\n",
       "      <td>58683.97</td>\n",
       "      <td>58685.81</td>\n",
       "      <td>7.294848</td>\n",
       "      <td>428158.146640</td>\n",
       "      <td>58693.226508</td>\n",
       "      <td>2021-03-31 00:00:00</td>\n",
       "    </tr>\n",
       "    <tr>\n",
       "      <th>2021-03-30 23:58:00</th>\n",
       "      <td>58693.43</td>\n",
       "      <td>58723.84</td>\n",
       "      <td>58693.43</td>\n",
       "      <td>58723.84</td>\n",
       "      <td>1.705682</td>\n",
       "      <td>100117.070370</td>\n",
       "      <td>58696.198496</td>\n",
       "      <td>2021-03-31 00:00:00</td>\n",
       "    </tr>\n",
       "    <tr>\n",
       "      <th>2021-03-30 23:59:00</th>\n",
       "      <td>58742.18</td>\n",
       "      <td>58770.38</td>\n",
       "      <td>58742.18</td>\n",
       "      <td>58760.59</td>\n",
       "      <td>0.720415</td>\n",
       "      <td>42332.958633</td>\n",
       "      <td>58761.866202</td>\n",
       "      <td>2021-03-31 00:00:00</td>\n",
       "    </tr>\n",
       "    <tr>\n",
       "      <th>2021-03-31 00:00:00</th>\n",
       "      <td>58767.75</td>\n",
       "      <td>58778.18</td>\n",
       "      <td>58755.97</td>\n",
       "      <td>58778.18</td>\n",
       "      <td>2.712831</td>\n",
       "      <td>159417.751000</td>\n",
       "      <td>58764.349363</td>\n",
       "      <td>2021-03-31 00:00:00</td>\n",
       "    </tr>\n",
       "  </tbody>\n",
       "</table>\n",
       "<p>4857377 rows × 8 columns</p>\n",
       "</div>"
      ],
      "text/plain": [
       "                         Open      High       Low     Close  Volume_(BTC)  \\\n",
       "Timestamp                                                                   \n",
       "2011-12-31 07:52:00      4.39      4.39      4.39      4.39      0.455581   \n",
       "2011-12-31 07:53:00      0.00      0.00      0.00      0.00      0.000000   \n",
       "2011-12-31 07:54:00      0.00      0.00      0.00      0.00      0.000000   \n",
       "2011-12-31 07:55:00      0.00      0.00      0.00      0.00      0.000000   \n",
       "2011-12-31 07:56:00      0.00      0.00      0.00      0.00      0.000000   \n",
       "...                       ...       ...       ...       ...           ...   \n",
       "2021-03-30 23:56:00  58714.31  58714.31  58686.00  58686.00      1.384487   \n",
       "2021-03-30 23:57:00  58683.97  58693.43  58683.97  58685.81      7.294848   \n",
       "2021-03-30 23:58:00  58693.43  58723.84  58693.43  58723.84      1.705682   \n",
       "2021-03-30 23:59:00  58742.18  58770.38  58742.18  58760.59      0.720415   \n",
       "2021-03-31 00:00:00  58767.75  58778.18  58755.97  58778.18      2.712831   \n",
       "\n",
       "                     Volume_(Currency)  Weighted_Price                Date  \n",
       "Timestamp                                                                   \n",
       "2011-12-31 07:52:00           2.000000        4.390000 2011-12-31 08:00:00  \n",
       "2011-12-31 07:53:00           0.000000        0.000000 2011-12-31 08:00:00  \n",
       "2011-12-31 07:54:00           0.000000        0.000000 2011-12-31 08:00:00  \n",
       "2011-12-31 07:55:00           0.000000        0.000000 2011-12-31 08:00:00  \n",
       "2011-12-31 07:56:00           0.000000        0.000000 2011-12-31 08:00:00  \n",
       "...                                ...             ...                 ...  \n",
       "2021-03-30 23:56:00       81259.372187    58692.753339 2021-03-31 00:00:00  \n",
       "2021-03-30 23:57:00      428158.146640    58693.226508 2021-03-31 00:00:00  \n",
       "2021-03-30 23:58:00      100117.070370    58696.198496 2021-03-31 00:00:00  \n",
       "2021-03-30 23:59:00       42332.958633    58761.866202 2021-03-31 00:00:00  \n",
       "2021-03-31 00:00:00      159417.751000    58764.349363 2021-03-31 00:00:00  \n",
       "\n",
       "[4857377 rows x 8 columns]"
      ]
     },
     "execution_count": 3,
     "metadata": {},
     "output_type": "execute_result"
    },
    {
     "data": {
      "application/javascript": [
       "\n",
       "            setTimeout(function() {\n",
       "                var nbb_cell_id = 3;\n",
       "                var nbb_unformatted_code = \"df = pd.read_csv(\\n    \\\"../data/mczielinski_bitcoin-historical-data/bitstampUSD_1-min_data_2012-01-01_to_2021-03-31.csv\\\"\\n)\\ndf[\\\"Timestamp\\\"] = pd.to_datetime(df[\\\"Timestamp\\\"], unit=\\\"s\\\")\\ndf.fillna(0, inplace=True)\\ndf.set_index(\\\"Timestamp\\\", inplace=True)\\ndf[\\\"Date\\\"] = df.index.round(\\\"30min\\\")\\ndf\";\n",
       "                var nbb_formatted_code = \"df = pd.read_csv(\\n    \\\"../data/mczielinski_bitcoin-historical-data/bitstampUSD_1-min_data_2012-01-01_to_2021-03-31.csv\\\"\\n)\\ndf[\\\"Timestamp\\\"] = pd.to_datetime(df[\\\"Timestamp\\\"], unit=\\\"s\\\")\\ndf.fillna(0, inplace=True)\\ndf.set_index(\\\"Timestamp\\\", inplace=True)\\ndf[\\\"Date\\\"] = df.index.round(\\\"30min\\\")\\ndf\";\n",
       "                var nbb_cells = Jupyter.notebook.get_cells();\n",
       "                for (var i = 0; i < nbb_cells.length; ++i) {\n",
       "                    if (nbb_cells[i].input_prompt_number == nbb_cell_id) {\n",
       "                        if (nbb_cells[i].get_text() == nbb_unformatted_code) {\n",
       "                             nbb_cells[i].set_text(nbb_formatted_code);\n",
       "                        }\n",
       "                        break;\n",
       "                    }\n",
       "                }\n",
       "            }, 500);\n",
       "            "
      ],
      "text/plain": [
       "<IPython.core.display.Javascript object>"
      ]
     },
     "metadata": {},
     "output_type": "display_data"
    }
   ],
   "source": [
    "df = pd.read_csv(\n",
    "    \"../data/mczielinski_bitcoin-historical-data/bitstampUSD_1-min_data_2012-01-01_to_2021-03-31.csv\"\n",
    ")\n",
    "df[\"Timestamp\"] = pd.to_datetime(df[\"Timestamp\"], unit=\"s\")\n",
    "df.fillna(0, inplace=True)\n",
    "df.set_index(\"Timestamp\", inplace=True)\n",
    "df[\"Date\"] = df.index.round(\"30min\")\n",
    "df"
   ]
  },
  {
   "cell_type": "code",
   "execution_count": 4,
   "metadata": {
    "ExecuteTime": {
     "end_time": "2022-05-16T09:41:45.727177Z",
     "start_time": "2022-05-16T09:41:45.266091Z"
    }
   },
   "outputs": [
    {
     "data": {
      "text/plain": [
       "2012    527040\n",
       "2016    527040\n",
       "2020    527040\n",
       "2013    525600\n",
       "2014    525600\n",
       "2017    525600\n",
       "2018    525600\n",
       "2019    525600\n",
       "2015    519128\n",
       "2021    128161\n",
       "2011       968\n",
       "Name: Timestamp, dtype: int64"
      ]
     },
     "execution_count": 4,
     "metadata": {},
     "output_type": "execute_result"
    },
    {
     "data": {
      "application/javascript": [
       "\n",
       "            setTimeout(function() {\n",
       "                var nbb_cell_id = 4;\n",
       "                var nbb_unformatted_code = \"df.index.year.value_counts()\";\n",
       "                var nbb_formatted_code = \"df.index.year.value_counts()\";\n",
       "                var nbb_cells = Jupyter.notebook.get_cells();\n",
       "                for (var i = 0; i < nbb_cells.length; ++i) {\n",
       "                    if (nbb_cells[i].input_prompt_number == nbb_cell_id) {\n",
       "                        if (nbb_cells[i].get_text() == nbb_unformatted_code) {\n",
       "                             nbb_cells[i].set_text(nbb_formatted_code);\n",
       "                        }\n",
       "                        break;\n",
       "                    }\n",
       "                }\n",
       "            }, 500);\n",
       "            "
      ],
      "text/plain": [
       "<IPython.core.display.Javascript object>"
      ]
     },
     "metadata": {},
     "output_type": "display_data"
    }
   ],
   "source": [
    "df.index.year.value_counts()"
   ]
  },
  {
   "cell_type": "code",
   "execution_count": 5,
   "metadata": {
    "ExecuteTime": {
     "end_time": "2022-05-16T09:41:46.276725Z",
     "start_time": "2022-05-16T09:41:45.731825Z"
    }
   },
   "outputs": [
    {
     "data": {
      "text/plain": [
       "(525600, 8)"
      ]
     },
     "execution_count": 5,
     "metadata": {},
     "output_type": "execute_result"
    },
    {
     "data": {
      "application/javascript": [
       "\n",
       "            setTimeout(function() {\n",
       "                var nbb_cell_id = 5;\n",
       "                var nbb_unformatted_code = \"# \\u043f\\u043e\\u0441\\u0442\\u0440\\u043e\\u0435\\u043d\\u0438\\u0435 \\u043f\\u0440\\u043e\\u0433\\u043d\\u043e\\u0437\\u0430 \\u0442\\u043e\\u043b\\u044c\\u043a\\u043e \\u0434\\u043b\\u044f 1 \\u0433\\u043e\\u0434\\u0430\\ndf = df[df.index.year == 2019].copy()\\ndf.shape\";\n",
       "                var nbb_formatted_code = \"# \\u043f\\u043e\\u0441\\u0442\\u0440\\u043e\\u0435\\u043d\\u0438\\u0435 \\u043f\\u0440\\u043e\\u0433\\u043d\\u043e\\u0437\\u0430 \\u0442\\u043e\\u043b\\u044c\\u043a\\u043e \\u0434\\u043b\\u044f 1 \\u0433\\u043e\\u0434\\u0430\\ndf = df[df.index.year == 2019].copy()\\ndf.shape\";\n",
       "                var nbb_cells = Jupyter.notebook.get_cells();\n",
       "                for (var i = 0; i < nbb_cells.length; ++i) {\n",
       "                    if (nbb_cells[i].input_prompt_number == nbb_cell_id) {\n",
       "                        if (nbb_cells[i].get_text() == nbb_unformatted_code) {\n",
       "                             nbb_cells[i].set_text(nbb_formatted_code);\n",
       "                        }\n",
       "                        break;\n",
       "                    }\n",
       "                }\n",
       "            }, 500);\n",
       "            "
      ],
      "text/plain": [
       "<IPython.core.display.Javascript object>"
      ]
     },
     "metadata": {},
     "output_type": "display_data"
    }
   ],
   "source": [
    "# построение прогноза только для 1 года\n",
    "df = df[df.index.year == 2019].copy()\n",
    "df.shape"
   ]
  },
  {
   "cell_type": "markdown",
   "metadata": {},
   "source": [
    "# Подготовка признаков"
   ]
  },
  {
   "cell_type": "code",
   "execution_count": 6,
   "metadata": {
    "ExecuteTime": {
     "end_time": "2022-05-16T09:41:46.288876Z",
     "start_time": "2022-05-16T09:41:46.281197Z"
    }
   },
   "outputs": [
    {
     "data": {
      "application/javascript": [
       "\n",
       "            setTimeout(function() {\n",
       "                var nbb_cell_id = 6;\n",
       "                var nbb_unformatted_code = \"scaler = MinMaxScaler()\";\n",
       "                var nbb_formatted_code = \"scaler = MinMaxScaler()\";\n",
       "                var nbb_cells = Jupyter.notebook.get_cells();\n",
       "                for (var i = 0; i < nbb_cells.length; ++i) {\n",
       "                    if (nbb_cells[i].input_prompt_number == nbb_cell_id) {\n",
       "                        if (nbb_cells[i].get_text() == nbb_unformatted_code) {\n",
       "                             nbb_cells[i].set_text(nbb_formatted_code);\n",
       "                        }\n",
       "                        break;\n",
       "                    }\n",
       "                }\n",
       "            }, 500);\n",
       "            "
      ],
      "text/plain": [
       "<IPython.core.display.Javascript object>"
      ]
     },
     "metadata": {},
     "output_type": "display_data"
    }
   ],
   "source": [
    "scaler = MinMaxScaler()"
   ]
  },
  {
   "cell_type": "code",
   "execution_count": 7,
   "metadata": {
    "ExecuteTime": {
     "end_time": "2022-05-16T09:41:46.432615Z",
     "start_time": "2022-05-16T09:41:46.297735Z"
    },
    "colab": {
     "base_uri": "https://localhost:8080/",
     "height": 455
    },
    "executionInfo": {
     "elapsed": 7,
     "status": "ok",
     "timestamp": 1647848858651,
     "user": {
      "displayName": "Aleksey Pestov",
      "photoUrl": "https://lh3.googleusercontent.com/a-/AOh14GhYgIiAr5rSxdvsLDGzQ-vzeD_eNpe7hebXMzVy5g=s64",
      "userId": "15001429278579118680"
     },
     "user_tz": -180
    },
    "id": "ktFLg01r9NKP",
    "outputId": "8b7690ab-dcee-45e7-ccfe-91c33fcbce23"
   },
   "outputs": [
    {
     "data": {
      "text/html": [
       "<div>\n",
       "<style scoped>\n",
       "    .dataframe tbody tr th:only-of-type {\n",
       "        vertical-align: middle;\n",
       "    }\n",
       "\n",
       "    .dataframe tbody tr th {\n",
       "        vertical-align: top;\n",
       "    }\n",
       "\n",
       "    .dataframe thead th {\n",
       "        text-align: right;\n",
       "    }\n",
       "</style>\n",
       "<table border=\"1\" class=\"dataframe\">\n",
       "  <thead>\n",
       "    <tr style=\"text-align: right;\">\n",
       "      <th></th>\n",
       "      <th>Open</th>\n",
       "      <th>High</th>\n",
       "      <th>Low</th>\n",
       "      <th>Close</th>\n",
       "      <th>Date</th>\n",
       "    </tr>\n",
       "    <tr>\n",
       "      <th>Timestamp</th>\n",
       "      <th></th>\n",
       "      <th></th>\n",
       "      <th></th>\n",
       "      <th></th>\n",
       "      <th></th>\n",
       "    </tr>\n",
       "  </thead>\n",
       "  <tbody>\n",
       "    <tr>\n",
       "      <th>2019-01-01 00:00:00</th>\n",
       "      <td>0.266641</td>\n",
       "      <td>0.266483</td>\n",
       "      <td>0.267089</td>\n",
       "      <td>0.266993</td>\n",
       "      <td>2019-01-01</td>\n",
       "    </tr>\n",
       "    <tr>\n",
       "      <th>2019-01-01 00:01:00</th>\n",
       "      <td>0.266704</td>\n",
       "      <td>0.266190</td>\n",
       "      <td>0.266857</td>\n",
       "      <td>0.266462</td>\n",
       "      <td>2019-01-01</td>\n",
       "    </tr>\n",
       "    <tr>\n",
       "      <th>2019-01-01 00:02:00</th>\n",
       "      <td>0.266344</td>\n",
       "      <td>0.265831</td>\n",
       "      <td>0.266566</td>\n",
       "      <td>0.266171</td>\n",
       "      <td>2019-01-01</td>\n",
       "    </tr>\n",
       "    <tr>\n",
       "      <th>2019-01-01 00:03:00</th>\n",
       "      <td>0.266569</td>\n",
       "      <td>0.266055</td>\n",
       "      <td>0.266689</td>\n",
       "      <td>0.266585</td>\n",
       "      <td>2019-01-01</td>\n",
       "    </tr>\n",
       "    <tr>\n",
       "      <th>2019-01-01 00:04:00</th>\n",
       "      <td>0.266533</td>\n",
       "      <td>0.266019</td>\n",
       "      <td>0.266835</td>\n",
       "      <td>0.266440</td>\n",
       "      <td>2019-01-01</td>\n",
       "    </tr>\n",
       "    <tr>\n",
       "      <th>...</th>\n",
       "      <td>...</td>\n",
       "      <td>...</td>\n",
       "      <td>...</td>\n",
       "      <td>...</td>\n",
       "      <td>...</td>\n",
       "    </tr>\n",
       "    <tr>\n",
       "      <th>2019-12-31 23:55:00</th>\n",
       "      <td>0.517979</td>\n",
       "      <td>0.517052</td>\n",
       "      <td>0.518847</td>\n",
       "      <td>0.518151</td>\n",
       "      <td>2020-01-01</td>\n",
       "    </tr>\n",
       "    <tr>\n",
       "      <th>2019-12-31 23:56:00</th>\n",
       "      <td>0.518470</td>\n",
       "      <td>0.517470</td>\n",
       "      <td>0.518450</td>\n",
       "      <td>0.517683</td>\n",
       "      <td>2020-01-01</td>\n",
       "    </tr>\n",
       "    <tr>\n",
       "      <th>2019-12-31 23:57:00</th>\n",
       "      <td>0.517151</td>\n",
       "      <td>0.516628</td>\n",
       "      <td>0.517832</td>\n",
       "      <td>0.517444</td>\n",
       "      <td>2020-01-01</td>\n",
       "    </tr>\n",
       "    <tr>\n",
       "      <th>2019-12-31 23:58:00</th>\n",
       "      <td>0.517344</td>\n",
       "      <td>0.516376</td>\n",
       "      <td>0.517857</td>\n",
       "      <td>0.517473</td>\n",
       "      <td>2020-01-01</td>\n",
       "    </tr>\n",
       "    <tr>\n",
       "      <th>2019-12-31 23:59:00</th>\n",
       "      <td>0.517373</td>\n",
       "      <td>0.516659</td>\n",
       "      <td>0.518241</td>\n",
       "      <td>0.517550</td>\n",
       "      <td>2020-01-01</td>\n",
       "    </tr>\n",
       "  </tbody>\n",
       "</table>\n",
       "<p>525600 rows × 5 columns</p>\n",
       "</div>"
      ],
      "text/plain": [
       "                         Open      High       Low     Close       Date\n",
       "Timestamp                                                             \n",
       "2019-01-01 00:00:00  0.266641  0.266483  0.267089  0.266993 2019-01-01\n",
       "2019-01-01 00:01:00  0.266704  0.266190  0.266857  0.266462 2019-01-01\n",
       "2019-01-01 00:02:00  0.266344  0.265831  0.266566  0.266171 2019-01-01\n",
       "2019-01-01 00:03:00  0.266569  0.266055  0.266689  0.266585 2019-01-01\n",
       "2019-01-01 00:04:00  0.266533  0.266019  0.266835  0.266440 2019-01-01\n",
       "...                       ...       ...       ...       ...        ...\n",
       "2019-12-31 23:55:00  0.517979  0.517052  0.518847  0.518151 2020-01-01\n",
       "2019-12-31 23:56:00  0.518470  0.517470  0.518450  0.517683 2020-01-01\n",
       "2019-12-31 23:57:00  0.517151  0.516628  0.517832  0.517444 2020-01-01\n",
       "2019-12-31 23:58:00  0.517344  0.516376  0.517857  0.517473 2020-01-01\n",
       "2019-12-31 23:59:00  0.517373  0.516659  0.518241  0.517550 2020-01-01\n",
       "\n",
       "[525600 rows x 5 columns]"
      ]
     },
     "execution_count": 7,
     "metadata": {},
     "output_type": "execute_result"
    },
    {
     "data": {
      "application/javascript": [
       "\n",
       "            setTimeout(function() {\n",
       "                var nbb_cell_id = 7;\n",
       "                var nbb_unformatted_code = \"X = df[[\\\"Open\\\", \\\"High\\\", \\\"Low\\\", \\\"Close\\\"]].copy()\\nX[X.columns] = scaler.fit_transform(X)\\nX[\\\"Date\\\"] = X.index.round(\\\"30min\\\")\\nX\";\n",
       "                var nbb_formatted_code = \"X = df[[\\\"Open\\\", \\\"High\\\", \\\"Low\\\", \\\"Close\\\"]].copy()\\nX[X.columns] = scaler.fit_transform(X)\\nX[\\\"Date\\\"] = X.index.round(\\\"30min\\\")\\nX\";\n",
       "                var nbb_cells = Jupyter.notebook.get_cells();\n",
       "                for (var i = 0; i < nbb_cells.length; ++i) {\n",
       "                    if (nbb_cells[i].input_prompt_number == nbb_cell_id) {\n",
       "                        if (nbb_cells[i].get_text() == nbb_unformatted_code) {\n",
       "                             nbb_cells[i].set_text(nbb_formatted_code);\n",
       "                        }\n",
       "                        break;\n",
       "                    }\n",
       "                }\n",
       "            }, 500);\n",
       "            "
      ],
      "text/plain": [
       "<IPython.core.display.Javascript object>"
      ]
     },
     "metadata": {},
     "output_type": "display_data"
    }
   ],
   "source": [
    "X = df[[\"Open\", \"High\", \"Low\", \"Close\"]].copy()\n",
    "X[X.columns] = scaler.fit_transform(X)\n",
    "X[\"Date\"] = X.index.round(\"30min\")\n",
    "X"
   ]
  },
  {
   "cell_type": "code",
   "execution_count": 8,
   "metadata": {
    "ExecuteTime": {
     "end_time": "2022-05-16T10:11:45.575565Z",
     "start_time": "2022-05-16T09:41:46.435694Z"
    },
    "colab": {
     "base_uri": "https://localhost:8080/"
    },
    "id": "0cH7Pv5G-M-p",
    "outputId": "bd618f45-f868-4c9c-8082-859b40a159e5"
   },
   "outputs": [
    {
     "name": "stderr",
     "output_type": "stream",
     "text": [
      "Feature Extraction: 100%|████████████████████████████████████████████████████████████████| 30/30 [28:16<00:00, 56.56s/it]\n"
     ]
    },
    {
     "data": {
      "text/plain": [
       "(17521, 3176)"
      ]
     },
     "execution_count": 8,
     "metadata": {},
     "output_type": "execute_result"
    },
    {
     "data": {
      "application/javascript": [
       "\n",
       "            setTimeout(function() {\n",
       "                var nbb_cell_id = 8;\n",
       "                var nbb_unformatted_code = \"# https://tsfresh.readthedocs.io/en/latest/text/feature_extraction_settings.html\\n# https://otus.ru/nest/post/1024/\\nX = extract_features(\\n    X, column_id=\\\"Date\\\", default_fc_parameters=ComprehensiveFCParameters()\\n)\\nX.shape\";\n",
       "                var nbb_formatted_code = \"# https://tsfresh.readthedocs.io/en/latest/text/feature_extraction_settings.html\\n# https://otus.ru/nest/post/1024/\\nX = extract_features(\\n    X, column_id=\\\"Date\\\", default_fc_parameters=ComprehensiveFCParameters()\\n)\\nX.shape\";\n",
       "                var nbb_cells = Jupyter.notebook.get_cells();\n",
       "                for (var i = 0; i < nbb_cells.length; ++i) {\n",
       "                    if (nbb_cells[i].input_prompt_number == nbb_cell_id) {\n",
       "                        if (nbb_cells[i].get_text() == nbb_unformatted_code) {\n",
       "                             nbb_cells[i].set_text(nbb_formatted_code);\n",
       "                        }\n",
       "                        break;\n",
       "                    }\n",
       "                }\n",
       "            }, 500);\n",
       "            "
      ],
      "text/plain": [
       "<IPython.core.display.Javascript object>"
      ]
     },
     "metadata": {},
     "output_type": "display_data"
    }
   ],
   "source": [
    "# https://tsfresh.readthedocs.io/en/latest/text/feature_extraction_settings.html\n",
    "# https://otus.ru/nest/post/1024/\n",
    "X = extract_features(\n",
    "    X, column_id=\"Date\", default_fc_parameters=ComprehensiveFCParameters()\n",
    ")\n",
    "X.shape"
   ]
  },
  {
   "cell_type": "code",
   "execution_count": 9,
   "metadata": {
    "ExecuteTime": {
     "end_time": "2022-05-16T10:11:45.592988Z",
     "start_time": "2022-05-16T10:11:45.576415Z"
    }
   },
   "outputs": [
    {
     "data": {
      "text/html": [
       "<div>\n",
       "<style scoped>\n",
       "    .dataframe tbody tr th:only-of-type {\n",
       "        vertical-align: middle;\n",
       "    }\n",
       "\n",
       "    .dataframe tbody tr th {\n",
       "        vertical-align: top;\n",
       "    }\n",
       "\n",
       "    .dataframe thead th {\n",
       "        text-align: right;\n",
       "    }\n",
       "</style>\n",
       "<table border=\"1\" class=\"dataframe\">\n",
       "  <thead>\n",
       "    <tr style=\"text-align: right;\">\n",
       "      <th></th>\n",
       "      <th>Weighted_Price</th>\n",
       "    </tr>\n",
       "    <tr>\n",
       "      <th>Date</th>\n",
       "      <th></th>\n",
       "    </tr>\n",
       "  </thead>\n",
       "  <tbody>\n",
       "    <tr>\n",
       "      <th>2019-01-01 00:00:00</th>\n",
       "      <td>2767.072716</td>\n",
       "    </tr>\n",
       "    <tr>\n",
       "      <th>2019-01-01 00:30:00</th>\n",
       "      <td>2545.995022</td>\n",
       "    </tr>\n",
       "    <tr>\n",
       "      <th>2019-01-01 01:00:00</th>\n",
       "      <td>2860.814664</td>\n",
       "    </tr>\n",
       "    <tr>\n",
       "      <th>2019-01-01 01:30:00</th>\n",
       "      <td>2163.408399</td>\n",
       "    </tr>\n",
       "    <tr>\n",
       "      <th>2019-01-01 02:00:00</th>\n",
       "      <td>3205.776311</td>\n",
       "    </tr>\n",
       "    <tr>\n",
       "      <th>...</th>\n",
       "      <td>...</td>\n",
       "    </tr>\n",
       "    <tr>\n",
       "      <th>2019-12-31 22:00:00</th>\n",
       "      <td>7158.608490</td>\n",
       "    </tr>\n",
       "    <tr>\n",
       "      <th>2019-12-31 22:30:00</th>\n",
       "      <td>6918.165685</td>\n",
       "    </tr>\n",
       "    <tr>\n",
       "      <th>2019-12-31 23:00:00</th>\n",
       "      <td>7172.228421</td>\n",
       "    </tr>\n",
       "    <tr>\n",
       "      <th>2019-12-31 23:30:00</th>\n",
       "      <td>6918.312048</td>\n",
       "    </tr>\n",
       "    <tr>\n",
       "      <th>2020-01-01 00:00:00</th>\n",
       "      <td>6693.794769</td>\n",
       "    </tr>\n",
       "  </tbody>\n",
       "</table>\n",
       "<p>17521 rows × 1 columns</p>\n",
       "</div>"
      ],
      "text/plain": [
       "                     Weighted_Price\n",
       "Date                               \n",
       "2019-01-01 00:00:00     2767.072716\n",
       "2019-01-01 00:30:00     2545.995022\n",
       "2019-01-01 01:00:00     2860.814664\n",
       "2019-01-01 01:30:00     2163.408399\n",
       "2019-01-01 02:00:00     3205.776311\n",
       "...                             ...\n",
       "2019-12-31 22:00:00     7158.608490\n",
       "2019-12-31 22:30:00     6918.165685\n",
       "2019-12-31 23:00:00     7172.228421\n",
       "2019-12-31 23:30:00     6918.312048\n",
       "2020-01-01 00:00:00     6693.794769\n",
       "\n",
       "[17521 rows x 1 columns]"
      ]
     },
     "execution_count": 9,
     "metadata": {},
     "output_type": "execute_result"
    },
    {
     "data": {
      "application/javascript": [
       "\n",
       "            setTimeout(function() {\n",
       "                var nbb_cell_id = 9;\n",
       "                var nbb_unformatted_code = \"y = df[[\\\"Weighted_Price\\\", \\\"Date\\\"]].groupby(\\\"Date\\\").mean()\\ny\";\n",
       "                var nbb_formatted_code = \"y = df[[\\\"Weighted_Price\\\", \\\"Date\\\"]].groupby(\\\"Date\\\").mean()\\ny\";\n",
       "                var nbb_cells = Jupyter.notebook.get_cells();\n",
       "                for (var i = 0; i < nbb_cells.length; ++i) {\n",
       "                    if (nbb_cells[i].input_prompt_number == nbb_cell_id) {\n",
       "                        if (nbb_cells[i].get_text() == nbb_unformatted_code) {\n",
       "                             nbb_cells[i].set_text(nbb_formatted_code);\n",
       "                        }\n",
       "                        break;\n",
       "                    }\n",
       "                }\n",
       "            }, 500);\n",
       "            "
      ],
      "text/plain": [
       "<IPython.core.display.Javascript object>"
      ]
     },
     "metadata": {},
     "output_type": "display_data"
    }
   ],
   "source": [
    "y = df[[\"Weighted_Price\", \"Date\"]].groupby(\"Date\").mean()\n",
    "y"
   ]
  },
  {
   "cell_type": "code",
   "execution_count": 10,
   "metadata": {
    "ExecuteTime": {
     "end_time": "2022-05-16T10:11:45.608438Z",
     "start_time": "2022-05-16T10:11:45.594289Z"
    }
   },
   "outputs": [
    {
     "data": {
      "text/html": [
       "<div>\n",
       "<style scoped>\n",
       "    .dataframe tbody tr th:only-of-type {\n",
       "        vertical-align: middle;\n",
       "    }\n",
       "\n",
       "    .dataframe tbody tr th {\n",
       "        vertical-align: top;\n",
       "    }\n",
       "\n",
       "    .dataframe thead th {\n",
       "        text-align: right;\n",
       "    }\n",
       "</style>\n",
       "<table border=\"1\" class=\"dataframe\">\n",
       "  <thead>\n",
       "    <tr style=\"text-align: right;\">\n",
       "      <th></th>\n",
       "      <th>Weighted_Price</th>\n",
       "      <th>Weighted_Price_1</th>\n",
       "      <th>Target</th>\n",
       "    </tr>\n",
       "    <tr>\n",
       "      <th>Date</th>\n",
       "      <th></th>\n",
       "      <th></th>\n",
       "      <th></th>\n",
       "    </tr>\n",
       "  </thead>\n",
       "  <tbody>\n",
       "    <tr>\n",
       "      <th>2019-01-01 00:00:00</th>\n",
       "      <td>2767.072716</td>\n",
       "      <td>2545.995022</td>\n",
       "      <td>0</td>\n",
       "    </tr>\n",
       "    <tr>\n",
       "      <th>2019-01-01 00:30:00</th>\n",
       "      <td>2545.995022</td>\n",
       "      <td>2860.814664</td>\n",
       "      <td>1</td>\n",
       "    </tr>\n",
       "    <tr>\n",
       "      <th>2019-01-01 01:00:00</th>\n",
       "      <td>2860.814664</td>\n",
       "      <td>2163.408399</td>\n",
       "      <td>0</td>\n",
       "    </tr>\n",
       "    <tr>\n",
       "      <th>2019-01-01 01:30:00</th>\n",
       "      <td>2163.408399</td>\n",
       "      <td>3205.776311</td>\n",
       "      <td>1</td>\n",
       "    </tr>\n",
       "    <tr>\n",
       "      <th>2019-01-01 02:00:00</th>\n",
       "      <td>3205.776311</td>\n",
       "      <td>3551.331120</td>\n",
       "      <td>1</td>\n",
       "    </tr>\n",
       "    <tr>\n",
       "      <th>...</th>\n",
       "      <td>...</td>\n",
       "      <td>...</td>\n",
       "      <td>...</td>\n",
       "    </tr>\n",
       "    <tr>\n",
       "      <th>2019-12-31 22:00:00</th>\n",
       "      <td>7158.608490</td>\n",
       "      <td>6918.165685</td>\n",
       "      <td>0</td>\n",
       "    </tr>\n",
       "    <tr>\n",
       "      <th>2019-12-31 22:30:00</th>\n",
       "      <td>6918.165685</td>\n",
       "      <td>7172.228421</td>\n",
       "      <td>1</td>\n",
       "    </tr>\n",
       "    <tr>\n",
       "      <th>2019-12-31 23:00:00</th>\n",
       "      <td>7172.228421</td>\n",
       "      <td>6918.312048</td>\n",
       "      <td>0</td>\n",
       "    </tr>\n",
       "    <tr>\n",
       "      <th>2019-12-31 23:30:00</th>\n",
       "      <td>6918.312048</td>\n",
       "      <td>6693.794769</td>\n",
       "      <td>0</td>\n",
       "    </tr>\n",
       "    <tr>\n",
       "      <th>2020-01-01 00:00:00</th>\n",
       "      <td>6693.794769</td>\n",
       "      <td>0.000000</td>\n",
       "      <td>0</td>\n",
       "    </tr>\n",
       "  </tbody>\n",
       "</table>\n",
       "<p>17521 rows × 3 columns</p>\n",
       "</div>"
      ],
      "text/plain": [
       "                     Weighted_Price  Weighted_Price_1  Target\n",
       "Date                                                         \n",
       "2019-01-01 00:00:00     2767.072716       2545.995022       0\n",
       "2019-01-01 00:30:00     2545.995022       2860.814664       1\n",
       "2019-01-01 01:00:00     2860.814664       2163.408399       0\n",
       "2019-01-01 01:30:00     2163.408399       3205.776311       1\n",
       "2019-01-01 02:00:00     3205.776311       3551.331120       1\n",
       "...                             ...               ...     ...\n",
       "2019-12-31 22:00:00     7158.608490       6918.165685       0\n",
       "2019-12-31 22:30:00     6918.165685       7172.228421       1\n",
       "2019-12-31 23:00:00     7172.228421       6918.312048       0\n",
       "2019-12-31 23:30:00     6918.312048       6693.794769       0\n",
       "2020-01-01 00:00:00     6693.794769          0.000000       0\n",
       "\n",
       "[17521 rows x 3 columns]"
      ]
     },
     "execution_count": 10,
     "metadata": {},
     "output_type": "execute_result"
    },
    {
     "data": {
      "application/javascript": [
       "\n",
       "            setTimeout(function() {\n",
       "                var nbb_cell_id = 10;\n",
       "                var nbb_unformatted_code = \"y[\\\"Weighted_Price_1\\\"] = y[\\\"Weighted_Price\\\"].shift(-1).fillna(0)\\ny[\\\"Target\\\"] = (y[\\\"Weighted_Price_1\\\"] > y[\\\"Weighted_Price\\\"]).astype(int)\\ny\";\n",
       "                var nbb_formatted_code = \"y[\\\"Weighted_Price_1\\\"] = y[\\\"Weighted_Price\\\"].shift(-1).fillna(0)\\ny[\\\"Target\\\"] = (y[\\\"Weighted_Price_1\\\"] > y[\\\"Weighted_Price\\\"]).astype(int)\\ny\";\n",
       "                var nbb_cells = Jupyter.notebook.get_cells();\n",
       "                for (var i = 0; i < nbb_cells.length; ++i) {\n",
       "                    if (nbb_cells[i].input_prompt_number == nbb_cell_id) {\n",
       "                        if (nbb_cells[i].get_text() == nbb_unformatted_code) {\n",
       "                             nbb_cells[i].set_text(nbb_formatted_code);\n",
       "                        }\n",
       "                        break;\n",
       "                    }\n",
       "                }\n",
       "            }, 500);\n",
       "            "
      ],
      "text/plain": [
       "<IPython.core.display.Javascript object>"
      ]
     },
     "metadata": {},
     "output_type": "display_data"
    }
   ],
   "source": [
    "y[\"Weighted_Price_1\"] = y[\"Weighted_Price\"].shift(-1).fillna(0)\n",
    "y[\"Target\"] = (y[\"Weighted_Price_1\"] > y[\"Weighted_Price\"]).astype(int)\n",
    "y"
   ]
  },
  {
   "cell_type": "code",
   "execution_count": 11,
   "metadata": {
    "ExecuteTime": {
     "end_time": "2022-05-16T10:11:45.615797Z",
     "start_time": "2022-05-16T10:11:45.609541Z"
    }
   },
   "outputs": [
    {
     "data": {
      "text/plain": [
       "Target\n",
       "1         8830\n",
       "0         8691\n",
       "dtype: int64"
      ]
     },
     "execution_count": 11,
     "metadata": {},
     "output_type": "execute_result"
    },
    {
     "data": {
      "application/javascript": [
       "\n",
       "            setTimeout(function() {\n",
       "                var nbb_cell_id = 11;\n",
       "                var nbb_unformatted_code = \"y = y[[\\\"Target\\\"]]\\ny.value_counts()\";\n",
       "                var nbb_formatted_code = \"y = y[[\\\"Target\\\"]]\\ny.value_counts()\";\n",
       "                var nbb_cells = Jupyter.notebook.get_cells();\n",
       "                for (var i = 0; i < nbb_cells.length; ++i) {\n",
       "                    if (nbb_cells[i].input_prompt_number == nbb_cell_id) {\n",
       "                        if (nbb_cells[i].get_text() == nbb_unformatted_code) {\n",
       "                             nbb_cells[i].set_text(nbb_formatted_code);\n",
       "                        }\n",
       "                        break;\n",
       "                    }\n",
       "                }\n",
       "            }, 500);\n",
       "            "
      ],
      "text/plain": [
       "<IPython.core.display.Javascript object>"
      ]
     },
     "metadata": {},
     "output_type": "display_data"
    }
   ],
   "source": [
    "y = y[[\"Target\"]]\n",
    "y.value_counts()"
   ]
  },
  {
   "cell_type": "markdown",
   "metadata": {},
   "source": [
    "# Подбор гиперпараметров"
   ]
  },
  {
   "cell_type": "code",
   "execution_count": 12,
   "metadata": {
    "ExecuteTime": {
     "end_time": "2022-05-16T10:11:45.619673Z",
     "start_time": "2022-05-16T10:11:45.616527Z"
    }
   },
   "outputs": [
    {
     "data": {
      "application/javascript": [
       "\n",
       "            setTimeout(function() {\n",
       "                var nbb_cell_id = 12;\n",
       "                var nbb_unformatted_code = \"tscv = TimeSeriesSplit(n_splits=10)\";\n",
       "                var nbb_formatted_code = \"tscv = TimeSeriesSplit(n_splits=10)\";\n",
       "                var nbb_cells = Jupyter.notebook.get_cells();\n",
       "                for (var i = 0; i < nbb_cells.length; ++i) {\n",
       "                    if (nbb_cells[i].input_prompt_number == nbb_cell_id) {\n",
       "                        if (nbb_cells[i].get_text() == nbb_unformatted_code) {\n",
       "                             nbb_cells[i].set_text(nbb_formatted_code);\n",
       "                        }\n",
       "                        break;\n",
       "                    }\n",
       "                }\n",
       "            }, 500);\n",
       "            "
      ],
      "text/plain": [
       "<IPython.core.display.Javascript object>"
      ]
     },
     "metadata": {},
     "output_type": "display_data"
    }
   ],
   "source": [
    "tscv = TimeSeriesSplit(n_splits=10)"
   ]
  },
  {
   "cell_type": "code",
   "execution_count": 13,
   "metadata": {
    "ExecuteTime": {
     "end_time": "2022-05-16T10:44:36.591618Z",
     "start_time": "2022-05-16T10:11:45.620363Z"
    }
   },
   "outputs": [
    {
     "data": {
      "application/vnd.jupyter.widget-view+json": {
       "model_id": "7f67613372ae47718af292dae320c50b",
       "version_major": 2,
       "version_minor": 0
      },
      "text/plain": [
       "MetricVisualizer(layout=Layout(align_self='stretch', height='500px'))"
      ]
     },
     "metadata": {},
     "output_type": "display_data"
    },
    {
     "data": {
      "application/javascript": [
       "\n",
       "            setTimeout(function() {\n",
       "                var nbb_cell_id = 13;\n",
       "                var nbb_unformatted_code = \"model = CatBoostClassifier(logging_level=\\\"Silent\\\")\\n\\n# https://effectiveml.com/using-grid-search-to-optimise-catboost-parameters.html\\ngrid_params = {\\n    \\\"depth\\\": [3, 1, 2, 6, 4, 5, 7, 8, 9, 10],\\n    \\\"iterations\\\": [250, 100, 500, 1000],\\n    \\\"learning_rate\\\": [0.03, 0.001, 0.01, 0.1, 0.2, 0.3],\\n    \\\"l2_leaf_reg\\\": [3, 1, 5, 10, 100],\\n}\\n\\ngrid_search_result = model.randomized_search(\\n    grid_params, Pool(X, y), cv=tscv, verbose=False, plot=True\\n)\";\n",
       "                var nbb_formatted_code = \"model = CatBoostClassifier(logging_level=\\\"Silent\\\")\\n\\n# https://effectiveml.com/using-grid-search-to-optimise-catboost-parameters.html\\ngrid_params = {\\n    \\\"depth\\\": [3, 1, 2, 6, 4, 5, 7, 8, 9, 10],\\n    \\\"iterations\\\": [250, 100, 500, 1000],\\n    \\\"learning_rate\\\": [0.03, 0.001, 0.01, 0.1, 0.2, 0.3],\\n    \\\"l2_leaf_reg\\\": [3, 1, 5, 10, 100],\\n}\\n\\ngrid_search_result = model.randomized_search(\\n    grid_params, Pool(X, y), cv=tscv, verbose=False, plot=True\\n)\";\n",
       "                var nbb_cells = Jupyter.notebook.get_cells();\n",
       "                for (var i = 0; i < nbb_cells.length; ++i) {\n",
       "                    if (nbb_cells[i].input_prompt_number == nbb_cell_id) {\n",
       "                        if (nbb_cells[i].get_text() == nbb_unformatted_code) {\n",
       "                             nbb_cells[i].set_text(nbb_formatted_code);\n",
       "                        }\n",
       "                        break;\n",
       "                    }\n",
       "                }\n",
       "            }, 500);\n",
       "            "
      ],
      "text/plain": [
       "<IPython.core.display.Javascript object>"
      ]
     },
     "metadata": {},
     "output_type": "display_data"
    }
   ],
   "source": [
    "model = CatBoostClassifier(logging_level=\"Silent\")\n",
    "\n",
    "# https://effectiveml.com/using-grid-search-to-optimise-catboost-parameters.html\n",
    "grid_params = {\n",
    "    \"depth\": [3, 1, 2, 6, 4, 5, 7, 8, 9, 10],\n",
    "    \"iterations\": [250, 100, 500, 1000],\n",
    "    \"learning_rate\": [0.03, 0.001, 0.01, 0.1, 0.2, 0.3],\n",
    "    \"l2_leaf_reg\": [3, 1, 5, 10, 100],\n",
    "}\n",
    "\n",
    "grid_search_result = model.randomized_search(\n",
    "    grid_params, Pool(X, y), cv=tscv, verbose=False, plot=True\n",
    ")"
   ]
  },
  {
   "cell_type": "code",
   "execution_count": 14,
   "metadata": {
    "ExecuteTime": {
     "end_time": "2022-05-16T10:44:36.597466Z",
     "start_time": "2022-05-16T10:44:36.592801Z"
    }
   },
   "outputs": [
    {
     "data": {
      "text/plain": [
       "{'depth': 6, 'l2_leaf_reg': 5, 'iterations': 1000, 'learning_rate': 0.03}"
      ]
     },
     "execution_count": 14,
     "metadata": {},
     "output_type": "execute_result"
    },
    {
     "data": {
      "application/javascript": [
       "\n",
       "            setTimeout(function() {\n",
       "                var nbb_cell_id = 14;\n",
       "                var nbb_unformatted_code = \"best_model_params = grid_search_result[\\\"params\\\"]\\nbest_model_params\";\n",
       "                var nbb_formatted_code = \"best_model_params = grid_search_result[\\\"params\\\"]\\nbest_model_params\";\n",
       "                var nbb_cells = Jupyter.notebook.get_cells();\n",
       "                for (var i = 0; i < nbb_cells.length; ++i) {\n",
       "                    if (nbb_cells[i].input_prompt_number == nbb_cell_id) {\n",
       "                        if (nbb_cells[i].get_text() == nbb_unformatted_code) {\n",
       "                             nbb_cells[i].set_text(nbb_formatted_code);\n",
       "                        }\n",
       "                        break;\n",
       "                    }\n",
       "                }\n",
       "            }, 500);\n",
       "            "
      ],
      "text/plain": [
       "<IPython.core.display.Javascript object>"
      ]
     },
     "metadata": {},
     "output_type": "display_data"
    }
   ],
   "source": [
    "best_model_params = grid_search_result[\"params\"]\n",
    "best_model_params"
   ]
  },
  {
   "cell_type": "markdown",
   "metadata": {
    "ExecuteTime": {
     "end_time": "2022-03-21T11:22:51.823907Z",
     "start_time": "2022-03-21T11:22:51.820152Z"
    }
   },
   "source": [
    "# Обучение модели"
   ]
  },
  {
   "cell_type": "code",
   "execution_count": 15,
   "metadata": {
    "ExecuteTime": {
     "end_time": "2022-05-16T10:44:36.689318Z",
     "start_time": "2022-05-16T10:44:36.598434Z"
    },
    "id": "sAfHTjw5-NEI"
   },
   "outputs": [
    {
     "data": {
      "text/plain": [
       "((15768, 3176), (1753, 3176), (15768, 1), (1753, 1))"
      ]
     },
     "execution_count": 15,
     "metadata": {},
     "output_type": "execute_result"
    },
    {
     "data": {
      "application/javascript": [
       "\n",
       "            setTimeout(function() {\n",
       "                var nbb_cell_id = 15;\n",
       "                var nbb_unformatted_code = \"X_train, X_test, y_train, y_test = train_test_split(\\n    X, y, test_size=0.1, shuffle=False, random_state=42\\n)\\n\\nX_train.shape, X_test.shape, y_train.shape, y_test.shape\";\n",
       "                var nbb_formatted_code = \"X_train, X_test, y_train, y_test = train_test_split(\\n    X, y, test_size=0.1, shuffle=False, random_state=42\\n)\\n\\nX_train.shape, X_test.shape, y_train.shape, y_test.shape\";\n",
       "                var nbb_cells = Jupyter.notebook.get_cells();\n",
       "                for (var i = 0; i < nbb_cells.length; ++i) {\n",
       "                    if (nbb_cells[i].input_prompt_number == nbb_cell_id) {\n",
       "                        if (nbb_cells[i].get_text() == nbb_unformatted_code) {\n",
       "                             nbb_cells[i].set_text(nbb_formatted_code);\n",
       "                        }\n",
       "                        break;\n",
       "                    }\n",
       "                }\n",
       "            }, 500);\n",
       "            "
      ],
      "text/plain": [
       "<IPython.core.display.Javascript object>"
      ]
     },
     "metadata": {},
     "output_type": "display_data"
    }
   ],
   "source": [
    "X_train, X_test, y_train, y_test = train_test_split(\n",
    "    X, y, test_size=0.1, shuffle=False, random_state=42\n",
    ")\n",
    "\n",
    "X_train.shape, X_test.shape, y_train.shape, y_test.shape"
   ]
  },
  {
   "cell_type": "code",
   "execution_count": 16,
   "metadata": {
    "ExecuteTime": {
     "end_time": "2022-05-16T10:56:34.544582Z",
     "start_time": "2022-05-16T10:44:36.690434Z"
    }
   },
   "outputs": [
    {
     "name": "stdout",
     "output_type": "stream",
     "text": [
      "{'learn': {'Logloss': 0.05427629441962693}, 'validation': {'Logloss': 0.6236366783726128}}\n",
      "{'learn': {'Logloss': 0.14815629504743305}, 'validation': {'Logloss': 0.605044209339462}}\n",
      "{'learn': {'Logloss': 0.21801102491814928}, 'validation': {'Logloss': 0.621397205253102}}\n",
      "{'learn': {'Logloss': 0.2641709495275425}, 'validation': {'Logloss': 0.5555572451604841}}\n",
      "{'learn': {'Logloss': 0.2880504727915731}, 'validation': {'Logloss': 0.5276045438609853}}\n",
      "{'learn': {'Logloss': 0.3051795771886179}, 'validation': {'Logloss': 0.5789902524416514}}\n",
      "{'learn': {'Logloss': 0.33001438406239836}, 'validation': {'Logloss': 0.5336285971621911}}\n",
      "{'learn': {'Logloss': 0.34335096373735463}, 'validation': {'Logloss': 0.5959970901029138}}\n",
      "{'learn': {'Logloss': 0.3640614142117156}, 'validation': {'Logloss': 0.5658283239673291}}\n",
      "{'learn': {'Logloss': 0.37264384423457264}, 'validation': {'Logloss': 0.5680855194920233}}\n"
     ]
    },
    {
     "data": {
      "application/javascript": [
       "\n",
       "            setTimeout(function() {\n",
       "                var nbb_cell_id = 16;\n",
       "                var nbb_unformatted_code = \"ensemble = []\\n\\nfor train_index, val_index in tscv.split(X_train):\\n    X_sub_train, X_sub_valid = X_train.iloc[train_index], X_train.iloc[val_index]\\n    y_sub_train, y_sub_valid = (\\n        y_train.iloc[train_index],\\n        y_train.iloc[val_index],\\n    )\\n\\n    train_pool = Pool(X_sub_train, y_sub_train)\\n    valid_pool = Pool(X_sub_valid, y_sub_valid)\\n\\n    model = CatBoostClassifier(**best_model_params)\\n    model.fit(train_pool, eval_set=valid_pool, verbose=False)\\n\\n    ensemble.append(model)\\n    print(model.get_best_score())\";\n",
       "                var nbb_formatted_code = \"ensemble = []\\n\\nfor train_index, val_index in tscv.split(X_train):\\n    X_sub_train, X_sub_valid = X_train.iloc[train_index], X_train.iloc[val_index]\\n    y_sub_train, y_sub_valid = (\\n        y_train.iloc[train_index],\\n        y_train.iloc[val_index],\\n    )\\n\\n    train_pool = Pool(X_sub_train, y_sub_train)\\n    valid_pool = Pool(X_sub_valid, y_sub_valid)\\n\\n    model = CatBoostClassifier(**best_model_params)\\n    model.fit(train_pool, eval_set=valid_pool, verbose=False)\\n\\n    ensemble.append(model)\\n    print(model.get_best_score())\";\n",
       "                var nbb_cells = Jupyter.notebook.get_cells();\n",
       "                for (var i = 0; i < nbb_cells.length; ++i) {\n",
       "                    if (nbb_cells[i].input_prompt_number == nbb_cell_id) {\n",
       "                        if (nbb_cells[i].get_text() == nbb_unformatted_code) {\n",
       "                             nbb_cells[i].set_text(nbb_formatted_code);\n",
       "                        }\n",
       "                        break;\n",
       "                    }\n",
       "                }\n",
       "            }, 500);\n",
       "            "
      ],
      "text/plain": [
       "<IPython.core.display.Javascript object>"
      ]
     },
     "metadata": {},
     "output_type": "display_data"
    }
   ],
   "source": [
    "ensemble = []\n",
    "\n",
    "for train_index, val_index in tscv.split(X_train):\n",
    "    X_sub_train, X_sub_valid = X_train.iloc[train_index], X_train.iloc[val_index]\n",
    "    y_sub_train, y_sub_valid = (\n",
    "        y_train.iloc[train_index],\n",
    "        y_train.iloc[val_index],\n",
    "    )\n",
    "\n",
    "    train_pool = Pool(X_sub_train, y_sub_train)\n",
    "    valid_pool = Pool(X_sub_valid, y_sub_valid)\n",
    "\n",
    "    model = CatBoostClassifier(**best_model_params)\n",
    "    model.fit(train_pool, eval_set=valid_pool, verbose=False)\n",
    "\n",
    "    ensemble.append(model)\n",
    "    print(model.get_best_score())"
   ]
  },
  {
   "cell_type": "code",
   "execution_count": 17,
   "metadata": {
    "ExecuteTime": {
     "end_time": "2022-05-16T10:56:34.590138Z",
     "start_time": "2022-05-16T10:56:34.545665Z"
    }
   },
   "outputs": [
    {
     "data": {
      "text/plain": [
       "<catboost.core.CatBoostClassifier at 0x7f568fefee80>"
      ]
     },
     "execution_count": 17,
     "metadata": {},
     "output_type": "execute_result"
    },
    {
     "data": {
      "application/javascript": [
       "\n",
       "            setTimeout(function() {\n",
       "                var nbb_cell_id = 17;\n",
       "                var nbb_unformatted_code = \"models_avrg = sum_models(ensemble, weights=[1.0 / len(ensemble)] * len(ensemble))\\nmodels_avrg = to_classifier(models_avrg)\\nmodels_avrg\";\n",
       "                var nbb_formatted_code = \"models_avrg = sum_models(ensemble, weights=[1.0 / len(ensemble)] * len(ensemble))\\nmodels_avrg = to_classifier(models_avrg)\\nmodels_avrg\";\n",
       "                var nbb_cells = Jupyter.notebook.get_cells();\n",
       "                for (var i = 0; i < nbb_cells.length; ++i) {\n",
       "                    if (nbb_cells[i].input_prompt_number == nbb_cell_id) {\n",
       "                        if (nbb_cells[i].get_text() == nbb_unformatted_code) {\n",
       "                             nbb_cells[i].set_text(nbb_formatted_code);\n",
       "                        }\n",
       "                        break;\n",
       "                    }\n",
       "                }\n",
       "            }, 500);\n",
       "            "
      ],
      "text/plain": [
       "<IPython.core.display.Javascript object>"
      ]
     },
     "metadata": {},
     "output_type": "display_data"
    }
   ],
   "source": [
    "models_avrg = sum_models(ensemble, weights=[1.0 / len(ensemble)] * len(ensemble))\n",
    "models_avrg = to_classifier(models_avrg)\n",
    "models_avrg"
   ]
  },
  {
   "cell_type": "code",
   "execution_count": 18,
   "metadata": {
    "ExecuteTime": {
     "end_time": "2022-05-16T10:56:34.692002Z",
     "start_time": "2022-05-16T10:56:34.591194Z"
    }
   },
   "outputs": [
    {
     "data": {
      "text/plain": [
       "array([1, 1, 1, ..., 0, 1, 1])"
      ]
     },
     "execution_count": 18,
     "metadata": {},
     "output_type": "execute_result"
    },
    {
     "data": {
      "application/javascript": [
       "\n",
       "            setTimeout(function() {\n",
       "                var nbb_cell_id = 18;\n",
       "                var nbb_unformatted_code = \"y_pred = models_avrg.predict(X_test)\\ny_pred\";\n",
       "                var nbb_formatted_code = \"y_pred = models_avrg.predict(X_test)\\ny_pred\";\n",
       "                var nbb_cells = Jupyter.notebook.get_cells();\n",
       "                for (var i = 0; i < nbb_cells.length; ++i) {\n",
       "                    if (nbb_cells[i].input_prompt_number == nbb_cell_id) {\n",
       "                        if (nbb_cells[i].get_text() == nbb_unformatted_code) {\n",
       "                             nbb_cells[i].set_text(nbb_formatted_code);\n",
       "                        }\n",
       "                        break;\n",
       "                    }\n",
       "                }\n",
       "            }, 500);\n",
       "            "
      ],
      "text/plain": [
       "<IPython.core.display.Javascript object>"
      ]
     },
     "metadata": {},
     "output_type": "display_data"
    }
   ],
   "source": [
    "y_pred = models_avrg.predict(X_test)\n",
    "y_pred"
   ]
  },
  {
   "cell_type": "code",
   "execution_count": 19,
   "metadata": {
    "ExecuteTime": {
     "end_time": "2022-05-16T10:56:34.697050Z",
     "start_time": "2022-05-16T10:56:34.692893Z"
    }
   },
   "outputs": [
    {
     "data": {
      "text/plain": [
       "0.7221905305191101"
      ]
     },
     "execution_count": 19,
     "metadata": {},
     "output_type": "execute_result"
    },
    {
     "data": {
      "application/javascript": [
       "\n",
       "            setTimeout(function() {\n",
       "                var nbb_cell_id = 19;\n",
       "                var nbb_unformatted_code = \"accuracy_score(y_test, y_pred)\";\n",
       "                var nbb_formatted_code = \"accuracy_score(y_test, y_pred)\";\n",
       "                var nbb_cells = Jupyter.notebook.get_cells();\n",
       "                for (var i = 0; i < nbb_cells.length; ++i) {\n",
       "                    if (nbb_cells[i].input_prompt_number == nbb_cell_id) {\n",
       "                        if (nbb_cells[i].get_text() == nbb_unformatted_code) {\n",
       "                             nbb_cells[i].set_text(nbb_formatted_code);\n",
       "                        }\n",
       "                        break;\n",
       "                    }\n",
       "                }\n",
       "            }, 500);\n",
       "            "
      ],
      "text/plain": [
       "<IPython.core.display.Javascript object>"
      ]
     },
     "metadata": {},
     "output_type": "display_data"
    }
   ],
   "source": [
    "accuracy_score(y_test, y_pred)"
   ]
  },
  {
   "cell_type": "code",
   "execution_count": null,
   "metadata": {},
   "outputs": [],
   "source": []
  },
  {
   "cell_type": "code",
   "execution_count": null,
   "metadata": {
    "id": "37deXwNQ9NPj"
   },
   "outputs": [],
   "source": []
  },
  {
   "cell_type": "code",
   "execution_count": null,
   "metadata": {
    "id": "IdGpvgKT8fm7"
   },
   "outputs": [],
   "source": []
  }
 ],
 "metadata": {
  "colab": {
   "authorship_tag": "ABX9TyOVoLIoJMdNfKI9bQsCxZrt",
   "collapsed_sections": [],
   "mount_file_id": "16qVlP-WsT7QyutKy7LcCJyFAqUIodOQm",
   "name": "mczielinski_bitcoin-historical-data.ipynb",
   "provenance": []
  },
  "kernelspec": {
   "display_name": "Python 3 (ipykernel)",
   "language": "python",
   "name": "python3"
  },
  "language_info": {
   "codemirror_mode": {
    "name": "ipython",
    "version": 3
   },
   "file_extension": ".py",
   "mimetype": "text/x-python",
   "name": "python",
   "nbconvert_exporter": "python",
   "pygments_lexer": "ipython3",
   "version": "3.9.12"
  }
 },
 "nbformat": 4,
 "nbformat_minor": 1
}
