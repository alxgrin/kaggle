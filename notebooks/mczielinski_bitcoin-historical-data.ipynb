{
 "cells": [
  {
   "cell_type": "markdown",
   "metadata": {
    "id": "KMim0zmN8cMj"
   },
   "source": [
    "# Bitcoin Historical Data\n",
    "Bitcoin data at 1-min intervals from select exchanges, Jan 2012 to March 2021\n",
    "\n",
    "Link: https://www.kaggle.com/datasets/mczielinski/bitcoin-historical-data"
   ]
  },
  {
   "cell_type": "code",
   "execution_count": 10,
   "metadata": {
    "ExecuteTime": {
     "end_time": "2022-03-21T16:47:46.145326Z",
     "start_time": "2022-03-21T16:47:46.135004Z"
    },
    "colab": {
     "base_uri": "https://localhost:8080/"
    },
    "executionInfo": {
     "elapsed": 1392,
     "status": "ok",
     "timestamp": 1647848827909,
     "user": {
      "displayName": "Aleksey Pestov",
      "photoUrl": "https://lh3.googleusercontent.com/a-/AOh14GhYgIiAr5rSxdvsLDGzQ-vzeD_eNpe7hebXMzVy5g=s64",
      "userId": "15001429278579118680"
     },
     "user_tz": -180
    },
    "id": "pEbiHxgg8Ysk",
    "outputId": "f1e725c0-5fa7-44c8-d71d-178cddc7c276"
   },
   "outputs": [
    {
     "data": {
      "application/javascript": [
       "\n",
       "            setTimeout(function() {\n",
       "                var nbb_cell_id = 10;\n",
       "                var nbb_unformatted_code = \"import numpy as np\\nimport pandas as pd\\nimport seaborn as sns\\nfrom catboost import CatBoostClassifier, Pool, sum_models, to_classifier\\nfrom sklearn.metrics import accuracy_score\\nfrom sklearn.model_selection import TimeSeriesSplit, train_test_split\\nfrom sklearn.preprocessing import MinMaxScaler\\nfrom tsfresh import extract_features\\nfrom tsfresh.feature_extraction import ComprehensiveFCParameters\";\n",
       "                var nbb_formatted_code = \"import numpy as np\\nimport pandas as pd\\nimport seaborn as sns\\nfrom catboost import CatBoostClassifier, Pool, sum_models, to_classifier\\nfrom sklearn.metrics import accuracy_score\\nfrom sklearn.model_selection import TimeSeriesSplit, train_test_split\\nfrom sklearn.preprocessing import MinMaxScaler\\nfrom tsfresh import extract_features\\nfrom tsfresh.feature_extraction import ComprehensiveFCParameters\";\n",
       "                var nbb_cells = Jupyter.notebook.get_cells();\n",
       "                for (var i = 0; i < nbb_cells.length; ++i) {\n",
       "                    if (nbb_cells[i].input_prompt_number == nbb_cell_id) {\n",
       "                        if (nbb_cells[i].get_text() == nbb_unformatted_code) {\n",
       "                             nbb_cells[i].set_text(nbb_formatted_code);\n",
       "                        }\n",
       "                        break;\n",
       "                    }\n",
       "                }\n",
       "            }, 500);\n",
       "            "
      ],
      "text/plain": [
       "<IPython.core.display.Javascript object>"
      ]
     },
     "metadata": {},
     "output_type": "display_data"
    }
   ],
   "source": [
    "import numpy as np\n",
    "import pandas as pd\n",
    "import seaborn as sns\n",
    "from catboost import CatBoostClassifier, Pool\n",
    "from sklearn.metrics import accuracy_score\n",
    "from sklearn.model_selection import TimeSeriesSplit, train_test_split\n",
    "from sklearn.preprocessing import MinMaxScaler\n",
    "from tsfresh import extract_features\n",
    "from tsfresh.feature_extraction import ComprehensiveFCParameters"
   ]
  },
  {
   "cell_type": "code",
   "execution_count": 3,
   "metadata": {
    "ExecuteTime": {
     "end_time": "2022-03-21T16:44:55.435027Z",
     "start_time": "2022-03-21T16:44:55.364685Z"
    }
   },
   "outputs": [
    {
     "data": {
      "application/javascript": [
       "\n",
       "            setTimeout(function() {\n",
       "                var nbb_cell_id = 3;\n",
       "                var nbb_unformatted_code = \"%load_ext nb_black\";\n",
       "                var nbb_formatted_code = \"%load_ext nb_black\";\n",
       "                var nbb_cells = Jupyter.notebook.get_cells();\n",
       "                for (var i = 0; i < nbb_cells.length; ++i) {\n",
       "                    if (nbb_cells[i].input_prompt_number == nbb_cell_id) {\n",
       "                        if (nbb_cells[i].get_text() == nbb_unformatted_code) {\n",
       "                             nbb_cells[i].set_text(nbb_formatted_code);\n",
       "                        }\n",
       "                        break;\n",
       "                    }\n",
       "                }\n",
       "            }, 500);\n",
       "            "
      ],
      "text/plain": [
       "<IPython.core.display.Javascript object>"
      ]
     },
     "metadata": {},
     "output_type": "display_data"
    }
   ],
   "source": [
    "%load_ext nb_black"
   ]
  },
  {
   "cell_type": "code",
   "execution_count": 4,
   "metadata": {
    "ExecuteTime": {
     "end_time": "2022-03-21T16:45:12.232896Z",
     "start_time": "2022-03-21T16:44:55.435948Z"
    },
    "colab": {
     "base_uri": "https://localhost:8080/",
     "height": 455
    },
    "executionInfo": {
     "elapsed": 28486,
     "status": "ok",
     "timestamp": 1647848858083,
     "user": {
      "displayName": "Aleksey Pestov",
      "photoUrl": "https://lh3.googleusercontent.com/a-/AOh14GhYgIiAr5rSxdvsLDGzQ-vzeD_eNpe7hebXMzVy5g=s64",
      "userId": "15001429278579118680"
     },
     "user_tz": -180
    },
    "id": "sHy1U1EY8fkE",
    "outputId": "61beb965-a95b-458a-e95b-d212142947a1"
   },
   "outputs": [
    {
     "data": {
      "text/html": [
       "<div>\n",
       "<style scoped>\n",
       "    .dataframe tbody tr th:only-of-type {\n",
       "        vertical-align: middle;\n",
       "    }\n",
       "\n",
       "    .dataframe tbody tr th {\n",
       "        vertical-align: top;\n",
       "    }\n",
       "\n",
       "    .dataframe thead th {\n",
       "        text-align: right;\n",
       "    }\n",
       "</style>\n",
       "<table border=\"1\" class=\"dataframe\">\n",
       "  <thead>\n",
       "    <tr style=\"text-align: right;\">\n",
       "      <th></th>\n",
       "      <th>Open</th>\n",
       "      <th>High</th>\n",
       "      <th>Low</th>\n",
       "      <th>Close</th>\n",
       "      <th>Volume_(BTC)</th>\n",
       "      <th>Volume_(Currency)</th>\n",
       "      <th>Weighted_Price</th>\n",
       "    </tr>\n",
       "    <tr>\n",
       "      <th>Timestamp</th>\n",
       "      <th></th>\n",
       "      <th></th>\n",
       "      <th></th>\n",
       "      <th></th>\n",
       "      <th></th>\n",
       "      <th></th>\n",
       "      <th></th>\n",
       "    </tr>\n",
       "  </thead>\n",
       "  <tbody>\n",
       "    <tr>\n",
       "      <th>2011-12-31 07:52:00</th>\n",
       "      <td>4.39</td>\n",
       "      <td>4.39</td>\n",
       "      <td>4.39</td>\n",
       "      <td>4.39</td>\n",
       "      <td>0.455581</td>\n",
       "      <td>2.000000</td>\n",
       "      <td>4.390000</td>\n",
       "    </tr>\n",
       "    <tr>\n",
       "      <th>2011-12-31 07:53:00</th>\n",
       "      <td>0.00</td>\n",
       "      <td>0.00</td>\n",
       "      <td>0.00</td>\n",
       "      <td>0.00</td>\n",
       "      <td>0.000000</td>\n",
       "      <td>0.000000</td>\n",
       "      <td>0.000000</td>\n",
       "    </tr>\n",
       "    <tr>\n",
       "      <th>2011-12-31 07:54:00</th>\n",
       "      <td>0.00</td>\n",
       "      <td>0.00</td>\n",
       "      <td>0.00</td>\n",
       "      <td>0.00</td>\n",
       "      <td>0.000000</td>\n",
       "      <td>0.000000</td>\n",
       "      <td>0.000000</td>\n",
       "    </tr>\n",
       "    <tr>\n",
       "      <th>2011-12-31 07:55:00</th>\n",
       "      <td>0.00</td>\n",
       "      <td>0.00</td>\n",
       "      <td>0.00</td>\n",
       "      <td>0.00</td>\n",
       "      <td>0.000000</td>\n",
       "      <td>0.000000</td>\n",
       "      <td>0.000000</td>\n",
       "    </tr>\n",
       "    <tr>\n",
       "      <th>2011-12-31 07:56:00</th>\n",
       "      <td>0.00</td>\n",
       "      <td>0.00</td>\n",
       "      <td>0.00</td>\n",
       "      <td>0.00</td>\n",
       "      <td>0.000000</td>\n",
       "      <td>0.000000</td>\n",
       "      <td>0.000000</td>\n",
       "    </tr>\n",
       "    <tr>\n",
       "      <th>...</th>\n",
       "      <td>...</td>\n",
       "      <td>...</td>\n",
       "      <td>...</td>\n",
       "      <td>...</td>\n",
       "      <td>...</td>\n",
       "      <td>...</td>\n",
       "      <td>...</td>\n",
       "    </tr>\n",
       "    <tr>\n",
       "      <th>2021-03-30 23:56:00</th>\n",
       "      <td>58714.31</td>\n",
       "      <td>58714.31</td>\n",
       "      <td>58686.00</td>\n",
       "      <td>58686.00</td>\n",
       "      <td>1.384487</td>\n",
       "      <td>81259.372187</td>\n",
       "      <td>58692.753339</td>\n",
       "    </tr>\n",
       "    <tr>\n",
       "      <th>2021-03-30 23:57:00</th>\n",
       "      <td>58683.97</td>\n",
       "      <td>58693.43</td>\n",
       "      <td>58683.97</td>\n",
       "      <td>58685.81</td>\n",
       "      <td>7.294848</td>\n",
       "      <td>428158.146640</td>\n",
       "      <td>58693.226508</td>\n",
       "    </tr>\n",
       "    <tr>\n",
       "      <th>2021-03-30 23:58:00</th>\n",
       "      <td>58693.43</td>\n",
       "      <td>58723.84</td>\n",
       "      <td>58693.43</td>\n",
       "      <td>58723.84</td>\n",
       "      <td>1.705682</td>\n",
       "      <td>100117.070370</td>\n",
       "      <td>58696.198496</td>\n",
       "    </tr>\n",
       "    <tr>\n",
       "      <th>2021-03-30 23:59:00</th>\n",
       "      <td>58742.18</td>\n",
       "      <td>58770.38</td>\n",
       "      <td>58742.18</td>\n",
       "      <td>58760.59</td>\n",
       "      <td>0.720415</td>\n",
       "      <td>42332.958633</td>\n",
       "      <td>58761.866202</td>\n",
       "    </tr>\n",
       "    <tr>\n",
       "      <th>2021-03-31 00:00:00</th>\n",
       "      <td>58767.75</td>\n",
       "      <td>58778.18</td>\n",
       "      <td>58755.97</td>\n",
       "      <td>58778.18</td>\n",
       "      <td>2.712831</td>\n",
       "      <td>159417.751000</td>\n",
       "      <td>58764.349363</td>\n",
       "    </tr>\n",
       "  </tbody>\n",
       "</table>\n",
       "<p>4857377 rows × 7 columns</p>\n",
       "</div>"
      ],
      "text/plain": [
       "                         Open      High       Low     Close  Volume_(BTC)  \\\n",
       "Timestamp                                                                   \n",
       "2011-12-31 07:52:00      4.39      4.39      4.39      4.39      0.455581   \n",
       "2011-12-31 07:53:00      0.00      0.00      0.00      0.00      0.000000   \n",
       "2011-12-31 07:54:00      0.00      0.00      0.00      0.00      0.000000   \n",
       "2011-12-31 07:55:00      0.00      0.00      0.00      0.00      0.000000   \n",
       "2011-12-31 07:56:00      0.00      0.00      0.00      0.00      0.000000   \n",
       "...                       ...       ...       ...       ...           ...   \n",
       "2021-03-30 23:56:00  58714.31  58714.31  58686.00  58686.00      1.384487   \n",
       "2021-03-30 23:57:00  58683.97  58693.43  58683.97  58685.81      7.294848   \n",
       "2021-03-30 23:58:00  58693.43  58723.84  58693.43  58723.84      1.705682   \n",
       "2021-03-30 23:59:00  58742.18  58770.38  58742.18  58760.59      0.720415   \n",
       "2021-03-31 00:00:00  58767.75  58778.18  58755.97  58778.18      2.712831   \n",
       "\n",
       "                     Volume_(Currency)  Weighted_Price  \n",
       "Timestamp                                               \n",
       "2011-12-31 07:52:00           2.000000        4.390000  \n",
       "2011-12-31 07:53:00           0.000000        0.000000  \n",
       "2011-12-31 07:54:00           0.000000        0.000000  \n",
       "2011-12-31 07:55:00           0.000000        0.000000  \n",
       "2011-12-31 07:56:00           0.000000        0.000000  \n",
       "...                                ...             ...  \n",
       "2021-03-30 23:56:00       81259.372187    58692.753339  \n",
       "2021-03-30 23:57:00      428158.146640    58693.226508  \n",
       "2021-03-30 23:58:00      100117.070370    58696.198496  \n",
       "2021-03-30 23:59:00       42332.958633    58761.866202  \n",
       "2021-03-31 00:00:00      159417.751000    58764.349363  \n",
       "\n",
       "[4857377 rows x 7 columns]"
      ]
     },
     "execution_count": 4,
     "metadata": {},
     "output_type": "execute_result"
    },
    {
     "data": {
      "application/javascript": [
       "\n",
       "            setTimeout(function() {\n",
       "                var nbb_cell_id = 4;\n",
       "                var nbb_unformatted_code = \"df = pd.read_csv(\\n    \\\"../data/mczielinski_bitcoin-historical-data/bitstampUSD_1-min_data_2012-01-01_to_2021-03-31.csv.gz\\\"\\n)\\ndf[\\\"Timestamp\\\"] = pd.to_datetime(df[\\\"Timestamp\\\"], unit=\\\"s\\\")\\ndf.fillna(0, inplace=True)\\ndf.set_index(\\\"Timestamp\\\", inplace=True)\\ndf\";\n",
       "                var nbb_formatted_code = \"df = pd.read_csv(\\n    \\\"../data/mczielinski_bitcoin-historical-data/bitstampUSD_1-min_data_2012-01-01_to_2021-03-31.csv.gz\\\"\\n)\\ndf[\\\"Timestamp\\\"] = pd.to_datetime(df[\\\"Timestamp\\\"], unit=\\\"s\\\")\\ndf.fillna(0, inplace=True)\\ndf.set_index(\\\"Timestamp\\\", inplace=True)\\ndf\";\n",
       "                var nbb_cells = Jupyter.notebook.get_cells();\n",
       "                for (var i = 0; i < nbb_cells.length; ++i) {\n",
       "                    if (nbb_cells[i].input_prompt_number == nbb_cell_id) {\n",
       "                        if (nbb_cells[i].get_text() == nbb_unformatted_code) {\n",
       "                             nbb_cells[i].set_text(nbb_formatted_code);\n",
       "                        }\n",
       "                        break;\n",
       "                    }\n",
       "                }\n",
       "            }, 500);\n",
       "            "
      ],
      "text/plain": [
       "<IPython.core.display.Javascript object>"
      ]
     },
     "metadata": {},
     "output_type": "display_data"
    }
   ],
   "source": [
    "df = pd.read_csv(\n",
    "    \"../data/mczielinski_bitcoin-historical-data/bitstampUSD_1-min_data_2012-01-01_to_2021-03-31.csv.gz\"\n",
    ")\n",
    "df[\"Timestamp\"] = pd.to_datetime(df[\"Timestamp\"], unit=\"s\")\n",
    "df.fillna(0, inplace=True)\n",
    "df.set_index(\"Timestamp\", inplace=True)\n",
    "df"
   ]
  },
  {
   "cell_type": "code",
   "execution_count": 5,
   "metadata": {
    "ExecuteTime": {
     "end_time": "2022-03-21T16:45:12.401389Z",
     "start_time": "2022-03-21T16:45:12.233842Z"
    }
   },
   "outputs": [
    {
     "data": {
      "text/plain": [
       "2012    527040\n",
       "2016    527040\n",
       "2020    527040\n",
       "2013    525600\n",
       "2014    525600\n",
       "2017    525600\n",
       "2018    525600\n",
       "2019    525600\n",
       "2015    519128\n",
       "2021    128161\n",
       "2011       968\n",
       "Name: Timestamp, dtype: int64"
      ]
     },
     "execution_count": 5,
     "metadata": {},
     "output_type": "execute_result"
    },
    {
     "data": {
      "application/javascript": [
       "\n",
       "            setTimeout(function() {\n",
       "                var nbb_cell_id = 5;\n",
       "                var nbb_unformatted_code = \"df.index.year.value_counts()\";\n",
       "                var nbb_formatted_code = \"df.index.year.value_counts()\";\n",
       "                var nbb_cells = Jupyter.notebook.get_cells();\n",
       "                for (var i = 0; i < nbb_cells.length; ++i) {\n",
       "                    if (nbb_cells[i].input_prompt_number == nbb_cell_id) {\n",
       "                        if (nbb_cells[i].get_text() == nbb_unformatted_code) {\n",
       "                             nbb_cells[i].set_text(nbb_formatted_code);\n",
       "                        }\n",
       "                        break;\n",
       "                    }\n",
       "                }\n",
       "            }, 500);\n",
       "            "
      ],
      "text/plain": [
       "<IPython.core.display.Javascript object>"
      ]
     },
     "metadata": {},
     "output_type": "display_data"
    }
   ],
   "source": [
    "df.index.year.value_counts()"
   ]
  },
  {
   "cell_type": "code",
   "execution_count": 6,
   "metadata": {
    "ExecuteTime": {
     "end_time": "2022-03-21T16:45:12.569015Z",
     "start_time": "2022-03-21T16:45:12.402723Z"
    }
   },
   "outputs": [
    {
     "data": {
      "text/plain": [
       "(525600, 7)"
      ]
     },
     "execution_count": 6,
     "metadata": {},
     "output_type": "execute_result"
    },
    {
     "data": {
      "application/javascript": [
       "\n",
       "            setTimeout(function() {\n",
       "                var nbb_cell_id = 6;\n",
       "                var nbb_unformatted_code = \"# \\u043f\\u043e\\u0441\\u0442\\u0440\\u043e\\u0435\\u043d\\u0438\\u0435 \\u043f\\u0440\\u043e\\u0433\\u043d\\u043e\\u0437\\u0430 \\u0442\\u043e\\u043b\\u044c\\u043a\\u043e \\u0434\\u043b\\u044f 1 \\u0433\\u043e\\u0434\\u0430\\ndf = df[df.index.year ==2019]\\ndf.shape\";\n",
       "                var nbb_formatted_code = \"# \\u043f\\u043e\\u0441\\u0442\\u0440\\u043e\\u0435\\u043d\\u0438\\u0435 \\u043f\\u0440\\u043e\\u0433\\u043d\\u043e\\u0437\\u0430 \\u0442\\u043e\\u043b\\u044c\\u043a\\u043e \\u0434\\u043b\\u044f 1 \\u0433\\u043e\\u0434\\u0430\\ndf = df[df.index.year == 2019]\\ndf.shape\";\n",
       "                var nbb_cells = Jupyter.notebook.get_cells();\n",
       "                for (var i = 0; i < nbb_cells.length; ++i) {\n",
       "                    if (nbb_cells[i].input_prompt_number == nbb_cell_id) {\n",
       "                        if (nbb_cells[i].get_text() == nbb_unformatted_code) {\n",
       "                             nbb_cells[i].set_text(nbb_formatted_code);\n",
       "                        }\n",
       "                        break;\n",
       "                    }\n",
       "                }\n",
       "            }, 500);\n",
       "            "
      ],
      "text/plain": [
       "<IPython.core.display.Javascript object>"
      ]
     },
     "metadata": {},
     "output_type": "display_data"
    }
   ],
   "source": [
    "# построение прогноза только для 1 года\n",
    "df = df[df.index.year == 2019]\n",
    "df.shape"
   ]
  },
  {
   "cell_type": "markdown",
   "metadata": {},
   "source": [
    "# Подготовка признаков"
   ]
  },
  {
   "cell_type": "code",
   "execution_count": 8,
   "metadata": {
    "ExecuteTime": {
     "end_time": "2022-03-21T16:46:11.147404Z",
     "start_time": "2022-03-21T16:46:11.142997Z"
    }
   },
   "outputs": [
    {
     "data": {
      "application/javascript": [
       "\n",
       "            setTimeout(function() {\n",
       "                var nbb_cell_id = 8;\n",
       "                var nbb_unformatted_code = \"scaler = MinMaxScaler()\";\n",
       "                var nbb_formatted_code = \"scaler = MinMaxScaler()\";\n",
       "                var nbb_cells = Jupyter.notebook.get_cells();\n",
       "                for (var i = 0; i < nbb_cells.length; ++i) {\n",
       "                    if (nbb_cells[i].input_prompt_number == nbb_cell_id) {\n",
       "                        if (nbb_cells[i].get_text() == nbb_unformatted_code) {\n",
       "                             nbb_cells[i].set_text(nbb_formatted_code);\n",
       "                        }\n",
       "                        break;\n",
       "                    }\n",
       "                }\n",
       "            }, 500);\n",
       "            "
      ],
      "text/plain": [
       "<IPython.core.display.Javascript object>"
      ]
     },
     "metadata": {},
     "output_type": "display_data"
    }
   ],
   "source": [
    "scaler = MinMaxScaler()"
   ]
  },
  {
   "cell_type": "code",
   "execution_count": 9,
   "metadata": {
    "ExecuteTime": {
     "end_time": "2022-03-21T16:46:14.625816Z",
     "start_time": "2022-03-21T16:46:14.580462Z"
    },
    "colab": {
     "base_uri": "https://localhost:8080/",
     "height": 455
    },
    "executionInfo": {
     "elapsed": 7,
     "status": "ok",
     "timestamp": 1647848858651,
     "user": {
      "displayName": "Aleksey Pestov",
      "photoUrl": "https://lh3.googleusercontent.com/a-/AOh14GhYgIiAr5rSxdvsLDGzQ-vzeD_eNpe7hebXMzVy5g=s64",
      "userId": "15001429278579118680"
     },
     "user_tz": -180
    },
    "id": "ktFLg01r9NKP",
    "outputId": "8b7690ab-dcee-45e7-ccfe-91c33fcbce23"
   },
   "outputs": [
    {
     "data": {
      "text/html": [
       "<div>\n",
       "<style scoped>\n",
       "    .dataframe tbody tr th:only-of-type {\n",
       "        vertical-align: middle;\n",
       "    }\n",
       "\n",
       "    .dataframe tbody tr th {\n",
       "        vertical-align: top;\n",
       "    }\n",
       "\n",
       "    .dataframe thead th {\n",
       "        text-align: right;\n",
       "    }\n",
       "</style>\n",
       "<table border=\"1\" class=\"dataframe\">\n",
       "  <thead>\n",
       "    <tr style=\"text-align: right;\">\n",
       "      <th></th>\n",
       "      <th>Open</th>\n",
       "      <th>High</th>\n",
       "      <th>Low</th>\n",
       "      <th>Close</th>\n",
       "      <th>Date</th>\n",
       "    </tr>\n",
       "    <tr>\n",
       "      <th>Timestamp</th>\n",
       "      <th></th>\n",
       "      <th></th>\n",
       "      <th></th>\n",
       "      <th></th>\n",
       "      <th></th>\n",
       "    </tr>\n",
       "  </thead>\n",
       "  <tbody>\n",
       "    <tr>\n",
       "      <th>2019-01-01 00:00:00</th>\n",
       "      <td>0.266641</td>\n",
       "      <td>0.266483</td>\n",
       "      <td>0.267089</td>\n",
       "      <td>0.266993</td>\n",
       "      <td>2019-01-01</td>\n",
       "    </tr>\n",
       "    <tr>\n",
       "      <th>2019-01-01 00:01:00</th>\n",
       "      <td>0.266704</td>\n",
       "      <td>0.266190</td>\n",
       "      <td>0.266857</td>\n",
       "      <td>0.266462</td>\n",
       "      <td>2019-01-01</td>\n",
       "    </tr>\n",
       "    <tr>\n",
       "      <th>2019-01-01 00:02:00</th>\n",
       "      <td>0.266344</td>\n",
       "      <td>0.265831</td>\n",
       "      <td>0.266566</td>\n",
       "      <td>0.266171</td>\n",
       "      <td>2019-01-01</td>\n",
       "    </tr>\n",
       "    <tr>\n",
       "      <th>2019-01-01 00:03:00</th>\n",
       "      <td>0.266569</td>\n",
       "      <td>0.266055</td>\n",
       "      <td>0.266689</td>\n",
       "      <td>0.266585</td>\n",
       "      <td>2019-01-01</td>\n",
       "    </tr>\n",
       "    <tr>\n",
       "      <th>2019-01-01 00:04:00</th>\n",
       "      <td>0.266533</td>\n",
       "      <td>0.266019</td>\n",
       "      <td>0.266835</td>\n",
       "      <td>0.266440</td>\n",
       "      <td>2019-01-01</td>\n",
       "    </tr>\n",
       "    <tr>\n",
       "      <th>...</th>\n",
       "      <td>...</td>\n",
       "      <td>...</td>\n",
       "      <td>...</td>\n",
       "      <td>...</td>\n",
       "      <td>...</td>\n",
       "    </tr>\n",
       "    <tr>\n",
       "      <th>2019-12-31 23:55:00</th>\n",
       "      <td>0.517979</td>\n",
       "      <td>0.517052</td>\n",
       "      <td>0.518847</td>\n",
       "      <td>0.518151</td>\n",
       "      <td>2020-01-01</td>\n",
       "    </tr>\n",
       "    <tr>\n",
       "      <th>2019-12-31 23:56:00</th>\n",
       "      <td>0.518470</td>\n",
       "      <td>0.517470</td>\n",
       "      <td>0.518450</td>\n",
       "      <td>0.517683</td>\n",
       "      <td>2020-01-01</td>\n",
       "    </tr>\n",
       "    <tr>\n",
       "      <th>2019-12-31 23:57:00</th>\n",
       "      <td>0.517151</td>\n",
       "      <td>0.516628</td>\n",
       "      <td>0.517832</td>\n",
       "      <td>0.517444</td>\n",
       "      <td>2020-01-01</td>\n",
       "    </tr>\n",
       "    <tr>\n",
       "      <th>2019-12-31 23:58:00</th>\n",
       "      <td>0.517344</td>\n",
       "      <td>0.516376</td>\n",
       "      <td>0.517857</td>\n",
       "      <td>0.517473</td>\n",
       "      <td>2020-01-01</td>\n",
       "    </tr>\n",
       "    <tr>\n",
       "      <th>2019-12-31 23:59:00</th>\n",
       "      <td>0.517373</td>\n",
       "      <td>0.516659</td>\n",
       "      <td>0.518241</td>\n",
       "      <td>0.517550</td>\n",
       "      <td>2020-01-01</td>\n",
       "    </tr>\n",
       "  </tbody>\n",
       "</table>\n",
       "<p>525600 rows × 5 columns</p>\n",
       "</div>"
      ],
      "text/plain": [
       "                         Open      High       Low     Close       Date\n",
       "Timestamp                                                             \n",
       "2019-01-01 00:00:00  0.266641  0.266483  0.267089  0.266993 2019-01-01\n",
       "2019-01-01 00:01:00  0.266704  0.266190  0.266857  0.266462 2019-01-01\n",
       "2019-01-01 00:02:00  0.266344  0.265831  0.266566  0.266171 2019-01-01\n",
       "2019-01-01 00:03:00  0.266569  0.266055  0.266689  0.266585 2019-01-01\n",
       "2019-01-01 00:04:00  0.266533  0.266019  0.266835  0.266440 2019-01-01\n",
       "...                       ...       ...       ...       ...        ...\n",
       "2019-12-31 23:55:00  0.517979  0.517052  0.518847  0.518151 2020-01-01\n",
       "2019-12-31 23:56:00  0.518470  0.517470  0.518450  0.517683 2020-01-01\n",
       "2019-12-31 23:57:00  0.517151  0.516628  0.517832  0.517444 2020-01-01\n",
       "2019-12-31 23:58:00  0.517344  0.516376  0.517857  0.517473 2020-01-01\n",
       "2019-12-31 23:59:00  0.517373  0.516659  0.518241  0.517550 2020-01-01\n",
       "\n",
       "[525600 rows x 5 columns]"
      ]
     },
     "execution_count": 9,
     "metadata": {},
     "output_type": "execute_result"
    },
    {
     "data": {
      "application/javascript": [
       "\n",
       "            setTimeout(function() {\n",
       "                var nbb_cell_id = 9;\n",
       "                var nbb_unformatted_code = \"X = df[[\\\"Open\\\", \\\"High\\\", \\\"Low\\\", \\\"Close\\\"]].copy()\\nX[X.columns] = scaler.fit_transform(X)\\nX[\\\"Date\\\"] = X.index.round(\\\"30min\\\")\\nX\";\n",
       "                var nbb_formatted_code = \"X = df[[\\\"Open\\\", \\\"High\\\", \\\"Low\\\", \\\"Close\\\"]].copy()\\nX[X.columns] = scaler.fit_transform(X)\\nX[\\\"Date\\\"] = X.index.round(\\\"30min\\\")\\nX\";\n",
       "                var nbb_cells = Jupyter.notebook.get_cells();\n",
       "                for (var i = 0; i < nbb_cells.length; ++i) {\n",
       "                    if (nbb_cells[i].input_prompt_number == nbb_cell_id) {\n",
       "                        if (nbb_cells[i].get_text() == nbb_unformatted_code) {\n",
       "                             nbb_cells[i].set_text(nbb_formatted_code);\n",
       "                        }\n",
       "                        break;\n",
       "                    }\n",
       "                }\n",
       "            }, 500);\n",
       "            "
      ],
      "text/plain": [
       "<IPython.core.display.Javascript object>"
      ]
     },
     "metadata": {},
     "output_type": "display_data"
    }
   ],
   "source": [
    "X = df[[\"Open\", \"High\", \"Low\", \"Close\"]].copy()\n",
    "X[X.columns] = scaler.fit_transform(X)\n",
    "X[\"Date\"] = X.index.round(\"30min\")\n",
    "X"
   ]
  },
  {
   "cell_type": "code",
   "execution_count": 12,
   "metadata": {
    "ExecuteTime": {
     "end_time": "2022-03-21T17:15:06.091259Z",
     "start_time": "2022-03-21T16:48:26.660715Z"
    },
    "colab": {
     "base_uri": "https://localhost:8080/"
    },
    "id": "0cH7Pv5G-M-p",
    "outputId": "bd618f45-f868-4c9c-8082-859b40a159e5"
   },
   "outputs": [
    {
     "name": "stderr",
     "output_type": "stream",
     "text": [
      "Feature Extraction: 100%|████████████████████████████████████████████████████████████████| 30/30 [25:02<00:00, 50.08s/it]\n"
     ]
    },
    {
     "data": {
      "text/plain": [
       "(17521, 3176)"
      ]
     },
     "execution_count": 12,
     "metadata": {},
     "output_type": "execute_result"
    },
    {
     "data": {
      "application/javascript": [
       "\n",
       "            setTimeout(function() {\n",
       "                var nbb_cell_id = 12;\n",
       "                var nbb_unformatted_code = \"# https://otus.ru/nest/post/1024/\\nsettings = ComprehensiveFCParameters()\\nX = extract_features(X, column_id=\\\"Date\\\", default_fc_parameters=settings)\\nX.shape\";\n",
       "                var nbb_formatted_code = \"# https://otus.ru/nest/post/1024/\\nsettings = ComprehensiveFCParameters()\\nX = extract_features(X, column_id=\\\"Date\\\", default_fc_parameters=settings)\\nX.shape\";\n",
       "                var nbb_cells = Jupyter.notebook.get_cells();\n",
       "                for (var i = 0; i < nbb_cells.length; ++i) {\n",
       "                    if (nbb_cells[i].input_prompt_number == nbb_cell_id) {\n",
       "                        if (nbb_cells[i].get_text() == nbb_unformatted_code) {\n",
       "                             nbb_cells[i].set_text(nbb_formatted_code);\n",
       "                        }\n",
       "                        break;\n",
       "                    }\n",
       "                }\n",
       "            }, 500);\n",
       "            "
      ],
      "text/plain": [
       "<IPython.core.display.Javascript object>"
      ]
     },
     "metadata": {},
     "output_type": "display_data"
    }
   ],
   "source": [
    "# https://otus.ru/nest/post/1024/\n",
    "settings = ComprehensiveFCParameters()\n",
    "X = extract_features(X, column_id=\"Date\", default_fc_parameters=settings)\n",
    "X.shape"
   ]
  },
  {
   "cell_type": "code",
   "execution_count": 14,
   "metadata": {
    "ExecuteTime": {
     "end_time": "2022-03-21T17:20:34.375574Z",
     "start_time": "2022-03-21T17:20:34.343070Z"
    },
    "id": "nqDIH93e-NBg"
   },
   "outputs": [
    {
     "data": {
      "text/html": [
       "<div>\n",
       "<style scoped>\n",
       "    .dataframe tbody tr th:only-of-type {\n",
       "        vertical-align: middle;\n",
       "    }\n",
       "\n",
       "    .dataframe tbody tr th {\n",
       "        vertical-align: top;\n",
       "    }\n",
       "\n",
       "    .dataframe thead th {\n",
       "        text-align: right;\n",
       "    }\n",
       "</style>\n",
       "<table border=\"1\" class=\"dataframe\">\n",
       "  <thead>\n",
       "    <tr style=\"text-align: right;\">\n",
       "      <th></th>\n",
       "      <th>Weighted_Price</th>\n",
       "    </tr>\n",
       "    <tr>\n",
       "      <th>Date</th>\n",
       "      <th></th>\n",
       "    </tr>\n",
       "  </thead>\n",
       "  <tbody>\n",
       "    <tr>\n",
       "      <th>2019-01-01 00:00:00</th>\n",
       "      <td>2767.072716</td>\n",
       "    </tr>\n",
       "    <tr>\n",
       "      <th>2019-01-01 00:30:00</th>\n",
       "      <td>2545.995022</td>\n",
       "    </tr>\n",
       "    <tr>\n",
       "      <th>2019-01-01 01:00:00</th>\n",
       "      <td>2860.814664</td>\n",
       "    </tr>\n",
       "    <tr>\n",
       "      <th>2019-01-01 01:30:00</th>\n",
       "      <td>2163.408399</td>\n",
       "    </tr>\n",
       "    <tr>\n",
       "      <th>2019-01-01 02:00:00</th>\n",
       "      <td>3205.776311</td>\n",
       "    </tr>\n",
       "    <tr>\n",
       "      <th>...</th>\n",
       "      <td>...</td>\n",
       "    </tr>\n",
       "    <tr>\n",
       "      <th>2019-12-31 22:00:00</th>\n",
       "      <td>7158.608490</td>\n",
       "    </tr>\n",
       "    <tr>\n",
       "      <th>2019-12-31 22:30:00</th>\n",
       "      <td>6918.165685</td>\n",
       "    </tr>\n",
       "    <tr>\n",
       "      <th>2019-12-31 23:00:00</th>\n",
       "      <td>7172.228421</td>\n",
       "    </tr>\n",
       "    <tr>\n",
       "      <th>2019-12-31 23:30:00</th>\n",
       "      <td>6918.312048</td>\n",
       "    </tr>\n",
       "    <tr>\n",
       "      <th>2020-01-01 00:00:00</th>\n",
       "      <td>6693.794769</td>\n",
       "    </tr>\n",
       "  </tbody>\n",
       "</table>\n",
       "<p>17521 rows × 1 columns</p>\n",
       "</div>"
      ],
      "text/plain": [
       "                     Weighted_Price\n",
       "Date                               \n",
       "2019-01-01 00:00:00     2767.072716\n",
       "2019-01-01 00:30:00     2545.995022\n",
       "2019-01-01 01:00:00     2860.814664\n",
       "2019-01-01 01:30:00     2163.408399\n",
       "2019-01-01 02:00:00     3205.776311\n",
       "...                             ...\n",
       "2019-12-31 22:00:00     7158.608490\n",
       "2019-12-31 22:30:00     6918.165685\n",
       "2019-12-31 23:00:00     7172.228421\n",
       "2019-12-31 23:30:00     6918.312048\n",
       "2020-01-01 00:00:00     6693.794769\n",
       "\n",
       "[17521 rows x 1 columns]"
      ]
     },
     "execution_count": 14,
     "metadata": {},
     "output_type": "execute_result"
    },
    {
     "data": {
      "application/javascript": [
       "\n",
       "            setTimeout(function() {\n",
       "                var nbb_cell_id = 14;\n",
       "                var nbb_unformatted_code = \"y = df[[\\\"Weighted_Price\\\"]].copy()\\ny[\\\"Date\\\"] = y.index.round(\\\"30min\\\")\\ny = y.groupby(\\\"Date\\\").mean()\\ny\";\n",
       "                var nbb_formatted_code = \"y = df[[\\\"Weighted_Price\\\"]].copy()\\ny[\\\"Date\\\"] = y.index.round(\\\"30min\\\")\\ny = y.groupby(\\\"Date\\\").mean()\\ny\";\n",
       "                var nbb_cells = Jupyter.notebook.get_cells();\n",
       "                for (var i = 0; i < nbb_cells.length; ++i) {\n",
       "                    if (nbb_cells[i].input_prompt_number == nbb_cell_id) {\n",
       "                        if (nbb_cells[i].get_text() == nbb_unformatted_code) {\n",
       "                             nbb_cells[i].set_text(nbb_formatted_code);\n",
       "                        }\n",
       "                        break;\n",
       "                    }\n",
       "                }\n",
       "            }, 500);\n",
       "            "
      ],
      "text/plain": [
       "<IPython.core.display.Javascript object>"
      ]
     },
     "metadata": {},
     "output_type": "display_data"
    }
   ],
   "source": [
    "y = df[[\"Weighted_Price\"]].copy()\n",
    "y[\"Date\"] = y.index.round(\"30min\")\n",
    "y = y.groupby(\"Date\").mean()\n",
    "y"
   ]
  },
  {
   "cell_type": "code",
   "execution_count": 15,
   "metadata": {
    "ExecuteTime": {
     "end_time": "2022-03-21T17:21:01.277263Z",
     "start_time": "2022-03-21T17:21:01.256975Z"
    }
   },
   "outputs": [
    {
     "data": {
      "text/html": [
       "<div>\n",
       "<style scoped>\n",
       "    .dataframe tbody tr th:only-of-type {\n",
       "        vertical-align: middle;\n",
       "    }\n",
       "\n",
       "    .dataframe tbody tr th {\n",
       "        vertical-align: top;\n",
       "    }\n",
       "\n",
       "    .dataframe thead th {\n",
       "        text-align: right;\n",
       "    }\n",
       "</style>\n",
       "<table border=\"1\" class=\"dataframe\">\n",
       "  <thead>\n",
       "    <tr style=\"text-align: right;\">\n",
       "      <th></th>\n",
       "      <th>Target</th>\n",
       "    </tr>\n",
       "    <tr>\n",
       "      <th>Date</th>\n",
       "      <th></th>\n",
       "    </tr>\n",
       "  </thead>\n",
       "  <tbody>\n",
       "    <tr>\n",
       "      <th>2019-01-01 00:00:00</th>\n",
       "      <td>1</td>\n",
       "    </tr>\n",
       "    <tr>\n",
       "      <th>2019-01-01 00:30:00</th>\n",
       "      <td>0</td>\n",
       "    </tr>\n",
       "    <tr>\n",
       "      <th>2019-01-01 01:00:00</th>\n",
       "      <td>1</td>\n",
       "    </tr>\n",
       "    <tr>\n",
       "      <th>2019-01-01 01:30:00</th>\n",
       "      <td>0</td>\n",
       "    </tr>\n",
       "    <tr>\n",
       "      <th>2019-01-01 02:00:00</th>\n",
       "      <td>1</td>\n",
       "    </tr>\n",
       "    <tr>\n",
       "      <th>...</th>\n",
       "      <td>...</td>\n",
       "    </tr>\n",
       "    <tr>\n",
       "      <th>2019-12-31 22:00:00</th>\n",
       "      <td>1</td>\n",
       "    </tr>\n",
       "    <tr>\n",
       "      <th>2019-12-31 22:30:00</th>\n",
       "      <td>0</td>\n",
       "    </tr>\n",
       "    <tr>\n",
       "      <th>2019-12-31 23:00:00</th>\n",
       "      <td>1</td>\n",
       "    </tr>\n",
       "    <tr>\n",
       "      <th>2019-12-31 23:30:00</th>\n",
       "      <td>0</td>\n",
       "    </tr>\n",
       "    <tr>\n",
       "      <th>2020-01-01 00:00:00</th>\n",
       "      <td>0</td>\n",
       "    </tr>\n",
       "  </tbody>\n",
       "</table>\n",
       "<p>17521 rows × 1 columns</p>\n",
       "</div>"
      ],
      "text/plain": [
       "                     Target\n",
       "Date                       \n",
       "2019-01-01 00:00:00       1\n",
       "2019-01-01 00:30:00       0\n",
       "2019-01-01 01:00:00       1\n",
       "2019-01-01 01:30:00       0\n",
       "2019-01-01 02:00:00       1\n",
       "...                     ...\n",
       "2019-12-31 22:00:00       1\n",
       "2019-12-31 22:30:00       0\n",
       "2019-12-31 23:00:00       1\n",
       "2019-12-31 23:30:00       0\n",
       "2020-01-01 00:00:00       0\n",
       "\n",
       "[17521 rows x 1 columns]"
      ]
     },
     "execution_count": 15,
     "metadata": {},
     "output_type": "execute_result"
    },
    {
     "data": {
      "application/javascript": [
       "\n",
       "            setTimeout(function() {\n",
       "                var nbb_cell_id = 15;\n",
       "                var nbb_unformatted_code = \"# \\u0434\\u043b\\u044f \\u0431\\u0438\\u043d\\u0430\\u0440\\u043d\\u043e\\u0433\\u043e \\u043e\\u0431\\u0443\\u0447\\u0435\\u043d\\u0438\\u044f \\u043a\\u043b\\u0430\\u0441\\u0441\\u0438\\u0444\\u0438\\u043a\\u0430\\u0442\\u043e\\u0440\\u0430 (up/down)\\ndef accuracy_target(labels):\\n    labels_acc = labels.copy()\\n    labels_acc[\\\"Weighted_Price_1\\\"] = labels.shift(1)[\\\"Weighted_Price\\\"].fillna(0)\\n    labels_acc[\\\"Target\\\"] = (\\n        labels_acc[\\\"Weighted_Price\\\"] > labels_acc[\\\"Weighted_Price_1\\\"]\\n    ).astype(int)\\n    return labels_acc\\n\\n\\ny = accuracy_target(y)\\ny = y[[\\\"Target\\\"]]\\ny\";\n",
       "                var nbb_formatted_code = \"# \\u0434\\u043b\\u044f \\u0431\\u0438\\u043d\\u0430\\u0440\\u043d\\u043e\\u0433\\u043e \\u043e\\u0431\\u0443\\u0447\\u0435\\u043d\\u0438\\u044f \\u043a\\u043b\\u0430\\u0441\\u0441\\u0438\\u0444\\u0438\\u043a\\u0430\\u0442\\u043e\\u0440\\u0430 (up/down)\\ndef accuracy_target(labels):\\n    labels_acc = labels.copy()\\n    labels_acc[\\\"Weighted_Price_1\\\"] = labels.shift(1)[\\\"Weighted_Price\\\"].fillna(0)\\n    labels_acc[\\\"Target\\\"] = (\\n        labels_acc[\\\"Weighted_Price\\\"] > labels_acc[\\\"Weighted_Price_1\\\"]\\n    ).astype(int)\\n    return labels_acc\\n\\n\\ny = accuracy_target(y)\\ny = y[[\\\"Target\\\"]]\\ny\";\n",
       "                var nbb_cells = Jupyter.notebook.get_cells();\n",
       "                for (var i = 0; i < nbb_cells.length; ++i) {\n",
       "                    if (nbb_cells[i].input_prompt_number == nbb_cell_id) {\n",
       "                        if (nbb_cells[i].get_text() == nbb_unformatted_code) {\n",
       "                             nbb_cells[i].set_text(nbb_formatted_code);\n",
       "                        }\n",
       "                        break;\n",
       "                    }\n",
       "                }\n",
       "            }, 500);\n",
       "            "
      ],
      "text/plain": [
       "<IPython.core.display.Javascript object>"
      ]
     },
     "metadata": {},
     "output_type": "display_data"
    }
   ],
   "source": [
    "# для бинарного обучения классификатора (up/down)\n",
    "def accuracy_target(labels):\n",
    "    labels_acc = labels.copy()\n",
    "    labels_acc[\"Weighted_Price_1\"] = labels.shift(1)[\"Weighted_Price\"].fillna(0)\n",
    "    labels_acc[\"Target\"] = (\n",
    "        labels_acc[\"Weighted_Price\"] > labels_acc[\"Weighted_Price_1\"]\n",
    "    ).astype(int)\n",
    "    return labels_acc\n",
    "\n",
    "\n",
    "y = accuracy_target(y)\n",
    "y = y[[\"Target\"]]\n",
    "y"
   ]
  },
  {
   "cell_type": "markdown",
   "metadata": {
    "ExecuteTime": {
     "end_time": "2022-03-21T11:22:51.823907Z",
     "start_time": "2022-03-21T11:22:51.820152Z"
    }
   },
   "source": [
    "# Обучение модели"
   ]
  },
  {
   "cell_type": "code",
   "execution_count": 16,
   "metadata": {
    "ExecuteTime": {
     "end_time": "2022-03-21T17:21:04.677399Z",
     "start_time": "2022-03-21T17:21:04.607151Z"
    },
    "id": "sAfHTjw5-NEI"
   },
   "outputs": [
    {
     "data": {
      "text/plain": [
       "((15768, 3176), (1753, 3176), (15768, 1), (1753, 1))"
      ]
     },
     "execution_count": 16,
     "metadata": {},
     "output_type": "execute_result"
    },
    {
     "data": {
      "application/javascript": [
       "\n",
       "            setTimeout(function() {\n",
       "                var nbb_cell_id = 16;\n",
       "                var nbb_unformatted_code = \"X_train, X_test, y_train, y_test = train_test_split(\\n    X, y, test_size=0.1, shuffle=False, random_state=42\\n)\\n\\nX_train.shape, X_test.shape, y_train.shape, y_test.shape\";\n",
       "                var nbb_formatted_code = \"X_train, X_test, y_train, y_test = train_test_split(\\n    X, y, test_size=0.1, shuffle=False, random_state=42\\n)\\n\\nX_train.shape, X_test.shape, y_train.shape, y_test.shape\";\n",
       "                var nbb_cells = Jupyter.notebook.get_cells();\n",
       "                for (var i = 0; i < nbb_cells.length; ++i) {\n",
       "                    if (nbb_cells[i].input_prompt_number == nbb_cell_id) {\n",
       "                        if (nbb_cells[i].get_text() == nbb_unformatted_code) {\n",
       "                             nbb_cells[i].set_text(nbb_formatted_code);\n",
       "                        }\n",
       "                        break;\n",
       "                    }\n",
       "                }\n",
       "            }, 500);\n",
       "            "
      ],
      "text/plain": [
       "<IPython.core.display.Javascript object>"
      ]
     },
     "metadata": {},
     "output_type": "display_data"
    }
   ],
   "source": [
    "X_train, X_test, y_train, y_test = train_test_split(\n",
    "    X, y, test_size=0.1, shuffle=False, random_state=42\n",
    ")\n",
    "\n",
    "X_train.shape, X_test.shape, y_train.shape, y_test.shape"
   ]
  },
  {
   "cell_type": "code",
   "execution_count": 17,
   "metadata": {
    "ExecuteTime": {
     "end_time": "2022-03-21T17:21:06.336703Z",
     "start_time": "2022-03-21T17:21:06.330749Z"
    }
   },
   "outputs": [
    {
     "data": {
      "application/javascript": [
       "\n",
       "            setTimeout(function() {\n",
       "                var nbb_cell_id = 17;\n",
       "                var nbb_unformatted_code = \"tscv = TimeSeriesSplit(n_splits=5)\";\n",
       "                var nbb_formatted_code = \"tscv = TimeSeriesSplit(n_splits=5)\";\n",
       "                var nbb_cells = Jupyter.notebook.get_cells();\n",
       "                for (var i = 0; i < nbb_cells.length; ++i) {\n",
       "                    if (nbb_cells[i].input_prompt_number == nbb_cell_id) {\n",
       "                        if (nbb_cells[i].get_text() == nbb_unformatted_code) {\n",
       "                             nbb_cells[i].set_text(nbb_formatted_code);\n",
       "                        }\n",
       "                        break;\n",
       "                    }\n",
       "                }\n",
       "            }, 500);\n",
       "            "
      ],
      "text/plain": [
       "<IPython.core.display.Javascript object>"
      ]
     },
     "metadata": {},
     "output_type": "display_data"
    }
   ],
   "source": [
    "tscv = TimeSeriesSplit(n_splits=5)"
   ]
  },
  {
   "cell_type": "code",
   "execution_count": 18,
   "metadata": {
    "ExecuteTime": {
     "end_time": "2022-03-21T17:26:57.037514Z",
     "start_time": "2022-03-21T17:21:09.181189Z"
    }
   },
   "outputs": [
    {
     "name": "stdout",
     "output_type": "stream",
     "text": [
      "{'learn': {'Logloss': 0.0671312398925038}, 'validation': {'Logloss': 0.6063262268635125}}\n",
      "{'learn': {'Logloss': 0.12422802604315307}, 'validation': {'Logloss': 0.5723687548426111}}\n",
      "{'learn': {'Logloss': 0.16342434043632673}, 'validation': {'Logloss': 0.5306976791775349}}\n",
      "{'learn': {'Logloss': 0.18785014217847015}, 'validation': {'Logloss': 0.610581707336832}}\n",
      "{'learn': {'Logloss': 0.21553184510076837}, 'validation': {'Logloss': 0.5823707942003101}}\n"
     ]
    },
    {
     "data": {
      "application/javascript": [
       "\n",
       "            setTimeout(function() {\n",
       "                var nbb_cell_id = 18;\n",
       "                var nbb_unformatted_code = \"ensemble = []\\n\\nfor train_index, val_index in tscv.split(X_train):\\n    X_sub_train, X_sub_valid = X_train.iloc[train_index], X_train.iloc[val_index]\\n    y_sub_train, y_sub_valid = (\\n        y_train.iloc[train_index],\\n        y_train.iloc[val_index],\\n    )\\n\\n    train_pool = Pool(X_sub_train, y_sub_train)\\n    valid_pool = Pool(X_sub_valid, y_sub_valid)\\n\\n    model = CatBoostClassifier()\\n    model.fit(train_pool, eval_set=valid_pool, verbose=False)\\n\\n    ensemble.append(model)\\n    print(model.get_best_score())\";\n",
       "                var nbb_formatted_code = \"ensemble = []\\n\\nfor train_index, val_index in tscv.split(X_train):\\n    X_sub_train, X_sub_valid = X_train.iloc[train_index], X_train.iloc[val_index]\\n    y_sub_train, y_sub_valid = (\\n        y_train.iloc[train_index],\\n        y_train.iloc[val_index],\\n    )\\n\\n    train_pool = Pool(X_sub_train, y_sub_train)\\n    valid_pool = Pool(X_sub_valid, y_sub_valid)\\n\\n    model = CatBoostClassifier()\\n    model.fit(train_pool, eval_set=valid_pool, verbose=False)\\n\\n    ensemble.append(model)\\n    print(model.get_best_score())\";\n",
       "                var nbb_cells = Jupyter.notebook.get_cells();\n",
       "                for (var i = 0; i < nbb_cells.length; ++i) {\n",
       "                    if (nbb_cells[i].input_prompt_number == nbb_cell_id) {\n",
       "                        if (nbb_cells[i].get_text() == nbb_unformatted_code) {\n",
       "                             nbb_cells[i].set_text(nbb_formatted_code);\n",
       "                        }\n",
       "                        break;\n",
       "                    }\n",
       "                }\n",
       "            }, 500);\n",
       "            "
      ],
      "text/plain": [
       "<IPython.core.display.Javascript object>"
      ]
     },
     "metadata": {},
     "output_type": "display_data"
    }
   ],
   "source": [
    "ensemble = []\n",
    "\n",
    "for train_index, val_index in tscv.split(X_train):\n",
    "    X_sub_train, X_sub_valid = X_train.iloc[train_index], X_train.iloc[val_index]\n",
    "    y_sub_train, y_sub_valid = (\n",
    "        y_train.iloc[train_index],\n",
    "        y_train.iloc[val_index],\n",
    "    )\n",
    "\n",
    "    train_pool = Pool(X_sub_train, y_sub_train)\n",
    "    valid_pool = Pool(X_sub_valid, y_sub_valid)\n",
    "\n",
    "    model = CatBoostClassifier()\n",
    "    model.fit(train_pool, eval_set=valid_pool, verbose=False)\n",
    "\n",
    "    ensemble.append(model)\n",
    "    print(model.get_best_score())"
   ]
  },
  {
   "cell_type": "code",
   "execution_count": 26,
   "metadata": {
    "ExecuteTime": {
     "end_time": "2022-03-21T17:29:32.971304Z",
     "start_time": "2022-03-21T17:29:32.778008Z"
    }
   },
   "outputs": [
    {
     "data": {
      "text/html": [
       "<div>\n",
       "<style scoped>\n",
       "    .dataframe tbody tr th:only-of-type {\n",
       "        vertical-align: middle;\n",
       "    }\n",
       "\n",
       "    .dataframe tbody tr th {\n",
       "        vertical-align: top;\n",
       "    }\n",
       "\n",
       "    .dataframe thead th {\n",
       "        text-align: right;\n",
       "    }\n",
       "</style>\n",
       "<table border=\"1\" class=\"dataframe\">\n",
       "  <thead>\n",
       "    <tr style=\"text-align: right;\">\n",
       "      <th></th>\n",
       "      <th>Model_0</th>\n",
       "      <th>Model_1</th>\n",
       "      <th>Model_2</th>\n",
       "      <th>Model_3</th>\n",
       "      <th>Model_4</th>\n",
       "    </tr>\n",
       "  </thead>\n",
       "  <tbody>\n",
       "    <tr>\n",
       "      <th>0</th>\n",
       "      <td>1</td>\n",
       "      <td>1</td>\n",
       "      <td>1</td>\n",
       "      <td>1</td>\n",
       "      <td>1</td>\n",
       "    </tr>\n",
       "    <tr>\n",
       "      <th>1</th>\n",
       "      <td>1</td>\n",
       "      <td>1</td>\n",
       "      <td>1</td>\n",
       "      <td>1</td>\n",
       "      <td>1</td>\n",
       "    </tr>\n",
       "    <tr>\n",
       "      <th>2</th>\n",
       "      <td>1</td>\n",
       "      <td>1</td>\n",
       "      <td>1</td>\n",
       "      <td>1</td>\n",
       "      <td>1</td>\n",
       "    </tr>\n",
       "    <tr>\n",
       "      <th>3</th>\n",
       "      <td>1</td>\n",
       "      <td>0</td>\n",
       "      <td>0</td>\n",
       "      <td>0</td>\n",
       "      <td>0</td>\n",
       "    </tr>\n",
       "    <tr>\n",
       "      <th>4</th>\n",
       "      <td>1</td>\n",
       "      <td>0</td>\n",
       "      <td>0</td>\n",
       "      <td>0</td>\n",
       "      <td>0</td>\n",
       "    </tr>\n",
       "    <tr>\n",
       "      <th>...</th>\n",
       "      <td>...</td>\n",
       "      <td>...</td>\n",
       "      <td>...</td>\n",
       "      <td>...</td>\n",
       "      <td>...</td>\n",
       "    </tr>\n",
       "    <tr>\n",
       "      <th>1748</th>\n",
       "      <td>1</td>\n",
       "      <td>1</td>\n",
       "      <td>1</td>\n",
       "      <td>1</td>\n",
       "      <td>1</td>\n",
       "    </tr>\n",
       "    <tr>\n",
       "      <th>1749</th>\n",
       "      <td>0</td>\n",
       "      <td>0</td>\n",
       "      <td>0</td>\n",
       "      <td>0</td>\n",
       "      <td>0</td>\n",
       "    </tr>\n",
       "    <tr>\n",
       "      <th>1750</th>\n",
       "      <td>1</td>\n",
       "      <td>1</td>\n",
       "      <td>1</td>\n",
       "      <td>1</td>\n",
       "      <td>1</td>\n",
       "    </tr>\n",
       "    <tr>\n",
       "      <th>1751</th>\n",
       "      <td>0</td>\n",
       "      <td>0</td>\n",
       "      <td>0</td>\n",
       "      <td>0</td>\n",
       "      <td>0</td>\n",
       "    </tr>\n",
       "    <tr>\n",
       "      <th>1752</th>\n",
       "      <td>0</td>\n",
       "      <td>0</td>\n",
       "      <td>0</td>\n",
       "      <td>0</td>\n",
       "      <td>0</td>\n",
       "    </tr>\n",
       "  </tbody>\n",
       "</table>\n",
       "<p>1753 rows × 5 columns</p>\n",
       "</div>"
      ],
      "text/plain": [
       "      Model_0  Model_1  Model_2  Model_3  Model_4\n",
       "0           1        1        1        1        1\n",
       "1           1        1        1        1        1\n",
       "2           1        1        1        1        1\n",
       "3           1        0        0        0        0\n",
       "4           1        0        0        0        0\n",
       "...       ...      ...      ...      ...      ...\n",
       "1748        1        1        1        1        1\n",
       "1749        0        0        0        0        0\n",
       "1750        1        1        1        1        1\n",
       "1751        0        0        0        0        0\n",
       "1752        0        0        0        0        0\n",
       "\n",
       "[1753 rows x 5 columns]"
      ]
     },
     "execution_count": 26,
     "metadata": {},
     "output_type": "execute_result"
    },
    {
     "data": {
      "application/javascript": [
       "\n",
       "            setTimeout(function() {\n",
       "                var nbb_cell_id = 26;\n",
       "                var nbb_unformatted_code = \"preds = [m.predict(X_test) for m in ensemble]\\npreds = pd.DataFrame(np.array(preds).T, columns=[\\\"Model_%d\\\" % i for i in range(len(ensemble))])\\npreds\";\n",
       "                var nbb_formatted_code = \"preds = [m.predict(X_test) for m in ensemble]\\npreds = pd.DataFrame(\\n    np.array(preds).T, columns=[\\\"Model_%d\\\" % i for i in range(len(ensemble))]\\n)\\npreds\";\n",
       "                var nbb_cells = Jupyter.notebook.get_cells();\n",
       "                for (var i = 0; i < nbb_cells.length; ++i) {\n",
       "                    if (nbb_cells[i].input_prompt_number == nbb_cell_id) {\n",
       "                        if (nbb_cells[i].get_text() == nbb_unformatted_code) {\n",
       "                             nbb_cells[i].set_text(nbb_formatted_code);\n",
       "                        }\n",
       "                        break;\n",
       "                    }\n",
       "                }\n",
       "            }, 500);\n",
       "            "
      ],
      "text/plain": [
       "<IPython.core.display.Javascript object>"
      ]
     },
     "metadata": {},
     "output_type": "display_data"
    }
   ],
   "source": [
    "preds = [m.predict(X_test) for m in ensemble]\n",
    "preds = pd.DataFrame(\n",
    "    np.array(preds).T, columns=[\"Model_%d\" % i for i in range(len(ensemble))]\n",
    ")\n",
    "preds"
   ]
  },
  {
   "cell_type": "code",
   "execution_count": 31,
   "metadata": {
    "ExecuteTime": {
     "end_time": "2022-03-21T17:30:12.985541Z",
     "start_time": "2022-03-21T17:30:12.978183Z"
    }
   },
   "outputs": [
    {
     "data": {
      "text/plain": [
       "0       1\n",
       "1       1\n",
       "2       1\n",
       "3       0\n",
       "4       0\n",
       "       ..\n",
       "1748    1\n",
       "1749    0\n",
       "1750    1\n",
       "1751    0\n",
       "1752    0\n",
       "Length: 1753, dtype: int64"
      ]
     },
     "execution_count": 31,
     "metadata": {},
     "output_type": "execute_result"
    },
    {
     "data": {
      "application/javascript": [
       "\n",
       "            setTimeout(function() {\n",
       "                var nbb_cell_id = 31;\n",
       "                var nbb_unformatted_code = \"y_pred = preds.mean(axis=1).astype(int)\\ny_pred\";\n",
       "                var nbb_formatted_code = \"y_pred = preds.mean(axis=1).astype(int)\\ny_pred\";\n",
       "                var nbb_cells = Jupyter.notebook.get_cells();\n",
       "                for (var i = 0; i < nbb_cells.length; ++i) {\n",
       "                    if (nbb_cells[i].input_prompt_number == nbb_cell_id) {\n",
       "                        if (nbb_cells[i].get_text() == nbb_unformatted_code) {\n",
       "                             nbb_cells[i].set_text(nbb_formatted_code);\n",
       "                        }\n",
       "                        break;\n",
       "                    }\n",
       "                }\n",
       "            }, 500);\n",
       "            "
      ],
      "text/plain": [
       "<IPython.core.display.Javascript object>"
      ]
     },
     "metadata": {},
     "output_type": "display_data"
    }
   ],
   "source": [
    "y_pred = preds.mean(axis=1).astype(int)\n",
    "y_pred"
   ]
  },
  {
   "cell_type": "code",
   "execution_count": 32,
   "metadata": {
    "ExecuteTime": {
     "end_time": "2022-03-21T17:30:19.395802Z",
     "start_time": "2022-03-21T17:30:19.389309Z"
    }
   },
   "outputs": [
    {
     "data": {
      "text/plain": [
       "0.7090701654306902"
      ]
     },
     "execution_count": 32,
     "metadata": {},
     "output_type": "execute_result"
    },
    {
     "data": {
      "application/javascript": [
       "\n",
       "            setTimeout(function() {\n",
       "                var nbb_cell_id = 32;\n",
       "                var nbb_unformatted_code = \"accuracy_score(y_test, y_pred)\";\n",
       "                var nbb_formatted_code = \"accuracy_score(y_test, y_pred)\";\n",
       "                var nbb_cells = Jupyter.notebook.get_cells();\n",
       "                for (var i = 0; i < nbb_cells.length; ++i) {\n",
       "                    if (nbb_cells[i].input_prompt_number == nbb_cell_id) {\n",
       "                        if (nbb_cells[i].get_text() == nbb_unformatted_code) {\n",
       "                             nbb_cells[i].set_text(nbb_formatted_code);\n",
       "                        }\n",
       "                        break;\n",
       "                    }\n",
       "                }\n",
       "            }, 500);\n",
       "            "
      ],
      "text/plain": [
       "<IPython.core.display.Javascript object>"
      ]
     },
     "metadata": {},
     "output_type": "display_data"
    }
   ],
   "source": [
    "accuracy_score(y_test, y_pred)"
   ]
  },
  {
   "cell_type": "code",
   "execution_count": null,
   "metadata": {},
   "outputs": [],
   "source": []
  },
  {
   "cell_type": "code",
   "execution_count": null,
   "metadata": {
    "id": "37deXwNQ9NPj"
   },
   "outputs": [],
   "source": []
  },
  {
   "cell_type": "code",
   "execution_count": null,
   "metadata": {
    "id": "IdGpvgKT8fm7"
   },
   "outputs": [],
   "source": []
  }
 ],
 "metadata": {
  "colab": {
   "authorship_tag": "ABX9TyOVoLIoJMdNfKI9bQsCxZrt",
   "collapsed_sections": [],
   "mount_file_id": "16qVlP-WsT7QyutKy7LcCJyFAqUIodOQm",
   "name": "mczielinski_bitcoin-historical-data.ipynb",
   "provenance": []
  },
  "kernelspec": {
   "display_name": "Python 3 (ipykernel)",
   "language": "python",
   "name": "python3"
  },
  "language_info": {
   "codemirror_mode": {
    "name": "ipython",
    "version": 3
   },
   "file_extension": ".py",
   "mimetype": "text/x-python",
   "name": "python",
   "nbconvert_exporter": "python",
   "pygments_lexer": "ipython3",
   "version": "3.9.7"
  }
 },
 "nbformat": 4,
 "nbformat_minor": 1
}
