{
 "cells": [
  {
   "cell_type": "markdown",
   "id": "5f18310f",
   "metadata": {},
   "source": [
    "# H&M Personalized Fashion Recommendations\n",
    "Provide product recommendations based on previous purchases\n",
    "\n",
    "[H&M Group](https://www.hmgroup.com/) is a family of brands and businesses with 53 online markets and approximately 4,850 stores. Our online store offers shoppers an extensive selection of products to browse through. But with too many choices, customers might not quickly find what interests them or what they are looking for, and ultimately, they might not make a purchase. To enhance the shopping experience, product recommendations are key. More importantly, helping customers make the right choices also has a positive implications for sustainability, as it reduces returns, and thereby minimizes emissions from transportation.\n",
    "\n",
    "In this competition, H&M Group invites you to develop product recommendations based on data from previous transactions, as well as from customer and product meta data. The available meta data spans from simple data, such as garment type and customer age, to text data from product descriptions, to image data from garment images.\n",
    "\n",
    "There are no preconceptions on what information that may be useful – that is for you to find out. If you want to investigate a categorical data type algorithm, or dive into NLP and image processing deep learning, that is up to you.\n",
    "\n",
    "Link: https://www.kaggle.com/competitions/h-and-m-personalized-fashion-recommendations/overview\n",
    "\n",
    "Help: https://www.kaggle.com/code/julian3833/h-m-implicit-als-model-0-014"
   ]
  },
  {
   "cell_type": "code",
   "execution_count": 1,
   "id": "8647bde3",
   "metadata": {
    "ExecuteTime": {
     "end_time": "2022-10-29T17:49:19.038639Z",
     "start_time": "2022-10-29T17:49:18.834860Z"
    }
   },
   "outputs": [],
   "source": [
    "import pandas as pd\n",
    "import numpy as np\n",
    "from scipy.sparse import coo_matrix\n",
    "import implicit\n",
    "from tqdm.notebook import tqdm"
   ]
  },
  {
   "cell_type": "code",
   "execution_count": 2,
   "id": "4a6df5fa",
   "metadata": {
    "ExecuteTime": {
     "end_time": "2022-10-29T17:49:19.086826Z",
     "start_time": "2022-10-29T17:49:19.039861Z"
    }
   },
   "outputs": [
    {
     "data": {
      "application/javascript": [
       "\n",
       "            setTimeout(function() {\n",
       "                var nbb_cell_id = 2;\n",
       "                var nbb_unformatted_code = \"%load_ext nb_black\";\n",
       "                var nbb_formatted_code = \"%load_ext nb_black\";\n",
       "                var nbb_cells = Jupyter.notebook.get_cells();\n",
       "                for (var i = 0; i < nbb_cells.length; ++i) {\n",
       "                    if (nbb_cells[i].input_prompt_number == nbb_cell_id) {\n",
       "                        if (nbb_cells[i].get_text() == nbb_unformatted_code) {\n",
       "                             nbb_cells[i].set_text(nbb_formatted_code);\n",
       "                        }\n",
       "                        break;\n",
       "                    }\n",
       "                }\n",
       "            }, 500);\n",
       "            "
      ],
      "text/plain": [
       "<IPython.core.display.Javascript object>"
      ]
     },
     "metadata": {},
     "output_type": "display_data"
    }
   ],
   "source": [
    "%load_ext nb_black"
   ]
  },
  {
   "cell_type": "code",
   "execution_count": 3,
   "id": "56c9c983",
   "metadata": {
    "ExecuteTime": {
     "end_time": "2022-10-29T17:49:19.451130Z",
     "start_time": "2022-10-29T17:49:19.087969Z"
    }
   },
   "outputs": [
    {
     "data": {
      "text/html": [
       "<div>\n",
       "<style scoped>\n",
       "    .dataframe tbody tr th:only-of-type {\n",
       "        vertical-align: middle;\n",
       "    }\n",
       "\n",
       "    .dataframe tbody tr th {\n",
       "        vertical-align: top;\n",
       "    }\n",
       "\n",
       "    .dataframe thead th {\n",
       "        text-align: right;\n",
       "    }\n",
       "</style>\n",
       "<table border=\"1\" class=\"dataframe\">\n",
       "  <thead>\n",
       "    <tr style=\"text-align: right;\">\n",
       "      <th></th>\n",
       "      <th>product_code</th>\n",
       "      <th>prod_name</th>\n",
       "      <th>product_type_no</th>\n",
       "      <th>product_type_name</th>\n",
       "      <th>product_group_name</th>\n",
       "      <th>graphical_appearance_no</th>\n",
       "      <th>graphical_appearance_name</th>\n",
       "      <th>colour_group_code</th>\n",
       "      <th>colour_group_name</th>\n",
       "      <th>perceived_colour_value_id</th>\n",
       "      <th>...</th>\n",
       "      <th>department_name</th>\n",
       "      <th>index_code</th>\n",
       "      <th>index_name</th>\n",
       "      <th>index_group_no</th>\n",
       "      <th>index_group_name</th>\n",
       "      <th>section_no</th>\n",
       "      <th>section_name</th>\n",
       "      <th>garment_group_no</th>\n",
       "      <th>garment_group_name</th>\n",
       "      <th>detail_desc</th>\n",
       "    </tr>\n",
       "    <tr>\n",
       "      <th>article_id</th>\n",
       "      <th></th>\n",
       "      <th></th>\n",
       "      <th></th>\n",
       "      <th></th>\n",
       "      <th></th>\n",
       "      <th></th>\n",
       "      <th></th>\n",
       "      <th></th>\n",
       "      <th></th>\n",
       "      <th></th>\n",
       "      <th></th>\n",
       "      <th></th>\n",
       "      <th></th>\n",
       "      <th></th>\n",
       "      <th></th>\n",
       "      <th></th>\n",
       "      <th></th>\n",
       "      <th></th>\n",
       "      <th></th>\n",
       "      <th></th>\n",
       "      <th></th>\n",
       "    </tr>\n",
       "  </thead>\n",
       "  <tbody>\n",
       "    <tr>\n",
       "      <th>108775015</th>\n",
       "      <td>108775</td>\n",
       "      <td>Strap top</td>\n",
       "      <td>253</td>\n",
       "      <td>Vest top</td>\n",
       "      <td>Garment Upper body</td>\n",
       "      <td>1010016</td>\n",
       "      <td>Solid</td>\n",
       "      <td>9</td>\n",
       "      <td>Black</td>\n",
       "      <td>4</td>\n",
       "      <td>...</td>\n",
       "      <td>Jersey Basic</td>\n",
       "      <td>A</td>\n",
       "      <td>Ladieswear</td>\n",
       "      <td>1</td>\n",
       "      <td>Ladieswear</td>\n",
       "      <td>16</td>\n",
       "      <td>Womens Everyday Basics</td>\n",
       "      <td>1002</td>\n",
       "      <td>Jersey Basic</td>\n",
       "      <td>Jersey top with narrow shoulder straps.</td>\n",
       "    </tr>\n",
       "    <tr>\n",
       "      <th>108775044</th>\n",
       "      <td>108775</td>\n",
       "      <td>Strap top</td>\n",
       "      <td>253</td>\n",
       "      <td>Vest top</td>\n",
       "      <td>Garment Upper body</td>\n",
       "      <td>1010016</td>\n",
       "      <td>Solid</td>\n",
       "      <td>10</td>\n",
       "      <td>White</td>\n",
       "      <td>3</td>\n",
       "      <td>...</td>\n",
       "      <td>Jersey Basic</td>\n",
       "      <td>A</td>\n",
       "      <td>Ladieswear</td>\n",
       "      <td>1</td>\n",
       "      <td>Ladieswear</td>\n",
       "      <td>16</td>\n",
       "      <td>Womens Everyday Basics</td>\n",
       "      <td>1002</td>\n",
       "      <td>Jersey Basic</td>\n",
       "      <td>Jersey top with narrow shoulder straps.</td>\n",
       "    </tr>\n",
       "    <tr>\n",
       "      <th>108775051</th>\n",
       "      <td>108775</td>\n",
       "      <td>Strap top (1)</td>\n",
       "      <td>253</td>\n",
       "      <td>Vest top</td>\n",
       "      <td>Garment Upper body</td>\n",
       "      <td>1010017</td>\n",
       "      <td>Stripe</td>\n",
       "      <td>11</td>\n",
       "      <td>Off White</td>\n",
       "      <td>1</td>\n",
       "      <td>...</td>\n",
       "      <td>Jersey Basic</td>\n",
       "      <td>A</td>\n",
       "      <td>Ladieswear</td>\n",
       "      <td>1</td>\n",
       "      <td>Ladieswear</td>\n",
       "      <td>16</td>\n",
       "      <td>Womens Everyday Basics</td>\n",
       "      <td>1002</td>\n",
       "      <td>Jersey Basic</td>\n",
       "      <td>Jersey top with narrow shoulder straps.</td>\n",
       "    </tr>\n",
       "    <tr>\n",
       "      <th>110065001</th>\n",
       "      <td>110065</td>\n",
       "      <td>OP T-shirt (Idro)</td>\n",
       "      <td>306</td>\n",
       "      <td>Bra</td>\n",
       "      <td>Underwear</td>\n",
       "      <td>1010016</td>\n",
       "      <td>Solid</td>\n",
       "      <td>9</td>\n",
       "      <td>Black</td>\n",
       "      <td>4</td>\n",
       "      <td>...</td>\n",
       "      <td>Clean Lingerie</td>\n",
       "      <td>B</td>\n",
       "      <td>Lingeries/Tights</td>\n",
       "      <td>1</td>\n",
       "      <td>Ladieswear</td>\n",
       "      <td>61</td>\n",
       "      <td>Womens Lingerie</td>\n",
       "      <td>1017</td>\n",
       "      <td>Under-, Nightwear</td>\n",
       "      <td>Microfibre T-shirt bra with underwired, moulde...</td>\n",
       "    </tr>\n",
       "    <tr>\n",
       "      <th>110065002</th>\n",
       "      <td>110065</td>\n",
       "      <td>OP T-shirt (Idro)</td>\n",
       "      <td>306</td>\n",
       "      <td>Bra</td>\n",
       "      <td>Underwear</td>\n",
       "      <td>1010016</td>\n",
       "      <td>Solid</td>\n",
       "      <td>10</td>\n",
       "      <td>White</td>\n",
       "      <td>3</td>\n",
       "      <td>...</td>\n",
       "      <td>Clean Lingerie</td>\n",
       "      <td>B</td>\n",
       "      <td>Lingeries/Tights</td>\n",
       "      <td>1</td>\n",
       "      <td>Ladieswear</td>\n",
       "      <td>61</td>\n",
       "      <td>Womens Lingerie</td>\n",
       "      <td>1017</td>\n",
       "      <td>Under-, Nightwear</td>\n",
       "      <td>Microfibre T-shirt bra with underwired, moulde...</td>\n",
       "    </tr>\n",
       "    <tr>\n",
       "      <th>...</th>\n",
       "      <td>...</td>\n",
       "      <td>...</td>\n",
       "      <td>...</td>\n",
       "      <td>...</td>\n",
       "      <td>...</td>\n",
       "      <td>...</td>\n",
       "      <td>...</td>\n",
       "      <td>...</td>\n",
       "      <td>...</td>\n",
       "      <td>...</td>\n",
       "      <td>...</td>\n",
       "      <td>...</td>\n",
       "      <td>...</td>\n",
       "      <td>...</td>\n",
       "      <td>...</td>\n",
       "      <td>...</td>\n",
       "      <td>...</td>\n",
       "      <td>...</td>\n",
       "      <td>...</td>\n",
       "      <td>...</td>\n",
       "      <td>...</td>\n",
       "    </tr>\n",
       "    <tr>\n",
       "      <th>953450001</th>\n",
       "      <td>953450</td>\n",
       "      <td>5pk regular Placement1</td>\n",
       "      <td>302</td>\n",
       "      <td>Socks</td>\n",
       "      <td>Socks &amp; Tights</td>\n",
       "      <td>1010014</td>\n",
       "      <td>Placement print</td>\n",
       "      <td>9</td>\n",
       "      <td>Black</td>\n",
       "      <td>4</td>\n",
       "      <td>...</td>\n",
       "      <td>Socks Bin</td>\n",
       "      <td>F</td>\n",
       "      <td>Menswear</td>\n",
       "      <td>3</td>\n",
       "      <td>Menswear</td>\n",
       "      <td>26</td>\n",
       "      <td>Men Underwear</td>\n",
       "      <td>1021</td>\n",
       "      <td>Socks and Tights</td>\n",
       "      <td>Socks in a fine-knit cotton blend with a small...</td>\n",
       "    </tr>\n",
       "    <tr>\n",
       "      <th>953763001</th>\n",
       "      <td>953763</td>\n",
       "      <td>SPORT Malaga tank</td>\n",
       "      <td>253</td>\n",
       "      <td>Vest top</td>\n",
       "      <td>Garment Upper body</td>\n",
       "      <td>1010016</td>\n",
       "      <td>Solid</td>\n",
       "      <td>9</td>\n",
       "      <td>Black</td>\n",
       "      <td>4</td>\n",
       "      <td>...</td>\n",
       "      <td>Jersey</td>\n",
       "      <td>A</td>\n",
       "      <td>Ladieswear</td>\n",
       "      <td>1</td>\n",
       "      <td>Ladieswear</td>\n",
       "      <td>2</td>\n",
       "      <td>H&amp;M+</td>\n",
       "      <td>1005</td>\n",
       "      <td>Jersey Fancy</td>\n",
       "      <td>Loose-fitting sports vest top in ribbed fast-d...</td>\n",
       "    </tr>\n",
       "    <tr>\n",
       "      <th>956217002</th>\n",
       "      <td>956217</td>\n",
       "      <td>Cartwheel dress</td>\n",
       "      <td>265</td>\n",
       "      <td>Dress</td>\n",
       "      <td>Garment Full body</td>\n",
       "      <td>1010016</td>\n",
       "      <td>Solid</td>\n",
       "      <td>9</td>\n",
       "      <td>Black</td>\n",
       "      <td>4</td>\n",
       "      <td>...</td>\n",
       "      <td>Jersey</td>\n",
       "      <td>A</td>\n",
       "      <td>Ladieswear</td>\n",
       "      <td>1</td>\n",
       "      <td>Ladieswear</td>\n",
       "      <td>18</td>\n",
       "      <td>Womens Trend</td>\n",
       "      <td>1005</td>\n",
       "      <td>Jersey Fancy</td>\n",
       "      <td>Short, A-line dress in jersey with a round nec...</td>\n",
       "    </tr>\n",
       "    <tr>\n",
       "      <th>957375001</th>\n",
       "      <td>957375</td>\n",
       "      <td>CLAIRE HAIR CLAW</td>\n",
       "      <td>72</td>\n",
       "      <td>Hair clip</td>\n",
       "      <td>Accessories</td>\n",
       "      <td>1010016</td>\n",
       "      <td>Solid</td>\n",
       "      <td>9</td>\n",
       "      <td>Black</td>\n",
       "      <td>4</td>\n",
       "      <td>...</td>\n",
       "      <td>Small Accessories</td>\n",
       "      <td>D</td>\n",
       "      <td>Divided</td>\n",
       "      <td>2</td>\n",
       "      <td>Divided</td>\n",
       "      <td>52</td>\n",
       "      <td>Divided Accessories</td>\n",
       "      <td>1019</td>\n",
       "      <td>Accessories</td>\n",
       "      <td>Large plastic hair claw.</td>\n",
       "    </tr>\n",
       "    <tr>\n",
       "      <th>959461001</th>\n",
       "      <td>959461</td>\n",
       "      <td>Lounge dress</td>\n",
       "      <td>265</td>\n",
       "      <td>Dress</td>\n",
       "      <td>Garment Full body</td>\n",
       "      <td>1010016</td>\n",
       "      <td>Solid</td>\n",
       "      <td>11</td>\n",
       "      <td>Off White</td>\n",
       "      <td>1</td>\n",
       "      <td>...</td>\n",
       "      <td>Jersey</td>\n",
       "      <td>A</td>\n",
       "      <td>Ladieswear</td>\n",
       "      <td>1</td>\n",
       "      <td>Ladieswear</td>\n",
       "      <td>18</td>\n",
       "      <td>Womens Trend</td>\n",
       "      <td>1005</td>\n",
       "      <td>Jersey Fancy</td>\n",
       "      <td>Calf-length dress in ribbed jersey made from a...</td>\n",
       "    </tr>\n",
       "  </tbody>\n",
       "</table>\n",
       "<p>105542 rows × 24 columns</p>\n",
       "</div>"
      ],
      "text/plain": [
       "            product_code               prod_name  product_type_no  \\\n",
       "article_id                                                          \n",
       "108775015         108775               Strap top              253   \n",
       "108775044         108775               Strap top              253   \n",
       "108775051         108775           Strap top (1)              253   \n",
       "110065001         110065       OP T-shirt (Idro)              306   \n",
       "110065002         110065       OP T-shirt (Idro)              306   \n",
       "...                  ...                     ...              ...   \n",
       "953450001         953450  5pk regular Placement1              302   \n",
       "953763001         953763       SPORT Malaga tank              253   \n",
       "956217002         956217         Cartwheel dress              265   \n",
       "957375001         957375        CLAIRE HAIR CLAW               72   \n",
       "959461001         959461            Lounge dress              265   \n",
       "\n",
       "           product_type_name  product_group_name  graphical_appearance_no  \\\n",
       "article_id                                                                  \n",
       "108775015           Vest top  Garment Upper body                  1010016   \n",
       "108775044           Vest top  Garment Upper body                  1010016   \n",
       "108775051           Vest top  Garment Upper body                  1010017   \n",
       "110065001                Bra           Underwear                  1010016   \n",
       "110065002                Bra           Underwear                  1010016   \n",
       "...                      ...                 ...                      ...   \n",
       "953450001              Socks      Socks & Tights                  1010014   \n",
       "953763001           Vest top  Garment Upper body                  1010016   \n",
       "956217002              Dress   Garment Full body                  1010016   \n",
       "957375001          Hair clip         Accessories                  1010016   \n",
       "959461001              Dress   Garment Full body                  1010016   \n",
       "\n",
       "           graphical_appearance_name  colour_group_code colour_group_name  \\\n",
       "article_id                                                                  \n",
       "108775015                      Solid                  9             Black   \n",
       "108775044                      Solid                 10             White   \n",
       "108775051                     Stripe                 11         Off White   \n",
       "110065001                      Solid                  9             Black   \n",
       "110065002                      Solid                 10             White   \n",
       "...                              ...                ...               ...   \n",
       "953450001            Placement print                  9             Black   \n",
       "953763001                      Solid                  9             Black   \n",
       "956217002                      Solid                  9             Black   \n",
       "957375001                      Solid                  9             Black   \n",
       "959461001                      Solid                 11         Off White   \n",
       "\n",
       "            perceived_colour_value_id  ...    department_name  index_code  \\\n",
       "article_id                             ...                                  \n",
       "108775015                           4  ...       Jersey Basic           A   \n",
       "108775044                           3  ...       Jersey Basic           A   \n",
       "108775051                           1  ...       Jersey Basic           A   \n",
       "110065001                           4  ...     Clean Lingerie           B   \n",
       "110065002                           3  ...     Clean Lingerie           B   \n",
       "...                               ...  ...                ...         ...   \n",
       "953450001                           4  ...          Socks Bin           F   \n",
       "953763001                           4  ...             Jersey           A   \n",
       "956217002                           4  ...             Jersey           A   \n",
       "957375001                           4  ...  Small Accessories           D   \n",
       "959461001                           1  ...             Jersey           A   \n",
       "\n",
       "                  index_name  index_group_no index_group_name section_no  \\\n",
       "article_id                                                                 \n",
       "108775015         Ladieswear               1       Ladieswear         16   \n",
       "108775044         Ladieswear               1       Ladieswear         16   \n",
       "108775051         Ladieswear               1       Ladieswear         16   \n",
       "110065001   Lingeries/Tights               1       Ladieswear         61   \n",
       "110065002   Lingeries/Tights               1       Ladieswear         61   \n",
       "...                      ...             ...              ...        ...   \n",
       "953450001           Menswear               3         Menswear         26   \n",
       "953763001         Ladieswear               1       Ladieswear          2   \n",
       "956217002         Ladieswear               1       Ladieswear         18   \n",
       "957375001            Divided               2          Divided         52   \n",
       "959461001         Ladieswear               1       Ladieswear         18   \n",
       "\n",
       "                      section_name  garment_group_no garment_group_name  \\\n",
       "article_id                                                                \n",
       "108775015   Womens Everyday Basics              1002       Jersey Basic   \n",
       "108775044   Womens Everyday Basics              1002       Jersey Basic   \n",
       "108775051   Womens Everyday Basics              1002       Jersey Basic   \n",
       "110065001          Womens Lingerie              1017  Under-, Nightwear   \n",
       "110065002          Womens Lingerie              1017  Under-, Nightwear   \n",
       "...                            ...               ...                ...   \n",
       "953450001            Men Underwear              1021   Socks and Tights   \n",
       "953763001                     H&M+              1005       Jersey Fancy   \n",
       "956217002             Womens Trend              1005       Jersey Fancy   \n",
       "957375001      Divided Accessories              1019        Accessories   \n",
       "959461001             Womens Trend              1005       Jersey Fancy   \n",
       "\n",
       "                                                  detail_desc  \n",
       "article_id                                                     \n",
       "108775015             Jersey top with narrow shoulder straps.  \n",
       "108775044             Jersey top with narrow shoulder straps.  \n",
       "108775051             Jersey top with narrow shoulder straps.  \n",
       "110065001   Microfibre T-shirt bra with underwired, moulde...  \n",
       "110065002   Microfibre T-shirt bra with underwired, moulde...  \n",
       "...                                                       ...  \n",
       "953450001   Socks in a fine-knit cotton blend with a small...  \n",
       "953763001   Loose-fitting sports vest top in ribbed fast-d...  \n",
       "956217002   Short, A-line dress in jersey with a round nec...  \n",
       "957375001                            Large plastic hair claw.  \n",
       "959461001   Calf-length dress in ribbed jersey made from a...  \n",
       "\n",
       "[105542 rows x 24 columns]"
      ]
     },
     "execution_count": 3,
     "metadata": {},
     "output_type": "execute_result"
    },
    {
     "data": {
      "application/javascript": [
       "\n",
       "            setTimeout(function() {\n",
       "                var nbb_cell_id = 3;\n",
       "                var nbb_unformatted_code = \"articles_df = pd.read_csv(\\n    \\\"../../data/h-and-m-personalized-fashion-recommendations/articles.csv\\\",\\n).set_index(\\\"article_id\\\")\\narticles_df\";\n",
       "                var nbb_formatted_code = \"articles_df = pd.read_csv(\\n    \\\"../../data/h-and-m-personalized-fashion-recommendations/articles.csv\\\",\\n).set_index(\\\"article_id\\\")\\narticles_df\";\n",
       "                var nbb_cells = Jupyter.notebook.get_cells();\n",
       "                for (var i = 0; i < nbb_cells.length; ++i) {\n",
       "                    if (nbb_cells[i].input_prompt_number == nbb_cell_id) {\n",
       "                        if (nbb_cells[i].get_text() == nbb_unformatted_code) {\n",
       "                             nbb_cells[i].set_text(nbb_formatted_code);\n",
       "                        }\n",
       "                        break;\n",
       "                    }\n",
       "                }\n",
       "            }, 500);\n",
       "            "
      ],
      "text/plain": [
       "<IPython.core.display.Javascript object>"
      ]
     },
     "metadata": {},
     "output_type": "display_data"
    }
   ],
   "source": [
    "articles_df = pd.read_csv(\n",
    "    \"../../data/h-and-m-personalized-fashion-recommendations/articles.csv\",\n",
    ").set_index(\"article_id\")\n",
    "articles_df"
   ]
  },
  {
   "cell_type": "code",
   "execution_count": 4,
   "id": "8c00139d",
   "metadata": {
    "ExecuteTime": {
     "end_time": "2022-10-29T17:49:19.600809Z",
     "start_time": "2022-10-29T17:49:19.452553Z"
    }
   },
   "outputs": [
    {
     "name": "stdout",
     "output_type": "stream",
     "text": [
      "<class 'pandas.core.frame.DataFrame'>\n",
      "Int64Index: 105542 entries, 108775015 to 959461001\n",
      "Data columns (total 24 columns):\n",
      " #   Column                        Non-Null Count   Dtype \n",
      "---  ------                        --------------   ----- \n",
      " 0   product_code                  105542 non-null  int64 \n",
      " 1   prod_name                     105542 non-null  object\n",
      " 2   product_type_no               105542 non-null  int64 \n",
      " 3   product_type_name             105542 non-null  object\n",
      " 4   product_group_name            105542 non-null  object\n",
      " 5   graphical_appearance_no       105542 non-null  int64 \n",
      " 6   graphical_appearance_name     105542 non-null  object\n",
      " 7   colour_group_code             105542 non-null  int64 \n",
      " 8   colour_group_name             105542 non-null  object\n",
      " 9   perceived_colour_value_id     105542 non-null  int64 \n",
      " 10  perceived_colour_value_name   105542 non-null  object\n",
      " 11  perceived_colour_master_id    105542 non-null  int64 \n",
      " 12  perceived_colour_master_name  105542 non-null  object\n",
      " 13  department_no                 105542 non-null  int64 \n",
      " 14  department_name               105542 non-null  object\n",
      " 15  index_code                    105542 non-null  object\n",
      " 16  index_name                    105542 non-null  object\n",
      " 17  index_group_no                105542 non-null  int64 \n",
      " 18  index_group_name              105542 non-null  object\n",
      " 19  section_no                    105542 non-null  int64 \n",
      " 20  section_name                  105542 non-null  object\n",
      " 21  garment_group_no              105542 non-null  int64 \n",
      " 22  garment_group_name            105542 non-null  object\n",
      " 23  detail_desc                   105126 non-null  object\n",
      "dtypes: int64(10), object(14)\n",
      "memory usage: 20.1+ MB\n"
     ]
    },
    {
     "data": {
      "application/javascript": [
       "\n",
       "            setTimeout(function() {\n",
       "                var nbb_cell_id = 4;\n",
       "                var nbb_unformatted_code = \"articles_df.info()\";\n",
       "                var nbb_formatted_code = \"articles_df.info()\";\n",
       "                var nbb_cells = Jupyter.notebook.get_cells();\n",
       "                for (var i = 0; i < nbb_cells.length; ++i) {\n",
       "                    if (nbb_cells[i].input_prompt_number == nbb_cell_id) {\n",
       "                        if (nbb_cells[i].get_text() == nbb_unformatted_code) {\n",
       "                             nbb_cells[i].set_text(nbb_formatted_code);\n",
       "                        }\n",
       "                        break;\n",
       "                    }\n",
       "                }\n",
       "            }, 500);\n",
       "            "
      ],
      "text/plain": [
       "<IPython.core.display.Javascript object>"
      ]
     },
     "metadata": {},
     "output_type": "display_data"
    }
   ],
   "source": [
    "articles_df.info()"
   ]
  },
  {
   "cell_type": "code",
   "execution_count": 5,
   "id": "d8c533a5",
   "metadata": {
    "ExecuteTime": {
     "end_time": "2022-10-29T17:49:21.510545Z",
     "start_time": "2022-10-29T17:49:19.601790Z"
    }
   },
   "outputs": [
    {
     "data": {
      "text/html": [
       "<div>\n",
       "<style scoped>\n",
       "    .dataframe tbody tr th:only-of-type {\n",
       "        vertical-align: middle;\n",
       "    }\n",
       "\n",
       "    .dataframe tbody tr th {\n",
       "        vertical-align: top;\n",
       "    }\n",
       "\n",
       "    .dataframe thead th {\n",
       "        text-align: right;\n",
       "    }\n",
       "</style>\n",
       "<table border=\"1\" class=\"dataframe\">\n",
       "  <thead>\n",
       "    <tr style=\"text-align: right;\">\n",
       "      <th></th>\n",
       "      <th>FN</th>\n",
       "      <th>Active</th>\n",
       "      <th>club_member_status</th>\n",
       "      <th>fashion_news_frequency</th>\n",
       "      <th>age</th>\n",
       "      <th>postal_code</th>\n",
       "    </tr>\n",
       "    <tr>\n",
       "      <th>customer_id</th>\n",
       "      <th></th>\n",
       "      <th></th>\n",
       "      <th></th>\n",
       "      <th></th>\n",
       "      <th></th>\n",
       "      <th></th>\n",
       "    </tr>\n",
       "  </thead>\n",
       "  <tbody>\n",
       "    <tr>\n",
       "      <th>00000dbacae5abe5e23885899a1fa44253a17956c6d1c3d25f88aa139fdfc657</th>\n",
       "      <td>NaN</td>\n",
       "      <td>NaN</td>\n",
       "      <td>ACTIVE</td>\n",
       "      <td>NONE</td>\n",
       "      <td>49.0</td>\n",
       "      <td>52043ee2162cf5aa7ee79974281641c6f11a68d276429a...</td>\n",
       "    </tr>\n",
       "    <tr>\n",
       "      <th>0000423b00ade91418cceaf3b26c6af3dd342b51fd051eec9c12fb36984420fa</th>\n",
       "      <td>NaN</td>\n",
       "      <td>NaN</td>\n",
       "      <td>ACTIVE</td>\n",
       "      <td>NONE</td>\n",
       "      <td>25.0</td>\n",
       "      <td>2973abc54daa8a5f8ccfe9362140c63247c5eee03f1d93...</td>\n",
       "    </tr>\n",
       "    <tr>\n",
       "      <th>000058a12d5b43e67d225668fa1f8d618c13dc232df0cad8ffe7ad4a1091e318</th>\n",
       "      <td>NaN</td>\n",
       "      <td>NaN</td>\n",
       "      <td>ACTIVE</td>\n",
       "      <td>NONE</td>\n",
       "      <td>24.0</td>\n",
       "      <td>64f17e6a330a85798e4998f62d0930d14db8db1c054af6...</td>\n",
       "    </tr>\n",
       "    <tr>\n",
       "      <th>00005ca1c9ed5f5146b52ac8639a40ca9d57aeff4d1bd2c5feb1ca5dff07c43e</th>\n",
       "      <td>NaN</td>\n",
       "      <td>NaN</td>\n",
       "      <td>ACTIVE</td>\n",
       "      <td>NONE</td>\n",
       "      <td>54.0</td>\n",
       "      <td>5d36574f52495e81f019b680c843c443bd343d5ca5b1c2...</td>\n",
       "    </tr>\n",
       "    <tr>\n",
       "      <th>00006413d8573cd20ed7128e53b7b13819fe5cfc2d801fe7fc0f26dd8d65a85a</th>\n",
       "      <td>1.0</td>\n",
       "      <td>1.0</td>\n",
       "      <td>ACTIVE</td>\n",
       "      <td>Regularly</td>\n",
       "      <td>52.0</td>\n",
       "      <td>25fa5ddee9aac01b35208d01736e57942317d756b32ddd...</td>\n",
       "    </tr>\n",
       "    <tr>\n",
       "      <th>...</th>\n",
       "      <td>...</td>\n",
       "      <td>...</td>\n",
       "      <td>...</td>\n",
       "      <td>...</td>\n",
       "      <td>...</td>\n",
       "      <td>...</td>\n",
       "    </tr>\n",
       "    <tr>\n",
       "      <th>ffffbbf78b6eaac697a8a5dfbfd2bfa8113ee5b403e4747568cac33e8c541831</th>\n",
       "      <td>NaN</td>\n",
       "      <td>NaN</td>\n",
       "      <td>ACTIVE</td>\n",
       "      <td>NONE</td>\n",
       "      <td>24.0</td>\n",
       "      <td>7aa399f7e669990daba2d92c577b52237380662f36480b...</td>\n",
       "    </tr>\n",
       "    <tr>\n",
       "      <th>ffffcd5046a6143d29a04fb8c424ce494a76e5cdf4fab53481233731b5c4f8b7</th>\n",
       "      <td>NaN</td>\n",
       "      <td>NaN</td>\n",
       "      <td>ACTIVE</td>\n",
       "      <td>NONE</td>\n",
       "      <td>21.0</td>\n",
       "      <td>3f47f1279beb72215f4de557d950e0bfa73789d24acb5e...</td>\n",
       "    </tr>\n",
       "    <tr>\n",
       "      <th>ffffcf35913a0bee60e8741cb2b4e78b8a98ee5ff2e6a1778d0116cffd259264</th>\n",
       "      <td>1.0</td>\n",
       "      <td>1.0</td>\n",
       "      <td>ACTIVE</td>\n",
       "      <td>Regularly</td>\n",
       "      <td>21.0</td>\n",
       "      <td>4563fc79215672cd6a863f2b4bf56b8f898f2d96ed590e...</td>\n",
       "    </tr>\n",
       "    <tr>\n",
       "      <th>ffffd7744cebcf3aca44ae7049d2a94b87074c3d4ffe38b2236865d949d4df6a</th>\n",
       "      <td>1.0</td>\n",
       "      <td>1.0</td>\n",
       "      <td>ACTIVE</td>\n",
       "      <td>Regularly</td>\n",
       "      <td>18.0</td>\n",
       "      <td>8892c18e9bc3dca6aa4000cb8094fc4b51ee8db2ed14d7...</td>\n",
       "    </tr>\n",
       "    <tr>\n",
       "      <th>ffffd9ac14e89946416d80e791d064701994755c3ab686a1eaf3458c36f52241</th>\n",
       "      <td>NaN</td>\n",
       "      <td>NaN</td>\n",
       "      <td>PRE-CREATE</td>\n",
       "      <td>NONE</td>\n",
       "      <td>65.0</td>\n",
       "      <td>0a1a03306fb2f62164c2a439b38c0caa64b40deaae8687...</td>\n",
       "    </tr>\n",
       "  </tbody>\n",
       "</table>\n",
       "<p>1371980 rows × 6 columns</p>\n",
       "</div>"
      ],
      "text/plain": [
       "                                                     FN  Active  \\\n",
       "customer_id                                                       \n",
       "00000dbacae5abe5e23885899a1fa44253a17956c6d1c3d...  NaN     NaN   \n",
       "0000423b00ade91418cceaf3b26c6af3dd342b51fd051ee...  NaN     NaN   \n",
       "000058a12d5b43e67d225668fa1f8d618c13dc232df0cad...  NaN     NaN   \n",
       "00005ca1c9ed5f5146b52ac8639a40ca9d57aeff4d1bd2c...  NaN     NaN   \n",
       "00006413d8573cd20ed7128e53b7b13819fe5cfc2d801fe...  1.0     1.0   \n",
       "...                                                 ...     ...   \n",
       "ffffbbf78b6eaac697a8a5dfbfd2bfa8113ee5b403e4747...  NaN     NaN   \n",
       "ffffcd5046a6143d29a04fb8c424ce494a76e5cdf4fab53...  NaN     NaN   \n",
       "ffffcf35913a0bee60e8741cb2b4e78b8a98ee5ff2e6a17...  1.0     1.0   \n",
       "ffffd7744cebcf3aca44ae7049d2a94b87074c3d4ffe38b...  1.0     1.0   \n",
       "ffffd9ac14e89946416d80e791d064701994755c3ab686a...  NaN     NaN   \n",
       "\n",
       "                                                   club_member_status  \\\n",
       "customer_id                                                             \n",
       "00000dbacae5abe5e23885899a1fa44253a17956c6d1c3d...             ACTIVE   \n",
       "0000423b00ade91418cceaf3b26c6af3dd342b51fd051ee...             ACTIVE   \n",
       "000058a12d5b43e67d225668fa1f8d618c13dc232df0cad...             ACTIVE   \n",
       "00005ca1c9ed5f5146b52ac8639a40ca9d57aeff4d1bd2c...             ACTIVE   \n",
       "00006413d8573cd20ed7128e53b7b13819fe5cfc2d801fe...             ACTIVE   \n",
       "...                                                               ...   \n",
       "ffffbbf78b6eaac697a8a5dfbfd2bfa8113ee5b403e4747...             ACTIVE   \n",
       "ffffcd5046a6143d29a04fb8c424ce494a76e5cdf4fab53...             ACTIVE   \n",
       "ffffcf35913a0bee60e8741cb2b4e78b8a98ee5ff2e6a17...             ACTIVE   \n",
       "ffffd7744cebcf3aca44ae7049d2a94b87074c3d4ffe38b...             ACTIVE   \n",
       "ffffd9ac14e89946416d80e791d064701994755c3ab686a...         PRE-CREATE   \n",
       "\n",
       "                                                   fashion_news_frequency  \\\n",
       "customer_id                                                                 \n",
       "00000dbacae5abe5e23885899a1fa44253a17956c6d1c3d...                   NONE   \n",
       "0000423b00ade91418cceaf3b26c6af3dd342b51fd051ee...                   NONE   \n",
       "000058a12d5b43e67d225668fa1f8d618c13dc232df0cad...                   NONE   \n",
       "00005ca1c9ed5f5146b52ac8639a40ca9d57aeff4d1bd2c...                   NONE   \n",
       "00006413d8573cd20ed7128e53b7b13819fe5cfc2d801fe...              Regularly   \n",
       "...                                                                   ...   \n",
       "ffffbbf78b6eaac697a8a5dfbfd2bfa8113ee5b403e4747...                   NONE   \n",
       "ffffcd5046a6143d29a04fb8c424ce494a76e5cdf4fab53...                   NONE   \n",
       "ffffcf35913a0bee60e8741cb2b4e78b8a98ee5ff2e6a17...              Regularly   \n",
       "ffffd7744cebcf3aca44ae7049d2a94b87074c3d4ffe38b...              Regularly   \n",
       "ffffd9ac14e89946416d80e791d064701994755c3ab686a...                   NONE   \n",
       "\n",
       "                                                     age  \\\n",
       "customer_id                                                \n",
       "00000dbacae5abe5e23885899a1fa44253a17956c6d1c3d...  49.0   \n",
       "0000423b00ade91418cceaf3b26c6af3dd342b51fd051ee...  25.0   \n",
       "000058a12d5b43e67d225668fa1f8d618c13dc232df0cad...  24.0   \n",
       "00005ca1c9ed5f5146b52ac8639a40ca9d57aeff4d1bd2c...  54.0   \n",
       "00006413d8573cd20ed7128e53b7b13819fe5cfc2d801fe...  52.0   \n",
       "...                                                  ...   \n",
       "ffffbbf78b6eaac697a8a5dfbfd2bfa8113ee5b403e4747...  24.0   \n",
       "ffffcd5046a6143d29a04fb8c424ce494a76e5cdf4fab53...  21.0   \n",
       "ffffcf35913a0bee60e8741cb2b4e78b8a98ee5ff2e6a17...  21.0   \n",
       "ffffd7744cebcf3aca44ae7049d2a94b87074c3d4ffe38b...  18.0   \n",
       "ffffd9ac14e89946416d80e791d064701994755c3ab686a...  65.0   \n",
       "\n",
       "                                                                                          postal_code  \n",
       "customer_id                                                                                            \n",
       "00000dbacae5abe5e23885899a1fa44253a17956c6d1c3d...  52043ee2162cf5aa7ee79974281641c6f11a68d276429a...  \n",
       "0000423b00ade91418cceaf3b26c6af3dd342b51fd051ee...  2973abc54daa8a5f8ccfe9362140c63247c5eee03f1d93...  \n",
       "000058a12d5b43e67d225668fa1f8d618c13dc232df0cad...  64f17e6a330a85798e4998f62d0930d14db8db1c054af6...  \n",
       "00005ca1c9ed5f5146b52ac8639a40ca9d57aeff4d1bd2c...  5d36574f52495e81f019b680c843c443bd343d5ca5b1c2...  \n",
       "00006413d8573cd20ed7128e53b7b13819fe5cfc2d801fe...  25fa5ddee9aac01b35208d01736e57942317d756b32ddd...  \n",
       "...                                                                                               ...  \n",
       "ffffbbf78b6eaac697a8a5dfbfd2bfa8113ee5b403e4747...  7aa399f7e669990daba2d92c577b52237380662f36480b...  \n",
       "ffffcd5046a6143d29a04fb8c424ce494a76e5cdf4fab53...  3f47f1279beb72215f4de557d950e0bfa73789d24acb5e...  \n",
       "ffffcf35913a0bee60e8741cb2b4e78b8a98ee5ff2e6a17...  4563fc79215672cd6a863f2b4bf56b8f898f2d96ed590e...  \n",
       "ffffd7744cebcf3aca44ae7049d2a94b87074c3d4ffe38b...  8892c18e9bc3dca6aa4000cb8094fc4b51ee8db2ed14d7...  \n",
       "ffffd9ac14e89946416d80e791d064701994755c3ab686a...  0a1a03306fb2f62164c2a439b38c0caa64b40deaae8687...  \n",
       "\n",
       "[1371980 rows x 6 columns]"
      ]
     },
     "execution_count": 5,
     "metadata": {},
     "output_type": "execute_result"
    },
    {
     "data": {
      "application/javascript": [
       "\n",
       "            setTimeout(function() {\n",
       "                var nbb_cell_id = 5;\n",
       "                var nbb_unformatted_code = \"customers_df = pd.read_csv(\\n    \\\"../../data/h-and-m-personalized-fashion-recommendations/customers.csv\\\",\\n).set_index(\\\"customer_id\\\")\\ncustomers_df\";\n",
       "                var nbb_formatted_code = \"customers_df = pd.read_csv(\\n    \\\"../../data/h-and-m-personalized-fashion-recommendations/customers.csv\\\",\\n).set_index(\\\"customer_id\\\")\\ncustomers_df\";\n",
       "                var nbb_cells = Jupyter.notebook.get_cells();\n",
       "                for (var i = 0; i < nbb_cells.length; ++i) {\n",
       "                    if (nbb_cells[i].input_prompt_number == nbb_cell_id) {\n",
       "                        if (nbb_cells[i].get_text() == nbb_unformatted_code) {\n",
       "                             nbb_cells[i].set_text(nbb_formatted_code);\n",
       "                        }\n",
       "                        break;\n",
       "                    }\n",
       "                }\n",
       "            }, 500);\n",
       "            "
      ],
      "text/plain": [
       "<IPython.core.display.Javascript object>"
      ]
     },
     "metadata": {},
     "output_type": "display_data"
    }
   ],
   "source": [
    "customers_df = pd.read_csv(\n",
    "    \"../../data/h-and-m-personalized-fashion-recommendations/customers.csv\",\n",
    ").set_index(\"customer_id\")\n",
    "customers_df"
   ]
  },
  {
   "cell_type": "code",
   "execution_count": 6,
   "id": "f9ef7f3b",
   "metadata": {
    "ExecuteTime": {
     "end_time": "2022-10-29T17:49:48.272107Z",
     "start_time": "2022-10-29T17:49:21.511759Z"
    }
   },
   "outputs": [
    {
     "data": {
      "text/html": [
       "<div>\n",
       "<style scoped>\n",
       "    .dataframe tbody tr th:only-of-type {\n",
       "        vertical-align: middle;\n",
       "    }\n",
       "\n",
       "    .dataframe tbody tr th {\n",
       "        vertical-align: top;\n",
       "    }\n",
       "\n",
       "    .dataframe thead th {\n",
       "        text-align: right;\n",
       "    }\n",
       "</style>\n",
       "<table border=\"1\" class=\"dataframe\">\n",
       "  <thead>\n",
       "    <tr style=\"text-align: right;\">\n",
       "      <th></th>\n",
       "      <th>t_dat</th>\n",
       "      <th>customer_id</th>\n",
       "      <th>article_id</th>\n",
       "      <th>price</th>\n",
       "      <th>sales_channel_id</th>\n",
       "    </tr>\n",
       "  </thead>\n",
       "  <tbody>\n",
       "    <tr>\n",
       "      <th>0</th>\n",
       "      <td>2018-09-20</td>\n",
       "      <td>000058a12d5b43e67d225668fa1f8d618c13dc232df0ca...</td>\n",
       "      <td>663713001</td>\n",
       "      <td>0.050831</td>\n",
       "      <td>2</td>\n",
       "    </tr>\n",
       "    <tr>\n",
       "      <th>1</th>\n",
       "      <td>2018-09-20</td>\n",
       "      <td>000058a12d5b43e67d225668fa1f8d618c13dc232df0ca...</td>\n",
       "      <td>541518023</td>\n",
       "      <td>0.030492</td>\n",
       "      <td>2</td>\n",
       "    </tr>\n",
       "    <tr>\n",
       "      <th>2</th>\n",
       "      <td>2018-09-20</td>\n",
       "      <td>00007d2de826758b65a93dd24ce629ed66842531df6699...</td>\n",
       "      <td>505221004</td>\n",
       "      <td>0.015237</td>\n",
       "      <td>2</td>\n",
       "    </tr>\n",
       "    <tr>\n",
       "      <th>3</th>\n",
       "      <td>2018-09-20</td>\n",
       "      <td>00007d2de826758b65a93dd24ce629ed66842531df6699...</td>\n",
       "      <td>685687003</td>\n",
       "      <td>0.016932</td>\n",
       "      <td>2</td>\n",
       "    </tr>\n",
       "    <tr>\n",
       "      <th>4</th>\n",
       "      <td>2018-09-20</td>\n",
       "      <td>00007d2de826758b65a93dd24ce629ed66842531df6699...</td>\n",
       "      <td>685687004</td>\n",
       "      <td>0.016932</td>\n",
       "      <td>2</td>\n",
       "    </tr>\n",
       "    <tr>\n",
       "      <th>...</th>\n",
       "      <td>...</td>\n",
       "      <td>...</td>\n",
       "      <td>...</td>\n",
       "      <td>...</td>\n",
       "      <td>...</td>\n",
       "    </tr>\n",
       "    <tr>\n",
       "      <th>31788319</th>\n",
       "      <td>2020-09-22</td>\n",
       "      <td>fff2282977442e327b45d8c89afde25617d00124d0f999...</td>\n",
       "      <td>929511001</td>\n",
       "      <td>0.059305</td>\n",
       "      <td>2</td>\n",
       "    </tr>\n",
       "    <tr>\n",
       "      <th>31788320</th>\n",
       "      <td>2020-09-22</td>\n",
       "      <td>fff2282977442e327b45d8c89afde25617d00124d0f999...</td>\n",
       "      <td>891322004</td>\n",
       "      <td>0.042356</td>\n",
       "      <td>2</td>\n",
       "    </tr>\n",
       "    <tr>\n",
       "      <th>31788321</th>\n",
       "      <td>2020-09-22</td>\n",
       "      <td>fff380805474b287b05cb2a7507b9a013482f7dd0bce0e...</td>\n",
       "      <td>918325001</td>\n",
       "      <td>0.043203</td>\n",
       "      <td>1</td>\n",
       "    </tr>\n",
       "    <tr>\n",
       "      <th>31788322</th>\n",
       "      <td>2020-09-22</td>\n",
       "      <td>fff4d3a8b1f3b60af93e78c30a7cb4cf75edaf2590d3e5...</td>\n",
       "      <td>833459002</td>\n",
       "      <td>0.006763</td>\n",
       "      <td>1</td>\n",
       "    </tr>\n",
       "    <tr>\n",
       "      <th>31788323</th>\n",
       "      <td>2020-09-22</td>\n",
       "      <td>fffef3b6b73545df065b521e19f64bf6fe93bfd450ab20...</td>\n",
       "      <td>898573003</td>\n",
       "      <td>0.033881</td>\n",
       "      <td>2</td>\n",
       "    </tr>\n",
       "  </tbody>\n",
       "</table>\n",
       "<p>31788324 rows × 5 columns</p>\n",
       "</div>"
      ],
      "text/plain": [
       "              t_dat                                        customer_id  \\\n",
       "0        2018-09-20  000058a12d5b43e67d225668fa1f8d618c13dc232df0ca...   \n",
       "1        2018-09-20  000058a12d5b43e67d225668fa1f8d618c13dc232df0ca...   \n",
       "2        2018-09-20  00007d2de826758b65a93dd24ce629ed66842531df6699...   \n",
       "3        2018-09-20  00007d2de826758b65a93dd24ce629ed66842531df6699...   \n",
       "4        2018-09-20  00007d2de826758b65a93dd24ce629ed66842531df6699...   \n",
       "...             ...                                                ...   \n",
       "31788319 2020-09-22  fff2282977442e327b45d8c89afde25617d00124d0f999...   \n",
       "31788320 2020-09-22  fff2282977442e327b45d8c89afde25617d00124d0f999...   \n",
       "31788321 2020-09-22  fff380805474b287b05cb2a7507b9a013482f7dd0bce0e...   \n",
       "31788322 2020-09-22  fff4d3a8b1f3b60af93e78c30a7cb4cf75edaf2590d3e5...   \n",
       "31788323 2020-09-22  fffef3b6b73545df065b521e19f64bf6fe93bfd450ab20...   \n",
       "\n",
       "         article_id     price  sales_channel_id  \n",
       "0         663713001  0.050831                 2  \n",
       "1         541518023  0.030492                 2  \n",
       "2         505221004  0.015237                 2  \n",
       "3         685687003  0.016932                 2  \n",
       "4         685687004  0.016932                 2  \n",
       "...             ...       ...               ...  \n",
       "31788319  929511001  0.059305                 2  \n",
       "31788320  891322004  0.042356                 2  \n",
       "31788321  918325001  0.043203                 1  \n",
       "31788322  833459002  0.006763                 1  \n",
       "31788323  898573003  0.033881                 2  \n",
       "\n",
       "[31788324 rows x 5 columns]"
      ]
     },
     "execution_count": 6,
     "metadata": {},
     "output_type": "execute_result"
    },
    {
     "data": {
      "application/javascript": [
       "\n",
       "            setTimeout(function() {\n",
       "                var nbb_cell_id = 6;\n",
       "                var nbb_unformatted_code = \"transactions_train_df = pd.read_csv(\\n    \\\"../../data/h-and-m-personalized-fashion-recommendations/transactions_train.csv\\\",\\n    parse_dates=[\\\"t_dat\\\"],\\n)\\ntransactions_train_df[\\\"customer_id\\\"] = transactions_train_df[\\\"customer_id\\\"].astype(\\n    \\\"category\\\"\\n)\\ntransactions_train_df[\\\"article_id\\\"] = transactions_train_df[\\\"article_id\\\"].astype(\\n    \\\"category\\\"\\n)\\ntransactions_train_df\";\n",
       "                var nbb_formatted_code = \"transactions_train_df = pd.read_csv(\\n    \\\"../../data/h-and-m-personalized-fashion-recommendations/transactions_train.csv\\\",\\n    parse_dates=[\\\"t_dat\\\"],\\n)\\ntransactions_train_df[\\\"customer_id\\\"] = transactions_train_df[\\\"customer_id\\\"].astype(\\n    \\\"category\\\"\\n)\\ntransactions_train_df[\\\"article_id\\\"] = transactions_train_df[\\\"article_id\\\"].astype(\\n    \\\"category\\\"\\n)\\ntransactions_train_df\";\n",
       "                var nbb_cells = Jupyter.notebook.get_cells();\n",
       "                for (var i = 0; i < nbb_cells.length; ++i) {\n",
       "                    if (nbb_cells[i].input_prompt_number == nbb_cell_id) {\n",
       "                        if (nbb_cells[i].get_text() == nbb_unformatted_code) {\n",
       "                             nbb_cells[i].set_text(nbb_formatted_code);\n",
       "                        }\n",
       "                        break;\n",
       "                    }\n",
       "                }\n",
       "            }, 500);\n",
       "            "
      ],
      "text/plain": [
       "<IPython.core.display.Javascript object>"
      ]
     },
     "metadata": {},
     "output_type": "display_data"
    }
   ],
   "source": [
    "transactions_train_df = pd.read_csv(\n",
    "    \"../../data/h-and-m-personalized-fashion-recommendations/transactions_train.csv\",\n",
    "    parse_dates=[\"t_dat\"],\n",
    ")\n",
    "transactions_train_df[\"customer_id\"] = transactions_train_df[\"customer_id\"].astype(\n",
    "    \"category\"\n",
    ")\n",
    "transactions_train_df[\"article_id\"] = transactions_train_df[\"article_id\"].astype(\n",
    "    \"category\"\n",
    ")\n",
    "transactions_train_df"
   ]
  },
  {
   "cell_type": "code",
   "execution_count": 7,
   "id": "d9af5152",
   "metadata": {
    "ExecuteTime": {
     "end_time": "2022-10-29T17:49:49.715789Z",
     "start_time": "2022-10-29T17:49:48.273290Z"
    }
   },
   "outputs": [
    {
     "data": {
      "text/html": [
       "<div>\n",
       "<style scoped>\n",
       "    .dataframe tbody tr th:only-of-type {\n",
       "        vertical-align: middle;\n",
       "    }\n",
       "\n",
       "    .dataframe tbody tr th {\n",
       "        vertical-align: top;\n",
       "    }\n",
       "\n",
       "    .dataframe thead th {\n",
       "        text-align: right;\n",
       "    }\n",
       "</style>\n",
       "<table border=\"1\" class=\"dataframe\">\n",
       "  <thead>\n",
       "    <tr style=\"text-align: right;\">\n",
       "      <th></th>\n",
       "      <th>customer_id</th>\n",
       "      <th>prediction</th>\n",
       "    </tr>\n",
       "  </thead>\n",
       "  <tbody>\n",
       "    <tr>\n",
       "      <th>0</th>\n",
       "      <td>00000dbacae5abe5e23885899a1fa44253a17956c6d1c3...</td>\n",
       "      <td>0706016001 0706016002 0372860001 0610776002 07...</td>\n",
       "    </tr>\n",
       "    <tr>\n",
       "      <th>1</th>\n",
       "      <td>0000423b00ade91418cceaf3b26c6af3dd342b51fd051e...</td>\n",
       "      <td>0706016001 0706016002 0372860001 0610776002 07...</td>\n",
       "    </tr>\n",
       "    <tr>\n",
       "      <th>2</th>\n",
       "      <td>000058a12d5b43e67d225668fa1f8d618c13dc232df0ca...</td>\n",
       "      <td>0706016001 0706016002 0372860001 0610776002 07...</td>\n",
       "    </tr>\n",
       "    <tr>\n",
       "      <th>3</th>\n",
       "      <td>00005ca1c9ed5f5146b52ac8639a40ca9d57aeff4d1bd2...</td>\n",
       "      <td>0706016001 0706016002 0372860001 0610776002 07...</td>\n",
       "    </tr>\n",
       "    <tr>\n",
       "      <th>4</th>\n",
       "      <td>00006413d8573cd20ed7128e53b7b13819fe5cfc2d801f...</td>\n",
       "      <td>0706016001 0706016002 0372860001 0610776002 07...</td>\n",
       "    </tr>\n",
       "    <tr>\n",
       "      <th>...</th>\n",
       "      <td>...</td>\n",
       "      <td>...</td>\n",
       "    </tr>\n",
       "    <tr>\n",
       "      <th>1371975</th>\n",
       "      <td>ffffbbf78b6eaac697a8a5dfbfd2bfa8113ee5b403e474...</td>\n",
       "      <td>0706016001 0706016002 0372860001 0610776002 07...</td>\n",
       "    </tr>\n",
       "    <tr>\n",
       "      <th>1371976</th>\n",
       "      <td>ffffcd5046a6143d29a04fb8c424ce494a76e5cdf4fab5...</td>\n",
       "      <td>0706016001 0706016002 0372860001 0610776002 07...</td>\n",
       "    </tr>\n",
       "    <tr>\n",
       "      <th>1371977</th>\n",
       "      <td>ffffcf35913a0bee60e8741cb2b4e78b8a98ee5ff2e6a1...</td>\n",
       "      <td>0706016001 0706016002 0372860001 0610776002 07...</td>\n",
       "    </tr>\n",
       "    <tr>\n",
       "      <th>1371978</th>\n",
       "      <td>ffffd7744cebcf3aca44ae7049d2a94b87074c3d4ffe38...</td>\n",
       "      <td>0706016001 0706016002 0372860001 0610776002 07...</td>\n",
       "    </tr>\n",
       "    <tr>\n",
       "      <th>1371979</th>\n",
       "      <td>ffffd9ac14e89946416d80e791d064701994755c3ab686...</td>\n",
       "      <td>0706016001 0706016002 0372860001 0610776002 07...</td>\n",
       "    </tr>\n",
       "  </tbody>\n",
       "</table>\n",
       "<p>1371980 rows × 2 columns</p>\n",
       "</div>"
      ],
      "text/plain": [
       "                                               customer_id  \\\n",
       "0        00000dbacae5abe5e23885899a1fa44253a17956c6d1c3...   \n",
       "1        0000423b00ade91418cceaf3b26c6af3dd342b51fd051e...   \n",
       "2        000058a12d5b43e67d225668fa1f8d618c13dc232df0ca...   \n",
       "3        00005ca1c9ed5f5146b52ac8639a40ca9d57aeff4d1bd2...   \n",
       "4        00006413d8573cd20ed7128e53b7b13819fe5cfc2d801f...   \n",
       "...                                                    ...   \n",
       "1371975  ffffbbf78b6eaac697a8a5dfbfd2bfa8113ee5b403e474...   \n",
       "1371976  ffffcd5046a6143d29a04fb8c424ce494a76e5cdf4fab5...   \n",
       "1371977  ffffcf35913a0bee60e8741cb2b4e78b8a98ee5ff2e6a1...   \n",
       "1371978  ffffd7744cebcf3aca44ae7049d2a94b87074c3d4ffe38...   \n",
       "1371979  ffffd9ac14e89946416d80e791d064701994755c3ab686...   \n",
       "\n",
       "                                                prediction  \n",
       "0        0706016001 0706016002 0372860001 0610776002 07...  \n",
       "1        0706016001 0706016002 0372860001 0610776002 07...  \n",
       "2        0706016001 0706016002 0372860001 0610776002 07...  \n",
       "3        0706016001 0706016002 0372860001 0610776002 07...  \n",
       "4        0706016001 0706016002 0372860001 0610776002 07...  \n",
       "...                                                    ...  \n",
       "1371975  0706016001 0706016002 0372860001 0610776002 07...  \n",
       "1371976  0706016001 0706016002 0372860001 0610776002 07...  \n",
       "1371977  0706016001 0706016002 0372860001 0610776002 07...  \n",
       "1371978  0706016001 0706016002 0372860001 0610776002 07...  \n",
       "1371979  0706016001 0706016002 0372860001 0610776002 07...  \n",
       "\n",
       "[1371980 rows x 2 columns]"
      ]
     },
     "execution_count": 7,
     "metadata": {},
     "output_type": "execute_result"
    },
    {
     "data": {
      "application/javascript": [
       "\n",
       "            setTimeout(function() {\n",
       "                var nbb_cell_id = 7;\n",
       "                var nbb_unformatted_code = \"sample_submission_df = pd.read_csv(\\n    \\\"../../data/h-and-m-personalized-fashion-recommendations/sample_submission.csv\\\",\\n)\\nsample_submission_df\";\n",
       "                var nbb_formatted_code = \"sample_submission_df = pd.read_csv(\\n    \\\"../../data/h-and-m-personalized-fashion-recommendations/sample_submission.csv\\\",\\n)\\nsample_submission_df\";\n",
       "                var nbb_cells = Jupyter.notebook.get_cells();\n",
       "                for (var i = 0; i < nbb_cells.length; ++i) {\n",
       "                    if (nbb_cells[i].input_prompt_number == nbb_cell_id) {\n",
       "                        if (nbb_cells[i].get_text() == nbb_unformatted_code) {\n",
       "                             nbb_cells[i].set_text(nbb_formatted_code);\n",
       "                        }\n",
       "                        break;\n",
       "                    }\n",
       "                }\n",
       "            }, 500);\n",
       "            "
      ],
      "text/plain": [
       "<IPython.core.display.Javascript object>"
      ]
     },
     "metadata": {},
     "output_type": "display_data"
    }
   ],
   "source": [
    "sample_submission_df = pd.read_csv(\n",
    "    \"../../data/h-and-m-personalized-fashion-recommendations/sample_submission.csv\",\n",
    ")\n",
    "sample_submission_df"
   ]
  },
  {
   "cell_type": "markdown",
   "id": "65f1d349",
   "metadata": {},
   "source": [
    "# Prepare\n",
    "\n",
    "https://www.kaggle.com/code/julian3833/h-m-implicit-als-model-0-014?scriptVersionId=88178941&cellId=11   \n",
    "https://www.benfrederickson.com/matrix-factorization/"
   ]
  },
  {
   "cell_type": "code",
   "execution_count": 8,
   "id": "134302e1",
   "metadata": {
    "ExecuteTime": {
     "end_time": "2022-10-29T17:49:49.954264Z",
     "start_time": "2022-10-29T17:49:49.717063Z"
    }
   },
   "outputs": [
    {
     "data": {
      "text/plain": [
       "((1371980,), (105542,))"
      ]
     },
     "execution_count": 8,
     "metadata": {},
     "output_type": "execute_result"
    },
    {
     "data": {
      "application/javascript": [
       "\n",
       "            setTimeout(function() {\n",
       "                var nbb_cell_id = 8;\n",
       "                var nbb_unformatted_code = \"customers_ids, article_ids = customers_df.index.unique(), articles_df.index.unique()\\ncustomers_ids.shape, article_ids.shape\";\n",
       "                var nbb_formatted_code = \"customers_ids, article_ids = customers_df.index.unique(), articles_df.index.unique()\\ncustomers_ids.shape, article_ids.shape\";\n",
       "                var nbb_cells = Jupyter.notebook.get_cells();\n",
       "                for (var i = 0; i < nbb_cells.length; ++i) {\n",
       "                    if (nbb_cells[i].input_prompt_number == nbb_cell_id) {\n",
       "                        if (nbb_cells[i].get_text() == nbb_unformatted_code) {\n",
       "                             nbb_cells[i].set_text(nbb_formatted_code);\n",
       "                        }\n",
       "                        break;\n",
       "                    }\n",
       "                }\n",
       "            }, 500);\n",
       "            "
      ],
      "text/plain": [
       "<IPython.core.display.Javascript object>"
      ]
     },
     "metadata": {},
     "output_type": "display_data"
    }
   ],
   "source": [
    "customers_ids, article_ids = customers_df.index.unique(), articles_df.index.unique()\n",
    "customers_ids.shape, article_ids.shape"
   ]
  },
  {
   "cell_type": "code",
   "execution_count": 9,
   "id": "846dcc65",
   "metadata": {
    "ExecuteTime": {
     "end_time": "2022-10-29T17:49:50.163005Z",
     "start_time": "2022-10-29T17:49:49.955374Z"
    }
   },
   "outputs": [
    {
     "data": {
      "text/plain": [
       "<104547x1362281 sparse matrix of type '<class 'numpy.float64'>'\n",
       "\twith 31788324 stored elements in COOrdinate format>"
      ]
     },
     "execution_count": 9,
     "metadata": {},
     "output_type": "execute_result"
    },
    {
     "data": {
      "application/javascript": [
       "\n",
       "            setTimeout(function() {\n",
       "                var nbb_cell_id = 9;\n",
       "                var nbb_unformatted_code = \"# Trains the model on a sparse matrix of item/user/weight\\n# https://implicit.readthedocs.io/en/latest/models.html#implicit.recommender_base.RecommenderBase.fit\\n\\nrow = transactions_train_df[\\\"article_id\\\"].cat.codes\\ncol = transactions_train_df[\\\"customer_id\\\"].cat.codes\\n\\ndata = np.ones(transactions_train_df.shape[0])\\n\\ncoo_transactions = coo_matrix((data, (row, col)))\\ncoo_transactions\";\n",
       "                var nbb_formatted_code = \"# Trains the model on a sparse matrix of item/user/weight\\n# https://implicit.readthedocs.io/en/latest/models.html#implicit.recommender_base.RecommenderBase.fit\\n\\nrow = transactions_train_df[\\\"article_id\\\"].cat.codes\\ncol = transactions_train_df[\\\"customer_id\\\"].cat.codes\\n\\ndata = np.ones(transactions_train_df.shape[0])\\n\\ncoo_transactions = coo_matrix((data, (row, col)))\\ncoo_transactions\";\n",
       "                var nbb_cells = Jupyter.notebook.get_cells();\n",
       "                for (var i = 0; i < nbb_cells.length; ++i) {\n",
       "                    if (nbb_cells[i].input_prompt_number == nbb_cell_id) {\n",
       "                        if (nbb_cells[i].get_text() == nbb_unformatted_code) {\n",
       "                             nbb_cells[i].set_text(nbb_formatted_code);\n",
       "                        }\n",
       "                        break;\n",
       "                    }\n",
       "                }\n",
       "            }, 500);\n",
       "            "
      ],
      "text/plain": [
       "<IPython.core.display.Javascript object>"
      ]
     },
     "metadata": {},
     "output_type": "display_data"
    }
   ],
   "source": [
    "# Trains the model on a sparse matrix of item/user/weight\n",
    "# https://implicit.readthedocs.io/en/latest/models.html#implicit.recommender_base.RecommenderBase.fit\n",
    "\n",
    "row = transactions_train_df[\"article_id\"].cat.codes\n",
    "col = transactions_train_df[\"customer_id\"].cat.codes\n",
    "\n",
    "data = np.ones(transactions_train_df.shape[0])\n",
    "\n",
    "coo_transactions = coo_matrix((data, (row, col)))\n",
    "coo_transactions"
   ]
  },
  {
   "cell_type": "markdown",
   "id": "b0435137",
   "metadata": {},
   "source": [
    "# Train"
   ]
  },
  {
   "cell_type": "code",
   "execution_count": 10,
   "id": "5016e740",
   "metadata": {
    "ExecuteTime": {
     "end_time": "2022-10-29T17:49:59.569408Z",
     "start_time": "2022-10-29T17:49:50.165948Z"
    }
   },
   "outputs": [
    {
     "data": {
      "application/vnd.jupyter.widget-view+json": {
       "model_id": "ac9a5163b96a46a6967ac6c4420e0501",
       "version_major": 2,
       "version_minor": 0
      },
      "text/plain": [
       "  0%|          | 0/15 [00:00<?, ?it/s]"
      ]
     },
     "metadata": {},
     "output_type": "display_data"
    },
    {
     "data": {
      "application/javascript": [
       "\n",
       "            setTimeout(function() {\n",
       "                var nbb_cell_id = 10;\n",
       "                var nbb_unformatted_code = \"model = implicit.als.AlternatingLeastSquares(factors=50)\\nmodel.fit(coo_transactions)\";\n",
       "                var nbb_formatted_code = \"model = implicit.als.AlternatingLeastSquares(factors=50)\\nmodel.fit(coo_transactions)\";\n",
       "                var nbb_cells = Jupyter.notebook.get_cells();\n",
       "                for (var i = 0; i < nbb_cells.length; ++i) {\n",
       "                    if (nbb_cells[i].input_prompt_number == nbb_cell_id) {\n",
       "                        if (nbb_cells[i].get_text() == nbb_unformatted_code) {\n",
       "                             nbb_cells[i].set_text(nbb_formatted_code);\n",
       "                        }\n",
       "                        break;\n",
       "                    }\n",
       "                }\n",
       "            }, 500);\n",
       "            "
      ],
      "text/plain": [
       "<IPython.core.display.Javascript object>"
      ]
     },
     "metadata": {},
     "output_type": "display_data"
    }
   ],
   "source": [
    "model = implicit.als.AlternatingLeastSquares(factors=50)\n",
    "model.fit(coo_transactions)"
   ]
  },
  {
   "cell_type": "code",
   "execution_count": 11,
   "id": "7ec3a958",
   "metadata": {
    "ExecuteTime": {
     "end_time": "2022-10-29T17:50:00.996163Z",
     "start_time": "2022-10-29T17:49:59.570253Z"
    }
   },
   "outputs": [
    {
     "data": {
      "text/plain": [
       "<1362281x104547 sparse matrix of type '<class 'numpy.float64'>'\n",
       "\twith 27306439 stored elements in Compressed Sparse Row format>"
      ]
     },
     "execution_count": 11,
     "metadata": {},
     "output_type": "execute_result"
    },
    {
     "data": {
      "application/javascript": [
       "\n",
       "            setTimeout(function() {\n",
       "                var nbb_cell_id = 11;\n",
       "                var nbb_unformatted_code = \"csr_transactions = coo_transactions.T.tocsr()\\ncsr_transactions\";\n",
       "                var nbb_formatted_code = \"csr_transactions = coo_transactions.T.tocsr()\\ncsr_transactions\";\n",
       "                var nbb_cells = Jupyter.notebook.get_cells();\n",
       "                for (var i = 0; i < nbb_cells.length; ++i) {\n",
       "                    if (nbb_cells[i].input_prompt_number == nbb_cell_id) {\n",
       "                        if (nbb_cells[i].get_text() == nbb_unformatted_code) {\n",
       "                             nbb_cells[i].set_text(nbb_formatted_code);\n",
       "                        }\n",
       "                        break;\n",
       "                    }\n",
       "                }\n",
       "            }, 500);\n",
       "            "
      ],
      "text/plain": [
       "<IPython.core.display.Javascript object>"
      ]
     },
     "metadata": {},
     "output_type": "display_data"
    }
   ],
   "source": [
    "csr_transactions = coo_transactions.T.tocsr()\n",
    "csr_transactions"
   ]
  },
  {
   "cell_type": "code",
   "execution_count": 12,
   "id": "189e6705",
   "metadata": {
    "ExecuteTime": {
     "end_time": "2022-10-29T17:50:03.191667Z",
     "start_time": "2022-10-29T17:50:00.997399Z"
    }
   },
   "outputs": [
    {
     "data": {
      "text/plain": [
       "1362280"
      ]
     },
     "execution_count": 12,
     "metadata": {},
     "output_type": "execute_result"
    },
    {
     "data": {
      "application/javascript": [
       "\n",
       "            setTimeout(function() {\n",
       "                var nbb_cell_id = 12;\n",
       "                var nbb_unformatted_code = \"max(col)\";\n",
       "                var nbb_formatted_code = \"max(col)\";\n",
       "                var nbb_cells = Jupyter.notebook.get_cells();\n",
       "                for (var i = 0; i < nbb_cells.length; ++i) {\n",
       "                    if (nbb_cells[i].input_prompt_number == nbb_cell_id) {\n",
       "                        if (nbb_cells[i].get_text() == nbb_unformatted_code) {\n",
       "                             nbb_cells[i].set_text(nbb_formatted_code);\n",
       "                        }\n",
       "                        break;\n",
       "                    }\n",
       "                }\n",
       "            }, 500);\n",
       "            "
      ],
      "text/plain": [
       "<IPython.core.display.Javascript object>"
      ]
     },
     "metadata": {},
     "output_type": "display_data"
    }
   ],
   "source": [
    "max(col)"
   ]
  },
  {
   "cell_type": "code",
   "execution_count": 13,
   "id": "a2703830",
   "metadata": {
    "ExecuteTime": {
     "end_time": "2022-10-29T17:50:03.214085Z",
     "start_time": "2022-10-29T17:50:03.193159Z"
    }
   },
   "outputs": [
    {
     "data": {
      "text/plain": [
       "[(53833, 0.0005609556),\n",
       " (42514, 0.0005475608),\n",
       " (9905, 0.0003685964),\n",
       " (956, 0.0003610294),\n",
       " (72626, 0.0003607236),\n",
       " (78816, 0.00029659836),\n",
       " (1467, 0.00029390445),\n",
       " (15980, 0.0002883087),\n",
       " (117, 0.0002871875),\n",
       " (22619, 0.0002796054),\n",
       " (115, 0.00027330845),\n",
       " (10633, 0.00026673847)]"
      ]
     },
     "execution_count": 13,
     "metadata": {},
     "output_type": "execute_result"
    },
    {
     "data": {
      "application/javascript": [
       "\n",
       "            setTimeout(function() {\n",
       "                var nbb_cell_id = 13;\n",
       "                var nbb_unformatted_code = \"recommendations = model.recommend(1362280, csr_transactions, N=12)  # recommend customer\\nrecommendations\";\n",
       "                var nbb_formatted_code = \"recommendations = model.recommend(1362280, csr_transactions, N=12)  # recommend customer\\nrecommendations\";\n",
       "                var nbb_cells = Jupyter.notebook.get_cells();\n",
       "                for (var i = 0; i < nbb_cells.length; ++i) {\n",
       "                    if (nbb_cells[i].input_prompt_number == nbb_cell_id) {\n",
       "                        if (nbb_cells[i].get_text() == nbb_unformatted_code) {\n",
       "                             nbb_cells[i].set_text(nbb_formatted_code);\n",
       "                        }\n",
       "                        break;\n",
       "                    }\n",
       "                }\n",
       "            }, 500);\n",
       "            "
      ],
      "text/plain": [
       "<IPython.core.display.Javascript object>"
      ]
     },
     "metadata": {},
     "output_type": "display_data"
    }
   ],
   "source": [
    "recommendations = model.recommend(1362280, csr_transactions, N=12)  # recommend customer\n",
    "recommendations"
   ]
  },
  {
   "cell_type": "code",
   "execution_count": 14,
   "id": "7c49fcf6",
   "metadata": {
    "ExecuteTime": {
     "end_time": "2022-10-29T17:50:05.304288Z",
     "start_time": "2022-10-29T17:50:03.215628Z"
    }
   },
   "outputs": [
    {
     "data": {
      "text/plain": [
       "104546"
      ]
     },
     "execution_count": 14,
     "metadata": {},
     "output_type": "execute_result"
    },
    {
     "data": {
      "application/javascript": [
       "\n",
       "            setTimeout(function() {\n",
       "                var nbb_cell_id = 14;\n",
       "                var nbb_unformatted_code = \"max(row)\";\n",
       "                var nbb_formatted_code = \"max(row)\";\n",
       "                var nbb_cells = Jupyter.notebook.get_cells();\n",
       "                for (var i = 0; i < nbb_cells.length; ++i) {\n",
       "                    if (nbb_cells[i].input_prompt_number == nbb_cell_id) {\n",
       "                        if (nbb_cells[i].get_text() == nbb_unformatted_code) {\n",
       "                             nbb_cells[i].set_text(nbb_formatted_code);\n",
       "                        }\n",
       "                        break;\n",
       "                    }\n",
       "                }\n",
       "            }, 500);\n",
       "            "
      ],
      "text/plain": [
       "<IPython.core.display.Javascript object>"
      ]
     },
     "metadata": {},
     "output_type": "display_data"
    }
   ],
   "source": [
    "max(row)"
   ]
  },
  {
   "cell_type": "code",
   "execution_count": 15,
   "id": "b2204516",
   "metadata": {
    "ExecuteTime": {
     "end_time": "2022-10-29T17:50:05.326510Z",
     "start_time": "2022-10-29T17:50:05.305739Z"
    }
   },
   "outputs": [
    {
     "data": {
      "text/plain": [
       "[(104546, 1.0),\n",
       " (84788, 0.9075138),\n",
       " (103311, 0.90301347),\n",
       " (70947, 0.896247),\n",
       " (77010, 0.892503),\n",
       " (92562, 0.8847342),\n",
       " (84834, 0.88254946),\n",
       " (70948, 0.88209087),\n",
       " (104137, 0.88116115),\n",
       " (76005, 0.88045853)]"
      ]
     },
     "execution_count": 15,
     "metadata": {},
     "output_type": "execute_result"
    },
    {
     "data": {
      "application/javascript": [
       "\n",
       "            setTimeout(function() {\n",
       "                var nbb_cell_id = 15;\n",
       "                var nbb_unformatted_code = \"model.similar_items(104546)  # similar article\";\n",
       "                var nbb_formatted_code = \"model.similar_items(104546)  # similar article\";\n",
       "                var nbb_cells = Jupyter.notebook.get_cells();\n",
       "                for (var i = 0; i < nbb_cells.length; ++i) {\n",
       "                    if (nbb_cells[i].input_prompt_number == nbb_cell_id) {\n",
       "                        if (nbb_cells[i].get_text() == nbb_unformatted_code) {\n",
       "                             nbb_cells[i].set_text(nbb_formatted_code);\n",
       "                        }\n",
       "                        break;\n",
       "                    }\n",
       "                }\n",
       "            }, 500);\n",
       "            "
      ],
      "text/plain": [
       "<IPython.core.display.Javascript object>"
      ]
     },
     "metadata": {},
     "output_type": "display_data"
    }
   ],
   "source": [
    "model.similar_items(104546)  # similar article"
   ]
  },
  {
   "cell_type": "markdown",
   "id": "7d7fce25",
   "metadata": {},
   "source": [
    "# Predict"
   ]
  },
  {
   "cell_type": "code",
   "execution_count": 16,
   "id": "8ec395a6",
   "metadata": {
    "ExecuteTime": {
     "end_time": "2022-10-29T17:50:13.355732Z",
     "start_time": "2022-10-29T17:50:05.327896Z"
    }
   },
   "outputs": [
    {
     "data": {
      "text/plain": [
       "1362281"
      ]
     },
     "execution_count": 16,
     "metadata": {},
     "output_type": "execute_result"
    },
    {
     "data": {
      "application/javascript": [
       "\n",
       "            setTimeout(function() {\n",
       "                var nbb_cell_id = 16;\n",
       "                var nbb_unformatted_code = \"customer_code_list = dict(\\n    zip(\\n        transactions_train_df[\\\"customer_id\\\"],\\n        transactions_train_df[\\\"customer_id\\\"].cat.codes,\\n    )\\n)\\nlen(customer_code_list)\";\n",
       "                var nbb_formatted_code = \"customer_code_list = dict(\\n    zip(\\n        transactions_train_df[\\\"customer_id\\\"],\\n        transactions_train_df[\\\"customer_id\\\"].cat.codes,\\n    )\\n)\\nlen(customer_code_list)\";\n",
       "                var nbb_cells = Jupyter.notebook.get_cells();\n",
       "                for (var i = 0; i < nbb_cells.length; ++i) {\n",
       "                    if (nbb_cells[i].input_prompt_number == nbb_cell_id) {\n",
       "                        if (nbb_cells[i].get_text() == nbb_unformatted_code) {\n",
       "                             nbb_cells[i].set_text(nbb_formatted_code);\n",
       "                        }\n",
       "                        break;\n",
       "                    }\n",
       "                }\n",
       "            }, 500);\n",
       "            "
      ],
      "text/plain": [
       "<IPython.core.display.Javascript object>"
      ]
     },
     "metadata": {},
     "output_type": "display_data"
    }
   ],
   "source": [
    "customer_code_list = dict(\n",
    "    zip(\n",
    "        transactions_train_df[\"customer_id\"],\n",
    "        transactions_train_df[\"customer_id\"].cat.codes,\n",
    "    )\n",
    ")\n",
    "len(customer_code_list)"
   ]
  },
  {
   "cell_type": "code",
   "execution_count": 17,
   "id": "c4069813",
   "metadata": {
    "ExecuteTime": {
     "end_time": "2022-10-29T17:50:17.324904Z",
     "start_time": "2022-10-29T17:50:13.356886Z"
    }
   },
   "outputs": [
    {
     "data": {
      "text/plain": [
       "104547"
      ]
     },
     "execution_count": 17,
     "metadata": {},
     "output_type": "execute_result"
    },
    {
     "data": {
      "application/javascript": [
       "\n",
       "            setTimeout(function() {\n",
       "                var nbb_cell_id = 17;\n",
       "                var nbb_unformatted_code = \"article_code_list = dict(\\n    zip(\\n        transactions_train_df[\\\"article_id\\\"].cat.codes,\\n        transactions_train_df[\\\"article_id\\\"],\\n    )\\n)\\nlen(article_code_list)\";\n",
       "                var nbb_formatted_code = \"article_code_list = dict(\\n    zip(\\n        transactions_train_df[\\\"article_id\\\"].cat.codes,\\n        transactions_train_df[\\\"article_id\\\"],\\n    )\\n)\\nlen(article_code_list)\";\n",
       "                var nbb_cells = Jupyter.notebook.get_cells();\n",
       "                for (var i = 0; i < nbb_cells.length; ++i) {\n",
       "                    if (nbb_cells[i].input_prompt_number == nbb_cell_id) {\n",
       "                        if (nbb_cells[i].get_text() == nbb_unformatted_code) {\n",
       "                             nbb_cells[i].set_text(nbb_formatted_code);\n",
       "                        }\n",
       "                        break;\n",
       "                    }\n",
       "                }\n",
       "            }, 500);\n",
       "            "
      ],
      "text/plain": [
       "<IPython.core.display.Javascript object>"
      ]
     },
     "metadata": {},
     "output_type": "display_data"
    }
   ],
   "source": [
    "article_code_list = dict(\n",
    "    zip(\n",
    "        transactions_train_df[\"article_id\"].cat.codes,\n",
    "        transactions_train_df[\"article_id\"],\n",
    "    )\n",
    ")\n",
    "len(article_code_list)"
   ]
  },
  {
   "cell_type": "code",
   "execution_count": 18,
   "id": "390e88fb",
   "metadata": {
    "ExecuteTime": {
     "end_time": "2022-10-29T17:55:38.236849Z",
     "start_time": "2022-10-29T17:50:17.326074Z"
    }
   },
   "outputs": [
    {
     "data": {
      "application/vnd.jupyter.widget-view+json": {
       "model_id": "733a493180b842f58c93b97f658e2165",
       "version_major": 2,
       "version_minor": 0
      },
      "text/plain": [
       "  0%|          | 0/1371980 [00:00<?, ?it/s]"
      ]
     },
     "metadata": {},
     "output_type": "display_data"
    },
    {
     "data": {
      "text/html": [
       "<div>\n",
       "<style scoped>\n",
       "    .dataframe tbody tr th:only-of-type {\n",
       "        vertical-align: middle;\n",
       "    }\n",
       "\n",
       "    .dataframe tbody tr th {\n",
       "        vertical-align: top;\n",
       "    }\n",
       "\n",
       "    .dataframe thead th {\n",
       "        text-align: right;\n",
       "    }\n",
       "</style>\n",
       "<table border=\"1\" class=\"dataframe\">\n",
       "  <thead>\n",
       "    <tr style=\"text-align: right;\">\n",
       "      <th></th>\n",
       "      <th>customer_id</th>\n",
       "      <th>prediction</th>\n",
       "    </tr>\n",
       "  </thead>\n",
       "  <tbody>\n",
       "    <tr>\n",
       "      <th>0</th>\n",
       "      <td>00000dbacae5abe5e23885899a1fa44253a17956c6d1c3...</td>\n",
       "      <td>568597006 568601007 568597007 448509014 507909...</td>\n",
       "    </tr>\n",
       "    <tr>\n",
       "      <th>1</th>\n",
       "      <td>0000423b00ade91418cceaf3b26c6af3dd342b51fd051e...</td>\n",
       "      <td>699080001 776237020 599580052 599580038 759871...</td>\n",
       "    </tr>\n",
       "    <tr>\n",
       "      <th>2</th>\n",
       "      <td>000058a12d5b43e67d225668fa1f8d618c13dc232df0ca...</td>\n",
       "      <td>699080001 699081001 609719001 458543001 838055...</td>\n",
       "    </tr>\n",
       "    <tr>\n",
       "      <th>3</th>\n",
       "      <td>00005ca1c9ed5f5146b52ac8639a40ca9d57aeff4d1bd2...</td>\n",
       "      <td>484398001 720125001 564786001 730683001 470789...</td>\n",
       "    </tr>\n",
       "    <tr>\n",
       "      <th>4</th>\n",
       "      <td>00006413d8573cd20ed7128e53b7b13819fe5cfc2d801f...</td>\n",
       "      <td>720125001 599580038 562245046 717490008 599580...</td>\n",
       "    </tr>\n",
       "    <tr>\n",
       "      <th>...</th>\n",
       "      <td>...</td>\n",
       "      <td>...</td>\n",
       "    </tr>\n",
       "    <tr>\n",
       "      <th>1371975</th>\n",
       "      <td>ffffbbf78b6eaac697a8a5dfbfd2bfa8113ee5b403e474...</td>\n",
       "      <td>717490008 579302001 590928001 688537011 590928...</td>\n",
       "    </tr>\n",
       "    <tr>\n",
       "      <th>1371976</th>\n",
       "      <td>ffffcd5046a6143d29a04fb8c424ce494a76e5cdf4fab5...</td>\n",
       "      <td>562245001 695632002 706016003 695632001 759871...</td>\n",
       "    </tr>\n",
       "    <tr>\n",
       "      <th>1371977</th>\n",
       "      <td>ffffcf35913a0bee60e8741cb2b4e78b8a98ee5ff2e6a1...</td>\n",
       "      <td>759871001 564786001 783346001 706016006 751471...</td>\n",
       "    </tr>\n",
       "    <tr>\n",
       "      <th>1371978</th>\n",
       "      <td>ffffd7744cebcf3aca44ae7049d2a94b87074c3d4ffe38...</td>\n",
       "      <td>448509014 448509001 448509018 799365002 714790...</td>\n",
       "    </tr>\n",
       "    <tr>\n",
       "      <th>1371979</th>\n",
       "      <td>ffffd9ac14e89946416d80e791d064701994755c3ab686...</td>\n",
       "      <td>706016002 673396002 537116001 305931001 768912...</td>\n",
       "    </tr>\n",
       "  </tbody>\n",
       "</table>\n",
       "<p>1371980 rows × 2 columns</p>\n",
       "</div>"
      ],
      "text/plain": [
       "                                               customer_id  \\\n",
       "0        00000dbacae5abe5e23885899a1fa44253a17956c6d1c3...   \n",
       "1        0000423b00ade91418cceaf3b26c6af3dd342b51fd051e...   \n",
       "2        000058a12d5b43e67d225668fa1f8d618c13dc232df0ca...   \n",
       "3        00005ca1c9ed5f5146b52ac8639a40ca9d57aeff4d1bd2...   \n",
       "4        00006413d8573cd20ed7128e53b7b13819fe5cfc2d801f...   \n",
       "...                                                    ...   \n",
       "1371975  ffffbbf78b6eaac697a8a5dfbfd2bfa8113ee5b403e474...   \n",
       "1371976  ffffcd5046a6143d29a04fb8c424ce494a76e5cdf4fab5...   \n",
       "1371977  ffffcf35913a0bee60e8741cb2b4e78b8a98ee5ff2e6a1...   \n",
       "1371978  ffffd7744cebcf3aca44ae7049d2a94b87074c3d4ffe38...   \n",
       "1371979  ffffd9ac14e89946416d80e791d064701994755c3ab686...   \n",
       "\n",
       "                                                prediction  \n",
       "0        568597006 568601007 568597007 448509014 507909...  \n",
       "1        699080001 776237020 599580052 599580038 759871...  \n",
       "2        699080001 699081001 609719001 458543001 838055...  \n",
       "3        484398001 720125001 564786001 730683001 470789...  \n",
       "4        720125001 599580038 562245046 717490008 599580...  \n",
       "...                                                    ...  \n",
       "1371975  717490008 579302001 590928001 688537011 590928...  \n",
       "1371976  562245001 695632002 706016003 695632001 759871...  \n",
       "1371977  759871001 564786001 783346001 706016006 751471...  \n",
       "1371978  448509014 448509001 448509018 799365002 714790...  \n",
       "1371979  706016002 673396002 537116001 305931001 768912...  \n",
       "\n",
       "[1371980 rows x 2 columns]"
      ]
     },
     "execution_count": 18,
     "metadata": {},
     "output_type": "execute_result"
    },
    {
     "data": {
      "application/javascript": [
       "\n",
       "            setTimeout(function() {\n",
       "                var nbb_cell_id = 18;\n",
       "                var nbb_unformatted_code = \"data = []\\n\\nfor customer_uid in tqdm(sample_submission_df[\\\"customer_id\\\"].unique()):\\n    prediction = []\\n\\n    if customer_uid in customer_code_list:\\n        customer_code = customer_code_list[customer_uid]\\n\\n        rec = model.recommend(customer_code, csr_transactions, N=12)\\n        article_code_ids = np.array(rec)[:, 0].astype(int)\\n\\n        prediction = [str(article_code_list[x]) for x in article_code_ids]\\n\\n    data.append((customer_uid, \\\" \\\".join(prediction)))\\n\\nsubmission_df = pd.DataFrame(data, columns=[\\\"customer_id\\\", \\\"prediction\\\"])\\nsubmission_df\";\n",
       "                var nbb_formatted_code = \"data = []\\n\\nfor customer_uid in tqdm(sample_submission_df[\\\"customer_id\\\"].unique()):\\n    prediction = []\\n\\n    if customer_uid in customer_code_list:\\n        customer_code = customer_code_list[customer_uid]\\n\\n        rec = model.recommend(customer_code, csr_transactions, N=12)\\n        article_code_ids = np.array(rec)[:, 0].astype(int)\\n\\n        prediction = [str(article_code_list[x]) for x in article_code_ids]\\n\\n    data.append((customer_uid, \\\" \\\".join(prediction)))\\n\\nsubmission_df = pd.DataFrame(data, columns=[\\\"customer_id\\\", \\\"prediction\\\"])\\nsubmission_df\";\n",
       "                var nbb_cells = Jupyter.notebook.get_cells();\n",
       "                for (var i = 0; i < nbb_cells.length; ++i) {\n",
       "                    if (nbb_cells[i].input_prompt_number == nbb_cell_id) {\n",
       "                        if (nbb_cells[i].get_text() == nbb_unformatted_code) {\n",
       "                             nbb_cells[i].set_text(nbb_formatted_code);\n",
       "                        }\n",
       "                        break;\n",
       "                    }\n",
       "                }\n",
       "            }, 500);\n",
       "            "
      ],
      "text/plain": [
       "<IPython.core.display.Javascript object>"
      ]
     },
     "metadata": {},
     "output_type": "display_data"
    }
   ],
   "source": [
    "data = []\n",
    "\n",
    "for customer_uid in tqdm(sample_submission_df[\"customer_id\"].unique()):\n",
    "    prediction = []\n",
    "\n",
    "    if customer_uid in customer_code_list:\n",
    "        customer_code = customer_code_list[customer_uid]\n",
    "\n",
    "        rec = model.recommend(customer_code, csr_transactions, N=12)\n",
    "        article_code_ids = np.array(rec)[:, 0].astype(int)\n",
    "\n",
    "        prediction = [str(article_code_list[x]) for x in article_code_ids]\n",
    "\n",
    "    data.append((customer_uid, \" \".join(prediction)))\n",
    "\n",
    "submission_df = pd.DataFrame(data, columns=[\"customer_id\", \"prediction\"])\n",
    "submission_df"
   ]
  },
  {
   "cell_type": "code",
   "execution_count": 19,
   "id": "a16301e6",
   "metadata": {
    "ExecuteTime": {
     "end_time": "2022-10-29T17:55:53.072902Z",
     "start_time": "2022-10-29T17:55:38.238170Z"
    }
   },
   "outputs": [
    {
     "data": {
      "application/javascript": [
       "\n",
       "            setTimeout(function() {\n",
       "                var nbb_cell_id = 19;\n",
       "                var nbb_unformatted_code = \"submission_df.to_csv(\\n    \\\"../../data/h-and-m-personalized-fashion-recommendations/submission.csv.gz\\\",\\n    index=False,\\n    compression=\\\"gzip\\\",\\n)\";\n",
       "                var nbb_formatted_code = \"submission_df.to_csv(\\n    \\\"../../data/h-and-m-personalized-fashion-recommendations/submission.csv.gz\\\",\\n    index=False,\\n    compression=\\\"gzip\\\",\\n)\";\n",
       "                var nbb_cells = Jupyter.notebook.get_cells();\n",
       "                for (var i = 0; i < nbb_cells.length; ++i) {\n",
       "                    if (nbb_cells[i].input_prompt_number == nbb_cell_id) {\n",
       "                        if (nbb_cells[i].get_text() == nbb_unformatted_code) {\n",
       "                             nbb_cells[i].set_text(nbb_formatted_code);\n",
       "                        }\n",
       "                        break;\n",
       "                    }\n",
       "                }\n",
       "            }, 500);\n",
       "            "
      ],
      "text/plain": [
       "<IPython.core.display.Javascript object>"
      ]
     },
     "metadata": {},
     "output_type": "display_data"
    }
   ],
   "source": [
    "submission_df.to_csv(\n",
    "    \"../../data/h-and-m-personalized-fashion-recommendations/submission.csv.gz\",\n",
    "    index=False,\n",
    "    compression=\"gzip\",\n",
    ")"
   ]
  },
  {
   "cell_type": "code",
   "execution_count": null,
   "id": "c1f14d58",
   "metadata": {},
   "outputs": [],
   "source": []
  },
  {
   "cell_type": "code",
   "execution_count": null,
   "id": "3e327cf1",
   "metadata": {},
   "outputs": [],
   "source": []
  },
  {
   "cell_type": "code",
   "execution_count": null,
   "id": "4f3ebb7e",
   "metadata": {},
   "outputs": [],
   "source": []
  },
  {
   "cell_type": "code",
   "execution_count": null,
   "id": "2a59d5ff",
   "metadata": {},
   "outputs": [],
   "source": []
  }
 ],
 "metadata": {
  "kernelspec": {
   "display_name": "Python 3 (ipykernel)",
   "language": "python",
   "name": "python3"
  },
  "language_info": {
   "codemirror_mode": {
    "name": "ipython",
    "version": 3
   },
   "file_extension": ".py",
   "mimetype": "text/x-python",
   "name": "python",
   "nbconvert_exporter": "python",
   "pygments_lexer": "ipython3",
   "version": "3.9.13"
  }
 },
 "nbformat": 4,
 "nbformat_minor": 5
}
