{
 "cells": [
  {
   "cell_type": "markdown",
   "id": "14067006",
   "metadata": {},
   "source": [
    "# Train data preprocessing"
   ]
  },
  {
   "cell_type": "code",
   "execution_count": 1,
   "id": "8ec3594e",
   "metadata": {
    "ExecuteTime": {
     "end_time": "2022-09-05T17:38:09.661906Z",
     "start_time": "2022-09-05T17:38:07.825642Z"
    }
   },
   "outputs": [],
   "source": [
    "import gc\n",
    "import sqlite3\n",
    "\n",
    "import numpy as np\n",
    "import pandas as pd\n",
    "from tqdm.notebook import tqdm\n",
    "\n",
    "from preprocessing import process_v2"
   ]
  },
  {
   "cell_type": "code",
   "execution_count": 2,
   "id": "a7e400b9",
   "metadata": {
    "ExecuteTime": {
     "end_time": "2022-09-05T17:38:09.717054Z",
     "start_time": "2022-09-05T17:38:09.663392Z"
    }
   },
   "outputs": [
    {
     "data": {
      "application/javascript": [
       "\n",
       "            setTimeout(function() {\n",
       "                var nbb_cell_id = 2;\n",
       "                var nbb_unformatted_code = \"%load_ext nb_black\";\n",
       "                var nbb_formatted_code = \"%load_ext nb_black\";\n",
       "                var nbb_cells = Jupyter.notebook.get_cells();\n",
       "                for (var i = 0; i < nbb_cells.length; ++i) {\n",
       "                    if (nbb_cells[i].input_prompt_number == nbb_cell_id) {\n",
       "                        if (nbb_cells[i].get_text() == nbb_unformatted_code) {\n",
       "                             nbb_cells[i].set_text(nbb_formatted_code);\n",
       "                        }\n",
       "                        break;\n",
       "                    }\n",
       "                }\n",
       "            }, 500);\n",
       "            "
      ],
      "text/plain": [
       "<IPython.core.display.Javascript object>"
      ]
     },
     "metadata": {},
     "output_type": "display_data"
    }
   ],
   "source": [
    "%load_ext nb_black"
   ]
  },
  {
   "cell_type": "code",
   "execution_count": 3,
   "id": "d7b26de8",
   "metadata": {
    "ExecuteTime": {
     "end_time": "2022-09-05T17:38:09.723633Z",
     "start_time": "2022-09-05T17:38:09.718273Z"
    }
   },
   "outputs": [
    {
     "data": {
      "text/plain": [
       "<sqlite3.Connection at 0x7fa76fc7b990>"
      ]
     },
     "execution_count": 3,
     "metadata": {},
     "output_type": "execute_result"
    },
    {
     "data": {
      "application/javascript": [
       "\n",
       "            setTimeout(function() {\n",
       "                var nbb_cell_id = 3;\n",
       "                var nbb_unformatted_code = \"conn = sqlite3.connect(\\\"../../data/amex-default-prediction/amex-data.sqlite\\\")\\nconn\";\n",
       "                var nbb_formatted_code = \"conn = sqlite3.connect(\\\"../../data/amex-default-prediction/amex-data.sqlite\\\")\\nconn\";\n",
       "                var nbb_cells = Jupyter.notebook.get_cells();\n",
       "                for (var i = 0; i < nbb_cells.length; ++i) {\n",
       "                    if (nbb_cells[i].input_prompt_number == nbb_cell_id) {\n",
       "                        if (nbb_cells[i].get_text() == nbb_unformatted_code) {\n",
       "                             nbb_cells[i].set_text(nbb_formatted_code);\n",
       "                        }\n",
       "                        break;\n",
       "                    }\n",
       "                }\n",
       "            }, 500);\n",
       "            "
      ],
      "text/plain": [
       "<IPython.core.display.Javascript object>"
      ]
     },
     "metadata": {},
     "output_type": "display_data"
    }
   ],
   "source": [
    "conn = sqlite3.connect(\"../../data/amex-default-prediction/amex-data.sqlite\")\n",
    "conn"
   ]
  },
  {
   "cell_type": "code",
   "execution_count": 4,
   "id": "f3255165",
   "metadata": {
    "ExecuteTime": {
     "end_time": "2022-09-05T17:38:09.730334Z",
     "start_time": "2022-09-05T17:38:09.726045Z"
    }
   },
   "outputs": [
    {
     "data": {
      "application/javascript": [
       "\n",
       "            setTimeout(function() {\n",
       "                var nbb_cell_id = 4;\n",
       "                var nbb_unformatted_code = \"CHUNK_SIZE = 30000\";\n",
       "                var nbb_formatted_code = \"CHUNK_SIZE = 30000\";\n",
       "                var nbb_cells = Jupyter.notebook.get_cells();\n",
       "                for (var i = 0; i < nbb_cells.length; ++i) {\n",
       "                    if (nbb_cells[i].input_prompt_number == nbb_cell_id) {\n",
       "                        if (nbb_cells[i].get_text() == nbb_unformatted_code) {\n",
       "                             nbb_cells[i].set_text(nbb_formatted_code);\n",
       "                        }\n",
       "                        break;\n",
       "                    }\n",
       "                }\n",
       "            }, 500);\n",
       "            "
      ],
      "text/plain": [
       "<IPython.core.display.Javascript object>"
      ]
     },
     "metadata": {},
     "output_type": "display_data"
    }
   ],
   "source": [
    "CHUNK_SIZE = 30000"
   ]
  },
  {
   "cell_type": "markdown",
   "id": "f7c3ab9c",
   "metadata": {
    "ExecuteTime": {
     "end_time": "2022-09-04T17:18:57.750889Z",
     "start_time": "2022-09-04T17:18:57.746762Z"
    }
   },
   "source": [
    "# Train"
   ]
  },
  {
   "cell_type": "code",
   "execution_count": 5,
   "id": "b7cb9c8d",
   "metadata": {
    "ExecuteTime": {
     "end_time": "2022-09-05T17:38:10.212048Z",
     "start_time": "2022-09-05T17:38:09.731640Z"
    }
   },
   "outputs": [
    {
     "data": {
      "text/html": [
       "<div>\n",
       "<style scoped>\n",
       "    .dataframe tbody tr th:only-of-type {\n",
       "        vertical-align: middle;\n",
       "    }\n",
       "\n",
       "    .dataframe tbody tr th {\n",
       "        vertical-align: top;\n",
       "    }\n",
       "\n",
       "    .dataframe thead th {\n",
       "        text-align: right;\n",
       "    }\n",
       "</style>\n",
       "<table border=\"1\" class=\"dataframe\">\n",
       "  <thead>\n",
       "    <tr style=\"text-align: right;\">\n",
       "      <th></th>\n",
       "      <th>customer_ID</th>\n",
       "    </tr>\n",
       "  </thead>\n",
       "  <tbody>\n",
       "    <tr>\n",
       "      <th>0</th>\n",
       "      <td>0000099d6bd597052cdcda90ffabf56573fe9d7c79be5f...</td>\n",
       "    </tr>\n",
       "    <tr>\n",
       "      <th>1</th>\n",
       "      <td>00000fd6641609c6ece5454664794f0340ad84dddce9a2...</td>\n",
       "    </tr>\n",
       "    <tr>\n",
       "      <th>2</th>\n",
       "      <td>00001b22f846c82c51f6e3958ccd81970162bae8b007e8...</td>\n",
       "    </tr>\n",
       "    <tr>\n",
       "      <th>3</th>\n",
       "      <td>000041bdba6ecadd89a52d11886e8eaaec9325906c9723...</td>\n",
       "    </tr>\n",
       "    <tr>\n",
       "      <th>4</th>\n",
       "      <td>00007889e4fcd2614b6cbe7f8f3d2e5c728eca32d9eb8a...</td>\n",
       "    </tr>\n",
       "    <tr>\n",
       "      <th>...</th>\n",
       "      <td>...</td>\n",
       "    </tr>\n",
       "    <tr>\n",
       "      <th>458908</th>\n",
       "      <td>ffff41c8a52833b56430603969b9ca48d208e7c192c6a4...</td>\n",
       "    </tr>\n",
       "    <tr>\n",
       "      <th>458909</th>\n",
       "      <td>ffff518bb2075e4816ee3fe9f3b152c57fc0e6f01bf7fd...</td>\n",
       "    </tr>\n",
       "    <tr>\n",
       "      <th>458910</th>\n",
       "      <td>ffff9984b999fccb2b6127635ed0736dda94e544e67e02...</td>\n",
       "    </tr>\n",
       "    <tr>\n",
       "      <th>458911</th>\n",
       "      <td>ffffa5c46bc8de74f5a4554e74e239c8dee6b9baf38814...</td>\n",
       "    </tr>\n",
       "    <tr>\n",
       "      <th>458912</th>\n",
       "      <td>fffff1d38b785cef84adeace64f8f83db3a0c31e8d92ea...</td>\n",
       "    </tr>\n",
       "  </tbody>\n",
       "</table>\n",
       "<p>458913 rows × 1 columns</p>\n",
       "</div>"
      ],
      "text/plain": [
       "                                              customer_ID\n",
       "0       0000099d6bd597052cdcda90ffabf56573fe9d7c79be5f...\n",
       "1       00000fd6641609c6ece5454664794f0340ad84dddce9a2...\n",
       "2       00001b22f846c82c51f6e3958ccd81970162bae8b007e8...\n",
       "3       000041bdba6ecadd89a52d11886e8eaaec9325906c9723...\n",
       "4       00007889e4fcd2614b6cbe7f8f3d2e5c728eca32d9eb8a...\n",
       "...                                                   ...\n",
       "458908  ffff41c8a52833b56430603969b9ca48d208e7c192c6a4...\n",
       "458909  ffff518bb2075e4816ee3fe9f3b152c57fc0e6f01bf7fd...\n",
       "458910  ffff9984b999fccb2b6127635ed0736dda94e544e67e02...\n",
       "458911  ffffa5c46bc8de74f5a4554e74e239c8dee6b9baf38814...\n",
       "458912  fffff1d38b785cef84adeace64f8f83db3a0c31e8d92ea...\n",
       "\n",
       "[458913 rows x 1 columns]"
      ]
     },
     "execution_count": 5,
     "metadata": {},
     "output_type": "execute_result"
    },
    {
     "data": {
      "application/javascript": [
       "\n",
       "            setTimeout(function() {\n",
       "                var nbb_cell_id = 5;\n",
       "                var nbb_unformatted_code = \"customer_df = pd.read_sql_query(\\\"SELECT DISTINCT customer_ID FROM train_data\\\", conn)\\ncustomer_df\";\n",
       "                var nbb_formatted_code = \"customer_df = pd.read_sql_query(\\\"SELECT DISTINCT customer_ID FROM train_data\\\", conn)\\ncustomer_df\";\n",
       "                var nbb_cells = Jupyter.notebook.get_cells();\n",
       "                for (var i = 0; i < nbb_cells.length; ++i) {\n",
       "                    if (nbb_cells[i].input_prompt_number == nbb_cell_id) {\n",
       "                        if (nbb_cells[i].get_text() == nbb_unformatted_code) {\n",
       "                             nbb_cells[i].set_text(nbb_formatted_code);\n",
       "                        }\n",
       "                        break;\n",
       "                    }\n",
       "                }\n",
       "            }, 500);\n",
       "            "
      ],
      "text/plain": [
       "<IPython.core.display.Javascript object>"
      ]
     },
     "metadata": {},
     "output_type": "display_data"
    }
   ],
   "source": [
    "customer_df = pd.read_sql_query(\"SELECT DISTINCT customer_ID FROM train_data\", conn)\n",
    "customer_df"
   ]
  },
  {
   "cell_type": "code",
   "execution_count": 6,
   "id": "91499446",
   "metadata": {
    "ExecuteTime": {
     "end_time": "2022-09-05T17:38:10.221984Z",
     "start_time": "2022-09-05T17:38:10.213555Z"
    }
   },
   "outputs": [
    {
     "data": {
      "text/plain": [
       "15"
      ]
     },
     "execution_count": 6,
     "metadata": {},
     "output_type": "execute_result"
    },
    {
     "data": {
      "application/javascript": [
       "\n",
       "            setTimeout(function() {\n",
       "                var nbb_cell_id = 6;\n",
       "                var nbb_unformatted_code = \"chunks = np.array_split(\\n    customer_df[\\\"customer_ID\\\"].values, int(len(customer_df) / CHUNK_SIZE)\\n)\\nlen(chunks)\";\n",
       "                var nbb_formatted_code = \"chunks = np.array_split(\\n    customer_df[\\\"customer_ID\\\"].values, int(len(customer_df) / CHUNK_SIZE)\\n)\\nlen(chunks)\";\n",
       "                var nbb_cells = Jupyter.notebook.get_cells();\n",
       "                for (var i = 0; i < nbb_cells.length; ++i) {\n",
       "                    if (nbb_cells[i].input_prompt_number == nbb_cell_id) {\n",
       "                        if (nbb_cells[i].get_text() == nbb_unformatted_code) {\n",
       "                             nbb_cells[i].set_text(nbb_formatted_code);\n",
       "                        }\n",
       "                        break;\n",
       "                    }\n",
       "                }\n",
       "            }, 500);\n",
       "            "
      ],
      "text/plain": [
       "<IPython.core.display.Javascript object>"
      ]
     },
     "metadata": {},
     "output_type": "display_data"
    }
   ],
   "source": [
    "chunks = np.array_split(\n",
    "    customer_df[\"customer_ID\"].values, int(len(customer_df) / CHUNK_SIZE)\n",
    ")\n",
    "len(chunks)"
   ]
  },
  {
   "cell_type": "code",
   "execution_count": 7,
   "id": "589ca2c5",
   "metadata": {
    "ExecuteTime": {
     "end_time": "2022-09-05T18:03:03.933965Z",
     "start_time": "2022-09-05T17:38:10.223386Z"
    }
   },
   "outputs": [
    {
     "data": {
      "application/vnd.jupyter.widget-view+json": {
       "model_id": "50b52ced009147dd84a5a599a8a124ea",
       "version_major": 2,
       "version_minor": 0
      },
      "text/plain": [
       "  0%|          | 0/15 [00:00<?, ?it/s]"
      ]
     },
     "metadata": {},
     "output_type": "display_data"
    },
    {
     "data": {
      "application/javascript": [
       "\n",
       "            setTimeout(function() {\n",
       "                var nbb_cell_id = 7;\n",
       "                var nbb_unformatted_code = \"for idx, customer_ids in enumerate(tqdm(chunks), 1):\\n    train_sub_df = process_v2(customer_ids, conn)\\n\\n    train_sub_df.to_csv(\\n        \\\"../../data/amex-default-prediction/train/train_group_data_{}.csv\\\".format(idx)\\n    )\\n\\n    gc.collect()\";\n",
       "                var nbb_formatted_code = \"for idx, customer_ids in enumerate(tqdm(chunks), 1):\\n    train_sub_df = process_v2(customer_ids, conn)\\n\\n    train_sub_df.to_csv(\\n        \\\"../../data/amex-default-prediction/train/train_group_data_{}.csv\\\".format(idx)\\n    )\\n\\n    gc.collect()\";\n",
       "                var nbb_cells = Jupyter.notebook.get_cells();\n",
       "                for (var i = 0; i < nbb_cells.length; ++i) {\n",
       "                    if (nbb_cells[i].input_prompt_number == nbb_cell_id) {\n",
       "                        if (nbb_cells[i].get_text() == nbb_unformatted_code) {\n",
       "                             nbb_cells[i].set_text(nbb_formatted_code);\n",
       "                        }\n",
       "                        break;\n",
       "                    }\n",
       "                }\n",
       "            }, 500);\n",
       "            "
      ],
      "text/plain": [
       "<IPython.core.display.Javascript object>"
      ]
     },
     "metadata": {},
     "output_type": "display_data"
    }
   ],
   "source": [
    "for idx, customer_ids in enumerate(tqdm(chunks), 1):\n",
    "    train_sub_df = process_v2(customer_ids, conn)\n",
    "\n",
    "    train_sub_df.to_csv(\n",
    "        \"../../data/amex-default-prediction/train/train_group_data_{}.csv\".format(idx)\n",
    "    )\n",
    "\n",
    "    gc.collect()"
   ]
  },
  {
   "cell_type": "markdown",
   "id": "b3256e0c",
   "metadata": {},
   "source": [
    "# Test"
   ]
  },
  {
   "cell_type": "code",
   "execution_count": 8,
   "id": "68eb18ee",
   "metadata": {
    "ExecuteTime": {
     "end_time": "2022-09-05T18:03:05.034976Z",
     "start_time": "2022-09-05T18:03:03.935442Z"
    }
   },
   "outputs": [
    {
     "data": {
      "text/html": [
       "<div>\n",
       "<style scoped>\n",
       "    .dataframe tbody tr th:only-of-type {\n",
       "        vertical-align: middle;\n",
       "    }\n",
       "\n",
       "    .dataframe tbody tr th {\n",
       "        vertical-align: top;\n",
       "    }\n",
       "\n",
       "    .dataframe thead th {\n",
       "        text-align: right;\n",
       "    }\n",
       "</style>\n",
       "<table border=\"1\" class=\"dataframe\">\n",
       "  <thead>\n",
       "    <tr style=\"text-align: right;\">\n",
       "      <th></th>\n",
       "      <th>customer_ID</th>\n",
       "    </tr>\n",
       "  </thead>\n",
       "  <tbody>\n",
       "    <tr>\n",
       "      <th>0</th>\n",
       "      <td>00000469ba478561f23a92a868bd366de6f6527a684c9a...</td>\n",
       "    </tr>\n",
       "    <tr>\n",
       "      <th>1</th>\n",
       "      <td>00001bf2e77ff879fab36aa4fac689b9ba411dae63ae39...</td>\n",
       "    </tr>\n",
       "    <tr>\n",
       "      <th>2</th>\n",
       "      <td>0000210045da4f81e5f122c6bde5c2a617d03eef67f82c...</td>\n",
       "    </tr>\n",
       "    <tr>\n",
       "      <th>3</th>\n",
       "      <td>00003b41e58ede33b8daf61ab56d9952f17c9ad1c3976c...</td>\n",
       "    </tr>\n",
       "    <tr>\n",
       "      <th>4</th>\n",
       "      <td>00004b22eaeeeb0ec976890c1d9bfc14fd9427e98c4ee9...</td>\n",
       "    </tr>\n",
       "    <tr>\n",
       "      <th>...</th>\n",
       "      <td>...</td>\n",
       "    </tr>\n",
       "    <tr>\n",
       "      <th>924616</th>\n",
       "      <td>ffff952c631f2c911b8a2a8ca56ea6e656309a83d2f64c...</td>\n",
       "    </tr>\n",
       "    <tr>\n",
       "      <th>924617</th>\n",
       "      <td>ffffcf5df59e5e0bba2a5ac4578a34e2b5aa64a1546cd3...</td>\n",
       "    </tr>\n",
       "    <tr>\n",
       "      <th>924618</th>\n",
       "      <td>ffffd61f098cc056dbd7d2a21380c4804bbfe60856f475...</td>\n",
       "    </tr>\n",
       "    <tr>\n",
       "      <th>924619</th>\n",
       "      <td>ffffddef1fc3643ea179c93245b68dca0f36941cd83977...</td>\n",
       "    </tr>\n",
       "    <tr>\n",
       "      <th>924620</th>\n",
       "      <td>fffffa7cf7e453e1acc6a1426475d5cb9400859f82ff61...</td>\n",
       "    </tr>\n",
       "  </tbody>\n",
       "</table>\n",
       "<p>924621 rows × 1 columns</p>\n",
       "</div>"
      ],
      "text/plain": [
       "                                              customer_ID\n",
       "0       00000469ba478561f23a92a868bd366de6f6527a684c9a...\n",
       "1       00001bf2e77ff879fab36aa4fac689b9ba411dae63ae39...\n",
       "2       0000210045da4f81e5f122c6bde5c2a617d03eef67f82c...\n",
       "3       00003b41e58ede33b8daf61ab56d9952f17c9ad1c3976c...\n",
       "4       00004b22eaeeeb0ec976890c1d9bfc14fd9427e98c4ee9...\n",
       "...                                                   ...\n",
       "924616  ffff952c631f2c911b8a2a8ca56ea6e656309a83d2f64c...\n",
       "924617  ffffcf5df59e5e0bba2a5ac4578a34e2b5aa64a1546cd3...\n",
       "924618  ffffd61f098cc056dbd7d2a21380c4804bbfe60856f475...\n",
       "924619  ffffddef1fc3643ea179c93245b68dca0f36941cd83977...\n",
       "924620  fffffa7cf7e453e1acc6a1426475d5cb9400859f82ff61...\n",
       "\n",
       "[924621 rows x 1 columns]"
      ]
     },
     "execution_count": 8,
     "metadata": {},
     "output_type": "execute_result"
    },
    {
     "data": {
      "application/javascript": [
       "\n",
       "            setTimeout(function() {\n",
       "                var nbb_cell_id = 8;\n",
       "                var nbb_unformatted_code = \"customer_df = pd.read_sql_query(\\\"SELECT DISTINCT customer_ID FROM test_data\\\", conn)\\ncustomer_df\";\n",
       "                var nbb_formatted_code = \"customer_df = pd.read_sql_query(\\\"SELECT DISTINCT customer_ID FROM test_data\\\", conn)\\ncustomer_df\";\n",
       "                var nbb_cells = Jupyter.notebook.get_cells();\n",
       "                for (var i = 0; i < nbb_cells.length; ++i) {\n",
       "                    if (nbb_cells[i].input_prompt_number == nbb_cell_id) {\n",
       "                        if (nbb_cells[i].get_text() == nbb_unformatted_code) {\n",
       "                             nbb_cells[i].set_text(nbb_formatted_code);\n",
       "                        }\n",
       "                        break;\n",
       "                    }\n",
       "                }\n",
       "            }, 500);\n",
       "            "
      ],
      "text/plain": [
       "<IPython.core.display.Javascript object>"
      ]
     },
     "metadata": {},
     "output_type": "display_data"
    }
   ],
   "source": [
    "customer_df = pd.read_sql_query(\"SELECT DISTINCT customer_ID FROM test_data\", conn)\n",
    "customer_df"
   ]
  },
  {
   "cell_type": "code",
   "execution_count": 9,
   "id": "adb1c1cc",
   "metadata": {
    "ExecuteTime": {
     "end_time": "2022-09-05T18:03:05.040871Z",
     "start_time": "2022-09-05T18:03:05.035866Z"
    }
   },
   "outputs": [
    {
     "data": {
      "text/plain": [
       "30"
      ]
     },
     "execution_count": 9,
     "metadata": {},
     "output_type": "execute_result"
    },
    {
     "data": {
      "application/javascript": [
       "\n",
       "            setTimeout(function() {\n",
       "                var nbb_cell_id = 9;\n",
       "                var nbb_unformatted_code = \"chunks = np.array_split(\\n    customer_df[\\\"customer_ID\\\"].values, int(len(customer_df) / CHUNK_SIZE)\\n)\\nlen(chunks)\";\n",
       "                var nbb_formatted_code = \"chunks = np.array_split(\\n    customer_df[\\\"customer_ID\\\"].values, int(len(customer_df) / CHUNK_SIZE)\\n)\\nlen(chunks)\";\n",
       "                var nbb_cells = Jupyter.notebook.get_cells();\n",
       "                for (var i = 0; i < nbb_cells.length; ++i) {\n",
       "                    if (nbb_cells[i].input_prompt_number == nbb_cell_id) {\n",
       "                        if (nbb_cells[i].get_text() == nbb_unformatted_code) {\n",
       "                             nbb_cells[i].set_text(nbb_formatted_code);\n",
       "                        }\n",
       "                        break;\n",
       "                    }\n",
       "                }\n",
       "            }, 500);\n",
       "            "
      ],
      "text/plain": [
       "<IPython.core.display.Javascript object>"
      ]
     },
     "metadata": {},
     "output_type": "display_data"
    }
   ],
   "source": [
    "chunks = np.array_split(\n",
    "    customer_df[\"customer_ID\"].values, int(len(customer_df) / CHUNK_SIZE)\n",
    ")\n",
    "len(chunks)"
   ]
  },
  {
   "cell_type": "code",
   "execution_count": 10,
   "id": "2807ffea",
   "metadata": {
    "ExecuteTime": {
     "end_time": "2022-09-05T19:13:11.200758Z",
     "start_time": "2022-09-05T18:03:05.042131Z"
    }
   },
   "outputs": [
    {
     "data": {
      "application/vnd.jupyter.widget-view+json": {
       "model_id": "b3d857d37e2e4b65b004150806246445",
       "version_major": 2,
       "version_minor": 0
      },
      "text/plain": [
       "  0%|          | 0/30 [00:00<?, ?it/s]"
      ]
     },
     "metadata": {},
     "output_type": "display_data"
    },
    {
     "data": {
      "application/javascript": [
       "\n",
       "            setTimeout(function() {\n",
       "                var nbb_cell_id = 10;\n",
       "                var nbb_unformatted_code = \"for idx, customer_ids in enumerate(tqdm(chunks), 1):\\n    test_sub_df = process_v2(customer_ids, conn, test_mode=True)\\n\\n    test_sub_df.to_csv(\\n        \\\"../../data/amex-default-prediction/test/test_group_data_{}.csv\\\".format(idx)\\n    )\\n\\n    gc.collect()\";\n",
       "                var nbb_formatted_code = \"for idx, customer_ids in enumerate(tqdm(chunks), 1):\\n    test_sub_df = process_v2(customer_ids, conn, test_mode=True)\\n\\n    test_sub_df.to_csv(\\n        \\\"../../data/amex-default-prediction/test/test_group_data_{}.csv\\\".format(idx)\\n    )\\n\\n    gc.collect()\";\n",
       "                var nbb_cells = Jupyter.notebook.get_cells();\n",
       "                for (var i = 0; i < nbb_cells.length; ++i) {\n",
       "                    if (nbb_cells[i].input_prompt_number == nbb_cell_id) {\n",
       "                        if (nbb_cells[i].get_text() == nbb_unformatted_code) {\n",
       "                             nbb_cells[i].set_text(nbb_formatted_code);\n",
       "                        }\n",
       "                        break;\n",
       "                    }\n",
       "                }\n",
       "            }, 500);\n",
       "            "
      ],
      "text/plain": [
       "<IPython.core.display.Javascript object>"
      ]
     },
     "metadata": {},
     "output_type": "display_data"
    }
   ],
   "source": [
    "for idx, customer_ids in enumerate(tqdm(chunks), 1):\n",
    "    test_sub_df = process_v2(customer_ids, conn, test_mode=True)\n",
    "\n",
    "    test_sub_df.to_csv(\n",
    "        \"../../data/amex-default-prediction/test/test_group_data_{}.csv\".format(idx)\n",
    "    )\n",
    "\n",
    "    gc.collect()"
   ]
  },
  {
   "cell_type": "code",
   "execution_count": null,
   "id": "c36974ae",
   "metadata": {},
   "outputs": [],
   "source": []
  },
  {
   "cell_type": "code",
   "execution_count": null,
   "id": "0f81ff8e",
   "metadata": {},
   "outputs": [],
   "source": []
  },
  {
   "cell_type": "code",
   "execution_count": null,
   "id": "8192e5d4",
   "metadata": {},
   "outputs": [],
   "source": []
  },
  {
   "cell_type": "code",
   "execution_count": null,
   "id": "6adfa9cc",
   "metadata": {},
   "outputs": [],
   "source": []
  }
 ],
 "metadata": {
  "kernelspec": {
   "display_name": "Python 3 (ipykernel)",
   "language": "python",
   "name": "python3"
  },
  "language_info": {
   "codemirror_mode": {
    "name": "ipython",
    "version": 3
   },
   "file_extension": ".py",
   "mimetype": "text/x-python",
   "name": "python",
   "nbconvert_exporter": "python",
   "pygments_lexer": "ipython3",
   "version": "3.9.12"
  }
 },
 "nbformat": 4,
 "nbformat_minor": 5
}
