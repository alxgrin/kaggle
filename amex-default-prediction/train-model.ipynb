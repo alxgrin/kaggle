{
 "cells": [
  {
   "cell_type": "markdown",
   "id": "1af8abb0",
   "metadata": {},
   "source": [
    "# Train model"
   ]
  },
  {
   "cell_type": "code",
   "execution_count": 1,
   "id": "8ad0a50a",
   "metadata": {
    "ExecuteTime": {
     "end_time": "2022-09-05T18:03:28.529386Z",
     "start_time": "2022-09-05T18:03:28.318772Z"
    }
   },
   "outputs": [],
   "source": [
    "import os\n",
    "\n",
    "import numpy as np\n",
    "import pandas as pd\n",
    "from catboost import sum_models, to_classifier\n",
    "from tqdm.notebook import tqdm"
   ]
  },
  {
   "cell_type": "code",
   "execution_count": 2,
   "id": "ca345026",
   "metadata": {
    "ExecuteTime": {
     "end_time": "2022-09-05T18:03:28.719014Z",
     "start_time": "2022-09-05T18:03:28.530605Z"
    }
   },
   "outputs": [],
   "source": [
    "from models import cbm_v2"
   ]
  },
  {
   "cell_type": "code",
   "execution_count": 3,
   "id": "cc60e05a",
   "metadata": {
    "ExecuteTime": {
     "end_time": "2022-09-05T18:03:28.777529Z",
     "start_time": "2022-09-05T18:03:28.723952Z"
    }
   },
   "outputs": [
    {
     "data": {
      "application/javascript": [
       "\n",
       "            setTimeout(function() {\n",
       "                var nbb_cell_id = 3;\n",
       "                var nbb_unformatted_code = \"%load_ext nb_black\";\n",
       "                var nbb_formatted_code = \"%load_ext nb_black\";\n",
       "                var nbb_cells = Jupyter.notebook.get_cells();\n",
       "                for (var i = 0; i < nbb_cells.length; ++i) {\n",
       "                    if (nbb_cells[i].input_prompt_number == nbb_cell_id) {\n",
       "                        if (nbb_cells[i].get_text() == nbb_unformatted_code) {\n",
       "                             nbb_cells[i].set_text(nbb_formatted_code);\n",
       "                        }\n",
       "                        break;\n",
       "                    }\n",
       "                }\n",
       "            }, 500);\n",
       "            "
      ],
      "text/plain": [
       "<IPython.core.display.Javascript object>"
      ]
     },
     "metadata": {},
     "output_type": "display_data"
    }
   ],
   "source": [
    "%load_ext nb_black"
   ]
  },
  {
   "cell_type": "code",
   "execution_count": 4,
   "id": "36cbe8e3",
   "metadata": {
    "ExecuteTime": {
     "end_time": "2022-09-05T18:03:28.784794Z",
     "start_time": "2022-09-05T18:03:28.779168Z"
    }
   },
   "outputs": [
    {
     "data": {
      "application/javascript": [
       "\n",
       "            setTimeout(function() {\n",
       "                var nbb_cell_id = 4;\n",
       "                var nbb_unformatted_code = \"DATA_DIR = \\\"../../data/amex-default-prediction/train\\\"\";\n",
       "                var nbb_formatted_code = \"DATA_DIR = \\\"../../data/amex-default-prediction/train\\\"\";\n",
       "                var nbb_cells = Jupyter.notebook.get_cells();\n",
       "                for (var i = 0; i < nbb_cells.length; ++i) {\n",
       "                    if (nbb_cells[i].input_prompt_number == nbb_cell_id) {\n",
       "                        if (nbb_cells[i].get_text() == nbb_unformatted_code) {\n",
       "                             nbb_cells[i].set_text(nbb_formatted_code);\n",
       "                        }\n",
       "                        break;\n",
       "                    }\n",
       "                }\n",
       "            }, 500);\n",
       "            "
      ],
      "text/plain": [
       "<IPython.core.display.Javascript object>"
      ]
     },
     "metadata": {},
     "output_type": "display_data"
    }
   ],
   "source": [
    "DATA_DIR = \"../../data/amex-default-prediction/train\""
   ]
  },
  {
   "cell_type": "markdown",
   "id": "e3a0284e",
   "metadata": {},
   "source": [
    "# Train loop"
   ]
  },
  {
   "cell_type": "code",
   "execution_count": 5,
   "id": "dfbea015",
   "metadata": {
    "ExecuteTime": {
     "end_time": "2022-09-05T18:03:28.796409Z",
     "start_time": "2022-09-05T18:03:28.786566Z"
    }
   },
   "outputs": [
    {
     "data": {
      "text/plain": [
       "203"
      ]
     },
     "execution_count": 5,
     "metadata": {},
     "output_type": "execute_result"
    },
    {
     "data": {
      "application/javascript": [
       "\n",
       "            setTimeout(function() {\n",
       "                var nbb_cell_id = 5;\n",
       "                var nbb_unformatted_code = \"selected_features = np.array(\\n    open(\\\"../../data/amex-default-prediction/X_selected_features.txt\\\")\\n    .read()\\n    .splitlines()\\n)\\nlen(selected_features)\";\n",
       "                var nbb_formatted_code = \"selected_features = np.array(\\n    open(\\\"../../data/amex-default-prediction/X_selected_features.txt\\\")\\n    .read()\\n    .splitlines()\\n)\\nlen(selected_features)\";\n",
       "                var nbb_cells = Jupyter.notebook.get_cells();\n",
       "                for (var i = 0; i < nbb_cells.length; ++i) {\n",
       "                    if (nbb_cells[i].input_prompt_number == nbb_cell_id) {\n",
       "                        if (nbb_cells[i].get_text() == nbb_unformatted_code) {\n",
       "                             nbb_cells[i].set_text(nbb_formatted_code);\n",
       "                        }\n",
       "                        break;\n",
       "                    }\n",
       "                }\n",
       "            }, 500);\n",
       "            "
      ],
      "text/plain": [
       "<IPython.core.display.Javascript object>"
      ]
     },
     "metadata": {},
     "output_type": "display_data"
    }
   ],
   "source": [
    "selected_features = np.array(\n",
    "    open(\"../../data/amex-default-prediction/X_selected_features.txt\")\n",
    "    .read()\n",
    "    .splitlines()\n",
    ")\n",
    "len(selected_features)"
   ]
  },
  {
   "cell_type": "code",
   "execution_count": 6,
   "id": "6c457ad5",
   "metadata": {
    "ExecuteTime": {
     "end_time": "2022-09-05T18:03:28.912345Z",
     "start_time": "2022-09-05T18:03:28.797694Z"
    }
   },
   "outputs": [
    {
     "name": "stdout",
     "output_type": "stream",
     "text": [
      "train_group_data_10.csv  train_group_data_15.csv  train_group_data_5.csv\r\n",
      "train_group_data_11.csv  train_group_data_1.csv   train_group_data_6.csv\r\n",
      "train_group_data_12.csv  train_group_data_2.csv   train_group_data_7.csv\r\n",
      "train_group_data_13.csv  train_group_data_3.csv   train_group_data_8.csv\r\n",
      "train_group_data_14.csv  train_group_data_4.csv   train_group_data_9.csv\r\n"
     ]
    },
    {
     "data": {
      "application/javascript": [
       "\n",
       "            setTimeout(function() {\n",
       "                var nbb_cell_id = 6;\n",
       "                var nbb_unformatted_code = \"!ls $DATA_DIR\";\n",
       "                var nbb_formatted_code = \"!ls $DATA_DIR\";\n",
       "                var nbb_cells = Jupyter.notebook.get_cells();\n",
       "                for (var i = 0; i < nbb_cells.length; ++i) {\n",
       "                    if (nbb_cells[i].input_prompt_number == nbb_cell_id) {\n",
       "                        if (nbb_cells[i].get_text() == nbb_unformatted_code) {\n",
       "                             nbb_cells[i].set_text(nbb_formatted_code);\n",
       "                        }\n",
       "                        break;\n",
       "                    }\n",
       "                }\n",
       "            }, 500);\n",
       "            "
      ],
      "text/plain": [
       "<IPython.core.display.Javascript object>"
      ]
     },
     "metadata": {},
     "output_type": "display_data"
    }
   ],
   "source": [
    "!ls $DATA_DIR"
   ]
  },
  {
   "cell_type": "code",
   "execution_count": 7,
   "id": "d88b8393",
   "metadata": {
    "ExecuteTime": {
     "end_time": "2022-09-05T18:53:58.417771Z",
     "start_time": "2022-09-05T18:03:28.914086Z"
    }
   },
   "outputs": [
    {
     "data": {
      "application/vnd.jupyter.widget-view+json": {
       "model_id": "3201fc15bc0f45c389d0f0aae5fca428",
       "version_major": 2,
       "version_minor": 0
      },
      "text/plain": [
       "  0%|          | 0/15 [00:00<?, ?it/s]"
      ]
     },
     "metadata": {},
     "output_type": "display_data"
    },
    {
     "data": {
      "application/javascript": [
       "\n",
       "            setTimeout(function() {\n",
       "                var nbb_cell_id = 7;\n",
       "                var nbb_unformatted_code = \"models = []\\n\\nfor step, file_name in enumerate(tqdm(os.listdir(DATA_DIR)), 1):\\n    df = pd.read_csv(os.path.join(DATA_DIR, file_name)).set_index(\\\"customer_ID\\\")\\n\\n    sub_model = cbm_v2(df, selected_features)\\n    models.append(sub_model)\";\n",
       "                var nbb_formatted_code = \"models = []\\n\\nfor step, file_name in enumerate(tqdm(os.listdir(DATA_DIR)), 1):\\n    df = pd.read_csv(os.path.join(DATA_DIR, file_name)).set_index(\\\"customer_ID\\\")\\n\\n    sub_model = cbm_v2(df, selected_features)\\n    models.append(sub_model)\";\n",
       "                var nbb_cells = Jupyter.notebook.get_cells();\n",
       "                for (var i = 0; i < nbb_cells.length; ++i) {\n",
       "                    if (nbb_cells[i].input_prompt_number == nbb_cell_id) {\n",
       "                        if (nbb_cells[i].get_text() == nbb_unformatted_code) {\n",
       "                             nbb_cells[i].set_text(nbb_formatted_code);\n",
       "                        }\n",
       "                        break;\n",
       "                    }\n",
       "                }\n",
       "            }, 500);\n",
       "            "
      ],
      "text/plain": [
       "<IPython.core.display.Javascript object>"
      ]
     },
     "metadata": {},
     "output_type": "display_data"
    }
   ],
   "source": [
    "models = []\n",
    "\n",
    "for step, file_name in enumerate(tqdm(os.listdir(DATA_DIR)), 1):\n",
    "    df = pd.read_csv(os.path.join(DATA_DIR, file_name)).set_index(\"customer_ID\")\n",
    "\n",
    "    sub_model = cbm_v2(df, selected_features)\n",
    "    models.append(sub_model)"
   ]
  },
  {
   "cell_type": "code",
   "execution_count": 8,
   "id": "6ba5312a",
   "metadata": {
    "ExecuteTime": {
     "end_time": "2022-09-05T18:53:58.423065Z",
     "start_time": "2022-09-05T18:53:58.418922Z"
    }
   },
   "outputs": [
    {
     "data": {
      "text/plain": [
       "[<catboost.core.CatBoostClassifier at 0x7f5846cd2dc0>,\n",
       " <catboost.core.CatBoostClassifier at 0x7f5846c99af0>,\n",
       " <catboost.core.CatBoostClassifier at 0x7f5845585be0>,\n",
       " <catboost.core.CatBoostClassifier at 0x7f58455815b0>,\n",
       " <catboost.core.CatBoostClassifier at 0x7f58455208e0>,\n",
       " <catboost.core.CatBoostClassifier at 0x7f5845c971c0>,\n",
       " <catboost.core.CatBoostClassifier at 0x7f5845547790>,\n",
       " <catboost.core.CatBoostClassifier at 0x7f5846d34250>,\n",
       " <catboost.core.CatBoostClassifier at 0x7f5846d3d4f0>,\n",
       " <catboost.core.CatBoostClassifier at 0x7f5845c699d0>,\n",
       " <catboost.core.CatBoostClassifier at 0x7f5846d129a0>,\n",
       " <catboost.core.CatBoostClassifier at 0x7f5846b81640>,\n",
       " <catboost.core.CatBoostClassifier at 0x7f5846ce92e0>,\n",
       " <catboost.core.CatBoostClassifier at 0x7f58455850d0>,\n",
       " <catboost.core.CatBoostClassifier at 0x7f5846d1e7c0>]"
      ]
     },
     "execution_count": 8,
     "metadata": {},
     "output_type": "execute_result"
    },
    {
     "data": {
      "application/javascript": [
       "\n",
       "            setTimeout(function() {\n",
       "                var nbb_cell_id = 8;\n",
       "                var nbb_unformatted_code = \"models\";\n",
       "                var nbb_formatted_code = \"models\";\n",
       "                var nbb_cells = Jupyter.notebook.get_cells();\n",
       "                for (var i = 0; i < nbb_cells.length; ++i) {\n",
       "                    if (nbb_cells[i].input_prompt_number == nbb_cell_id) {\n",
       "                        if (nbb_cells[i].get_text() == nbb_unformatted_code) {\n",
       "                             nbb_cells[i].set_text(nbb_formatted_code);\n",
       "                        }\n",
       "                        break;\n",
       "                    }\n",
       "                }\n",
       "            }, 500);\n",
       "            "
      ],
      "text/plain": [
       "<IPython.core.display.Javascript object>"
      ]
     },
     "metadata": {},
     "output_type": "display_data"
    }
   ],
   "source": [
    "models"
   ]
  },
  {
   "cell_type": "code",
   "execution_count": 9,
   "id": "fab8af0e",
   "metadata": {
    "ExecuteTime": {
     "end_time": "2022-09-05T18:53:58.631746Z",
     "start_time": "2022-09-05T18:53:58.424885Z"
    }
   },
   "outputs": [
    {
     "data": {
      "text/plain": [
       "<catboost.core.CatBoostClassifier at 0x7f5846cd6910>"
      ]
     },
     "execution_count": 9,
     "metadata": {},
     "output_type": "execute_result"
    },
    {
     "data": {
      "application/javascript": [
       "\n",
       "            setTimeout(function() {\n",
       "                var nbb_cell_id = 9;\n",
       "                var nbb_unformatted_code = \"models_avrg = sum_models(models, weights=[1.0 / len(models)] * len(models))\\nmodels_avrg = to_classifier(models_avrg)\\nmodels_avrg\";\n",
       "                var nbb_formatted_code = \"models_avrg = sum_models(models, weights=[1.0 / len(models)] * len(models))\\nmodels_avrg = to_classifier(models_avrg)\\nmodels_avrg\";\n",
       "                var nbb_cells = Jupyter.notebook.get_cells();\n",
       "                for (var i = 0; i < nbb_cells.length; ++i) {\n",
       "                    if (nbb_cells[i].input_prompt_number == nbb_cell_id) {\n",
       "                        if (nbb_cells[i].get_text() == nbb_unformatted_code) {\n",
       "                             nbb_cells[i].set_text(nbb_formatted_code);\n",
       "                        }\n",
       "                        break;\n",
       "                    }\n",
       "                }\n",
       "            }, 500);\n",
       "            "
      ],
      "text/plain": [
       "<IPython.core.display.Javascript object>"
      ]
     },
     "metadata": {},
     "output_type": "display_data"
    }
   ],
   "source": [
    "models_avrg = sum_models(models, weights=[1.0 / len(models)] * len(models))\n",
    "models_avrg = to_classifier(models_avrg)\n",
    "models_avrg"
   ]
  },
  {
   "cell_type": "code",
   "execution_count": 10,
   "id": "f19c734c",
   "metadata": {
    "ExecuteTime": {
     "end_time": "2022-09-05T18:53:58.736200Z",
     "start_time": "2022-09-05T18:53:58.632928Z"
    }
   },
   "outputs": [
    {
     "data": {
      "application/javascript": [
       "\n",
       "            setTimeout(function() {\n",
       "                var nbb_cell_id = 10;\n",
       "                var nbb_unformatted_code = \"model_save_path = os.path.join(\\n    os.path.dirname(DATA_DIR), \\\"models\\\", \\\"catboost-model_v2.cbm\\\"\\n)\\nmodels_avrg.save_model(model_save_path)\";\n",
       "                var nbb_formatted_code = \"model_save_path = os.path.join(\\n    os.path.dirname(DATA_DIR), \\\"models\\\", \\\"catboost-model_v2.cbm\\\"\\n)\\nmodels_avrg.save_model(model_save_path)\";\n",
       "                var nbb_cells = Jupyter.notebook.get_cells();\n",
       "                for (var i = 0; i < nbb_cells.length; ++i) {\n",
       "                    if (nbb_cells[i].input_prompt_number == nbb_cell_id) {\n",
       "                        if (nbb_cells[i].get_text() == nbb_unformatted_code) {\n",
       "                             nbb_cells[i].set_text(nbb_formatted_code);\n",
       "                        }\n",
       "                        break;\n",
       "                    }\n",
       "                }\n",
       "            }, 500);\n",
       "            "
      ],
      "text/plain": [
       "<IPython.core.display.Javascript object>"
      ]
     },
     "metadata": {},
     "output_type": "display_data"
    }
   ],
   "source": [
    "model_save_path = os.path.join(\n",
    "    os.path.dirname(DATA_DIR), \"models\", \"catboost-model_v2.cbm\"\n",
    ")\n",
    "models_avrg.save_model(model_save_path)"
   ]
  },
  {
   "cell_type": "code",
   "execution_count": null,
   "id": "d25ca0e2",
   "metadata": {},
   "outputs": [],
   "source": []
  },
  {
   "cell_type": "code",
   "execution_count": null,
   "id": "191ae6c9",
   "metadata": {},
   "outputs": [],
   "source": []
  },
  {
   "cell_type": "code",
   "execution_count": null,
   "id": "e58a45cf",
   "metadata": {},
   "outputs": [],
   "source": []
  },
  {
   "cell_type": "code",
   "execution_count": null,
   "id": "47c3909b",
   "metadata": {},
   "outputs": [],
   "source": []
  }
 ],
 "metadata": {
  "kernelspec": {
   "display_name": "Python 3 (ipykernel)",
   "language": "python",
   "name": "python3"
  },
  "language_info": {
   "codemirror_mode": {
    "name": "ipython",
    "version": 3
   },
   "file_extension": ".py",
   "mimetype": "text/x-python",
   "name": "python",
   "nbconvert_exporter": "python",
   "pygments_lexer": "ipython3",
   "version": "3.9.12"
  }
 },
 "nbformat": 4,
 "nbformat_minor": 5
}
